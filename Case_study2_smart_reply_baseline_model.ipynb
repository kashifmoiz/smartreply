{
  "nbformat": 4,
  "nbformat_minor": 0,
  "metadata": {
    "colab": {
      "provenance": []
    },
    "kernelspec": {
      "name": "python3",
      "display_name": "Python 3"
    },
    "language_info": {
      "name": "python"
    },
    "gpuClass": "standard"
  },
  "cells": [
    {
      "cell_type": "code",
      "execution_count": null,
      "metadata": {
        "id": "__59dgSHvX2X"
      },
      "outputs": [],
      "source": [
        "%matplotlib inline\n",
        "import pandas as pd\n",
        "import numpy as np\n",
        "import matplotlib.pyplot as plt\n",
        "import pickle\n",
        "import tensorflow as tf\n",
        "import os\n",
        "from  tqdm import tqdm\n",
        "from tensorflow.python.keras.layers import Layer\n",
        "from tensorflow.python.keras import backend as K\n",
        "from tensorflow.keras import layers, activations, models, preprocessing, utils\n",
        "from gensim.models import Word2Vec\n",
        "import re"
      ]
    },
    {
      "cell_type": "code",
      "source": [
        "# Load the Drive helper and mount\n",
        "from google.colab import drive\n",
        "# This will prompt for authorization.\n",
        "drive.mount('/content/drive')"
      ],
      "metadata": {
        "id": "FdanSpA3XaCE"
      },
      "execution_count": null,
      "outputs": []
    },
    {
      "cell_type": "code",
      "source": [
        "import json\n",
        "arr = []\n",
        "question = []\n",
        "answer = []\n",
        "with open(\"/content/sample_data/train_data.txt\",\"rb\") as json_file:\n",
        "    data = json.load(json_file)\n",
        "    for data_ in data['data']:\n",
        "        for j,para in enumerate(data_['paragraphs']):\n",
        "          for k,qas in enumerate(para['qas']):\n",
        "            for ans in qas['answers']:\n",
        "              answer.append(ans['text'])\n",
        "              question.append(qas['question'])  \n",
        "              break"
      ],
      "metadata": {
        "id": "yG5dQqi19Unu"
      },
      "execution_count": null,
      "outputs": []
    },
    {
      "cell_type": "code",
      "source": [
        "data['data']"
      ],
      "metadata": {
        "id": "OZSrJW_R9oPc"
      },
      "execution_count": null,
      "outputs": []
    },
    {
      "cell_type": "code",
      "source": [
        "question[:5]"
      ],
      "metadata": {
        "id": "OkrpTHdw-hq4",
        "colab": {
          "base_uri": "https://localhost:8080/"
        },
        "outputId": "7ce0e524-8b07-4ca0-ce5f-f8c7d2c2da7e"
      },
      "execution_count": null,
      "outputs": [
        {
          "output_type": "execute_result",
          "data": {
            "text/plain": [
              "['When did Beyonce start becoming popular?',\n",
              " 'What areas did Beyonce compete in when she was growing up?',\n",
              " \"When did Beyonce leave Destiny's Child and become a solo singer?\",\n",
              " 'In what city and state did Beyonce  grow up? ',\n",
              " 'In which decade did Beyonce become famous?']"
            ]
          },
          "metadata": {},
          "execution_count": 22
        }
      ]
    },
    {
      "cell_type": "code",
      "source": [
        "len(answer), len(question)"
      ],
      "metadata": {
        "id": "8Ud7TIm_-5XM",
        "colab": {
          "base_uri": "https://localhost:8080/"
        },
        "outputId": "1150332f-167c-4fe9-aa68-f5a21aa83a69"
      },
      "execution_count": null,
      "outputs": [
        {
          "output_type": "execute_result",
          "data": {
            "text/plain": [
              "(86821, 86821)"
            ]
          },
          "metadata": {},
          "execution_count": 5
        }
      ]
    },
    {
      "cell_type": "code",
      "source": [
        "answer[:5]"
      ],
      "metadata": {
        "id": "7dGjkG59-pIY",
        "colab": {
          "base_uri": "https://localhost:8080/"
        },
        "outputId": "9c1df168-7cd1-4a61-f1e3-91bb0d7b3af8"
      },
      "execution_count": null,
      "outputs": [
        {
          "output_type": "execute_result",
          "data": {
            "text/plain": [
              "['in the late 1990s',\n",
              " 'singing and dancing',\n",
              " '2003',\n",
              " 'Houston, Texas',\n",
              " 'late 1990s']"
            ]
          },
          "metadata": {},
          "execution_count": 23
        }
      ]
    },
    {
      "cell_type": "markdown",
      "source": [
        "First we will try to load train dataset which is in json format, so we shall extract the 'question' and 'reply' sections from it."
      ],
      "metadata": {
        "id": "dJbjvaMpEHcP"
      }
    },
    {
      "cell_type": "code",
      "source": [
        "train_df = pd.DataFrame(list(zip(question, answer)), columns =['question', 'reply'])"
      ],
      "metadata": {
        "id": "5lm-0BbC9pbH"
      },
      "execution_count": null,
      "outputs": []
    },
    {
      "cell_type": "code",
      "source": [
        "train_df.head(2)"
      ],
      "metadata": {
        "id": "hCiLIBs9D7fg",
        "colab": {
          "base_uri": "https://localhost:8080/",
          "height": 112
        },
        "outputId": "1a624c66-1af5-4853-dc8c-fffb35e0e767"
      },
      "execution_count": null,
      "outputs": [
        {
          "output_type": "execute_result",
          "data": {
            "text/plain": [
              "                                            question                reply\n",
              "0           When did Beyonce start becoming popular?    in the late 1990s\n",
              "1  What areas did Beyonce compete in when she was...  singing and dancing"
            ],
            "text/html": [
              "\n",
              "  <div id=\"df-58eb660c-9c6e-47db-a293-7313df37f5ff\">\n",
              "    <div class=\"colab-df-container\">\n",
              "      <div>\n",
              "<style scoped>\n",
              "    .dataframe tbody tr th:only-of-type {\n",
              "        vertical-align: middle;\n",
              "    }\n",
              "\n",
              "    .dataframe tbody tr th {\n",
              "        vertical-align: top;\n",
              "    }\n",
              "\n",
              "    .dataframe thead th {\n",
              "        text-align: right;\n",
              "    }\n",
              "</style>\n",
              "<table border=\"1\" class=\"dataframe\">\n",
              "  <thead>\n",
              "    <tr style=\"text-align: right;\">\n",
              "      <th></th>\n",
              "      <th>question</th>\n",
              "      <th>reply</th>\n",
              "    </tr>\n",
              "  </thead>\n",
              "  <tbody>\n",
              "    <tr>\n",
              "      <th>0</th>\n",
              "      <td>When did Beyonce start becoming popular?</td>\n",
              "      <td>in the late 1990s</td>\n",
              "    </tr>\n",
              "    <tr>\n",
              "      <th>1</th>\n",
              "      <td>What areas did Beyonce compete in when she was...</td>\n",
              "      <td>singing and dancing</td>\n",
              "    </tr>\n",
              "  </tbody>\n",
              "</table>\n",
              "</div>\n",
              "      <button class=\"colab-df-convert\" onclick=\"convertToInteractive('df-58eb660c-9c6e-47db-a293-7313df37f5ff')\"\n",
              "              title=\"Convert this dataframe to an interactive table.\"\n",
              "              style=\"display:none;\">\n",
              "        \n",
              "  <svg xmlns=\"http://www.w3.org/2000/svg\" height=\"24px\"viewBox=\"0 0 24 24\"\n",
              "       width=\"24px\">\n",
              "    <path d=\"M0 0h24v24H0V0z\" fill=\"none\"/>\n",
              "    <path d=\"M18.56 5.44l.94 2.06.94-2.06 2.06-.94-2.06-.94-.94-2.06-.94 2.06-2.06.94zm-11 1L8.5 8.5l.94-2.06 2.06-.94-2.06-.94L8.5 2.5l-.94 2.06-2.06.94zm10 10l.94 2.06.94-2.06 2.06-.94-2.06-.94-.94-2.06-.94 2.06-2.06.94z\"/><path d=\"M17.41 7.96l-1.37-1.37c-.4-.4-.92-.59-1.43-.59-.52 0-1.04.2-1.43.59L10.3 9.45l-7.72 7.72c-.78.78-.78 2.05 0 2.83L4 21.41c.39.39.9.59 1.41.59.51 0 1.02-.2 1.41-.59l7.78-7.78 2.81-2.81c.8-.78.8-2.07 0-2.86zM5.41 20L4 18.59l7.72-7.72 1.47 1.35L5.41 20z\"/>\n",
              "  </svg>\n",
              "      </button>\n",
              "      \n",
              "  <style>\n",
              "    .colab-df-container {\n",
              "      display:flex;\n",
              "      flex-wrap:wrap;\n",
              "      gap: 12px;\n",
              "    }\n",
              "\n",
              "    .colab-df-convert {\n",
              "      background-color: #E8F0FE;\n",
              "      border: none;\n",
              "      border-radius: 50%;\n",
              "      cursor: pointer;\n",
              "      display: none;\n",
              "      fill: #1967D2;\n",
              "      height: 32px;\n",
              "      padding: 0 0 0 0;\n",
              "      width: 32px;\n",
              "    }\n",
              "\n",
              "    .colab-df-convert:hover {\n",
              "      background-color: #E2EBFA;\n",
              "      box-shadow: 0px 1px 2px rgba(60, 64, 67, 0.3), 0px 1px 3px 1px rgba(60, 64, 67, 0.15);\n",
              "      fill: #174EA6;\n",
              "    }\n",
              "\n",
              "    [theme=dark] .colab-df-convert {\n",
              "      background-color: #3B4455;\n",
              "      fill: #D2E3FC;\n",
              "    }\n",
              "\n",
              "    [theme=dark] .colab-df-convert:hover {\n",
              "      background-color: #434B5C;\n",
              "      box-shadow: 0px 1px 3px 1px rgba(0, 0, 0, 0.15);\n",
              "      filter: drop-shadow(0px 1px 2px rgba(0, 0, 0, 0.3));\n",
              "      fill: #FFFFFF;\n",
              "    }\n",
              "  </style>\n",
              "\n",
              "      <script>\n",
              "        const buttonEl =\n",
              "          document.querySelector('#df-58eb660c-9c6e-47db-a293-7313df37f5ff button.colab-df-convert');\n",
              "        buttonEl.style.display =\n",
              "          google.colab.kernel.accessAllowed ? 'block' : 'none';\n",
              "\n",
              "        async function convertToInteractive(key) {\n",
              "          const element = document.querySelector('#df-58eb660c-9c6e-47db-a293-7313df37f5ff');\n",
              "          const dataTable =\n",
              "            await google.colab.kernel.invokeFunction('convertToInteractive',\n",
              "                                                     [key], {});\n",
              "          if (!dataTable) return;\n",
              "\n",
              "          const docLinkHtml = 'Like what you see? Visit the ' +\n",
              "            '<a target=\"_blank\" href=https://colab.research.google.com/notebooks/data_table.ipynb>data table notebook</a>'\n",
              "            + ' to learn more about interactive tables.';\n",
              "          element.innerHTML = '';\n",
              "          dataTable['output_type'] = 'display_data';\n",
              "          await google.colab.output.renderOutput(dataTable, element);\n",
              "          const docLink = document.createElement('div');\n",
              "          docLink.innerHTML = docLinkHtml;\n",
              "          element.appendChild(docLink);\n",
              "        }\n",
              "      </script>\n",
              "    </div>\n",
              "  </div>\n",
              "  "
            ]
          },
          "metadata": {},
          "execution_count": 25
        }
      ]
    },
    {
      "cell_type": "markdown",
      "source": [
        "Loading the QA dataset"
      ],
      "metadata": {
        "id": "Lr07gqe_N7Gk"
      }
    },
    {
      "cell_type": "code",
      "source": [
        "qa_df = pd.read_csv(r'/content/sample_data/qa_dataset.csv', encoding = \"ISO-8859-1\", low_memory=False)"
      ],
      "metadata": {
        "id": "oJPzzvwbEE-j"
      },
      "execution_count": null,
      "outputs": []
    },
    {
      "cell_type": "code",
      "source": [
        "len(qa_df)"
      ],
      "metadata": {
        "id": "VuzAnAooE3na",
        "colab": {
          "base_uri": "https://localhost:8080/"
        },
        "outputId": "59b642bf-e097-4589-f54f-b3a70f8f4831"
      },
      "execution_count": null,
      "outputs": [
        {
          "output_type": "execute_result",
          "data": {
            "text/plain": [
              "2917"
            ]
          },
          "metadata": {},
          "execution_count": 27
        }
      ]
    },
    {
      "cell_type": "code",
      "source": [
        "qa_df.head(2)"
      ],
      "metadata": {
        "id": "W4Cn9NKkOUJ9",
        "colab": {
          "base_uri": "https://localhost:8080/",
          "height": 112
        },
        "outputId": "d4eca0df-dba3-4371-b285-8f2b0337e73f"
      },
      "execution_count": null,
      "outputs": [
        {
          "output_type": "execute_result",
          "data": {
            "text/plain": [
              "       ArticleTitle                                    Question Answer  \\\n",
              "0  Alessandro_Volta             Was Volta an Italian physicist?    yes   \n",
              "1  Alessandro_Volta  Is Volta buried in the city of Pittsburgh?     no   \n",
              "\n",
              "  DifficultyFromQuestioner DifficultyFromAnswerer    ArticleFile  \n",
              "0                     easy                   easy  data/set4/a10  \n",
              "1                     easy                   easy  data/set4/a10  "
            ],
            "text/html": [
              "\n",
              "  <div id=\"df-56c004b2-a928-41c2-830a-c43baa6e14a8\">\n",
              "    <div class=\"colab-df-container\">\n",
              "      <div>\n",
              "<style scoped>\n",
              "    .dataframe tbody tr th:only-of-type {\n",
              "        vertical-align: middle;\n",
              "    }\n",
              "\n",
              "    .dataframe tbody tr th {\n",
              "        vertical-align: top;\n",
              "    }\n",
              "\n",
              "    .dataframe thead th {\n",
              "        text-align: right;\n",
              "    }\n",
              "</style>\n",
              "<table border=\"1\" class=\"dataframe\">\n",
              "  <thead>\n",
              "    <tr style=\"text-align: right;\">\n",
              "      <th></th>\n",
              "      <th>ArticleTitle</th>\n",
              "      <th>Question</th>\n",
              "      <th>Answer</th>\n",
              "      <th>DifficultyFromQuestioner</th>\n",
              "      <th>DifficultyFromAnswerer</th>\n",
              "      <th>ArticleFile</th>\n",
              "    </tr>\n",
              "  </thead>\n",
              "  <tbody>\n",
              "    <tr>\n",
              "      <th>0</th>\n",
              "      <td>Alessandro_Volta</td>\n",
              "      <td>Was Volta an Italian physicist?</td>\n",
              "      <td>yes</td>\n",
              "      <td>easy</td>\n",
              "      <td>easy</td>\n",
              "      <td>data/set4/a10</td>\n",
              "    </tr>\n",
              "    <tr>\n",
              "      <th>1</th>\n",
              "      <td>Alessandro_Volta</td>\n",
              "      <td>Is Volta buried in the city of Pittsburgh?</td>\n",
              "      <td>no</td>\n",
              "      <td>easy</td>\n",
              "      <td>easy</td>\n",
              "      <td>data/set4/a10</td>\n",
              "    </tr>\n",
              "  </tbody>\n",
              "</table>\n",
              "</div>\n",
              "      <button class=\"colab-df-convert\" onclick=\"convertToInteractive('df-56c004b2-a928-41c2-830a-c43baa6e14a8')\"\n",
              "              title=\"Convert this dataframe to an interactive table.\"\n",
              "              style=\"display:none;\">\n",
              "        \n",
              "  <svg xmlns=\"http://www.w3.org/2000/svg\" height=\"24px\"viewBox=\"0 0 24 24\"\n",
              "       width=\"24px\">\n",
              "    <path d=\"M0 0h24v24H0V0z\" fill=\"none\"/>\n",
              "    <path d=\"M18.56 5.44l.94 2.06.94-2.06 2.06-.94-2.06-.94-.94-2.06-.94 2.06-2.06.94zm-11 1L8.5 8.5l.94-2.06 2.06-.94-2.06-.94L8.5 2.5l-.94 2.06-2.06.94zm10 10l.94 2.06.94-2.06 2.06-.94-2.06-.94-.94-2.06-.94 2.06-2.06.94z\"/><path d=\"M17.41 7.96l-1.37-1.37c-.4-.4-.92-.59-1.43-.59-.52 0-1.04.2-1.43.59L10.3 9.45l-7.72 7.72c-.78.78-.78 2.05 0 2.83L4 21.41c.39.39.9.59 1.41.59.51 0 1.02-.2 1.41-.59l7.78-7.78 2.81-2.81c.8-.78.8-2.07 0-2.86zM5.41 20L4 18.59l7.72-7.72 1.47 1.35L5.41 20z\"/>\n",
              "  </svg>\n",
              "      </button>\n",
              "      \n",
              "  <style>\n",
              "    .colab-df-container {\n",
              "      display:flex;\n",
              "      flex-wrap:wrap;\n",
              "      gap: 12px;\n",
              "    }\n",
              "\n",
              "    .colab-df-convert {\n",
              "      background-color: #E8F0FE;\n",
              "      border: none;\n",
              "      border-radius: 50%;\n",
              "      cursor: pointer;\n",
              "      display: none;\n",
              "      fill: #1967D2;\n",
              "      height: 32px;\n",
              "      padding: 0 0 0 0;\n",
              "      width: 32px;\n",
              "    }\n",
              "\n",
              "    .colab-df-convert:hover {\n",
              "      background-color: #E2EBFA;\n",
              "      box-shadow: 0px 1px 2px rgba(60, 64, 67, 0.3), 0px 1px 3px 1px rgba(60, 64, 67, 0.15);\n",
              "      fill: #174EA6;\n",
              "    }\n",
              "\n",
              "    [theme=dark] .colab-df-convert {\n",
              "      background-color: #3B4455;\n",
              "      fill: #D2E3FC;\n",
              "    }\n",
              "\n",
              "    [theme=dark] .colab-df-convert:hover {\n",
              "      background-color: #434B5C;\n",
              "      box-shadow: 0px 1px 3px 1px rgba(0, 0, 0, 0.15);\n",
              "      filter: drop-shadow(0px 1px 2px rgba(0, 0, 0, 0.3));\n",
              "      fill: #FFFFFF;\n",
              "    }\n",
              "  </style>\n",
              "\n",
              "      <script>\n",
              "        const buttonEl =\n",
              "          document.querySelector('#df-56c004b2-a928-41c2-830a-c43baa6e14a8 button.colab-df-convert');\n",
              "        buttonEl.style.display =\n",
              "          google.colab.kernel.accessAllowed ? 'block' : 'none';\n",
              "\n",
              "        async function convertToInteractive(key) {\n",
              "          const element = document.querySelector('#df-56c004b2-a928-41c2-830a-c43baa6e14a8');\n",
              "          const dataTable =\n",
              "            await google.colab.kernel.invokeFunction('convertToInteractive',\n",
              "                                                     [key], {});\n",
              "          if (!dataTable) return;\n",
              "\n",
              "          const docLinkHtml = 'Like what you see? Visit the ' +\n",
              "            '<a target=\"_blank\" href=https://colab.research.google.com/notebooks/data_table.ipynb>data table notebook</a>'\n",
              "            + ' to learn more about interactive tables.';\n",
              "          element.innerHTML = '';\n",
              "          dataTable['output_type'] = 'display_data';\n",
              "          await google.colab.output.renderOutput(dataTable, element);\n",
              "          const docLink = document.createElement('div');\n",
              "          docLink.innerHTML = docLinkHtml;\n",
              "          element.appendChild(docLink);\n",
              "        }\n",
              "      </script>\n",
              "    </div>\n",
              "  </div>\n",
              "  "
            ]
          },
          "metadata": {},
          "execution_count": 40
        }
      ]
    },
    {
      "cell_type": "markdown",
      "source": [
        "Loading the music dataset"
      ],
      "metadata": {
        "id": "Qd4QzfXdOL1a"
      }
    },
    {
      "cell_type": "code",
      "source": [
        "music_df = pd.read_csv(r'/content/sample_data/music_questions.csv', encoding = \"ISO-8859-1\", low_memory=False)"
      ],
      "metadata": {
        "id": "Ek7Vda5CE5ok"
      },
      "execution_count": null,
      "outputs": []
    },
    {
      "cell_type": "code",
      "source": [
        "len(music_df)"
      ],
      "metadata": {
        "id": "gSrRv018OOrH",
        "colab": {
          "base_uri": "https://localhost:8080/"
        },
        "outputId": "55fead4c-e04a-427c-86e7-679c4a106d6c"
      },
      "execution_count": null,
      "outputs": [
        {
          "output_type": "execute_result",
          "data": {
            "text/plain": [
              "2976"
            ]
          },
          "metadata": {},
          "execution_count": 42
        }
      ]
    },
    {
      "cell_type": "code",
      "source": [
        "music_df.head(2)"
      ],
      "metadata": {
        "id": "ryaUfLzCOXJp",
        "colab": {
          "base_uri": "https://localhost:8080/",
          "height": 112
        },
        "outputId": "20a84812-1723-4bbc-a5fb-656d4457db77"
      },
      "execution_count": null,
      "outputs": [
        {
          "output_type": "execute_result",
          "data": {
            "text/plain": [
              "   Unnamed: 0                                          Questions  \\\n",
              "0           0  how long is this cord? the pictures looks like...   \n",
              "1           1  Has anyone used this to split a stereo signal?...   \n",
              "\n",
              "                                             Answers  \n",
              "0  I took a photo: <http://imgur.com/G48f1C4>I bo...  \n",
              "1  I believe this adapter yields a mono split and...  "
            ],
            "text/html": [
              "\n",
              "  <div id=\"df-1b2cd57b-0f4a-460e-bf4f-3db9cc645d8e\">\n",
              "    <div class=\"colab-df-container\">\n",
              "      <div>\n",
              "<style scoped>\n",
              "    .dataframe tbody tr th:only-of-type {\n",
              "        vertical-align: middle;\n",
              "    }\n",
              "\n",
              "    .dataframe tbody tr th {\n",
              "        vertical-align: top;\n",
              "    }\n",
              "\n",
              "    .dataframe thead th {\n",
              "        text-align: right;\n",
              "    }\n",
              "</style>\n",
              "<table border=\"1\" class=\"dataframe\">\n",
              "  <thead>\n",
              "    <tr style=\"text-align: right;\">\n",
              "      <th></th>\n",
              "      <th>Unnamed: 0</th>\n",
              "      <th>Questions</th>\n",
              "      <th>Answers</th>\n",
              "    </tr>\n",
              "  </thead>\n",
              "  <tbody>\n",
              "    <tr>\n",
              "      <th>0</th>\n",
              "      <td>0</td>\n",
              "      <td>how long is this cord? the pictures looks like...</td>\n",
              "      <td>I took a photo: &lt;http://imgur.com/G48f1C4&gt;I bo...</td>\n",
              "    </tr>\n",
              "    <tr>\n",
              "      <th>1</th>\n",
              "      <td>1</td>\n",
              "      <td>Has anyone used this to split a stereo signal?...</td>\n",
              "      <td>I believe this adapter yields a mono split and...</td>\n",
              "    </tr>\n",
              "  </tbody>\n",
              "</table>\n",
              "</div>\n",
              "      <button class=\"colab-df-convert\" onclick=\"convertToInteractive('df-1b2cd57b-0f4a-460e-bf4f-3db9cc645d8e')\"\n",
              "              title=\"Convert this dataframe to an interactive table.\"\n",
              "              style=\"display:none;\">\n",
              "        \n",
              "  <svg xmlns=\"http://www.w3.org/2000/svg\" height=\"24px\"viewBox=\"0 0 24 24\"\n",
              "       width=\"24px\">\n",
              "    <path d=\"M0 0h24v24H0V0z\" fill=\"none\"/>\n",
              "    <path d=\"M18.56 5.44l.94 2.06.94-2.06 2.06-.94-2.06-.94-.94-2.06-.94 2.06-2.06.94zm-11 1L8.5 8.5l.94-2.06 2.06-.94-2.06-.94L8.5 2.5l-.94 2.06-2.06.94zm10 10l.94 2.06.94-2.06 2.06-.94-2.06-.94-.94-2.06-.94 2.06-2.06.94z\"/><path d=\"M17.41 7.96l-1.37-1.37c-.4-.4-.92-.59-1.43-.59-.52 0-1.04.2-1.43.59L10.3 9.45l-7.72 7.72c-.78.78-.78 2.05 0 2.83L4 21.41c.39.39.9.59 1.41.59.51 0 1.02-.2 1.41-.59l7.78-7.78 2.81-2.81c.8-.78.8-2.07 0-2.86zM5.41 20L4 18.59l7.72-7.72 1.47 1.35L5.41 20z\"/>\n",
              "  </svg>\n",
              "      </button>\n",
              "      \n",
              "  <style>\n",
              "    .colab-df-container {\n",
              "      display:flex;\n",
              "      flex-wrap:wrap;\n",
              "      gap: 12px;\n",
              "    }\n",
              "\n",
              "    .colab-df-convert {\n",
              "      background-color: #E8F0FE;\n",
              "      border: none;\n",
              "      border-radius: 50%;\n",
              "      cursor: pointer;\n",
              "      display: none;\n",
              "      fill: #1967D2;\n",
              "      height: 32px;\n",
              "      padding: 0 0 0 0;\n",
              "      width: 32px;\n",
              "    }\n",
              "\n",
              "    .colab-df-convert:hover {\n",
              "      background-color: #E2EBFA;\n",
              "      box-shadow: 0px 1px 2px rgba(60, 64, 67, 0.3), 0px 1px 3px 1px rgba(60, 64, 67, 0.15);\n",
              "      fill: #174EA6;\n",
              "    }\n",
              "\n",
              "    [theme=dark] .colab-df-convert {\n",
              "      background-color: #3B4455;\n",
              "      fill: #D2E3FC;\n",
              "    }\n",
              "\n",
              "    [theme=dark] .colab-df-convert:hover {\n",
              "      background-color: #434B5C;\n",
              "      box-shadow: 0px 1px 3px 1px rgba(0, 0, 0, 0.15);\n",
              "      filter: drop-shadow(0px 1px 2px rgba(0, 0, 0, 0.3));\n",
              "      fill: #FFFFFF;\n",
              "    }\n",
              "  </style>\n",
              "\n",
              "      <script>\n",
              "        const buttonEl =\n",
              "          document.querySelector('#df-1b2cd57b-0f4a-460e-bf4f-3db9cc645d8e button.colab-df-convert');\n",
              "        buttonEl.style.display =\n",
              "          google.colab.kernel.accessAllowed ? 'block' : 'none';\n",
              "\n",
              "        async function convertToInteractive(key) {\n",
              "          const element = document.querySelector('#df-1b2cd57b-0f4a-460e-bf4f-3db9cc645d8e');\n",
              "          const dataTable =\n",
              "            await google.colab.kernel.invokeFunction('convertToInteractive',\n",
              "                                                     [key], {});\n",
              "          if (!dataTable) return;\n",
              "\n",
              "          const docLinkHtml = 'Like what you see? Visit the ' +\n",
              "            '<a target=\"_blank\" href=https://colab.research.google.com/notebooks/data_table.ipynb>data table notebook</a>'\n",
              "            + ' to learn more about interactive tables.';\n",
              "          element.innerHTML = '';\n",
              "          dataTable['output_type'] = 'display_data';\n",
              "          await google.colab.output.renderOutput(dataTable, element);\n",
              "          const docLink = document.createElement('div');\n",
              "          docLink.innerHTML = docLinkHtml;\n",
              "          element.appendChild(docLink);\n",
              "        }\n",
              "      </script>\n",
              "    </div>\n",
              "  </div>\n",
              "  "
            ]
          },
          "metadata": {},
          "execution_count": 7
        }
      ]
    },
    {
      "cell_type": "code",
      "source": [
        "grocery_df = pd.read_csv(r'/content/sample_data/grocery_questions.csv', encoding = \"ISO-8859-1\", low_memory=False)"
      ],
      "metadata": {
        "id": "oQ4IxnKyOZqU"
      },
      "execution_count": null,
      "outputs": []
    },
    {
      "cell_type": "code",
      "source": [
        "len(grocery_df)"
      ],
      "metadata": {
        "id": "VeqXOokoOn0I",
        "colab": {
          "base_uri": "https://localhost:8080/"
        },
        "outputId": "24e7044d-c78d-4495-d78f-c3919eb07f3c"
      },
      "execution_count": null,
      "outputs": [
        {
          "output_type": "execute_result",
          "data": {
            "text/plain": [
              "2997"
            ]
          },
          "metadata": {},
          "execution_count": 16
        }
      ]
    },
    {
      "cell_type": "code",
      "source": [
        "grocery_df.head(2)"
      ],
      "metadata": {
        "id": "j6HDi-WiOkfL",
        "colab": {
          "base_uri": "https://localhost:8080/",
          "height": 112
        },
        "outputId": "6dc6f9f9-676f-44ad-d499-bc6db28db88e"
      },
      "execution_count": null,
      "outputs": [
        {
          "output_type": "execute_result",
          "data": {
            "text/plain": [
              "   Unnamed: 0                                       Questions  \\\n",
              "0           0   what are the colors that come in the package?   \n",
              "1           1  difference between meat cure and pickling salt   \n",
              "\n",
              "                                             Answers  \n",
              "0  All colors seen on box plus Teal, Burgundy, Bl...  \n",
              "1  Pickling salt is a very pure form of salt. A m...  "
            ],
            "text/html": [
              "\n",
              "  <div id=\"df-25d67b23-5d72-487b-b42d-20d7dabaee27\">\n",
              "    <div class=\"colab-df-container\">\n",
              "      <div>\n",
              "<style scoped>\n",
              "    .dataframe tbody tr th:only-of-type {\n",
              "        vertical-align: middle;\n",
              "    }\n",
              "\n",
              "    .dataframe tbody tr th {\n",
              "        vertical-align: top;\n",
              "    }\n",
              "\n",
              "    .dataframe thead th {\n",
              "        text-align: right;\n",
              "    }\n",
              "</style>\n",
              "<table border=\"1\" class=\"dataframe\">\n",
              "  <thead>\n",
              "    <tr style=\"text-align: right;\">\n",
              "      <th></th>\n",
              "      <th>Unnamed: 0</th>\n",
              "      <th>Questions</th>\n",
              "      <th>Answers</th>\n",
              "    </tr>\n",
              "  </thead>\n",
              "  <tbody>\n",
              "    <tr>\n",
              "      <th>0</th>\n",
              "      <td>0</td>\n",
              "      <td>what are the colors that come in the package?</td>\n",
              "      <td>All colors seen on box plus Teal, Burgundy, Bl...</td>\n",
              "    </tr>\n",
              "    <tr>\n",
              "      <th>1</th>\n",
              "      <td>1</td>\n",
              "      <td>difference between meat cure and pickling salt</td>\n",
              "      <td>Pickling salt is a very pure form of salt. A m...</td>\n",
              "    </tr>\n",
              "  </tbody>\n",
              "</table>\n",
              "</div>\n",
              "      <button class=\"colab-df-convert\" onclick=\"convertToInteractive('df-25d67b23-5d72-487b-b42d-20d7dabaee27')\"\n",
              "              title=\"Convert this dataframe to an interactive table.\"\n",
              "              style=\"display:none;\">\n",
              "        \n",
              "  <svg xmlns=\"http://www.w3.org/2000/svg\" height=\"24px\"viewBox=\"0 0 24 24\"\n",
              "       width=\"24px\">\n",
              "    <path d=\"M0 0h24v24H0V0z\" fill=\"none\"/>\n",
              "    <path d=\"M18.56 5.44l.94 2.06.94-2.06 2.06-.94-2.06-.94-.94-2.06-.94 2.06-2.06.94zm-11 1L8.5 8.5l.94-2.06 2.06-.94-2.06-.94L8.5 2.5l-.94 2.06-2.06.94zm10 10l.94 2.06.94-2.06 2.06-.94-2.06-.94-.94-2.06-.94 2.06-2.06.94z\"/><path d=\"M17.41 7.96l-1.37-1.37c-.4-.4-.92-.59-1.43-.59-.52 0-1.04.2-1.43.59L10.3 9.45l-7.72 7.72c-.78.78-.78 2.05 0 2.83L4 21.41c.39.39.9.59 1.41.59.51 0 1.02-.2 1.41-.59l7.78-7.78 2.81-2.81c.8-.78.8-2.07 0-2.86zM5.41 20L4 18.59l7.72-7.72 1.47 1.35L5.41 20z\"/>\n",
              "  </svg>\n",
              "      </button>\n",
              "      \n",
              "  <style>\n",
              "    .colab-df-container {\n",
              "      display:flex;\n",
              "      flex-wrap:wrap;\n",
              "      gap: 12px;\n",
              "    }\n",
              "\n",
              "    .colab-df-convert {\n",
              "      background-color: #E8F0FE;\n",
              "      border: none;\n",
              "      border-radius: 50%;\n",
              "      cursor: pointer;\n",
              "      display: none;\n",
              "      fill: #1967D2;\n",
              "      height: 32px;\n",
              "      padding: 0 0 0 0;\n",
              "      width: 32px;\n",
              "    }\n",
              "\n",
              "    .colab-df-convert:hover {\n",
              "      background-color: #E2EBFA;\n",
              "      box-shadow: 0px 1px 2px rgba(60, 64, 67, 0.3), 0px 1px 3px 1px rgba(60, 64, 67, 0.15);\n",
              "      fill: #174EA6;\n",
              "    }\n",
              "\n",
              "    [theme=dark] .colab-df-convert {\n",
              "      background-color: #3B4455;\n",
              "      fill: #D2E3FC;\n",
              "    }\n",
              "\n",
              "    [theme=dark] .colab-df-convert:hover {\n",
              "      background-color: #434B5C;\n",
              "      box-shadow: 0px 1px 3px 1px rgba(0, 0, 0, 0.15);\n",
              "      filter: drop-shadow(0px 1px 2px rgba(0, 0, 0, 0.3));\n",
              "      fill: #FFFFFF;\n",
              "    }\n",
              "  </style>\n",
              "\n",
              "      <script>\n",
              "        const buttonEl =\n",
              "          document.querySelector('#df-25d67b23-5d72-487b-b42d-20d7dabaee27 button.colab-df-convert');\n",
              "        buttonEl.style.display =\n",
              "          google.colab.kernel.accessAllowed ? 'block' : 'none';\n",
              "\n",
              "        async function convertToInteractive(key) {\n",
              "          const element = document.querySelector('#df-25d67b23-5d72-487b-b42d-20d7dabaee27');\n",
              "          const dataTable =\n",
              "            await google.colab.kernel.invokeFunction('convertToInteractive',\n",
              "                                                     [key], {});\n",
              "          if (!dataTable) return;\n",
              "\n",
              "          const docLinkHtml = 'Like what you see? Visit the ' +\n",
              "            '<a target=\"_blank\" href=https://colab.research.google.com/notebooks/data_table.ipynb>data table notebook</a>'\n",
              "            + ' to learn more about interactive tables.';\n",
              "          element.innerHTML = '';\n",
              "          dataTable['output_type'] = 'display_data';\n",
              "          await google.colab.output.renderOutput(dataTable, element);\n",
              "          const docLink = document.createElement('div');\n",
              "          docLink.innerHTML = docLinkHtml;\n",
              "          element.appendChild(docLink);\n",
              "        }\n",
              "      </script>\n",
              "    </div>\n",
              "  </div>\n",
              "  "
            ]
          },
          "metadata": {},
          "execution_count": 45
        }
      ]
    },
    {
      "cell_type": "code",
      "source": [
        "video_game_df = pd.read_csv(r'/content/sample_data/video_game_qa.csv', encoding = \"ISO-8859-1\", low_memory=False)"
      ],
      "metadata": {
        "id": "cXERXDDgOmtj"
      },
      "execution_count": null,
      "outputs": []
    },
    {
      "cell_type": "code",
      "source": [
        "len(video_game_df)"
      ],
      "metadata": {
        "id": "Ik_mO2L5O34z",
        "colab": {
          "base_uri": "https://localhost:8080/"
        },
        "outputId": "b96e1d51-5bd5-4bd2-d84b-734da634e79e"
      },
      "execution_count": null,
      "outputs": [
        {
          "output_type": "execute_result",
          "data": {
            "text/plain": [
              "1183"
            ]
          },
          "metadata": {},
          "execution_count": 19
        }
      ]
    },
    {
      "cell_type": "code",
      "source": [
        "video_game_df.head(2)"
      ],
      "metadata": {
        "id": "nxpvqx5LO1HV",
        "colab": {
          "base_uri": "https://localhost:8080/",
          "height": 112
        },
        "outputId": "c31d41d8-8701-4f20-d34a-5d57679b5aa5"
      },
      "execution_count": null,
      "outputs": [
        {
          "output_type": "execute_result",
          "data": {
            "text/plain": [
              "   Unnamed: 0                                          Questions  \\\n",
              "0           0  Yes, you will need to go to their website to d...   \n",
              "1           1  As long as it has a USB port it should work fi...   \n",
              "\n",
              "                                             Answers  \n",
              "0  Yes, you will need to go to their website to d...  \n",
              "1  As long as it has a USB port it should work fi...  "
            ],
            "text/html": [
              "\n",
              "  <div id=\"df-0713d7af-b000-4e17-a7eb-5f9327fc1c9c\">\n",
              "    <div class=\"colab-df-container\">\n",
              "      <div>\n",
              "<style scoped>\n",
              "    .dataframe tbody tr th:only-of-type {\n",
              "        vertical-align: middle;\n",
              "    }\n",
              "\n",
              "    .dataframe tbody tr th {\n",
              "        vertical-align: top;\n",
              "    }\n",
              "\n",
              "    .dataframe thead th {\n",
              "        text-align: right;\n",
              "    }\n",
              "</style>\n",
              "<table border=\"1\" class=\"dataframe\">\n",
              "  <thead>\n",
              "    <tr style=\"text-align: right;\">\n",
              "      <th></th>\n",
              "      <th>Unnamed: 0</th>\n",
              "      <th>Questions</th>\n",
              "      <th>Answers</th>\n",
              "    </tr>\n",
              "  </thead>\n",
              "  <tbody>\n",
              "    <tr>\n",
              "      <th>0</th>\n",
              "      <td>0</td>\n",
              "      <td>Yes, you will need to go to their website to d...</td>\n",
              "      <td>Yes, you will need to go to their website to d...</td>\n",
              "    </tr>\n",
              "    <tr>\n",
              "      <th>1</th>\n",
              "      <td>1</td>\n",
              "      <td>As long as it has a USB port it should work fi...</td>\n",
              "      <td>As long as it has a USB port it should work fi...</td>\n",
              "    </tr>\n",
              "  </tbody>\n",
              "</table>\n",
              "</div>\n",
              "      <button class=\"colab-df-convert\" onclick=\"convertToInteractive('df-0713d7af-b000-4e17-a7eb-5f9327fc1c9c')\"\n",
              "              title=\"Convert this dataframe to an interactive table.\"\n",
              "              style=\"display:none;\">\n",
              "        \n",
              "  <svg xmlns=\"http://www.w3.org/2000/svg\" height=\"24px\"viewBox=\"0 0 24 24\"\n",
              "       width=\"24px\">\n",
              "    <path d=\"M0 0h24v24H0V0z\" fill=\"none\"/>\n",
              "    <path d=\"M18.56 5.44l.94 2.06.94-2.06 2.06-.94-2.06-.94-.94-2.06-.94 2.06-2.06.94zm-11 1L8.5 8.5l.94-2.06 2.06-.94-2.06-.94L8.5 2.5l-.94 2.06-2.06.94zm10 10l.94 2.06.94-2.06 2.06-.94-2.06-.94-.94-2.06-.94 2.06-2.06.94z\"/><path d=\"M17.41 7.96l-1.37-1.37c-.4-.4-.92-.59-1.43-.59-.52 0-1.04.2-1.43.59L10.3 9.45l-7.72 7.72c-.78.78-.78 2.05 0 2.83L4 21.41c.39.39.9.59 1.41.59.51 0 1.02-.2 1.41-.59l7.78-7.78 2.81-2.81c.8-.78.8-2.07 0-2.86zM5.41 20L4 18.59l7.72-7.72 1.47 1.35L5.41 20z\"/>\n",
              "  </svg>\n",
              "      </button>\n",
              "      \n",
              "  <style>\n",
              "    .colab-df-container {\n",
              "      display:flex;\n",
              "      flex-wrap:wrap;\n",
              "      gap: 12px;\n",
              "    }\n",
              "\n",
              "    .colab-df-convert {\n",
              "      background-color: #E8F0FE;\n",
              "      border: none;\n",
              "      border-radius: 50%;\n",
              "      cursor: pointer;\n",
              "      display: none;\n",
              "      fill: #1967D2;\n",
              "      height: 32px;\n",
              "      padding: 0 0 0 0;\n",
              "      width: 32px;\n",
              "    }\n",
              "\n",
              "    .colab-df-convert:hover {\n",
              "      background-color: #E2EBFA;\n",
              "      box-shadow: 0px 1px 2px rgba(60, 64, 67, 0.3), 0px 1px 3px 1px rgba(60, 64, 67, 0.15);\n",
              "      fill: #174EA6;\n",
              "    }\n",
              "\n",
              "    [theme=dark] .colab-df-convert {\n",
              "      background-color: #3B4455;\n",
              "      fill: #D2E3FC;\n",
              "    }\n",
              "\n",
              "    [theme=dark] .colab-df-convert:hover {\n",
              "      background-color: #434B5C;\n",
              "      box-shadow: 0px 1px 3px 1px rgba(0, 0, 0, 0.15);\n",
              "      filter: drop-shadow(0px 1px 2px rgba(0, 0, 0, 0.3));\n",
              "      fill: #FFFFFF;\n",
              "    }\n",
              "  </style>\n",
              "\n",
              "      <script>\n",
              "        const buttonEl =\n",
              "          document.querySelector('#df-0713d7af-b000-4e17-a7eb-5f9327fc1c9c button.colab-df-convert');\n",
              "        buttonEl.style.display =\n",
              "          google.colab.kernel.accessAllowed ? 'block' : 'none';\n",
              "\n",
              "        async function convertToInteractive(key) {\n",
              "          const element = document.querySelector('#df-0713d7af-b000-4e17-a7eb-5f9327fc1c9c');\n",
              "          const dataTable =\n",
              "            await google.colab.kernel.invokeFunction('convertToInteractive',\n",
              "                                                     [key], {});\n",
              "          if (!dataTable) return;\n",
              "\n",
              "          const docLinkHtml = 'Like what you see? Visit the ' +\n",
              "            '<a target=\"_blank\" href=https://colab.research.google.com/notebooks/data_table.ipynb>data table notebook</a>'\n",
              "            + ' to learn more about interactive tables.';\n",
              "          element.innerHTML = '';\n",
              "          dataTable['output_type'] = 'display_data';\n",
              "          await google.colab.output.renderOutput(dataTable, element);\n",
              "          const docLink = document.createElement('div');\n",
              "          docLink.innerHTML = docLinkHtml;\n",
              "          element.appendChild(docLink);\n",
              "        }\n",
              "      </script>\n",
              "    </div>\n",
              "  </div>\n",
              "  "
            ]
          },
          "metadata": {},
          "execution_count": 47
        }
      ]
    },
    {
      "cell_type": "markdown",
      "source": [
        "We will be keeping only necessary columns i.e., question and reply"
      ],
      "metadata": {
        "id": "secv2y7xPNt0"
      }
    },
    {
      "cell_type": "code",
      "source": [
        "qa_df = qa_df.drop(['ArticleTitle','DifficultyFromQuestioner','DifficultyFromAnswerer','ArticleFile'],axis =1 ) \n",
        "qa_df.columns = ['question', 'reply']"
      ],
      "metadata": {
        "id": "8wKG8LSyO3PT"
      },
      "execution_count": null,
      "outputs": []
    },
    {
      "cell_type": "code",
      "source": [
        "music_df = music_df.drop(['Unnamed: 0'],axis =1)\n",
        "music_df.columns = ['question', 'reply']"
      ],
      "metadata": {
        "id": "o8cWi8pdPY5o"
      },
      "execution_count": null,
      "outputs": []
    },
    {
      "cell_type": "code",
      "source": [
        "grocery_df = grocery_df.drop(['Unnamed: 0'],axis =1)\n",
        "grocery_df.columns = ['question', 'reply']"
      ],
      "metadata": {
        "id": "SS_zd0A-QDVw"
      },
      "execution_count": null,
      "outputs": []
    },
    {
      "cell_type": "code",
      "source": [
        "video_game_df  = video_game_df.drop(['Unnamed: 0'],axis =1)\n",
        "video_game_df.columns = ['question', 'reply']"
      ],
      "metadata": {
        "id": "Ffd0haEVQJsZ"
      },
      "execution_count": null,
      "outputs": []
    },
    {
      "cell_type": "markdown",
      "source": [
        "We will add all the data frames and make it as 1 dataframe"
      ],
      "metadata": {
        "id": "c3xZpiKQRWsx"
      }
    },
    {
      "cell_type": "code",
      "source": [
        "final_df = [train_df[:100], qa_df[:100],music_df[:100], grocery_df[:100], video_game_df[:100]]"
      ],
      "metadata": {
        "id": "lCEIxeLnRVXA"
      },
      "execution_count": null,
      "outputs": []
    },
    {
      "cell_type": "code",
      "source": [
        "final_df = pd.concat(final_df)"
      ],
      "metadata": {
        "id": "d5-wwt5-R1dw"
      },
      "execution_count": null,
      "outputs": []
    },
    {
      "cell_type": "code",
      "source": [
        "final_df.shape"
      ],
      "metadata": {
        "id": "Zt9tD4dyR5oM",
        "colab": {
          "base_uri": "https://localhost:8080/"
        },
        "outputId": "134ca0bb-dcef-4765-93fa-6f86f762d2d2"
      },
      "execution_count": null,
      "outputs": [
        {
          "output_type": "execute_result",
          "data": {
            "text/plain": [
              "(500, 2)"
            ]
          },
          "metadata": {},
          "execution_count": 37
        }
      ]
    },
    {
      "cell_type": "markdown",
      "source": [
        "Now lets clean some data and do analysis"
      ],
      "metadata": {
        "id": "SAAHVv56SaBA"
      }
    },
    {
      "cell_type": "code",
      "source": [
        "final_df = final_df.apply(lambda x: x.astype(str).str.lower())\n",
        "final_df.head(2)"
      ],
      "metadata": {
        "id": "MV2wZ7YNR6Sj",
        "colab": {
          "base_uri": "https://localhost:8080/",
          "height": 112
        },
        "outputId": "238030a9-b9f4-4f9e-cc9b-ae3b310d65c4"
      },
      "execution_count": null,
      "outputs": [
        {
          "output_type": "execute_result",
          "data": {
            "text/plain": [
              "                                            question                reply\n",
              "0           when did beyonce start becoming popular?    in the late 1990s\n",
              "1  what areas did beyonce compete in when she was...  singing and dancing"
            ],
            "text/html": [
              "\n",
              "  <div id=\"df-5fb9ed05-8a98-4d28-b290-f839d2617452\">\n",
              "    <div class=\"colab-df-container\">\n",
              "      <div>\n",
              "<style scoped>\n",
              "    .dataframe tbody tr th:only-of-type {\n",
              "        vertical-align: middle;\n",
              "    }\n",
              "\n",
              "    .dataframe tbody tr th {\n",
              "        vertical-align: top;\n",
              "    }\n",
              "\n",
              "    .dataframe thead th {\n",
              "        text-align: right;\n",
              "    }\n",
              "</style>\n",
              "<table border=\"1\" class=\"dataframe\">\n",
              "  <thead>\n",
              "    <tr style=\"text-align: right;\">\n",
              "      <th></th>\n",
              "      <th>question</th>\n",
              "      <th>reply</th>\n",
              "    </tr>\n",
              "  </thead>\n",
              "  <tbody>\n",
              "    <tr>\n",
              "      <th>0</th>\n",
              "      <td>when did beyonce start becoming popular?</td>\n",
              "      <td>in the late 1990s</td>\n",
              "    </tr>\n",
              "    <tr>\n",
              "      <th>1</th>\n",
              "      <td>what areas did beyonce compete in when she was...</td>\n",
              "      <td>singing and dancing</td>\n",
              "    </tr>\n",
              "  </tbody>\n",
              "</table>\n",
              "</div>\n",
              "      <button class=\"colab-df-convert\" onclick=\"convertToInteractive('df-5fb9ed05-8a98-4d28-b290-f839d2617452')\"\n",
              "              title=\"Convert this dataframe to an interactive table.\"\n",
              "              style=\"display:none;\">\n",
              "        \n",
              "  <svg xmlns=\"http://www.w3.org/2000/svg\" height=\"24px\"viewBox=\"0 0 24 24\"\n",
              "       width=\"24px\">\n",
              "    <path d=\"M0 0h24v24H0V0z\" fill=\"none\"/>\n",
              "    <path d=\"M18.56 5.44l.94 2.06.94-2.06 2.06-.94-2.06-.94-.94-2.06-.94 2.06-2.06.94zm-11 1L8.5 8.5l.94-2.06 2.06-.94-2.06-.94L8.5 2.5l-.94 2.06-2.06.94zm10 10l.94 2.06.94-2.06 2.06-.94-2.06-.94-.94-2.06-.94 2.06-2.06.94z\"/><path d=\"M17.41 7.96l-1.37-1.37c-.4-.4-.92-.59-1.43-.59-.52 0-1.04.2-1.43.59L10.3 9.45l-7.72 7.72c-.78.78-.78 2.05 0 2.83L4 21.41c.39.39.9.59 1.41.59.51 0 1.02-.2 1.41-.59l7.78-7.78 2.81-2.81c.8-.78.8-2.07 0-2.86zM5.41 20L4 18.59l7.72-7.72 1.47 1.35L5.41 20z\"/>\n",
              "  </svg>\n",
              "      </button>\n",
              "      \n",
              "  <style>\n",
              "    .colab-df-container {\n",
              "      display:flex;\n",
              "      flex-wrap:wrap;\n",
              "      gap: 12px;\n",
              "    }\n",
              "\n",
              "    .colab-df-convert {\n",
              "      background-color: #E8F0FE;\n",
              "      border: none;\n",
              "      border-radius: 50%;\n",
              "      cursor: pointer;\n",
              "      display: none;\n",
              "      fill: #1967D2;\n",
              "      height: 32px;\n",
              "      padding: 0 0 0 0;\n",
              "      width: 32px;\n",
              "    }\n",
              "\n",
              "    .colab-df-convert:hover {\n",
              "      background-color: #E2EBFA;\n",
              "      box-shadow: 0px 1px 2px rgba(60, 64, 67, 0.3), 0px 1px 3px 1px rgba(60, 64, 67, 0.15);\n",
              "      fill: #174EA6;\n",
              "    }\n",
              "\n",
              "    [theme=dark] .colab-df-convert {\n",
              "      background-color: #3B4455;\n",
              "      fill: #D2E3FC;\n",
              "    }\n",
              "\n",
              "    [theme=dark] .colab-df-convert:hover {\n",
              "      background-color: #434B5C;\n",
              "      box-shadow: 0px 1px 3px 1px rgba(0, 0, 0, 0.15);\n",
              "      filter: drop-shadow(0px 1px 2px rgba(0, 0, 0, 0.3));\n",
              "      fill: #FFFFFF;\n",
              "    }\n",
              "  </style>\n",
              "\n",
              "      <script>\n",
              "        const buttonEl =\n",
              "          document.querySelector('#df-5fb9ed05-8a98-4d28-b290-f839d2617452 button.colab-df-convert');\n",
              "        buttonEl.style.display =\n",
              "          google.colab.kernel.accessAllowed ? 'block' : 'none';\n",
              "\n",
              "        async function convertToInteractive(key) {\n",
              "          const element = document.querySelector('#df-5fb9ed05-8a98-4d28-b290-f839d2617452');\n",
              "          const dataTable =\n",
              "            await google.colab.kernel.invokeFunction('convertToInteractive',\n",
              "                                                     [key], {});\n",
              "          if (!dataTable) return;\n",
              "\n",
              "          const docLinkHtml = 'Like what you see? Visit the ' +\n",
              "            '<a target=\"_blank\" href=https://colab.research.google.com/notebooks/data_table.ipynb>data table notebook</a>'\n",
              "            + ' to learn more about interactive tables.';\n",
              "          element.innerHTML = '';\n",
              "          dataTable['output_type'] = 'display_data';\n",
              "          await google.colab.output.renderOutput(dataTable, element);\n",
              "          const docLink = document.createElement('div');\n",
              "          docLink.innerHTML = docLinkHtml;\n",
              "          element.appendChild(docLink);\n",
              "        }\n",
              "      </script>\n",
              "    </div>\n",
              "  </div>\n",
              "  "
            ]
          },
          "metadata": {},
          "execution_count": 38
        }
      ]
    },
    {
      "cell_type": "markdown",
      "source": [
        "Removing all special characters from the data and stop words from questions"
      ],
      "metadata": {
        "id": "VUUr6zhLTDro"
      }
    },
    {
      "cell_type": "code",
      "source": [
        "# https://gist.github.com/sebleier/554280\n",
        "# we are removing the words from the stop words list: 'no', 'nor', 'not'\n",
        "# <br /><br /> ==> after the above steps, we are getting \"br br\"\n",
        "# we are including them into stop words list\n",
        "# instead of <br /> if we have <br/> these tags would be removed in the 1st step\n",
        "\n",
        "stopwords= set(['br', 'the', 'i', 'me', 'my', 'myself', 'we', 'our', 'ours', 'ourselves', 'you', \"you're\", \"you've\",\\\n",
        "            \"you'll\", \"you'd\", 'your', 'yours', 'yourself', 'yourselves', 'he', 'him', 'his', 'himself', \\\n",
        "            'she', \"she's\", 'her', 'hers', 'herself', 'it', \"it's\", 'its', 'itself', 'they', 'them', 'their',\\\n",
        "            'theirs', 'themselves', 'what', 'which', 'who', 'whom', 'this', 'that', \"that'll\", 'these', 'those', \\\n",
        "            'am', 'is', 'are', 'was', 'were', 'be', 'been', 'being', 'have', 'has', 'had', 'having', 'do', 'does', \\\n",
        "            'did', 'doing', 'a', 'an', 'the', 'and', 'but', 'if', 'or', 'because', 'as', 'until', 'while', 'of', \\\n",
        "            'at', 'by', 'for', 'with', 'about', 'against', 'between', 'into', 'through', 'during', 'before', 'after',\\\n",
        "            'above', 'below', 'to', 'from', 'up', 'down', 'in', 'out', 'on', 'off', 'over', 'under', 'again', 'further',\\\n",
        "            'then', 'once', 'here', 'there', 'when', 'where', 'why', 'how', 'all', 'any', 'both', 'each', 'few', 'more',\\\n",
        "            'most', 'other', 'some', 'such', 'only', 'own', 'same', 'so', 'than', 'too', 'very', \\\n",
        "            's', 't', 'can', 'will', 'just', 'don', \"don't\", 'should', \"should've\", 'now', 'd', 'll', 'm', 'o', 're', \\\n",
        "            've', 'y', 'ain', 'aren', \"aren't\", 'couldn', \"couldn't\", 'didn', \"didn't\", 'doesn', \"doesn't\", 'hadn',\\\n",
        "            \"hadn't\", 'hasn', \"hasn't\", 'haven', \"haven't\", 'isn', \"isn't\", 'ma', 'mightn', \"mightn't\", 'mustn',\\\n",
        "            \"mustn't\", 'needn', \"needn't\", 'shan', \"shan't\", 'shouldn', \"shouldn't\", 'wasn', \"wasn't\", 'weren', \"weren't\", \\\n",
        "            'won', \"won't\", 'wouldn', \"wouldn't\"])"
      ],
      "metadata": {
        "id": "4PPB7Le_TGdY"
      },
      "execution_count": null,
      "outputs": []
    },
    {
      "cell_type": "code",
      "source": [
        "# https://stackoverflow.com/a/47091490/4084039\n",
        "import re\n",
        "from bs4 import BeautifulSoup\n",
        "def decontracted(phrase):\n",
        "    # specific\n",
        "    phrase = re.sub(r\"won't\", \"will not\", phrase)\n",
        "    phrase = re.sub(r\"can\\'t\", \"can not\", phrase)\n",
        "\n",
        "    # general\n",
        "    phrase = re.sub(r\"n\\'t\", \" not\", phrase)\n",
        "    phrase = re.sub(r\"\\'re\", \" are\", phrase)\n",
        "    phrase = re.sub(r\"\\'s\", \" is\", phrase)\n",
        "    phrase = re.sub(r\"\\'d\", \" would\", phrase)\n",
        "    phrase = re.sub(r\"\\'ll\", \" will\", phrase)\n",
        "    phrase = re.sub(r\"\\'t\", \" not\", phrase)\n",
        "    phrase = re.sub(r\"\\'ve\", \" have\", phrase)\n",
        "    phrase = re.sub(r\"\\'m\", \" am\", phrase)\n",
        "    return phrase"
      ],
      "metadata": {
        "id": "voHPC3wwTO7t"
      },
      "execution_count": null,
      "outputs": []
    },
    {
      "cell_type": "code",
      "source": [
        "final_df.head(3)"
      ],
      "metadata": {
        "id": "4YJPZhjVTR9q",
        "colab": {
          "base_uri": "https://localhost:8080/",
          "height": 143
        },
        "outputId": "7ad2bf3e-cf38-4ae6-98f0-cc511ec4f5f3"
      },
      "execution_count": null,
      "outputs": [
        {
          "output_type": "execute_result",
          "data": {
            "text/plain": [
              "                                            question                reply\n",
              "0           when did beyonce start becoming popular?    in the late 1990s\n",
              "1  what areas did beyonce compete in when she was...  singing and dancing\n",
              "2  when did beyonce leave destiny's child and bec...                 2003"
            ],
            "text/html": [
              "\n",
              "  <div id=\"df-9593f4af-88b1-4b96-a92d-a1e3eb4e5532\">\n",
              "    <div class=\"colab-df-container\">\n",
              "      <div>\n",
              "<style scoped>\n",
              "    .dataframe tbody tr th:only-of-type {\n",
              "        vertical-align: middle;\n",
              "    }\n",
              "\n",
              "    .dataframe tbody tr th {\n",
              "        vertical-align: top;\n",
              "    }\n",
              "\n",
              "    .dataframe thead th {\n",
              "        text-align: right;\n",
              "    }\n",
              "</style>\n",
              "<table border=\"1\" class=\"dataframe\">\n",
              "  <thead>\n",
              "    <tr style=\"text-align: right;\">\n",
              "      <th></th>\n",
              "      <th>question</th>\n",
              "      <th>reply</th>\n",
              "    </tr>\n",
              "  </thead>\n",
              "  <tbody>\n",
              "    <tr>\n",
              "      <th>0</th>\n",
              "      <td>when did beyonce start becoming popular?</td>\n",
              "      <td>in the late 1990s</td>\n",
              "    </tr>\n",
              "    <tr>\n",
              "      <th>1</th>\n",
              "      <td>what areas did beyonce compete in when she was...</td>\n",
              "      <td>singing and dancing</td>\n",
              "    </tr>\n",
              "    <tr>\n",
              "      <th>2</th>\n",
              "      <td>when did beyonce leave destiny's child and bec...</td>\n",
              "      <td>2003</td>\n",
              "    </tr>\n",
              "  </tbody>\n",
              "</table>\n",
              "</div>\n",
              "      <button class=\"colab-df-convert\" onclick=\"convertToInteractive('df-9593f4af-88b1-4b96-a92d-a1e3eb4e5532')\"\n",
              "              title=\"Convert this dataframe to an interactive table.\"\n",
              "              style=\"display:none;\">\n",
              "        \n",
              "  <svg xmlns=\"http://www.w3.org/2000/svg\" height=\"24px\"viewBox=\"0 0 24 24\"\n",
              "       width=\"24px\">\n",
              "    <path d=\"M0 0h24v24H0V0z\" fill=\"none\"/>\n",
              "    <path d=\"M18.56 5.44l.94 2.06.94-2.06 2.06-.94-2.06-.94-.94-2.06-.94 2.06-2.06.94zm-11 1L8.5 8.5l.94-2.06 2.06-.94-2.06-.94L8.5 2.5l-.94 2.06-2.06.94zm10 10l.94 2.06.94-2.06 2.06-.94-2.06-.94-.94-2.06-.94 2.06-2.06.94z\"/><path d=\"M17.41 7.96l-1.37-1.37c-.4-.4-.92-.59-1.43-.59-.52 0-1.04.2-1.43.59L10.3 9.45l-7.72 7.72c-.78.78-.78 2.05 0 2.83L4 21.41c.39.39.9.59 1.41.59.51 0 1.02-.2 1.41-.59l7.78-7.78 2.81-2.81c.8-.78.8-2.07 0-2.86zM5.41 20L4 18.59l7.72-7.72 1.47 1.35L5.41 20z\"/>\n",
              "  </svg>\n",
              "      </button>\n",
              "      \n",
              "  <style>\n",
              "    .colab-df-container {\n",
              "      display:flex;\n",
              "      flex-wrap:wrap;\n",
              "      gap: 12px;\n",
              "    }\n",
              "\n",
              "    .colab-df-convert {\n",
              "      background-color: #E8F0FE;\n",
              "      border: none;\n",
              "      border-radius: 50%;\n",
              "      cursor: pointer;\n",
              "      display: none;\n",
              "      fill: #1967D2;\n",
              "      height: 32px;\n",
              "      padding: 0 0 0 0;\n",
              "      width: 32px;\n",
              "    }\n",
              "\n",
              "    .colab-df-convert:hover {\n",
              "      background-color: #E2EBFA;\n",
              "      box-shadow: 0px 1px 2px rgba(60, 64, 67, 0.3), 0px 1px 3px 1px rgba(60, 64, 67, 0.15);\n",
              "      fill: #174EA6;\n",
              "    }\n",
              "\n",
              "    [theme=dark] .colab-df-convert {\n",
              "      background-color: #3B4455;\n",
              "      fill: #D2E3FC;\n",
              "    }\n",
              "\n",
              "    [theme=dark] .colab-df-convert:hover {\n",
              "      background-color: #434B5C;\n",
              "      box-shadow: 0px 1px 3px 1px rgba(0, 0, 0, 0.15);\n",
              "      filter: drop-shadow(0px 1px 2px rgba(0, 0, 0, 0.3));\n",
              "      fill: #FFFFFF;\n",
              "    }\n",
              "  </style>\n",
              "\n",
              "      <script>\n",
              "        const buttonEl =\n",
              "          document.querySelector('#df-9593f4af-88b1-4b96-a92d-a1e3eb4e5532 button.colab-df-convert');\n",
              "        buttonEl.style.display =\n",
              "          google.colab.kernel.accessAllowed ? 'block' : 'none';\n",
              "\n",
              "        async function convertToInteractive(key) {\n",
              "          const element = document.querySelector('#df-9593f4af-88b1-4b96-a92d-a1e3eb4e5532');\n",
              "          const dataTable =\n",
              "            await google.colab.kernel.invokeFunction('convertToInteractive',\n",
              "                                                     [key], {});\n",
              "          if (!dataTable) return;\n",
              "\n",
              "          const docLinkHtml = 'Like what you see? Visit the ' +\n",
              "            '<a target=\"_blank\" href=https://colab.research.google.com/notebooks/data_table.ipynb>data table notebook</a>'\n",
              "            + ' to learn more about interactive tables.';\n",
              "          element.innerHTML = '';\n",
              "          dataTable['output_type'] = 'display_data';\n",
              "          await google.colab.output.renderOutput(dataTable, element);\n",
              "          const docLink = document.createElement('div');\n",
              "          docLink.innerHTML = docLinkHtml;\n",
              "          element.appendChild(docLink);\n",
              "        }\n",
              "      </script>\n",
              "    </div>\n",
              "  </div>\n",
              "  "
            ]
          },
          "metadata": {},
          "execution_count": 41
        }
      ]
    },
    {
      "cell_type": "code",
      "source": [
        "from tqdm import tqdm\n",
        "all_questions= []\n",
        "for sentence in tqdm(final_df['question'].values):\n",
        "    sentence = re.sub(r\"http\\S+\", \"\", sentence)\n",
        "    sentence = BeautifulSoup(sentence, 'lxml').get_text()\n",
        "    sentence = re.sub(\"\\S*\\d\\S*\", \"\", sentence).strip()\n",
        "    sentence = re.sub('[^A-Za-z]+', ' ', sentence)\n",
        "    # sentence = ' '.join(e.lower() for e in sentence.split() if e.lower() not in stopwords)\n",
        "    all_questions.append(sentence.strip())"
      ],
      "metadata": {
        "id": "PBwpul5gTVmO",
        "colab": {
          "base_uri": "https://localhost:8080/"
        },
        "outputId": "a3994558-fe48-4e07-e2bc-76ad9f026820"
      },
      "execution_count": null,
      "outputs": [
        {
          "output_type": "stream",
          "name": "stderr",
          "text": [
            "100%|██████████| 500/500 [00:00<00:00, 4538.78it/s]\n"
          ]
        }
      ]
    },
    {
      "cell_type": "code",
      "source": [
        "final_df['question'] =  all_questions"
      ],
      "metadata": {
        "id": "B509YP_2TrIM"
      },
      "execution_count": null,
      "outputs": []
    },
    {
      "cell_type": "markdown",
      "source": [
        "We have 296 duplicate values in our dataset, we will not be dropping those as it will be helpful in getting multiple replies."
      ],
      "metadata": {
        "id": "H13KW8HSeK95"
      }
    },
    {
      "cell_type": "code",
      "source": [
        "final_df.head(2)"
      ],
      "metadata": {
        "id": "PGbCr6GYhCNM",
        "colab": {
          "base_uri": "https://localhost:8080/",
          "height": 150
        },
        "outputId": "0c82eaa1-d257-4a3b-e688-eae87f520e95"
      },
      "execution_count": null,
      "outputs": [
        {
          "output_type": "execute_result",
          "data": {
            "text/plain": [
              "                                            question                reply\n",
              "0            when did beyonce start becoming popular    in the late 1990s\n",
              "1  what areas did beyonce compete in when she was...  singing and dancing"
            ],
            "text/html": [
              "\n",
              "  <div id=\"df-bbb3a3de-581c-4f6a-ad15-25de5d4eafa3\">\n",
              "    <div class=\"colab-df-container\">\n",
              "      <div>\n",
              "<style scoped>\n",
              "    .dataframe tbody tr th:only-of-type {\n",
              "        vertical-align: middle;\n",
              "    }\n",
              "\n",
              "    .dataframe tbody tr th {\n",
              "        vertical-align: top;\n",
              "    }\n",
              "\n",
              "    .dataframe thead th {\n",
              "        text-align: right;\n",
              "    }\n",
              "</style>\n",
              "<table border=\"1\" class=\"dataframe\">\n",
              "  <thead>\n",
              "    <tr style=\"text-align: right;\">\n",
              "      <th></th>\n",
              "      <th>question</th>\n",
              "      <th>reply</th>\n",
              "    </tr>\n",
              "  </thead>\n",
              "  <tbody>\n",
              "    <tr>\n",
              "      <th>0</th>\n",
              "      <td>when did beyonce start becoming popular</td>\n",
              "      <td>in the late 1990s</td>\n",
              "    </tr>\n",
              "    <tr>\n",
              "      <th>1</th>\n",
              "      <td>what areas did beyonce compete in when she was...</td>\n",
              "      <td>singing and dancing</td>\n",
              "    </tr>\n",
              "  </tbody>\n",
              "</table>\n",
              "</div>\n",
              "      <button class=\"colab-df-convert\" onclick=\"convertToInteractive('df-bbb3a3de-581c-4f6a-ad15-25de5d4eafa3')\"\n",
              "              title=\"Convert this dataframe to an interactive table.\"\n",
              "              style=\"display:none;\">\n",
              "        \n",
              "  <svg xmlns=\"http://www.w3.org/2000/svg\" height=\"24px\"viewBox=\"0 0 24 24\"\n",
              "       width=\"24px\">\n",
              "    <path d=\"M0 0h24v24H0V0z\" fill=\"none\"/>\n",
              "    <path d=\"M18.56 5.44l.94 2.06.94-2.06 2.06-.94-2.06-.94-.94-2.06-.94 2.06-2.06.94zm-11 1L8.5 8.5l.94-2.06 2.06-.94-2.06-.94L8.5 2.5l-.94 2.06-2.06.94zm10 10l.94 2.06.94-2.06 2.06-.94-2.06-.94-.94-2.06-.94 2.06-2.06.94z\"/><path d=\"M17.41 7.96l-1.37-1.37c-.4-.4-.92-.59-1.43-.59-.52 0-1.04.2-1.43.59L10.3 9.45l-7.72 7.72c-.78.78-.78 2.05 0 2.83L4 21.41c.39.39.9.59 1.41.59.51 0 1.02-.2 1.41-.59l7.78-7.78 2.81-2.81c.8-.78.8-2.07 0-2.86zM5.41 20L4 18.59l7.72-7.72 1.47 1.35L5.41 20z\"/>\n",
              "  </svg>\n",
              "      </button>\n",
              "      \n",
              "  <style>\n",
              "    .colab-df-container {\n",
              "      display:flex;\n",
              "      flex-wrap:wrap;\n",
              "      gap: 12px;\n",
              "    }\n",
              "\n",
              "    .colab-df-convert {\n",
              "      background-color: #E8F0FE;\n",
              "      border: none;\n",
              "      border-radius: 50%;\n",
              "      cursor: pointer;\n",
              "      display: none;\n",
              "      fill: #1967D2;\n",
              "      height: 32px;\n",
              "      padding: 0 0 0 0;\n",
              "      width: 32px;\n",
              "    }\n",
              "\n",
              "    .colab-df-convert:hover {\n",
              "      background-color: #E2EBFA;\n",
              "      box-shadow: 0px 1px 2px rgba(60, 64, 67, 0.3), 0px 1px 3px 1px rgba(60, 64, 67, 0.15);\n",
              "      fill: #174EA6;\n",
              "    }\n",
              "\n",
              "    [theme=dark] .colab-df-convert {\n",
              "      background-color: #3B4455;\n",
              "      fill: #D2E3FC;\n",
              "    }\n",
              "\n",
              "    [theme=dark] .colab-df-convert:hover {\n",
              "      background-color: #434B5C;\n",
              "      box-shadow: 0px 1px 3px 1px rgba(0, 0, 0, 0.15);\n",
              "      filter: drop-shadow(0px 1px 2px rgba(0, 0, 0, 0.3));\n",
              "      fill: #FFFFFF;\n",
              "    }\n",
              "  </style>\n",
              "\n",
              "      <script>\n",
              "        const buttonEl =\n",
              "          document.querySelector('#df-bbb3a3de-581c-4f6a-ad15-25de5d4eafa3 button.colab-df-convert');\n",
              "        buttonEl.style.display =\n",
              "          google.colab.kernel.accessAllowed ? 'block' : 'none';\n",
              "\n",
              "        async function convertToInteractive(key) {\n",
              "          const element = document.querySelector('#df-bbb3a3de-581c-4f6a-ad15-25de5d4eafa3');\n",
              "          const dataTable =\n",
              "            await google.colab.kernel.invokeFunction('convertToInteractive',\n",
              "                                                     [key], {});\n",
              "          if (!dataTable) return;\n",
              "\n",
              "          const docLinkHtml = 'Like what you see? Visit the ' +\n",
              "            '<a target=\"_blank\" href=https://colab.research.google.com/notebooks/data_table.ipynb>data table notebook</a>'\n",
              "            + ' to learn more about interactive tables.';\n",
              "          element.innerHTML = '';\n",
              "          dataTable['output_type'] = 'display_data';\n",
              "          await google.colab.output.renderOutput(dataTable, element);\n",
              "          const docLink = document.createElement('div');\n",
              "          docLink.innerHTML = docLinkHtml;\n",
              "          element.appendChild(docLink);\n",
              "        }\n",
              "      </script>\n",
              "    </div>\n",
              "  </div>\n",
              "  "
            ]
          },
          "metadata": {},
          "execution_count": 44
        }
      ]
    },
    {
      "cell_type": "code",
      "source": [
        "tokenizer = preprocessing.text.Tokenizer()\n",
        "tokenizer.fit_on_texts( final_df['question'] + final_df['reply'] )\n",
        "VOCAB_SIZE = len(tokenizer.word_index)+1\n",
        "print( 'VOCAB SIZE : {}'.format( VOCAB_SIZE ))"
      ],
      "metadata": {
        "id": "oXhmLR9taJTe",
        "colab": {
          "base_uri": "https://localhost:8080/"
        },
        "outputId": "2db93d4c-733b-4efb-c774-cccc32f83985"
      },
      "execution_count": null,
      "outputs": [
        {
          "output_type": "stream",
          "name": "stdout",
          "text": [
            "VOCAB SIZE : 3598\n"
          ]
        }
      ]
    },
    {
      "cell_type": "markdown",
      "source": [
        "Preparing data for Seq2Seq model\n",
        "This model requires 3 arrays encoder_input_data, decoder_input_data and decoder_output_data.\n",
        "\n",
        "For encoder_input_data: Tokensize the Questions and Pad them to their maximum Length.\n",
        "\n",
        "For decoder_input_data: Tokensize the Answers and Pad them to their maximum Length.\n",
        "\n",
        "For decoder_output_data: Tokensize the Answers and Remove the 1st element from all the tokenized_answers. This is the element which was added earlier."
      ],
      "metadata": {
        "id": "AGko2YeHc9kS"
      }
    },
    {
      "cell_type": "code",
      "source": [
        "vocab = []\n",
        "for word in tokenizer.word_index:\n",
        "  vocab.append(word)\n",
        "\n",
        "def tokenize(sentences):\n",
        "  tokens_list = []\n",
        "  vocabulary = []\n",
        "  for sentence in sentences:\n",
        "    sentence = sentence.lower()\n",
        "    sentence = re.sub('[^a-zA-Z]', ' ', sentence)\n",
        "    tokens = sentence.split()\n",
        "    vocabulary += tokens\n",
        "    tokens_list.append(tokens)\n",
        "  return tokens_list, vocabulary"
      ],
      "metadata": {
        "id": "FQNWWwtube0s"
      },
      "execution_count": null,
      "outputs": []
    },
    {
      "cell_type": "code",
      "source": [
        "#encoder_input_data\n",
        "tokenized_questions = tokenizer.texts_to_sequences( final_df['question'] )\n",
        "maxlen_questions = max( [len(x) for x in tokenized_questions ] )\n",
        "padded_questions = preprocessing.sequence.pad_sequences( tokenized_questions, maxlen = maxlen_questions, padding = 'post')\n",
        "encoder_input_data = np.array(padded_questions)\n",
        "print(encoder_input_data.shape, maxlen_questions)"
      ],
      "metadata": {
        "id": "oosV5HkwdBxF",
        "colab": {
          "base_uri": "https://localhost:8080/"
        },
        "outputId": "ae0a2c3f-1a5a-4b46-84a6-8cdc19174454"
      },
      "execution_count": null,
      "outputs": [
        {
          "output_type": "stream",
          "name": "stdout",
          "text": [
            "(500, 913) 913\n"
          ]
        }
      ]
    },
    {
      "cell_type": "code",
      "source": [
        "# decoder_input_data\n",
        "tokenized_answers = tokenizer.texts_to_sequences( final_df['reply'] )\n",
        "maxlen_answers = max( [ len(x) for x in tokenized_answers ] )\n",
        "padded_answers = preprocessing.sequence.pad_sequences( tokenized_answers , maxlen=maxlen_answers , padding='post' )\n",
        "decoder_input_data = np.array( padded_answers )\n",
        "print( decoder_input_data.shape , maxlen_answers )"
      ],
      "metadata": {
        "id": "F2jrae72dfEP",
        "colab": {
          "base_uri": "https://localhost:8080/"
        },
        "outputId": "f1af4775-87d8-4c8a-c2f5-1b7ba1f5d1de"
      },
      "execution_count": null,
      "outputs": [
        {
          "output_type": "stream",
          "name": "stdout",
          "text": [
            "(500, 930) 930\n"
          ]
        }
      ]
    },
    {
      "cell_type": "code",
      "source": [
        "x  = "
      ],
      "metadata": {
        "id": "ZsysbEq-kgal"
      },
      "execution_count": null,
      "outputs": []
    },
    {
      "cell_type": "code",
      "source": [
        "# decoder_output_data\n",
        "tokenized_answers = tokenizer.texts_to_sequences( final_df['reply'] )\n",
        "for i in range(len(tokenized_answers)) :\n",
        "    tokenized_answers[i] = tokenized_answers[i][1:]"
      ],
      "metadata": {
        "id": "zcK6S0OsdkjT"
      },
      "execution_count": null,
      "outputs": []
    },
    {
      "cell_type": "code",
      "source": [
        "padded_answers = preprocessing.sequence.pad_sequences( tokenized_answers , maxlen=maxlen_answers , padding='post' )"
      ],
      "metadata": {
        "id": "1C85PKDRmkSL"
      },
      "execution_count": null,
      "outputs": []
    },
    {
      "cell_type": "code",
      "source": [
        "padded_answers[:500].shape"
      ],
      "metadata": {
        "colab": {
          "base_uri": "https://localhost:8080/"
        },
        "id": "ZhRNtJZjoha0",
        "outputId": "479f239d-950b-4ccd-c258-4779dd474482"
      },
      "execution_count": null,
      "outputs": [
        {
          "output_type": "execute_result",
          "data": {
            "text/plain": [
              "(500, 930)"
            ]
          },
          "metadata": {},
          "execution_count": 51
        }
      ]
    },
    {
      "cell_type": "code",
      "source": [
        "#https://www.geeksforgeeks.org/python-keras-keras-utils-to_categorical/\n",
        "onehot_answers = utils.to_categorical(padded_answers , VOCAB_SIZE)"
      ],
      "metadata": {
        "id": "kCuH60COmm79"
      },
      "execution_count": null,
      "outputs": []
    },
    {
      "cell_type": "code",
      "source": [
        "decoder_output_data = np.array( onehot_answers)\n",
        "print( decoder_output_data.shape)"
      ],
      "metadata": {
        "colab": {
          "base_uri": "https://localhost:8080/"
        },
        "id": "zElLFfNvTMoY",
        "outputId": "4ec18b8a-ddbc-4ef9-c4ff-0bb975f0dec8"
      },
      "execution_count": null,
      "outputs": [
        {
          "output_type": "stream",
          "name": "stdout",
          "text": [
            "(500, 930, 3598)\n"
          ]
        }
      ]
    },
    {
      "cell_type": "code",
      "source": [
        "encoder_inputs = tf.keras.layers.Input(shape=( maxlen_questions , ))\n",
        "encoder_embedding = tf.keras.layers.Embedding( VOCAB_SIZE, 200 , mask_zero=True ) (encoder_inputs)\n",
        "encoder_outputs , state_h , state_c = tf.keras.layers.LSTM( 200 , return_state=True )( encoder_embedding )\n",
        "encoder_states = [state_h , state_c]\n",
        "\n",
        "decoder_inputs = tf.keras.layers.Input(shape=( maxlen_answers ,  ))\n",
        "decoder_embedding = tf.keras.layers.Embedding( VOCAB_SIZE, 200 , mask_zero=True) (decoder_inputs)\n",
        "decoder_lstm = tf.keras.layers.LSTM( 200 , return_state=True , return_sequences=True )\n",
        "decoder_outputs , _ , _ = decoder_lstm ( decoder_embedding , initial_state=encoder_states )\n",
        "decoder_dense = tf.keras.layers.Dense( VOCAB_SIZE , activation=tf.keras.activations.softmax ) \n",
        "output = decoder_dense ( decoder_outputs )\n",
        "\n",
        "model = tf.keras.models.Model([encoder_inputs, decoder_inputs], output )\n",
        "model.compile(optimizer=tf.keras.optimizers.RMSprop(), loss='categorical_crossentropy')\n",
        "\n",
        "model.summary()"
      ],
      "metadata": {
        "colab": {
          "base_uri": "https://localhost:8080/"
        },
        "id": "gXOfiEW9QIPT",
        "outputId": "ca2e8e98-4142-487e-f131-13024270bc16"
      },
      "execution_count": null,
      "outputs": [
        {
          "output_type": "stream",
          "name": "stdout",
          "text": [
            "Model: \"model_1\"\n",
            "__________________________________________________________________________________________________\n",
            " Layer (type)                   Output Shape         Param #     Connected to                     \n",
            "==================================================================================================\n",
            " input_3 (InputLayer)           [(None, 913)]        0           []                               \n",
            "                                                                                                  \n",
            " input_4 (InputLayer)           [(None, 930)]        0           []                               \n",
            "                                                                                                  \n",
            " embedding_2 (Embedding)        (None, 913, 200)     719600      ['input_3[0][0]']                \n",
            "                                                                                                  \n",
            " embedding_3 (Embedding)        (None, 930, 200)     719600      ['input_4[0][0]']                \n",
            "                                                                                                  \n",
            " lstm_2 (LSTM)                  [(None, 200),        320800      ['embedding_2[0][0]']            \n",
            "                                 (None, 200),                                                     \n",
            "                                 (None, 200)]                                                     \n",
            "                                                                                                  \n",
            " lstm_3 (LSTM)                  [(None, 930, 200),   320800      ['embedding_3[0][0]',            \n",
            "                                 (None, 200),                     'lstm_2[0][1]',                 \n",
            "                                 (None, 200)]                     'lstm_2[0][2]']                 \n",
            "                                                                                                  \n",
            " dense_1 (Dense)                (None, 930, 3598)    723198      ['lstm_3[0][0]']                 \n",
            "                                                                                                  \n",
            "==================================================================================================\n",
            "Total params: 2,803,998\n",
            "Trainable params: 2,803,998\n",
            "Non-trainable params: 0\n",
            "__________________________________________________________________________________________________\n"
          ]
        }
      ]
    },
    {
      "cell_type": "code",
      "source": [
        "model.fit([encoder_input_data , decoder_input_data], decoder_output_data, batch_size=50, epochs=150 ) \n",
        "model.save('model.h5')"
      ],
      "metadata": {
        "colab": {
          "base_uri": "https://localhost:8080/"
        },
        "id": "p4KU5kGVTICS",
        "outputId": "e05a531f-5590-41e4-aa84-63985ab328b1"
      },
      "execution_count": null,
      "outputs": [
        {
          "metadata": {
            "tags": null
          },
          "name": "stdout",
          "output_type": "stream",
          "text": [
            "Epoch 1/150\n",
            "10/10 [==============================] - 49s 4s/step - loss: 0.2819\n",
            "Epoch 2/150\n",
            "10/10 [==============================] - 41s 4s/step - loss: 0.2448\n",
            "Epoch 3/150\n",
            "10/10 [==============================] - 41s 4s/step - loss: 0.2417\n",
            "Epoch 4/150\n",
            "10/10 [==============================] - 40s 4s/step - loss: 0.2402\n",
            "Epoch 5/150\n",
            "10/10 [==============================] - 40s 4s/step - loss: 0.2393\n",
            "Epoch 6/150\n",
            "10/10 [==============================] - 40s 4s/step - loss: 0.2382\n",
            "Epoch 7/150\n",
            "10/10 [==============================] - 40s 4s/step - loss: 0.2370\n",
            "Epoch 8/150\n",
            "10/10 [==============================] - 40s 4s/step - loss: 0.2357\n",
            "Epoch 9/150\n",
            "10/10 [==============================] - 41s 4s/step - loss: 0.2345\n",
            "Epoch 10/150\n",
            "10/10 [==============================] - 40s 4s/step - loss: 0.2331\n",
            "Epoch 11/150\n",
            "10/10 [==============================] - 40s 4s/step - loss: 0.2322\n",
            "Epoch 12/150\n",
            "10/10 [==============================] - 40s 4s/step - loss: 0.2310\n",
            "Epoch 13/150\n",
            "10/10 [==============================] - 40s 4s/step - loss: 0.2301\n",
            "Epoch 14/150\n",
            "10/10 [==============================] - 40s 4s/step - loss: 0.2289\n",
            "Epoch 15/150\n",
            "10/10 [==============================] - 41s 4s/step - loss: 0.2278\n",
            "Epoch 16/150\n",
            "10/10 [==============================] - 40s 4s/step - loss: 0.2266\n",
            "Epoch 17/150\n",
            "10/10 [==============================] - 40s 4s/step - loss: 0.2256\n",
            "Epoch 18/150\n",
            "10/10 [==============================] - 40s 4s/step - loss: 0.2243\n",
            "Epoch 19/150\n",
            "10/10 [==============================] - 40s 4s/step - loss: 0.2231\n",
            "Epoch 20/150\n",
            "10/10 [==============================] - 40s 4s/step - loss: 0.2217\n",
            "Epoch 21/150\n",
            "10/10 [==============================] - 41s 4s/step - loss: 0.2203\n",
            "Epoch 22/150\n",
            "10/10 [==============================] - 40s 4s/step - loss: 0.2191\n",
            "Epoch 23/150\n",
            "10/10 [==============================] - 41s 4s/step - loss: 0.2174\n",
            "Epoch 24/150\n",
            "10/10 [==============================] - 41s 4s/step - loss: 0.2163\n",
            "Epoch 25/150\n",
            "10/10 [==============================] - 41s 4s/step - loss: 0.2147\n",
            "Epoch 26/150\n",
            "10/10 [==============================] - 40s 4s/step - loss: 0.2138\n",
            "Epoch 27/150\n",
            "10/10 [==============================] - 41s 4s/step - loss: 0.2119\n",
            "Epoch 28/150\n",
            "10/10 [==============================] - 41s 4s/step - loss: 0.2104\n",
            "Epoch 29/150\n",
            "10/10 [==============================] - 40s 4s/step - loss: 0.2093\n",
            "Epoch 30/150\n",
            "10/10 [==============================] - 40s 4s/step - loss: 0.2074\n",
            "Epoch 31/150\n",
            "10/10 [==============================] - 40s 4s/step - loss: 0.2061\n",
            "Epoch 32/150\n",
            "10/10 [==============================] - 41s 4s/step - loss: 0.2046\n",
            "Epoch 33/150\n",
            "10/10 [==============================] - 40s 4s/step - loss: 0.2029\n",
            "Epoch 34/150\n",
            "10/10 [==============================] - 40s 4s/step - loss: 0.2012\n",
            "Epoch 35/150\n",
            "10/10 [==============================] - 41s 4s/step - loss: 0.1999\n",
            "Epoch 36/150\n",
            "10/10 [==============================] - 41s 4s/step - loss: 0.1982\n",
            "Epoch 37/150\n",
            "10/10 [==============================] - 40s 4s/step - loss: 0.1964\n",
            "Epoch 38/150\n",
            "10/10 [==============================] - 41s 4s/step - loss: 0.1947\n",
            "Epoch 39/150\n",
            "10/10 [==============================] - 41s 4s/step - loss: 0.1932\n",
            "Epoch 40/150\n",
            "10/10 [==============================] - 41s 4s/step - loss: 0.1913\n",
            "Epoch 41/150\n",
            "10/10 [==============================] - 41s 4s/step - loss: 0.1899\n",
            "Epoch 42/150\n",
            "10/10 [==============================] - 41s 4s/step - loss: 0.1882\n",
            "Epoch 43/150\n",
            "10/10 [==============================] - 41s 4s/step - loss: 0.1864\n",
            "Epoch 44/150\n",
            "10/10 [==============================] - 41s 4s/step - loss: 0.1846\n",
            "Epoch 45/150\n",
            "10/10 [==============================] - 41s 4s/step - loss: 0.1830\n",
            "Epoch 46/150\n",
            "10/10 [==============================] - 41s 4s/step - loss: 0.1816\n",
            "Epoch 47/150\n",
            "10/10 [==============================] - 41s 4s/step - loss: 0.1799\n",
            "Epoch 48/150\n",
            "10/10 [==============================] - 41s 4s/step - loss: 0.1781\n",
            "Epoch 49/150\n",
            "10/10 [==============================] - 41s 4s/step - loss: 0.1764\n",
            "Epoch 50/150\n",
            "10/10 [==============================] - 41s 4s/step - loss: 0.1749\n",
            "Epoch 51/150\n",
            "10/10 [==============================] - 41s 4s/step - loss: 0.1731\n",
            "Epoch 52/150\n",
            "10/10 [==============================] - 41s 4s/step - loss: 0.1716\n",
            "Epoch 53/150\n",
            "10/10 [==============================] - 41s 4s/step - loss: 0.1701\n",
            "Epoch 54/150\n",
            "10/10 [==============================] - 41s 4s/step - loss: 0.1680\n",
            "Epoch 55/150\n",
            "10/10 [==============================] - 41s 4s/step - loss: 0.1667\n",
            "Epoch 56/150\n",
            "10/10 [==============================] - 41s 4s/step - loss: 0.1649\n",
            "Epoch 57/150\n",
            "10/10 [==============================] - 41s 4s/step - loss: 0.1638\n",
            "Epoch 58/150\n",
            "10/10 [==============================] - 41s 4s/step - loss: 0.1619\n",
            "Epoch 59/150\n",
            "10/10 [==============================] - 41s 4s/step - loss: 0.1605\n",
            "Epoch 60/150\n",
            "10/10 [==============================] - 41s 4s/step - loss: 0.1593\n",
            "Epoch 61/150\n",
            "10/10 [==============================] - 41s 4s/step - loss: 0.1573\n",
            "Epoch 62/150\n",
            "10/10 [==============================] - 41s 4s/step - loss: 0.1558\n",
            "Epoch 63/150\n",
            "10/10 [==============================] - 41s 4s/step - loss: 0.1546\n",
            "Epoch 64/150\n",
            "10/10 [==============================] - 41s 4s/step - loss: 0.1529\n",
            "Epoch 65/150\n",
            "10/10 [==============================] - 41s 4s/step - loss: 0.1514\n",
            "Epoch 66/150\n",
            "10/10 [==============================] - 41s 4s/step - loss: 0.1498\n",
            "Epoch 67/150\n",
            "10/10 [==============================] - 40s 4s/step - loss: 0.1486\n",
            "Epoch 68/150\n",
            "10/10 [==============================] - 40s 4s/step - loss: 0.1470\n",
            "Epoch 69/150\n",
            "10/10 [==============================] - 40s 4s/step - loss: 0.1451\n",
            "Epoch 70/150\n",
            "10/10 [==============================] - 41s 4s/step - loss: 0.1443\n",
            "Epoch 71/150\n",
            "10/10 [==============================] - 41s 4s/step - loss: 0.1425\n",
            "Epoch 72/150\n",
            "10/10 [==============================] - 41s 4s/step - loss: 0.1409\n",
            "Epoch 73/150\n",
            "10/10 [==============================] - 41s 4s/step - loss: 0.1395\n",
            "Epoch 74/150\n",
            "10/10 [==============================] - 40s 4s/step - loss: 0.1381\n",
            "Epoch 75/150\n",
            "10/10 [==============================] - 41s 4s/step - loss: 0.1371\n",
            "Epoch 76/150\n",
            "10/10 [==============================] - 41s 4s/step - loss: 0.1348\n",
            "Epoch 77/150\n",
            "10/10 [==============================] - 41s 4s/step - loss: 0.1342\n",
            "Epoch 78/150\n",
            "10/10 [==============================] - 41s 4s/step - loss: 0.1324\n",
            "Epoch 79/150\n",
            "10/10 [==============================] - 41s 4s/step - loss: 0.1308\n",
            "Epoch 80/150\n",
            "10/10 [==============================] - 40s 4s/step - loss: 0.1293\n",
            "Epoch 81/150\n",
            "10/10 [==============================] - 41s 4s/step - loss: 0.1285\n",
            "Epoch 82/150\n",
            "10/10 [==============================] - 41s 4s/step - loss: 0.1264\n",
            "Epoch 83/150\n",
            "10/10 [==============================] - 41s 4s/step - loss: 0.1248\n",
            "Epoch 84/150\n",
            "10/10 [==============================] - 41s 4s/step - loss: 0.1236\n",
            "Epoch 85/150\n",
            "10/10 [==============================] - 41s 4s/step - loss: 0.1228\n",
            "Epoch 86/150\n",
            "10/10 [==============================] - 43s 4s/step - loss: 0.1209\n",
            "Epoch 87/150\n",
            "10/10 [==============================] - 41s 4s/step - loss: 0.1196\n",
            "Epoch 88/150\n",
            "10/10 [==============================] - 41s 4s/step - loss: 0.1180\n",
            "Epoch 89/150\n",
            "10/10 [==============================] - 41s 4s/step - loss: 0.1168\n",
            "Epoch 90/150\n",
            "10/10 [==============================] - 41s 4s/step - loss: 0.1155\n",
            "Epoch 91/150\n",
            "10/10 [==============================] - 41s 4s/step - loss: 0.1144\n",
            "Epoch 92/150\n",
            "10/10 [==============================] - 42s 4s/step - loss: 0.1124\n",
            "Epoch 93/150\n",
            "10/10 [==============================] - 41s 4s/step - loss: 0.1112\n",
            "Epoch 94/150\n",
            "10/10 [==============================] - 41s 4s/step - loss: 0.1100\n",
            "Epoch 95/150\n",
            "10/10 [==============================] - 41s 4s/step - loss: 0.1085\n",
            "Epoch 96/150\n",
            "10/10 [==============================] - 41s 4s/step - loss: 0.1074\n",
            "Epoch 97/150\n",
            "10/10 [==============================] - 41s 4s/step - loss: 0.1056\n",
            "Epoch 98/150\n",
            "10/10 [==============================] - 42s 4s/step - loss: 0.1047\n",
            "Epoch 99/150\n",
            "10/10 [==============================] - 41s 4s/step - loss: 0.1035\n",
            "Epoch 100/150\n",
            "10/10 [==============================] - 41s 4s/step - loss: 0.1020\n",
            "Epoch 101/150\n",
            "10/10 [==============================] - 41s 4s/step - loss: 0.1006\n",
            "Epoch 102/150\n",
            "10/10 [==============================] - 41s 4s/step - loss: 0.0995\n",
            "Epoch 103/150\n",
            "10/10 [==============================] - 41s 4s/step - loss: 0.0986\n",
            "Epoch 104/150\n",
            "10/10 [==============================] - 41s 4s/step - loss: 0.0971\n",
            "Epoch 105/150\n",
            "10/10 [==============================] - 41s 4s/step - loss: 0.0953\n",
            "Epoch 106/150\n",
            "10/10 [==============================] - 41s 4s/step - loss: 0.0942\n",
            "Epoch 107/150\n",
            "10/10 [==============================] - 41s 4s/step - loss: 0.0937\n",
            "Epoch 108/150\n",
            "10/10 [==============================] - 41s 4s/step - loss: 0.0920\n",
            "Epoch 109/150\n",
            "10/10 [==============================] - 41s 4s/step - loss: 0.0907\n",
            "Epoch 110/150\n",
            "10/10 [==============================] - 40s 4s/step - loss: 0.0900\n",
            "Epoch 111/150\n",
            "10/10 [==============================] - 40s 4s/step - loss: 0.0880\n",
            "Epoch 112/150\n",
            "10/10 [==============================] - 40s 4s/step - loss: 0.0873\n",
            "Epoch 113/150\n",
            "10/10 [==============================] - 41s 4s/step - loss: 0.0860\n",
            "Epoch 114/150\n",
            "10/10 [==============================] - 40s 4s/step - loss: 0.0848\n",
            "Epoch 115/150\n",
            "10/10 [==============================] - 41s 4s/step - loss: 0.0839\n",
            "Epoch 116/150\n",
            "10/10 [==============================] - 41s 4s/step - loss: 0.0823\n",
            "Epoch 117/150\n",
            "10/10 [==============================] - 41s 4s/step - loss: 0.0822\n",
            "Epoch 118/150\n",
            "10/10 [==============================] - 40s 4s/step - loss: 0.0807\n",
            "Epoch 119/150\n",
            "10/10 [==============================] - 40s 4s/step - loss: 0.0791\n",
            "Epoch 120/150\n",
            "10/10 [==============================] - 41s 4s/step - loss: 0.0777\n",
            "Epoch 121/150\n",
            "10/10 [==============================] - 41s 4s/step - loss: 0.0773\n",
            "Epoch 122/150\n",
            "10/10 [==============================] - 40s 4s/step - loss: 0.0762\n",
            "Epoch 123/150\n",
            "10/10 [==============================] - 41s 4s/step - loss: 0.0745\n",
            "Epoch 124/150\n",
            "10/10 [==============================] - 41s 4s/step - loss: 0.0738\n",
            "Epoch 125/150\n",
            "10/10 [==============================] - 41s 4s/step - loss: 0.0730\n",
            "Epoch 126/150\n",
            "10/10 [==============================] - 41s 4s/step - loss: 0.0721\n",
            "Epoch 127/150\n",
            "10/10 [==============================] - 41s 4s/step - loss: 0.0707\n",
            "Epoch 128/150\n",
            "10/10 [==============================] - 41s 4s/step - loss: 0.0692\n",
            "Epoch 129/150\n",
            "10/10 [==============================] - 41s 4s/step - loss: 0.0691\n",
            "Epoch 130/150\n",
            "10/10 [==============================] - 40s 4s/step - loss: 0.0678\n",
            "Epoch 131/150\n",
            "10/10 [==============================] - 40s 4s/step - loss: 0.0663\n",
            "Epoch 132/150\n",
            "10/10 [==============================] - 41s 4s/step - loss: 0.0659\n",
            "Epoch 133/150\n",
            "10/10 [==============================] - 41s 4s/step - loss: 0.0643\n",
            "Epoch 134/150\n",
            "10/10 [==============================] - 40s 4s/step - loss: 0.0642\n",
            "Epoch 135/150\n",
            "10/10 [==============================] - 41s 4s/step - loss: 0.0625\n",
            "Epoch 136/150\n",
            "10/10 [==============================] - 41s 4s/step - loss: 0.0618\n",
            "Epoch 137/150\n",
            "10/10 [==============================] - 41s 4s/step - loss: 0.0609\n",
            "Epoch 138/150\n",
            "10/10 [==============================] - 41s 4s/step - loss: 0.0598\n",
            "Epoch 139/150\n",
            "10/10 [==============================] - 41s 4s/step - loss: 0.0588\n",
            "Epoch 140/150\n",
            "10/10 [==============================] - 41s 4s/step - loss: 0.0585\n",
            "Epoch 141/150\n",
            "10/10 [==============================] - 41s 4s/step - loss: 0.0570\n",
            "Epoch 142/150\n",
            "10/10 [==============================] - 41s 4s/step - loss: 0.0561\n",
            "Epoch 143/150\n",
            "10/10 [==============================] - 41s 4s/step - loss: 0.0553\n",
            "Epoch 144/150\n",
            "10/10 [==============================] - 41s 4s/step - loss: 0.0548\n",
            "Epoch 145/150\n",
            "10/10 [==============================] - 41s 4s/step - loss: 0.0535\n",
            "Epoch 146/150\n",
            "10/10 [==============================] - 41s 4s/step - loss: 0.0527\n",
            "Epoch 147/150\n",
            "10/10 [==============================] - 41s 4s/step - loss: 0.0515\n",
            "Epoch 148/150\n",
            "10/10 [==============================] - 41s 4s/step - loss: 0.0516\n",
            "Epoch 149/150\n",
            "10/10 [==============================] - 41s 4s/step - loss: 0.0502\n",
            "Epoch 150/150\n",
            "10/10 [==============================] - 41s 4s/step - loss: 0.0501\n"
          ]
        }
      ]
    },
    {
      "cell_type": "markdown",
      "source": [
        "--> Here we used encoder and decoder model with LSTM layer unit, we were able to acheive a loss of 0.0501. however this model could not take the words which are out of its context, which we will try to improve when we use feature engineering and apply a better model."
      ],
      "metadata": {
        "id": "nRKw7TMiFJH9"
      }
    }
  ]
}