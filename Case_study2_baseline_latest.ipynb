{
  "cells": [
    {
      "cell_type": "code",
      "execution_count": 1,
      "metadata": {
        "id": "D4mKxC01g86e"
      },
      "outputs": [],
      "source": [
        "import os\n",
        "import pandas as pd\n",
        "import numpy as np\n",
        "import nltk\n",
        "import string\n",
        "import time\n",
        "import re\n",
        "import gzip\n",
        "import matplotlib.pyplot as plt\n",
        "import seaborn as sns\n",
        "from tqdm import tqdm\n",
        "import datetime\n",
        "import pickle\n",
        "from scipy.stats import randint as sp_randint\n",
        "from scipy.stats import uniform\n",
        "import plotly.graph_objs as go\n",
        "from plotly.offline import init_notebook_mode, iplot\n",
        "import json\n",
        "import warnings\n",
        "warnings.filterwarnings('ignore')\n",
        "import tensorflow as tf\n",
        "tf.keras.backend.clear_session()\n",
        "from sklearn.model_selection import train_test_split\n",
        "from tensorflow.keras.layers import Dense,concatenate,Activation,Dropout,Input\n",
        "from tensorflow.keras.models import Model\n",
        "import keras\n",
        "import keras.utils\n",
        "from tensorflow.keras import utils as np_utils\n",
        "from tensorflow.keras import models\n",
        "from tensorflow.keras.models import load_model\n",
        "from tensorflow.keras.preprocessing.text import Tokenizer, one_hot\n",
        "from tensorflow.keras.preprocessing.sequence import pad_sequences\n",
        "from tensorflow.keras.layers import Input, Embedding, LSTM, Dropout, BatchNormalization, Dense, concatenate\n",
        "from tensorflow.keras import regularizers\n",
        "from tensorflow.keras.callbacks import ModelCheckpoint, EarlyStopping, TensorBoard, ReduceLROnPlateau\n",
        "from keras.utils import plot_model\n",
        "from IPython.display import Image\n",
        "from nltk.translate.bleu_score import corpus_bleu\n",
        "from nltk.translate.bleu_score import sentence_bleu\n",
        "from prettytable import PrettyTable"
      ]
    },
    {
      "cell_type": "code",
      "execution_count": 2,
      "metadata": {
        "colab": {
          "base_uri": "https://localhost:8080/"
        },
        "id": "d7hXiRoOeqeO",
        "outputId": "2f3989cf-532a-496c-bd20-52e1fed0d4e7"
      },
      "outputs": [
        {
          "output_type": "stream",
          "name": "stdout",
          "text": [
            "Drive already mounted at /content/drive; to attempt to forcibly remount, call drive.mount(\"/content/drive\", force_remount=True).\n"
          ]
        }
      ],
      "source": [
        "from google.colab import drive\n",
        "drive.mount('/content/drive')"
      ]
    },
    {
      "cell_type": "markdown",
      "metadata": {
        "id": "aX3gZ7D-0lit"
      },
      "source": [
        "Data explorations\n",
        "\n"
      ]
    },
    {
      "cell_type": "code",
      "execution_count": 3,
      "metadata": {
        "id": "_ynOf16ng88_"
      },
      "outputs": [],
      "source": [
        "#http://jmcauley.ucsd.edu/data/amazon/qa/\n",
        "\n",
        "def parse(path):\n",
        "     g = gzip.open(path, 'rb')\n",
        "     for l in g:\n",
        "         yield eval(l)\n",
        "\n",
        "def getDF(path):\n",
        "     i = 0\n",
        "     df = {}\n",
        "     for d in parse(path):\n",
        "         df[i] = d\n",
        "         i += 1\n",
        "     return pd.DataFrame.from_dict(df, orient='index')"
      ]
    },
    {
      "cell_type": "code",
      "execution_count": 4,
      "metadata": {
        "colab": {
          "base_uri": "https://localhost:8080/",
          "height": 502
        },
        "id": "qy_MWq4qtRKk",
        "outputId": "588d5724-eaf3-4e38-9b19-9b30a5e4e545",
        "scrolled": true
      },
      "outputs": [
        {
          "output_type": "stream",
          "name": "stdout",
          "text": [
            "CPU times: user 44.2 s, sys: 735 ms, total: 44.9 s\n",
            "Wall time: 46.1 s\n"
          ]
        },
        {
          "output_type": "execute_result",
          "data": {
            "text/plain": [
              "      questionType        asin    answerTime      unixTime  \\\n",
              "0       open-ended  B000022440  Jan 29, 2013  1.359446e+09   \n",
              "1       open-ended  B000022440  Oct 26, 2013  1.382771e+09   \n",
              "2           yes/no  B000022440  Dec 24, 2013  1.387872e+09   \n",
              "3           yes/no  B000022440  Jan 31, 2014  1.391155e+09   \n",
              "4           yes/no  B000022440   Dec 1, 2014  1.417421e+09   \n",
              "...            ...         ...           ...           ...   \n",
              "13302       yes/no  B00KGGJPYA  Nov 26, 2014  1.416989e+09   \n",
              "13303       yes/no  B00KGGJPYA  Oct 19, 2014  1.413702e+09   \n",
              "13304   open-ended  B00KGGJPYA  Oct 15, 2014  1.413356e+09   \n",
              "13305       yes/no  B00KGGJPYA  Jul 15, 2014  1.405408e+09   \n",
              "13306   open-ended  B00KGGJPYA   Jul 7, 2014  1.404716e+09   \n",
              "\n",
              "                                                question  \\\n",
              "0                 What is the most useful length to get?   \n",
              "1           Are these cables made of copper or aluminum?   \n",
              "2      I bought the Red Extra Heavy Duty. Is that too...   \n",
              "3               Hi, Being 20ft 4gauge how heavy is this?   \n",
              "4                       Do these cables come with a bag?   \n",
              "...                                                  ...   \n",
              "13302  Does the adaptor cord for the iPhone 5 work wi...   \n",
              "13303                       will it charge a kidle fire?   \n",
              "13304           What are the dimensions of this product?   \n",
              "13305  Does this have connector for 5C? I think 5C is...   \n",
              "13306  so I just bought the Gembonics Battery Back up...   \n",
              "\n",
              "                                                  answer answerType  \n",
              "0      at least 20 feet.......heres why....say you ha...        NaN  \n",
              "1      Coleman's website does indeed say copper equiv...        NaN  \n",
              "2      For jumper cables, you can never have \"too muc...          ?  \n",
              "3      Not nearly heavy enough. I keep them under my ...          ?  \n",
              "4                                                     No          N  \n",
              "...                                                  ...        ...  \n",
              "13302                                                 No          N  \n",
              "13303  Simply answered, yes. It comes with a 3-in-1 a...          Y  \n",
              "13304                                  4 by 1 1/2 inches        NaN  \n",
              "13305  I was able to charge Gembonics battery with iP...          ?  \n",
              "13306  The Gembonics charger comes with a 3-in-1 cabl...        NaN  \n",
              "\n",
              "[1343851 rows x 7 columns]"
            ],
            "text/html": [
              "\n",
              "  <div id=\"df-84f6f3e2-e99d-49e7-98b9-635fa0149c7a\">\n",
              "    <div class=\"colab-df-container\">\n",
              "      <div>\n",
              "<style scoped>\n",
              "    .dataframe tbody tr th:only-of-type {\n",
              "        vertical-align: middle;\n",
              "    }\n",
              "\n",
              "    .dataframe tbody tr th {\n",
              "        vertical-align: top;\n",
              "    }\n",
              "\n",
              "    .dataframe thead th {\n",
              "        text-align: right;\n",
              "    }\n",
              "</style>\n",
              "<table border=\"1\" class=\"dataframe\">\n",
              "  <thead>\n",
              "    <tr style=\"text-align: right;\">\n",
              "      <th></th>\n",
              "      <th>questionType</th>\n",
              "      <th>asin</th>\n",
              "      <th>answerTime</th>\n",
              "      <th>unixTime</th>\n",
              "      <th>question</th>\n",
              "      <th>answer</th>\n",
              "      <th>answerType</th>\n",
              "    </tr>\n",
              "  </thead>\n",
              "  <tbody>\n",
              "    <tr>\n",
              "      <th>0</th>\n",
              "      <td>open-ended</td>\n",
              "      <td>B000022440</td>\n",
              "      <td>Jan 29, 2013</td>\n",
              "      <td>1.359446e+09</td>\n",
              "      <td>What is the most useful length to get?</td>\n",
              "      <td>at least 20 feet.......heres why....say you ha...</td>\n",
              "      <td>NaN</td>\n",
              "    </tr>\n",
              "    <tr>\n",
              "      <th>1</th>\n",
              "      <td>open-ended</td>\n",
              "      <td>B000022440</td>\n",
              "      <td>Oct 26, 2013</td>\n",
              "      <td>1.382771e+09</td>\n",
              "      <td>Are these cables made of copper or aluminum?</td>\n",
              "      <td>Coleman's website does indeed say copper equiv...</td>\n",
              "      <td>NaN</td>\n",
              "    </tr>\n",
              "    <tr>\n",
              "      <th>2</th>\n",
              "      <td>yes/no</td>\n",
              "      <td>B000022440</td>\n",
              "      <td>Dec 24, 2013</td>\n",
              "      <td>1.387872e+09</td>\n",
              "      <td>I bought the Red Extra Heavy Duty. Is that too...</td>\n",
              "      <td>For jumper cables, you can never have \"too muc...</td>\n",
              "      <td>?</td>\n",
              "    </tr>\n",
              "    <tr>\n",
              "      <th>3</th>\n",
              "      <td>yes/no</td>\n",
              "      <td>B000022440</td>\n",
              "      <td>Jan 31, 2014</td>\n",
              "      <td>1.391155e+09</td>\n",
              "      <td>Hi, Being 20ft 4gauge how heavy is this?</td>\n",
              "      <td>Not nearly heavy enough. I keep them under my ...</td>\n",
              "      <td>?</td>\n",
              "    </tr>\n",
              "    <tr>\n",
              "      <th>4</th>\n",
              "      <td>yes/no</td>\n",
              "      <td>B000022440</td>\n",
              "      <td>Dec 1, 2014</td>\n",
              "      <td>1.417421e+09</td>\n",
              "      <td>Do these cables come with a bag?</td>\n",
              "      <td>No</td>\n",
              "      <td>N</td>\n",
              "    </tr>\n",
              "    <tr>\n",
              "      <th>...</th>\n",
              "      <td>...</td>\n",
              "      <td>...</td>\n",
              "      <td>...</td>\n",
              "      <td>...</td>\n",
              "      <td>...</td>\n",
              "      <td>...</td>\n",
              "      <td>...</td>\n",
              "    </tr>\n",
              "    <tr>\n",
              "      <th>13302</th>\n",
              "      <td>yes/no</td>\n",
              "      <td>B00KGGJPYA</td>\n",
              "      <td>Nov 26, 2014</td>\n",
              "      <td>1.416989e+09</td>\n",
              "      <td>Does the adaptor cord for the iPhone 5 work wi...</td>\n",
              "      <td>No</td>\n",
              "      <td>N</td>\n",
              "    </tr>\n",
              "    <tr>\n",
              "      <th>13303</th>\n",
              "      <td>yes/no</td>\n",
              "      <td>B00KGGJPYA</td>\n",
              "      <td>Oct 19, 2014</td>\n",
              "      <td>1.413702e+09</td>\n",
              "      <td>will it charge a kidle fire?</td>\n",
              "      <td>Simply answered, yes. It comes with a 3-in-1 a...</td>\n",
              "      <td>Y</td>\n",
              "    </tr>\n",
              "    <tr>\n",
              "      <th>13304</th>\n",
              "      <td>open-ended</td>\n",
              "      <td>B00KGGJPYA</td>\n",
              "      <td>Oct 15, 2014</td>\n",
              "      <td>1.413356e+09</td>\n",
              "      <td>What are the dimensions of this product?</td>\n",
              "      <td>4 by 1 1/2 inches</td>\n",
              "      <td>NaN</td>\n",
              "    </tr>\n",
              "    <tr>\n",
              "      <th>13305</th>\n",
              "      <td>yes/no</td>\n",
              "      <td>B00KGGJPYA</td>\n",
              "      <td>Jul 15, 2014</td>\n",
              "      <td>1.405408e+09</td>\n",
              "      <td>Does this have connector for 5C? I think 5C is...</td>\n",
              "      <td>I was able to charge Gembonics battery with iP...</td>\n",
              "      <td>?</td>\n",
              "    </tr>\n",
              "    <tr>\n",
              "      <th>13306</th>\n",
              "      <td>open-ended</td>\n",
              "      <td>B00KGGJPYA</td>\n",
              "      <td>Jul 7, 2014</td>\n",
              "      <td>1.404716e+09</td>\n",
              "      <td>so I just bought the Gembonics Battery Back up...</td>\n",
              "      <td>The Gembonics charger comes with a 3-in-1 cabl...</td>\n",
              "      <td>NaN</td>\n",
              "    </tr>\n",
              "  </tbody>\n",
              "</table>\n",
              "<p>1343851 rows × 7 columns</p>\n",
              "</div>\n",
              "      <button class=\"colab-df-convert\" onclick=\"convertToInteractive('df-84f6f3e2-e99d-49e7-98b9-635fa0149c7a')\"\n",
              "              title=\"Convert this dataframe to an interactive table.\"\n",
              "              style=\"display:none;\">\n",
              "        \n",
              "  <svg xmlns=\"http://www.w3.org/2000/svg\" height=\"24px\"viewBox=\"0 0 24 24\"\n",
              "       width=\"24px\">\n",
              "    <path d=\"M0 0h24v24H0V0z\" fill=\"none\"/>\n",
              "    <path d=\"M18.56 5.44l.94 2.06.94-2.06 2.06-.94-2.06-.94-.94-2.06-.94 2.06-2.06.94zm-11 1L8.5 8.5l.94-2.06 2.06-.94-2.06-.94L8.5 2.5l-.94 2.06-2.06.94zm10 10l.94 2.06.94-2.06 2.06-.94-2.06-.94-.94-2.06-.94 2.06-2.06.94z\"/><path d=\"M17.41 7.96l-1.37-1.37c-.4-.4-.92-.59-1.43-.59-.52 0-1.04.2-1.43.59L10.3 9.45l-7.72 7.72c-.78.78-.78 2.05 0 2.83L4 21.41c.39.39.9.59 1.41.59.51 0 1.02-.2 1.41-.59l7.78-7.78 2.81-2.81c.8-.78.8-2.07 0-2.86zM5.41 20L4 18.59l7.72-7.72 1.47 1.35L5.41 20z\"/>\n",
              "  </svg>\n",
              "      </button>\n",
              "      \n",
              "  <style>\n",
              "    .colab-df-container {\n",
              "      display:flex;\n",
              "      flex-wrap:wrap;\n",
              "      gap: 12px;\n",
              "    }\n",
              "\n",
              "    .colab-df-convert {\n",
              "      background-color: #E8F0FE;\n",
              "      border: none;\n",
              "      border-radius: 50%;\n",
              "      cursor: pointer;\n",
              "      display: none;\n",
              "      fill: #1967D2;\n",
              "      height: 32px;\n",
              "      padding: 0 0 0 0;\n",
              "      width: 32px;\n",
              "    }\n",
              "\n",
              "    .colab-df-convert:hover {\n",
              "      background-color: #E2EBFA;\n",
              "      box-shadow: 0px 1px 2px rgba(60, 64, 67, 0.3), 0px 1px 3px 1px rgba(60, 64, 67, 0.15);\n",
              "      fill: #174EA6;\n",
              "    }\n",
              "\n",
              "    [theme=dark] .colab-df-convert {\n",
              "      background-color: #3B4455;\n",
              "      fill: #D2E3FC;\n",
              "    }\n",
              "\n",
              "    [theme=dark] .colab-df-convert:hover {\n",
              "      background-color: #434B5C;\n",
              "      box-shadow: 0px 1px 3px 1px rgba(0, 0, 0, 0.15);\n",
              "      filter: drop-shadow(0px 1px 2px rgba(0, 0, 0, 0.3));\n",
              "      fill: #FFFFFF;\n",
              "    }\n",
              "  </style>\n",
              "\n",
              "      <script>\n",
              "        const buttonEl =\n",
              "          document.querySelector('#df-84f6f3e2-e99d-49e7-98b9-635fa0149c7a button.colab-df-convert');\n",
              "        buttonEl.style.display =\n",
              "          google.colab.kernel.accessAllowed ? 'block' : 'none';\n",
              "\n",
              "        async function convertToInteractive(key) {\n",
              "          const element = document.querySelector('#df-84f6f3e2-e99d-49e7-98b9-635fa0149c7a');\n",
              "          const dataTable =\n",
              "            await google.colab.kernel.invokeFunction('convertToInteractive',\n",
              "                                                     [key], {});\n",
              "          if (!dataTable) return;\n",
              "\n",
              "          const docLinkHtml = 'Like what you see? Visit the ' +\n",
              "            '<a target=\"_blank\" href=https://colab.research.google.com/notebooks/data_table.ipynb>data table notebook</a>'\n",
              "            + ' to learn more about interactive tables.';\n",
              "          element.innerHTML = '';\n",
              "          dataTable['output_type'] = 'display_data';\n",
              "          await google.colab.output.renderOutput(dataTable, element);\n",
              "          const docLink = document.createElement('div');\n",
              "          docLink.innerHTML = docLinkHtml;\n",
              "          element.appendChild(docLink);\n",
              "        }\n",
              "      </script>\n",
              "    </div>\n",
              "  </div>\n",
              "  "
            ]
          },
          "metadata": {},
          "execution_count": 4
        }
      ],
      "source": [
        "%%time\n",
        "DF1 = getDF('/content/drive/MyDrive/Assignments/Case_study2/qa_Automotive.json.gz')\n",
        "DF2 = getDF('/content/drive/MyDrive/Assignments/Case_study2/qa_Baby.json.gz')\n",
        "DF3 = getDF('/content/drive/MyDrive/Assignments/Case_study2/qa_Beauty.json.gz')\n",
        "DF4 = getDF('/content/drive/MyDrive/Assignments/Case_study2/qa_Cell_Phones_and_Accessories.json.gz')\n",
        "DF5 = getDF('/content/drive/MyDrive/Assignments/Case_study2/qa_Clothing_Shoes_and_Jewelry.json.gz')\n",
        "DF6 = getDF('/content/drive/MyDrive/Assignments/Case_study2/qa_Electronics.json.gz')\n",
        "DF7 = getDF('/content/drive/MyDrive/Assignments/Case_study2/qa_Grocery_and_Gourmet_Food.json.gz')\n",
        "DF8 = getDF('/content/drive/MyDrive/Assignments/Case_study2/qa_Health_and_Personal_Care.json.gz')\n",
        "DF9 = getDF('/content/drive/MyDrive/Assignments/Case_study2/qa_Home_and_Kitchen.json.gz')\n",
        "DF10 = getDF('/content/drive/MyDrive/Assignments/Case_study2/qa_Musical_Instruments.json.gz')\n",
        "DF11 = getDF('/content/drive/MyDrive/Assignments/Case_study2/qa_Office_Products.json.gz')\n",
        "DF12 = getDF('/content/drive/MyDrive/Assignments/Case_study2/qa_Patio_Lawn_and_Garden.json.gz')\n",
        "DF13 = getDF('/content/drive/MyDrive/Assignments/Case_study2/qa_Pet_Supplies.json.gz')\n",
        "DF14 = getDF('/content/drive/MyDrive/Assignments/Case_study2/qa_Sports_and_Outdoors.json.gz')\n",
        "DF15 = getDF('/content/drive/MyDrive/Assignments/Case_study2/qa_Tools_and_Home_Improvement.json.gz')\n",
        "DF16 = getDF('/content/drive/MyDrive/Assignments/Case_study2/qa_Toys_and_Games.json.gz')\n",
        "DF17 = getDF('/content/drive/MyDrive/Assignments/Case_study2/qa_Video_Games.json.gz')\n",
        "\n",
        "DF = pd.concat([DF1,DF2,DF3,DF4,DF5,DF6,DF7,DF8,DF9,DF10,DF11,DF12,DF13,DF14,DF15,DF16,DF17],\n",
        "               sort=False,axis=0)\n",
        "DF"
      ]
    },
    {
      "cell_type": "markdown",
      "metadata": {
        "id": "rRwJF1LYSU_P"
      },
      "source": [
        "It could be seen that maximum number of questions contains 2 answers followed by 3 & 4 and there were only few questions that contained single reply."
      ]
    },
    {
      "cell_type": "code",
      "execution_count": 5,
      "metadata": {
        "id": "kFSDiHriuYfq"
      },
      "outputs": [],
      "source": [
        "DF.rename(columns = {'question':'questionText'}, inplace = True)\n",
        "DF.rename(columns = {'answer':'answerText'}, inplace = True)"
      ]
    },
    {
      "cell_type": "code",
      "execution_count": 6,
      "metadata": {
        "id": "03mEiilcu6n9"
      },
      "outputs": [],
      "source": [
        "data = DF[['questionText','answerText']]"
      ]
    },
    {
      "cell_type": "code",
      "execution_count": 7,
      "metadata": {
        "colab": {
          "base_uri": "https://localhost:8080/"
        },
        "id": "hv0yE0yNd8DF",
        "outputId": "88d4b46b-1dbe-4d4f-8cec-479ebd37dae7"
      },
      "outputs": [
        {
          "output_type": "execute_result",
          "data": {
            "text/plain": [
              "(1343851, 2)"
            ]
          },
          "metadata": {},
          "execution_count": 7
        }
      ],
      "source": [
        "data.shape"
      ]
    },
    {
      "cell_type": "markdown",
      "metadata": {
        "id": "D_3AaIOa1z9k"
      },
      "source": [
        "Data preprocessing and cleaning"
      ]
    },
    {
      "cell_type": "markdown",
      "metadata": {
        "id": "d2ZY8j-TeAg7"
      },
      "source": [
        "Removal of URL tags"
      ]
    },
    {
      "cell_type": "code",
      "execution_count": 8,
      "metadata": {
        "colab": {
          "base_uri": "https://localhost:8080/"
        },
        "id": "Psngg83Ag93-",
        "outputId": "572356a1-b94f-409e-9bc1-ee4db52560f9"
      },
      "outputs": [
        {
          "output_type": "stream",
          "name": "stdout",
          "text": [
            "CPU times: user 15.8 s, sys: 69 ms, total: 15.8 s\n",
            "Wall time: 18.2 s\n"
          ]
        }
      ],
      "source": [
        "%%time\n",
        "#https://stackoverflow.com/questions/55422716/how-to-remove-http-url-links-from-a-data-frame-column-in-nlp\n",
        "def replaceURL(post_title):\n",
        "    post_title = post_title.map(lambda x: re.sub('((www\\.[^\\s]+)|(https?://[^\\s]+))','',str(x)))\n",
        "    #post_title = post_title.str.strip()\n",
        "   # post_title = post_title.map(lambda x: re.sub(r'#([^\\s]+)', r'\\1','',str(x)))\n",
        "    return post_title\n",
        "data['questionText'] = replaceURL(data['questionText'])\n",
        "data['answerText'] = replaceURL(data['answerText'])"
      ]
    },
    {
      "cell_type": "code",
      "execution_count": 9,
      "metadata": {
        "id": "LXYVKSFwd8DM"
      },
      "outputs": [],
      "source": [
        "# https://stackoverflow.com/a/47091490/4084039\n",
        "def decontracted(phrase):\n",
        "    # specific\n",
        "    phrase = re.sub(r\"won't\", \"will not\", phrase)\n",
        "    phrase = re.sub(r\"can\\'t\", \"can not\", phrase)\n",
        "\n",
        "    # general\n",
        "    phrase = re.sub(r\"n\\'t\", \" not\", phrase)\n",
        "    phrase = re.sub(r\"\\'re\", \" are\", phrase)\n",
        "    phrase = re.sub(r\"\\'s\", \" is\", phrase)\n",
        "    phrase = re.sub(r\"\\'d\", \" would\", phrase)\n",
        "    phrase = re.sub(r\"\\'ll\", \" will\", phrase)\n",
        "    phrase = re.sub(r\"\\'t\", \" not\", phrase)\n",
        "    phrase = re.sub(r\"\\'ve\", \" have\", phrase)\n",
        "    phrase = re.sub(r\"\\'m\", \" am\", phrase)\n",
        "    return phrase"
      ]
    },
    {
      "cell_type": "code",
      "execution_count": 10,
      "metadata": {
        "colab": {
          "base_uri": "https://localhost:8080/"
        },
        "id": "c20pV5Z7d8DR",
        "outputId": "b5eeaca9-ddee-4dfc-d475-421f67e7b59f"
      },
      "outputs": [
        {
          "output_type": "stream",
          "name": "stderr",
          "text": [
            "100%|██████████| 1343851/1343851 [00:20<00:00, 65645.99it/s]\n"
          ]
        }
      ],
      "source": [
        "preprocessed_questions = []\n",
        "for sentence in tqdm(data['questionText']):\n",
        "    sent = decontracted(sentence)\n",
        "    sent = sent.replace('\\\\r', ' ')\n",
        "    sent = sent.replace('\\\\\"', ' ')\n",
        "    sent = sent.replace('\\\\n', ' ')\n",
        "    sent = re.sub('[^A-Za-z0-9]+', ' ', sent)\n",
        "    preprocessed_questions.append(sent.lower().strip())"
      ]
    },
    {
      "cell_type": "code",
      "execution_count": 11,
      "metadata": {
        "colab": {
          "base_uri": "https://localhost:8080/"
        },
        "id": "eVsvmph7d8DV",
        "outputId": "4c1831aa-b396-47de-e492-9e17f4d45d8e"
      },
      "outputs": [
        {
          "output_type": "stream",
          "name": "stderr",
          "text": [
            "100%|██████████| 1343851/1343851 [00:29<00:00, 44911.20it/s]\n"
          ]
        }
      ],
      "source": [
        "preprocessed_answers = []\n",
        "for sentence in tqdm(data['answerText']):\n",
        "    sent = decontracted(sentence)\n",
        "    sent = sent.replace('\\\\r', ' ')\n",
        "    sent = sent.replace('\\\\\"', ' ')\n",
        "    sent = sent.replace('\\\\n', ' ')\n",
        "    sent = re.sub('[^A-Za-z0-9]+', ' ', sent)\n",
        "    preprocessed_answers.append(sent.lower().strip())"
      ]
    },
    {
      "cell_type": "code",
      "execution_count": 12,
      "metadata": {
        "id": "1nEYGN1sd8DY"
      },
      "outputs": [],
      "source": [
        "data['questionText']=preprocessed_questions\n",
        "data['answerText']=preprocessed_answers"
      ]
    },
    {
      "cell_type": "code",
      "execution_count": 13,
      "metadata": {
        "colab": {
          "base_uri": "https://localhost:8080/",
          "height": 424
        },
        "id": "gWABl9cCd8Da",
        "outputId": "9e29c1da-e285-44a1-a6f6-bac36cbd7513",
        "scrolled": true
      },
      "outputs": [
        {
          "output_type": "execute_result",
          "data": {
            "text/plain": [
              "                                            questionText  \\\n",
              "0                  what is the most useful length to get   \n",
              "1            are these cables made of copper or aluminum   \n",
              "2      i bought the red extra heavy duty is that too ...   \n",
              "3                 hi being 20ft 4gauge how heavy is this   \n",
              "4                        do these cables come with a bag   \n",
              "...                                                  ...   \n",
              "13302  does the adaptor cord for the iphone 5 work wi...   \n",
              "13303                        will it charge a kidle fire   \n",
              "13304            what are the dimensions of this product   \n",
              "13305  does this have connector for 5c i think 5c is ...   \n",
              "13306  so i just bought the gembonics battery back up...   \n",
              "\n",
              "                                              answerText  \n",
              "0      at least 20 feet heres why say you have to pul...  \n",
              "1      coleman is website does indeed say copper equi...  \n",
              "2      for jumper cables you can never have too much ...  \n",
              "3      not nearly heavy enough i keep them under my b...  \n",
              "4                                                     no  \n",
              "...                                                  ...  \n",
              "13302                                                 no  \n",
              "13303  simply answered yes it comes with a 3 in 1 ada...  \n",
              "13304                                  4 by 1 1 2 inches  \n",
              "13305  i was able to charge gembonics battery with ip...  \n",
              "13306  the gembonics charger comes with a 3 in 1 cabl...  \n",
              "\n",
              "[1343851 rows x 2 columns]"
            ],
            "text/html": [
              "\n",
              "  <div id=\"df-59e2af2b-d606-43cd-90ea-152a8f9ad945\">\n",
              "    <div class=\"colab-df-container\">\n",
              "      <div>\n",
              "<style scoped>\n",
              "    .dataframe tbody tr th:only-of-type {\n",
              "        vertical-align: middle;\n",
              "    }\n",
              "\n",
              "    .dataframe tbody tr th {\n",
              "        vertical-align: top;\n",
              "    }\n",
              "\n",
              "    .dataframe thead th {\n",
              "        text-align: right;\n",
              "    }\n",
              "</style>\n",
              "<table border=\"1\" class=\"dataframe\">\n",
              "  <thead>\n",
              "    <tr style=\"text-align: right;\">\n",
              "      <th></th>\n",
              "      <th>questionText</th>\n",
              "      <th>answerText</th>\n",
              "    </tr>\n",
              "  </thead>\n",
              "  <tbody>\n",
              "    <tr>\n",
              "      <th>0</th>\n",
              "      <td>what is the most useful length to get</td>\n",
              "      <td>at least 20 feet heres why say you have to pul...</td>\n",
              "    </tr>\n",
              "    <tr>\n",
              "      <th>1</th>\n",
              "      <td>are these cables made of copper or aluminum</td>\n",
              "      <td>coleman is website does indeed say copper equi...</td>\n",
              "    </tr>\n",
              "    <tr>\n",
              "      <th>2</th>\n",
              "      <td>i bought the red extra heavy duty is that too ...</td>\n",
              "      <td>for jumper cables you can never have too much ...</td>\n",
              "    </tr>\n",
              "    <tr>\n",
              "      <th>3</th>\n",
              "      <td>hi being 20ft 4gauge how heavy is this</td>\n",
              "      <td>not nearly heavy enough i keep them under my b...</td>\n",
              "    </tr>\n",
              "    <tr>\n",
              "      <th>4</th>\n",
              "      <td>do these cables come with a bag</td>\n",
              "      <td>no</td>\n",
              "    </tr>\n",
              "    <tr>\n",
              "      <th>...</th>\n",
              "      <td>...</td>\n",
              "      <td>...</td>\n",
              "    </tr>\n",
              "    <tr>\n",
              "      <th>13302</th>\n",
              "      <td>does the adaptor cord for the iphone 5 work wi...</td>\n",
              "      <td>no</td>\n",
              "    </tr>\n",
              "    <tr>\n",
              "      <th>13303</th>\n",
              "      <td>will it charge a kidle fire</td>\n",
              "      <td>simply answered yes it comes with a 3 in 1 ada...</td>\n",
              "    </tr>\n",
              "    <tr>\n",
              "      <th>13304</th>\n",
              "      <td>what are the dimensions of this product</td>\n",
              "      <td>4 by 1 1 2 inches</td>\n",
              "    </tr>\n",
              "    <tr>\n",
              "      <th>13305</th>\n",
              "      <td>does this have connector for 5c i think 5c is ...</td>\n",
              "      <td>i was able to charge gembonics battery with ip...</td>\n",
              "    </tr>\n",
              "    <tr>\n",
              "      <th>13306</th>\n",
              "      <td>so i just bought the gembonics battery back up...</td>\n",
              "      <td>the gembonics charger comes with a 3 in 1 cabl...</td>\n",
              "    </tr>\n",
              "  </tbody>\n",
              "</table>\n",
              "<p>1343851 rows × 2 columns</p>\n",
              "</div>\n",
              "      <button class=\"colab-df-convert\" onclick=\"convertToInteractive('df-59e2af2b-d606-43cd-90ea-152a8f9ad945')\"\n",
              "              title=\"Convert this dataframe to an interactive table.\"\n",
              "              style=\"display:none;\">\n",
              "        \n",
              "  <svg xmlns=\"http://www.w3.org/2000/svg\" height=\"24px\"viewBox=\"0 0 24 24\"\n",
              "       width=\"24px\">\n",
              "    <path d=\"M0 0h24v24H0V0z\" fill=\"none\"/>\n",
              "    <path d=\"M18.56 5.44l.94 2.06.94-2.06 2.06-.94-2.06-.94-.94-2.06-.94 2.06-2.06.94zm-11 1L8.5 8.5l.94-2.06 2.06-.94-2.06-.94L8.5 2.5l-.94 2.06-2.06.94zm10 10l.94 2.06.94-2.06 2.06-.94-2.06-.94-.94-2.06-.94 2.06-2.06.94z\"/><path d=\"M17.41 7.96l-1.37-1.37c-.4-.4-.92-.59-1.43-.59-.52 0-1.04.2-1.43.59L10.3 9.45l-7.72 7.72c-.78.78-.78 2.05 0 2.83L4 21.41c.39.39.9.59 1.41.59.51 0 1.02-.2 1.41-.59l7.78-7.78 2.81-2.81c.8-.78.8-2.07 0-2.86zM5.41 20L4 18.59l7.72-7.72 1.47 1.35L5.41 20z\"/>\n",
              "  </svg>\n",
              "      </button>\n",
              "      \n",
              "  <style>\n",
              "    .colab-df-container {\n",
              "      display:flex;\n",
              "      flex-wrap:wrap;\n",
              "      gap: 12px;\n",
              "    }\n",
              "\n",
              "    .colab-df-convert {\n",
              "      background-color: #E8F0FE;\n",
              "      border: none;\n",
              "      border-radius: 50%;\n",
              "      cursor: pointer;\n",
              "      display: none;\n",
              "      fill: #1967D2;\n",
              "      height: 32px;\n",
              "      padding: 0 0 0 0;\n",
              "      width: 32px;\n",
              "    }\n",
              "\n",
              "    .colab-df-convert:hover {\n",
              "      background-color: #E2EBFA;\n",
              "      box-shadow: 0px 1px 2px rgba(60, 64, 67, 0.3), 0px 1px 3px 1px rgba(60, 64, 67, 0.15);\n",
              "      fill: #174EA6;\n",
              "    }\n",
              "\n",
              "    [theme=dark] .colab-df-convert {\n",
              "      background-color: #3B4455;\n",
              "      fill: #D2E3FC;\n",
              "    }\n",
              "\n",
              "    [theme=dark] .colab-df-convert:hover {\n",
              "      background-color: #434B5C;\n",
              "      box-shadow: 0px 1px 3px 1px rgba(0, 0, 0, 0.15);\n",
              "      filter: drop-shadow(0px 1px 2px rgba(0, 0, 0, 0.3));\n",
              "      fill: #FFFFFF;\n",
              "    }\n",
              "  </style>\n",
              "\n",
              "      <script>\n",
              "        const buttonEl =\n",
              "          document.querySelector('#df-59e2af2b-d606-43cd-90ea-152a8f9ad945 button.colab-df-convert');\n",
              "        buttonEl.style.display =\n",
              "          google.colab.kernel.accessAllowed ? 'block' : 'none';\n",
              "\n",
              "        async function convertToInteractive(key) {\n",
              "          const element = document.querySelector('#df-59e2af2b-d606-43cd-90ea-152a8f9ad945');\n",
              "          const dataTable =\n",
              "            await google.colab.kernel.invokeFunction('convertToInteractive',\n",
              "                                                     [key], {});\n",
              "          if (!dataTable) return;\n",
              "\n",
              "          const docLinkHtml = 'Like what you see? Visit the ' +\n",
              "            '<a target=\"_blank\" href=https://colab.research.google.com/notebooks/data_table.ipynb>data table notebook</a>'\n",
              "            + ' to learn more about interactive tables.';\n",
              "          element.innerHTML = '';\n",
              "          dataTable['output_type'] = 'display_data';\n",
              "          await google.colab.output.renderOutput(dataTable, element);\n",
              "          const docLink = document.createElement('div');\n",
              "          docLink.innerHTML = docLinkHtml;\n",
              "          element.appendChild(docLink);\n",
              "        }\n",
              "      </script>\n",
              "    </div>\n",
              "  </div>\n",
              "  "
            ]
          },
          "metadata": {},
          "execution_count": 13
        }
      ],
      "source": [
        "data"
      ]
    },
    {
      "cell_type": "markdown",
      "metadata": {
        "id": "3qBbRyVndm-O"
      },
      "source": [
        "Removing Duplicates"
      ]
    },
    {
      "cell_type": "code",
      "execution_count": 14,
      "metadata": {
        "id": "TA4DihCvd8Dc",
        "scrolled": true
      },
      "outputs": [],
      "source": [
        "#print(\"Number of duplicate rows :\", data.duplicated().sum())"
      ]
    },
    {
      "cell_type": "code",
      "execution_count": 15,
      "metadata": {
        "id": "3rbH-i7Od8Dg",
        "scrolled": true
      },
      "outputs": [],
      "source": [
        "#data=data.drop_duplicates()"
      ]
    },
    {
      "cell_type": "code",
      "execution_count": 16,
      "metadata": {
        "colab": {
          "base_uri": "https://localhost:8080/"
        },
        "id": "uh7YYa0Sd8Di",
        "outputId": "885fecf2-3708-422c-c5c9-a86159bc70d3"
      },
      "outputs": [
        {
          "output_type": "stream",
          "name": "stdout",
          "text": [
            "Shape of data after removing the duplicate entries : (1343851, 2)\n"
          ]
        }
      ],
      "source": [
        "print(\"Shape of data after removing the duplicate entries :\",data.shape)"
      ]
    },
    {
      "cell_type": "code",
      "execution_count": 17,
      "metadata": {
        "id": "nxbZc22Rd8Do",
        "scrolled": true
      },
      "outputs": [],
      "source": [
        "data.reset_index(drop=True, inplace=True)"
      ]
    },
    {
      "cell_type": "code",
      "execution_count": 18,
      "metadata": {
        "colab": {
          "base_uri": "https://localhost:8080/"
        },
        "id": "0OHYWL4md8Dq",
        "outputId": "046d0637-cafc-4b2a-d652-6316400f7d19"
      },
      "outputs": [
        {
          "output_type": "stream",
          "name": "stdout",
          "text": [
            "CPU times: user 7.7 s, sys: 707 ms, total: 8.4 s\n",
            "Wall time: 8.46 s\n"
          ]
        }
      ],
      "source": [
        "%%time\n",
        "data[\"Number of words in Question\"] = data[\"questionText\"].str.split().apply(len)"
      ]
    },
    {
      "cell_type": "code",
      "execution_count": 19,
      "metadata": {
        "colab": {
          "base_uri": "https://localhost:8080/"
        },
        "id": "cQiJeWXgd8Dt",
        "outputId": "f9592f0f-430f-4691-f4c3-9feae71a6c10"
      },
      "outputs": [
        {
          "output_type": "stream",
          "name": "stderr",
          "text": [
            "100%|██████████| 1343851/1343851 [00:00<00:00, 3848557.01it/s]\n"
          ]
        },
        {
          "output_type": "stream",
          "name": "stdout",
          "text": [
            "CPU times: user 9.89 s, sys: 1.45 s, total: 11.3 s\n",
            "Wall time: 11.4 s\n"
          ]
        }
      ],
      "source": [
        "%%time\n",
        "data[\"Number of words in Answer\"] = tqdm(data[\"answerText\"].str.split().apply(len))"
      ]
    },
    {
      "cell_type": "code",
      "execution_count": 20,
      "metadata": {
        "colab": {
          "base_uri": "https://localhost:8080/",
          "height": 424
        },
        "id": "C53CmLA5d8Dv",
        "outputId": "32e1e280-8fe1-46ea-eddf-64355dca32c4",
        "scrolled": true
      },
      "outputs": [
        {
          "output_type": "execute_result",
          "data": {
            "text/plain": [
              "                                              questionText  \\\n",
              "0                    what is the most useful length to get   \n",
              "1              are these cables made of copper or aluminum   \n",
              "2        i bought the red extra heavy duty is that too ...   \n",
              "3                   hi being 20ft 4gauge how heavy is this   \n",
              "4                          do these cables come with a bag   \n",
              "...                                                    ...   \n",
              "1343846  does the adaptor cord for the iphone 5 work wi...   \n",
              "1343847                        will it charge a kidle fire   \n",
              "1343848            what are the dimensions of this product   \n",
              "1343849  does this have connector for 5c i think 5c is ...   \n",
              "1343850  so i just bought the gembonics battery back up...   \n",
              "\n",
              "                                                answerText  \\\n",
              "0        at least 20 feet heres why say you have to pul...   \n",
              "1        coleman is website does indeed say copper equi...   \n",
              "2        for jumper cables you can never have too much ...   \n",
              "3        not nearly heavy enough i keep them under my b...   \n",
              "4                                                       no   \n",
              "...                                                    ...   \n",
              "1343846                                                 no   \n",
              "1343847  simply answered yes it comes with a 3 in 1 ada...   \n",
              "1343848                                  4 by 1 1 2 inches   \n",
              "1343849  i was able to charge gembonics battery with ip...   \n",
              "1343850  the gembonics charger comes with a 3 in 1 cabl...   \n",
              "\n",
              "         Number of words in Question  Number of words in Answer  \n",
              "0                                  8                         34  \n",
              "1                                  8                         34  \n",
              "2                                 16                         62  \n",
              "3                                  8                         25  \n",
              "4                                  7                          1  \n",
              "...                              ...                        ...  \n",
              "1343846                           22                          1  \n",
              "1343847                            6                         17  \n",
              "1343848                            7                          6  \n",
              "1343849                           16                         22  \n",
              "1343850                           19                         42  \n",
              "\n",
              "[1343851 rows x 4 columns]"
            ],
            "text/html": [
              "\n",
              "  <div id=\"df-bf8ad003-f614-4978-8909-63209edbd780\">\n",
              "    <div class=\"colab-df-container\">\n",
              "      <div>\n",
              "<style scoped>\n",
              "    .dataframe tbody tr th:only-of-type {\n",
              "        vertical-align: middle;\n",
              "    }\n",
              "\n",
              "    .dataframe tbody tr th {\n",
              "        vertical-align: top;\n",
              "    }\n",
              "\n",
              "    .dataframe thead th {\n",
              "        text-align: right;\n",
              "    }\n",
              "</style>\n",
              "<table border=\"1\" class=\"dataframe\">\n",
              "  <thead>\n",
              "    <tr style=\"text-align: right;\">\n",
              "      <th></th>\n",
              "      <th>questionText</th>\n",
              "      <th>answerText</th>\n",
              "      <th>Number of words in Question</th>\n",
              "      <th>Number of words in Answer</th>\n",
              "    </tr>\n",
              "  </thead>\n",
              "  <tbody>\n",
              "    <tr>\n",
              "      <th>0</th>\n",
              "      <td>what is the most useful length to get</td>\n",
              "      <td>at least 20 feet heres why say you have to pul...</td>\n",
              "      <td>8</td>\n",
              "      <td>34</td>\n",
              "    </tr>\n",
              "    <tr>\n",
              "      <th>1</th>\n",
              "      <td>are these cables made of copper or aluminum</td>\n",
              "      <td>coleman is website does indeed say copper equi...</td>\n",
              "      <td>8</td>\n",
              "      <td>34</td>\n",
              "    </tr>\n",
              "    <tr>\n",
              "      <th>2</th>\n",
              "      <td>i bought the red extra heavy duty is that too ...</td>\n",
              "      <td>for jumper cables you can never have too much ...</td>\n",
              "      <td>16</td>\n",
              "      <td>62</td>\n",
              "    </tr>\n",
              "    <tr>\n",
              "      <th>3</th>\n",
              "      <td>hi being 20ft 4gauge how heavy is this</td>\n",
              "      <td>not nearly heavy enough i keep them under my b...</td>\n",
              "      <td>8</td>\n",
              "      <td>25</td>\n",
              "    </tr>\n",
              "    <tr>\n",
              "      <th>4</th>\n",
              "      <td>do these cables come with a bag</td>\n",
              "      <td>no</td>\n",
              "      <td>7</td>\n",
              "      <td>1</td>\n",
              "    </tr>\n",
              "    <tr>\n",
              "      <th>...</th>\n",
              "      <td>...</td>\n",
              "      <td>...</td>\n",
              "      <td>...</td>\n",
              "      <td>...</td>\n",
              "    </tr>\n",
              "    <tr>\n",
              "      <th>1343846</th>\n",
              "      <td>does the adaptor cord for the iphone 5 work wi...</td>\n",
              "      <td>no</td>\n",
              "      <td>22</td>\n",
              "      <td>1</td>\n",
              "    </tr>\n",
              "    <tr>\n",
              "      <th>1343847</th>\n",
              "      <td>will it charge a kidle fire</td>\n",
              "      <td>simply answered yes it comes with a 3 in 1 ada...</td>\n",
              "      <td>6</td>\n",
              "      <td>17</td>\n",
              "    </tr>\n",
              "    <tr>\n",
              "      <th>1343848</th>\n",
              "      <td>what are the dimensions of this product</td>\n",
              "      <td>4 by 1 1 2 inches</td>\n",
              "      <td>7</td>\n",
              "      <td>6</td>\n",
              "    </tr>\n",
              "    <tr>\n",
              "      <th>1343849</th>\n",
              "      <td>does this have connector for 5c i think 5c is ...</td>\n",
              "      <td>i was able to charge gembonics battery with ip...</td>\n",
              "      <td>16</td>\n",
              "      <td>22</td>\n",
              "    </tr>\n",
              "    <tr>\n",
              "      <th>1343850</th>\n",
              "      <td>so i just bought the gembonics battery back up...</td>\n",
              "      <td>the gembonics charger comes with a 3 in 1 cabl...</td>\n",
              "      <td>19</td>\n",
              "      <td>42</td>\n",
              "    </tr>\n",
              "  </tbody>\n",
              "</table>\n",
              "<p>1343851 rows × 4 columns</p>\n",
              "</div>\n",
              "      <button class=\"colab-df-convert\" onclick=\"convertToInteractive('df-bf8ad003-f614-4978-8909-63209edbd780')\"\n",
              "              title=\"Convert this dataframe to an interactive table.\"\n",
              "              style=\"display:none;\">\n",
              "        \n",
              "  <svg xmlns=\"http://www.w3.org/2000/svg\" height=\"24px\"viewBox=\"0 0 24 24\"\n",
              "       width=\"24px\">\n",
              "    <path d=\"M0 0h24v24H0V0z\" fill=\"none\"/>\n",
              "    <path d=\"M18.56 5.44l.94 2.06.94-2.06 2.06-.94-2.06-.94-.94-2.06-.94 2.06-2.06.94zm-11 1L8.5 8.5l.94-2.06 2.06-.94-2.06-.94L8.5 2.5l-.94 2.06-2.06.94zm10 10l.94 2.06.94-2.06 2.06-.94-2.06-.94-.94-2.06-.94 2.06-2.06.94z\"/><path d=\"M17.41 7.96l-1.37-1.37c-.4-.4-.92-.59-1.43-.59-.52 0-1.04.2-1.43.59L10.3 9.45l-7.72 7.72c-.78.78-.78 2.05 0 2.83L4 21.41c.39.39.9.59 1.41.59.51 0 1.02-.2 1.41-.59l7.78-7.78 2.81-2.81c.8-.78.8-2.07 0-2.86zM5.41 20L4 18.59l7.72-7.72 1.47 1.35L5.41 20z\"/>\n",
              "  </svg>\n",
              "      </button>\n",
              "      \n",
              "  <style>\n",
              "    .colab-df-container {\n",
              "      display:flex;\n",
              "      flex-wrap:wrap;\n",
              "      gap: 12px;\n",
              "    }\n",
              "\n",
              "    .colab-df-convert {\n",
              "      background-color: #E8F0FE;\n",
              "      border: none;\n",
              "      border-radius: 50%;\n",
              "      cursor: pointer;\n",
              "      display: none;\n",
              "      fill: #1967D2;\n",
              "      height: 32px;\n",
              "      padding: 0 0 0 0;\n",
              "      width: 32px;\n",
              "    }\n",
              "\n",
              "    .colab-df-convert:hover {\n",
              "      background-color: #E2EBFA;\n",
              "      box-shadow: 0px 1px 2px rgba(60, 64, 67, 0.3), 0px 1px 3px 1px rgba(60, 64, 67, 0.15);\n",
              "      fill: #174EA6;\n",
              "    }\n",
              "\n",
              "    [theme=dark] .colab-df-convert {\n",
              "      background-color: #3B4455;\n",
              "      fill: #D2E3FC;\n",
              "    }\n",
              "\n",
              "    [theme=dark] .colab-df-convert:hover {\n",
              "      background-color: #434B5C;\n",
              "      box-shadow: 0px 1px 3px 1px rgba(0, 0, 0, 0.15);\n",
              "      filter: drop-shadow(0px 1px 2px rgba(0, 0, 0, 0.3));\n",
              "      fill: #FFFFFF;\n",
              "    }\n",
              "  </style>\n",
              "\n",
              "      <script>\n",
              "        const buttonEl =\n",
              "          document.querySelector('#df-bf8ad003-f614-4978-8909-63209edbd780 button.colab-df-convert');\n",
              "        buttonEl.style.display =\n",
              "          google.colab.kernel.accessAllowed ? 'block' : 'none';\n",
              "\n",
              "        async function convertToInteractive(key) {\n",
              "          const element = document.querySelector('#df-bf8ad003-f614-4978-8909-63209edbd780');\n",
              "          const dataTable =\n",
              "            await google.colab.kernel.invokeFunction('convertToInteractive',\n",
              "                                                     [key], {});\n",
              "          if (!dataTable) return;\n",
              "\n",
              "          const docLinkHtml = 'Like what you see? Visit the ' +\n",
              "            '<a target=\"_blank\" href=https://colab.research.google.com/notebooks/data_table.ipynb>data table notebook</a>'\n",
              "            + ' to learn more about interactive tables.';\n",
              "          element.innerHTML = '';\n",
              "          dataTable['output_type'] = 'display_data';\n",
              "          await google.colab.output.renderOutput(dataTable, element);\n",
              "          const docLink = document.createElement('div');\n",
              "          docLink.innerHTML = docLinkHtml;\n",
              "          element.appendChild(docLink);\n",
              "        }\n",
              "      </script>\n",
              "    </div>\n",
              "  </div>\n",
              "  "
            ]
          },
          "metadata": {},
          "execution_count": 20
        }
      ],
      "source": [
        "data"
      ]
    },
    {
      "cell_type": "code",
      "execution_count": 21,
      "metadata": {
        "colab": {
          "base_uri": "https://localhost:8080/",
          "height": 296
        },
        "id": "cRxiw1Hdd8D2",
        "outputId": "96c81e98-2f70-4cdf-98a2-00102fc94e11"
      },
      "outputs": [
        {
          "output_type": "execute_result",
          "data": {
            "text/plain": [
              "<Axes: xlabel='Number of words in Question'>"
            ]
          },
          "metadata": {},
          "execution_count": 21
        },
        {
          "output_type": "display_data",
          "data": {
            "text/plain": [
              "<Figure size 432x288 with 1 Axes>"
            ],
            "image/png": "[encoded data removed]"
          },
          "metadata": {
            "needs_background": "light"
          }
        }
      ],
      "source": [
        "sns.distplot(data[\"Number of words in Question\"],kde=False,bins=30)"
      ]
    },
    {
      "cell_type": "markdown",
      "metadata": {
        "id": "dAsk-tSLUifN"
      },
      "source": [
        "It could be seen that maximum number of questions contained approx. 15 to 20 words."
      ]
    },
    {
      "cell_type": "code",
      "execution_count": 22,
      "metadata": {
        "colab": {
          "base_uri": "https://localhost:8080/",
          "height": 296
        },
        "id": "WXGYLuBSd8D0",
        "outputId": "b5eb2da8-8696-441b-bb16-d0f807c09e25"
      },
      "outputs": [
        {
          "output_type": "execute_result",
          "data": {
            "text/plain": [
              "<Axes: xlabel='Number of words in Answer', ylabel='Density'>"
            ]
          },
          "metadata": {},
          "execution_count": 22
        },
        {
          "output_type": "display_data",
          "data": {
            "text/plain": [
              "<Figure size 432x288 with 1 Axes>"
            ],
            "image/png": "[encoded data removed]"
          },
          "metadata": {
            "needs_background": "light"
          }
        }
      ],
      "source": [
        "sns.distplot(data[\"Number of words in Answer\"])"
      ]
    },
    {
      "cell_type": "markdown",
      "metadata": {
        "id": "r9_CpRdnT3VR"
      },
      "source": [
        "It could be seen that maximium number of replies contained only few words."
      ]
    },
    {
      "cell_type": "code",
      "execution_count": 23,
      "metadata": {
        "id": "TQrhMuI3g9wI"
      },
      "outputs": [],
      "source": [
        "data = data[data[\"Number of words in Answer\"] <4]"
      ]
    },
    {
      "cell_type": "code",
      "execution_count": 24,
      "metadata": {
        "colab": {
          "base_uri": "https://localhost:8080/"
        },
        "id": "15NDPd2od8EQ",
        "outputId": "9ae5fc45-9988-4802-9d20-dd6e6024c66d"
      },
      "outputs": [
        {
          "output_type": "execute_result",
          "data": {
            "text/plain": [
              "(141694, 4)"
            ]
          },
          "metadata": {},
          "execution_count": 24
        }
      ],
      "source": [
        "data.shape"
      ]
    },
    {
      "cell_type": "code",
      "execution_count": 25,
      "metadata": {
        "id": "-HwiWot3_39l"
      },
      "outputs": [],
      "source": [
        "data.reset_index(drop=True, inplace=True)"
      ]
    },
    {
      "cell_type": "code",
      "execution_count": 26,
      "metadata": {
        "colab": {
          "base_uri": "https://localhost:8080/",
          "height": 206
        },
        "id": "1DDilheT_QCH",
        "outputId": "f3eb4583-3518-4199-80ee-f1a6cc7bf807"
      },
      "outputs": [
        {
          "output_type": "execute_result",
          "data": {
            "text/plain": [
              "                                        questionText       answerText  \\\n",
              "0                    do these cables come with a bag               no   \n",
              "1                    do these cables come with a bag               no   \n",
              "2                    do these cables come with a bag               no   \n",
              "3           will this work on my truck 12 vdc system      yes it will   \n",
              "4  so i push this once and it is on then i push i...  that is correct   \n",
              "\n",
              "   Number of words in Question  Number of words in Answer  \n",
              "0                            7                          1  \n",
              "1                            7                          1  \n",
              "2                            7                          1  \n",
              "3                            9                          3  \n",
              "4                           18                          3  "
            ],
            "text/html": [
              "\n",
              "  <div id=\"df-c3e07638-7f01-4e98-ab77-9f6e51078ff6\">\n",
              "    <div class=\"colab-df-container\">\n",
              "      <div>\n",
              "<style scoped>\n",
              "    .dataframe tbody tr th:only-of-type {\n",
              "        vertical-align: middle;\n",
              "    }\n",
              "\n",
              "    .dataframe tbody tr th {\n",
              "        vertical-align: top;\n",
              "    }\n",
              "\n",
              "    .dataframe thead th {\n",
              "        text-align: right;\n",
              "    }\n",
              "</style>\n",
              "<table border=\"1\" class=\"dataframe\">\n",
              "  <thead>\n",
              "    <tr style=\"text-align: right;\">\n",
              "      <th></th>\n",
              "      <th>questionText</th>\n",
              "      <th>answerText</th>\n",
              "      <th>Number of words in Question</th>\n",
              "      <th>Number of words in Answer</th>\n",
              "    </tr>\n",
              "  </thead>\n",
              "  <tbody>\n",
              "    <tr>\n",
              "      <th>0</th>\n",
              "      <td>do these cables come with a bag</td>\n",
              "      <td>no</td>\n",
              "      <td>7</td>\n",
              "      <td>1</td>\n",
              "    </tr>\n",
              "    <tr>\n",
              "      <th>1</th>\n",
              "      <td>do these cables come with a bag</td>\n",
              "      <td>no</td>\n",
              "      <td>7</td>\n",
              "      <td>1</td>\n",
              "    </tr>\n",
              "    <tr>\n",
              "      <th>2</th>\n",
              "      <td>do these cables come with a bag</td>\n",
              "      <td>no</td>\n",
              "      <td>7</td>\n",
              "      <td>1</td>\n",
              "    </tr>\n",
              "    <tr>\n",
              "      <th>3</th>\n",
              "      <td>will this work on my truck 12 vdc system</td>\n",
              "      <td>yes it will</td>\n",
              "      <td>9</td>\n",
              "      <td>3</td>\n",
              "    </tr>\n",
              "    <tr>\n",
              "      <th>4</th>\n",
              "      <td>so i push this once and it is on then i push i...</td>\n",
              "      <td>that is correct</td>\n",
              "      <td>18</td>\n",
              "      <td>3</td>\n",
              "    </tr>\n",
              "  </tbody>\n",
              "</table>\n",
              "</div>\n",
              "      <button class=\"colab-df-convert\" onclick=\"convertToInteractive('df-c3e07638-7f01-4e98-ab77-9f6e51078ff6')\"\n",
              "              title=\"Convert this dataframe to an interactive table.\"\n",
              "              style=\"display:none;\">\n",
              "        \n",
              "  <svg xmlns=\"http://www.w3.org/2000/svg\" height=\"24px\"viewBox=\"0 0 24 24\"\n",
              "       width=\"24px\">\n",
              "    <path d=\"M0 0h24v24H0V0z\" fill=\"none\"/>\n",
              "    <path d=\"M18.56 5.44l.94 2.06.94-2.06 2.06-.94-2.06-.94-.94-2.06-.94 2.06-2.06.94zm-11 1L8.5 8.5l.94-2.06 2.06-.94-2.06-.94L8.5 2.5l-.94 2.06-2.06.94zm10 10l.94 2.06.94-2.06 2.06-.94-2.06-.94-.94-2.06-.94 2.06-2.06.94z\"/><path d=\"M17.41 7.96l-1.37-1.37c-.4-.4-.92-.59-1.43-.59-.52 0-1.04.2-1.43.59L10.3 9.45l-7.72 7.72c-.78.78-.78 2.05 0 2.83L4 21.41c.39.39.9.59 1.41.59.51 0 1.02-.2 1.41-.59l7.78-7.78 2.81-2.81c.8-.78.8-2.07 0-2.86zM5.41 20L4 18.59l7.72-7.72 1.47 1.35L5.41 20z\"/>\n",
              "  </svg>\n",
              "      </button>\n",
              "      \n",
              "  <style>\n",
              "    .colab-df-container {\n",
              "      display:flex;\n",
              "      flex-wrap:wrap;\n",
              "      gap: 12px;\n",
              "    }\n",
              "\n",
              "    .colab-df-convert {\n",
              "      background-color: #E8F0FE;\n",
              "      border: none;\n",
              "      border-radius: 50%;\n",
              "      cursor: pointer;\n",
              "      display: none;\n",
              "      fill: #1967D2;\n",
              "      height: 32px;\n",
              "      padding: 0 0 0 0;\n",
              "      width: 32px;\n",
              "    }\n",
              "\n",
              "    .colab-df-convert:hover {\n",
              "      background-color: #E2EBFA;\n",
              "      box-shadow: 0px 1px 2px rgba(60, 64, 67, 0.3), 0px 1px 3px 1px rgba(60, 64, 67, 0.15);\n",
              "      fill: #174EA6;\n",
              "    }\n",
              "\n",
              "    [theme=dark] .colab-df-convert {\n",
              "      background-color: #3B4455;\n",
              "      fill: #D2E3FC;\n",
              "    }\n",
              "\n",
              "    [theme=dark] .colab-df-convert:hover {\n",
              "      background-color: #434B5C;\n",
              "      box-shadow: 0px 1px 3px 1px rgba(0, 0, 0, 0.15);\n",
              "      filter: drop-shadow(0px 1px 2px rgba(0, 0, 0, 0.3));\n",
              "      fill: #FFFFFF;\n",
              "    }\n",
              "  </style>\n",
              "\n",
              "      <script>\n",
              "        const buttonEl =\n",
              "          document.querySelector('#df-c3e07638-7f01-4e98-ab77-9f6e51078ff6 button.colab-df-convert');\n",
              "        buttonEl.style.display =\n",
              "          google.colab.kernel.accessAllowed ? 'block' : 'none';\n",
              "\n",
              "        async function convertToInteractive(key) {\n",
              "          const element = document.querySelector('#df-c3e07638-7f01-4e98-ab77-9f6e51078ff6');\n",
              "          const dataTable =\n",
              "            await google.colab.kernel.invokeFunction('convertToInteractive',\n",
              "                                                     [key], {});\n",
              "          if (!dataTable) return;\n",
              "\n",
              "          const docLinkHtml = 'Like what you see? Visit the ' +\n",
              "            '<a target=\"_blank\" href=https://colab.research.google.com/notebooks/data_table.ipynb>data table notebook</a>'\n",
              "            + ' to learn more about interactive tables.';\n",
              "          element.innerHTML = '';\n",
              "          dataTable['output_type'] = 'display_data';\n",
              "          await google.colab.output.renderOutput(dataTable, element);\n",
              "          const docLink = document.createElement('div');\n",
              "          docLink.innerHTML = docLinkHtml;\n",
              "          element.appendChild(docLink);\n",
              "        }\n",
              "      </script>\n",
              "    </div>\n",
              "  </div>\n",
              "  "
            ]
          },
          "metadata": {},
          "execution_count": 26
        }
      ],
      "source": [
        "data.head()"
      ]
    },
    {
      "cell_type": "code",
      "execution_count": 27,
      "metadata": {
        "colab": {
          "base_uri": "https://localhost:8080/"
        },
        "id": "t0vXBAx8d8Ea",
        "outputId": "fb6e173c-f231-493e-c6f5-ab4fe35fd259",
        "scrolled": true
      },
      "outputs": [
        {
          "output_type": "stream",
          "name": "stdout",
          "text": [
            "Maximum number of words in a Question: 56\n"
          ]
        }
      ],
      "source": [
        "print(\"Maximum number of words in a Question:\",  data[\"Number of words in Question\"].max())"
      ]
    },
    {
      "cell_type": "code",
      "execution_count": 28,
      "metadata": {
        "id": "s4XP8fi5d8Ee"
      },
      "outputs": [],
      "source": [
        "data['DecoderInput'] = '<sos> ' + data['answerText'].astype(str) + ' <eos>'"
      ]
    },
    {
      "cell_type": "markdown",
      "metadata": {
        "id": "nbgXUNglKs8o"
      },
      "source": [
        "Here a <sos> token and <eos> token have been assigned to every answer text."
      ]
    },
    {
      "cell_type": "code",
      "execution_count": 29,
      "metadata": {
        "colab": {
          "base_uri": "https://localhost:8080/",
          "height": 206
        },
        "id": "7GClA_Z9d8El",
        "outputId": "a6a63366-7dea-4aa7-95db-b1d4d5f8e503"
      },
      "outputs": [
        {
          "output_type": "execute_result",
          "data": {
            "text/plain": [
              "                                        questionText       answerText  \\\n",
              "0                    do these cables come with a bag               no   \n",
              "1                    do these cables come with a bag               no   \n",
              "2                    do these cables come with a bag               no   \n",
              "3           will this work on my truck 12 vdc system      yes it will   \n",
              "4  so i push this once and it is on then i push i...  that is correct   \n",
              "\n",
              "   Number of words in Question  Number of words in Answer  \\\n",
              "0                            7                          1   \n",
              "1                            7                          1   \n",
              "2                            7                          1   \n",
              "3                            9                          3   \n",
              "4                           18                          3   \n",
              "\n",
              "                  DecoderInput  \n",
              "0               <sos> no <eos>  \n",
              "1               <sos> no <eos>  \n",
              "2               <sos> no <eos>  \n",
              "3      <sos> yes it will <eos>  \n",
              "4  <sos> that is correct <eos>  "
            ],
            "text/html": [
              "\n",
              "  <div id=\"df-4505f6b0-6043-49de-8ec6-df0b281eb161\">\n",
              "    <div class=\"colab-df-container\">\n",
              "      <div>\n",
              "<style scoped>\n",
              "    .dataframe tbody tr th:only-of-type {\n",
              "        vertical-align: middle;\n",
              "    }\n",
              "\n",
              "    .dataframe tbody tr th {\n",
              "        vertical-align: top;\n",
              "    }\n",
              "\n",
              "    .dataframe thead th {\n",
              "        text-align: right;\n",
              "    }\n",
              "</style>\n",
              "<table border=\"1\" class=\"dataframe\">\n",
              "  <thead>\n",
              "    <tr style=\"text-align: right;\">\n",
              "      <th></th>\n",
              "      <th>questionText</th>\n",
              "      <th>answerText</th>\n",
              "      <th>Number of words in Question</th>\n",
              "      <th>Number of words in Answer</th>\n",
              "      <th>DecoderInput</th>\n",
              "    </tr>\n",
              "  </thead>\n",
              "  <tbody>\n",
              "    <tr>\n",
              "      <th>0</th>\n",
              "      <td>do these cables come with a bag</td>\n",
              "      <td>no</td>\n",
              "      <td>7</td>\n",
              "      <td>1</td>\n",
              "      <td>&lt;sos&gt; no &lt;eos&gt;</td>\n",
              "    </tr>\n",
              "    <tr>\n",
              "      <th>1</th>\n",
              "      <td>do these cables come with a bag</td>\n",
              "      <td>no</td>\n",
              "      <td>7</td>\n",
              "      <td>1</td>\n",
              "      <td>&lt;sos&gt; no &lt;eos&gt;</td>\n",
              "    </tr>\n",
              "    <tr>\n",
              "      <th>2</th>\n",
              "      <td>do these cables come with a bag</td>\n",
              "      <td>no</td>\n",
              "      <td>7</td>\n",
              "      <td>1</td>\n",
              "      <td>&lt;sos&gt; no &lt;eos&gt;</td>\n",
              "    </tr>\n",
              "    <tr>\n",
              "      <th>3</th>\n",
              "      <td>will this work on my truck 12 vdc system</td>\n",
              "      <td>yes it will</td>\n",
              "      <td>9</td>\n",
              "      <td>3</td>\n",
              "      <td>&lt;sos&gt; yes it will &lt;eos&gt;</td>\n",
              "    </tr>\n",
              "    <tr>\n",
              "      <th>4</th>\n",
              "      <td>so i push this once and it is on then i push i...</td>\n",
              "      <td>that is correct</td>\n",
              "      <td>18</td>\n",
              "      <td>3</td>\n",
              "      <td>&lt;sos&gt; that is correct &lt;eos&gt;</td>\n",
              "    </tr>\n",
              "  </tbody>\n",
              "</table>\n",
              "</div>\n",
              "      <button class=\"colab-df-convert\" onclick=\"convertToInteractive('df-4505f6b0-6043-49de-8ec6-df0b281eb161')\"\n",
              "              title=\"Convert this dataframe to an interactive table.\"\n",
              "              style=\"display:none;\">\n",
              "        \n",
              "  <svg xmlns=\"http://www.w3.org/2000/svg\" height=\"24px\"viewBox=\"0 0 24 24\"\n",
              "       width=\"24px\">\n",
              "    <path d=\"M0 0h24v24H0V0z\" fill=\"none\"/>\n",
              "    <path d=\"M18.56 5.44l.94 2.06.94-2.06 2.06-.94-2.06-.94-.94-2.06-.94 2.06-2.06.94zm-11 1L8.5 8.5l.94-2.06 2.06-.94-2.06-.94L8.5 2.5l-.94 2.06-2.06.94zm10 10l.94 2.06.94-2.06 2.06-.94-2.06-.94-.94-2.06-.94 2.06-2.06.94z\"/><path d=\"M17.41 7.96l-1.37-1.37c-.4-.4-.92-.59-1.43-.59-.52 0-1.04.2-1.43.59L10.3 9.45l-7.72 7.72c-.78.78-.78 2.05 0 2.83L4 21.41c.39.39.9.59 1.41.59.51 0 1.02-.2 1.41-.59l7.78-7.78 2.81-2.81c.8-.78.8-2.07 0-2.86zM5.41 20L4 18.59l7.72-7.72 1.47 1.35L5.41 20z\"/>\n",
              "  </svg>\n",
              "      </button>\n",
              "      \n",
              "  <style>\n",
              "    .colab-df-container {\n",
              "      display:flex;\n",
              "      flex-wrap:wrap;\n",
              "      gap: 12px;\n",
              "    }\n",
              "\n",
              "    .colab-df-convert {\n",
              "      background-color: #E8F0FE;\n",
              "      border: none;\n",
              "      border-radius: 50%;\n",
              "      cursor: pointer;\n",
              "      display: none;\n",
              "      fill: #1967D2;\n",
              "      height: 32px;\n",
              "      padding: 0 0 0 0;\n",
              "      width: 32px;\n",
              "    }\n",
              "\n",
              "    .colab-df-convert:hover {\n",
              "      background-color: #E2EBFA;\n",
              "      box-shadow: 0px 1px 2px rgba(60, 64, 67, 0.3), 0px 1px 3px 1px rgba(60, 64, 67, 0.15);\n",
              "      fill: #174EA6;\n",
              "    }\n",
              "\n",
              "    [theme=dark] .colab-df-convert {\n",
              "      background-color: #3B4455;\n",
              "      fill: #D2E3FC;\n",
              "    }\n",
              "\n",
              "    [theme=dark] .colab-df-convert:hover {\n",
              "      background-color: #434B5C;\n",
              "      box-shadow: 0px 1px 3px 1px rgba(0, 0, 0, 0.15);\n",
              "      filter: drop-shadow(0px 1px 2px rgba(0, 0, 0, 0.3));\n",
              "      fill: #FFFFFF;\n",
              "    }\n",
              "  </style>\n",
              "\n",
              "      <script>\n",
              "        const buttonEl =\n",
              "          document.querySelector('#df-4505f6b0-6043-49de-8ec6-df0b281eb161 button.colab-df-convert');\n",
              "        buttonEl.style.display =\n",
              "          google.colab.kernel.accessAllowed ? 'block' : 'none';\n",
              "\n",
              "        async function convertToInteractive(key) {\n",
              "          const element = document.querySelector('#df-4505f6b0-6043-49de-8ec6-df0b281eb161');\n",
              "          const dataTable =\n",
              "            await google.colab.kernel.invokeFunction('convertToInteractive',\n",
              "                                                     [key], {});\n",
              "          if (!dataTable) return;\n",
              "\n",
              "          const docLinkHtml = 'Like what you see? Visit the ' +\n",
              "            '<a target=\"_blank\" href=https://colab.research.google.com/notebooks/data_table.ipynb>data table notebook</a>'\n",
              "            + ' to learn more about interactive tables.';\n",
              "          element.innerHTML = '';\n",
              "          dataTable['output_type'] = 'display_data';\n",
              "          await google.colab.output.renderOutput(dataTable, element);\n",
              "          const docLink = document.createElement('div');\n",
              "          docLink.innerHTML = docLinkHtml;\n",
              "          element.appendChild(docLink);\n",
              "        }\n",
              "      </script>\n",
              "    </div>\n",
              "  </div>\n",
              "  "
            ]
          },
          "metadata": {},
          "execution_count": 29
        }
      ],
      "source": [
        "data.head()"
      ]
    },
    {
      "cell_type": "code",
      "execution_count": 30,
      "metadata": {
        "id": "L2WnGKnePgwq"
      },
      "outputs": [],
      "source": [
        "data = data[data[\"Number of words in Question\"] <11] "
      ]
    },
    {
      "cell_type": "code",
      "execution_count": 31,
      "metadata": {
        "id": "9Pe-Da6XHNME"
      },
      "outputs": [],
      "source": [
        "data['questionText + answerText'] = data['questionText'] + ' ' + data['DecoderInput']"
      ]
    },
    {
      "cell_type": "code",
      "execution_count": 32,
      "metadata": {
        "colab": {
          "base_uri": "https://localhost:8080/",
          "height": 641
        },
        "id": "lxMnVxoFJTfd",
        "outputId": "33e54395-f2f3-4e84-d180-a94ac1cce26c"
      },
      "outputs": [
        {
          "output_type": "execute_result",
          "data": {
            "text/plain": [
              "                                           questionText     answerText  \\\n",
              "0                       do these cables come with a bag             no   \n",
              "1                       do these cables come with a bag             no   \n",
              "2                       do these cables come with a bag             no   \n",
              "3              will this work on my truck 12 vdc system    yes it will   \n",
              "5              can it be used under 220v for a 20w lamp  sorry no idea   \n",
              "...                                                 ...            ...   \n",
              "141685                                is this like sims        sure is   \n",
              "141689                is this a hard copy or a download      hard copy   \n",
              "141690                     does it play blue ray movies            yes   \n",
              "141691  does the kinect less version still play blu ray            yes   \n",
              "141692           will this charge samsung galaxy tablet            yea   \n",
              "\n",
              "        Number of words in Question  Number of words in Answer  \\\n",
              "0                                 7                          1   \n",
              "1                                 7                          1   \n",
              "2                                 7                          1   \n",
              "3                                 9                          3   \n",
              "5                                10                          3   \n",
              "...                             ...                        ...   \n",
              "141685                            4                          2   \n",
              "141689                            8                          2   \n",
              "141690                            6                          1   \n",
              "141691                            9                          1   \n",
              "141692                            6                          1   \n",
              "\n",
              "                     DecoderInput  \\\n",
              "0                  <sos> no <eos>   \n",
              "1                  <sos> no <eos>   \n",
              "2                  <sos> no <eos>   \n",
              "3         <sos> yes it will <eos>   \n",
              "5       <sos> sorry no idea <eos>   \n",
              "...                           ...   \n",
              "141685        <sos> sure is <eos>   \n",
              "141689      <sos> hard copy <eos>   \n",
              "141690            <sos> yes <eos>   \n",
              "141691            <sos> yes <eos>   \n",
              "141692            <sos> yea <eos>   \n",
              "\n",
              "                                questionText + answerText  \n",
              "0          do these cables come with a bag <sos> no <eos>  \n",
              "1          do these cables come with a bag <sos> no <eos>  \n",
              "2          do these cables come with a bag <sos> no <eos>  \n",
              "3       will this work on my truck 12 vdc system <sos>...  \n",
              "5       can it be used under 220v for a 20w lamp <sos>...  \n",
              "...                                                   ...  \n",
              "141685              is this like sims <sos> sure is <eos>  \n",
              "141689  is this a hard copy or a download <sos> hard c...  \n",
              "141690       does it play blue ray movies <sos> yes <eos>  \n",
              "141691  does the kinect less version still play blu ra...  \n",
              "141692  will this charge samsung galaxy tablet <sos> y...  \n",
              "\n",
              "[89915 rows x 6 columns]"
            ],
            "text/html": [
              "\n",
              "  <div id=\"df-c01f87a3-aa6b-447c-8f9a-a2cc2d68b508\">\n",
              "    <div class=\"colab-df-container\">\n",
              "      <div>\n",
              "<style scoped>\n",
              "    .dataframe tbody tr th:only-of-type {\n",
              "        vertical-align: middle;\n",
              "    }\n",
              "\n",
              "    .dataframe tbody tr th {\n",
              "        vertical-align: top;\n",
              "    }\n",
              "\n",
              "    .dataframe thead th {\n",
              "        text-align: right;\n",
              "    }\n",
              "</style>\n",
              "<table border=\"1\" class=\"dataframe\">\n",
              "  <thead>\n",
              "    <tr style=\"text-align: right;\">\n",
              "      <th></th>\n",
              "      <th>questionText</th>\n",
              "      <th>answerText</th>\n",
              "      <th>Number of words in Question</th>\n",
              "      <th>Number of words in Answer</th>\n",
              "      <th>DecoderInput</th>\n",
              "      <th>questionText + answerText</th>\n",
              "    </tr>\n",
              "  </thead>\n",
              "  <tbody>\n",
              "    <tr>\n",
              "      <th>0</th>\n",
              "      <td>do these cables come with a bag</td>\n",
              "      <td>no</td>\n",
              "      <td>7</td>\n",
              "      <td>1</td>\n",
              "      <td>&lt;sos&gt; no &lt;eos&gt;</td>\n",
              "      <td>do these cables come with a bag &lt;sos&gt; no &lt;eos&gt;</td>\n",
              "    </tr>\n",
              "    <tr>\n",
              "      <th>1</th>\n",
              "      <td>do these cables come with a bag</td>\n",
              "      <td>no</td>\n",
              "      <td>7</td>\n",
              "      <td>1</td>\n",
              "      <td>&lt;sos&gt; no &lt;eos&gt;</td>\n",
              "      <td>do these cables come with a bag &lt;sos&gt; no &lt;eos&gt;</td>\n",
              "    </tr>\n",
              "    <tr>\n",
              "      <th>2</th>\n",
              "      <td>do these cables come with a bag</td>\n",
              "      <td>no</td>\n",
              "      <td>7</td>\n",
              "      <td>1</td>\n",
              "      <td>&lt;sos&gt; no &lt;eos&gt;</td>\n",
              "      <td>do these cables come with a bag &lt;sos&gt; no &lt;eos&gt;</td>\n",
              "    </tr>\n",
              "    <tr>\n",
              "      <th>3</th>\n",
              "      <td>will this work on my truck 12 vdc system</td>\n",
              "      <td>yes it will</td>\n",
              "      <td>9</td>\n",
              "      <td>3</td>\n",
              "      <td>&lt;sos&gt; yes it will &lt;eos&gt;</td>\n",
              "      <td>will this work on my truck 12 vdc system &lt;sos&gt;...</td>\n",
              "    </tr>\n",
              "    <tr>\n",
              "      <th>5</th>\n",
              "      <td>can it be used under 220v for a 20w lamp</td>\n",
              "      <td>sorry no idea</td>\n",
              "      <td>10</td>\n",
              "      <td>3</td>\n",
              "      <td>&lt;sos&gt; sorry no idea &lt;eos&gt;</td>\n",
              "      <td>can it be used under 220v for a 20w lamp &lt;sos&gt;...</td>\n",
              "    </tr>\n",
              "    <tr>\n",
              "      <th>...</th>\n",
              "      <td>...</td>\n",
              "      <td>...</td>\n",
              "      <td>...</td>\n",
              "      <td>...</td>\n",
              "      <td>...</td>\n",
              "      <td>...</td>\n",
              "    </tr>\n",
              "    <tr>\n",
              "      <th>141685</th>\n",
              "      <td>is this like sims</td>\n",
              "      <td>sure is</td>\n",
              "      <td>4</td>\n",
              "      <td>2</td>\n",
              "      <td>&lt;sos&gt; sure is &lt;eos&gt;</td>\n",
              "      <td>is this like sims &lt;sos&gt; sure is &lt;eos&gt;</td>\n",
              "    </tr>\n",
              "    <tr>\n",
              "      <th>141689</th>\n",
              "      <td>is this a hard copy or a download</td>\n",
              "      <td>hard copy</td>\n",
              "      <td>8</td>\n",
              "      <td>2</td>\n",
              "      <td>&lt;sos&gt; hard copy &lt;eos&gt;</td>\n",
              "      <td>is this a hard copy or a download &lt;sos&gt; hard c...</td>\n",
              "    </tr>\n",
              "    <tr>\n",
              "      <th>141690</th>\n",
              "      <td>does it play blue ray movies</td>\n",
              "      <td>yes</td>\n",
              "      <td>6</td>\n",
              "      <td>1</td>\n",
              "      <td>&lt;sos&gt; yes &lt;eos&gt;</td>\n",
              "      <td>does it play blue ray movies &lt;sos&gt; yes &lt;eos&gt;</td>\n",
              "    </tr>\n",
              "    <tr>\n",
              "      <th>141691</th>\n",
              "      <td>does the kinect less version still play blu ray</td>\n",
              "      <td>yes</td>\n",
              "      <td>9</td>\n",
              "      <td>1</td>\n",
              "      <td>&lt;sos&gt; yes &lt;eos&gt;</td>\n",
              "      <td>does the kinect less version still play blu ra...</td>\n",
              "    </tr>\n",
              "    <tr>\n",
              "      <th>141692</th>\n",
              "      <td>will this charge samsung galaxy tablet</td>\n",
              "      <td>yea</td>\n",
              "      <td>6</td>\n",
              "      <td>1</td>\n",
              "      <td>&lt;sos&gt; yea &lt;eos&gt;</td>\n",
              "      <td>will this charge samsung galaxy tablet &lt;sos&gt; y...</td>\n",
              "    </tr>\n",
              "  </tbody>\n",
              "</table>\n",
              "<p>89915 rows × 6 columns</p>\n",
              "</div>\n",
              "      <button class=\"colab-df-convert\" onclick=\"convertToInteractive('df-c01f87a3-aa6b-447c-8f9a-a2cc2d68b508')\"\n",
              "              title=\"Convert this dataframe to an interactive table.\"\n",
              "              style=\"display:none;\">\n",
              "        \n",
              "  <svg xmlns=\"http://www.w3.org/2000/svg\" height=\"24px\"viewBox=\"0 0 24 24\"\n",
              "       width=\"24px\">\n",
              "    <path d=\"M0 0h24v24H0V0z\" fill=\"none\"/>\n",
              "    <path d=\"M18.56 5.44l.94 2.06.94-2.06 2.06-.94-2.06-.94-.94-2.06-.94 2.06-2.06.94zm-11 1L8.5 8.5l.94-2.06 2.06-.94-2.06-.94L8.5 2.5l-.94 2.06-2.06.94zm10 10l.94 2.06.94-2.06 2.06-.94-2.06-.94-.94-2.06-.94 2.06-2.06.94z\"/><path d=\"M17.41 7.96l-1.37-1.37c-.4-.4-.92-.59-1.43-.59-.52 0-1.04.2-1.43.59L10.3 9.45l-7.72 7.72c-.78.78-.78 2.05 0 2.83L4 21.41c.39.39.9.59 1.41.59.51 0 1.02-.2 1.41-.59l7.78-7.78 2.81-2.81c.8-.78.8-2.07 0-2.86zM5.41 20L4 18.59l7.72-7.72 1.47 1.35L5.41 20z\"/>\n",
              "  </svg>\n",
              "      </button>\n",
              "      \n",
              "  <style>\n",
              "    .colab-df-container {\n",
              "      display:flex;\n",
              "      flex-wrap:wrap;\n",
              "      gap: 12px;\n",
              "    }\n",
              "\n",
              "    .colab-df-convert {\n",
              "      background-color: #E8F0FE;\n",
              "      border: none;\n",
              "      border-radius: 50%;\n",
              "      cursor: pointer;\n",
              "      display: none;\n",
              "      fill: #1967D2;\n",
              "      height: 32px;\n",
              "      padding: 0 0 0 0;\n",
              "      width: 32px;\n",
              "    }\n",
              "\n",
              "    .colab-df-convert:hover {\n",
              "      background-color: #E2EBFA;\n",
              "      box-shadow: 0px 1px 2px rgba(60, 64, 67, 0.3), 0px 1px 3px 1px rgba(60, 64, 67, 0.15);\n",
              "      fill: #174EA6;\n",
              "    }\n",
              "\n",
              "    [theme=dark] .colab-df-convert {\n",
              "      background-color: #3B4455;\n",
              "      fill: #D2E3FC;\n",
              "    }\n",
              "\n",
              "    [theme=dark] .colab-df-convert:hover {\n",
              "      background-color: #434B5C;\n",
              "      box-shadow: 0px 1px 3px 1px rgba(0, 0, 0, 0.15);\n",
              "      filter: drop-shadow(0px 1px 2px rgba(0, 0, 0, 0.3));\n",
              "      fill: #FFFFFF;\n",
              "    }\n",
              "  </style>\n",
              "\n",
              "      <script>\n",
              "        const buttonEl =\n",
              "          document.querySelector('#df-c01f87a3-aa6b-447c-8f9a-a2cc2d68b508 button.colab-df-convert');\n",
              "        buttonEl.style.display =\n",
              "          google.colab.kernel.accessAllowed ? 'block' : 'none';\n",
              "\n",
              "        async function convertToInteractive(key) {\n",
              "          const element = document.querySelector('#df-c01f87a3-aa6b-447c-8f9a-a2cc2d68b508');\n",
              "          const dataTable =\n",
              "            await google.colab.kernel.invokeFunction('convertToInteractive',\n",
              "                                                     [key], {});\n",
              "          if (!dataTable) return;\n",
              "\n",
              "          const docLinkHtml = 'Like what you see? Visit the ' +\n",
              "            '<a target=\"_blank\" href=https://colab.research.google.com/notebooks/data_table.ipynb>data table notebook</a>'\n",
              "            + ' to learn more about interactive tables.';\n",
              "          element.innerHTML = '';\n",
              "          dataTable['output_type'] = 'display_data';\n",
              "          await google.colab.output.renderOutput(dataTable, element);\n",
              "          const docLink = document.createElement('div');\n",
              "          docLink.innerHTML = docLinkHtml;\n",
              "          element.appendChild(docLink);\n",
              "        }\n",
              "      </script>\n",
              "    </div>\n",
              "  </div>\n",
              "  "
            ]
          },
          "metadata": {},
          "execution_count": 32
        }
      ],
      "source": [
        "data"
      ]
    },
    {
      "cell_type": "code",
      "execution_count": 33,
      "metadata": {
        "colab": {
          "base_uri": "https://localhost:8080/"
        },
        "id": "kwf5hpk8TlEI",
        "outputId": "0b2312f5-28ce-4760-c186-fdbcd76933cf"
      },
      "outputs": [
        {
          "output_type": "execute_result",
          "data": {
            "text/plain": [
              "(89915, 6)"
            ]
          },
          "metadata": {},
          "execution_count": 33
        }
      ],
      "source": [
        "data.shape"
      ]
    },
    {
      "cell_type": "code",
      "execution_count": 34,
      "metadata": {
        "id": "A-Rk2CLwsWBW"
      },
      "outputs": [],
      "source": [
        "data.to_csv(\"/content/drive/MyDrive/Assignments/Case_study2/data.csv\")"
      ]
    },
    {
      "cell_type": "markdown",
      "metadata": {
        "id": "O_wyKFOpQdIY"
      },
      "source": [
        "splitting the data"
      ]
    },
    {
      "cell_type": "code",
      "execution_count": 35,
      "metadata": {
        "id": "LOezOFzKTlEW"
      },
      "outputs": [],
      "source": [
        "# train test split\n",
        "encoder_input_train, encoder_input_test, question_answer_train, question_answer_test, decoder_input_train, decoder_input_test = train_test_split(data[\"questionText\"], data[\"questionText + answerText\"], data[\"DecoderInput\"], test_size=0.2)"
      ]
    },
    {
      "cell_type": "markdown",
      "metadata": {
        "id": "5oZ1eW3LL41R"
      },
      "source": [
        "Here we have done the splitting of data into train-test ratio of 0.8"
      ]
    },
    {
      "cell_type": "markdown",
      "metadata": {
        "id": "mUI2h5aXnJpp"
      },
      "source": [
        "Converting text into sequesnce vectors"
      ]
    },
    {
      "cell_type": "code",
      "execution_count": 36,
      "metadata": {
        "id": "_D4P4oKHTlE6",
        "scrolled": true
      },
      "outputs": [],
      "source": [
        "t = Tokenizer(filters='!\"#$%&()*+,-./:;=?@[\\\\]^_`{|}~\\t\\n')\n",
        "t.fit_on_texts(question_answer_train)\n",
        "\n",
        "encoder_input_train = t.texts_to_sequences(encoder_input_train)\n",
        "encoder_input_test = t.texts_to_sequences(encoder_input_test)"
      ]
    },
    {
      "cell_type": "code",
      "execution_count": 37,
      "metadata": {
        "colab": {
          "base_uri": "https://localhost:8080/"
        },
        "id": "fxNM4NK7pa9R",
        "outputId": "bacc3023-d940-40f0-aed1-f10ce9cf6d61"
      },
      "outputs": [
        {
          "output_type": "execute_result",
          "data": {
            "text/plain": [
              "{'<sos>': 1,\n",
              " '<eos>': 2,\n",
              " 'yes': 3,\n",
              " 'this': 4,\n",
              " 'the': 5,\n",
              " 'is': 6,\n",
              " 'it': 7,\n",
              " 'does': 8,\n",
              " 'a': 9,\n",
              " 'no': 10,\n",
              " 'with': 11,\n",
              " 'will': 12,\n",
              " 'can': 13,\n",
              " 'what': 14,\n",
              " 'work': 15,\n",
              " 'in': 16,\n",
              " 'or': 17,\n",
              " 'fit': 18,\n",
              " 'have': 19,\n",
              " 'are': 20,\n",
              " 'how': 21,\n",
              " 'for': 22,\n",
              " 'come': 23,\n",
              " 'on': 24,\n",
              " 'of': 25,\n",
              " 'you': 26,\n",
              " 'do': 27,\n",
              " 'these': 28,\n",
              " 'to': 29,\n",
              " 'i': 30,\n",
              " 'made': 31,\n",
              " 'they': 32,\n",
              " 'be': 33,\n",
              " 'many': 34,\n",
              " 'and': 35,\n",
              " 'use': 36,\n",
              " 'size': 37,\n",
              " 'an': 38,\n",
              " 'one': 39,\n",
              " '2': 40,\n",
              " 'not': 41,\n",
              " 'where': 42,\n",
              " '1': 43,\n",
              " 'product': 44,\n",
              " 'phone': 45,\n",
              " 'inches': 46,\n",
              " '4': 47,\n",
              " 'china': 48,\n",
              " '3': 49,\n",
              " 'plastic': 50,\n",
              " '5': 51,\n",
              " 'my': 52,\n",
              " 'there': 53,\n",
              " 'case': 54,\n",
              " 'compatible': 55,\n",
              " 'long': 56,\n",
              " '8': 57,\n",
              " 'used': 58,\n",
              " 'model': 59,\n",
              " 'battery': 60,\n",
              " 'would': 61,\n",
              " 'about': 62,\n",
              " '6': 63,\n",
              " 'from': 64,\n",
              " 'color': 65,\n",
              " 'just': 66,\n",
              " 'included': 67,\n",
              " 'black': 68,\n",
              " 'thanks': 69,\n",
              " 'only': 70,\n",
              " 'as': 71,\n",
              " 'two': 72,\n",
              " 'camera': 73,\n",
              " 'good': 74,\n",
              " 'iphone': 75,\n",
              " 'charger': 76,\n",
              " 'batteries': 77,\n",
              " '7': 78,\n",
              " 'include': 79,\n",
              " 'nope': 80,\n",
              " 'box': 81,\n",
              " '10': 82,\n",
              " 'has': 83,\n",
              " 'windows': 84,\n",
              " 'any': 85,\n",
              " 'glass': 86,\n",
              " 'screen': 87,\n",
              " 'works': 88,\n",
              " 'get': 89,\n",
              " 'hold': 90,\n",
              " 'much': 91,\n",
              " 'card': 92,\n",
              " 'unit': 93,\n",
              " 'item': 94,\n",
              " 'cord': 95,\n",
              " 'all': 96,\n",
              " 'power': 97,\n",
              " '110': 98,\n",
              " 'usa': 99,\n",
              " 'light': 100,\n",
              " 'free': 101,\n",
              " 'metal': 102,\n",
              " 'warranty': 103,\n",
              " 'weight': 104,\n",
              " 'white': 105,\n",
              " '12': 106,\n",
              " 'did': 107,\n",
              " 'play': 108,\n",
              " 'cover': 109,\n",
              " 'well': 110,\n",
              " 'set': 111,\n",
              " 'up': 112,\n",
              " 'mine': 113,\n",
              " 'cable': 114,\n",
              " 'need': 115,\n",
              " 'samsung': 116,\n",
              " 'know': 117,\n",
              " 'at': 118,\n",
              " 'keyboard': 119,\n",
              " 'usb': 120,\n",
              " 'off': 121,\n",
              " 'galaxy': 122,\n",
              " 'inch': 123,\n",
              " 'remote': 124,\n",
              " 'water': 125,\n",
              " 'length': 126,\n",
              " 'date': 127,\n",
              " 'ipad': 128,\n",
              " 'take': 129,\n",
              " 'back': 130,\n",
              " 'height': 131,\n",
              " 'tall': 132,\n",
              " 'diameter': 133,\n",
              " 'pair': 134,\n",
              " 'that': 135,\n",
              " 'sure': 136,\n",
              " 'anyone': 137,\n",
              " 'both': 138,\n",
              " 'plug': 139,\n",
              " 'support': 140,\n",
              " 'also': 141,\n",
              " 'bag': 142,\n",
              " 'comes': 143,\n",
              " 'its': 144,\n",
              " 'when': 145,\n",
              " 'country': 146,\n",
              " 'dimensions': 147,\n",
              " 'seat': 148,\n",
              " '220v': 149,\n",
              " 'voltage': 150,\n",
              " 'very': 151,\n",
              " 'feet': 152,\n",
              " 'if': 153,\n",
              " 'sim': 154,\n",
              " 'tv': 155,\n",
              " '2014': 156,\n",
              " 'steel': 157,\n",
              " '110v': 158,\n",
              " 'bottle': 159,\n",
              " 'hi': 160,\n",
              " 'front': 161,\n",
              " 'absolutely': 162,\n",
              " 'should': 163,\n",
              " 'like': 164,\n",
              " 'sorry': 165,\n",
              " 'expiration': 166,\n",
              " 'laptop': 167,\n",
              " 'mini': 168,\n",
              " 'out': 169,\n",
              " 'pack': 170,\n",
              " 'package': 171,\n",
              " 'year': 172,\n",
              " 'top': 173,\n",
              " 'ship': 174,\n",
              " 'safe': 175,\n",
              " 'new': 176,\n",
              " 'lbs': 177,\n",
              " 'lens': 178,\n",
              " 'bluetooth': 179,\n",
              " 'x': 180,\n",
              " 'each': 181,\n",
              " 'so': 182,\n",
              " 'amp': 183,\n",
              " 'full': 184,\n",
              " 'small': 185,\n",
              " 'inside': 186,\n",
              " 'charge': 187,\n",
              " 'original': 188,\n",
              " 'manufactured': 189,\n",
              " 'wide': 190,\n",
              " 'your': 191,\n",
              " '220': 192,\n",
              " '2015': 193,\n",
              " 'adapter': 194,\n",
              " 'was': 195,\n",
              " '15': 196,\n",
              " 'put': 197,\n",
              " 'per': 198,\n",
              " 'machine': 199,\n",
              " 'wireless': 200,\n",
              " 'without': 201,\n",
              " 'standard': 202,\n",
              " 'stand': 203,\n",
              " 'fits': 204,\n",
              " 'watts': 205,\n",
              " 'wall': 206,\n",
              " 'right': 207,\n",
              " '9': 208,\n",
              " 'weigh': 209,\n",
              " 'by': 210,\n",
              " 'type': 211,\n",
              " 'hard': 212,\n",
              " 'belt': 213,\n",
              " 'price': 214,\n",
              " '0': 215,\n",
              " '16': 216,\n",
              " 'drive': 217,\n",
              " 'removable': 218,\n",
              " '100': 219,\n",
              " 'air': 220,\n",
              " 's': 221,\n",
              " 'hdmi': 222,\n",
              " 'into': 223,\n",
              " 'system': 224,\n",
              " 'mount': 225,\n",
              " 'tablet': 226,\n",
              " 'yep': 227,\n",
              " 'big': 228,\n",
              " 'wifi': 229,\n",
              " 'pro': 230,\n",
              " 'version': 231,\n",
              " 'port': 232,\n",
              " 'which': 233,\n",
              " 'control': 234,\n",
              " 'please': 235,\n",
              " 'dvd': 236,\n",
              " '30': 237,\n",
              " 'canon': 238,\n",
              " 'base': 239,\n",
              " 'wood': 240,\n",
              " 'red': 241,\n",
              " 'kit': 242,\n",
              " 'contain': 243,\n",
              " 'kind': 244,\n",
              " 'side': 245,\n",
              " 'run': 246,\n",
              " 'ipod': 247,\n",
              " 'stainless': 248,\n",
              " 'handle': 249,\n",
              " 'bottom': 250,\n",
              " 'large': 251,\n",
              " '20': 252,\n",
              " 'thank': 253,\n",
              " 'oz': 254,\n",
              " 'ounces': 255,\n",
              " 'speakers': 256,\n",
              " 'waterproof': 257,\n",
              " 'pounds': 258,\n",
              " 'ac': 259,\n",
              " 'same': 260,\n",
              " 'built': 261,\n",
              " 'u': 262,\n",
              " 'order': 263,\n",
              " 'car': 264,\n",
              " '2013': 265,\n",
              " 'blue': 266,\n",
              " 'them': 267,\n",
              " 'filter': 268,\n",
              " 'me': 269,\n",
              " 'number': 270,\n",
              " 'computer': 271,\n",
              " 'adjustable': 272,\n",
              " 'volt': 273,\n",
              " 'regular': 274,\n",
              " 'go': 275,\n",
              " 'unlocked': 276,\n",
              " 'table': 277,\n",
              " 'electric': 278,\n",
              " 'material': 279,\n",
              " 'device': 280,\n",
              " 'touch': 281,\n",
              " 'nikon': 282,\n",
              " 'hello': 283,\n",
              " 'cd': 284,\n",
              " 'game': 285,\n",
              " 'make': 286,\n",
              " 'buy': 287,\n",
              " 'us': 288,\n",
              " 'too': 289,\n",
              " 'clip': 290,\n",
              " 'great': 291,\n",
              " 'replacement': 292,\n",
              " 'volts': 293,\n",
              " 'width': 294,\n",
              " '24': 295,\n",
              " '11': 296,\n",
              " 'high': 297,\n",
              " 'bulb': 298,\n",
              " '18': 299,\n",
              " 'mac': 300,\n",
              " 'wheels': 301,\n",
              " 'really': 302,\n",
              " 'lid': 303,\n",
              " 'hp': 304,\n",
              " 't': 305,\n",
              " 'could': 306,\n",
              " 'single': 307,\n",
              " 'over': 308,\n",
              " 'shipping': 309,\n",
              " 'flat': 310,\n",
              " 'mattress': 311,\n",
              " 'we': 312,\n",
              " 'bed': 313,\n",
              " 'clear': 314,\n",
              " 'honda': 315,\n",
              " 'dual': 316,\n",
              " 'brown': 317,\n",
              " 'jack': 318,\n",
              " 'dose': 319,\n",
              " 'video': 320,\n",
              " '25': 321,\n",
              " 'aluminum': 322,\n",
              " 'bottles': 323,\n",
              " 'think': 324,\n",
              " 'speaker': 325,\n",
              " 'time': 326,\n",
              " 'am': 327,\n",
              " '32': 328,\n",
              " '2012': 329,\n",
              " 'dishwasher': 330,\n",
              " 'board': 331,\n",
              " 'real': 332,\n",
              " 'open': 333,\n",
              " 'radio': 334,\n",
              " 'bpa': 335,\n",
              " 'protector': 336,\n",
              " 'rear': 337,\n",
              " 'around': 338,\n",
              " 'dark': 339,\n",
              " 'headphones': 340,\n",
              " 'venezuela': 341,\n",
              " 'old': 342,\n",
              " 'head': 343,\n",
              " 'blade': 344,\n",
              " '13': 345,\n",
              " 'spanish': 346,\n",
              " '14': 347,\n",
              " 'v': 348,\n",
              " 'sony': 349,\n",
              " 'strap': 350,\n",
              " 'capacity': 351,\n",
              " 'perfectly': 352,\n",
              " 'chair': 353,\n",
              " 'memory': 354,\n",
              " 'player': 355,\n",
              " 'connect': 356,\n",
              " 'bit': 357,\n",
              " 'course': 358,\n",
              " 'hair': 359,\n",
              " 'lock': 360,\n",
              " 's4': 361,\n",
              " 'led': 362,\n",
              " 'other': 363,\n",
              " 'door': 364,\n",
              " 'fan': 365,\n",
              " '120': 366,\n",
              " 'pump': 367,\n",
              " 'bike': 368,\n",
              " 'rubber': 369,\n",
              " 'easy': 370,\n",
              " 'speed': 371,\n",
              " '5c': 372,\n",
              " 'monitor': 373,\n",
              " 'bags': 374,\n",
              " 'require': 375,\n",
              " 'verizon': 376,\n",
              " 'bar': 377,\n",
              " 'switch': 378,\n",
              " 'three': 379,\n",
              " 'gun': 380,\n",
              " 'available': 381,\n",
              " 'down': 382,\n",
              " 'lights': 383,\n",
              " '5s': 384,\n",
              " 'sizes': 385,\n",
              " 'matte': 386,\n",
              " 'backlit': 387,\n",
              " 'medium': 388,\n",
              " 'left': 389,\n",
              " 'yup': 390,\n",
              " 'japan': 391,\n",
              " 'printer': 392,\n",
              " 'bulbs': 393,\n",
              " 'floor': 394,\n",
              " 'toyota': 395,\n",
              " 'flash': 396,\n",
              " 'amazon': 397,\n",
              " 'definitely': 398,\n",
              " 'wire': 399,\n",
              " 'input': 400,\n",
              " 'double': 401,\n",
              " 'mouse': 402,\n",
              " 'more': 403,\n",
              " 'cup': 404,\n",
              " 'micro': 405,\n",
              " 'ft': 406,\n",
              " 'fire': 407,\n",
              " 'audio': 408,\n",
              " 'installed': 409,\n",
              " 'origin': 410,\n",
              " 'sd': 411,\n",
              " 'through': 412,\n",
              " 'hd': 413,\n",
              " 'part': 414,\n",
              " 'ram': 415,\n",
              " 'picture': 416,\n",
              " 'paper': 417,\n",
              " 'auto': 418,\n",
              " 'generation': 419,\n",
              " 'between': 420,\n",
              " 'easily': 421,\n",
              " '2007': 422,\n",
              " 'unfortunately': 423,\n",
              " '40': 424,\n",
              " 'note': 425,\n",
              " 'deep': 426,\n",
              " 'under': 427,\n",
              " 'mobile': 428,\n",
              " 'display': 429,\n",
              " 'english': 430,\n",
              " 'solid': 431,\n",
              " '60': 432,\n",
              " 'pieces': 433,\n",
              " 'glossy': 434,\n",
              " 'leather': 435,\n",
              " 'oil': 436,\n",
              " 'thick': 437,\n",
              " 'cups': 438,\n",
              " 'replace': 439,\n",
              " 'manual': 440,\n",
              " 'hose': 441,\n",
              " 'android': 442,\n",
              " 'washable': 443,\n",
              " 'sound': 444,\n",
              " 'believe': 445,\n",
              " 'wheel': 446,\n",
              " 'cards': 447,\n",
              " '64': 448,\n",
              " 'still': 449,\n",
              " 'outside': 450,\n",
              " 'piece': 451,\n",
              " 'yea': 452,\n",
              " '50': 453,\n",
              " 'while': 454,\n",
              " 'compatable': 455,\n",
              " 'straight': 456,\n",
              " 'ford': 457,\n",
              " 'macbook': 458,\n",
              " 'frame': 459,\n",
              " 'adult': 460,\n",
              " 'hot': 461,\n",
              " 'fold': 462,\n",
              " '120v': 463,\n",
              " 'pad': 464,\n",
              " 'button': 465,\n",
              " 'soft': 466,\n",
              " 'mm': 467,\n",
              " 'limit': 468,\n",
              " 'enough': 469,\n",
              " 'pan': 470,\n",
              " 'ball': 471,\n",
              " 'mounting': 472,\n",
              " '2006': 473,\n",
              " 'supply': 474,\n",
              " 'silver': 475,\n",
              " '17': 476,\n",
              " 'yeah': 477,\n",
              " 'microphone': 478,\n",
              " 'four': 479,\n",
              " 'than': 480,\n",
              " 'non': 481,\n",
              " 'wattage': 482,\n",
              " 'charging': 483,\n",
              " 'assembled': 484,\n",
              " 'dell': 485,\n",
              " 'xbox': 486,\n",
              " 'kindle': 487,\n",
              " 'language': 488,\n",
              " 'storage': 489,\n",
              " 'swivel': 490,\n",
              " 'aa': 491,\n",
              " 'tell': 492,\n",
              " 'blades': 493,\n",
              " 'headphone': 494,\n",
              " 'remove': 495,\n",
              " 'hole': 496,\n",
              " 'feature': 497,\n",
              " 'key': 498,\n",
              " 'ink': 499,\n",
              " 'approximately': 500,\n",
              " 'purchase': 501,\n",
              " 'cotton': 502,\n",
              " 'perfect': 503,\n",
              " 'sides': 504,\n",
              " 'different': 505,\n",
              " 'lg': 506,\n",
              " '2008': 507,\n",
              " 'record': 508,\n",
              " 'brand': 509,\n",
              " 'chevy': 510,\n",
              " 'round': 511,\n",
              " 'proof': 512,\n",
              " 'turn': 513,\n",
              " 'correct': 514,\n",
              " '2011': 515,\n",
              " 'plates': 516,\n",
              " 'stick': 517,\n",
              " 'gsm': 518,\n",
              " 'tube': 519,\n",
              " 'covers': 520,\n",
              " 'line': 521,\n",
              " 'pairs': 522,\n",
              " '2005': 523,\n",
              " 'green': 524,\n",
              " 'pockets': 525,\n",
              " '2003': 526,\n",
              " 'scope': 527,\n",
              " 'pc': 528,\n",
              " 'install': 529,\n",
              " 'whats': 530,\n",
              " '4s': 531,\n",
              " 'see': 532,\n",
              " 'zipper': 533,\n",
              " 'surface': 534,\n",
              " 'headset': 535,\n",
              " '2004': 536,\n",
              " 'helmet': 537,\n",
              " 'watch': 538,\n",
              " '3g': 539,\n",
              " 'pen': 540,\n",
              " 'output': 541,\n",
              " 'apple': 542,\n",
              " 'mic': 543,\n",
              " 'ok': 544,\n",
              " 'legs': 545,\n",
              " 'sold': 546,\n",
              " 'germany': 547,\n",
              " 'jeep': 548,\n",
              " 'tank': 549,\n",
              " 'filters': 550,\n",
              " 'cut': 551,\n",
              " 'tire': 552,\n",
              " 'shelves': 553,\n",
              " 'connection': 554,\n",
              " '22': 555,\n",
              " '90': 556,\n",
              " 'magnetic': 557,\n",
              " 'holder': 558,\n",
              " 'waist': 559,\n",
              " '2001': 560,\n",
              " 'total': 561,\n",
              " 'idea': 562,\n",
              " '2009': 563,\n",
              " 'gps': 564,\n",
              " 'hook': 565,\n",
              " 'software': 566,\n",
              " 'mounted': 567,\n",
              " 'print': 568,\n",
              " 'youth': 569,\n",
              " 'spray': 570,\n",
              " 'c': 571,\n",
              " 'function': 572,\n",
              " 'actual': 573,\n",
              " 'dryer': 574,\n",
              " 'probably': 575,\n",
              " 'after': 576,\n",
              " 'screws': 577,\n",
              " '4g': 578,\n",
              " 'actually': 579,\n",
              " '240v': 580,\n",
              " 'heat': 581,\n",
              " 'temperature': 582,\n",
              " 'dont': 583,\n",
              " 'guitar': 584,\n",
              " 'lamp': 585,\n",
              " '2010': 586,\n",
              " 'e': 587,\n",
              " '36': 588,\n",
              " 'elastic': 589,\n",
              " 'stock': 590,\n",
              " 'inseam': 591,\n",
              " 'slot': 592,\n",
              " 'ear': 593,\n",
              " 'knife': 594,\n",
              " 'google': 595,\n",
              " 'pants': 596,\n",
              " 'container': 597,\n",
              " 'holes': 598,\n",
              " 'max': 599,\n",
              " 'colors': 600,\n",
              " 'required': 601,\n",
              " 'approx': 602,\n",
              " 'glasses': 603,\n",
              " 'foot': 604,\n",
              " '300': 605,\n",
              " 'pictures': 606,\n",
              " 'pin': 607,\n",
              " 'attach': 608,\n",
              " 'gluten': 609,\n",
              " 'men': 610,\n",
              " '2002': 611,\n",
              " 'packaging': 612,\n",
              " 'years': 613,\n",
              " 'volume': 614,\n",
              " 'hours': 615,\n",
              " 'together': 616,\n",
              " 'rechargeable': 617,\n",
              " 'music': 618,\n",
              " 'mean': 619,\n",
              " 'iron': 620,\n",
              " 'gas': 621,\n",
              " 'pot': 622,\n",
              " 'using': 623,\n",
              " 'problem': 624,\n",
              " 'hand': 625,\n",
              " 'clean': 626,\n",
              " 'tires': 627,\n",
              " 'keys': 628,\n",
              " 'plate': 629,\n",
              " 'wired': 630,\n",
              " 'gb': 631,\n",
              " 'who': 632,\n",
              " 'heavy': 633,\n",
              " 'screw': 634,\n",
              " '1500': 635,\n",
              " 'true': 636,\n",
              " 'series': 637,\n",
              " 'outlet': 638,\n",
              " '26': 639,\n",
              " 'ring': 640,\n",
              " 'powered': 641,\n",
              " 'ingredients': 642,\n",
              " 'gloves': 643,\n",
              " 's5': 644,\n",
              " '19': 645,\n",
              " 'plus': 646,\n",
              " 'help': 647,\n",
              " 'tripod': 648,\n",
              " 's3': 649,\n",
              " '2000': 650,\n",
              " 'mirror': 651,\n",
              " 'shut': 652,\n",
              " 'microwave': 653,\n",
              " 'games': 654,\n",
              " 'motor': 655,\n",
              " 'gt': 656,\n",
              " 'oven': 657,\n",
              " 'timer': 658,\n",
              " 'talk': 659,\n",
              " 'fully': 660,\n",
              " 'external': 661,\n",
              " '75': 662,\n",
              " 'able': 663,\n",
              " 'here': 664,\n",
              " 'cap': 665,\n",
              " 'sheets': 666,\n",
              " 'dodge': 667,\n",
              " 'tool': 668,\n",
              " 'maximum': 669,\n",
              " 'sized': 670,\n",
              " 'far': 671,\n",
              " '250': 672,\n",
              " 'holster': 673,\n",
              " '240': 674,\n",
              " 'depth': 675,\n",
              " 'velcro': 676,\n",
              " 'store': 677,\n",
              " 'shelf': 678,\n",
              " 'fine': 679,\n",
              " 'spring': 680,\n",
              " 'instructions': 681,\n",
              " 'smell': 682,\n",
              " 'range': 683,\n",
              " 'yellow': 684,\n",
              " 'nissan': 685,\n",
              " 'finish': 686,\n",
              " 'low': 687,\n",
              " 'suitable': 688,\n",
              " '2016': 689,\n",
              " 'aaa': 690,\n",
              " '500': 691,\n",
              " 'assembly': 692,\n",
              " 'rack': 693,\n",
              " 'dry': 694,\n",
              " 'tray': 695,\n",
              " 'w': 696,\n",
              " 'read': 697,\n",
              " 'webcam': 698,\n",
              " 'induction': 699,\n",
              " 'shown': 700,\n",
              " 'cables': 701,\n",
              " 'carry': 702,\n",
              " 'says': 703,\n",
              " 'controller': 704,\n",
              " 'american': 705,\n",
              " 'why': 706,\n",
              " 'powder': 707,\n",
              " 'gauge': 708,\n",
              " 'doll': 709,\n",
              " 'removed': 710,\n",
              " 'internal': 711,\n",
              " 'drill': 712,\n",
              " 'cameras': 713,\n",
              " 'mat': 714,\n",
              " 'pink': 715,\n",
              " 'download': 716,\n",
              " 'shipped': 717,\n",
              " 'socks': 718,\n",
              " 'say': 719,\n",
              " 'includes': 720,\n",
              " 'xl': 721,\n",
              " 'mats': 722,\n",
              " '360': 723,\n",
              " 'way': 724,\n",
              " 'foam': 725,\n",
              " 'receiver': 726,\n",
              " 'sheet': 727,\n",
              " 'needed': 728,\n",
              " 'pads': 729,\n",
              " 'd': 730,\n",
              " 'tab': 731,\n",
              " 'measurements': 732,\n",
              " 'individually': 733,\n",
              " 'ground': 734,\n",
              " 'face': 735,\n",
              " 'ceramic': 736,\n",
              " 'mg': 737,\n",
              " 'cell': 738,\n",
              " 'attached': 739,\n",
              " 'place': 740,\n",
              " 'last': 741,\n",
              " 'pre': 742,\n",
              " 'extra': 743,\n",
              " '45': 744,\n",
              " 'digital': 745,\n",
              " 'shower': 746,\n",
              " 'window': 747,\n",
              " 'band': 748,\n",
              " '21': 749,\n",
              " 'king': 750,\n",
              " 'home': 751,\n",
              " 'app': 752,\n",
              " 'asus': 753,\n",
              " 'mexico': 754,\n",
              " 'chrome': 755,\n",
              " 'amps': 756,\n",
              " 'tried': 757,\n",
              " 'rings': 758,\n",
              " 'none': 759,\n",
              " 'handles': 760,\n",
              " 'fm': 761,\n",
              " 'chairs': 762,\n",
              " 'already': 763,\n",
              " 'si': 764,\n",
              " 'possible': 765,\n",
              " 'pillow': 766,\n",
              " 'gen': 767,\n",
              " 'g': 768,\n",
              " 'approved': 769,\n",
              " 'active': 770,\n",
              " 'six': 771,\n",
              " 'sleep': 772,\n",
              " 'touchscreen': 773,\n",
              " 'carrying': 774,\n",
              " 'working': 775,\n",
              " 'bowl': 776,\n",
              " 'rating': 777,\n",
              " 'parts': 778,\n",
              " '29': 779,\n",
              " 'fabric': 780,\n",
              " 'book': 781,\n",
              " 'age': 782,\n",
              " 'canada': 783,\n",
              " 'valve': 784,\n",
              " 'adjust': 785,\n",
              " 'international': 786,\n",
              " 'days': 787,\n",
              " 'india': 788,\n",
              " '150': 789,\n",
              " 'exactly': 790,\n",
              " 'barrel': 791,\n",
              " 'amount': 792,\n",
              " 'factory': 793,\n",
              " 'boxes': 794,\n",
              " 'ports': 795,\n",
              " 'code': 796,\n",
              " 'end': 797,\n",
              " 'opening': 798,\n",
              " 'pocket': 799,\n",
              " 'first': 800,\n",
              " 'rebel': 801,\n",
              " 'automatic': 802,\n",
              " 'operated': 803,\n",
              " 'coffee': 804,\n",
              " 'stroller': 805,\n",
              " 'sealed': 806,\n",
              " 'straps': 807,\n",
              " 'nylon': 808,\n",
              " 'setting': 809,\n",
              " 'listed': 810,\n",
              " 'day': 811,\n",
              " 'outdoor': 812,\n",
              " 'gray': 813,\n",
              " 'change': 814,\n",
              " '3d': 815,\n",
              " 'taiwan': 816,\n",
              " 'chart': 817,\n",
              " 'fi': 818,\n",
              " 'food': 819,\n",
              " 'pressure': 820,\n",
              " 'cartridge': 821,\n",
              " 'closed': 822,\n",
              " 'pole': 823,\n",
              " 'resistant': 824,\n",
              " 'body': 825,\n",
              " '28': 826,\n",
              " 'close': 827,\n",
              " 'driver': 828,\n",
              " 'stylus': 829,\n",
              " 'os': 830,\n",
              " 'scale': 831,\n",
              " 'xp': 832,\n",
              " 'shoe': 833,\n",
              " 'add': 834,\n",
              " 'phones': 835,\n",
              " 'office': 836,\n",
              " 'life': 837,\n",
              " 'glock': 838,\n",
              " 'wi': 839,\n",
              " 'detachable': 840,\n",
              " 'shoes': 841,\n",
              " 'sensor': 842,\n",
              " 'wash': 843,\n",
              " 'connector': 844,\n",
              " 'cannot': 845,\n",
              " '27': 846,\n",
              " 'mode': 847,\n",
              " 'baby': 848,\n",
              " 'capsules': 849,\n",
              " 'show': 850,\n",
              " 'o': 851,\n",
              " '200': 852,\n",
              " 'look': 853,\n",
              " 'grill': 854,\n",
              " 'prong': 855,\n",
              " 'saw': 856,\n",
              " 'lids': 857,\n",
              " 'most': 858,\n",
              " 'cabinet': 859,\n",
              " 'doesnt': 860,\n",
              " 'accord': 861,\n",
              " 'htc': 862,\n",
              " 'mp3': 863,\n",
              " 'disc': 864,\n",
              " 'grey': 865,\n",
              " 'attract': 866,\n",
              " 'civic': 867,\n",
              " 'pull': 868,\n",
              " 'smart': 869,\n",
              " '99': 870,\n",
              " 'women': 871,\n",
              " 'option': 872,\n",
              " 'rod': 873,\n",
              " 'but': 874,\n",
              " 'clips': 875,\n",
              " 'tilt': 876,\n",
              " 'center': 877,\n",
              " 'stereo': 878,\n",
              " 'keep': 879,\n",
              " 'manufacturer': 880,\n",
              " 'liner': 881,\n",
              " 'uk': 882,\n",
              " 'stove': 883,\n",
              " 'ice': 884,\n",
              " 'calories': 885,\n",
              " 'quality': 886,\n",
              " 'completely': 887,\n",
              " 'm': 888,\n",
              " 'best': 889,\n",
              " 'silverado': 890,\n",
              " 'chain': 891,\n",
              " 'tape': 892,\n",
              " 'eos': 893,\n",
              " 'core': 894,\n",
              " 'cartridges': 895,\n",
              " 'rain': 896,\n",
              " 'tip': 897,\n",
              " 'lenses': 898,\n",
              " '350': 899,\n",
              " 'drain': 900,\n",
              " 'send': 901,\n",
              " 'tablets': 902,\n",
              " 'lead': 903,\n",
              " 'brush': 904,\n",
              " 'natural': 905,\n",
              " 'vinyl': 906,\n",
              " 'protect': 907,\n",
              " 'bmw': 908,\n",
              " 'try': 909,\n",
              " 'lb': 910,\n",
              " 'style': 911,\n",
              " 'ready': 912,\n",
              " 'antenna': 913,\n",
              " 'shorts': 914,\n",
              " 'bars': 915,\n",
              " 'current': 916,\n",
              " 'sprint': 917,\n",
              " 'thread': 918,\n",
              " 'quiet': 919,\n",
              " 'night': 920,\n",
              " 'ps3': 921,\n",
              " 'degrees': 922,\n",
              " 'plugged': 923,\n",
              " 'genuine': 924,\n",
              " 'america': 925,\n",
              " 'normal': 926,\n",
              " 'ps4': 927,\n",
              " 'arm': 928,\n",
              " 'smooth': 929,\n",
              " 'plan': 930,\n",
              " '1000': 931,\n",
              " 'microsoft': 932,\n",
              " 'retina': 933,\n",
              " 'truck': 934,\n",
              " 'pages': 935,\n",
              " 'roll': 936,\n",
              " 'oem': 937,\n",
              " 'nano': 938,\n",
              " 'better': 939,\n",
              " 'reverse': 940,\n",
              " 'either': 941,\n",
              " 'slide': 942,\n",
              " 'toy': 943,\n",
              " 'closure': 944,\n",
              " 'excellent': 945,\n",
              " 'measurement': 946,\n",
              " 'cream': 947,\n",
              " 'shoot': 948,\n",
              " 'hardware': 949,\n",
              " 'measure': 950,\n",
              " 'lint': 951,\n",
              " 'router': 952,\n",
              " 'maybe': 953,\n",
              " 'id': 954,\n",
              " 'cab': 955,\n",
              " 'internet': 956,\n",
              " 'service': 957,\n",
              " 'noise': 958,\n",
              " 'pound': 959,\n",
              " '35': 960,\n",
              " 'square': 961,\n",
              " 'buttons': 962,\n",
              " 'individual': 963,\n",
              " 'sleeves': 964,\n",
              " 'shoulder': 965,\n",
              " 'warm': 966,\n",
              " 'sell': 967,\n",
              " 'itself': 968,\n",
              " 'arms': 969,\n",
              " 'faucet': 970,\n",
              " '48': 971,\n",
              " 'thing': 972,\n",
              " 'classic': 973,\n",
              " 'grams': 974,\n",
              " 'data': 975,\n",
              " 'mens': 976,\n",
              " 'sizing': 977,\n",
              " 'performance': 978,\n",
              " 'minutes': 979,\n",
              " 'wii': 980,\n",
              " 'net': 981,\n",
              " 'watt': 982,\n",
              " 'organic': 983,\n",
              " 'he': 984,\n",
              " 'stay': 985,\n",
              " 'answer': 986,\n",
              " 'cold': 987,\n",
              " 'doors': 988,\n",
              " 'orange': 989,\n",
              " 'travel': 990,\n",
              " 'shade': 991,\n",
              " 'ceiling': 992,\n",
              " 'twin': 993,\n",
              " 'snap': 994,\n",
              " 'jar': 995,\n",
              " 'network': 996,\n",
              " 'products': 997,\n",
              " 'b': 998,\n",
              " 'before': 999,\n",
              " 'capable': 1000,\n",
              " ...}"
            ]
          },
          "metadata": {},
          "execution_count": 37
        }
      ],
      "source": [
        "t.word_index"
      ]
    },
    {
      "cell_type": "code",
      "execution_count": 38,
      "metadata": {
        "id": "KOZ2jOVEf79T"
      },
      "outputs": [],
      "source": [
        "# saving\n",
        "with open('tokenizer.pickle', 'wb') as h:\n",
        "    pickle.dump(t, h, protocol=pickle.HIGHEST_PROTOCOL)"
      ]
    },
    {
      "cell_type": "code",
      "execution_count": 39,
      "metadata": {
        "colab": {
          "base_uri": "https://localhost:8080/"
        },
        "id": "pjo7MBCXTlFA",
        "outputId": "9d3e581d-86d6-432e-ba46-ea7abd4b4720"
      },
      "outputs": [
        {
          "output_type": "stream",
          "name": "stdout",
          "text": [
            "Number of unique words in Questions and Answers set:  23881\n"
          ]
        }
      ],
      "source": [
        "vocab_size = len(t.word_index) + 1\n",
        "print('Number of unique words in Questions and Answers set: ' ,vocab_size)"
      ]
    },
    {
      "cell_type": "markdown",
      "metadata": {
        "id": "Fvw8SE3zMSch"
      },
      "source": [
        "Let's create 2 dictionaries , one with word-index pair and another with index-word pair so that words and indexes could be traced back."
      ]
    },
    {
      "cell_type": "code",
      "execution_count": 40,
      "metadata": {
        "id": "m36dYUO95ULd"
      },
      "outputs": [],
      "source": [
        "dicti = t.word_index\n",
        "word2id = {}\n",
        "id2word = {}\n",
        "for k, v in dicti.items():\n",
        "    word2id[k] = v\n",
        "    id2word[v] = k"
      ]
    },
    {
      "cell_type": "code",
      "execution_count": 41,
      "metadata": {
        "id": "mJ6BkU_09BDX"
      },
      "outputs": [],
      "source": [
        "#saving the two dictionaries into a pickled file\n",
        "with open('word2id.pickle', 'wb') as i:\n",
        "    pickle.dump(word2id, i, protocol=pickle.HIGHEST_PROTOCOL)\n",
        "with open('id2word.pickle', 'wb') as j:\n",
        "    pickle.dump(id2word, j, protocol=pickle.HIGHEST_PROTOCOL)"
      ]
    },
    {
      "cell_type": "code",
      "execution_count": 42,
      "metadata": {
        "colab": {
          "base_uri": "https://localhost:8080/"
        },
        "id": "u_QoNkc96T_y",
        "outputId": "f76f161a-2280-474e-d647-52dbc856e022"
      },
      "outputs": [
        {
          "output_type": "execute_result",
          "data": {
            "text/plain": [
              "dict_items([('<sos>', 1), ('<eos>', 2), ('yes', 3), ('this', 4), ('the', 5), ('is', 6), ('it', 7), ('does', 8), ('a', 9), ('no', 10), ('with', 11), ('will', 12), ('can', 13), ('what', 14), ('work', 15), ('in', 16), ('or', 17), ('fit', 18), ('have', 19), ('are', 20), ('how', 21), ('for', 22), ('come', 23), ('on', 24), ('of', 25), ('you', 26), ('do', 27), ('these', 28), ('to', 29), ('i', 30), ('made', 31), ('they', 32), ('be', 33), ('many', 34), ('and', 35), ('use', 36), ('size', 37), ('an', 38), ('one', 39), ('2', 40), ('not', 41), ('where', 42), ('1', 43), ('product', 44), ('phone', 45), ('inches', 46), ('4', 47), ('china', 48), ('3', 49), ('plastic', 50), ('5', 51), ('my', 52), ('there', 53), ('case', 54), ('compatible', 55), ('long', 56), ('8', 57), ('used', 58), ('model', 59), ('battery', 60), ('would', 61), ('about', 62), ('6', 63), ('from', 64), ('color', 65), ('just', 66), ('included', 67), ('black', 68), ('thanks', 69), ('only', 70), ('as', 71), ('two', 72), ('camera', 73), ('good', 74), ('iphone', 75), ('charger', 76), ('batteries', 77), ('7', 78), ('include', 79), ('nope', 80), ('box', 81), ('10', 82), ('has', 83), ('windows', 84), ('any', 85), ('glass', 86), ('screen', 87), ('works', 88), ('get', 89), ('hold', 90), ('much', 91), ('card', 92), ('unit', 93), ('item', 94), ('cord', 95), ('all', 96), ('power', 97), ('110', 98), ('usa', 99), ('light', 100), ('free', 101), ('metal', 102), ('warranty', 103), ('weight', 104), ('white', 105), ('12', 106), ('did', 107), ('play', 108), ('cover', 109), ('well', 110), ('set', 111), ('up', 112), ('mine', 113), ('cable', 114), ('need', 115), ('samsung', 116), ('know', 117), ('at', 118), ('keyboard', 119), ('usb', 120), ('off', 121), ('galaxy', 122), ('inch', 123), ('remote', 124), ('water', 125), ('length', 126), ('date', 127), ('ipad', 128), ('take', 129), ('back', 130), ('height', 131), ('tall', 132), ('diameter', 133), ('pair', 134), ('that', 135), ('sure', 136), ('anyone', 137), ('both', 138), ('plug', 139), ('support', 140), ('also', 141), ('bag', 142), ('comes', 143), ('its', 144), ('when', 145), ('country', 146), ('dimensions', 147), ('seat', 148), ('220v', 149), ('voltage', 150), ('very', 151), ('feet', 152), ('if', 153), ('sim', 154), ('tv', 155), ('2014', 156), ('steel', 157), ('110v', 158), ('bottle', 159), ('hi', 160), ('front', 161), ('absolutely', 162), ('should', 163), ('like', 164), ('sorry', 165), ('expiration', 166), ('laptop', 167), ('mini', 168), ('out', 169), ('pack', 170), ('package', 171), ('year', 172), ('top', 173), ('ship', 174), ('safe', 175), ('new', 176), ('lbs', 177), ('lens', 178), ('bluetooth', 179), ('x', 180), ('each', 181), ('so', 182), ('amp', 183), ('full', 184), ('small', 185), ('inside', 186), ('charge', 187), ('original', 188), ('manufactured', 189), ('wide', 190), ('your', 191), ('220', 192), ('2015', 193), ('adapter', 194), ('was', 195), ('15', 196), ('put', 197), ('per', 198), ('machine', 199), ('wireless', 200), ('without', 201), ('standard', 202), ('stand', 203), ('fits', 204), ('watts', 205), ('wall', 206), ('right', 207), ('9', 208), ('weigh', 209), ('by', 210), ('type', 211), ('hard', 212), ('belt', 213), ('price', 214), ('0', 215), ('16', 216), ('drive', 217), ('removable', 218), ('100', 219), ('air', 220), ('s', 221), ('hdmi', 222), ('into', 223), ('system', 224), ('mount', 225), ('tablet', 226), ('yep', 227), ('big', 228), ('wifi', 229), ('pro', 230), ('version', 231), ('port', 232), ('which', 233), ('control', 234), ('please', 235), ('dvd', 236), ('30', 237), ('canon', 238), ('base', 239), ('wood', 240), ('red', 241), ('kit', 242), ('contain', 243), ('kind', 244), ('side', 245), ('run', 246), ('ipod', 247), ('stainless', 248), ('handle', 249), ('bottom', 250), ('large', 251), ('20', 252), ('thank', 253), ('oz', 254), ('ounces', 255), ('speakers', 256), ('waterproof', 257), ('pounds', 258), ('ac', 259), ('same', 260), ('built', 261), ('u', 262), ('order', 263), ('car', 264), ('2013', 265), ('blue', 266), ('them', 267), ('filter', 268), ('me', 269), ('number', 270), ('computer', 271), ('adjustable', 272), ('volt', 273), ('regular', 274), ('go', 275), ('unlocked', 276), ('table', 277), ('electric', 278), ('material', 279), ('device', 280), ('touch', 281), ('nikon', 282), ('hello', 283), ('cd', 284), ('game', 285), ('make', 286), ('buy', 287), ('us', 288), ('too', 289), ('clip', 290), ('great', 291), ('replacement', 292), ('volts', 293), ('width', 294), ('24', 295), ('11', 296), ('high', 297), ('bulb', 298), ('18', 299), ('mac', 300), ('wheels', 301), ('really', 302), ('lid', 303), ('hp', 304), ('t', 305), ('could', 306), ('single', 307), ('over', 308), ('shipping', 309), ('flat', 310), ('mattress', 311), ('we', 312), ('bed', 313), ('clear', 314), ('honda', 315), ('dual', 316), ('brown', 317), ('jack', 318), ('dose', 319), ('video', 320), ('25', 321), ('aluminum', 322), ('bottles', 323), ('think', 324), ('speaker', 325), ('time', 326), ('am', 327), ('32', 328), ('2012', 329), ('dishwasher', 330), ('board', 331), ('real', 332), ('open', 333), ('radio', 334), ('bpa', 335), ('protector', 336), ('rear', 337), ('around', 338), ('dark', 339), ('headphones', 340), ('venezuela', 341), ('old', 342), ('head', 343), ('blade', 344), ('13', 345), ('spanish', 346), ('14', 347), ('v', 348), ('sony', 349), ('strap', 350), ('capacity', 351), ('perfectly', 352), ('chair', 353), ('memory', 354), ('player', 355), ('connect', 356), ('bit', 357), ('course', 358), ('hair', 359), ('lock', 360), ('s4', 361), ('led', 362), ('other', 363), ('door', 364), ('fan', 365), ('120', 366), ('pump', 367), ('bike', 368), ('rubber', 369), ('easy', 370), ('speed', 371), ('5c', 372), ('monitor', 373), ('bags', 374), ('require', 375), ('verizon', 376), ('bar', 377), ('switch', 378), ('three', 379), ('gun', 380), ('available', 381), ('down', 382), ('lights', 383), ('5s', 384), ('sizes', 385), ('matte', 386), ('backlit', 387), ('medium', 388), ('left', 389), ('yup', 390), ('japan', 391), ('printer', 392), ('bulbs', 393), ('floor', 394), ('toyota', 395), ('flash', 396), ('amazon', 397), ('definitely', 398), ('wire', 399), ('input', 400), ('double', 401), ('mouse', 402), ('more', 403), ('cup', 404), ('micro', 405), ('ft', 406), ('fire', 407), ('audio', 408), ('installed', 409), ('origin', 410), ('sd', 411), ('through', 412), ('hd', 413), ('part', 414), ('ram', 415), ('picture', 416), ('paper', 417), ('auto', 418), ('generation', 419), ('between', 420), ('easily', 421), ('2007', 422), ('unfortunately', 423), ('40', 424), ('note', 425), ('deep', 426), ('under', 427), ('mobile', 428), ('display', 429), ('english', 430), ('solid', 431), ('60', 432), ('pieces', 433), ('glossy', 434), ('leather', 435), ('oil', 436), ('thick', 437), ('cups', 438), ('replace', 439), ('manual', 440), ('hose', 441), ('android', 442), ('washable', 443), ('sound', 444), ('believe', 445), ('wheel', 446), ('cards', 447), ('64', 448), ('still', 449), ('outside', 450), ('piece', 451), ('yea', 452), ('50', 453), ('while', 454), ('compatable', 455), ('straight', 456), ('ford', 457), ('macbook', 458), ('frame', 459), ('adult', 460), ('hot', 461), ('fold', 462), ('120v', 463), ('pad', 464), ('button', 465), ('soft', 466), ('mm', 467), ('limit', 468), ('enough', 469), ('pan', 470), ('ball', 471), ('mounting', 472), ('2006', 473), ('supply', 474), ('silver', 475), ('17', 476), ('yeah', 477), ('microphone', 478), ('four', 479), ('than', 480), ('non', 481), ('wattage', 482), ('charging', 483), ('assembled', 484), ('dell', 485), ('xbox', 486), ('kindle', 487), ('language', 488), ('storage', 489), ('swivel', 490), ('aa', 491), ('tell', 492), ('blades', 493), ('headphone', 494), ('remove', 495), ('hole', 496), ('feature', 497), ('key', 498), ('ink', 499), ('approximately', 500), ('purchase', 501), ('cotton', 502), ('perfect', 503), ('sides', 504), ('different', 505), ('lg', 506), ('2008', 507), ('record', 508), ('brand', 509), ('chevy', 510), ('round', 511), ('proof', 512), ('turn', 513), ('correct', 514), ('2011', 515), ('plates', 516), ('stick', 517), ('gsm', 518), ('tube', 519), ('covers', 520), ('line', 521), ('pairs', 522), ('2005', 523), ('green', 524), ('pockets', 525), ('2003', 526), ('scope', 527), ('pc', 528), ('install', 529), ('whats', 530), ('4s', 531), ('see', 532), ('zipper', 533), ('surface', 534), ('headset', 535), ('2004', 536), ('helmet', 537), ('watch', 538), ('3g', 539), ('pen', 540), ('output', 541), ('apple', 542), ('mic', 543), ('ok', 544), ('legs', 545), ('sold', 546), ('germany', 547), ('jeep', 548), ('tank', 549), ('filters', 550), ('cut', 551), ('tire', 552), ('shelves', 553), ('connection', 554), ('22', 555), ('90', 556), ('magnetic', 557), ('holder', 558), ('waist', 559), ('2001', 560), ('total', 561), ('idea', 562), ('2009', 563), ('gps', 564), ('hook', 565), ('software', 566), ('mounted', 567), ('print', 568), ('youth', 569), ('spray', 570), ('c', 571), ('function', 572), ('actual', 573), ('dryer', 574), ('probably', 575), ('after', 576), ('screws', 577), ('4g', 578), ('actually', 579), ('240v', 580), ('heat', 581), ('temperature', 582), ('dont', 583), ('guitar', 584), ('lamp', 585), ('2010', 586), ('e', 587), ('36', 588), ('elastic', 589), ('stock', 590), ('inseam', 591), ('slot', 592), ('ear', 593), ('knife', 594), ('google', 595), ('pants', 596), ('container', 597), ('holes', 598), ('max', 599), ('colors', 600), ('required', 601), ('approx', 602), ('glasses', 603), ('foot', 604), ('300', 605), ('pictures', 606), ('pin', 607), ('attach', 608), ('gluten', 609), ('men', 610), ('2002', 611), ('packaging', 612), ('years', 613), ('volume', 614), ('hours', 615), ('together', 616), ('rechargeable', 617), ('music', 618), ('mean', 619), ('iron', 620), ('gas', 621), ('pot', 622), ('using', 623), ('problem', 624), ('hand', 625), ('clean', 626), ('tires', 627), ('keys', 628), ('plate', 629), ('wired', 630), ('gb', 631), ('who', 632), ('heavy', 633), ('screw', 634), ('1500', 635), ('true', 636), ('series', 637), ('outlet', 638), ('26', 639), ('ring', 640), ('powered', 641), ('ingredients', 642), ('gloves', 643), ('s5', 644), ('19', 645), ('plus', 646), ('help', 647), ('tripod', 648), ('s3', 649), ('2000', 650), ('mirror', 651), ('shut', 652), ('microwave', 653), ('games', 654), ('motor', 655), ('gt', 656), ('oven', 657), ('timer', 658), ('talk', 659), ('fully', 660), ('external', 661), ('75', 662), ('able', 663), ('here', 664), ('cap', 665), ('sheets', 666), ('dodge', 667), ('tool', 668), ('maximum', 669), ('sized', 670), ('far', 671), ('250', 672), ('holster', 673), ('240', 674), ('depth', 675), ('velcro', 676), ('store', 677), ('shelf', 678), ('fine', 679), ('spring', 680), ('instructions', 681), ('smell', 682), ('range', 683), ('yellow', 684), ('nissan', 685), ('finish', 686), ('low', 687), ('suitable', 688), ('2016', 689), ('aaa', 690), ('500', 691), ('assembly', 692), ('rack', 693), ('dry', 694), ('tray', 695), ('w', 696), ('read', 697), ('webcam', 698), ('induction', 699), ('shown', 700), ('cables', 701), ('carry', 702), ('says', 703), ('controller', 704), ('american', 705), ('why', 706), ('powder', 707), ('gauge', 708), ('doll', 709), ('removed', 710), ('internal', 711), ('drill', 712), ('cameras', 713), ('mat', 714), ('pink', 715), ('download', 716), ('shipped', 717), ('socks', 718), ('say', 719), ('includes', 720), ('xl', 721), ('mats', 722), ('360', 723), ('way', 724), ('foam', 725), ('receiver', 726), ('sheet', 727), ('needed', 728), ('pads', 729), ('d', 730), ('tab', 731), ('measurements', 732), ('individually', 733), ('ground', 734), ('face', 735), ('ceramic', 736), ('mg', 737), ('cell', 738), ('attached', 739), ('place', 740), ('last', 741), ('pre', 742), ('extra', 743), ('45', 744), ('digital', 745), ('shower', 746), ('window', 747), ('band', 748), ('21', 749), ('king', 750), ('home', 751), ('app', 752), ('asus', 753), ('mexico', 754), ('chrome', 755), ('amps', 756), ('tried', 757), ('rings', 758), ('none', 759), ('handles', 760), ('fm', 761), ('chairs', 762), ('already', 763), ('si', 764), ('possible', 765), ('pillow', 766), ('gen', 767), ('g', 768), ('approved', 769), ('active', 770), ('six', 771), ('sleep', 772), ('touchscreen', 773), ('carrying', 774), ('working', 775), ('bowl', 776), ('rating', 777), ('parts', 778), ('29', 779), ('fabric', 780), ('book', 781), ('age', 782), ('canada', 783), ('valve', 784), ('adjust', 785), ('international', 786), ('days', 787), ('india', 788), ('150', 789), ('exactly', 790), ('barrel', 791), ('amount', 792), ('factory', 793), ('boxes', 794), ('ports', 795), ('code', 796), ('end', 797), ('opening', 798), ('pocket', 799), ('first', 800), ('rebel', 801), ('automatic', 802), ('operated', 803), ('coffee', 804), ('stroller', 805), ('sealed', 806), ('straps', 807), ('nylon', 808), ('setting', 809), ('listed', 810), ('day', 811), ('outdoor', 812), ('gray', 813), ('change', 814), ('3d', 815), ('taiwan', 816), ('chart', 817), ('fi', 818), ('food', 819), ('pressure', 820), ('cartridge', 821), ('closed', 822), ('pole', 823), ('resistant', 824), ('body', 825), ('28', 826), ('close', 827), ('driver', 828), ('stylus', 829), ('os', 830), ('scale', 831), ('xp', 832), ('shoe', 833), ('add', 834), ('phones', 835), ('office', 836), ('life', 837), ('glock', 838), ('wi', 839), ('detachable', 840), ('shoes', 841), ('sensor', 842), ('wash', 843), ('connector', 844), ('cannot', 845), ('27', 846), ('mode', 847), ('baby', 848), ('capsules', 849), ('show', 850), ('o', 851), ('200', 852), ('look', 853), ('grill', 854), ('prong', 855), ('saw', 856), ('lids', 857), ('most', 858), ('cabinet', 859), ('doesnt', 860), ('accord', 861), ('htc', 862), ('mp3', 863), ('disc', 864), ('grey', 865), ('attract', 866), ('civic', 867), ('pull', 868), ('smart', 869), ('99', 870), ('women', 871), ('option', 872), ('rod', 873), ('but', 874), ('clips', 875), ('tilt', 876), ('center', 877), ('stereo', 878), ('keep', 879), ('manufacturer', 880), ('liner', 881), ('uk', 882), ('stove', 883), ('ice', 884), ('calories', 885), ('quality', 886), ('completely', 887), ('m', 888), ('best', 889), ('silverado', 890), ('chain', 891), ('tape', 892), ('eos', 893), ('core', 894), ('cartridges', 895), ('rain', 896), ('tip', 897), ('lenses', 898), ('350', 899), ('drain', 900), ('send', 901), ('tablets', 902), ('lead', 903), ('brush', 904), ('natural', 905), ('vinyl', 906), ('protect', 907), ('bmw', 908), ('try', 909), ('lb', 910), ('style', 911), ('ready', 912), ('antenna', 913), ('shorts', 914), ('bars', 915), ('current', 916), ('sprint', 917), ('thread', 918), ('quiet', 919), ('night', 920), ('ps3', 921), ('degrees', 922), ('plugged', 923), ('genuine', 924), ('america', 925), ('normal', 926), ('ps4', 927), ('arm', 928), ('smooth', 929), ('plan', 930), ('1000', 931), ('microsoft', 932), ('retina', 933), ('truck', 934), ('pages', 935), ('roll', 936), ('oem', 937), ('nano', 938), ('better', 939), ('reverse', 940), ('either', 941), ('slide', 942), ('toy', 943), ('closure', 944), ('excellent', 945), ('measurement', 946), ('cream', 947), ('shoot', 948), ('hardware', 949), ('measure', 950), ('lint', 951), ('router', 952), ('maybe', 953), ('id', 954), ('cab', 955), ('internet', 956), ('service', 957), ('noise', 958), ('pound', 959), ('35', 960), ('square', 961), ('buttons', 962), ('individual', 963), ('sleeves', 964), ('shoulder', 965), ('warm', 966), ('sell', 967), ('itself', 968), ('arms', 969), ('faucet', 970), ('48', 971), ('thing', 972), ('classic', 973), ('grams', 974), ('data', 975), ('mens', 976), ('sizing', 977), ('performance', 978), ('minutes', 979), ('wii', 980), ('net', 981), ('watt', 982), ('organic', 983), ('he', 984), ('stay', 985), ('answer', 986), ('cold', 987), ('doors', 988), ('orange', 989), ('travel', 990), ('shade', 991), ('ceiling', 992), ('twin', 993), ('snap', 994), ('jar', 995), ('network', 996), ('products', 997), ('b', 998), ('before', 999), ('capable', 1000), ('sink', 1001), ('manufacture', 1002), ('wrangler', 1003), ('basket', 1004), ('liquid', 1005), ('pool', 1006), ('fast', 1007), ('42', 1008), ('zip', 1009), ('5mm', 1010), ('sheath', 1011), ('heater', 1012), ('grip', 1013), ('count', 1014), ('plugs', 1015), ('question', 1016), ('wear', 1017), ('exact', 1018), ('certified', 1019), ('capability', 1020), ('alarm', 1021), ('want', 1022), ('may', 1023), ('bracket', 1024), ('gallon', 1025), ('camry', 1026), ('fly', 1027), ('800', 1028), ('were', 1029), ('caps', 1030), ('short', 1031), ('tuner', 1032), ('little', 1033), ('adaptor', 1034), ('ii', 1035), ('provide', 1036), ('carrier', 1037), ('sport', 1038), ('fixed', 1039), ('toshiba', 1040), ('ruger', 1041), ('grand', 1042), ('umbrella', 1043), ('sided', 1044), ('optical', 1045), ('etc', 1046), ('34', 1047), ('interior', 1048), ('call', 1049), ('distance', 1050), ('attachment', 1051), ('dc', 1052), ('neck', 1053), ('months', 1054), ('skype', 1055), ('magnet', 1056), ('rca', 1057), ('skin', 1058), ('ntsc', 1059), ('cooker', 1060), ('strings', 1061), ('self', 1062), ('worth', 1063), ('gmc', 1064), ('tools', 1065), ('panasonic', 1066), ('balls', 1067), ('photos', 1068), ('400', 1069), ('dog', 1070), ('float', 1071), ('pictured', 1072), ('edition', 1073), ('f', 1074), ('cool', 1075), ('vga', 1076), ('processor', 1077), ('tea', 1078), ('harness', 1079), ('access', 1080), ('fitted', 1081), ('handed', 1082), ('eyes', 1083), ('garmin', 1084), ('panel', 1085), ('gold', 1086), ('charged', 1087), ('socket', 1088), ('rotate', 1089), ('vey', 1090), ('load', 1091), ('laser', 1092), ('wrapped', 1093), ('1998', 1094), ('nexus', 1095), ('supports', 1096), ('sturdy', 1097), ('salt', 1098), ('pouch', 1099), ('source', 1100), ('cook', 1101), ('quick', 1102), ('thickness', 1103), ('1999', 1104), ('hood', 1105), ('23', 1106), ('installation', 1107), ('n', 1108), ('ray', 1109), ('dvds', 1110), ('semi', 1111), ('r', 1112), ('extended', 1113), ('cloth', 1114), ('engine', 1115), ('dimension', 1116), ('lenovo', 1117), ('beam', 1118), ('indeed', 1119), ('loud', 1120), ('cam', 1121), ('level', 1122), ('those', 1123), ('beige', 1124), ('rated', 1125), ('italy', 1126), ('queen', 1127), ('room', 1128), ('fps', 1129), ('multiple', 1130), ('k', 1131), ('files', 1132), ('ul', 1133), ('kettle', 1134), ('inspiron', 1135), ('bright', 1136), ('separate', 1137), ('replaceable', 1138), ('seats', 1139), ('strips', 1140), ('numbers', 1141), ('gel', 1142), ('70', 1143), ('else', 1144), ('netflix', 1145), ('voice', 1146), ('check', 1147), ('chinese', 1148), ('find', 1149), ('logo', 1150), ('paint', 1151), ('l', 1152), ('jacket', 1153), ('drop', 1154), ('00', 1155), ('tooth', 1156), ('accept', 1157), ('zoom', 1158), ('cushion', 1159), ('33', 1160), ('protection', 1161), ('thailand', 1162), ('whole', 1163), ('now', 1164), ('cds', 1165), ('stackable', 1166), ('mag', 1167), ('someone', 1168), ('some', 1169), ('steam', 1170), ('corolla', 1171), ('lumens', 1172), ('their', 1173), ('polyester', 1174), ('mug', 1175), ('authentic', 1176), ('electrical', 1177), ('38', 1178), ('60hz', 1179), ('receive', 1180), ('31', 1181), ('dock', 1182), ('negative', 1183), ('vacuum', 1184), ('electricity', 1185), ('covered', 1186), ('rpm', 1187), ('operate', 1188), ('station', 1189), ('half', 1190), ('serving', 1191), ('own', 1192), ('disk', 1193), ('california', 1194), ('blu', 1195), ('burner', 1196), ('extension', 1197), ('waste', 1198), ('scanner', 1199), ('string', 1200), ('95', 1201), ('reader', 1202), ('month', 1203), ('additional', 1204), ('carpet', 1205), ('opi', 1206), ('dimmable', 1207), ('ethernet', 1208), ('g2', 1209), ('difference', 1210), ('f150', 1211), ('scan', 1212), ('web', 1213), ('point', 1214), ('burn', 1215), ('xff1f', 1216), ('lcd', 1217), ('durable', 1218), ('cans', 1219), ('super', 1220), ('rice', 1221), ('sugar', 1222), ('europe', 1223), ('clock', 1224), ('meter', 1225), ('track', 1226), ('rifle', 1227), ('transmitter', 1228), ('cdma', 1229), ('angle', 1230), ('separately', 1231), ('servings', 1232), ('give', 1233), ('cleats', 1234), ('crew', 1235), ('sleeve', 1236), ('fuel', 1237), ('comforter', 1238), ('flip', 1239), ('stream', 1240), ('ones', 1241), ('tmobile', 1242), ('rail', 1243), ('raw', 1244), ('running', 1245), ('lift', 1246), ('fixture', 1247), ('lte', 1248), ('area', 1249), ('link', 1250), ('mesh', 1251), ('silicone', 1252), ('thx', 1253), ('sticker', 1254), ('focus', 1255), ('80', 1256), ('leg', 1257), ('pet', 1258), ('start', 1259), ('settings', 1260), ('com', 1261), ('vw', 1262), ('she', 1263), ('connected', 1264), ('drawers', 1265), ('motherboard', 1266), ('uses', 1267), ('tang', 1268), ('movies', 1269), ('gmo', 1270), ('brazil', 1271), ('operating', 1272), ('wooden', 1273), ('legal', 1274), ('brass', 1275), ('outdoors', 1276), ('rate', 1277), ('bolts', 1278), ('extend', 1279), ('maker', 1280), ('stop', 1281), ('latex', 1282), ('droid', 1283), ('crib', 1284), ('bowls', 1285), ('ml', 1286), ('release', 1287), ('pretty', 1288), ('motorola', 1289), ('once', 1290), ('played', 1291), ('retail', 1292), ('universal', 1293), ('inner', 1294), ('3rd', 1295), ('printed', 1296), ('doe', 1297), ('trimmer', 1298), ('ex', 1299), ('monitors', 1300), ('pans', 1301), ('split', 1302), ('tips', 1303), ('co2', 1304), ('glove', 1305), ('nokia', 1306), ('sir', 1307), ('sit', 1308), ('wrist', 1309), ('cleaning', 1310), ('heads', 1311), ('acer', 1312), ('capsule', 1313), ('lithium', 1314), ('adhesive', 1315), ('loop', 1316), ('recommend', 1317), ('bass', 1318), ('prime', 1319), ('name', 1320), ('cases', 1321), ('hang', 1322), ('refill', 1323), ('blender', 1324), ('overall', 1325), ('korea', 1326), ('resolution', 1327), ('desktop', 1328), ('purple', 1329), ('test', 1330), ('hooks', 1331), ('worked', 1332), ('12v', 1333), ('copper', 1334), ('cellular', 1335), ('brings', 1336), ('shiny', 1337), ('bbs', 1338), ('chocolate', 1339), ('desk', 1340), ('permanent', 1341), ('rest', 1342), ('tub', 1343), ('assemble', 1344), ('cars', 1345), ('motion', 1346), ('soy', 1347), ('sharp', 1348), ('bat', 1349), ('corners', 1350), ('allow', 1351), ('pal', 1352), ('gasket', 1353), ('containers', 1354), ('photo', 1355), ('mixer', 1356), ('apart', 1357), ('quad', 1358), ('yamaha', 1359), ('pedal', 1360), ('synthetic', 1361), ('recording', 1362), ('coated', 1363), ('jars', 1364), ('blanket', 1365), ('se', 1366), ('seal', 1367), ('break', 1368), ('recline', 1369), ('second', 1370), ('rim', 1371), ('loose', 1372), ('including', 1373), ('folded', 1374), ('everything', 1375), ('post', 1376), ('accommodate', 1377), ('ohm', 1378), ('cage', 1379), ('toilet', 1380), ('imac', 1381), ('even', 1382), ('ingredient', 1383), ('hat', 1384), ('roughly', 1385), ('people', 1386), ('pins', 1387), ('indonesia', 1388), ('complete', 1389), ('h', 1390), ('above', 1391), ('satellite', 1392), ('nuts', 1393), ('view', 1394), ('nl', 1395), ('l72', 1396), ('camcorder', 1397), ('cooking', 1398), ('five', 1399), ('via', 1400), ('sedan', 1401), ('tan', 1402), ('cherokee', 1403), ('refillable', 1404), ('uv', 1405), ('recommended', 1406), ('epson', 1407), ('hitch', 1408), ('adjusted', 1409), ('kids', 1410), ('tacoma', 1411), ('australia', 1412), ('vista', 1413), ('slots', 1414), ('trim', 1415), ('block', 1416), ('limited', 1417), ('ultra', 1418), ('bits', 1419), ('her', 1420), ('getting', 1421), ('almost', 1422), ('another', 1423), ('flexible', 1424), ('kill', 1425), ('1st', 1426), ('8gb', 1427), ('gallons', 1428), ('prepaid', 1429), ('1997', 1430), ('house', 1431), ('guard', 1432), ('weights', 1433), ('mark', 1434), ('gopro', 1435), ('ios', 1436), ('strip', 1437), ('label', 1438), ('adults', 1439), ('sticks', 1440), ('stands', 1441), ('le', 1442), ('dish', 1443), ('chest', 1444), ('4th', 1445), ('bow', 1446), ('mouth', 1447), ('coupe', 1448), ('stack', 1449), ('9mm', 1450), ('anybody', 1451), ('packs', 1452), ('shield', 1453), ('person', 1454), ('deck', 1455), ('4x4', 1456), ('06', 1457), ('larger', 1458), ('word', 1459), ('shaft', 1460), ('sand', 1461), ('dough', 1462), ('nice', 1463), ('program', 1464), ('lit', 1465), ('insert', 1466), ('propane', 1467), ('playing', 1468), ('edge', 1469), ('brushed', 1470), ('smaller', 1471), ('grade', 1472), ('cat', 1473), ('mix', 1474), ('pick', 1475), ('2017', 1476), ('s2', 1477), ('mounts', 1478), ('boat', 1479), ('iii', 1480), ('draw', 1481), ('problems', 1482), ('france', 1483), ('bronzed', 1484), ('perfection', 1485), ('blackberry', 1486), ('videos', 1487), ('collar', 1488), ('his', 1489), ('live', 1490), ('keurig', 1491), ('south', 1492), ('tile', 1493), ('600', 1494), ('pcs', 1495), ('walls', 1496), ('copy', 1497), ('film', 1498), ('wires', 1499), ('lumia', 1500), ('multi', 1501), ('fish', 1502), ('sub', 1503), ('move', 1504), ('ankle', 1505), ('bolt', 1506), ('particle', 1507), ('lifetime', 1508), ('seeds', 1509), ('vertical', 1510), ('carbon', 1511), ('love', 1512), ('poles', 1513), ('cooktop', 1514), ('states', 1515), ('explorer', 1516), ('friend', 1517), ('automatically', 1518), ('online', 1519), ('turned', 1520), ('milk', 1521), ('child', 1522), ('tahoe', 1523), ('cal', 1524), ('intel', 1525), ('thin', 1526), ('fragrance', 1527), ('2500', 1528), ('psi', 1529), ('degree', 1530), ('less', 1531), ('strong', 1532), ('900', 1533), ('washing', 1534), ('quart', 1535), ('drivers', 1536), ('looks', 1537), ('channels', 1538), ('considered', 1539), ('clothes', 1540), ('soap', 1541), ('hero', 1542), ('coming', 1543), ('prius', 1544), ('vac', 1545), ('dimmer', 1546), ('dvr', 1547), ('indoor', 1548), ('certainly', 1549), ('airsoft', 1550), ('ohms', 1551), ('directly', 1552), ('dvi', 1553), ('weather', 1554), ('instead', 1555), ('dolls', 1556), ('colored', 1557), ('vegan', 1558), ('space', 1559), ('counter', 1560), ('deliver', 1561), ('72', 1562), ('lower', 1563), ('man', 1564), ('graphics', 1565), ('offer', 1566), ('caller', 1567), ('across', 1568), ('bench', 1569), ('leave', 1570), ('mazda', 1571), ('ranger', 1572), ('gloss', 1573), ('subaru', 1574), ('tempered', 1575), ('5th', 1576), ('players', 1577), ('upgrade', 1578), ('sgh', 1579), ('form', 1580), ('floors', 1581), ('slow', 1582), ('notebook', 1583), ('att', 1584), ('jetta', 1585), ('flashlight', 1586), ('empty', 1587), ('pop', 1588), ('confirm', 1589), ('cast', 1590), ('brakes', 1591), ('vision', 1592), ('loaded', 1593), ('united', 1594), ('gaming', 1595), ('backlight', 1596), ('image', 1597), ('acrylic', 1598), ('hanging', 1599), ('wiring', 1600), ('turntable', 1601), ('lol', 1602), ('rims', 1603), ('brake', 1604), ('mute', 1605), ('mid', 1606), ('smartphone', 1607), ('items', 1608), ('accessories', 1609), ('garment', 1610), ('cushions', 1611), ('reversible', 1612), ('anti', 1613), ('finished', 1614), ('bullet', 1615), ('onto', 1616), ('movistar', 1617), ('230', 1618), ('makes', 1619), ('zippered', 1620), ('canopy', 1621), ('temp', 1622), ('32gb', 1623), ('stool', 1624), ('xxl', 1625), ('im', 1626), ('contains', 1627), ('cordless', 1628), ('media', 1629), ('cassette', 1630), ('pipe', 1631), ('mask', 1632), ('es', 1633), ('lines', 1634), ('necessary', 1635), ('facing', 1636), ('exp', 1637), ('chip', 1638), ('expire', 1639), ('calls', 1640), ('180', 1641), ('bumper', 1642), ('brackets', 1643), ('match', 1644), ('scent', 1645), ('refrigerated', 1646), ('unlimited', 1647), ('warrenty', 1648), ('tiles', 1649), ('appropriate', 1650), ('padding', 1651), ('mountable', 1652), ('compact', 1653), ('recovery', 1654), ('16gb', 1655), ('connectors', 1656), ('quarts', 1657), ('cm', 1658), ('hub', 1659), ('got', 1660), ('p', 1661), ('format', 1662), ('olympus', 1663), ('odor', 1664), ('bread', 1665), ('text', 1666), ('stem', 1667), ('position', 1668), ('125', 1669), ('nintendo', 1670), ('cart', 1671), ('awesome', 1672), ('5d', 1673), ('shampoo', 1674), ('inflated', 1675), ('wine', 1676), ('acid', 1677), ('painted', 1678), ('refurbished', 1679), ('t3i', 1680), ('transfer', 1681), ('being', 1682), ('quite', 1683), ('pavilion', 1684), ('matching', 1685), ('passenger', 1686), ('stain', 1687), ('1200', 1688), ('speeds', 1689), ('casters', 1690), ('wax', 1691), ('padded', 1692), ('equipment', 1693), ('devices', 1694), ('portable', 1695), ('figure', 1696), ('bronze', 1697), ('models', 1698), ('otterbox', 1699), ('pillows', 1700), ('map', 1701), ('grown', 1702), ('yet', 1703), ('tracks', 1704), ('rt', 1705), ('glue', 1706), ('511', 1707), ('07', 1708), ('channel', 1709), ('units', 1710), ('sounds', 1711), ('sets', 1712), ('hollow', 1713), ('design', 1714), ('ir', 1715), ('aux', 1716), ('push', 1717), ('excelente', 1718), ('eye', 1719), ('cant', 1720), ('caffeine', 1721), ('grinder', 1722), ('okay', 1723), ('tester', 1724), ('d3200', 1725), ('golf', 1726), ('ups', 1727), ('ours', 1728), ('nail', 1729), ('boost', 1730), ('gelatin', 1731), ('cellphone', 1732), ('older', 1733), ('cutting', 1734), ('spot', 1735), ('male', 1736), ('had', 1737), ('pill', 1738), ('03', 1739), ('d3300', 1740), ('click', 1741), ('hz', 1742), ('scooter', 1743), ('convert', 1744), ('fill', 1745), ('lighted', 1746), ('1080p', 1747), ('04', 1748), ('stuff', 1749), ('curtain', 1750), ('vietnam', 1751), ('cords', 1752), ('tundra', 1753), ('grind', 1754), ('tent', 1755), ('z', 1756), ('sodium', 1757), ('class', 1758), ('nickel', 1759), ('rock', 1760), ('knives', 1761), ('nop', 1762), ('page', 1763), ('deal', 1764), ('protein', 1765), ('700', 1766), ('expiry', 1767), ('slim', 1768), ('ion', 1769), ('pots', 1770), ('polished', 1771), ('professional', 1772), ('removeable', 1773), ('55', 1774), ('trailer', 1775), ('added', 1776), ('threaded', 1777), ('doubt', 1778), ('replaced', 1779), ('ply', 1780), ('step', 1781), ('sata', 1782), ('bearings', 1783), ('locks', 1784), ('gtx', 1785), ('filled', 1786), ('mah', 1787), ('starter', 1788), ('action', 1789), ('converter', 1790), ('knob', 1791), ('horizontal', 1792), ('reel', 1793), ('instant', 1794), ('books', 1795), ('pure', 1796), ('alcohol', 1797), ('simple', 1798), ('fl', 1799), ('brushes', 1800), ('magic', 1801), ('corner', 1802), ('ride', 1803), ('grow', 1804), ('37', 1805), ('lcr', 1806), ('fluid', 1807), ('capabilities', 1808), ('craftsman', 1809), ('espresso', 1810), ('towels', 1811), ('supported', 1812), ('recorder', 1813), ('6mm', 1814), ('97', 1815), ('mhz', 1816), ('glare', 1817), ('computers', 1818), ('cost', 1819), ('refills', 1820), ('44', 1821), ('infrared', 1822), ('user', 1823), ('dragon', 1824), ('000', 1825), ('dewalt', 1826), ('youtube', 1827), ('1995', 1828), ('noisy', 1829), ('safety', 1830), ('wont', 1831), ('crv', 1832), ('spout', 1833), ('twist', 1834), ('98', 1835), ('goes', 1836), ('ears', 1837), ('letters', 1838), ('cardboard', 1839), ('tubes', 1840), ('rope', 1841), ('rails', 1842), ('least', 1843), ('purchased', 1844), ('female', 1845), ('wake', 1846), ('several', 1847), ('money', 1848), ('contact', 1849), ('roller', 1850), ('wet', 1851), ('lighter', 1852), ('labels', 1853), ('gear', 1854), ('locked', 1855), ('songs', 1856), ('paddle', 1857), ('road', 1858), ('percentage', 1859), ('ask', 1860), ('sun', 1861), ('lt', 1862), ('shows', 1863), ('lx', 1864), ('pressed', 1865), ('ties', 1866), ('comfortable', 1867), ('answering', 1868), ('headboard', 1869), ('01', 1870), ('lifeproof', 1871), ('tree', 1872), ('washer', 1873), ('cpu', 1874), ('thermal', 1875), ('razor', 1876), ('star', 1877), ('teapot', 1878), ('analog', 1879), ('54', 1880), ('sight', 1881), ('chromebook', 1882), ('bundle', 1883), ('compressor', 1884), ('sensors', 1885), ('vertically', 1886), ('inputs', 1887), ('zero', 1888), ('lowest', 1889), ('came', 1890), ('instruction', 1891), ('going', 1892), ('polaris', 1893), ('earphones', 1894), ('protectors', 1895), ('bath', 1896), ('neutral', 1897), ('chevrolet', 1898), ('variable', 1899), ('sweat', 1900), ('flow', 1901), ('heart', 1902), ('backpack', 1903), ('sync', 1904), ('shirts', 1905), ('bb', 1906), ('particular', 1907), ('compression', 1908), ('sling', 1909), ('09', 1910), ('elite', 1911), ('alpha', 1912), ('usually', 1913), ('pills', 1914), ('during', 1915), ('skirt', 1916), ('spare', 1917), ('lined', 1918), ('vitamin', 1919), ('clamp', 1920), ('calcium', 1921), ('v6', 1922), ('cooler', 1923), ('drawer', 1924), ('duty', 1925), ('bring', 1926), ('sierra', 1927), ('dos', 1928), ('produce', 1929), ('something', 1930), ('marker', 1931), ('cheap', 1932), ('wil', 1933), ('i7', 1934), ('i5', 1935), ('gate', 1936), ('boots', 1937), ('3ds', 1938), ('systems', 1939), ('bose', 1940), ('coolpix', 1941), ('making', 1942), ('yr', 1943), ('knee', 1944), ('reusable', 1945), ('crystal', 1946), ('turkey', 1947), ('kitchen', 1948), ('guide', 1949), ('usps', 1950), ('packaged', 1951), ('press', 1952), ('solar', 1953), ('viewing', 1954), ('shuffle', 1955), ('never', 1956), ('envy', 1957), ('acura', 1958), ('kid', 1959), ('handset', 1960), ('rechargable', 1961), ('de', 1962), ('lite', 1963), ('ssd', 1964), ('drives', 1965), ('450', 1966), ('reading', 1967), ('suction', 1968), ('totally', 1969), ('panels', 1970), ('convertible', 1971), ('05', 1972), ('moto', 1973), ('roof', 1974), ('average', 1975), ('nails', 1976), ('connections', 1977), ('chance', 1978), ('hybrid', 1979), ('th', 1980), ('shot', 1981), ('signal', 1982), ('ivory', 1983), ('tail', 1984), ('spinning', 1985), ('england', 1986), ('3000', 1987), ('dial', 1988), ('scroll', 1989), ('studio', 1990), ('razr', 1991), ('magazine', 1992), ('lighting', 1993), ('direct', 1994), ('metro', 1995), ('oak', 1996), ('pellets', 1997), ('fake', 1998), ('whit', 1999), ('xperia', 2000), ('similar', 2001), ('towel', 2002), ('choose', 2003), ('stationary', 2004), ('fix', 2005), ('figures', 2006), ('write', 2007), ('pioneer', 2008), ('snow', 2009), ('pedals', 2010), ('swing', 2011), ('rms', 2012), ('linux', 2013), ('win', 2014), ('sulfate', 2015), ('porcelain', 2016), ('accurate', 2017), ('highlander', 2018), ('forward', 2019), ('fiber', 2020), ('region', 2021), ('generator', 2022), ('toddler', 2023), ('languages', 2024), ('cruiser', 2025), ('trays', 2026), ('entire', 2027), ('train', 2028), ('thermostat', 2029), ('magnesium', 2030), ('polish', 2031), ('vesa', 2032), ('arrows', 2033), ('washed', 2034), ('teeth', 2035), ('hinges', 2036), ('module', 2037), ('stickers', 2038), ('mirrors', 2039), ('dx', 2040), ('runs', 2041), ('headlights', 2042), ('y', 2043), ('coil', 2044), ('trash', 2045), ('few', 2046), ('yards', 2047), ('sword', 2048), ('directions', 2049), ('cr2032', 2050), ('nvidia', 2051), ('cigarette', 2052), ('cannon', 2053), ('minimum', 2054), ('flex', 2055), ('750', 2056), ('highest', 2057), ('energy', 2058), ('against', 2059), ('t3', 2060), ('world', 2061), ('380', 2062), ('seller', 2063), ('spacing', 2064), ('letter', 2065), ('wind', 2066), ('d90', 2067), ('ratio', 2068), ('edges', 2069), ('lot', 2070), ('cake', 2071), ('fresh', 2072), ('ounce', 2073), ('bucket', 2074), ('teflon', 2075), ('docking', 2076), ('pencils', 2077), ('1911', 2078), ('compartment', 2079), ('bands', 2080), ('dairy', 2081), ('lotion', 2082), ('dies', 2083), ('company', 2084), ('frequency', 2085), ('maps', 2086), ('escape', 2087), ('ever', 2088), ('gram', 2089), ('pilot', 2090), ('splash', 2091), ('swim', 2092), ('vent', 2093), ('every', 2094), ('olds', 2095), ('freezer', 2096), ('let', 2097), ('projector', 2098), ('holders', 2099), ('nook', 2100), ('dividers', 2101), ('upgraded', 2102), ('65', 2103), ('canister', 2104), ('nuvi', 2105), ('taurus', 2106), ('french', 2107), ('kosher', 2108), ('firm', 2109), ('afternoon', 2110), ('lense', 2111), ('juice', 2112), ('audi', 2113), ('effective', 2114), ('site', 2115), ('hey', 2116), ('satin', 2117), ('visor', 2118), ('4gb', 2119), ('specific', 2120), ('optimus', 2121), ('felt', 2122), ('bad', 2123), ('placed', 2124), ('racks', 2125), ('diesel', 2126), ('02', 2127), ('d3100', 2128), ('yoga', 2129), ('sims', 2130), ('pitcher', 2131), ('july', 2132), ('content', 2133), ('straw', 2134), ('folders', 2135), ('thermometer', 2136), ('subwoofer', 2137), ('interface', 2138), ('plane', 2139), ('apply', 2140), ('m4', 2141), ('remington', 2142), ('blower', 2143), ('then', 2144), ('trigger', 2145), ('likely', 2146), ('straws', 2147), ('47', 2148), ('pvc', 2149), ('european', 2150), ('oh', 2151), ('hour', 2152), ('liters', 2153), ('wand', 2154), ('lamps', 2155), ('brace', 2156), ('exterior', 2157), ('hdx', 2158), ('suburban', 2159), ('1996', 2160), ('unlock', 2161), ('ends', 2162), ('issues', 2163), ('lexus', 2164), ('2nd', 2165), ('mustang', 2166), ('build', 2167), ('controllers', 2168), ('mugs', 2169), ('diffuser', 2170), ('foldable', 2171), ('egg', 2172), ('location', 2173), ('internationally', 2174), ('john', 2175), ('retractable', 2176), ('fiberglass', 2177), ('hyundai', 2178), ('steering', 2179), ('wave', 2180), ('delivery', 2181), ('tower', 2182), ('expedition', 2183), ('looking', 2184), ('dust', 2185), ('flavor', 2186), ('mb', 2187), ('d7100', 2188), ('housing', 2189), ('hung', 2190), ('console', 2191), ('girl', 2192), ('activated', 2193), ('maxx', 2194), ('cylinder', 2195), ('outputs', 2196), ('50hz', 2197), ('mega', 2198), ('comfortably', 2199), ('feed', 2200), ('altima', 2201), ('description', 2202), ('otter', 2203), ('fingerprint', 2204), ('thru', 2205), ('attachments', 2206), ('leak', 2207), ('technology', 2208), ('concrete', 2209), ('custom', 2210), ('protective', 2211), ('playstation', 2212), ('scented', 2213), ('7200', 2214), ('sae', 2215), ('middle', 2216), ('pickup', 2217), ('taste', 2218), ('transformer', 2219), ('security', 2220), ('nut', 2221), ('eight', 2222), ('vest', 2223), ('beats', 2224), ('listen', 2225), ('shams', 2226), ('mags', 2227), ('brew', 2228), ('florida', 2229), ('booster', 2230), ('specs', 2231), ('holds', 2232), ('idk', 2233), ('interchangeable', 2234), ('japanese', 2235), ('boot', 2236), ('5000', 2237), ('328i', 2238), ('controls', 2239), ('away', 2240), ('slip', 2241), ('flour', 2242), ('horizontally', 2243), ('t5', 2244), ('toaster', 2245), ('pandora', 2246), ('platform', 2247), ('shaped', 2248), ('shock', 2249), ('sl', 2250), ('strainer', 2251), ('ma', 2252), ('08', 2253), ('dispenser', 2254), ('shell', 2255), ('wanted', 2256), ('based', 2257), ('transducer', 2258), ('96', 2259), ('kia', 2260), ('zinc', 2261), ('rav4', 2262), ('magnets', 2263), ('yosemite', 2264), ('cr', 2265), ('drum', 2266), ('piano', 2267), ('contract', 2268), ('ten', 2269), ('smoke', 2270), ('fans', 2271), ('8oz', 2272), ('grips', 2273), ('guarantee', 2274), ('nex', 2275), ('airplane', 2276), ('xlr', 2277), ('ms', 2278), ('save', 2279), ('recharge', 2280), ('bullets', 2281), ('minecraft', 2282), ('comcast', 2283), ('multiplayer', 2284), ('1800', 2285), ('horse', 2286), ('pass', 2287), ('alone', 2288), ('rust', 2289), ('beach', 2290), ('v2', 2291), ('2gb', 2292), ('pistol', 2293), ('harley', 2294), ('vibrate', 2295), ('excelent', 2296), ('shirt', 2297), ('flap', 2298), ('49', 2299), ('expandable', 2300), ('determine', 2301), ('oval', 2302), ('underneath', 2303), ('weighs', 2304), ('animals', 2305), ('62', 2306), ('pencil', 2307), ('sadly', 2308), ('apps', 2309), ('april', 2310), ('plant', 2311), ('hex', 2312), ('42ddd', 2313), ('provided', 2314), ('sale', 2315), ('such', 2316), ('detach', 2317), ('charcoal', 2318), ('caliber', 2319), ('inserts', 2320), ('shocks', 2321), ('wondering', 2322), ('carbs', 2323), ('metric', 2324), ('walker', 2325), ('handlebar', 2326), ('sharpen', 2327), ('titanium', 2328), ('removing', 2329), ('rzr', 2330), ('basic', 2331), ('takes', 2332), ('lanyard', 2333), ('2ds', 2334), ('mountain', 2335), ('circumference', 2336), ('wheelchair', 2337), ('ar', 2338), ('6d', 2339), ('carafe', 2340), ('africa', 2341), ('mp', 2342), ('40mm', 2343), ('lug', 2344), ('6ft', 2345), ('hands', 2346), ('chips', 2347), ('speak', 2348), ('heating', 2349), ('vehicle', 2350), ('2x', 2351), ('miles', 2352), ('46', 2353), ('city', 2354), ('qt', 2355), ('stored', 2356), ('tone', 2357), ('boards', 2358), ('megapixels', 2359), ('tag', 2360), ('liter', 2361), ('unisex', 2362), ('forester', 2363), ('kick', 2364), ('poly', 2365), ('mechanical', 2366), ('cycle', 2367), ('arbor', 2368), ('corn', 2369), ('globe', 2370), ('seconds', 2371), ('shades', 2372), ('51', 2373), ('damage', 2374), ('envelopes', 2375), ('batterys', 2376), ('flavors', 2377), ('4runner', 2378), ('integrated', 2379), ('dishes', 2380), ('iquest', 2381), ('codes', 2382), ('patio', 2383), ('seed', 2384), ('arrive', 2385), ('wrench', 2386), ('vizio', 2387), ('cricket', 2388), ('market', 2389), ('cross', 2390), ('outer', 2391), ('pay', 2392), ('rom', 2393), ('jet', 2394), ('friendly', 2395), ('7d', 2396), ('serrated', 2397), ('anywhere', 2398), ('ny', 2399), ('dimentions', 2400), ('return', 2401), ('often', 2402), ('june', 2403), ('meters', 2404), ('spd', 2405), ('manually', 2406), ('information', 2407), ('levels', 2408), ('bicycle', 2409), ('bear', 2410), ('rc', 2411), ('hoodie', 2412), ('ca', 2413), ('hangers', 2414), ('rollers', 2415), ('fence', 2416), ('fat', 2417), ('keypad', 2418), ('lost', 2419), ('mist', 2420), ('textured', 2421), ('ds', 2422), ('deere', 2423), ('kickstand', 2424), ('nothing', 2425), ('delta', 2426), ('compatiable', 2427), ('bluray', 2428), ('outlets', 2429), ('bee', 2430), ('spigot', 2431), ('700x28', 2432), ('arobic', 2433), ('tanks', 2434), ('shotgun', 2435), ('worldwide', 2436), ('pattern', 2437), ('liners', 2438), ('properly', 2439), ('ya', 2440), ('transparent', 2441), ('woman', 2442), ('lay', 2443), ('elantra', 2444), ('stroke', 2445), ('boy', 2446), ('cleaner', 2447), ('serial', 2448), ('suggestions', 2449), ('68', 2450), ('ships', 2451), ('rf', 2452), ('server', 2453), ('brother', 2454), ('engraved', 2455), ('late', 2456), ('fx', 2457), ('carseat', 2458), ('rests', 2459), ('mop', 2460), ('64bit', 2461), ('mono', 2462), ('loops', 2463), ('aspire', 2464), ('philippines', 2465), ('boss', 2466), ('bone', 2467), ('comb', 2468), ('movilnet', 2469), ('van', 2470), ('basketball', 2471), ('north', 2472), ('messages', 2473), ('formula', 2474), ('changed', 2475), ('poster', 2476), ('64gb', 2477), ('buying', 2478), ('shells', 2479), ('genesis', 2480), ('suit', 2481), ('impreza', 2482), ('seven', 2483), ('flush', 2484), ('ladder', 2485), ('ottoman', 2486), ('accomodate', 2487), ('zippers', 2488), ('bladder', 2489), ('indoors', 2490), ('barbie', 2491), ('plain', 2492), ('batting', 2493), ('thinkpad', 2494), ('construction', 2495), ('fry', 2496), ('definately', 2497), ('circuit', 2498), ('modem', 2499), ('weeks', 2500), ('52mm', 2501), ('roku', 2502), ('guns', 2503), ('hight', 2504), ('adjustment', 2505), ('camaro', 2506), ('earbuds', 2507), ('massage', 2508), ('lumix', 2509), ('leaf', 2510), ('transmission', 2511), ('arrow', 2512), ('beetle', 2513), ('pods', 2514), ('revolver', 2515), ('bassinet', 2516), ('a6000', 2517), ('phantom', 2518), ('feel', 2519), ('printing', 2520), ('unscented', 2521), ('quilt', 2522), ('value', 2523), ('trucks', 2524), ('sirius', 2525), ('next', 2526), ('divider', 2527), ('dates', 2528), ('israel', 2529), ('treated', 2530), ('mercedes', 2531), ('chuck', 2532), ('express', 2533), ('group', 2534), ('tapes', 2535), ('tubing', 2536), ('march', 2537), ('amplifier', 2538), ('materials', 2539), ('malaysia', 2540), ('q', 2541), ('guys', 2542), ('bridge', 2543), ('stage', 2544), ('glow', 2545), ('nfc', 2546), ('backwards', 2547), ('anything', 2548), ('pics', 2549), ('tie', 2550), ('celsius', 2551), ('stone', 2552), ('quantity', 2553), ('folding', 2554), ('detect', 2555), ('messenger', 2556), ('bob', 2557), ('viewfinder', 2558), ('spin', 2559), ('d5300', 2560), ('amd', 2561), ('released', 2562), ('bill', 2563), ('4x6', 2564), ('whatsapp', 2565), ('motors', 2566), ('fuse', 2567), ('210', 2568), ('sch', 2569), ('liberty', 2570), ('kitchenaid', 2571), ('coating', 2572), ('calculator', 2573), ('been', 2574), ('dot', 2575), ('banana', 2576), ('centimeters', 2577), ('crock', 2578), ('serves', 2579), ('57', 2580), ('lining', 2581), ('chicken', 2582), ('corded', 2583), ('wig', 2584), ('league', 2585), ('kong', 2586), ('sli', 2587), ('oster', 2588), ('suzuki', 2589), ('gears', 2590), ('2g', 2591), ('defender', 2592), ('tight', 2593), ('adapters', 2594), ('toner', 2595), ('exhaust', 2596), ('shutter', 2597), ('illuminated', 2598), ('pod', 2599), ('conditioner', 2600), ('crossbow', 2601), ('1900', 2602), ('hdr', 2603), ('navy', 2604), ('glide', 2605), ('hell', 2606), ('mitsubishi', 2607), ('hooked', 2608), ('animal', 2609), ('song', 2610), ('things', 2611), ('license', 2612), ('63', 2613), ('children', 2614), ('feeder', 2615), ('assuming', 2616), ('scoop', 2617), ('finger', 2618), ('coconut', 2619), ('mph', 2620), ('credit', 2621), ('serve', 2622), ('atx', 2623), ('fir', 2624), ('springs', 2625), ('strobe', 2626), ('d5200', 2627), ('stevia', 2628), ('upright', 2629), ('newer', 2630), ('dr', 2631), ('manufacturers', 2632), ('erase', 2633), ('file', 2634), ('stools', 2635), ('funciona', 2636), ('combine', 2637), ('rx', 2638), ('slides', 2639), ('laminate', 2640), ('jk', 2641), ('huawei', 2642), ('pixma', 2643), ('detail', 2644), ('re', 2645), ('39', 2646), ('newest', 2647), ('iphones', 2648), ('done', 2649), ('sports', 2650), ('fitting', 2651), ('walmart', 2652), ('5400', 2653), ('advance', 2654), ('latest', 2655), ('hope', 2656), ('bigger', 2657), ('skillet', 2658), ('scratch', 2659), ('heatsink', 2660), ('knobs', 2661), ('belts', 2662), ('folds', 2663), ('windshield', 2664), ('flame', 2665), ('brushless', 2666), ('needle', 2667), ('meat', 2668), ('gift', 2669), ('tap', 2670), ('delivered', 2671), ('discs', 2672), ('indicator', 2673), ('duvet', 2674), ('offline', 2675), ('ages', 2676), ('bikes', 2677), ('ip', 2678), ('bake', 2679), ('grass', 2680), ('prevent', 2681), ('41', 2682), ('fins', 2683), ('slightly', 2684), ('poe', 2685), ('dye', 2686), ('pentax', 2687), ('sucralose', 2688), ('usable', 2689), ('en', 2690), ('polymer', 2691), ('sofa', 2692), ('seamless', 2693), ('3ft', 2694), ('britax', 2695), ('earphone', 2696), ('t5i', 2697), ('passat', 2698), ('butter', 2699), ('yukon', 2700), ('composite', 2701), ('taken', 2702), ('cutter', 2703), ('matress', 2704), ('rolls', 2705), ('virgin', 2706), ('threads', 2707), ('received', 2708), ('selling', 2709), ('headsets', 2710), ('ie', 2711), ('pitch', 2712), ('colombia', 2713), ('texture', 2714), ('x1', 2715), ('dslr', 2716), ('hong', 2717), ('bamboo', 2718), ('fax', 2719), ('packet', 2720), ('dv6', 2721), ('mod', 2722), ('almond', 2723), ('update', 2724), ('g3', 2725), ('logitech', 2726), ('normally', 2727), ('blow', 2728), ('upper', 2729), ('select', 2730), ('loom', 2731), ('hardwood', 2732), ('surge', 2733), ('bugs', 2734), ('vs', 2735), ('drink', 2736), ('handsets', 2737), ('hotspot', 2738), ('microsd', 2739), ('marks', 2740), ('chrysler', 2741), ('shots', 2742), ('4k', 2743), ('curved', 2744), ('kodak', 2745), ('odyssey', 2746), ('fusion', 2747), ('stitched', 2748), ('fridge', 2749), ('69', 2750), ('bug', 2751), ('hawaii', 2752), ('furniture', 2753), ('loading', 2754), ('105', 2755), ('acute', 2756), ('clubs', 2757), ('xterra', 2758), ('fur', 2759), ('hear', 2760), ('650', 2761), ('steps', 2762), ('reviews', 2763), ('tubeless', 2764), ('d7000', 2765), ('nov', 2766), ('crush', 2767), ('dear', 2768), ('argentina', 2769), ('diaper', 2770), ('dozen', 2771), ('tractor', 2772), ('west', 2773), ('period', 2774), ('m7', 2775), ('passive', 2776), ('consumer', 2777), ('genie', 2778), ('translucent', 2779), ('magnum', 2780), ('raised', 2781), ('adobe', 2782), ('sdhc', 2783), ('september', 2784), ('twill', 2785), ('cherry', 2786), ('november', 2787), ('programs', 2788), ('tabs', 2789), ('electronic', 2790), ('seems', 2791), ('tops', 2792), ('tilleys', 2793), ('pt', 2794), ('sensitive', 2795), ('milligrams', 2796), ('effect', 2797), ('smells', 2798), ('angled', 2799), ('state', 2800), ('aluminium', 2801), ('xs', 2802), ('56', 2803), ('xm', 2804), ('itunes', 2805), ('junk', 2806), ('reduce', 2807), ('1600', 2808), ('latch', 2809), ('protected', 2810), ('sign', 2811), ('nipples', 2812), ('produced', 2813), ('racket', 2814), ('autofocus', 2815), ('helicopter', 2816), ('sort', 2817), ('located', 2818), ('listing', 2819), ('cats', 2820), ('section', 2821), ('lan', 2822), ('beep', 2823), ('140', 2824), ('carb', 2825), ('detector', 2826), ('speakerphone', 2827), ('address', 2828), ('gal', 2829), ('don', 2830), ('bounce', 2831), ('eggs', 2832), ('cadillac', 2833), ('taking', 2834), ('bubble', 2835), ('cradle', 2836), ('nitro', 2837), ('compatibility', 2838), ('circular', 2839), ('commercial', 2840), ('crank', 2841), ('facebook', 2842), ('profile', 2843), ('plants', 2844), ('fitbit', 2845), ('70d', 2846), ('accessory', 2847), ('mdf', 2848), ('sprayer', 2849), ('iphone6', 2850), ('reach', 2851), ('monster', 2852), ('7mm', 2853), ('candy', 2854), ('project', 2855), ('reflective', 2856), ('behind', 2857), ('morning', 2858), ('navigation', 2859), ('lever', 2860), ('wrap', 2861), ('sharpener', 2862), ('existing', 2863), ('camara', 2864), ('elongated', 2865), ('wok', 2866), ('korean', 2867), ('message', 2868), ('toe', 2869), ('drawstring', 2870), ('sienna', 2871), ('october', 2872), ('shrink', 2873), ('firmware', 2874), ('oral', 2875), ('swivels', 2876), ('honey', 2877), ('repeat', 2878), ('x7', 2879), ('graco', 2880), ('versions', 2881), ('enclosure', 2882), ('countries', 2883), ('cube', 2884), ('8mm', 2885), ('beans', 2886), ('slats', 2887), ('78', 2888), ('sentra', 2889), ('weber', 2890), ('bottoms', 2891), ('headrest', 2892), ('chord', 2893), ('raceface', 2894), ('88', 2895), ('steamer', 2896), ('ga', 2897), ('tx', 2898), ('camo', 2899), ('probe', 2900), ('rogue', 2901), ('slate', 2902), ('twelve', 2903), ('mossberg', 2904), ('bell', 2905), ('daily', 2906), ('hinge', 2907), ('ramp', 2908), ('jvc', 2909), ('lightweight', 2910), ('refrigerator', 2911), ('virginia', 2912), ('pouches', 2913), ('223', 2914), ('texas', 2915), ('opened', 2916), ('bearing', 2917), ('packed', 2918), ('d3000', 2919), ('clothing', 2920), ('airsofting', 2921), ('520', 2922), ('1080', 2923), ('burned', 2924), ('quilted', 2925), ('called', 2926), ('308', 2927), ('clippers', 2928), ('btu', 2929), ('cane', 2930), ('topper', 2931), ('leds', 2932), ('bean', 2933), ('sportster', 2934), ('colorado', 2935), ('52', 2936), ('m8', 2937), ('duplex', 2938), ('cloths', 2939), ('marble', 2940), ('wallet', 2941), ('drops', 2942), ('bosch', 2943), ('cancelling', 2944), ('yellowish', 2945), ('solution', 2946), ('fe', 2947), ('seperate', 2948), ('amazing', 2949), ('email', 2950), ('a4', 2951), ('strength', 2952), ('leads', 2953), ('december', 2954), ('plywood', 2955), ('sights', 2956), ('yrs', 2957), ('reset', 2958), ('saturn', 2959), ('pkg', 2960), ('alot', 2961), ('snaps', 2962), ('ez', 2963), ('password', 2964), ('aprox', 2965), ('cooked', 2966), ('pa', 2967), ('wirelessly', 2968), ('nose', 2969), ('beds', 2970), ('fahrenheit', 2971), ('vita', 2972), ('laptops', 2973), ('ammo', 2974), ('un', 2975), ('bend', 2976), ('riveted', 2977), ('refresh', 2978), ('regulator', 2979), ('controlled', 2980), ('dogs', 2981), ('leappad', 2982), ('presta', 2983), ('activation', 2984), ('apo', 2985), ('ghz', 2986), ('rough', 2987), ('compare', 2988), ('mail', 2989), ('openings', 2990), ('business', 2991), ('clay', 2992), ('combo', 2993), ('netting', 2994), ('bare', 2995), ('chargers', 2996), ('od', 2997), ('x5', 2998), ('buds', 2999), ('43', 3000), ('applied', 3001), ('juicer', 3002), ('fender', 3003), ('f250', 3004), ('assume', 3005), ('desire', 3006), ('mower', 3007), ('cause', 3008), ('dome', 3009), ('versa', 3010), ('feb', 3011), ('stretch', 3012), ('background', 3013), ('guage', 3014), ('schwinn', 3015), ('potatoes', 3016), ('fog', 3017), ('candles', 3018), ('context', 3019), ('3200', 3020), ('mercury', 3021), ('paul', 3022), ('bathroom', 3023), ('strut', 3024), ('cooper', 3025), ('clipper', 3026), ('master', 3027), ('opener', 3028), ('frames', 3029), ('nicely', 3030), ('3mm', 3031), ('tiene', 3032), ('optional', 3033), ('town', 3034), ('soundbar', 3035), ('wha', 3036), ('cx', 3037), ('smoker', 3038), ('strung', 3039), ('shimano', 3040), ('hydration', 3041), ('besides', 3042), ('parabens', 3043), ('528i', 3044), ('percent', 3045), ('cookies', 3046), ('lie', 3047), ('soccer', 3048), ('latin', 3049), ('ho', 3050), ('tc', 3051), ('spoon', 3052), ('bought', 3053), ('1gb', 3054), ('monthly', 3055), ('cologne', 3056), ('arc', 3057), ('turbo', 3058), ('flood', 3059), ('94', 3060), ('hoses', 3061), ('270', 3062), ('broken', 3063), ('writing', 3064), ('week', 3065), ('pegs', 3066), ('frozen', 3067), ('sockets', 3068), ('colour', 3069), ('dsc', 3070), ('recieve', 3071), ('baskets', 3072), ('challenger', 3073), ('89', 3074), ('stiff', 3075), ('pens', 3076), ('sharpened', 3077), ('hk', 3078), ('ubuntu', 3079), ('connectivity', 3080), ('rotated', 3081), ('nerf', 3082), ('shooting', 3083), ('160', 3084), ('couch', 3085), ('difficult', 3086), ('guess', 3087), ('peanuts', 3088), ('85', 3089), ('buddy', 3090), ('locking', 3091), ('lego', 3092), ('cupcakes', 3093), ('reg', 3094), ('veneer', 3095), ('operation', 3096), ('sunshade', 3097), ('wagon', 3098), ('nozzle', 3099), ('whistle', 3100), ('papers', 3101), ('caravan', 3102), ('towers', 3103), ('portugal', 3104), ('simcard', 3105), ('extender', 3106), ('ringer', 3107), ('tactical', 3108), ('lasermax', 3109), ('balloons', 3110), ('deskjet', 3111), ('incoming', 3112), ('typical', 3113), ('axis', 3114), ('general', 3115), ('neill', 3116), ('provides', 3117), ('adultos', 3118), ('digitizer', 3119), ('xsi', 3120), ('dmc', 3121), ('lawn', 3122), ('blend', 3123), ('curl', 3124), ('wonder', 3125), ('shaver', 3126), ('lockable', 3127), ('30mm', 3128), ('target', 3129), ('sock', 3130), ('updated', 3131), ('measures', 3132), ('halogen', 3133), ('ah', 3134), ('theses', 3135), ('grado', 3136), ('4000', 3137), ('website', 3138), ('flight', 3139), ('vibration', 3140), ('inlet', 3141), ('59', 3142), ('programmed', 3143), ('horn', 3144), ('ls', 3145), ('gaskets', 3146), ('heated', 3147), ('nalgene', 3148), ('premium', 3149), ('el', 3150), ('stable', 3151), ('fireplace', 3152), ('timers', 3153), ('alkaline', 3154), ('patch', 3155), ('must', 3156), ('stamp', 3157), ('microfiber', 3158), ('x3', 3159), ('nipple', 3160), ('ebay', 3161), ('composition', 3162), ('gti', 3163), ('stovetop', 3164), ('9v', 3165), ('pontiac', 3166), ('candle', 3167), ('16oz', 3168), ('military', 3169), ('coast', 3170), ('training', 3171), ('garage', 3172), ('macro', 3173), ('pumps', 3174), ('markers', 3175), ('stabilization', 3176), ('min', 3177), ('58', 3178), ('enabled', 3179), ('insulated', 3180), ('dakota', 3181), ('x4', 3182), ('summer', 3183), ('grate', 3184), ('rigid', 3185), ('canvas', 3186), ('5in', 3187), ('pls', 3188), ('soil', 3189), ('passport', 3190), ('supplied', 3191), ('packets', 3192), ('ordered', 3193), ('spool', 3194), ('rods', 3195), ('3v', 3196), ('cheese', 3197), ('changing', 3198), ('touring', 3199), ('wit', 3200), ('boom', 3201), ('cone', 3202), ('specifically', 3203), ('vented', 3204), ('magazines', 3205), ('involve', 3206), ('amber', 3207), ('d60', 3208), ('owners', 3209), ('crash', 3210), ('84', 3211), ('coins', 3212), ('clasp', 3213), ('pepper', 3214), ('gig', 3215), ('designed', 3216), ('epiphone', 3217), ('switches', 3218), ('fittings', 3219), ('needs', 3220), ('didnt', 3221), ('430', 3222), ('special', 3223), ('frontier', 3224), ('winter', 3225), ('microphones', 3226), ('rv', 3227), ('plated', 3228), ('instagram', 3229), ('upstream', 3230), ('115', 3231), ('makeup', 3232), ('shadow', 3233), ('cuisinart', 3234), ('component', 3235), ('jacks', 3236), ('avalanche', 3237), ('racquet', 3238), ('repair', 3239), ('coaster', 3240), ('guards', 3241), ('wrappers', 3242), ('holding', 3243), ('cooling', 3244), ('acirc', 3245), ('kawasaki', 3246), ('decks', 3247), ('boxed', 3248), ('mold', 3249), ('2018', 3250), ('screens', 3251), ('womens', 3252), ('early', 3253), ('chromecast', 3254), ('simultaneously', 3255), ('storm', 3256), ('db', 3257), ('gateway', 3258), ('1100', 3259), ('pulse', 3260), ('acoustic', 3261), ('msg', 3262), ('compliant', 3263), ('trainer', 3264), ('collars', 3265), ('d5100', 3266), ('coarse', 3267), ('spills', 3268), ('fisher', 3269), ('kg', 3270), ('cupcake', 3271), ('psu', 3272), ('backup', 3273), ('choice', 3274), ('weld', 3275), ('recessed', 3276), ('worn', 3277), ('prongs', 3278), ('fedex', 3279), ('ps2', 3280), ('register', 3281), ('sklz', 3282), ('shotloc', 3283), ('fujifilm', 3284), ('tighten', 3285), ('motorized', 3286), ('61', 3287), ('pit', 3288), ('bet', 3289), ('5g', 3290), ('grease', 3291), ('users', 3292), ('thermos', 3293), ('dirt', 3294), ('radius', 3295), ('uppababy', 3296), ('scanning', 3297), ('evo', 3298), ('main', 3299), ('shutoff', 3300), ('land', 3301), ('character', 3302), ('warmer', 3303), ('secure', 3304), ('sent', 3305), ('york', 3306), ('toys', 3307), ('springfield', 3308), ('gladiator', 3309), ('club', 3310), ('signals', 3311), ('avent', 3312), ('oils', 3313), ('osx', 3314), ('fun', 3315), ('washers', 3316), ('bedding', 3317), ('ti', 3318), ('television', 3319), ('clamps', 3320), ('activity', 3321), ('helmets', 3322), ('rav', 3323), ('russian', 3324), ('mil', 3325), ('135', 3326), ('ipods', 3327), ('z10', 3328), ('blazer', 3329), ('heights', 3330), ('positive', 3331), ('liquids', 3332), ('disks', 3333), ('darts', 3334), ('continuous', 3335), ('buick', 3336), ('helps', 3337), ('husqvarna', 3338), ('cb', 3339), ('d40', 3340), ('puzzle', 3341), ('treadmill', 3342), ('gigabit', 3343), ('ge', 3344), ('welded', 3345), ('furby', 3346), ('element', 3347), ('frosted', 3348), ('corvette', 3349), ('rotating', 3350), ('tightener', 3351), ('motorcycle', 3352), ('lip', 3353), ('tested', 3354), ('african', 3355), ('withstand', 3356), ('soapy', 3357), ('ballast', 3358), ('shape', 3359), ('rifled', 3360), ('2032', 3361), ('x12', 3362), ('goggles', 3363), ('switzerland', 3364), ('expansion', 3365), ('fair', 3366), ('optiplex', 3367), ('2xl', 3368), ('january', 3369), ('iphone5', 3370), ('headlight', 3371), ('telescope', 3372), ('jeans', 3373), ('rotor', 3374), ('tags', 3375), ('ironed', 3376), ('cfm', 3377), ('gym', 3378), ('solo', 3379), ('mixed', 3380), ('abs', 3381), ('610', 3382), ('235', 3383), ('ni', 3384), ('inline', 3385), ('binder', 3386), ('fruit', 3387), ('article', 3388), ('jersey', 3389), ('party', 3390), ('hrs', 3391), ('ribbon', 3392), ('grout', 3393), ('spark', 3394), ('longer', 3395), ('retardant', 3396), ('aquarium', 3397), ('titan', 3398), ('z87', 3399), ('paste', 3400), ('measuring', 3401), ('activate', 3402), ('collapse', 3403), ('bro', 3404), ('knows', 3405), ('knock', 3406), ('neon', 3407), ('silent', 3408), ('rounded', 3409), ('lefty', 3410), ('molded', 3411), ('testing', 3412), ('lapse', 3413), ('blowback', 3414), ('wheat', 3415), ('perforated', 3416), ('xlt', 3417), ('sr', 3418), ('fishing', 3419), ('t2i', 3420), ('microwaveable', 3421), ('duel', 3422), ('190', 3423), ('shorter', 3424), ('rica', 3425), ('lc', 3426), ('provider', 3427), ('experience', 3428), ('pivot', 3429), ('slt', 3430), ('covering', 3431), ('weaver', 3432), ('spice', 3433), ('truly', 3434), ('crown', 3435), ('pdf', 3436), ('caribbean', 3437), ('leapster', 3438), ('republic', 3439), ('makita', 3440), ('times', 3441), ('5v', 3442), ('ths', 3443), ('means', 3444), ('consumption', 3445), ('fee', 3446), ('workforce', 3447), ('mcg', 3448), ('finder', 3449), ('faceplate', 3450), ('reticle', 3451), ('landscape', 3452), ('thumb', 3453), ('malibu', 3454), ('33x30', 3455), ('330', 3456), ('organizer', 3457), ('250lbs', 3458), ('returned', 3459), ('wd', 3460), ('128', 3461), ('tweeters', 3462), ('transport', 3463), ('sticky', 3464), ('scion', 3465), ('today', 3466), ('guam', 3467), ('para', 3468), ('savage', 3469), ('vr', 3470), ('marine', 3471), ('applying', 3472), ('answers', 3473), ('standing', 3474), ('inflate', 3475), ('bait', 3476), ('photosmart', 3477), ('approximate', 3478), ('rolled', 3479), ('rewind', 3480), ('packing', 3481), ('remotes', 3482), ('anchor', 3483), ('trunk', 3484), ('speaks', 3485), ('hearing', 3486), ('requires', 3487), ('mill', 3488), ('ability', 3489), ('baofeng', 3490), ('household', 3491), ('hammer', 3492), ('nah', 3493), ('cubes', 3494), ('bt', 3495), ('esata', 3496), ('unknown', 3497), ('38sp', 3498), ('ipad2', 3499), ('binoculars', 3500), ('hopper', 3501), ('tom', 3502), ('booklet', 3503), ('smith', 3504), ('unfinished', 3505), ('instax', 3506), ('130', 3507), ('cc', 3508), ('220volts', 3509), ('dioxide', 3510), ('safely', 3511), ('300lbs', 3512), ('olympic', 3513), ('gorilla', 3514), ('fryer', 3515), ('calibration', 3516), ('vanity', 3517), ('equivalent', 3518), ('wf', 3519), ('grid', 3520), ('equipped', 3521), ('integra', 3522), ('positions', 3523), ('lap', 3524), ('surround', 3525), ('shank', 3526), ('proforce', 3527), ('hinged', 3528), ('requirements', 3529), ('static', 3530), ('coverage', 3531), ('connecting', 3532), ('outback', 3533), ('expired', 3534), ('lantern', 3535), ('soup', 3536), ('matter', 3537), ('tinted', 3538), ('lenght', 3539), ('fingers', 3540), ('177', 3541), ('pellet', 3542), ('chicco', 3543), ('ct', 3544), ('imitation', 3545), ('prints', 3546), ('tj', 3547), ('triple', 3548), ('beretta', 3549), ('xt', 3550), ('squares', 3551), ('setup', 3552), ('projection', 3553), ('dead', 3554), ('molle', 3555), ('menu', 3556), ('expresso', 3557), ('popcorn', 3558), ('tks', 3559), ('driven', 3560), ('grills', 3561), ('asia', 3562), ('colt', 3563), ('3500', 3564), ('honeywell', 3565), ('thanx', 3566), ('workout', 3567), ('contents', 3568), ('barnett', 3569), ('specify', 3570), ('disable', 3571), ('magnification', 3572), ('bulk', 3573), ('weighted', 3574), ('coax', 3575), ('stearate', 3576), ('chin', 3577), ('burning', 3578), ('supposed', 3579), ('goose', 3580), ('vintage', 3581), ('couple', 3582), ('movie', 3583), ('unscrew', 3584), ('trains', 3585), ('combination', 3586), ('vegetarian', 3587), ('nextbook', 3588), ('excel', 3589), ('visors', 3590), ('3m', 3591), ('rubicon', 3592), ('schrader', 3593), ('850', 3594), ('sonata', 3595), ('stud', 3596), ('blocks', 3597), ('dj', 3598), ('550', 3599), ('xle', 3600), ('bleach', 3601), ('crossfire', 3602), ('vehicles', 3603), ('treat', 3604), ('rw', 3605), ('laundry', 3606), ('batter', 3607), ('strictly', 3608), ('ye', 3609), ('trap', 3610), ('nest', 3611), ('blind', 3612), ('2d', 3613), ('equinox', 3614), ('drying', 3615), ('possibly', 3616), ('4wd', 3617), ('leap', 3618), ('peru', 3619), ('440', 3620), ('wedge', 3621), ('toes', 3622), ('60d', 3623), ('sq', 3624), ('updates', 3625), ('sunglasses', 3626), ('perfume', 3627), ('ps', 3628), ('having', 3629), ('almonds', 3630), ('3s', 3631), ('stated', 3632), ('bump', 3633), ('freeze', 3634), ('polaroid', 3635), ('biodegradable', 3636), ('compaq', 3637), ('philips', 3638), ('32bit', 3639), ('mixing', 3640), ('7ft', 3641), ('spain', 3642), ('hardwired', 3643), ('thunderbolt', 3644), ('muscle', 3645), ('calluses', 3646), ('quiver', 3647), ('bore', 3648), ('avalon', 3649), ('resistance', 3650), ('720', 3651), ('whith', 3652), ('twenty', 3653), ('pine', 3654), ('hayward', 3655), ('92', 3656), ('suitcase', 3657), ('tomtom', 3658), ('nonstick', 3659), ('ninja', 3660), ('inc', 3661), ('account', 3662), ('bin', 3663), ('circle', 3664), ('napkins', 3665), ('bnc', 3666), ('squeak', 3667), ('6l', 3668), ('pr', 3669), ('fda', 3670), ('tis', 3671), ('310', 3672), ('brim', 3673), ('stake', 3674), ('aftermarket', 3675), ('i747', 3676), ('metallic', 3677), ('drainage', 3678), ('les', 3679), ('tech', 3680), ('560', 3681), ('vents', 3682), ('sing', 3683), ('flooring', 3684), ('76', 3685), ('stakes', 3686), ('coleman', 3687), ('might', 3688), ('510', 3689), ('aug', 3690), ('larabar', 3691), ('ryobi', 3692), ('4ft', 3693), ('peanut', 3694), ('walk', 3695), ('otg', 3696), ('features', 3697), ('def', 3698), ('sp', 3699), ('impedance', 3700), ('sa', 3701), ('latitude', 3702), ('stairs', 3703), ('qwerty', 3704), ('breaker', 3705), ('ways', 3706), ('thus', 3707), ('planter', 3708), ('dude', 3709), ('casio', 3710), ('sloped', 3711), ('870', 3712), ('photography', 3713), ('11x17', 3714), ('petrol', 3715), ('misc', 3716), ('previous', 3717), ('plasma', 3718), ('demensions', 3719), ('clue', 3720), ('grains', 3721), ('tl', 3722), ('steal', 3723), ('d800', 3724), ('110volts', 3725), ('varies', 3726), ('digitel', 3727), ('powershot', 3728), ('whirlpool', 3729), ('prescription', 3730), ('8g', 3731), ('dcc', 3732), ('adt', 3733), ('net10', 3734), ('fondant', 3735), ('cooktops', 3736), ('cobra', 3737), ('vanilla', 3738), ('telephone', 3739), ('scissors', 3740), ('flower', 3741), ('skates', 3742), ('australian', 3743), ('goal', 3744), ('capacitive', 3745), ('hdtv', 3746), ('screwdriver', 3747), ('stations', 3748), ('maxima', 3749), ('115v', 3750), ('polarized', 3751), ('vp9', 3752), ('bird', 3753), ('august', 3754), ('plays', 3755), ('li', 3756), ('zombie', 3757), ('strands', 3758), ('eureka', 3759), ('xps', 3760), ('hc', 3761), ('gpm', 3762), ('remember', 3763), ('contacts', 3764), ('nike', 3765), ('tiny', 3766), ('root', 3767), ('thks', 3768), ('recliner', 3769), ('1300', 3770), ('puerto', 3771), ('rico', 3772), ('collapsed', 3773), ('gasoline', 3774), ('weman', 3775), ('shose', 3776), ('generic', 3777), ('refridgerated', 3778), ('dice', 3779), ('princess', 3780), ('benz', 3781), ('elsa', 3782), ('paintball', 3783), ('reciever', 3784), ('deer', 3785), ('leash', 3786), ('mkv', 3787), ('reference', 3788), ('smallest', 3789), ('innotab', 3790), ('broil', 3791), ('ues', 3792), ('mosquito', 3793), ('diamond', 3794), ('curling', 3795), ('cot', 3796), ('vaio', 3797), ('costume', 3798), ('dinner', 3799), ('sm', 3800), ('cmos', 3801), ('raspberry', 3802), ('found', 3803), ('row', 3804), ('giant', 3805), ('lumen', 3806), ('technics', 3807), ('cruelty', 3808), ('b12', 3809), ('third', 3810), ('rooted', 3811), ('fade', 3812), ('throw', 3813), ('50mm', 3814), ('420', 3815), ('angles', 3816), ('breast', 3817), ('balance', 3818), ('kx', 3819), ('tune', 3820), ('1993', 3821), ('visible', 3822), ('raise', 3823), ('edp', 3824), ('x2', 3825), ('x10', 3826), ('everyone', 3827), ('efi', 3828), ('inchs', 3829), ('echo', 3830), ('surfaces', 3831), ('grinding', 3832), ('ilok', 3833), ('175', 3834), ('dec', 3835), ('accent', 3836), ('calling', 3837), ('spikes', 3838), ('beef', 3839), ('force', 3840), ('quickly', 3841), ('dremel', 3842), ('wahl', 3843), ('sandisk', 3844), ('cores', 3845), ('sweetener', 3846), ('eu', 3847), ('tax', 3848), ('application', 3849), ('mostly', 3850), ('midi', 3851), ('crease', 3852), ('issue', 3853), ('magnify', 3854), ('230v', 3855), ('sportsman', 3856), ('pcie', 3857), ('interfere', 3858), ('deluxe', 3859), ('6inch', 3860), ('clearance', 3861), ('impact', 3862), ('lathe', 3863), ('casing', 3864), ('t4i', 3865), ('golden', 3866), ('braun', 3867), ('spatula', 3868), ('birds', 3869), ('ty', 3870), ('elevation', 3871), ('fob', 3872), ('coaxial', 3873), ('zealand', 3874), ('comparable', 3875), ('cubic', 3876), ('waffle', 3877), ('bra', 3878), ('disposable', 3879), ('x15', 3880), ('numeric', 3881), ('chains', 3882), ('facemask', 3883), ('lean', 3884), ('mr', 3885), ('a58', 3886), ('east', 3887), ('pci', 3888), ('mobo', 3889), ('snug', 3890), ('listening', 3891), ('sprays', 3892), ('120hz', 3893), ('plz', 3894), ('hdd', 3895), ('cargo', 3896), ('wool', 3897), ('ocean', 3898), ('d820', 3899), ('hf', 3900), ('rubbery', 3901), ('boil', 3902), ('beginner', 3903), ('resin', 3904), ('conection', 3905), ('notification', 3906), ('flashing', 3907), ('characters', 3908), ('spoons', 3909), ('example', 3910), ('mfc', 3911), ('huh', 3912), ('tables', 3913), ('insulation', 3914), ('drip', 3915), ('7th', 3916), ('sig', 3917), ('trees', 3918), ('225', 3919), ('mild', 3920), ('pfoa', 3921), ('decorative', 3922), ('applicator', 3923), ('ace', 3924), ('siri', 3925), ('boys', 3926), ('blank', 3927), ('downloaded', 3928), ('righty', 3929), ('extensions', 3930), ('6v', 3931), ('144', 3932), ('usssa', 3933), ('always', 3934), ('decal', 3935), ('unrefined', 3936), ('neoprene', 3937), ('rounds', 3938), ('dress', 3939), ('lightning', 3940), ('spread', 3941), ('thats', 3942), ('breaking', 3943), ('mfg', 3944), ('tailgate', 3945), ('invisible', 3946), ('rs', 3947), ('325', 3948), ('glued', 3949), ('jumbo', 3950), ('patches', 3951), ('traxxas', 3952), ('again', 3953), ('pulled', 3954), ('derived', 3955), ('x200b', 3956), ('allen', 3957), ('airtight', 3958), ('costa', 3959), ('smoothly', 3960), ('engines', 3961), ('7000', 3962), ('rid', 3963), ('laminated', 3964), ('records', 3965), ('luggage', 3966), ('gs', 3967), ('stratus', 3968), ('sweet', 3969), ('diapers', 3970), ('nimh', 3971), ('shure', 3972), ('extract', 3973), ('hid', 3974), ('110volt', 3975), ('mp4', 3976), ('100mm', 3977), ('curve', 3978), ('spacers', 3979), ('trampoline', 3980), ('countertop', 3981), ('charges', 3982), ('pluck', 3983), ('torque', 3984), ('conductor', 3985), ('brief', 3986), ('installing', 3987), ('daybed', 3988), ('sahara', 3989), ('functional', 3990), ('lp', 3991), ('sack', 3992), ('bark', 3993), ('bluetooh', 3994), ('guy', 3995), ('silverware', 3996), ('preloaded', 3997), ('trial', 3998), ('cr2', 3999), ('stuffed', 4000), ('cookie', 4001), ('presario', 4002), ('rays', 4003), ('brewer', 4004), ('hammock', 4005), ('carpets', 4006), ('junior', 4007), ('yo', 4008), ('roaster', 4009), ('mirrored', 4010), ('cash', 4011), ('manufactures', 4012), ('5ft', 4013), ('30x52', 4014), ('artificial', 4015), ('155', 4016), ('isnt', 4017), ('simply', 4018), ('affect', 4019), ('muzzle', 4020), ('bien', 4021), ('yeti', 4022), ('phubby', 4023), ('writer', 4024), ('pizza', 4025), ('tracfone', 4026), ('iphone4', 4027), ('wiil', 4028), ('traditional', 4029), ('s10', 4030), ('permanently', 4031), ('neo', 4032), ('our', 4033), ('g5', 4034), ('balanced', 4035), ('flipped', 4036), ('virtual', 4037), ('pause', 4038), ('labeled', 4039), ('2v', 4040), ('intake', 4041), ('d80', 4042), ('primer', 4043), ('bf', 4044), ('i9505', 4045), ('a5', 4046), ('tin', 4047), ('list', 4048), ('images', 4049), ('na', 4050), ('programming', 4051), ('len', 4052), ('emblem', 4053), ('93', 4054), ('tunnel', 4055), ('growth', 4056), ('operators', 4057), ('reversable', 4058), ('steady', 4059), ('nib', 4060), ('masks', 4061), ('335i', 4062), ('album', 4063), ('rubberized', 4064), ('below', 4065), ('hatchback', 4066), ('mailbox', 4067), ('polyurethane', 4068), ('yed', 4069), ('leaking', 4070), ('av', 4071), ('kenmore', 4072), ('santa', 4073), ('sewn', 4074), ('infiniti', 4075), ('upside', 4076), ('reports', 4077), ('relay', 4078), ('modules', 4079), ('ccd', 4080), ('dresser', 4081), ('shed', 4082), ('grommets', 4083), ('tia', 4084), ('hydro', 4085), ('headband', 4086), ('sealer', 4087), ('troy', 4088), ('carrots', 4089), ('scabbard', 4090), ('10mm', 4091), ('shaker', 4092), ('removal', 4093), ('med', 4094), ('jan', 4095), ('20v', 4096), ('este', 4097), ('submersible', 4098), ('smartwatch', 4099), ('suv', 4100), ('advertised', 4101), ('120vac', 4102), ('successfully', 4103), ('crate', 4104), ('useful', 4105), ('spa', 4106), ('spirulina', 4107), ('mechanism', 4108), ('wich', 4109), ('spreader', 4110), ('jam', 4111), ('brio', 4112), ('rx350', 4113), ('directv', 4114), ('though', 4115), ('geforce', 4116), ('feather', 4117), ('chalkboard', 4118), ('1545', 4119), ('onkyo', 4120), ('personally', 4121), ('dha', 4122), ('links', 4123), ('oxide', 4124), ('yongnuo', 4125), ('tdi', 4126), ('creamy', 4127), ('dried', 4128), ('medela', 4129), ('cobalt', 4130), ('finland', 4131), ('delonghi', 4132), ('handycam', 4133), ('radar', 4134), ('constant', 4135), ('protools', 4136), ('rug', 4137), ('toothbrush', 4138), ('primary', 4139), ('studs', 4140), ('f1', 4141), ('inkjet', 4142), ('710', 4143), ('options', 4144), ('357', 4145), ('care', 4146), ('regards', 4147), ('thomas', 4148), ('announce', 4149), ('griddle', 4150), ('0000', 4151), ('effects', 4152), ('labor', 4153), ('carburetor', 4154), ('trek', 4155), ('document', 4156), ('clockwise', 4157), ('family', 4158), ('depot', 4159), ('mud', 4160), ('onyx', 4161), ('uncooked', 4162), ('baseball', 4163), ('shielded', 4164), ('somewhere', 4165), ('dovetail', 4166), ('calendar', 4167), ('chat', 4168), ('eacute', 4169), ('cocoa', 4170), ('320', 4171), ('addresses', 4172), ('documents', 4173), ('keyed', 4174), ('eagle', 4175), ('g6', 4176), ('74', 4177), ('looper', 4178), ('law', 4179), ('enforcement', 4180), ('pastel', 4181), ('since', 4182), ('baking', 4183), ('chemical', 4184), ('2wd', 4185), ('480', 4186), ('sprout', 4187), ('shark', 4188), ('recognize', 4189), ('ware', 4190), ('durability', 4191), ('corsair', 4192), ('hetmet', 4193), ('impala', 4194), ('325i', 4195), ('81', 4196), ('opaque', 4197), ('raincover', 4198), ('violin', 4199), ('walther', 4200), ('incandescent', 4201), ('audible', 4202), ('cassettes', 4203), ('stamped', 4204), ('index', 4205), ('stoves', 4206), ('microwavable', 4207), ('decent', 4208), ('wicker', 4209), ('pillowcase', 4210), ('v8', 4211), ('mike', 4212), ('concave', 4213), ('woofer', 4214), ('pour', 4215), ('plenty', 4216), ('xd', 4217), ('surprise', 4218), ('miami', 4219), ('valves', 4220), ('sustain', 4221), ('3gs', 4222), ('silicon', 4223), ('names', 4224), ('benq', 4225), ('because', 4226), ('whatsoever', 4227), ('reservoir', 4228), ('vegetables', 4229), ('883', 4230), ('moisture', 4231), ('naked', 4232), ('street', 4233), ('breaks', 4234), ('coffeemaker', 4235), ('trundle', 4236), ('chainsaw', 4237), ('portion', 4238), ('handheld', 4239), ('alloy', 4240), ('dutch', 4241), ('strike', 4242), ('wiper', 4243), ('yeast', 4244), ('ohio', 4245), ('direction', 4246), ('darker', 4247), ('humidifier', 4248), ('lasting', 4249), ('paid', 4250), ('lipo', 4251), ('pillowcases', 4252), ('camper', 4253), ('thumbprint', 4254), ('weatherproof', 4255), ('dongle', 4256), ('stops', 4257), ('bivolt', 4258), ('bubbles', 4259), ('lemon', 4260), ('330i', 4261), ('graphic', 4262), ('pavillion', 4263), ('zone', 4264), ('f350', 4265), ('art', 4266), ('tri', 4267), ('sunscreen', 4268), ('horsepower', 4269), ('miter', 4270), ('moa', 4271), ('escalade', 4272), ('secured', 4273), ('a1204emc', 4274), ('964mb', 4275), ('discreet', 4276), ('layer', 4277), ('postage', 4278), ('polar', 4279), ('5l', 4280), ('separated', 4281), ('recipe', 4282), ('infuser', 4283), ('uisex', 4284), ('volkswagen', 4285), ('iodine', 4286), ('auger', 4287), ('partial', 4288), ('common', 4289), ('markings', 4290), ('xfinity', 4291), ('hairs', 4292), ('5lb', 4293), ('compared', 4294), ('220volt', 4295), ('v1', 4296), ('woks', 4297), ('loader', 4298), ('collapsible', 4299), ('refilled', 4300), ('slider', 4301), ('held', 4302), ('replacements', 4303), ('detection', 4304), ('rev', 4305), ('prefer', 4306), ('rather', 4307), ('66', 4308), ('trike', 4309), ('ofcourse', 4310), ('paperwhite', 4311), ('ideapad', 4312), ('loss', 4313), ('kneading', 4314), ('swimming', 4315), ('ios7', 4316), ('syrup', 4317), ('nc', 4318), ('ideal', 4319), ('am3', 4320), ('1990', 4321), ('armor', 4322), ('sideburns', 4323), ('ll', 4324), ('millimeters', 4325), ('x16', 4326), ('knead', 4327), ('propelled', 4328), ('evga', 4329), ('photoshop', 4330), ('elements', 4331), ('cabinets', 4332), ('hummingbird', 4333), ('suede', 4334), ('aveo', 4335), ('mattresses', 4336), ('airplay', 4337), ('5100', 4338), ('posts', 4339), ('maple', 4340), ('auxiliary', 4341), ('pools', 4342), ('downstream', 4343), ('along', 4344), ('disabled', 4345), ('lollipop', 4346), ('flax', 4347), ('chia', 4348), ('missing', 4349), ('faux', 4350), ('lavender', 4351), ('din', 4352), ('calibrated', 4353), ('uh', 4354), ('vit', 4355), ('modular', 4356), ('phthalate', 4357), ('sleeping', 4358), ('m2', 4359), ('ridgeline', 4360), ('win8', 4361), ('waranty', 4362), ('glider', 4363), ('1020', 4364), ('intercom', 4365), ('tp', 4366), ('100mg', 4367), ('orgin', 4368), ('flavored', 4369), ('refrigerate', 4370), ('random', 4371), ('flange', 4372), ('inverted', 4373), ('stihl', 4374), ('murano', 4375), ('casting', 4376), ('frac14', 4377), ('chef', 4378), ('oldsmobile', 4379), ('discharge', 4380), ('maverick', 4381), ('picatinny', 4382), ('ironing', 4383), ('pets', 4384), ('zeepad', 4385), ('rip', 4386), ('aids', 4387), ('bristles', 4388), ('siphon', 4389), ('6000', 4390), ('sept', 4391), ('powerful', 4392), ('dsi', 4393), ('stopper', 4394), ('tivo', 4395), ('walkman', 4396), ('ventilation', 4397), ('sample', 4398), ('aid', 4399), ('wat', 4400), ('pogo', 4401), ('conversion', 4402), ('dash', 4403), ('frying', 4404), ('8000', 4405), ('lowes', 4406), ('wings', 4407), ('chamberlain', 4408), ('nyc', 4409), ('atomizer', 4410), ('kayak', 4411), ('530', 4412), ('convection', 4413), ('specifications', 4414), ('ss', 4415), ('wonderful', 4416), ('nursing', 4417), ('qi', 4418), ('cad', 4419), ('official', 4420), ('yess', 4421), ('serato', 4422), ('minute', 4423), ('caddy', 4424), ('facetime', 4425), ('toxic', 4426), ('dlc', 4427), ('280', 4428), ('bezel', 4429), ('infant', 4430), ('ps1', 4431), ('braces', 4432), ('110vac', 4433), ('wrong', 4434), ('leica', 4435), ('tint', 4436), ('beautifully', 4437), ('53', 4438), ('airline', 4439), ('physical', 4440), ('traffic', 4441), ('theft', 4442), ('absolutly', 4443), ('experation', 4444), ('zones', 4445), ('proper', 4446), ('n5110', 4447), ('disney', 4448), ('ips', 4449), ('d300', 4450), ('lugs', 4451), ('recognition', 4452), ('essential', 4453), ('bathtub', 4454), ('carton', 4455), ('1lb', 4456), ('whay', 4457), ('global', 4458), ('artisan', 4459), ('gives', 4460), ('hunting', 4461), ('ultrabook', 4462), ('whey', 4463), ('certificate', 4464), ('fountain', 4465), ('hunter', 4466), ('babies', 4467), ('cloudy', 4468), ('usp', 4469), ('stained', 4470), ('spindle', 4471), ('extreme', 4472), ('bout', 4473), ('500mg', 4474), ('breathe', 4475), ('egypt', 4476), ('scratches', 4477), ('appx', 4478), ('truss', 4479), ('illumination', 4480), ('co', 4481), ('op', 4482), ('bonus', 4483), ('quattro', 4484), ('tough', 4485), ('375', 4486), ('delete', 4487), ('nsf', 4488), ('oregon', 4489), ('handwash', 4490), ('par', 4491), ('sxt', 4492), ('hydroquinone', 4493), ('g730', 4494), ('bills', 4495), ('near', 4496), ('6300', 4497), ('fall', 4498), ('porter', 4499), ('handlebars', 4500), ('widi', 4501), ('yessss', 4502), ('flying', 4503), ('officejet', 4504), ('soda', 4505), ('begin', 4506), ('tattoos', 4507), ('bay', 4508), ('types', 4509), ('siren', 4510), ('bind', 4511), ('certain', 4512), ('appliance', 4513), ('optima', 4514), ('correctly', 4515), ('acids', 4516), ('garden', 4517), ('brick', 4518), ('batt', 4519), ('drinks', 4520), ('nj', 4521), ('higher', 4522), ('eau', 4523), ('parfum', 4524), ('midsize', 4525), ('3oz', 4526), ('peg', 4527), ('260', 4528), ('docked', 4529), ('12vdc', 4530), ('jaguar', 4531), ('sending', 4532), ('dementions', 4533), ('los', 4534), ('cyl', 4535), ('jokers', 4536), ('onces', 4537), ('760', 4538), ('gigs', 4539), ('bacon', 4540), ('molds', 4541), ('5cm', 4542), ('harmony', 4543), ('d700', 4544), ('2100', 4545), ('aircraft', 4546), ('cookware', 4547), ('carriers', 4548), ('bonded', 4549), ('happy', 4550), ('navigator', 4551), ('ozs', 4552), ('forte', 4553), ('stains', 4554), ('lipstick', 4555), ('tnx', 4556), ('deflated', 4557), ('driving', 4558), ('tracker', 4559), ('flag', 4560), ('frosty', 4561), ('answered', 4562), ('kdl', 4563), ('dv4', 4564), ('melt', 4565), ('futon', 4566), ('x8', 4567), ('measured', 4568), ('pasteurized', 4569), ('seating', 4570), ('technica', 4571), ('packable', 4572), ('search', 4573), ('stabilizer', 4574), ('hip', 4575), ('arabic', 4576), ('vitamins', 4577), ('leaks', 4578), ('trailblazer', 4579), ('6x6x1', 4580), ('pl', 4581), ('garbage', 4582), ('local', 4583), ('chime', 4584), ('orginal', 4585), ('1989', 4586), ('doing', 4587), ('cisco', 4588), ('nine', 4589), ('blaster', 4590), ('herbs', 4591), ('job', 4592), ('duos', 4593), ('4lbs', 4594), ('dove', 4595), ('packages', 4596), ('hae', 4597), ('bi', 4598), ('blink', 4599), ('128077', 4600), ('compass', 4601), ('gr', 4602), ('amperage', 4603), ('mx', 4604), ('enjoy', 4605), ('russia', 4606), ('treatment', 4607), ('5200', 4608), ('g4', 4609), ('stranded', 4610), ('fork', 4611), ('kimber', 4612), ('dia', 4613), ('recoil', 4614), ('lycra', 4615), ('cr2025', 4616), ('substitute', 4617), ('veggie', 4618), ('modified', 4619), ('tritan', 4620), ('12x12', 4621), ('memo', 4622), ('cylinders', 4623), ('faa', 4624), ('neither', 4625), ('friends', 4626), ('straighten', 4627), ('anyway', 4628), ('silencer', 4629), ('001', 4630), ('tsa', 4631), ('default', 4632), ('spider', 4633), ('tuned', 4634), ('1year', 4635), ('hookup', 4636), ('slash', 4637), ('meet', 4638), ('wesson', 4639), ('grain', 4640), ('peel', 4641), ('lexmark', 4642), ('ameda', 4643), ('smartphones', 4644), ('booties', 4645), ('ditto', 4646), ('curtains', 4647), ('matt', 4648), ('rider', 4649), ('modle', 4650), ('stinger', 4651), ('yesss', 4652), ('assisted', 4653), ('firewire', 4654), ('production', 4655), ('liftmaster', 4656), ('commuter', 4657), ('5t', 4658), ('slice', 4659), ('pigtail', 4660), ('velocity', 4661), ('orchid', 4662), ('score', 4663), ('2500hd', 4664), ('shine', 4665), ('sx60', 4666), ('awd', 4667), ('embroidered', 4668), ('potassium', 4669), ('dpi', 4670), ('flouride', 4671), ('plugin', 4672), ('replacing', 4673), ('loads', 4674), ('currency', 4675), ('pwm', 4676), ('coiled', 4677), ('riser', 4678), ('palm', 4679), ('bevel', 4680), ('bracelet', 4681), ('pacifier', 4682), ('moving', 4683), ('stores', 4684), ('chloride', 4685), ('moisturizer', 4686), ('blood', 4687), ('backward', 4688), ('obsession', 4689), ('af', 4690), ('d600', 4691), ('tumbler', 4692), ('paired', 4693), ('lo', 4694), ('tanning', 4695), ('share', 4696), ('funnel', 4697), ('dlna', 4698), ('gls', 4699), ('rocker', 4700), ('terrain', 4701), ('wearer', 4702), ('poppin', 4703), ('hotter', 4704), ('scrolling', 4705), ('burners', 4706), ('talking', 4707), ('chassis', 4708), ('denali', 4709), ('private', 4710), ('services', 4711), ('12oz', 4712), ('edible', 4713), ('jug', 4714), ('marlin', 4715), ('lancer', 4716), ('pasta', 4717), ('hepa', 4718), ('shack', 4719), ('1150', 4720), ('1992', 4721), ('expand', 4722), ('bagless', 4723), ('sorento', 4724), ('marked', 4725), ('alert', 4726), ('fj', 4727), ('contour', 4728), ('slatted', 4729), ('mo', 4730), ('kinda', 4731), ('reversed', 4732), ('commander', 4733), ('peroxide', 4734), ('grounded', 4735), ('8ft', 4736), ('relief', 4737), ('urethane', 4738), ('platensis', 4739), ('ze', 4740), ('beer', 4741), ('4mm', 4742), ('sx', 4743), ('sv', 4744), ('fireproof', 4745), ('mdx', 4746), ('35w', 4747), ('surf', 4748), ('flicker', 4749), ('paddles', 4750), ('1500w', 4751), ('2tb', 4752), ('xxlarge', 4753), ('sdi', 4754), ('cue', 4755), ('bins', 4756), ('shift', 4757), ('pip', 4758), ('5x7', 4759), ('6gb', 4760), ('410', 4761), ('4ohm', 4762), ('indicate', 4763), ('suck', 4764), ('psp', 4765), ('mgs', 4766), ('vixia', 4767), ('al', 4768), ('fm2', 4769), ('24x36', 4770), ('cruze', 4771), ('sitting', 4772), ('mother', 4773), ('wipes', 4774), ('12mm', 4775), ('quarter', 4776), ('inflation', 4777), ('100v', 4778), ('within', 4779), ('a1', 4780), ('bios', 4781), ('tapered', 4782), ('create', 4783), ('18v', 4784), ('optic', 4785), ('reinforced', 4786), ('hanger', 4787), ('compound', 4788), ('windscreen', 4789), ('ratchet', 4790), ('rocks', 4791), ('sham', 4792), ('saltwater', 4793), ('enamel', 4794), ('sonic', 4795), ('86', 4796), ('625', 4797), ('4200', 4798), ('pie', 4799), ('pathfinder', 4800), ('playback', 4801), ('currently', 4802), ('moveable', 4803), ('uefi', 4804), ('cheaper', 4805), ('z3', 4806), ('percolator', 4807), ('toast', 4808), ('seams', 4809), ('ren', 4810), ('info', 4811), ('density', 4812), ('summit', 4813), ('granite', 4814), ('bulldog', 4815), ('meal', 4816), ('ish', 4817), ('i9195', 4818), ('clog', 4819), ('pores', 4820), ('touchpad', 4821), ('ia', 4822), ('hookah', 4823), ('leapfrog', 4824), ('coach', 4825), ('specified', 4826), ('speedlite', 4827), ('dining', 4828), ('fuji', 4829), ('ipads', 4830), ('heighth', 4831), ('molding', 4832), ('inflatable', 4833), ('arcteryx', 4834), ('necklace', 4835), ('yard', 4836), ('e500', 4837), ('flask', 4838), ('d5000', 4839), ('shrinking', 4840), ('waffles', 4841), ('networks', 4842), ('340', 4843), ('results', 4844), ('cracked', 4845), ('until', 4846), ('affirmative', 4847), ('infinity', 4848), ('gibson', 4849), ('cub', 4850), ('sph', 4851), ('words', 4852), ('beaters', 4853), ('citrate', 4854), ('carbonate', 4855), ('lime', 4856), ('lr', 4857), ('capture', 4858), ('rotation', 4859), ('bleed', 4860), ('hx', 4861), ('564xl', 4862), ('biotin', 4863), ('slat', 4864), ('doubtful', 4865), ('kenwood', 4866), ('upload', 4867), ('son', 4868), ('m50', 4869), ('scarlet', 4870), ('fiestware', 4871), ('litre', 4872), ('usual', 4873), ('tamper', 4874), ('duracell', 4875), ('error', 4876), ('command', 4877), ('bees', 4878), ('squirrel', 4879), ('24v', 4880), ('ad', 4881), ('seasoned', 4882), ('burgundy', 4883), ('texts', 4884), ('comments', 4885), ('flannel', 4886), ('215', 4887), ('siding', 4888), ('davidson', 4889), ('unsure', 4890), ('floating', 4891), ('circles', 4892), ('viewer', 4893), ('gamecube', 4894), ('mosin', 4895), ('tra', 4896), ('hubsan', 4897), ('sense', 4898), ('cardio', 4899), ('fingerprints', 4900), ('120volt', 4901), ('accu', 4902), ('irons', 4903), ('bold', 4904), ('venue', 4905), ('umarex', 4906), ('muffler', 4907), ('1yr', 4908), ('platinum', 4909), ('chainring', 4910), ('a7', 4911), ('tens', 4912), ('ak47', 4913), ('submerged', 4914), ('hs', 4915), ('127v', 4916), ('displayed', 4917), ('largest', 4918), ('e12', 4919), ('candelabra', 4920), ('joints', 4921), ('82', 4922), ('t1i', 4923), ('tipped', 4924), ('atilde', 4925), ('suite', 4926), ('apt', 4927), ('drift', 4928), ('tes', 4929), ('frequencies', 4930), ('gz', 4931), ('mk', 4932), ('hatch', 4933), ('kyocera', 4934), ('aero', 4935), ('denmark', 4936), ('cree', 4937), ('leatherman', 4938), ('lenth', 4939), ('ext', 4940), ('newborn', 4941), ('4ghz', 4942), ('unsalted', 4943), ('samsumg', 4944), ('vibrating', 4945), ('optoma', 4946), ('29er', 4947), ('machines', 4948), ('sks', 4949), ('stacked', 4950), ('i337', 4951), ('2ft', 4952), ('acadia', 4953), ('1b', 4954), ('graphite', 4955), ('cw203d', 4956), ('grates', 4957), ('clicks', 4958), ('paraben', 4959), ('shave', 4960), ('paracord', 4961), ('heels', 4962), ('changes', 4963), ('native', 4964), ('1985', 4965), ('8lbs', 4966), ('wtih', 4967), ('460', 4968), ('axle', 4969), ('ant', 4970), ('ht', 4971), ('z71', 4972), ('10inch', 4973), ('apprpiate', 4974), ('optimist', 4975), ('np', 4976), ('6000k', 4977), ('indian', 4978), ('medical', 4979), ('2700k', 4980), ('durango', 4981), ('whip', 4982), ('distilled', 4983), ('conect', 4984), ('pewter', 4985), ('st', 4986), ('d3', 4987), ('smoked', 4988), ('warning', 4989), ('belgium', 4990), ('glazed', 4991), ('daughter', 4992), ('perform', 4993), ('e350', 4994), ('570', 4995), ('reception', 4996), ('i9192', 4997), ('fluorescent', 4998), ('underwater', 4999), ('particularly', 5000), ('shalimar', 5001), ('inserted', 5002), ('saver', 5003), ('oblong', 5004), ('mario', 5005), ('radios', 5006), ('char', 5007), ('subtitles', 5008), ('dawn', 5009), ('voip', 5010), ('litter', 5011), ('8t', 5012), ('euro', 5013), ('dropper', 5014), ('sausage', 5015), ('airbags', 5016), ('netbook', 5017), ('lashes', 5018), ('shafts', 5019), ('flaps', 5020), ('spiral', 5021), ('sander', 5022), ('iuml', 5023), ('bodum', 5024), ('terminal', 5025), ('macbooks', 5026), ('polisher', 5027), ('4inch', 5028), ('forever', 5029), ('vhs', 5030), ('8mp', 5031), ('county', 5032), ('putting', 5033), ('sucks', 5034), ('parker', 5035), ('armrests', 5036), ('kohler', 5037), ('duo', 5038), ('excuse', 5039), ('acne', 5040), ('outfit', 5041), ('glucosamine', 5042), ('crap', 5043), ('requirement', 5044), ('norelco', 5045), ('mins', 5046), ('slicer', 5047), ('bones', 5048), ('supercab', 5049), ('producto', 5050), ('afraid', 5051), ('720p', 5052), ('raisins', 5053), ('born', 5054), ('alcatel', 5055), ('symbol', 5056), ('esp', 5057), ('others', 5058), ('100ft', 5059), ('berry', 5060), ('points', 5061), ('0r', 5062), ('victor', 5063), ('eligible', 5064), ('angeles', 5065), ('traps', 5066), ('exposed', 5067), ('miedium', 5068), ('panoramic', 5069), ('tongue', 5070), ('dance', 5071), ('watching', 5072), ('bahamas', 5073), ('earpiece', 5074), ('ml350', 5075), ('sunbeam', 5076), ('dim', 5077), ('logs', 5078), ('published', 5079), ('epa', 5080), ('daylight', 5081), ('straighttalk', 5082), ('partially', 5083), ('softgels', 5084), ('opens', 5085), ('mixture', 5086), ('159', 5087), ('olive', 5088), ('dcr', 5089), ('minion', 5090), ('kinds', 5091), ('32oz', 5092), ('trail', 5093), ('rumble', 5094), ('bud', 5095), ('ski', 5096), ('central', 5097), ('flattering', 5098), ('purifier', 5099), ('padlock', 5100), ('vdc', 5101), ('sweep', 5102), ('pain', 5103), ('guessing', 5104), ('rossi', 5105), ('xv', 5106), ('costco', 5107), ('sudan', 5108), ('combs', 5109), ('knifes', 5110), ('macs', 5111), ('twisted', 5112), ('utensils', 5113), ('heaters', 5114), ('buckle', 5115), ('moves', 5116), ('rocksmith', 5117), ('seen', 5118), ('dream', 5119), ('bauer', 5120), ('prop', 5121), ('d200', 5122), ('satelite', 5123), ('aspartame', 5124), ('colours', 5125), ('netgear', 5126), ('usb2', 5127), ('rolling', 5128), ('vostro', 5129), ('1520', 5130), ('knees', 5131), ('eyelets', 5132), ('564', 5133), ('1920x1080', 5134), ('deg', 5135), ('tuning', 5136), ('shipment', 5137), ('minerals', 5138), ('ecuador', 5139), ('chalk', 5140), ('spec', 5141), ('browning', 5142), ('printers', 5143), ('dimable', 5144), ('briquettes', 5145), ('ect', 5146), ('ivy', 5147), ('browser', 5148), ('details', 5149), ('gipsy', 5150), ('recycled', 5151), ('rivets', 5152), ('coin', 5153), ('phase', 5154), ('closing', 5155), ('refrigeration', 5156), ('stuffer', 5157), ('ignition', 5158), ('onboard', 5159), ('73', 5160), ('canceling', 5161), ('asrock', 5162), ('walnut', 5163), ('x48', 5164), ('dedicated', 5165), ('unloked', 5166), ('heck', 5167), ('nets', 5168), ('parental', 5169), ('drawing', 5170), ('prior', 5171), ('soups', 5172), ('jawbone', 5173), ('pairing', 5174), ('closures', 5175), ('stems', 5176), ('peeler', 5177), ('f3', 5178), ('shea', 5179), ('subscription', 5180), ('fasten', 5181), ('compartments', 5182), ('beater', 5183), ('eliminate', 5184), ('doses', 5185), ('viber', 5186), ('mate', 5187), ('kd', 5188), ('german', 5189), ('mentioned', 5190), ('dx6i', 5191), ('vibrates', 5192), ('thighs', 5193), ('engrave', 5194), ('hitachi', 5195), ('245', 5196), ('defrost', 5197), ('broad', 5198), ('awg', 5199), ('highly', 5200), ('grape', 5201), ('hurricane', 5202), ('thicker', 5203), ('halo', 5204), ('pronged', 5205), ('poop', 5206), ('duster', 5207), ('shake', 5208), ('ou', 5209), ('charms', 5210), ('bookcase', 5211), ('iphone5s', 5212), ('quest', 5213), ('ridgid', 5214), ('rekeyed', 5215), ('1988', 5216), ('badge', 5217), ('sn', 5218), ('ios8', 5219), ('sdxc', 5220), ('backing', 5221), ('tf701t', 5222), ('freezing', 5223), ('a65', 5224), ('wider', 5225), ('drilling', 5226), ('r1', 5227), ('deodorant', 5228), ('7inch', 5229), ('leaves', 5230), ('67', 5231), ('unopened', 5232), ('91', 5233), ('singapore', 5234), ('branded', 5235), ('dsl', 5236), ('oxo', 5237), ('mason', 5238), ('aperture', 5239), ('drinking', 5240), ('4100', 5241), ('phrases', 5242), ('ultimate', 5243), ('soluble', 5244), ('clutch', 5245), ('response', 5246), ('12g', 5247), ('ruled', 5248), ('salmon', 5249), ('collection', 5250), ('atlantic', 5251), ('newborns', 5252), ('viper', 5253), ('cellphones', 5254), ('m3', 5255), ('printable', 5256), ('cedar', 5257), ('spots', 5258), ('increase', 5259), ('portal', 5260), ('basically', 5261), ('slices', 5262), ('jamaica', 5263), ('wrenches', 5264), ('lepan', 5265), ('overseas', 5266), ('970', 5267), ('lose', 5268), ('780', 5269), ('smartthings', 5270), ('zwave', 5271), ('x18', 5272), ('yaris', 5273), ('dollar', 5274), ('residue', 5275), ('cleaned', 5276), ('x20', 5277), ('ag', 5278), ('resistive', 5279), ('hu', 5280), ('mercruiser', 5281), ('puppy', 5282), ('ham', 5283), ('300mm', 5284), ('ptfe', 5285), ('disassembled', 5286), ('school', 5287), ('hr', 5288), ('poulan', 5289), ('manufacturing', 5290), ('weave', 5291), ('sweden', 5292), ('splenda', 5293), ('slippery', 5294), ('foil', 5295), ('sonicare', 5296), ('till', 5297), ('bushing', 5298), ('chews', 5299), ('20lb', 5300), ('dv7', 5301), ('suppose', 5302), ('mule', 5303), ('sw', 5304), ('wrought', 5305), ('magnetized', 5306), ('crazy', 5307), ('wp', 5308), ('grizzly', 5309), ('monopod', 5310), ('regarding', 5311), ('creative', 5312), ('seasoning', 5313), ('5lbs', 5314), ('compressed', 5315), ('maclaren', 5316), ('cock', 5317), ('1991', 5318), ('cutlass', 5319), ('dropped', 5320), ('concentrator', 5321), ('mustache', 5322), ('shop', 5323), ('aqua', 5324), ('te', 5325), ('mogul', 5326), ('certification', 5327), ('tote', 5328), ('skewer', 5329), ('advise', 5330), ('dyson', 5331), ('6400', 5332), ('shopping', 5333), ('t989', 5334), ('fault', 5335), ('spectrum', 5336), ('55mm', 5337), ('reviewers', 5338), ('reuse', 5339), ('77', 5340), ('rotates', 5341), ('gap', 5342), ('cf', 5343), ('autentic', 5344), ('crimp', 5345), ('blackmagic', 5346), ('cinema', 5347), ('torx', 5348), ('jelly', 5349), ('programmable', 5350), ('thule', 5351), ('trinidad', 5352), ('imported', 5353), ('practice', 5354), ('mfi', 5355), ('limitation', 5356), ('pu', 5357), ('portrait', 5358), ('shortened', 5359), ('iris', 5360), ('joint', 5361), ('freewheel', 5362), ('advantage', 5363), ('wearing', 5364), ('dts', 5365), ('ntilde', 5366), ('schlage', 5367), ('drone', 5368), ('barely', 5369), ('decanter', 5370), ('priming', 5371), ('softball', 5372), ('necklaces', 5373), ('staple', 5374), ('phono', 5375), ('somewhat', 5376), ('35mm', 5377), ('msds', 5378), ('kindles', 5379), ('slr', 5380), ('17x22', 5381), ('whether', 5382), ('t999', 5383), ('changer', 5384), ('gusto', 5385), ('barcodes', 5386), ('gumballs', 5387), ('bendable', 5388), ('klr', 5389), ('yourself', 5390), ('allowed', 5391), ('curious', 5392), ('930', 5393), ('critters', 5394), ('valid', 5395), ('barbies', 5396), ('xds', 5397), ('gigaset', 5398), ('vitamix', 5399), ('presto', 5400), ('correspond', 5401), ('275', 5402), ('h3', 5403), ('spf', 5404), ('mils', 5405), ('cr123', 5406), ('jump', 5407), ('pork', 5408), ('x6', 5409), ('recomended', 5410), ('a2', 5411), ('peak', 5412), ('pulley', 5413), ('asian', 5414), ('lighten', 5415), ('adjustments', 5416), ('closer', 5417), ('3lbs', 5418), ('checked', 5419), ('penn', 5420), ('pak', 5421), ('collect', 5422), ('gpu', 5423), ('dealer', 5424), ('authorized', 5425), ('nasal', 5426), ('candies', 5427), ('pugs', 5428), ('loft', 5429), ('sansa', 5430), ('i717', 5431), ('discolor', 5432), ('tvs', 5433), ('2mm', 5434), ('warrantee', 5435), ('craft', 5436), ('deflate', 5437), ('playlists', 5438), ('porsche', 5439), ('lenguage', 5440), ('duck', 5441), ('71', 5442), ('ph', 5443), ('perennial', 5444), ('bentonite', 5445), ('stoneware', 5446), ('cracking', 5447), ('salted', 5448), ('customers', 5449), ('muy', 5450), ('bedspread', 5451), ('liquor', 5452), ('3l', 5453), ('br', 5454), ('dv', 5455), ('ecc', 5456), ('interval', 5457), ('lincoln', 5458), ('dialing', 5459), ('clad', 5460), ('102', 5461), ('oreck', 5462), ('slick', 5463), ('movable', 5464), ('plantronics', 5465), ('m1', 5466), ('cones', 5467), ('sigma', 5468), ('overflow', 5469), ('decker', 5470), ('field', 5471), ('noodle', 5472), ('teaspoon', 5473), ('110mm', 5474), ('shred', 5475), ('foscam', 5476), ('5n', 5477), ('bbq', 5478), ('forks', 5479), ('initial', 5480), ('torch', 5481), ('lolwut', 5482), ('associated', 5483), ('proximity', 5484), ('keeps', 5485), ('bootleg', 5486), ('bumpers', 5487), ('delphi', 5488), ('everywhere', 5489), ('skillets', 5490), ('chipset', 5491), ('uniden', 5492), ('iu', 5493), ('phillips', 5494), ('seasons', 5495), ('mad', 5496), ('vitara', 5497), ('c02', 5498), ('a1278', 5499), ('fleas', 5500), ('alpine', 5501), ('processors', 5502), ('inulin', 5503), ('carolina', 5504), ('stopped', 5505), ('progressive', 5506), ('cadet', 5507), ('rye', 5508), ('receivers', 5509), ('annual', 5510), ('behringer', 5511), ('bootable', 5512), ('piping', 5513), ('deet', 5514), ('tare', 5515), ('magpul', 5516), ('assist', 5517), ('impeller', 5518), ('cyan', 5519), ('alternative', 5520), ('guitars', 5521), ('robe', 5522), ('castle', 5523), ('sealing', 5524), ('swallow', 5525), ('rangefinder', 5526), ('hamilton', 5527), ('tour', 5528), ('fiesta', 5529), ('snorkel', 5530), ('selphy', 5531), ('celestron', 5532), ('127', 5533), ('consume', 5534), ('galvanized', 5535), ('cardstock', 5536), ('soften', 5537), ('blister', 5538), ('filling', 5539), ('labtop', 5540), ('bunk', 5541), ('fantastic', 5542), ('quit', 5543), ('miscellaneous', 5544), ('tubs', 5545), ('1w', 5546), ('e39', 5547), ('falls', 5548), ('menthol', 5549), ('tricycle', 5550), ('filler', 5551), ('humidity', 5552), ('bedroom', 5553), ('atomic', 5554), ('nagant', 5555), ('colombian', 5556), ('p7510', 5557), ('1994', 5558), ('anniversary', 5559), ('lxwxh', 5560), ('securely', 5561), ('chile', 5562), ('recipes', 5563), ('canner', 5564), ('steak', 5565), ('1450', 5566), ('translate', 5567), ('variety', 5568), ('kilo', 5569), ('overclock', 5570), ('nigeria', 5571), ('1976', 5572), ('curly', 5573), ('disposal', 5574), ('gage', 5575), ('turning', 5576), ('35lbs', 5577), ('reels', 5578), ('footrest', 5579), ('metronome', 5580), ('smile', 5581), ('configuration', 5582), ('kilograms', 5583), ('la', 5584), ('calorie', 5585), ('probook', 5586), ('condition', 5587), ('cement', 5588), ('brownies', 5589), ('marbles', 5590), ('police', 5591), ('tests', 5592), ('6th', 5593), ('hulu', 5594), ('connecter', 5595), ('128522', 5596), ('readout', 5597), ('transpose', 5598), ('bayonet', 5599), ('daisy', 5600), ('10433', 5601), ('c55', 5602), ('butane', 5603), ('spotlight', 5604), ('rotors', 5605), ('interchange', 5606), ('t6', 5607), ('sweetened', 5608), ('dv5', 5609), ('nwz', 5610), ('hoover', 5611), ('o2', 5612), ('resume', 5613), ('abec', 5614), ('turtle', 5615), ('exist', 5616), ('story', 5617), ('doed', 5618), ('upgradeable', 5619), ('taller', 5620), ('saddle', 5621), ('1920', 5622), ('cloud', 5623), ('easel', 5624), ('spit', 5625), ('percentages', 5626), ('garmet', 5627), ('propylene', 5628), ('glycol', 5629), ('hutch', 5630), ('fluffy', 5631), ('balloon', 5632), ('overnight', 5633), ('4790k', 5634), ('ionizer', 5635), ('boston', 5636), ('980', 5637), ('mw', 5638), ('ffp', 5639), ('frustration', 5640), ('gm', 5641), ('streamlight', 5642), ('hl', 5643), ('playpen', 5644), ('beleive', 5645), ('npt', 5646), ('ghost', 5647), ('px4', 5648), ('204', 5649), ('9lb', 5650), ('slipping', 5651), ('walnuts', 5652), ('tf', 5653), ('k53e', 5654), ('hugger', 5655), ('spyder', 5656), ('prestige', 5657), ('1tb', 5658), ('winchester', 5659), ('layout', 5660), ('xdrive', 5661), ('knots', 5662), ('braided', 5663), ('leappad2', 5664), ('maxi', 5665), ('cosi', 5666), ('1050', 5667), ('5x4', 5668), ('4in', 5669), ('finepix', 5670), ('speech', 5671), ('georgia', 5672), ('playable', 5673), ('sideways', 5674), ('tilted', 5675), ('tippman', 5676), ('a200', 5677), ('functionality', 5678), ('obd', 5679), ('risers', 5680), ('2020', 5681), ('x64', 5682), ('crosshairs', 5683), ('armband', 5684), ('rose', 5685), ('forerunner', 5686), ('conductors', 5687), ('alternate', 5688), ('witha', 5689), ('froth', 5690), ('kart', 5691), ('footboard', 5692), ('grille', 5693), ('kidding', 5694), ('xdm', 5695), ('p226', 5696), ('poker', 5697), ('february', 5698), ('flammable', 5699), ('cr123a', 5700), ('dusk', 5701), ('bjorn', 5702), ('bite', 5703), ('fellow', 5704), ('lodge', 5705), ('flushable', 5706), ('airlines', 5707), ('dmx', 5708), ('intuos', 5709), ('siii', 5710), ('t217s', 5711), ('k40', 5712), ('1l', 5713), ('clicking', 5714), ('thes', 5715), ('cavalier', 5716), ('lipsticks', 5717), ('s550', 5718), ('oxygen', 5719), ('cakes', 5720), ('catch', 5721), ('respirator', 5722), ('vcr', 5723), ('wcdma', 5724), ('process', 5725), ('improve', 5726), ('towing', 5727), ('seriously', 5728), ('mallet', 5729), ('ticking', 5730), ('sanding', 5731), ('lifted', 5732), ('alaska', 5733), ('jbl', 5734), ('seeing', 5735), ('charm', 5736), ('005', 5737), ('strat', 5738), ('insurance', 5739), ('beverages', 5740), ('lync', 5741), ('facial', 5742), ('roast', 5743), ('assurance', 5744), ('cure', 5745), ('entirely', 5746), ('hertz', 5747), ('precision', 5748), ('fifty', 5749), ('operates', 5750), ('500gb', 5751), ('sportage', 5752), ('amino', 5753), ('conditions', 5754), ('korg', 5755), ('250v', 5756), ('miss', 5757), ('template', 5758), ('tow', 5759), ('3w', 5760), ('batman', 5761), ('logos', 5762), ('coasters', 5763), ('duct', 5764), ('gx', 5765), ('vtx', 5766), ('smoothies', 5767), ('eyeglasses', 5768), ('preset', 5769), ('flights', 5770), ('agm', 5771), ('111', 5772), ('fairly', 5773), ('3600', 5774), ('calf', 5775), ('escort', 5776), ('1000d', 5777), ('pulls', 5778), ('luxury', 5779), ('follow', 5780), ('journal', 5781), ('curio', 5782), ('770', 5783), ('iconia', 5784), ('growing', 5785), ('actuations', 5786), ('jr', 5787), ('62mm', 5788), ('usage', 5789), ('ab', 5790), ('guaranteed', 5791), ('d750', 5792), ('susan', 5793), ('rollator', 5794), ('boxspring', 5795), ('personal', 5796), ('gigabyte', 5797), ('shipments', 5798), ('extremely', 5799), ('4mo', 5800), ('2200', 5801), ('afslr', 5802), ('learn', 5803), ('rink', 5804), ('extinguisher', 5805), ('dect', 5806), ('fuzzy', 5807), ('9ft', 5808), ('christmas', 5809), ('upgrades', 5810), ('koup', 5811), ('alive', 5812), ('trend', 5813), ('altitude', 5814), ('outgoing', 5815), ('editing', 5816), ('expect', 5817), ('lube', 5818), ('lee', 5819), ('msi', 5820), ('quickbooks', 5821), ('15days', 5822), ('ipad3', 5823), ('chromebox', 5824), ('lactose', 5825), ('cancel', 5826), ('sulfates', 5827), ('wink', 5828), ('upholstered', 5829), ('tablespoon', 5830), ('champion', 5831), ('devise', 5832), ('cuba', 5833), ('weighing', 5834), ('meant', 5835), ('chop', 5836), ('xx', 5837), ('cubicle', 5838), ('efficiency', 5839), ('shields', 5840), ('13inch', 5841), ('forehead', 5842), ('e90', 5843), ('splitter', 5844), ('factor', 5845), ('punch', 5846), ('telescopic', 5847), ('microsim', 5848), ('backside', 5849), ('loveseat', 5850), ('carring', 5851), ('nutritional', 5852), ('meaning', 5853), ('coupler', 5854), ('human', 5855), ('galazy', 5856), ('foundation', 5857), ('d810', 5858), ('ill', 5859), ('hero3', 5860), ('adjusting', 5861), ('hem', 5862), ('advanced', 5863), ('damaging', 5864), ('tiger', 5865), ('revision', 5866), ('epoxy', 5867), ('trapes', 5868), ('teal', 5869), ('eddie', 5870), ('tim', 5871), ('subs', 5872), ('fixtures', 5873), ('stones', 5874), ('birthday', 5875), ('pipes', 5876), ('football', 5877), ('offered', 5878), ('ballasts', 5879), ('sharpening', 5880), ('rotary', 5881), ('gain', 5882), ('pixel', 5883), ('jigsaw', 5884), ('become', 5885), ('posters', 5886), ('particleboard', 5887), ('drilled', 5888), ('flowers', 5889), ('fuses', 5890), ('jogging', 5891), ('512mb', 5892), ('pk', 5893), ('convex', 5894), ('concealed', 5895), ('obviously', 5896), ('refer', 5897), ('him', 5898), ('ephedrine', 5899), ('resealable', 5900), ('40d', 5901), ('san', 5902), ('40lb', 5903), ('exercise', 5904), ('presentation', 5905), ('broiler', 5906), ('540', 5907), ('1100d', 5908), ('200mm', 5909), ('race', 5910), ('spouts', 5911), ('hundred', 5912), ('continue', 5913), ('loaf', 5914), ('onions', 5915), ('slave', 5916), ('knowif', 5917), ('25lb', 5918), ('cutout', 5919), ('harp', 5920), ('crunchy', 5921), ('asin', 5922), ('328xi', 5923), ('4pc', 5924), ('clarify', 5925), ('starbucks', 5926), ('scientific', 5927), ('cutoff', 5928), ('septic', 5929), ('senior', 5930), ('toddlers', 5931), ('noticeable', 5932), ('328', 5933), ('krups', 5934), ('telephoto', 5935), ('articulated', 5936), ('16th', 5937), ('served', 5938), ('freshwater', 5939), ('standards', 5940), ('d1', 5941), ('colorless', 5942), ('earth', 5943), ('4500', 5944), ('heigth', 5945), ('equal', 5946), ('ak', 5947), ('standalone', 5948), ('gi', 5949), ('xbmc', 5950), ('hockey', 5951), ('serious', 5952), ('xome', 5953), ('hit', 5954), ('brighter', 5955), ('garageband', 5956), ('bps', 5957), ('bmx', 5958), ('nitrogen', 5959), ('parrot', 5960), ('d821', 5961), ('mane', 5962), ('discrete', 5963), ('xb', 5964), ('portuguese', 5965), ('flashes', 5966), ('functions', 5967), ('awfully', 5968), ('charming', 5969), ('kerosene', 5970), ('etched', 5971), ('cosmetic', 5972), ('neewer', 5973), ('spst', 5974), ('priced', 5975), ('chopper', 5976), ('dues', 5977), ('rio', 5978), ('pinch', 5979), ('sterile', 5980), ('6qt', 5981), ('headlamp', 5982), ('px22', 5983), ('matches', 5984), ('sandpaper', 5985), ('formatted', 5986), ('chargeable', 5987), ('pba', 5988), ('briefs', 5989), ('sells', 5990), ('sandwich', 5991), ('refined', 5992), ('archival', 5993), ('mdr', 5994), ('washington', 5995), ('capital', 5996), ('kabar', 5997), ('768', 5998), ('mass', 5999), ('bidet', 6000), ('kinect', 6001), ('icon', 6002), ('imperial', 6003), ('radeon', 6004), ('singles', 6005), ('slanted', 6006), ('cames', 6007), ('nortel', 6008), ('pic', 6009), ('storing', 6010), ('atv', 6011), ('thunderbird', 6012), ('101', 6013), ('throttle', 6014), ('awning', 6015), ('pentel', 6016), ('dre', 6017), ('700x25mm', 6018), ('700x25c', 6019), ('plans', 6020), ('scalp', 6021), ('concentration', 6022), ('sccy', 6023), ('lots', 6024), ('rattle', 6025), ('p250', 6026), ('harddrive', 6027), ('hoop', 6028), ('grounding', 6029), ('modes', 6030), ('zte', 6031), ('damp', 6032), ('upgradable', 6033), ('runner', 6034), ('40lbs', 6035), ('s959g', 6036), ('18mm', 6037), ('macon', 6038), ('rugged', 6039), ('disconnect', 6040), ('riding', 6041), ('mods', 6042), ('lasagna', 6043), ('dull', 6044), ('a99', 6045), ('footage', 6046), ('hexbug', 6047), ('backdrop', 6048), ('celing', 6049), ('pap', 6050), ('clipping', 6051), ('park', 6052), ('925', 6053), ('e46', 6054), ('hav', 6055), ('digit', 6056), ('combat', 6057), ('bio', 6058), ('nord', 6059), ('camping', 6060), ('ellipsis', 6061), ('asap', 6062), ('spoken', 6063), ('dresses', 6064), ('machete', 6065), ('ruin', 6066), ('dcs', 6067), ('blankets', 6068), ('team', 6069), ('bias', 6070), ('radial', 6071), ('launch', 6072), ('gerber', 6073), ('avh', 6074), ('boiling', 6075), ('cyanocobalamin', 6076), ('ben', 6077), ('lettering', 6078), ('exhibit', 6079), ('8198', 6080), ('beyond', 6081), ('retract', 6082), ('qty', 6083), ('3000k', 6084), ('bats', 6085), ('incipio', 6086), ('a1533', 6087), ('comfy', 6088), ('911', 6089), ('ar15', 6090), ('rugby', 6091), ('j', 6092), ('imput', 6093), ('ver', 6094), ('expensive', 6095), ('h7', 6096), ('4ohms', 6097), ('vinegar', 6098), ('messaging', 6099), ('supplies', 6100), ('stealth', 6101), ('jims', 6102), ('7lbs', 6103), ('bent', 6104), ('mics', 6105), ('feedback', 6106), ('waiting', 6107), ('wats', 6108), ('narrow', 6109), ('petroleum', 6110), ('helment', 6111), ('960h', 6112), ('thigh', 6113), ('185', 6114), ('5200mah', 6115), ('sections', 6116), ('67mm', 6117), ('banner', 6118), ('addition', 6119), ('claim', 6120), ('toasting', 6121), ('willl', 6122), ('removes', 6123), ('polarity', 6124), ('accuracy', 6125), ('puede', 6126), ('f7', 6127), ('hero4', 6128), ('alike', 6129), ('ants', 6130), ('thirty', 6131), ('michigan', 6132), ('bull', 6133), ('fluke', 6134), ('furnace', 6135), ('saab', 6136), ('antennas', 6137), ('coils', 6138), ('pail', 6139), ('ce', 6140), ('mhl', 6141), ('gl', 6142), ('intrinsically', 6143), ('a15', 6144), ('bulky', 6145), ('nailer', 6146), ('fz', 6147), ('stampede', 6148), ('14mm', 6149), ('preinstalled', 6150), ('coolant', 6151), ('tippmann', 6152), ('terminals', 6153), ('lga', 6154), ('k1500', 6155), ('t430', 6156), ('tones', 6157), ('smash', 6158), ('comfort', 6159), ('16x16', 6160), ('rodeo', 6161), ('chartreuse', 6162), ('sole', 6163), ('sinks', 6164), ('recycle', 6165), ('sg', 6166), ('pickups', 6167), ('2400', 6168), ('55w', 6169), ('swiss', 6170), ('sourced', 6171), ('confusing', 6172), ('sedona', 6173), ('snowball', 6174), ('i545', 6175), ('taper', 6176), ('kits', 6177), ('folder', 6178), ('r9', 6179), ('xylitol', 6180), ('tabletop', 6181), ('therapy', 6182), ('deville', 6183), ('skins', 6184), ('laserjet', 6185), ('consider', 6186), ('pakistan', 6187), ('starch', 6188), ('turquoise', 6189), ('6500', 6190), ('telescoping', 6191), ('coop', 6192), ('methylcobalamin', 6193), ('tines', 6194), ('simplified', 6195), ('powercord', 6196), ('um', 6197), ('ikea', 6198), ('perch', 6199), ('3x5', 6200), ('soak', 6201), ('2lbs', 6202), ('reduction', 6203), ('4matic', 6204), ('p3', 6205), ('syringes', 6206), ('kingdom', 6207), ('dji', 6208), ('chicago', 6209), ('metropcs', 6210), ('pi', 6211), ('fd', 6212), ('qx4', 6213), ('ol', 6214), ('described', 6215), ('remotely', 6216), ('stretchy', 6217), ('offers', 6218), ('xti', 6219), ('tread', 6220), ('handgun', 6221), ('diferent', 6222), ('dyed', 6223), ('intall', 6224), ('entry', 6225), ('doug', 6226), ('gran', 6227), ('turismo', 6228), ('nespresso', 6229), ('void', 6230), ('invitations', 6231), ('compostable', 6232), ('laces', 6233), ('duh', 6234), ('noaa', 6235), ('nabi', 6236), ('pixels', 6237), ('logic', 6238), ('pedestal', 6239), ('chewable', 6240), ('wish', 6241), ('10ft', 6242), ('switched', 6243), ('farm', 6244), ('ducks', 6245), ('sliding', 6246), ('mosquitoes', 6247), ('nock', 6248), ('lowrance', 6249), ('10lbs', 6250), ('em', 6251), ('painting', 6252), ('sconce', 6253), ('sistem', 6254), ('topside', 6255), ('1400', 6256), ('island', 6257), ('steerer', 6258), ('icloud', 6259), ('esn', 6260), ('bears', 6261), ('hspa', 6262), ('regions', 6263), ('cx5', 6264), ('radiator', 6265), ('mh', 6266), ('hps', 6267), ('omd', 6268), ('em1', 6269), ('810', 6270), ('recharable', 6271), ('635', 6272), ('customer', 6273), ('accessible', 6274), ('request', 6275), ('astro', 6276), ('sebring', 6277), ('welder', 6278), ('hummer', 6279), ('britain', 6280), ('asdf', 6281), ('dollhouse', 6282), ('8in', 6283), ('seem', 6284), ('andis', 6285), ('650w', 6286), ('1875', 6287), ('eraser', 6288), ('italian', 6289), ('females', 6290), ('vxl', 6291), ('211', 6292), ('dave', 6293), ('skimmer', 6294), ('inductive', 6295), ('nutone', 6296), ('m6', 6297), ('501', 6298), ('numbered', 6299), ('917', 6300), ('anchors', 6301), ('jogger', 6302), ('offset', 6303), ('formaldehyde', 6304), ('illuminate', 6305), ('tripods', 6306), ('tiers', 6307), ('castor', 6308), ('numark', 6309), ('replaces', 6310), ('act', 6311), ('straightener', 6312), ('satisfied', 6313), ('sc', 6314), ('a6', 6315), ('assorted', 6316), ('5x5', 6317), ('quilting', 6318), ('tn', 6319), ('alternator', 6320), ('wmp', 6321), ('stapler', 6322), ('dosage', 6323), ('tightly', 6324), ('bovine', 6325), ('reads', 6326), ('karaoke', 6327), ('sh56', 6328), ('theater', 6329), ('dryable', 6330), ('earbud', 6331), ('secret', 6332), ('qam', 6333), ('wraps', 6334), ('crumb', 6335), ('capasity', 6336), ('underarm', 6337), ('coat', 6338), ('rectangular', 6339), ('wrinkles', 6340), ('compatability', 6341), ('cookbook', 6342), ('centura', 6343), ('finishing', 6344), ('poodle', 6345), ('p600', 6346), ('ammonia', 6347), ('145', 6348), ('umm', 6349), ('toothbrushes', 6350), ('d630', 6351), ('present', 6352), ('cri', 6353), ('flimsy', 6354), ('breakage', 6355), ('depends', 6356), ('ash', 6357), ('voltages', 6358), ('rains', 6359), ('speaking', 6360), ('reconditioned', 6361), ('spirit', 6362), ('lariat', 6363), ('14in', 6364), ('popper', 6365), ('7l', 6366), ('alright', 6367), ('lm', 6368), ('clearly', 6369), ('sponges', 6370), ('experienced', 6371), ('t8', 6372), ('winch', 6373), ('bolted', 6374), ('eggshell', 6375), ('clicker', 6376), ('convoy', 6377), ('30d', 6378), ('dirty', 6379), ('punched', 6380), ('stanley', 6381), ('openers', 6382), ('16g', 6383), ('salicylic', 6384), ('bugaboo', 6385), ('fed', 6386), ('65mm', 6387), ('peice', 6388), ('eletric', 6389), ('304', 6390), ('116', 6391), ('50lbs', 6392), ('srt', 6393), ('fogger', 6394), ('forth', 6395), ('oily', 6396), ('dl', 6397), ('methanol', 6398), ('bbm', 6399), ('relaxed', 6400), ('unassembled', 6401), ('clone', 6402), ('e320', 6403), ('stim', 6404), ('broke', 6405), ('volumn', 6406), ('snooze', 6407), ('58mm', 6408), ('detergent', 6409), ('peppa', 6410), ('i9100', 6411), ('cappucino', 6412), ('triangle', 6413), ('kirby', 6414), ('die', 6415), ('prix', 6416), ('binders', 6417), ('traveling', 6418), ('3597', 6419), ('gsxr', 6420), ('lynx', 6421), ('bounty', 6422), ('borders', 6423), ('minnesota', 6424), ('nova', 6425), ('recharging', 6426), ('vpn', 6427), ('pea', 6428), ('blinking', 6429), ('abroad', 6430), ('30s', 6431), ('goods', 6432), ('recharger', 6433), ('terra', 6434), ('cotta', 6435), ('pint', 6436), ('softer', 6437), ('crossbars', 6438), ('jackets', 6439), ('sauce', 6440), ('lice', 6441), ('3540', 6442), ('melting', 6443), ('kernel', 6444), ('75r17', 6445), ('fleece', 6446), ('powers', 6447), ('lollipops', 6448), ('75mm', 6449), ('tr150', 6450), ('2600', 6451), ('yn', 6452), ('vegans', 6453), ('n7010', 6454), ('bacterial', 6455), ('f100', 6456), ('stays', 6457), ('z30', 6458), ('starcraft', 6459), ('butterfly', 6460), ('planted', 6461), ('cuff', 6462), ('textile', 6463), ('gutter', 6464), ('fulcrum', 6465), ('bersa', 6466), ('pron', 6467), ('hardcover', 6468), ('cafe', 6469), ('2hp', 6470), ('plunge', 6471), ('sri', 6472), ('lanka', 6473), ('tpms', 6474), ('processing', 6475), ('8x11', 6476), ('chew', 6477), ('daughters', 6478), ('soundlink', 6479), ('azerty', 6480), ('ath', 6481), ('rj45', 6482), ('everyday', 6483), ('m16', 6484), ('pushed', 6485), ('bushnell', 6486), ('nuwave', 6487), ('chlorine', 6488), ('eq', 6489), ('nexstar', 6490), ('evolution', 6491), ('npk', 6492), ('crop', 6493), ('jazz', 6494), ('dw', 6495), ('sms', 6496), ('ting', 6497), ('backed', 6498), ('smoking', 6499), ('generate', 6500), ('445', 6501), ('fox', 6502), ('boiler', 6503), ('rig', 6504), ('cfd', 6505), ('decals', 6506), ('smudge', 6507), ('directional', 6508), ('2oz', 6509), ('6oz', 6510), ('stc', 6511), ('chek', 6512), ('betcha', 6513), ('eosm', 6514), ('2019', 6515), ('conventional', 6516), ('powerd', 6517), ('1250', 6518), ('leatherette', 6519), ('seatbelt', 6520), ('photocell', 6521), ('offcourse', 6522), ('accurately', 6523), ('leveling', 6524), ('war', 6525), ('q2400', 6526), ('nickle', 6527), ('sleeper', 6528), ('walled', 6529), ('availability', 6530), ('475', 6531), ('stills', 6532), ('mildew', 6533), ('g650gs', 6534), ('nighthawk', 6535), ('chopsticks', 6536), ('tuners', 6537), ('oversize', 6538), ('blending', 6539), ('rtr', 6540), ('figma', 6541), ('dump', 6542), ('jpeg', 6543), ('40ml', 6544), ('altra', 6545), ('instinct', 6546), ('alero', 6547), ('organize', 6548), ('college', 6549), ('aka', 6550), ('crystals', 6551), ('brownie', 6552), ('todo', 6553), ('braid', 6554), ('postal', 6555), ('holiday', 6556), ('gets', 6557), ('selector', 6558), ('0l', 6559), ('tvl', 6560), ('trumpet', 6561), ('mathews', 6562), ('recommendations', 6563), ('dmw', 6564), ('objects', 6565), ('gourmet', 6566), ('joy', 6567), ('q5', 6568), ('u2', 6569), ('1983', 6570), ('stripper', 6571), ('repel', 6572), ('frogs', 6573), ('signature', 6574), ('jd', 6575), ('mt', 6576), ('configured', 6577), ('800w', 6578), ('instruments', 6579), ('houston', 6580), ('x54c', 6581), ('showerhead', 6582), ('neptune', 6583), ('preemie', 6584), ('chambers', 6585), ('onstar', 6586), ('monkey', 6587), ('aggregation', 6588), ('automotive', 6589), ('subtitules', 6590), ('myself', 6591), ('i535', 6592), ('weekly', 6593), ('gxe', 6594), ('ati', 6595), ('bun', 6596), ('hrm', 6597), ('argan', 6598), ('notebooks', 6599), ('5ghz', 6600), ('ozonator', 6601), ('rws', 6602), ('7s', 6603), ('3300', 6604), ('po', 6605), ('grilling', 6606), ('soundbot', 6607), ('sb270', 6608), ('clones', 6609), ('coyote', 6610), ('countdown', 6611), ('tris', 6612), ('exposures', 6613), ('f8hp', 6614), ('plunger', 6615), ('701', 6616), ('kitkat', 6617), ('ch', 6618), ('protac', 6619), ('framed', 6620), ('sassy', 6621), ('5r', 6622), ('ue', 6623), ('325xi', 6624), ('dials', 6625), ('raquet', 6626), ('rollerblades', 6627), ('canisters', 6628), ('chev', 6629), ('sl1', 6630), ('a1387', 6631), ('merle', 6632), ('norman', 6633), ('6500k', 6634), ('beta', 6635), ('skid', 6636), ('routers', 6637), ('sounddock', 6638), ('lux', 6639), ('pee', 6640), ('handguns', 6641), ('matrix', 6642), ('consoles', 6643), ('spacer', 6644), ('pros', 6645), ('eps', 6646), ('retain', 6647), ('odors', 6648), ('breville', 6649), ('insignia', 6650), ('policy', 6651), ('labled', 6652), ('19v', 6653), ('proform', 6654), ('knot', 6655), ('greece', 6656), ('wristlet', 6657), ('husband', 6658), ('fo', 6659), ('5600', 6660), ('lounge', 6661), ('antiglare', 6662), ('diping', 6663), ('sd9ve', 6664), ('xe', 6665), ('ativ', 6666), ('anna', 6667), ('salad', 6668), ('11oz', 6669), ('resmed', 6670), ('finest', 6671), ('thinnest', 6672), ('ultrafire', 6673), ('123', 6674), ('sheaths', 6675), ('rub', 6676), ('shrimp', 6677), ('256', 6678), ('student', 6679), ('singly', 6680), ('1080i', 6681), ('compatabile', 6682), ('ddr2', 6683), ('pig', 6684), ('gator', 6685), ('chaise', 6686), ('hhr', 6687), ('presets', 6688), ('wut', 6689), ('century', 6690), ('accesories', 6691), ('a1342', 6692), ('sea', 6693), ('headcover', 6694), ('fs', 6695), ('ribs', 6696), ('stitching', 6697), ('climbing', 6698), ('serum', 6699), ('reliability', 6700), ('standar', 6701), ('standby', 6702), ('hisense', 6703), ('std', 6704), ('350mg', 6705), ('qualify', 6706), ('granulated', 6707), ('micellar', 6708), ('recorded', 6709), ('cling', 6710), ('diecast', 6711), ('header', 6712), ('perfecto', 6713), ('g510', 6714), ('attic', 6715), ('14r0n4010', 6716), ('nicad', 6717), ('dna', 6718), ('preheat', 6719), ('locker', 6720), ('6g', 6721), ('c41', 6722), ('saying', 6723), ('mouthpiece', 6724), ('decline', 6725), ('pulp', 6726), ('styrofoam', 6727), ('suits', 6728), ('adaptable', 6729), ('ebony', 6730), ('elliptical', 6731), ('captain', 6732), ('fc40', 6733), ('vaginal', 6734), ('gliders', 6735), ('solitaire', 6736), ('streak', 6737), ('sends', 6738), ('antique', 6739), ('projectiles', 6740), ('vgn', 6741), ('kor', 6742), ('saucepan', 6743), ('audiobooks', 6744), ('frog', 6745), ('transmiter', 6746), ('doctor', 6747), ('24inch', 6748), ('l655', 6749), ('fanless', 6750), ('p520', 6751), ('audiovox', 6752), ('mbp', 6753), ('cat5', 6754), ('minis', 6755), ('espon', 6756), ('shpping', 6757), ('bilt', 6758), ('visual', 6759), ('herstyler', 6760), ('wen', 6761), ('planet', 6762), ('stx', 6763), ('lava', 6764), ('4aa', 6765), ('vera', 6766), ('operator', 6767), ('perfectamente', 6768), ('casein', 6769), ('wise', 6770), ('289', 6771), ('bows', 6772), ('shellfish', 6773), ('given', 6774), ('wdbaaa5000abk', 6775), ('jst', 6776), ('makers', 6777), ('perego', 6778), ('weed', 6779), ('phoenix', 6780), ('312', 6781), ('wholesale', 6782), ('apparently', 6783), ('emerson', 6784), ('sump', 6785), ('enteric', 6786), ('tilting', 6787), ('wih', 6788), ('exelente', 6789), ('omron', 6790), ('volte', 6791), ('replacable', 6792), ('rapid', 6793), ('repeater', 6794), ('cushioning', 6795), ('lockset', 6796), ('hungary', 6797), ('ttl', 6798), ('830', 6799), ('truffles', 6800), ('centipede', 6801), ('kreg', 6802), ('intensity', 6803), ('retinol', 6804), ('spotting', 6805), ('pressboard', 6806), ('transom', 6807), ('paintable', 6808), ('beautiful', 6809), ('20w', 6810), ('lazy', 6811), ('pug', 6812), ('jumps', 6813), ('subwoofers', 6814), ('pyle', 6815), ('717', 6816), ('pottery', 6817), ('hubs', 6818), ('pond', 6819), ('annuals', 6820), ('perennials', 6821), ('libido', 6822), ('barrier', 6823), ('highlight', 6824), ('tm', 6825), ('backlighting', 6826), ('reply', 6827), ('rebuilt', 6828), ('cruz', 6829), ('wiht', 6830), ('zagg', 6831), ('cutaway', 6832), ('distiller', 6833), ('carriage', 6834), ('stat', 6835), ('speedlight', 6836), ('osd', 6837), ('isofix', 6838), ('a23', 6839), ('ken', 6840), ('thankyou', 6841), ('puff', 6842), ('stale', 6843), ('extenders', 6844), ('masterbuilt', 6845), ('farenheit', 6846), ('lensbaby', 6847), ('goji', 6848), ('berries', 6849), ('vudu', 6850), ('preservatives', 6851), ('labeling', 6852), ('bravia', 6853), ('balm', 6854), ('wight', 6855), ('carbide', 6856), ('rcbs', 6857), ('compartible', 6858), ('pigment', 6859), ('1600x900', 6860), ('sings', 6861), ('matters', 6862), ('cherries', 6863), ('sdcard', 6864), ('jp', 6865), ('cfl', 6866), ('carlo', 6867), ('razer', 6868), ('clipped', 6869), ('whcf', 6870), ('hdcp', 6871), ('tears', 6872), ('gh4', 6873), ('arrived', 6874), ('139', 6875), ('cacoa', 6876), ('nx210', 6877), ('styling', 6878), ('eject', 6879), ('shockproof', 6880), ('climates', 6881), ('3feet', 6882), ('wr', 6883), ('mew', 6884), ('28x16', 6885), ('hobart', 6886), ('spotify', 6887), ('325ci', 6888), ('seater', 6889), ('grooved', 6890), ('understand', 6891), ('kelp', 6892), ('harvested', 6893), ('norway', 6894), ('brasil', 6895), ('remover', 6896), ('xt912', 6897), ('cp', 6898), ('circa', 6899), ('ease', 6900), ('helped', 6901), ('laundered', 6902), ('vegtables', 6903), ('yoke', 6904), ('keyboards', 6905), ('babysitter', 6906), ('squats', 6907), ('weedeater', 6908), ('checks', 6909), ('md101', 6910), ('552', 6911), ('recumbent', 6912), ('wrapping', 6913), ('sirus', 6914), ('monsters', 6915), ('28mm', 6916), ('xls', 6917), ('crosshair', 6918), ('oct', 6919), ('cozy', 6920), ('anatomically', 6921), ('indented', 6922), ('streaming', 6923), ('laurel', 6924), ('tourney', 6925), ('tx35', 6926), ('derailleur', 6927), ('rabbit', 6928), ('itouch', 6929), ('pupil', 6930), ('gague', 6931), ('courses', 6932), ('ridges', 6933), ('2door', 6934), ('cartriges', 6935), ('trolling', 6936), ('known', 6937), ('4oz', 6938), ('safelink', 6939), ('battle', 6940), ('75x31', 6941), ('creatine', 6942), ('walkera', 6943), ('h500', 6944), ('garanty', 6945), ('medline', 6946), ('totaling', 6947), ('512', 6948), ('milled', 6949), ('electronics', 6950), ('hemp', 6951), ('idle', 6952), ('backdrops', 6953), ('prelude', 6954), ('162', 6955), ('vivitar', 6956), ('incredible', 6957), ('backsplash', 6958), ('118', 6959), ('batery', 6960), ('sportman', 6961), ('manifold', 6962), ('inform', 6963), ('butler', 6964), ('keystone', 6965), ('atmos', 6966), ('sine', 6967), ('beard', 6968), ('bricks', 6969), ('sidewinder', 6970), ('sct', 6971), ('forwarding', 6972), ('sprinkler', 6973), ('r16', 6974), ('ae', 6975), ('granules', 6976), ('trainee', 6977), ('spektrum', 6978), ('hips', 6979), ('thompson', 6980), ('sprayed', 6981), ('128gb', 6982), ('9005', 6983), ('bracelets', 6984), ('musical', 6985), ('billet', 6986), ('wht', 6987), ('cycling', 6988), ('crome', 6989), ('designs', 6990), ('199', 6991), ('l330', 6992), ('delicious', 6993), ('zombies', 6994), ('h97', 6995), ('alarms', 6996), ('shoulders', 6997), ('usb3', 6998), ('launcher', 6999), ('dehumidifier', 7000), ('doorway', 7001), ('wth', 7002), ('atlanta', 7003), ('20d', 7004), ('bvmc', 7005), ('8500', 7006), ('aptx', 7007), ('dispense', 7008), ('mites', 7009), ('intex', 7010), ('poundage', 7011), ('raptor', 7012), ('seek', 7013), ('r970', 7014), ('wing', 7015), ('150lbs', 7016), ('kilometers', 7017), ('4dr', 7018), ('batterie', 7019), ('rx100', 7020), ('15lbs', 7021), ('5x', 7022), ('thermocouple', 7023), ('hahaha', 7024), ('sulfur', 7025), ('2inches', 7026), ('mi', 7027), ('draws', 7028), ('10x10', 7029), ('parent', 7030), ('moth', 7031), ('avery', 7032), ('closet', 7033), ('4v', 7034), ('trackpad', 7035), ('tcp', 7036), ('a330', 7037), ('buffalo', 7038), ('downlaod', 7039), ('downloads', 7040), ('slimy', 7041), ('apron', 7042), ('b3', 7043), ('100w', 7044), ('400w', 7045), ('husky', 7046), ('16k', 7047), ('j4', 7048), ('wobble', 7049), ('netherlands', 7050), ('226', 7051), ('dumbbell', 7052), ('mylar', 7053), ('eat', 7054), ('subscribe', 7055), ('horses', 7056), ('cows', 7057), ('tb', 7058), ('precedent', 7059), ('fort', 7060), ('nx420', 7061), ('18650', 7062), ('bucks', 7063), ('ppq', 7064), ('lighters', 7065), ('strawberry', 7066), ('conector', 7067), ('nyx', 7068), ('porch', 7069), ('050', 7070), ('zoomable', 7071), ('feels', 7072), ('aeg', 7073), ('pluged', 7074), ('manuel', 7075), ('claro', 7076), ('tigo', 7077), ('microscope', 7078), ('paded', 7079), ('skip', 7080), ('con', 7081), ('brands', 7082), ('enternet', 7083), ('peewee', 7084), ('magna', 7085), ('thirteen', 7086), ('stockings', 7087), ('perm', 7088), ('pliers', 7089), ('130lbs', 7090), ('1366', 7091), ('md', 7092), ('catagory', 7093), ('2650', 7094), ('725', 7095), ('royal', 7096), ('typewriter', 7097), ('x100t', 7098), ('hongkong', 7099), ('penny', 7100), ('palette', 7101), ('545', 7102), ('sapphire', 7103), ('blunt', 7104), ('9000', 7105), ('antifreeze', 7106), ('dd', 7107), ('deadbolt', 7108), ('ns', 7109), ('sweeteners', 7110), ('diffusers', 7111), ('alluminio', 7112), ('beginners', 7113), ('enlarge', 7114), ('ea', 7115), ('describe', 7116), ('windowed', 7117), ('screwed', 7118), ('win7', 7119), ('guinea', 7120), ('solomon', 7121), ('lrg', 7122), ('fn', 7123), ('air2', 7124), ('xr', 7125), ('dollars', 7126), ('snake', 7127), ('bunny', 7128), ('blanks', 7129), ('600mg', 7130), ('claw', 7131), ('vm0103', 7132), ('externally', 7133), ('mam', 7134), ('confirmation', 7135), ('picatiny', 7136), ('x22', 7137), ('mandolin', 7138), ('s5200', 7139), ('gels', 7140), ('zilch', 7141), ('overheating', 7142), ('c735804180t', 7143), ('1024', 7144), ('corks', 7145), ('sennheiser', 7146), ('ezgo', 7147), ('x9', 7148), ('dynasty', 7149), ('1366x768', 7150), ('15r', 7151), ('playtex', 7152), ('gradient', 7153), ('7200rpm', 7154), ('canning', 7155), ('cork', 7156), ('areas', 7157), ('reaches', 7158), ('purse', 7159), ('trouble', 7160), ('wh', 7161), ('maca', 7162), ('3x', 7163), ('arizona', 7164), ('hmr', 7165), ('20g', 7166), ('yarn', 7167), ('tension', 7168), ('lab', 7169), ('pointed', 7170), ('supplement', 7171), ('sweeper', 7172), ('3100', 7173), ('100s', 7174), ('beads', 7175), ('simon', 7176), ('chemicals', 7177), ('further', 7178), ('partitioned', 7179), ('750ml', 7180), ('ops', 7181), ('hows', 7182), ('widows', 7183), ('pmags', 7184), ('discontinued', 7185), ('regulation', 7186), ('nascar', 7187), ('fz70', 7188), ('bayou', 7189), ('jerky', 7190), ('x11', 7191), ('bridgeable', 7192), ('fertilizer', 7193), ('24mm', 7194), ('9688', 7195), ('131', 7196), ('rebar', 7197), ('touchsmart', 7198), ('fin', 7199), ('goo', 7200), ('souls', 7201), ('fragile', 7202), ('nx1000', 7203), ('probiotic', 7204), ('licenses', 7205), ('duration', 7206), ('limits', 7207), ('7g', 7208), ('etrex', 7209), ('ptz', 7210), ('jimmy', 7211), ('13in', 7212), ('sheetrock', 7213), ('teenagers', 7214), ('capacitor', 7215), ('uruguay', 7216), ('305', 7217), ('48v', 7218), ('ide', 7219), ('tummy', 7220), ('adapt', 7221), ('pakage', 7222), ('80mm', 7223), ('sram', 7224), ('puller', 7225), ('ematic', 7226), ('axe', 7227), ('stopwatch', 7228), ('aspect', 7229), ('whitening', 7230), ('fw', 7231), ('apx', 7232), ('4x', 7233), ('crimps', 7234), ('hamburger', 7235), ('7in', 7236), ('insides', 7237), ('g42', 7238), ('border', 7239), ('attaches', 7240), ('unscrewed', 7241), ('ribbons', 7242), ('fitment', 7243), ('discreetly', 7244), ('notice', 7245), ('aerator', 7246), ('500ml', 7247), ('rival', 7248), ('4qt', 7249), ('worm', 7250), ('fisheye', 7251), ('toronto', 7252), ('bagel', 7253), ('mms', 7254), ('ecru', 7255), ('chromebooks', 7256), ('blowing', 7257), ('twice', 7258), ('wow', 7259), ('660', 7260), ('protien', 7261), ('tensioner', 7262), ('trade', 7263), ('exl', 7264), ('cadence', 7265), ('rows', 7266), ('flatware', 7267), ('living', 7268), ('tt', 7269), ('figurine', 7270), ('retracted', 7271), ('e1', 7272), ('unfortunatly', 7273), ('shanks', 7274), ('turns', 7275), ('dolly', 7276), ('1533', 7277), ('dum', 7278), ('forcus', 7279), ('zmodo', 7280), ('gta', 7281), ('whatever', 7282), ('tamron', 7283), ('coffe', 7284), ('originate', 7285), ('winds', 7286), ('10watts', 7287), ('ledger', 7288), ('volo', 7289), ('pix', 7290), ('goodnight', 7291), ('automaticly', 7292), ('ksm6573ccu', 7293), ('keyfit', 7294), ('deminsions', 7295), ('softbox', 7296), ('gms', 7297), ('appears', 7298), ('spine', 7299), ('funtion', 7300), ('binding', 7301), ('manuals', 7302), ('chandelier', 7303), ('decibels', 7304), ('temperatures', 7305), ('especially', 7306), ('modern', 7307), ('offs', 7308), ('sales', 7309), ('beat', 7310), ('survive', 7311), ('maintain', 7312), ('opposite', 7313), ('codec', 7314), ('a2dp', 7315), ('2x4', 7316), ('seedlings', 7317), ('a01', 7318), ('elsewhere', 7319), ('rh', 7320), ('arthrospira', 7321), ('lady', 7322), ('licensed', 7323), ('220vac', 7324), ('venting', 7325), ('stink', 7326), ('envelope', 7327), ('burnt', 7328), ('skateboard', 7329), ('cronus', 7330), ('throughout', 7331), ('chickens', 7332), ('f2', 7333), ('kelvin', 7334), ('700c', 7335), ('durant', 7336), ('linked', 7337), ('baterry', 7338), ('ef', 7339), ('bolthouse', 7340), ('sat', 7341), ('cq61', 7342), ('wayne', 7343), ('dalton', 7344), ('lanterns', 7345), ('crabgrass', 7346), ('landline', 7347), ('msata', 7348), ('tortilla', 7349), ('eyebrows', 7350), ('apc', 7351), ('bissell', 7352), ('massager', 7353), ('polypropylene', 7354), ('290', 7355), ('600mm', 7356), ('4pieces', 7357), ('respond', 7358), ('bilingual', 7359), ('b2', 7360), ('frequently', 7361), ('chevelle', 7362), ('jumpers', 7363), ('xoom', 7364), ('0z', 7365), ('bungee', 7366), ('inspirion', 7367), ('patriot', 7368), ('captioning', 7369), ('531', 7370), ('crayola', 7371), ('correction', 7372), ('plastics', 7373), ('oiled', 7374), ('wrx', 7375), ('m919', 7376), ('infuse', 7377), ('c3', 7378), ('hasnt', 7379), ('wild', 7380), ('magnified', 7381), ('frigidaire', 7382), ('800s', 7383), ('paws', 7384), ('econoline', 7385), ('65281', 7386), ('counts', 7387), ('chauvet', 7388), ('admire', 7389), ('catalytic', 7390), ('carl', 7391), ('bulgaria', 7392), ('suggest', 7393), ('votage', 7394), ('433', 7395), ('10th', 7396), ('wick', 7397), ('amplified', 7398), ('thhis', 7399), ('225lbs', 7400), ('foreign', 7401), ('apples', 7402), ('upon', 7403), ('3pin', 7404), ('ins', 7405), ('god', 7406), ('carousel', 7407), ('12ga', 7408), ('spline', 7409), ('bib', 7410), ('g36c', 7411), ('vue', 7412), ('212', 7413), ('potable', 7414), ('exploer', 7415), ('bending', 7416), ('written', 7417), ('tony', 7418), ('lifting', 7419), ('blurays', 7420), ('dimention', 7421), ('extractor', 7422), ('gum', 7423), ('ireland', 7424), ('voices', 7425), ('mc', 7426), ('melissa', 7427), ('gf', 7428), ('60w', 7429), ('husbnd', 7430), ('aerobics', 7431), ('protecter', 7432), ('following', 7433), ('25x14', 7434), ('gone', 7435), ('picasso', 7436), ('firebird', 7437), ('molex', 7438), ('privacy', 7439), ('hibiscus', 7440), ('boiled', 7441), ('talkies', 7442), ('hugo', 7443), ('digitalizer', 7444), ('mints', 7445), ('tnks', 7446), ('melatonin', 7447), ('unflavored', 7448), ('ota', 7449), ('usm', 7450), ('tab3', 7451), ('slicing', 7452), ('dime', 7453), ('cougar', 7454), ('d802', 7455), ('700x32c', 7456), ('tier', 7457), ('flute', 7458), ('x61f', 7459), ('qr', 7460), ('skewers', 7461), ('1155', 7462), ('grits', 7463), ('ls980', 7464), ('dolce', 7465), ('armoire', 7466), ('the3', 7467), ('15cm', 7468), ('imaging', 7469), ('elmo', 7470), ('concentrate', 7471), ('gooseneck', 7472), ('fitness', 7473), ('wa', 7474), ('192', 7475), ('environment', 7476), ('kilos', 7477), ('estimate', 7478), ('bookshelf', 7479), ('nutri', 7480), ('espa', 7481), ('13x15', 7482), ('920', 7483), ('oscillate', 7484), ('72mm', 7485), ('george', 7486), ('ariens', 7487), ('owl', 7488), ('damaged', 7489), ('beverage', 7490), ('jm', 7491), ('e620', 7492), ('luck', 7493), ('shifter', 7494), ('crankset', 7495), ('spell', 7496), ('oder', 7497), ('b5', 7498), ('saga', 7499), ('knockoff', 7500), ('scribe', 7501), ('1kg', 7502), ('schedules', 7503), ('2l', 7504), ('shattered', 7505), ('1969', 7506), ('aerosol', 7507), ('quanity', 7508), ('sf', 7509), ('dominoes', 7510), ('4821', 7511), ('lasabre', 7512), ('montero', 7513), ('435', 7514), ('accomidate', 7515), ('avenger', 7516), ('26x21', 7517), ('mineral', 7518), ('darn', 7519), ('mambe', 7520), ('ladle', 7521), ('bikini', 7522), ('wt', 7523), ('playstore', 7524), ('exodia', 7525), ('past', 7526), ('milimeters', 7527), ('ajustable', 7528), ('blocking', 7529), ('airbag', 7530), ('campaign', 7531), ('nicd', 7532), ('c720', 7533), ('difficulty', 7534), ('sansung', 7535), ('jags', 7536), ('4et03', 7537), ('120w', 7538), ('220w', 7539), ('cleansing', 7540), ('flies', 7541), ('expression', 7542), ('eyelashes', 7543), ('technical', 7544), ('daypack', 7545), ('floats', 7546), ('stamping', 7547), ('engraving', 7548), ('410a', 7549), ('leopard', 7550), ('ingrediants', 7551), ('filming', 7552), ('vinyls', 7553), ('havent', 7554), ('acceptable', 7555), ('workouts', 7556), ('miracast', 7557), ('xxs', 7558), ('clk', 7559), ('8600', 7560), ('ridge', 7561), ('d610', 7562), ('vegetable', 7563), ('glassed', 7564), ('proportional', 7565), ('greens', 7566), ('typo', 7567), ('ap', 7568), ('loc', 7569), ('ramps', 7570), ('tethering', 7571), ('stride', 7572), ('roasted', 7573), ('embossed', 7574), ('ccfl', 7575), ('toothpaste', 7576), ('a55', 7577), ('inks', 7578), ('definition', 7579), ('480w', 7580), ('spen', 7581), ('phthalates', 7582), ('orion', 7583), ('backyard', 7584), ('tropical', 7585), ('creme', 7586), ('monroe', 7587), ('planner', 7588), ('senseo', 7589), ('finishes', 7590), ('c855d', 7591), ('takara', 7592), ('ebooks', 7593), ('tarp', 7594), ('cambodia', 7595), ('ballistic', 7596), ('tickets', 7597), ('broan', 7598), ('broadhead', 7599), ('2in', 7600), ('tar', 7601), ('6x', 7602), ('megapixel', 7603), ('lightbulbs', 7604), ('mavericks', 7605), ('shortest', 7606), ('drywall', 7607), ('675m', 7608), ('12x16', 7609), ('oars', 7610), ('darken', 7611), ('caffiene', 7612), ('sources', 7613), ('figurines', 7614), ('verse', 7615), ('emit', 7616), ('ri', 7617), ('showing', 7618), ('allergens', 7619), ('carts', 7620), ('370', 7621), ('important', 7622), ('cca', 7623), ('5x8', 7624), ('428i', 7625), ('faucets', 7626), ('piston', 7627), ('collector', 7628), ('moldova', 7629), ('sniper', 7630), ('hybrids', 7631), ('programmer', 7632), ('cranking', 7633), ('argon', 7634), ('wilson', 7635), ('surfboard', 7636), ('toned', 7637), ('girls', 7638), ('kidoozie', 7639), ('ascend', 7640), ('embedded', 7641), ('westinghouse', 7642), ('adding', 7643), ('haha', 7644), ('sodastream', 7645), ('simulator', 7646), ('broadheads', 7647), ('sears', 7648), ('stationery', 7649), ('kai', 7650), ('telus', 7651), ('suggetions', 7652), ('glaxy', 7653), ('said', 7654), ('eotechs', 7655), ('remain', 7656), ('lancets', 7657), ('hardness', 7658), ('broadcast', 7659), ('octaves', 7660), ('salvo', 7661), ('diablo', 7662), ('9b', 7663), ('rebounder', 7664), ('vessel', 7665), ('vip', 7666), ('skating', 7667), ('6in', 7668), ('hidden', 7669), ('ordering', 7670), ('polycarbonate', 7671), ('960', 7672), ('incluid', 7673), ('bimini', 7674), ('bristle', 7675), ('8x10', 7676), ('sewing', 7677), ('connects', 7678), ('vtec', 7679), ('mexican', 7680), ('panic', 7681), ('470', 7682), ('yas', 7683), ('toslink', 7684), ('sawyer', 7685), ('slant', 7686), ('radials', 7687), ('duplicates', 7688), ('eclipse', 7689), ('readings', 7690), ('hardener', 7691), ('belly', 7692), ('1m', 7693), ('radiant', 7694), ('skinny', 7695), ('9006', 7696), ('struts', 7697), ('i9500', 7698), ('h20', 7699), ('brow', 7700), ('racing', 7701), ('sage', 7702), ('plaid', 7703), ('xtra', 7704), ('legendary', 7705), ('10w', 7706), ('uhf', 7707), ('falling', 7708), ('4door', 7709), ('264', 7710), ('treats', 7711), ('receptacle', 7712), ('syringe', 7713), ('moderate', 7714), ('norpro', 7715), ('journey', 7716), ('taylor', 7717), ('9oz', 7718), ('r2', 7719), ('2amp', 7720), ('sfp', 7721), ('800g', 7722), ('anodized', 7723), ('vx', 7724), ('tennis', 7725), ('sunlight', 7726), ('massachusetts', 7727), ('farmers', 7728), ('revere', 7729), ('keyhole', 7730), ('csa', 7731), ('123456', 7732), ('raid', 7733), ('ferrous', 7734), ('innerspring', 7735), ('controll', 7736), ('strapped', 7737), ('identical', 7738), ('powerpoint', 7739), ('sky', 7740), ('gryphon', 7741), ('manfrotto', 7742), ('jewelry', 7743), ('reliable', 7744), ('independently', 7745), ('deh', 7746), ('trellis', 7747), ('10qt', 7748), ('pony', 7749), ('10x20', 7750), ('nz', 7751), ('assortment', 7752), ('swipe', 7753), ('lmt', 7754), ('razors', 7755), ('urine', 7756), ('15mm', 7757), ('928', 7758), ('rite', 7759), ('voyager', 7760), ('seals', 7761), ('vegas', 7762), ('tocoma', 7763), ('iacute', 7764), ('tek', 7765), ('silica', 7766), ('5i', 7767), ('eaa', 7768), ('1987', 7769), ('footprints', 7770), ('910', 7771), ('mines', 7772), ('batch', 7773), ('casserole', 7774), ('accelerator', 7775), ('tightening', 7776), ('1050w', 7777), ('rec', 7778), ('minor', 7779), ('potato', 7780), ('merica', 7781), ('mach', 7782), ('trio', 7783), ('wrinkle', 7784), ('vodka', 7785), ('yugo', 7786), ('humminbird', 7787), ('trimming', 7788), ('snapchat', 7789), ('jambox', 7790), ('converted', 7791), ('shelve', 7792), ('e970', 7793), ('5w', 7794), ('canoe', 7795), ('nordic', 7796), ('denatured', 7797), ('assemblies', 7798), ('batteris', 7799), ('staples', 7800), ('celcius', 7801), ('limbsaver', 7802), ('yj', 7803), ('weels', 7804), ('sleekbook', 7805), ('vic', 7806), ('pearl', 7807), ('brewed', 7808), ('residential', 7809), ('additives', 7810), ('80g', 7811), ('warn', 7812), ('lag', 7813), ('lightening', 7814), ('monoxide', 7815), ('continuously', 7816), ('rin', 7817), ('modification', 7818), ('panorama', 7819), ('prado', 7820), ('tocopheryl', 7821), ('mandarin', 7822), ('plexiglass', 7823), ('toasted', 7824), ('homemade', 7825), ('effectively', 7826), ('a5000', 7827), ('pigs', 7828), ('dragons', 7829), ('gddr5', 7830), ('directed', 7831), ('sandy', 7832), ('tracing', 7833), ('plex', 7834), ('cat6', 7835), ('bunn', 7836), ('hourglass', 7837), ('oaid', 7838), ('questions', 7839), ('4bar', 7840), ('halal', 7841), ('furbish', 7842), ('steinernema', 7843), ('gohan', 7844), ('shifters', 7845), ('eva', 7846), ('perfec', 7847), ('f6', 7848), ('tarnish', 7849), ('rdx', 7850), ('flop', 7851), ('reflector', 7852), ('species', 7853), ('6cm', 7854), ('concreting', 7855), ('toilets', 7856), ('1025w', 7857), ('ssb', 7858), ('psn', 7859), ('carpeting', 7860), ('smokeless', 7861), ('fiberboard', 7862), ('accidents', 7863), ('venza', 7864), ('20mm', 7865), ('cpap', 7866), ('205w', 7867), ('tervis', 7868), ('noted', 7869), ('tcx905', 7870), ('shattering', 7871), ('yesir', 7872), ('hyhi', 7873), ('moen', 7874), ('elph', 7875), ('imei', 7876), ('126', 7877), ('battteries', 7878), ('appr', 7879), ('submersable', 7880), ('255', 7881), ('tabbed', 7882), ('avi', 7883), ('gypsum', 7884), ('perimeter', 7885), ('stamper', 7886), ('rotozip', 7887), ('tss', 7888), ('inhale', 7889), ('sliver', 7890), ('sheepskin', 7891), ('airtime', 7892), ('grooming', 7893), ('tr100', 7894), ('tr', 7895), ('ported', 7896), ('labs', 7897), ('curcumin', 7898), ('elitebook', 7899), ('l720t', 7900), ('snugride', 7901), ('rb', 7902), ('quicken', 7903), ('k75', 7904), ('123a', 7905), ('wilt', 7906), ('rs232', 7907), ('vp', 7908), ('hornady', 7909), ('cubbies', 7910), ('1101', 7911), ('colemans', 7912), ('exterminator', 7913), ('championships', 7914), ('repo', 7915), ('happiness', 7916), ('roxio', 7917), ('inlcude', 7918), ('thunder', 7919), ('pointer', 7920), ('union', 7921), ('pokemon', 7922), ('840', 7923), ('525', 7924), ('broom', 7925), ('11o', 7926), ('transportation', 7927), ('lc103', 7928), ('i19506', 7929), ('wildfire', 7930), ('straining', 7931), ('sap', 7932), ('kdc', 7933), ('doea', 7934), ('meow', 7935), ('lll', 7936), ('texting', 7937), ('p105', 7938), ('geek', 7939), ('devo', 7940), ('amberen', 7941), ('yeahh', 7942), ('grids', 7943), ('inversion', 7944), ('baffle', 7945), ('trick', 7946), ('powerseeker', 7947), ('175lbs', 7948), ('hca', 7949), ('dumbell', 7950), ('l23', 7951), ('rocket', 7952), ('viewed', 7953), ('affinity', 7954), ('assembling', 7955), ('plumbing', 7956), ('ruler', 7957), ('expeller', 7958), ('absolutley', 7959), ('management', 7960), ('12lbs', 7961), ('iis', 7962), ('switchback', 7963), ('decoration', 7964), ('vendor', 7965), ('whem', 7966), ('ascorbic', 7967), ('so5', 7968), ('kuerig', 7969), ('herb', 7970), ('pl1', 7971), ('feathers', 7972), ('tangerine', 7973), ('omnidirectional', 7974), ('omni', 7975), ('mashed', 7976), ('season', 7977), ('dlcs', 7978), ('immersed', 7979), ('parachute', 7980), ('t450', 7981), ('ppm', 7982), ('391', 7983), ('6822', 7984), ('burgers', 7985), ('600w', 7986), ('4094', 7987), ('20th', 7988), ('6140f', 7989), ('k2', 7990), ('1156', 7991), ('x74', 7992), ('wefted', 7993), ('stripe', 7994), ('scraper', 7995), ('welding', 7996), ('bicycling', 7997), ('mia', 7998), ('verifone', 7999), ('manufatured', 8000), ('wmh31017ab', 8001), ('bery', 8002), ('skyrim', 8003), ('vonage', 8004), ('conflicting', 8005), ('bg', 8006), ('9900', 8007), ('pn60f8500', 8008), ('keyring', 8009), ('unzipped', 8010), ('7520', 8011), ('warner', 8012), ('registration', 8013), ('shoots', 8014), ('p610', 8015), ('ek', 8016), ('silence', 8017), ('100ml', 8018), ('duplos', 8019), ('carageenan', 8020), ('12000mah', 8021), ('wah', 8022), ('toggle', 8023), ('nsx', 8024), ('32gt1', 8025), ('cs', 8026), ('substantial', 8027), ('calendered', 8028), ('roofs', 8029), ('blutooth', 8030), ('amigo', 8031), ('dosnt', 8032), ('roomba', 8033), ('jello', 8034), ('gracias', 8035), ('300lb', 8036), ('hitter', 8037), ('elos', 8038), ('bunch', 8039), ('notepad', 8040), ('rgb', 8041), ('evenflo', 8042), ('column', 8043), ('barrels', 8044), ('event', 8045), ('elf', 8046), ('popup', 8047), ('2518', 8048), ('a5310', 8049), ('hay', 8050), ('unfold', 8051), ('8ohm', 8052), ('5ra', 8053), ('connecters', 8054), ('pickling', 8055), ('c10', 8056), ('345', 8057), ('saiga', 8058), ('a19', 8059), ('stabilisation', 8060), ('athletic', 8061), ('bushings', 8062), ('arrowhead', 8063), ('caprice', 8064), ('riccar', 8065), ('assistant', 8066), ('s55', 8067), ('shredder', 8068), ('p5113', 8069), ('jun', 8070), ('isi', 8071), ('customize', 8072), ('fluoride', 8073), ('meanwhile', 8074), ('restrictions', 8075), ('breadman', 8076), ('tr2200c', 8077), ('cuanto', 8078), ('vale', 8079), ('kirkland', 8080), ('weak', 8081), ('trucker', 8082), ('l55', 8083), ('a5284', 8084), ('spy', 8085), ('himalayan', 8086), ('shabby', 8087), ('fructose', 8088), ('monoprice', 8089), ('pushing', 8090), ('hobby', 8091), ('yah', 8092), ('magellan', 8093), ('sharpend', 8094), ('returning', 8095), ('16inch', 8096), ('dart', 8097), ('jt', 8098), ('pullout', 8099), ('retainer', 8100), ('conections', 8101), ('26x1', 8102), ('encryption', 8103), ('kali', 8104), ('uscellular', 8105), ('rover', 8106), ('g62', 8107), ('worker', 8108), ('75lbs', 8109), ('related', 8110), ('2x6', 8111), ('joey', 8112), ('review', 8113), ('gtx770', 8114), ('icd', 8115), ('sx733', 8116), ('cvo', 8117), ('according', 8118), ('womans', 8119), ('navigate', 8120), ('favorite', 8121), ('bearded', 8122), ('complicated', 8123), ('perches', 8124), ('rapido', 8125), ('sep', 8126), ('ea6900', 8127), ('mg5420', 8128), ('jon', 8129), ('329206', 8130), ('lists', 8131), ('audition', 8132), ('toto', 8133), ('holo', 8134), ('whiteboard', 8135), ('cartons', 8136), ('snazzy', 8137), ('669', 8138), ('ableton', 8139), ('mirroring', 8140), ('duplicate', 8141), ('warent', 8142), ('waterford', 8143), ('controlers', 8144), ('vocal', 8145), ('globes', 8146), ('epi', 8147), ('harmonica', 8148), ('k55n', 8149), ('ddr3', 8150), ('45a', 8151), ('t520', 8152), ('alanine', 8153), ('rustler', 8154), ('maschine', 8155), ('bd4td', 8156), ('15in', 8157), ('amc', 8158), ('pelican', 8159), ('barracuda', 8160), ('refridgeration', 8161), ('2xaaa', 8162), ('palomar', 8163), ('8th', 8164), ('hj', 8165), ('m471i', 8166), ('m12', 8167), ('wingman', 8168), ('baseplate', 8169), ('deterrent', 8170), ('unglazed', 8171), ('fiat', 8172), ('nfa', 8173), ('bottomed', 8174), ('austria', 8175), ('230volts', 8176), ('13mm', 8177), ('500t', 8178), ('layers', 8179), ('denamarin', 8180), ('c655d', 8181), ('kenshiro', 8182), ('labeler', 8183), ('tortillas', 8184), ('pillowtop', 8185), ('tongs', 8186), ('downward', 8187), ('heli', 8188), ('silk', 8189), ('serated', 8190), ('shipper', 8191), ('g1x', 8192), ('730', 8193), ('solenoid', 8194), ('840g', 8195), ('bl', 8196), ('jean', 8197), ('oat', 8198), ('bomba', 8199), ('pebbled', 8200), ('scarf', 8201), ('otoscope', 8202), ('feeding', 8203), ('a97', 8204), ('rmoved', 8205), ('taffeta', 8206), ('easyshare', 8207), ('vests', 8208), ('imaginarium', 8209), ('daddy', 8210), ('vespa', 8211), ('shinny', 8212), ('supplements', 8213), ('207', 8214), ('chefs', 8215), ('58x72', 8216), ('breathing', 8217), ('whom', 8218), ('bangladesh', 8219), ('muted', 8220), ('everest', 8221), ('obtain', 8222), ('accubat', 8223), ('453', 8224), ('drills', 8225), ('curves', 8226), ('523', 8227), ('milky', 8228), ('chipped', 8229), ('ooma', 8230), ('9x9', 8231), ('sufficent', 8232), ('trans', 8233), ('salts', 8234), ('unplugged', 8235), ('transmitters', 8236), ('580', 8237), ('gem', 8238), ('lanc', 8239), ('indicated', 8240), ('tsp', 8241), ('sx50', 8242), ('stuck', 8243), ('rtak', 8244), ('lure', 8245), ('industrial', 8246), ('pumping', 8247), ('egr', 8248), ('dp', 8249), ('miniature', 8250), ('shepherd', 8251), ('128ld', 8252), ('3111', 8253), ('es300', 8254), ('aw100', 8255), ('z3v', 8256), ('robot', 8257), ('cp900', 8258), ('ine', 8259), ('creamer', 8260), ('24in', 8261), ('denim', 8262), ('merkur', 8263), ('50x38', 8264), ('xenon', 8265), ('afterwards', 8266), ('mobil', 8267), ('sterilization', 8268), ('noises', 8269), ('irish', 8270), ('zx6r', 8271), ('federation', 8272), ('aircard', 8273), ('merc', 8274), ('bravo', 8275), ('termites', 8276), ('counterfeit', 8277), ('sirve', 8278), ('hdj', 8279), ('canes', 8280), ('flares', 8281), ('carving', 8282), ('horizon', 8283), ('acharger', 8284), ('bo', 8285), ('wcdm', 8286), ('developer', 8287), ('mileage', 8288), ('saber', 8289), ('avchd', 8290), ('motorised', 8291), ('surprisingly', 8292), ('ome', 8293), ('yessir', 8294), ('due', 8295), ('tucson', 8296), ('remot', 8297), ('tb20cs', 8298), ('inground', 8299), ('dimmed', 8300), ('xd40', 8301), ('spt', 8302), ('lays', 8303), ('yorkie', 8304), ('criket', 8305), ('q1200', 8306), ('exernal', 8307), ('immediately', 8308), ('retard', 8309), ('4609', 8310), ('3weeks', 8311), ('biggest', 8312), ('d5', 8313), ('croc', 8314), ('broadcom', 8315), ('tsd', 8316), ('401', 8317), ('strain', 8318), ('c855', 8319), ('c6606', 8320), ('saved', 8321), ('ttr', 8322), ('blackwall', 8323), ('goverment', 8324), ('templates', 8325), ('cod', 8326), ('brain', 8327), ('prone', 8328), ('parallel', 8329), ('hydrochloride', 8330), ('orlando', 8331), ('msa', 8332), ('xpress', 8333), ('136', 8334), ('guatemala', 8335), ('dams', 8336), ('c7', 8337), ('lesabre', 8338), ('align', 8339), ('iphone5c', 8340), ('sp100', 8341), ('e45t', 8342), ('thi', 8343), ('g71', 8344), ('cyberball', 8345), ('615', 8346), ('outboard', 8347), ('seam', 8348), ('weigth', 8349), ('tethers', 8350), ('las', 8351), ('pentium', 8352), ('driveway', 8353), ('g60', 8354), ('6feet', 8355), ('36mm', 8356), ('wll', 8357), ('supreme', 8358), ('stacking', 8359), ('kwa', 8360), ('stovetops', 8361), ('x100s', 8362), ('rebelle', 8363), ('ltd', 8364), ('ev', 8365), ('cuffs', 8366), ('19x9x3', 8367), ('digits', 8368), ('dummy', 8369), ('i8190l', 8370), ('mixes', 8371), ('dixie', 8372), ('pr1240', 8373), ('articulation', 8374), ('tandem', 8375), ('imageclass', 8376), ('5x6', 8377), ('paypal', 8378), ('100mbps', 8379), ('mbps', 8380), ('jinhao', 8381), ('vnezuela', 8382), ('crepes', 8383), ('cartidriges', 8384), ('madison', 8385), ('mw1337sb', 8386), ('lovely', 8387), ('legitimate', 8388), ('moble', 8389), ('crimped', 8390), ('orbeez', 8391), ('backs', 8392), ('vt', 8393), ('personalize', 8394), ('v557', 8395), ('va76r', 8396), ('lightly', 8397), ('ssds', 8398), ('hamper', 8399), ('2ah', 8400), ('tomcat', 8401), ('excellet', 8402), ('glycolic', 8403), ('closest', 8404), ('clicky', 8405), ('680', 8406), ('nature', 8407), ('indefinite', 8408), ('earplugs', 8409), ('ther', 8410), ('tumblers', 8411), ('hydroponic', 8412), ('106', 8413), ('vortex', 8414), ('54lbs', 8415), ('paring', 8416), ('1234', 8417), ('kills', 8418), ('jig', 8419), ('honest', 8420), ('144hz', 8421), ('365', 8422), ('romanian', 8423), ('tiawan', 8424), ('badges', 8425), ('tonic', 8426), ('measurments', 8427), ('yours', 8428), ('850nm', 8429), ('stars', 8430), ('ukulele', 8431), ('widths', 8432), ('hull', 8433), ('amounts', 8434), ('elkay', 8435), ('energizer', 8436), ('toolkit', 8437), ('5m', 8438), ('symmetrical', 8439), ('dolby', 8440), ('buffer', 8441), ('barn', 8442), ('composed', 8443), ('crowns', 8444), ('selfie', 8445), ('rotational', 8446), ('buddies', 8447), ('extendable', 8448), ('250mg', 8449), ('whammy', 8450), ('leaving', 8451), ('panzer', 8452), ('transition', 8453), ('possess', 8454), ('aaamsung', 8455), ('32mb', 8456), ('1012', 8457), ('terry', 8458), ('begginer', 8459), ('housings', 8460), ('sle', 8461), ('crosman', 8462), ('3dtv', 8463), ('stardust', 8464), ('pollinating', 8465), ('statue', 8466), ('weater', 8467), ('bedsheets', 8468), ('d50', 8469), ('shippping', 8470), ('leakproof', 8471), ('330ci', 8472), ('transferred', 8473), ('slacker', 8474), ('20x20', 8475), ('poo', 8476), ('wallets', 8477), ('condenser', 8478), ('latency', 8479), ('triggering', 8480), ('xp310', 8481), ('vengeance', 8482), ('expansions', 8483), ('srm', 8484), ('x72', 8485), ('rsx', 8486), ('13x13', 8487), ('docsis', 8488), ('camery', 8489), ('origen', 8490), ('beneficial', 8491), ('bacteria', 8492), ('pennants', 8493), ('rimmed', 8494), ('smoothed', 8495), ('barbara', 8496), ('ann', 8497), ('dances', 8498), ('pare', 8499), ('stamps', 8500), ('f50', 8501), ('haw', 8502), ('nightlife', 8503), ('sorts', 8504), ('arrives', 8505), ('43g', 8506), ('paslode', 8507), ('rg174', 8508), ('marquis', 8509), ('salvador', 8510), ('whistles', 8511), ('jasmine', 8512), ('bowling', 8513), ('crz', 8514), ('spinach', 8515), ('indicates', 8516), ('thre', 8517), ('idaho', 8518), ('stailess', 8519), ('catridges', 8520), ('influenza', 8521), ('muzzleloader', 8522), ('3x6', 8523), ('landing', 8524), ('wirelless', 8525), ('coudl', 8526), ('xmas', 8527), ('happen', 8528), ('avr', 8529), ('pacific', 8530), ('kleen', 8531), ('fragrant', 8532), ('compensate', 8533), ('daytime', 8534), ('readers', 8535), ('137', 8536), ('hooded', 8537), ('preservative', 8538), ('missouri', 8539), ('overcharge', 8540), ('ledge', 8541), ('3612', 8542), ('3dsxl', 8543), ('256mb', 8544), ('splatter', 8545), ('xt1', 8546), ('132', 8547), ('pik', 8548), ('positioned', 8549), ('traveler', 8550), ('beauty', 8551), ('strand', 8552), ('sportrack', 8553), ('eleven', 8554), ('tob', 8555), ('bedbugs', 8556), ('oe', 8557), ('donot', 8558), ('plaque', 8559), ('chromatic', 8560), ('p100', 8561), ('whiskers', 8562), ('glitches', 8563), ('drained', 8564), ('uag', 8565), ('7400', 8566), ('bipolar', 8567), ('uber', 8568), ('bayer', 8569), ('urgent', 8570), ('grab', 8571), ('mallory', 8572), ('warmth', 8573), ('110watt', 8574), ('purchasing', 8575), ('soaker', 8576), ('stomach', 8577), ('sleepers', 8578), ('paraffin', 8579), ('1inch', 8580), ('catcher', 8581), ('hyaluronic', 8582), ('shakes', 8583), ('prepay', 8584), ('organizers', 8585), ('solara', 8586), ('countryman', 8587), ('blocker', 8588), ('copier', 8589), ('10lb', 8590), ('iv', 8591), ('xff0c', 8592), ('dv1000', 8593), ('curler', 8594), ('512m', 8595), ('accesorios', 8596), ('buenisimo', 8597), ('1200mah', 8598), ('ltz', 8599), ('1337', 8600), ('d300s', 8601), ('6x6', 8602), ('thay', 8603), ('cosmetics', 8604), ('203', 8605), ('sidekick', 8606), ('rusting', 8607), ('blues', 8608), ('0515', 8609), ('saudi', 8610), ('arabia', 8611), ('deans', 8612), ('keratin', 8613), ('posted', 8614), ('spokes', 8615), ('blowout', 8616), ('kalita', 8617), ('103', 8618), ('microusb', 8619), ('southern', 8620), ('pds', 8621), ('fronts', 8622), ('propeller', 8623), ('dimming', 8624), ('widow', 8625), ('pancake', 8626), ('lh', 8627), ('soon', 8628), ('bootloader', 8629), ('deltamethrin', 8630), ('bagger', 8631), ('fsx', 8632), ('xico', 8633), ('crushing', 8634), ('mg7520', 8635), ('monte', 8636), ('gx620', 8637), ('reagone', 8638), ('olivia', 8639), ('uplander', 8640), ('linoleum', 8641), ('315', 8642), ('digicel', 8643), ('creek', 8644), ('archos', 8645), ('lips', 8646), ('s3500', 8647), ('doc', 8648), ('iphoe', 8649), ('thinks', 8650), ('hm', 8651), ('submerge', 8652), ('francisco', 8653), ('7500', 8654), ('apex', 8655), ('fails', 8656), ('mast', 8657), ('vcds', 8658), ('scoops', 8659), ('14x14', 8660), ('triton', 8661), ('sunfire', 8662), ('tyvm', 8663), ('m1a1', 8664), ('ypg', 8665), ('lenguages', 8666), ('255w', 8667), ('voc', 8668), ('36lbs', 8669), ('flora', 8670), ('t100', 8671), ('conduit', 8672), ('earcups', 8673), ('standerd', 8674), ('reccomended', 8675), ('stoppers', 8676), ('rescue', 8677), ('plastice', 8678), ('notation', 8679), ('immediate', 8680), ('conair', 8681), ('atsc', 8682), ('title', 8683), ('firefox', 8684), ('playset', 8685), ('bouncy', 8686), ('benro', 8687), ('s6', 8688), ('525i', 8689), ('powerlite', 8690), ('ise', 8691), ('dous', 8692), ('pints', 8693), ('020', 8694), ('166', 8695), ('rake', 8696), ('heritage', 8697), ('nazi', 8698), ('k5ss', 8699), ('5510', 8700), ('frontpoint', 8701), ('typically', 8702), ('b31', 8703), ('bleeding', 8704), ('flocked', 8705), ('roofing', 8706), ('francis', 8707), ('compatibile', 8708), ('e1405', 8709), ('thermacell', 8710), ('18w', 8711), ('sonos', 8712), ('s968c', 8713), ('8300hdc', 8714), ('dangerous', 8715), ('250w', 8716), ('149', 8717), ('pesticides', 8718), ('killing', 8719), ('mide', 8720), ('voltaje', 8721), ('esta', 8722), ('desbloqueado', 8723), ('baggy', 8724), ('awhile', 8725), ('technolgy', 8726), ('src', 8727), ('sauces', 8728), ('components', 8729), ('ky', 8730), ('ontario', 8731), ('2lb', 8732), ('mahogany', 8733), ('obd2', 8734), ('bluethooth', 8735), ('intermediate', 8736), ('blocked', 8737), ('335xi', 8738), ('livestream', 8739), ('mk2', 8740), ('8inch', 8741), ('est', 8742), ('dip', 8743), ('profit', 8744), ('shavers', 8745), ('8ths', 8746), ('2d49wm', 8747), ('tawain', 8748), ('stylist', 8749), ('pedi', 8750), ('instal', 8751), ('concealer', 8752), ('symbols', 8753), ('rugs', 8754), ('paperport', 8755), ('5rs', 8756), ('disconnects', 8757), ('gevalia', 8758), ('sticking', 8759), ('webbing', 8760), ('supermulti', 8761), ('lightscribe', 8762), ('atleast', 8763), ('16in', 8764), ('574', 8765), ('7v', 8766), ('crossbar', 8767), ('nailheads', 8768), ('87', 8769), ('spirals', 8770), ('pucks', 8771), ('unfortunaly', 8772), ('g20', 8773), ('diminsions', 8774), ('sauna', 8775), ('buchers', 8776), ('loging', 8777), ('nvmt', 8778), ('aproximately', 8779), ('incline', 8780), ('haswell', 8781), ('3200k', 8782), ('nuch', 8783), ('ci', 8784), ('200mg', 8785), ('d530', 8786), ('elec', 8787), ('1700', 8788), ('attacks', 8789), ('infamous', 8790), ('100lb', 8791), ('wireing', 8792), ('shellac', 8793), ('unbleached', 8794), ('schleich', 8795), ('rerel', 8796), ('70r', 8797), ('tuck', 8798), ('1a', 8799), ('swag', 8800), ('folic', 8801), ('2030', 8802), ('dually', 8803), ('travels', 8804), ('grit', 8805), ('differentiate', 8806), ('panniers', 8807), ('neckstrap', 8808), ('atrix', 8809), ('yesit', 8810), ('refilling', 8811), ('placing', 8812), ('25in', 8813), ('rhinestones', 8814), ('judge', 8815), ('wanting', 8816), ('brothers', 8817), ('writes', 8818), ('clogging', 8819), ('magnetically', 8820), ('4cm', 8821), ('ronkonkoma', 8822), ('collapses', 8823), ('developing', 8824), ('headrests', 8825), ('honduras', 8826), ('citric', 8827), ('8x12', 8828), ('coloured', 8829), ('sterling', 8830), ('diatomaceous', 8831), ('astound', 8832), ('footpads', 8833), ('x14', 8834), ('2a', 8835), ('pricings', 8836), ('woth', 8837), ('rep', 8838), ('jewerly', 8839), ('fcc', 8840), ('hampton', 8841), ('sensorless', 8842), ('10ply', 8843), ('belong', 8844), ('treads', 8845), ('mech', 8846), ('thw', 8847), ('c4480', 8848), ('battlefield', 8849), ('722', 8850), ('25lbs', 8851), ('pl259', 8852), ('mint', 8853), ('650d', 8854), ('chico', 8855), ('incuded', 8856), ('viva', 8857), ('hd6770', 8858), ('interesting', 8859), ('7oz', 8860), ('spdt', 8861), ('40v', 8862), ('windows8', 8863), ('matic', 8864), ('controler', 8865), ('diagram', 8866), ('dispensing', 8867), ('tons', 8868), ('dimmers', 8869), ('pc3', 8870), ('12800', 8871), ('contouring', 8872), ('western', 8873), ('20s', 8874), ('gummies', 8875), ('focusing', 8876), ('ts', 8877), ('batmobile', 8878), ('kraft', 8879), ('x220', 8880), ('8530', 8881), ('sym', 8882), ('vicks', 8883), ('skeleton', 8884), ('ton', 8885), ('30in', 8886), ('xmp3i', 8887), ('wd65733', 8888), ('orders', 8889), ('barbados', 8890), ('snowy', 8891), ('229', 8892), ('pm', 8893), ('cruise', 8894), ('boxx', 8895), ('git', 8896), ('itchy', 8897), ('wallplate', 8898), ('lecithin', 8899), ('xt910', 8900), ('breakdown', 8901), ('imidacloprid', 8902), ('cpx', 8903), ('5mg', 8904), ('prices', 8905), ('suto', 8906), ('iceland', 8907), ('30lb', 8908), ('airflow', 8909), ('kingston', 8910), ('mice', 8911), ('ruvbulb1', 8912), ('ansi', 8913), ('2yr', 8914), ('comply', 8915), ('p95', 8916), ('dandelion', 8917), ('4tb', 8918), ('bumgenius', 8919), ('freetimes', 8920), ('phalate', 8921), ('2x2', 8922), ('teabags', 8923), ('woven', 8924), ('alienware', 8925), ('fourth', 8926), ('cape', 8927), ('locations', 8928), ('requier', 8929), ('4lb', 8930), ('c655', 8931), ('cuts', 8932), ('noisey', 8933), ('bookends', 8934), ('flashback', 8935), ('screening', 8936), ('underlayment', 8937), ('strdh550', 8938), ('warantee', 8939), ('nutella', 8940), ('gong', 8941), ('sax', 8942), ('linen', 8943), ('wolfsburg', 8944), ('tdoes', 8945), ('makey', 8946), ('ninjago', 8947), ('nasty', 8948), ('broadband', 8949), ('inflating', 8950), ('thise', 8951), ('canasta', 8952), ('df', 8953), ('nurser', 8954), ('electra', 8955), ('atlas', 8956), ('turrets', 8957), ('ducting', 8958), ('presses', 8959), ('pouring', 8960), ('clifford', 8961), ('infants', 8962), ('alittle', 8963), ('benefits', 8964), ('premiun', 8965), ('p50', 8966), ('exedy', 8967), ('processed', 8968), ('6s', 8969), ('d70', 8970), ('venexuela', 8971), ('s9700', 8972), ('hx6311', 8973), ('greed', 8974), ('shortcut', 8975), ('pedaling', 8976), ('floss', 8977), ('otc', 8978), ('derringer', 8979), ('bond', 8980), ('r500', 8981), ('g9', 8982), ('unlikely', 8983), ('35h00142', 8984), ('genetically', 8985), ('521', 8986), ('practically', 8987), ('hsdpa', 8988), ('reebok', 8989), ('trace', 8990), ('nx', 8991), ('aloe', 8992), ('shadows', 8993), ('h107l', 8994), ('marshmallows', 8995), ('tums', 8996), ('cheesecakes', 8997), ('bravada', 8998), ('240volt', 8999), ('7120', 9000), ('perhaps', 9001), ('swivlel', 9002), ('barbed', 9003), ('started', 9004), ('scooters', 9005), ('beveled', 9006), ('restrictor', 9007), ('sheild', 9008), ('harm', 9009), ('volvo', 9010), ('v70', 9011), ('cuurent', 9012), ('qsc', 9013), ('notmal', 9014), ('celeron', 9015), ('diet', 9016), ('leviton', 9017), ('mushroom', 9018), ('longest', 9019), ('muscles', 9020), ('manufactors', 9021), ('hats', 9022), ('brinkmann', 9023), ('climb', 9024), ('streamline', 9025), ('lincon', 9026), ('professionalcare', 9027), ('recharges', 9028), ('buzz', 9029), ('mtb', 9030), ('ounzes', 9031), ('dumb', 9032), ('gusseted', 9033), ('krk', 9034), ('satellites', 9035), ('skylanders', 9036), ('propel', 9037), ('honeycomb', 9038), ('23lbs', 9039), ('buckles', 9040), ('chords', 9041), ('legend', 9042), ('huffy', 9043), ('aps', 9044), ('aleko', 9045), ('saute', 9046), ('drains', 9047), ('11x16', 9048), ('strix', 9049), ('litres', 9050), ('26lbs', 9051), ('owb', 9052), ('lacquer', 9053), ('gestures', 9054), ('cow', 9055), ('prestrung', 9056), ('diference', 9057), ('r350', 9058), ('accidental', 9059), ('millivolt', 9060), ('pistols', 9061), ('moss', 9062), ('9x13', 9063), ('goldfish', 9064), ('sterilize', 9065), ('raider', 9066), ('manny', 9067), ('axles', 9068), ('lx5', 9069), ('schematic', 9070), ('150psi', 9071), ('24982300', 9072), ('tenderizer', 9073), ('nesco', 9074), ('24p', 9075), ('hedge', 9076), ('saws', 9077), ('p855', 9078), ('aas', 9079), ('restraint', 9080), ('dometic', 9081), ('p3113', 9082), ('tweezers', 9083), ('tocopherols', 9084), ('konami', 9085), ('netflicks', 9086), ('dynex', 9087), ('unsealed', 9088), ('wafer', 9089), ('pancakes', 9090), ('floride', 9091), ('mocha', 9092), ('keyfit30', 9093), ('flhr', 9094), ('dc25', 9095), ('tempature', 9096), ('80oz', 9097), ('osha', 9098), ('companies', 9099), ('stretcher', 9100), ('neato', 9101), ('pusher', 9102), ('e2', 9103), ('ejector', 9104), ('estimated', 9105), ('firware', 9106), ('heartworms', 9107), ('elevator', 9108), ('excaliber', 9109), ('por', 9110), ('uno', 9111), ('generstion', 9112), ('totes', 9113), ('oscillating', 9114), ('dropping', 9115), ('thrust', 9116), ('hazy', 9117), ('wasps', 9118), ('mortise', 9119), ('appox', 9120), ('building', 9121), ('4lr44', 9122), ('600lbs', 9123), ('tenth', 9124), ('altimeter', 9125), ('major', 9126), ('braket', 9127), ('compitable', 9128), ('vapor', 9129), ('blueberries', 9130), ('thankx', 9131), ('e27', 9132), ('improvement', 9133), ('cq60', 9134), ('regal', 9135), ('performer', 9136), ('smear', 9137), ('tahoma', 9138), ('250ml', 9139), ('a35', 9140), ('excavator', 9141), ('hx6950', 9142), ('130v', 9143), ('40w', 9144), ('vials', 9145), ('plums', 9146), ('rainbow', 9147), ('ems', 9148), ('yearold', 9149), ('z2', 9150), ('deadening', 9151), ('j825dw', 9152), ('rotisserie', 9153), ('rsvp', 9154), ('intellicode', 9155), ('filtered', 9156), ('rollercoster', 9157), ('tycoon', 9158), ('ratings', 9159), ('3mp', 9160), ('plantar', 9161), ('fasciitis', 9162), ('resevoir', 9163), ('hugging', 9164), ('anchored', 9165), ('enclave', 9166), ('fal', 9167), ('3220', 9168), ('refridgerator', 9169), ('spurillina', 9170), ('anker', 9171), ('ted', 9172), ('uva', 9173), ('hes', 9174), ('untinted', 9175), ('i5s', 9176), ('hss', 9177), ('lastest', 9178), ('exelent', 9179), ('x75', 9180), ('fruity', 9181), ('susuki', 9182), ('rmz', 9183), ('millet', 9184), ('75hz', 9185), ('mudguards', 9186), ('minolta', 9187), ('washes', 9188), ('benzoyl', 9189), ('wasabi', 9190), ('headless', 9191), ('slight', 9192), ('accesibility', 9193), ('gigas', 9194), ('goals', 9195), ('diskless', 9196), ('sweeten', 9197), ('plantain', 9198), ('plow', 9199), ('5400rpm', 9200), ('nearly', 9201), ('bdp', 9202), ('gatorade', 9203), ('cheek', 9204), ('r92', 9205), ('erazo051109', 9206), ('gmail', 9207), ('preferably', 9208), ('h911', 9209), ('dw618', 9210), ('receiving', 9211), ('286', 9212), ('verticle', 9213), ('sanitizer', 9214), ('windings', 9215), ('4gig', 9216), ('350z', 9217), ('brembo', 9218), ('advocare', 9219), ('31lbs', 9220), ('eagles', 9221), ('maxium', 9222), ('40ns', 9223), ('avaya', 9224), ('9611g', 9225), ('2560x1440', 9226), ('costs', 9227), ('gyroscope', 9228), ('wristband', 9229), ('romania', 9230), ('b3000', 9231), ('skyline', 9232), ('15t', 9233), ('j100', 9234), ('grommet', 9235), ('portions', 9236), ('puzzles', 9237), ('moringa', 9238), ('retention', 9239), ('di', 9240), ('90259', 9241), ('recon', 9242), ('edison', 9243), ('30l', 9244), ('15l', 9245), ('dominican', 9246), ('classroom', 9247), ('3inches', 9248), ('log', 9249), ('f650', 9250), ('juicing', 9251), ('judith', 9252), ('13watt', 9253), ('tealight', 9254), ('competible', 9255), ('3gb', 9256), ('yee', 9257), ('unlined', 9258), ('suunto', 9259), ('zoop', 9260), ('dive', 9261), ('toliet', 9262), ('canadian', 9263), ('a665', 9264), ('eurovan', 9265), ('fatty', 9266), ('486', 9267), ('1200w', 9268), ('equiped', 9269), ('countinuos', 9270), ('spectra', 9271), ('s1', 9272), ('particles', 9273), ('unused', 9274), ('mopar', 9275), ('sunroof', 9276), ('hcm371a', 9277), ('steaks', 9278), ('ccw', 9279), ('bipod', 9280), ('x28', 9281), ('medum', 9282), ('zipped', 9283), ('tangle', 9284), ('detached', 9285), ('keyless', 9286), ('interpret', 9287), ('gauges', 9288), ('vomit', 9289), ('tied', 9290), ('120mm', 9291), ('130w', 9292), ('alt', 9293), ('menus', 9294), ('bundles', 9295), ('deglaze', 9296), ('hulk', 9297), ('containing', 9298), ('nav', 9299), ('bypass', 9300), ('arco', 9301), ('smock', 9302), ('british', 9303), ('neat', 9304), ('914', 9305), ('yaw', 9306), ('downloading', 9307), ('hunt', 9308), ('generally', 9309), ('preventer', 9310), ('goodyear', 9311), ('orchids', 9312), ('assmbled', 9313), ('boostmobile', 9314), ('r134', 9315), ('r12', 9316), ('exployer', 9317), ('mimi', 9318), ('disappointing', 9319), ('belted', 9320), ('branch', 9321), ('twitter', 9322), ('browns', 9323), ('grays', 9324), ('x500', 9325), ('spr3', 9326), ('2qt', 9327), ('h4n', 9328), ('widescreen', 9329), ('worse', 9330), ('ecx', 9331), ('3000w', 9332), ('rule', 9333), ('palco', 9334), ('bccg08', 9335), ('functioning', 9336), ('intalled', 9337), ('f4', 9338), ('scanned', 9339), ('emulation', 9340), ('kidkraft', 9341), ('mbenz', 9342), ('fonts', 9343), ('coprocessor', 9344), ('attaching', 9345), ('coats', 9346), ('7310xl', 9347), ('precharged', 9348), ('kennel', 9349), ('a1286', 9350), ('x41', 9351), ('splints', 9352), ('fta', 9353), ('thermoelectric', 9354), ('url', 9355), ('fpo', 9356), ('mainland', 9357), ('harbor', 9358), ('freight', 9359), ('karcher', 9360), ('1972', 9361), ('l505d', 9362), ('sucked', 9363), ('puddle', 9364), ('preventing', 9365), ('halves', 9366), ('quarters', 9367), ('acetone', 9368), ('cyber', 9369), ('pulg', 9370), ('flanges', 9371), ('bumpy', 9372), ('zippo', 9373), ('theese', 9374), ('50ml', 9375), ('hop', 9376), ('fr', 9377), ('335', 9378), ('oneida', 9379), ('p300', 9380), ('parallax', 9381), ('evenly', 9382), ('hexbugs', 9383), ('enclosed', 9384), ('grady', 9385), ('clover', 9386), ('a660', 9387), ('bw', 9388), ('revo', 9389), ('subcompact', 9390), ('prise', 9391), ('preserver', 9392), ('squier', 9393), ('2000u', 9394), ('r6', 9395), ('modifications', 9396), ('brita', 9397), ('twain', 9398), ('transmissions', 9399), ('alien', 9400), ('voltios', 9401), ('n8013', 9402), ('gauntlet', 9403), ('sip', 9404), ('299', 9405), ('manly', 9406), ('r32', 9407), ('belarus', 9408), ('10ml', 9409), ('blacklisted', 9410), ('x200ca', 9411), ('wallpaper', 9412), ('26mm', 9413), ('802', 9414), ('c1505', 9415), ('snare', 9416), ('katana', 9417), ('2025', 9418), ('8x', 9419), ('loot', 9420), ('bonce', 9421), ('shelled', 9422), ('pillar', 9423), ('100lbs', 9424), ('pliko', 9425), ('popular', 9426), ('tourer', 9427), ('jointed', 9428), ('caramel', 9429), ('ght', 9430), ('33567', 9431), ('3lb', 9432), ('aqqount', 9433), ('synology', 9434), ('downrod', 9435), ('370z', 9436), ('status', 9437), ('mailer', 9438), ('obd1', 9439), ('hydraulic', 9440), ('indefinitely', 9441), ('doctors', 9442), ('11th', 9443), ('samsug', 9444), ('g35', 9445), ('8x8', 9446), ('caplets', 9447), ('cs6229', 9448), ('ionization', 9449), ('verified', 9450), ('pe', 9451), ('reams', 9452), ('455w', 9453), ('faberware', 9454), ('312b', 9455), ('pps', 9456), ('stepped', 9457), ('8ohms', 9458), ('903', 9459), ('peace', 9460), ('tweeter', 9461), ('flac', 9462), ('uplay', 9463), ('7938', 9464), ('seperately', 9465), ('havea', 9466), ('havr', 9467), ('accepted', 9468), ('activator', 9469), ('barrell', 9470), ('louvers', 9471), ('withthe', 9472), ('powdered', 9473), ('coloring', 9474), ('elderly', 9475), ('destiny', 9476), ('wait', 9477), ('drums', 9478), ('crewcab', 9479), ('940', 9480), ('nm', 9481), ('elevate', 9482), ('rhino', 9483), ('d0', 9484), ('m40', 9485), ('t100ta', 9486), ('h1', 9487), ('turmeric', 9488), ('cycles', 9489), ('autocorrect', 9490), ('communist', 9491), ('duvetcover', 9492), ('cig', 9493), ('gph', 9494), ('combined', 9495), ('200xl', 9496), ('efax', 9497), ('gh3', 9498), ('cheers', 9499), ('epsom', 9500), ('cybershot', 9501), ('sorbitol', 9502), ('fobs', 9503), ('trac', 9504), ('efficient', 9505), ('fba', 9506), ('articulo', 9507), ('mns', 9508), ('324', 9509), ('5300', 9510), ('invacare', 9511), ('agent', 9512), ('a300', 9513), ('246', 9514), ('heel', 9515), ('caffein', 9516), ('polishing', 9517), ('straightalk', 9518), ('illinois', 9519), ('pedalling', 9520), ('backlite', 9521), ('1oz', 9522), ('sushi', 9523), ('rats', 9524), ('3620', 9525), ('30watts', 9526), ('d2x', 9527), ('soldering', 9528), ('abolutely', 9529), ('superb', 9530), ('joystick', 9531), ('iexcl', 9532), ('5x9', 9533), ('wahii', 9534), ('waterslide', 9535), ('mackie', 9536), ('eliminates', 9537), ('g8', 9538), ('framing', 9539), ('zeaxanthin', 9540), ('800mcg', 9541), ('bimatoprost', 9542), ('1970', 9543), ('client', 9544), ('flv', 9545), ('e815', 9546), ('sabdariffa', 9547), ('learning', 9548), ('rosetta', 9549), ('multilanguage', 9550), ('walkie', 9551), ('legos', 9552), ('timberland', 9553), ('scooping', 9554), ('voicemail', 9555), ('6x4x4', 9556), ('2k', 9557), ('equalizer', 9558), ('walking', 9559), ('naughty', 9560), ('un55h6350', 9561), ('hoist', 9562), ('8520', 9563), ('totaly', 9564), ('n8000', 9565), ('witn', 9566), ('paperback', 9567), ('midland', 9568), ('turkeys', 9569), ('0nly', 9570), ('179', 9571), ('property', 9572), ('mushrooms', 9573), ('iit', 9574), ('picks', 9575), ('extention', 9576), ('stoeger', 9577), ('cereal', 9578), ('solutions', 9579), ('ganoderma', 9580), ('brewers', 9581), ('caffe', 9582), ('65292', 9583), ('collapsable', 9584), ('drapes', 9585), ('blown', 9586), ('swords', 9587), ('honor', 9588), ('alumium', 9589), ('caboose', 9590), ('ultralight', 9591), ('dhs', 9592), ('compatibel', 9593), ('1200d', 9594), ('superior', 9595), ('50d', 9596), ('zeki', 9597), ('a77', 9598), ('gillette', 9599), ('goat', 9600), ('guaranty', 9601), ('aluninum', 9602), ('samson', 9603), ('hds', 9604), ('upward', 9605), ('nescafe', 9606), ('outlook', 9607), ('bandsaw', 9608), ('encore', 9609), ('brightness', 9610), ('circuits', 9611), ('claws', 9612), ('levers', 9613), ('i9300', 9614), ('compac', 9615), ('dips', 9616), ('7x10', 9617), ('carlson', 9618), ('chokes', 9619), ('citori', 9620), ('prob', 9621), ('hyperextended', 9622), ('688', 9623), ('interconnect', 9624), ('continuity', 9625), ('furnish', 9626), ('47x25', 9627), ('portugues', 9628), ('lullaby', 9629), ('sabertooth', 9630), ('seattle', 9631), ('mobiles', 9632), ('crf', 9633), ('hardtop', 9634), ('lumber', 9635), ('fraid', 9636), ('metropolitan', 9637), ('yacon', 9638), ('buffers', 9639), ('x360', 9640), ('sould', 9641), ('m401n', 9642), ('ducati', 9643), ('huge', 9644), ('carger', 9645), ('gprs', 9646), ('t420', 9647), ('1001', 9648), ('ksm90', 9649), ('4670k', 9650), ('lifts', 9651), ('disassemble', 9652), ('rackmount', 9653), ('dhcp', 9654), ('kmr', 9655), ('success', 9656), ('sprinter', 9657), ('gh2', 9658), ('baked', 9659), ('crafts', 9660), ('labrador', 9661), ('sleds', 9662), ('hash', 9663), ('digiland', 9664), ('appendix', 9665), ('methyl', 9666), ('hydroxy', 9667), ('128ldx', 9668), ('bifold', 9669), ('240lbs', 9670), ('upto', 9671), ('alphabet', 9672), ('napkin', 9673), ('askinreviewspage', 9674), ('evolt', 9675), ('l9', 9676), ('k45', 9677), ('eating', 9678), ('inverter', 9679), ('fios', 9680), ('flareside', 9681), ('microns', 9682), ('galaxay', 9683), ('orientation', 9684), ('skate', 9685), ('fone', 9686), ('tu', 9687), ('samnsung', 9688), ('x300', 9689), ('defect', 9690), ('scum', 9691), ('mallorca', 9692), ('intrepid', 9693), ('eo', 9694), ('fail', 9695), ('foredom', 9696), ('define', 9697), ('gell', 9698), ('ambi', 9699), ('m10', 9700), ('sofas', 9701), ('trampolines', 9702), ('a37', 9703), ('untill', 9704), ('3in', 9705), ('tele', 9706), ('striaght', 9707), ('optics', 9708), ('vivo', 9709), ('cranes', 9710), ('comprises', 9711), ('sectional', 9712), ('usda', 9713), ('v5', 9714), ('note3', 9715), ('changeable', 9716), ('trd', 9717), ('displayport', 9718), ('hawk', 9719), ('27lbs', 9720), ('wpa2', 9721), ('scar', 9722), ('dpf', 9723), ('phaser', 9724), ('6010', 9725), ('retron', 9726), ('famicom', 9727), ('isf', 9728), ('yahoo', 9729), ('clubman', 9730), ('asf', 9731), ('micronized', 9732), ('mazda6', 9733), ('realy', 9734), ('thickest', 9735), ('hm80', 9736), ('solely', 9737), ('1986', 9738), ('cox', 9739), ('airprint', 9740), ('nx1', 9741), ('constipation', 9742), ('servos', 9743), ('2219', 9744), ('3050', 9745), ('j610', 9746), ('flossers', 9747), ('cz', 9748), ('diving', 9749), ('outliner', 9750), ('brakets', 9751), ('fraying', 9752), ('tutorial', 9753), ('quieter', 9754), ('visio', 9755), ('stright', 9756), ('6lb', 9757), ('stablization', 9758), ('mba', 9759), ('refil', 9760), ('meade', 9761), ('primed', 9762), ('utility', 9763), ('optigrow', 9764), ('nicotine', 9765), ('punching', 9766), ('continues', 9767), ('dripper', 9768), ('superglide', 9769), ('cx9', 9770), ('phablet', 9771), ('134a', 9772), ('juniper', 9773), ('bells', 9774), ('brownish', 9775), ('carrot', 9776), ('5oz', 9777), ('squishy', 9778), ('magnifying', 9779), ('overstock', 9780), ('rigth', 9781), ('benjamin', 9782), ('xbox360', 9783), ('sponge', 9784), ('tether', 9785), ('phat', 9786), ('smoothie', 9787), ('pos', 9788), ('25x12', 9789), ('mp225a', 9790), ('bd', 9791), ('55lbs', 9792), ('shackle', 9793), ('dv6000', 9794), ('1397700589873', 9795), ('subside', 9796), ('dooes', 9797), ('polycom', 9798), ('2gig', 9799), ('fram', 9800), ('31in', 9801), ('soffit', 9802), ('700d', 9803), ('serbia', 9804), ('prezi', 9805), ('cameleon', 9806), ('shorten', 9807), ('moderately', 9808), ('odyessy', 9809), ('e8', 9810), ('broccoli', 9811), ('glows', 9812), ('news', 9813), ('chopping', 9814), ('postcards', 9815), ('24vdc', 9816), ('easier', 9817), ('nutrition', 9818), ('horton', 9819), ('r22', 9820), ('shovel', 9821), ('humidifer', 9822), ('fruits', 9823), ('mariner', 9824), ('1mm', 9825), ('draft', 9826), ('oontz', 9827), ('monitoring', 9828), ('pitchers', 9829), ('punchers', 9830), ('paints', 9831), ('zaq', 9832), ('chi', 9833), ('seas', 9834), ('maximus', 9835), ('vii', 9836), ('footswitch', 9837), ('magnifier', 9838), ('increments', 9839), ('crossman', 9840), ('hc5345', 9841), ('rechareable', 9842), ('evenrude', 9843), ('wal', 9844), ('mart', 9845), ('moment', 9846), ('creuset', 9847), ('3i', 9848), ('handsfree', 9849), ('oes', 9850), ('pageplus', 9851), ('au', 9852), ('evening', 9853), ('conv', 9854), ('sb600', 9855), ('macmini', 9856), ('6878', 9857), ('180773', 9858), ('gsn', 9859), ('blonde', 9860), ('sz', 9861), ('cpx2', 9862), ('s11', 9863), ('500w', 9864), ('30mph', 9865), ('grayaway', 9866), ('banjo', 9867), ('recharged', 9868), ('leafy', 9869), ('pjd5533w', 9870), ('mixie', 9871), ('wears', 9872), ('ecwcs', 9873), ('goretex', 9874), ('parka', 9875), ('b1', 9876), ('quatro', 9877), ('slits', 9878), ('switching', 9879), ('aba', 9880), ('wb250f', 9881), ('marshmallow', 9882), ('neca', 9883), ('rally', 9884), ('repels', 9885), ('flagship', 9886), ('flasher', 9887), ('retardent', 9888), ('hurt', 9889), ('tripple', 9890), ('sorting', 9891), ('easter', 9892), ('hexane', 9893), ('meike', 9894), ('700x23', 9895), ('weekends', 9896), ('mixtrack', 9897), ('dura', 9898), ('backrest', 9899), ('waterbed', 9900), ('cp910', 9901), ('3inch', 9902), ('social', 9903), ('xtreme', 9904), ('b570', 9905), ('callers', 9906), ('buenas', 9907), ('maid', 9908), ('scans', 9909), ('hcg', 9910), ('125v', 9911), ('vitality', 9912), ('a8', 9913), ('confused', 9914), ('orignal', 9915), ('script', 9916), ('txt', 9917), ('windows7', 9918), ('whst', 9919), ('3x10', 9920), ('slx', 9921), ('50ft', 9922), ('20ft', 9923), ('igniter', 9924), ('toughbook', 9925), ('edging', 9926), ('10d', 9927), ('poach', 9928), ('w260g', 9929), ('pata', 9930), ('cigar', 9931), ('5qt', 9932), ('basketballs', 9933), ('www', 9934), ('autovolt', 9935), ('surefire', 9936), ('875', 9937), ('rpms', 9938), ('johnson', 9939), ('l775d', 9940), ('aviva', 9941), ('18x18', 9942), ('cabin', 9943), ('andies', 9944), ('pagers', 9945), ('whiskey', 9946), ('tomy', 9947), ('benches', 9948), ('rejection', 9949), ('doorbell', 9950), ('fluids', 9951), ('aquos', 9952), ('q7', 9953), ('n5050', 9954), ('ovenproof', 9955), ('percale', 9956), ('ordinary', 9957), ('cleanable', 9958), ('disarm', 9959), ('noodles', 9960), ('21614', 9961), ('selection', 9962), ('distribution', 9963), ('5x10', 9964), ('dying', 9965), ('kw', 9966), ('wheeler', 9967), ('sgh1337', 9968), ('1095', 9969), ('1108', 9970), ('1109', 9971), ('tiguan', 9972), ('netfix', 9973), ('greetings', 9974), ('resistent', 9975), ('forend', 9976), ('fatboy', 9977), ('ha', 9978), ('readable', 9979), ('matirial', 9980), ('cherokke', 9981), ('crolles', 9982), ('constantly', 9983), ('allroad', 9984), ('flyer', 9985), ('rp', 9986), ('dh', 9987), ('deos', 9988), ('l710', 9989), ('ladies', 9990), ('colander', 9991), ('adhere', 9992), ('minoxidil', 9993), ('sinc', 9994), ('reate', 9995), ('1x', 9996), ('bp70a', 9997), ('interchangeably', 9998), ('sgpt1211', 9999), ('stella', 10000), ('motorhome', 10001), ('pointsplus', 10002), ('cutters', 10003), ('avail', 10004), ('replica', 10005), ('boulder', 10006), ('newspaper', 10007), ('ostrich', 10008), ('carbohydrates', 10009), ('1400w', 10010), ('autodesk', 10011), ('inventor', 10012), ('163', 10013), ('hb', 10014), ('styliner', 10015), ('bona', 10016), ('assigned', 10017), ('stolen', 10018), ('2ohm', 10019), ('ideas', 10020), ('somebody', 10021), ('comunication', 10022), ('natively', 10023), ('rosacea', 10024), ('res', 10025), ('gasless', 10026), ('kel', 10027), ('tec', 10028), ('ksg', 10029), ('discover', 10030), ('hydroponics', 10031), ('mlc', 10032), ('4770k', 10033), ('steyr', 10034), ('celular', 10035), ('nitrate', 10036), ('mailed', 10037), ('aproximate', 10038), ('mannitol', 10039), ('toenail', 10040), ('enter', 10041), ('brute', 10042), ('carefully', 10043), ('workwith', 10044), ('g73jh', 10045), ('poland', 10046), ('leia', 10047), ('1975', 10048), ('12w', 10049), ('zing', 10050), ('mary', 10051), ('corelle', 10052), ('improved', 10053), ('uneven', 10054), ('intruder', 10055), ('touching', 10056), ('milwaukee', 10057), ('dis', 10058), ('2023', 10059), ('hairdryer', 10060), ('employees', 10061), ('b15', 10062), ('proctor', 10063), ('expires', 10064), ('350lbs', 10065), ('79', 10066), ('butt', 10067), ('bluetoooth', 10068), ('veil', 10069), ('nx430', 10070), ('octane', 10071), ('blueray', 10072), ('epistar', 10073), ('fixie', 10074), ('towards', 10075), ('heaviest', 10076), ('timex', 10077), ('75k58', 10078), ('frontal', 10079), ('poorly', 10080), ('superlow', 10081), ('detatchable', 10082), ('buit', 10083), ('sands', 10084), ('rottweiler', 10085), ('ios6', 10086), ('appropiate', 10087), ('diagonally', 10088), ('ruckus', 10089), ('v9000', 10090), ('pul', 10091), ('pamphlet', 10092), ('83', 10093), ('berreta', 10094), ('pedometer', 10095), ('reflectors', 10096), ('teh', 10097), ('milspec', 10098), ('k400', 10099), ('200watts', 10100), ('lightbulb', 10101), ('imprint', 10102), ('flywheel', 10103), ('300ma', 10104), ('g610s', 10105), ('greyish', 10106), ('shag', 10107), ('tucked', 10108), ('i8200', 10109), ('fenders', 10110), ('pumpkin', 10111), ('mechanically', 10112), ('securly', 10113), ('shakers', 10114), ('nsn', 10115), ('bluethoot', 10116), ('barbs', 10117), ('tg', 10118), ('shelfs', 10119), ('addjustable', 10120), ('useless', 10121), ('j470dw', 10122), ('309m', 10123), ('preouts', 10124), ('agree', 10125), ('wilton', 10126), ('1280x720', 10127), ('strollers', 10128), ('electic', 10129), ('sheer', 10130), ('snowblower', 10131), ('fenix', 10132), ('cartidges', 10133), ('durby', 10134), ('itll', 10135), ('viable', 10136), ('stratocaster', 10137), ('8inches', 10138), ('ios4', 10139), ('multitool', 10140), ('6lbs', 10141), ('15ft', 10142), ('sti', 10143), ('buenos', 10144), ('128588', 10145), ('inculded', 10146), ('stapled', 10147), ('ux31a', 10148), ('m4s', 10149), ('transform', 10150), ('armenia', 10151), ('reuseable', 10152), ('alphabetical', 10153), ('fortunes', 10154), ('lop', 10155), ('e35', 10156), ('lactobacillus', 10157), ('uae', 10158), ('bb91', 10159), ('conditioners', 10160), ('lps', 10161), ('finials', 10162), ('uncovered', 10163), ('cabbage', 10164), ('indication', 10165), ('waas', 10166), ('ipod5', 10167), ('softail', 10168), ('reciprocating', 10169), ('irulu', 10170), ('goldwing', 10171), ('170mm', 10172), ('a5300', 10173), ('harvest', 10174), ('electrically', 10175), ('tula', 10176), ('601', 10177), ('adaptors', 10178), ('owner', 10179), ('adequate', 10180), ('sho', 10181), ('rocking', 10182), ('mowers', 10183), ('airlift', 10184), ('pcmcia', 10185), ('sds', 10186), ('w1070', 10187), ('3709', 10188), ('maximun', 10189), ('chris', 10190), ('injector', 10191), ('sceen', 10192), ('producer', 10193), ('mcculloch', 10194), ('bge', 10195), ('pentair', 10196), ('communication', 10197), ('sidewalls', 10198), ('climate', 10199), ('branches', 10200), ('awesomely', 10201), ('elizabeth', 10202), ('fx4', 10203), ('3150', 10204), ('method', 10205), ('nv53', 10206), ('horrible', 10207), ('faces', 10208), ('planes', 10209), ('wateproof', 10210), ('m14', 10211), ('kydex', 10212), ('woodchips', 10213), ('dyna', 10214), ('bowie', 10215), ('izusu', 10216), ('presharpened', 10217), ('hyper', 10218), ('peppermint', 10219), ('m9', 10220), ('kenya', 10221), ('plugging', 10222), ('quinine', 10223), ('curlers', 10224), ('350w', 10225), ('8200', 10226), ('lovebird', 10227), ('hopefully', 10228), ('guides', 10229), ('29v', 10230), ('bedskirt', 10231), ('ys', 10232), ('fisical', 10233), ('x13', 10234), ('birch', 10235), ('tethered', 10236), ('wlll', 10237), ('r410', 10238), ('passthrough', 10239), ('fleck', 10240), ('shieth', 10241), ('vibrant', 10242), ('curled', 10243), ('7630', 10244), ('nv53a', 10245), ('angel', 10246), ('a7lp', 10247), ('rower', 10248), ('trickle', 10249), ('gard', 10250), ('sender', 10251), ('nozzles', 10252), ('stripping', 10253), ('clothe', 10254), ('7100', 10255), ('pate', 10256), ('shredded', 10257), ('ubiquinol', 10258), ('engage', 10259), ('killer', 10260), ('worry', 10261), ('doesit', 10262), ('warranties', 10263), ('2up', 10264), ('rainfly', 10265), ('hallo', 10266), ('rwd', 10267), ('fts', 10268), ('multicolor', 10269), ('roam', 10270), ('gravy', 10271), ('1971', 10272), ('gsi', 10273), ('13x9x2', 10274), ('sts', 10275), ('approval', 10276), ('frost', 10277), ('desert', 10278), ('dig', 10279), ('multimeter', 10280), ('theyre', 10281), ('comprendo', 10282), ('p5210', 10283), ('ksm150', 10284), ('tangential', 10285), ('strait', 10286), ('ibanez', 10287), ('plush', 10288), ('emails', 10289), ('t530', 10290), ('sequoia', 10291), ('v3', 10292), ('qwery', 10293), ('f12', 10294), ('unbuffered', 10295), ('glasstop', 10296), ('pale', 10297), ('1g', 10298), ('trolley', 10299), ('seiki', 10300), ('upwards', 10301), ('tinia', 10302), ('significant', 10303), ('i3', 10304), ('downgrade', 10305), ('litterbox', 10306), ('northern', 10307), ('hedgehog', 10308), ('vhf', 10309), ('535', 10310), ('crayfish', 10311), ('survival', 10312), ('hatchet', 10313), ('un55hu8550', 10314), ('jay', 10315), ('milliliters', 10316), ('spb', 10317), ('899', 10318), ('harry', 10319), ('carried', 10320), ('divice', 10321), ('800x600', 10322), ('unpunched', 10323), ('dwd115k', 10324), ('elephant', 10325), ('edged', 10326), ('placemats', 10327), ('belkin', 10328), ('enzymatic', 10329), ('6volt', 10330), ('adco', 10331), ('r15', 10332), ('laterals', 10333), ('wery', 10334), ('zija', 10335), ('robots', 10336), ('later', 10337), ('swirls', 10338), ('buggy', 10339), ('wheight', 10340), ('nuud', 10341), ('elid', 10342), ('idem', 10343), ('lms', 10344), ('generater', 10345), ('25cl', 10346), ('malta', 10347), ('epic', 10348), ('coupling', 10349), ('vary', 10350), ('bagels', 10351), ('spotter', 10352), ('u660', 10353), ('vg', 10354), ('2x8', 10355), ('probes', 10356), ('prowler', 10357), ('carpeted', 10358), ('zojirushi', 10359), ('exs', 10360), ('lingo', 10361), ('gelatine', 10362), ('170', 10363), ('thrower', 10364), ('capped', 10365), ('13a', 10366), ('c320', 10367), ('trangia', 10368), ('orbit', 10369), ('blitz', 10370), ('tt560', 10371), ('boulevard', 10372), ('utg', 10373), ('3watts', 10374), ('15x10x10', 10375), ('740il', 10376), ('1000w', 10377), ('350gr', 10378), ('xtrail', 10379), ('needles', 10380), ('beeping', 10381), ('vram', 10382), ('hospital', 10383), ('bateries', 10384), ('filipino', 10385), ('mallard', 10386), ('cute', 10387), ('males', 10388), ('wildgame', 10389), ('innovations', 10390), ('smoothbore', 10391), ('prof', 10392), ('instructional', 10393), ('scales', 10394), ('k3', 10395), ('markets', 10396), ('except', 10397), ('diminutions', 10398), ('mighty', 10399), ('inlude', 10400), ('calibrate', 10401), ('brooklyn', 10402), ('passion', 10403), ('coby', 10404), ('floodlight', 10405), ('850w', 10406), ('pectin', 10407), ('duse', 10408), ('omri', 10409), ('2inch', 10410), ('5ml', 10411), ('cinnamon', 10412), ('seagate', 10413), ('goflex', 10414), ('stark', 10415), ('wrapper', 10416), ('webaccess', 10417), ('1300w', 10418), ('unpack', 10419), ('le32s406', 10420), ('tobago', 10421), ('grande', 10422), ('looms', 10423), ('realistic', 10424), ('humans', 10425), ('400mg', 10426), ('centimeter', 10427), ('eastern', 10428), ('campatible', 10429), ('maglite', 10430), ('demand', 10431), ('contractor', 10432), ('slatwall', 10433), ('reds', 10434), ('cushioned', 10435), ('insoles', 10436), ('spectre', 10437), ('leader', 10438), ('resistors', 10439), ('me301t', 10440), ('multivoltage', 10441), ('gmp', 10442), ('301', 10443), ('delivers', 10444), ('40004850', 10445), ('zonevalve', 10446), ('r845', 10447), ('s85', 10448), ('visit', 10449), ('benelli', 10450), ('327', 10451), ('caused', 10452), ('bloom', 10453), ('lx277', 10454), ('ttr125', 10455), ('choices', 10456), ('gutar', 10457), ('dissolve', 10458), ('molar', 10459), ('distortion', 10460), ('leakage', 10461), ('g1', 10462), ('mattel', 10463), ('patterns', 10464), ('y300', 10465), ('swagman', 10466), ('xtc', 10467), ('098', 10468), ('tins', 10469), ('klipsch', 10470), ('lura', 10471), ('visable', 10472), ('valet', 10473), ('tamiya', 10474), ('ls1', 10475), ('caption', 10476), ('carbonated', 10477), ('revolution', 10478), ('coke', 10479), ('4x7', 10480), ('120cm', 10481), ('5500', 10482), ('ksm75wh', 10483), ('p105b', 10484), ('diego', 10485), ('bodyguard', 10486), ('undermount', 10487), ('haiti', 10488), ('ran', 10489), ('chatting', 10490), ('lapto', 10491), ('disengage', 10492), ('internacional', 10493), ('anchovy', 10494), ('windicator', 10495), ('fastener', 10496), ('e30', 10497), ('fi8910w', 10498), ('cry', 10499), ('bak', 10500), ('prisms', 10501), ('teeshirt', 10502), ('florescent', 10503), ('caster', 10504), ('a53u', 10505), ('hifi', 10506), ('grandson', 10507), ('pushers', 10508), ('urn', 10509), ('sauer', 10510), ('12x10inches', 10511), ('181', 10512), ('fos', 10513), ('avoiding', 10514), ('astm', 10515), ('f8', 10516), ('v4', 10517), ('mandrel', 10518), ('meats', 10519), ('jensen', 10520), ('jta', 10521), ('1700w', 10522), ('dvp', 10523), ('cas', 10524), ('cpsc', 10525), ('h2o', 10526), ('victoria', 10527), ('bc', 10528), ('limb', 10529), ('conversation', 10530), ('sno', 10531), ('rancher', 10532), ('brazilian', 10533), ('linkage', 10534), ('dvdrw', 10535), ('wimdows', 10536), ('15lb', 10537), ('cookers', 10538), ('networking', 10539), ('cello', 10540), ('allowable', 10541), ('78mm', 10542), ('willit', 10543), ('remarkably', 10544), ('configure', 10545), ('fuser', 10546), ('treble', 10547), ('knight', 10548), ('everlast', 10549), ('mig', 10550), ('victory', 10551), ('169', 10552), ('unplug', 10553), ('final', 10554), ('eartips', 10555), ('me370t', 10556), ('oovoo', 10557), ('diamondback', 10558), ('quadrant', 10559), ('moths', 10560), ('816', 10561), ('tachometer', 10562), ('buried', 10563), ('silly', 10564), ('crappy', 10565), ('physx', 10566), ('1397966661520', 10567), ('ed', 10568), ('retardants', 10569), ('yupp', 10570), ('4inches', 10571), ('revised', 10572), ('439', 10573), ('eng', 10574), ('19192', 10575), ('popped', 10576), ('cues', 10577), ('blub', 10578), ('h4', 10579), ('9007', 10580), ('cocking', 10581), ('miele', 10582), ('rk3188', 10583), ('cva', 10584), ('magentic', 10585), ('ticks', 10586), ('pm2', 10587), ('interference', 10588), ('renegade', 10589), ('centimetres', 10590), ('languge', 10591), ('allegan', 10592), ('915', 10593), ('senso', 10594), ('gen4', 10595), ('oneplus', 10596), ('fees', 10597), ('chromed', 10598), ('complaints', 10599), ('unthreaded', 10600), ('immune', 10601), ('foosball', 10602), ('kniw', 10603), ('burst', 10604), ('wsm', 10605), ('slingshot', 10606), ('underarms', 10607), ('numerical', 10608), ('helix', 10609), ('useable', 10610), ('turner', 10611), ('sweetner', 10612), ('qts', 10613), ('cadmium', 10614), ('champagne', 10615), ('cells', 10616), ('que', 10617), ('d257', 10618), ('tem', 10619), ('canned', 10620), ('n5030', 10621), ('a02', 10622), ('10010', 10623), ('t50', 10624), ('2ounces', 10625), ('printhead', 10626), ('41a', 10627), ('azodin', 10628), ('32mm', 10629), ('ibook', 10630), ('dehydrated', 10631), ('negatives', 10632), ('sigsauer', 10633), ('gameplay', 10634), ('gp100', 10635), ('cdsm', 10636), ('atm', 10637), ('authenticity', 10638), ('bully', 10639), ('suspension', 10640), ('corrugated', 10641), ('50mg', 10642), ('trims', 10643), ('hiking', 10644), ('trips', 10645), ('bodygaurd', 10646), ('andy', 10647), ('dvdr', 10648), ('s5102', 10649), ('roundup', 10650), ('trekking', 10651), ('wipers', 10652), ('a1502', 10653), ('27mm', 10654), ('rosebud', 10655), ('suply', 10656), ('tagine', 10657), ('telefono', 10658), ('vivotab', 10659), ('sharpie', 10660), ('rct6378w2', 10661), ('insteon', 10662), ('cache', 10663), ('sportwagen', 10664), ('cleat', 10665), ('renaming', 10666), ('rename', 10667), ('gemstones', 10668), ('defective', 10669), ('barbell', 10670), ('pacemaker', 10671), ('624', 10672), ('a10', 10673), ('alligator', 10674), ('faren', 10675), ('2pcs', 10676), ('azimuth', 10677), ('fillers', 10678), ('bp', 10679), ('p870', 10680), ('peach', 10681), ('wraptastic', 10682), ('pry', 10683), ('pours', 10684), ('dyes', 10685), ('themselves', 10686), ('m9a1', 10687), ('isthis', 10688), ('rd', 10689), ('shared', 10690), ('fz200', 10691), ('ave', 10692), ('glas', 10693), ('nmhi', 10694), ('vsx', 10695), ('timed', 10696), ('gamepad', 10697), ('gzone', 10698), ('ftdi', 10699), ('c4280', 10700), ('iroc', 10701), ('rivetted', 10702), ('widespread', 10703), ('southernlinc', 10704), ('3790', 10705), ('t1', 10706), ('vlc', 10707), ('1850mah', 10708), ('columbus', 10709), ('joe', 10710), ('naturally', 10711), ('bidirectional', 10712), ('630', 10713), ('handwritten', 10714), ('recovered', 10715), ('q300', 10716), ('amana', 10717), ('sucker', 10718), ('yogurt', 10719), ('asphalt', 10720), ('comp', 10721), ('maryland', 10722), ('tghe', 10723), ('jets', 10724), ('shooters', 10725), ('arch', 10726), ('luke', 10727), ('handel', 10728), ('110voltes', 10729), ('1045', 10730), ('dct', 10731), ('enhanced', 10732), ('cr2016', 10733), ('lubricating', 10734), ('stall', 10735), ('plexi', 10736), ('purely', 10737), ('nutrients', 10738), ('740', 10739), ('hogg', 10740), ('h6510bd', 10741), ('centage', 10742), ('455', 10743), ('breathable', 10744), ('phenom', 10745), ('alignment', 10746), ('fov', 10747), ('c2', 10748), ('acetate', 10749), ('a1428', 10750), ('baton', 10751), ('z28', 10752), ('nesn', 10753), ('emf', 10754), ('routing', 10755), ('pesto', 10756), ('manufacter', 10757), ('13w', 10758), ('nominal', 10759), ('wheatgrass', 10760), ('omega', 10761), ('thy', 10762), ('rib', 10763), ('intl', 10764), ('veneered', 10765), ('counterweights', 10766), ('nba', 10767), ('gigabytes', 10768), ('intenet', 10769), ('centering', 10770), ('dc9180', 10771), ('700t', 10772), ('ouces', 10773), ('morocco', 10774), ('burrs', 10775), ('mucho', 10776), ('explorable', 10777), ('views', 10778), ('elbow', 10779), ('400mm', 10780), ('malaysian', 10781), ('5re', 10782), ('vodafone', 10783), ('khz', 10784), ('glyphosate', 10785), ('pokewalker', 10786), ('yu', 10787), ('seamed', 10788), ('stronger', 10789), ('wakeboarding', 10790), ('flo', 10791), ('scald', 10792), ('wouldnt', 10793), ('eer', 10794), ('babyliss', 10795), ('jagged', 10796), ('zune', 10797), ('autoconnect', 10798), ('h60', 10799), ('1490', 10800), ('folk', 10801), ('unlatch', 10802), ('tee', 10803), ('vagina', 10804), ('bother', 10805), ('beams', 10806), ('barking', 10807), ('footprint', 10808), ('kombucha', 10809), ('unloader', 10810), ('pomeranian', 10811), ('enable', 10812), ('pergola', 10813), ('1397621846826', 10814), ('jointer', 10815), ('snuggly', 10816), ('bead', 10817), ('spaces', 10818), ('mains', 10819), ('flavorless', 10820), ('g30', 10821), ('warrranty', 10822), ('f510', 10823), ('covert', 10824), ('armed', 10825), ('mt2', 10826), ('modems', 10827), ('ihome', 10828), ('cheeses', 10829), ('espaol', 10830), ('p1000', 10831), ('115mm', 10832), ('coco', 10833), ('p89', 10834), ('150w', 10835), ('drag', 10836), ('12volt', 10837), ('y50', 10838), ('khaki', 10839), ('sentry', 10840), ('x4600bt', 10841), ('lmao', 10842), ('io', 10843), ('preamp', 10844), ('atenna', 10845), ('headstock', 10846), ('died', 10847), ('tubless', 10848), ('triumph', 10849), ('396', 10850), ('varnished', 10851), ('dynamic', 10852), ('martin', 10853), ('siz', 10854), ('issued', 10855), ('barreta', 10856), ('freshness', 10857), ('ajustible', 10858), ('planer', 10859), ('crust', 10860), ('mosquitos', 10861), ('masking', 10862), ('tribute', 10863), ('dinosaurs', 10864), ('ceilings', 10865), ('uniform', 10866), ('9inches', 10867), ('reese', 10868), ('artificially', 10869), ('20oz', 10870), ('chlorella', 10871), ('pyrenoides', 10872), ('chanel', 10873), ('breech', 10874), ('tennessee', 10875), ('15oz', 10876), ('organically', 10877), ('nex5r', 10878), ('parlor', 10879), ('commands', 10880), ('hammershot', 10881), ('j238', 10882), ('gyro', 10883), ('l502x', 10884), ('bound', 10885), ('forge', 10886), ('freud', 10887), ('nunchuck', 10888), ('atnt', 10889), ('4t', 10890), ('3hp', 10891), ('whatsize', 10892), ('mkiii', 10893), ('focal', 10894), ('ac100', 10895), ('daniel', 10896), ('spindles', 10897), ('supercritical', 10898), ('9004', 10899), ('0v', 10900), ('shingle', 10901), ('celljoy', 10902), ('e26', 10903), ('whai', 10904), ('thrill', 10905), ('pricing', 10906), ('hire', 10907), ('1333', 10908), ('kana', 10909), ('pearlized', 10910), ('warming', 10911), ('putter', 10912), ('unstuck', 10913), ('backpacking', 10914), ('2x4gb', 10915), ('arkmancity', 10916), ('ummm', 10917), ('viviteq', 10918), ('tpi', 10919), ('navigon', 10920), ('2090s', 10921), ('lamination', 10922), ('sdram', 10923), ('deglets', 10924), ('312a', 10925), ('squeek', 10926), ('softheat', 10927), ('7x', 10928), ('purposes', 10929), ('laf', 10930), ('aine', 10931), ('meny', 10932), ('x6002', 10933), ('simulated', 10934), ('messure', 10935), ('utv007', 10936), ('a1429', 10937), ('45v', 10938), ('distances', 10939), ('hotel', 10940), ('5cmx5', 10941), ('triangular', 10942), ('590', 10943), ('handling', 10944), ('32g', 10945), ('pcb', 10946), ('subwoffer', 10947), ('mtg', 10948), ('5x11', 10949), ('hexes', 10950), ('glocks', 10951), ('friday', 10952), ('faltiae', 10953), ('registered', 10954), ('1397886548211', 10955), ('hy', 10956), ('sublimate', 10957), ('orally', 10958), ('japane', 10959), ('raffia', 10960), ('cummins', 10961), ('coa', 10962), ('notched', 10963), ('doest', 10964), ('gripshift', 10965), ('shouler', 10966), ('36033', 10967), ('fi8905w', 10968), ('stonewash', 10969), ('60le652', 10970), ('46d43u', 10971), ('waistband', 10972), ('chromoly', 10973), ('rotisere', 10974), ('58255g', 10975), ('58255p', 10976), ('13cm', 10977), ('zuzlu', 10978), ('d550a', 10979), ('suppoer', 10980), ('picanny', 10981), ('700mg', 10982), ('i17rv', 10983), ('5457blk', 10984), ('mx922', 10985), ('20inx14in', 10986), ('59544a', 10987), ('speedy', 10988), ('botanical', 10989), ('rudbeckia', 10990), ('hirta', 10991), ('broadcloth', 10992), ('cooled', 10993), ('600ex', 10994), ('x2011', 10995), ('s7000', 10996), ('zmax', 10997), ('saxophone', 10998), ('sry', 10999), ('233', 11000), ('figuarts', 11001), ('lst420', 11002), ('jvm1790sk01', 11003), ('spices', 11004), ('pivots', 11005), ('2200143', 11006), ('swac802', 11007), ('sparklin', 11008), ('squeaker', 11009), ('expidition', 11010), ('canoes', 11011), ('lutein', 11012), ('2mg', 11013), ('listine', 11014), ('p225', 11015), ('75r15', 11016), ('90mm', 11017), ('fs400', 11018), ('drawstsring', 11019), ('capo', 11020), ('wher25', 11021), ('s5360l', 11022), ('realtek', 11023), ('rtl8110sc', 11024), ('boosmoble', 11025), ('quanum', 11026), ('spaceabar', 11027), ('z710', 11028), ('hallie', 11029), ('lg420g', 11030), ('signs', 11031), ('tiime', 11032), ('tru8866', 11033), ('25cm', 11034), ('osm', 11035), ('eneloop', 11036), ('magnus', 11037), ('ak47m', 11038), ('soe', 11039), ('chess', 11040), ('domican', 11041), ('setter', 11042), ('39200', 11043), ('sll', 11044), ('lauderdale', 11045), ('9172', 11046), ('dvt1500', 11047), ('7594esrs', 11048), ('leggings', 11049), ('digger', 11050), ('mascara', 11051), ('dubious', 11052), ('nx625', 11053), ('5277', 11054), ('wormdrive', 11055), ('4603', 11056), ('45min', 11057), ('crredit', 11058), ('6months', 11059), ('menorah', 11060), ('originally', 11061), ('insects', 11062), ('brly07', 11063), ('alphabetically', 11064), ('oled', 11065), ('probabbly', 11066), ('9volt', 11067), ('folio', 11068), ('manufactor', 11069), ('erin', 11070), ('nexia', 11071), ('bookbag', 11072), ('grader', 11073), ('80mcgs', 11074), ('5830', 11075), ('g930', 11076), ('dandy', 11077), ('spike', 11078), ('pfister', 11079), ('auot', 11080), ('sevice', 11081), ('p7500', 11082), ('swiveling', 11083), ('deemphasis', 11084), ('50us', 11085), ('75us', 11086), ('ongoing', 11087), ('bcm', 11088), ('8460p', 11089), ('guidlines', 11090), ('2550', 11091), ('evidently', 11092), ('wisk', 11093), ('cssd', 11094), ('f240gbgs', 11095), ('ssd9sc240gmda', 11096), ('earlier', 11097), ('ir810', 11098), ('illuminator', 11099), ('greenhouses', 11100), ('doce', 11101), ('xvt3d650sv', 11102), ('xt907', 11103), ('gauce', 11104), ('ohmn', 11105), ('eurolive', 11106), ('ohmns', 11107), ('chocolates', 11108), ('crunches', 11109), ('triplett', 11110), ('elchim', 11111), ('yeppers', 11112), ('refidgerator', 11113), ('passkey', 11114), ('u56e', 11115), ('12ft', 11116), ('whiteish', 11117), ('collets', 11118), ('60watt', 11119), ('kindergartener', 11120), ('ofd', 11121), ('montana', 11122), ('goodwill', 11123), ('health', 11124), ('standarded', 11125), ('swaddle', 11126), ('wildkat', 11127), ('pro530', 11128), ('copics', 11129), ('braking', 11130), ('svs151290x', 11131), ('arrange', 11132), ('bc26', 11133), ('krup', 11134), ('dl600', 11135), ('erc38br', 11136), ('tacona', 11137), ('polyurathan', 11138), ('900490', 11139), ('lc101', 11140), ('mu26jesus', 11141), ('foxpro', 11142), ('e7440', 11143), ('x325s', 11144), ('33rpm', 11145), ('albums', 11146), ('76x86', 11147), ('bt562u', 11148), ('f225', 11149), ('louver', 11150), ('70450', 11151), ('redical', 11152), ('carbohydrate', 11153), ('quantiy', 11154), ('6grams', 11155), ('ended', 11156), ('18x25', 11157), ('walkrea', 11158), ('56222', 11159), ('twister', 11160), ('pecan', 11161), ('essence', 11162), ('styker', 11163), ('counterop', 11164), ('m83', 11165), ('motored', 11166), ('skywalker', 11167), ('70oz', 11168), ('bigdog', 11169), ('220lbs', 11170), ('upstar', 11171), ('wyoming', 11172), ('disappearing', 11173), ('rising', 11174), ('pharmaceuticals', 11175), ('swade', 11176), ('hendges', 11177), ('cheverolet', 11178), ('fllter', 11179), ('accssesorie', 11180), ('cna', 11181), ('asjust', 11182), ('mitw40l6cx12', 11183), ('thannks', 11184), ('ginseng', 11185), ('95mm', 11186), ('squire', 11187), ('jewellery', 11188), ('ip110', 11189), ('ionic', 11190), ('snowloads', 11191), ('9104', 11192), ('groups', 11193), ('igroove', 11194), ('hg', 11195), ('0682', 11196), ('1750rpm', 11197), ('vht', 11198), ('sterilizer', 11199), ('combats', 11200), ('corvers', 11201), ('engravable', 11202), ('db7651', 11203), ('db7651a', 11204), ('10x10x12', 11205), ('harmful', 11206), ('73837', 11207), ('autographs', 11208), ('stretchmarks', 11209), ('purfektly', 11210), ('17x12', 11211), ('425', 11212), ('wolo', 11213), ('sinking', 11214), ('md102ll', 11215), ('erasor', 11216), ('p46gw10', 11217), ('impaired', 11218), ('builtin', 11219), ('djx', 11220), ('memmry', 11221), ('745li', 11222), ('rockshox', 11223), ('feflon', 11224), ('fluff', 11225), ('m44', 11226), ('kxtg7873s', 11227), ('pinting', 11228), ('ergonomic', 11229), ('electrify', 11230), ('h107d', 11231), ('7home', 11232), ('13334', 11233), ('pronunciation', 11234), ('dh900', 11235), ('p8z77', 11236), ('lga1155', 11237), ('reserible', 11238), ('bd530', 11239), ('cinevia', 11240), ('starbuck', 11241), ('ordnance', 11242), ('2265002', 11243), ('klx650c', 11244), ('dunno', 11245), ('spades', 11246), ('hearts', 11247), ('3x3x4', 11248), ('gopayment', 11249), ('22lr', 11250), ('65374', 11251), ('dugout', 11252), ('4x2x4', 11253), ('headers', 11254), ('fif', 11255), ('1989camaroiroc', 11256), ('pur', 11257), ('empi', 11258), ('fiter', 11259), ('dimentsions', 11260), ('adjusters', 11261), ('1721', 11262), ('toch', 11263), ('driverside', 11264), ('n700', 11265), ('wdr3500', 11266), ('jewel', 11267), ('52in', 11268), ('sorbet', 11269), ('desserts', 11270), ('lace', 11271), ('sear', 11272), ('jes1136wl01', 11273), ('stainles', 11274), ('trikkes', 11275), ('sulfites', 11276), ('pa77u', 11277), ('vibes', 11278), ('dildos', 11279), ('galant', 11280), ('coffees', 11281), ('vx570', 11282), ('ashtray', 11283), ('shin', 11284), ('che', 11285), ('fogproof', 11286), ('gmt', 11287), ('nuve', 11288), ('1370t', 11289), ('alberta', 11290), ('sx700', 11291), ('sissy', 11292), ('aminomar', 11293), ('complex', 11294), ('475mg', 11295), ('9012', 11296), ('itrip', 11297), ('hol', 11298), ('e14', 11299), ('theives', 11300), ('wiggly', 11301), ('mentions', 11302), ('ralley', 11303), ('ctek', 11304), ('7002', 11305), ('cj7', 11306), ('underwear', 11307), ('19x14x12', 11308), ('jenn', 11309), ('8205676', 11310), ('as1050', 11311), ('500d', 11312), ('drl', 11313), ('46w', 11314), ('fixing', 11315), ('ypu', 11316), ('vornado', 11317), ('85c', 11318), ('with220v', 11319), ('geared', 11320), ('qc15', 11321), ('kickback', 11322), ('samsun', 11323), ('holographic', 11324), ('edelkrone', 11325), ('91db', 11326), ('vi', 11327), ('airconditioner', 11328), ('sholder', 11329), ('clarity', 11330), ('nv55s24u', 11331), ('6520', 11332), ('lives', 11333), ('s3600', 11334), ('sb5101u', 11335), ('invalid', 11336), ('driftstar', 11337), ('movile', 11338), ('4750e', 11339), ('cardiac', 11340), ('coherence', 11341), ('galvanic', 11342), ('mc0165s', 11343), ('resistence', 11344), ('injured', 11345), ('canopies', 11346), ('315fps', 11347), ('monkeys', 11348), ('lx470', 11349), ('spaziale', 11350), ('traeger', 11351), ('beeps', 11352), ('num', 11353), ('brightside', 11354), ('a1150', 11355), ('hr22', 11356), ('conjunction', 11357), ('yees', 11358), ('esd', 11359), ('9115', 11360), ('uploaded', 11361), ('crece', 11362), ('pelo', 11363), ('xr100', 11364), ('hxdxl', 11365), ('predrilled', 11366), ('pierce', 11367), ('roasting', 11368), ('oleum', 11369), ('oleoresin', 11370), ('capsicum', 11371), ('tablecloths', 11372), ('108', 11373), ('picaniny', 11374), ('lingering', 11375), ('quadboss', 11376), ('weekend', 11377), ('ada', 11378), ('pcx', 11379), ('octa', 11380), ('4235', 11381), ('senokot', 11382), ('consuming', 11383), ('drug', 11384), ('everio', 11385), ('hm30ru', 11386), ('outterbox', 11387), ('blackjack', 11388), ('strongs', 11389), ('lexicons', 11390), ('wd65737', 11391), ('splice', 11392), ('thisvphone', 11393), ('airdyne', 11394), ('4x50', 11395), ('iluminage', 11396), ('hoooks', 11397), ('rmbp', 11398), ('metra', 11399), ('318', 11400), ('dimesions', 11401), ('6700', 11402), ('3953', 11403), ('htc6435lvw', 11404), ('dw616', 11405), ('dw660', 11406), ('vt750c', 11407), ('posable', 11408), ('doubts', 11409), ('camrie', 11410), ('c2u', 11411), ('creed', 11412), ('particulates', 11413), ('wefts', 11414), ('8a', 11415), ('134', 11416), ('20189', 11417), ('hx60v', 11418), ('bianchi', 11419), ('bales', 11420), ('bcg10', 11421), ('x751ma', 11422), ('retrackable', 11423), ('enought', 11424), ('flagpole', 11425), ('promag', 11426), ('archangel', 11427), ('natalie', 11428), ('6ohm', 11429), ('30000', 11430), ('1cup', 11431), ('anttenna', 11432), ('childs', 11433), ('rears', 11434), ('telephony', 11435), ('ultramini', 11436), ('glucometer', 11437), ('baseballs', 11438), ('isa', 11439), ('explain', 11440), ('2530', 11441), ('singnature', 11442), ('webkinz', 11443), ('2134nr', 11444), ('vepr', 11445), ('s544', 11446), ('12000', 11447), ('cme', 11448), ('digifit', 11449), ('abv', 11450), ('x19', 11451), ('propped', 11452), ('d110', 11453), ('uuper', 11454), ('bbk3', 11455), ('reverseble', 11456), ('8850', 11457), ('routines', 11458), ('vigorous', 11459), ('sweatin', 11460), ('oldies', 11461), ('olney', 11462), ('pixmamx392', 11463), ('1and1', 11464), ('rx300', 11465), ('a5176', 11466), ('electrobrush', 11467), ('meile', 11468), ('s4212', 11469), ('as30', 11470), ('cajone', 11471), ('gaba', 11472), ('nuphorin', 11473), ('i9301', 11474), ('9300', 11475), ('a000002147be78', 11476), ('sgt', 11477), ('4290', 11478), ('tarpon', 11479), ('hirota', 11480), ('compilot', 11481), ('everiomediabrowser', 11482), ('hologram', 11483), ('oringnal', 11484), ('8ghz', 11485), ('t21', 11486), ('privet', 11487), ('hedges', 11488), ('gf3', 11489), ('anytime', 11490), ('emanations', 11491), ('launchpad', 11492), ('portge', 11493), ('m700', 11494), ('s7003x', 11495), ('dx326', 11496), ('pietistic', 11497), ('rates', 11498), ('85lb', 11499), ('substrate', 11500), ('basys2', 11501), ('p7040', 11502), ('hpcompaq', 11503), ('note4', 11504), ('2535tm', 11505), ('anyn', 11506), ('waypoints', 11507), ('factoru', 11508), ('37x30x4', 11509), ('pendant', 11510), ('1967', 11511), ('rhd', 11512), ('expandible', 11513), ('dx513', 11514), ('17cal', 11515), ('outkast', 11516), ('799cc', 11517), ('36x72', 11518), ('rhis', 11519), ('4310', 11520), ('isokinetics', 11521), ('60inch', 11522), ('poggo', 11523), ('baterries', 11524), ('cs5600f', 11525), ('noop', 11526), ('aulternat', 11527), ('ending', 11528), ('parakeets', 11529), ('ux303la', 11530), ('e6540', 11531), ('depositing', 11532), ('hvac', 11533), ('20cm', 11534), ('to6', 11535), ('instamax', 11536), ('230t', 11537), ('deni', 11538), ('joist', 11539), ('h475a', 11540), ('coes', 11541), ('vacuume', 11542), ('unfortunatel', 11543), ('857', 11544), ('scholz', 11545), ('hp1056', 11546), ('nr', 11547), ('15756', 11548), ('engineers', 11549), ('aquaclear', 11550), ('flhxse', 11551), ('steet', 11552), ('websites', 11553), ('bwm', 11554), ('r1200rt', 11555), ('palce', 11556), ('hazards', 11557), ('reptile', 11558), ('v750k', 11559), ('couplers', 11560), ('accucouple', 11561), ('4510', 11562), ('trialblazer', 11563), ('bowens', 11564), ('sgs5', 11565), ('50cc', 11566), ('920xt', 11567), ('tam', 11568), ('ron', 11569), ('ldl', 11570), ('psr', 11571), ('understandable', 11572), ('prepared', 11573), ('squeaky', 11574), ('dnp614', 11575), ('d26670', 11576), ('4dcwb', 11577), ('geberit', 11578), ('porcelin', 11579), ('gsx', 11580), ('1000cc', 11581), ('88047', 11582), ('14inches', 11583), ('1558', 11584), ('sgdj701', 11585), ('469', 11586), ('hvl56am', 11587), ('ctl', 11588), ('cameroon', 11589), ('clamping', 11590), ('dialectric', 11591), ('beanie', 11592), ('tanita', 11593), ('leadscrews', 11594), ('vernier', 11595), ('rog', 11596), ('g750', 11597), ('verticals', 11598), ('acceptably', 11599), ('0020t', 11600), ('e5372', 11601), ('browm', 11602), ('adeapter', 11603), ('i90', 11604), ('psx', 11605), ('kept', 11606), ('straitalk', 11607), ('lespaul', 11608), ('gbox', 11609), ('mx2', 11610), ('rin4', 11611), ('cubby', 11612), ('yoh', 11613), ('weet', 11614), ('5litter', 11615), ('883l', 11616), ('s2000', 11617), ('interfase', 11618), ('note2', 11619), ('ringneck', 11620), ('worries', 11621), ('facilities', 11622), ('100x100', 11623), ('canabiss', 11624), ('shovels', 11625), ('playbook', 11626), ('bdcdmt', 11627), ('escutcheon', 11628), ('naturepedic', 11629), ('mr100', 11630), ('gonna', 11631), ('iomega', 11632), ('35180', 11633), ('whites', 11634), ('meringue', 11635), ('reinforcement', 11636), ('accutech', 11637), ('4914', 11638), ('55549', 11639), ('plstico', 11640), ('linear', 11641), ('1100watt', 11642), ('upholstery', 11643), ('kb34211', 11644), ('clasical', 11645), ('inset', 11646), ('wdbaau0020hbk', 11647), ('8901', 11648), ('grandcaravan', 11649), ('configurated', 11650), ('d955', 11651), ('b470', 11652), ('piranta', 11653), ('hts', 11654), ('adj', 11655), ('fueled', 11656), ('scop', 11657), ('slingor', 11658), ('onit', 11659), ('yorkshire', 11660), ('breed', 11661), ('promotion', 11662), ('corrolla', 11663), ('tempstar', 11664), ('pria', 11665), ('xp8500e', 11666), ('bn59', 11667), ('00996a', 11668), ('dv2910us', 11669), ('roadmaster', 11670), ('2all', 11671), ('terraine', 11672), ('towbar', 11673), ('18cm', 11674), ('externel', 11675), ('encourage', 11676), ('database', 11677), ('mg5300', 11678), ('9vtz', 11679), ('alskco', 11680), ('respbery', 11681), ('keytone', 11682), ('airing', 11683), ('hardy', 11684), ('stp', 11685), ('5700', 11686), ('scooper', 11687), ('80cu', 11688), ('s5380l', 11689), ('acuda', 11690), ('cll', 11691), ('a312', 11692), ('3x3', 11693), ('10x7', 11694), ('900w', 11695), ('confrencing', 11696), ('confrence', 11697), ('brnigs', 11698), ('uncomfortably', 11699), ('a340', 11700), ('a102', 11701), ('vehical', 11702), ('fj60', 11703), ('1984', 11704), ('g25', 11705), ('hpw', 11706), ('g500', 11707), ('s6102', 11708), ('doggs', 11709), ('qwill', 11710), ('s5209', 11711), ('21sf', 11712), ('stvg999', 11713), ('subx2', 11714), ('repairs', 11715), ('r5067w', 11716), ('80ml', 11717), ('replacde', 11718), ('dreamland', 11719), ('digitalized', 11720), ('jimny', 11721), ('boostmoble', 11722), ('gause', 11723), ('fantasy', 11724), ('cis', 11725), ('carries', 11726), ('metabolic', 11727), ('s9', 11728), ('pa3534u', 11729), ('1brs', 11730), ('shelving', 11731), ('40oz', 11732), ('adventure', 11733), ('19inches', 11734), ('capiscum', 11735), ('50bmg', 11736), ('008', 11737), ('gmr', 11738), ('collectors', 11739), ('hoping', 11740), ('mfcj4700w', 11741), ('dubost', 11742), ('bluetouth', 11743), ('mie2', 11744), ('gleutin', 11745), ('anr', 11746), ('47x47', 11747), ('pultry', 11748), ('frets', 11749), ('2amps', 11750), ('cheve', 11751), ('ambico', 11752), ('0555', 11753), ('jadoo', 11754), ('brine', 11755), ('bt742u', 11756), ('belive', 11757), ('fitz', 11758), ('balillax', 11759), ('sollana', 11760), ('wirk', 11761), ('drowsy', 11762), ('sthetoscope', 11763), ('balck', 11764), ('wf3450', 11765), ('clippings', 11766), ('a1332', 11767), ('660na', 11768), ('breastfed', 11769), ('pg58100', 11770), ('s2180', 11771), ('synephrine', 11772), ('620', 11773), ('coldest', 11774), ('60f', 11775), ('biking', 11776), ('gxt1000vp4', 11777), ('cx6330', 11778), ('gin', 11779), ('lichen', 11780), ('runners', 11781), ('mancala', 11782), ('foreman', 11783), ('8x3x3', 11784), ('mummy', 11785), ('isnit', 11786), ('irvine', 11787), ('killie', 11788), ('4cy', 11789), ('2011n', 11790), ('6plus', 11791), ('adya', 11792), ('scam', 11793), ('7024n', 11794), ('atop', 11795), ('masonry', 11796), ('buckwheat', 11797), ('alfalfa', 11798), ('prms', 11799), ('powerdercoat', 11800), ('aaaa', 11801), ('gotta', 11802), ('directx10', 11803), ('beaverton', 11804), ('97008', 11805), ('52lcx65', 11806), ('laptopss', 11807), ('shun', 11808), ('pirate', 11809), ('60x72', 11810), ('spandex', 11811), ('gh1100', 11812), ('64th', 11813), ('superstrength', 11814), ('pig00', 11815), ('13619', 11816), ('c39', 11817), ('minimize', 11818), ('poackaging', 11819), ('xe303c12', 11820), ('a01au', 11821), ('d1s', 11822), ('dormancy', 11823), ('jennings', 11824), ('fletching', 11825), ('dcb203', 11826), ('balljoint', 11827), ('300pc', 11828), ('definetely', 11829), ('burlap', 11830), ('guitalele', 11831), ('milke', 11832), ('720s', 11833), ('n4768z', 11834), ('d4360', 11835), ('q50', 11836), ('translation', 11837), ('poistion', 11838), ('kindal', 11839), ('vitimum', 11840), ('upgraed', 11841), ('texsport', 11842), ('thingy', 11843), ('multifunction', 11844), ('lasts', 11845), ('samsung4s', 11846), ('miswak', 11847), ('mcdavid', 11848), ('v7', 11849), ('int', 11850), ('domestic', 11851), ('acidfree', 11852), ('harnasses', 11853), ('oo', 11854), ('tangled', 11855), ('adr6350', 11856), ('airbed', 11857), ('hate', 11858), ('lipowheat', 11859), ('saran', 11860), ('simpson', 11861), ('ksm95tc80', 11862), ('amaazon', 11863), ('cured', 11864), ('bakers', 11865), ('assembeled', 11866), ('vlx', 11867), ('cfms', 11868), ('electtrical', 11869), ('110kv', 11870), ('knit', 11871), ('z400', 11872), ('extensible', 11873), ('appoved', 11874), ('4x4gb', 11875), ('8x2gb', 11876), ('8x2g', 11877), ('fbdimms', 11878), ('5300f', 11879), ('experia', 11880), ('emulator', 11881), ('beast', 11882), ('fr360', 11883), ('oats', 11884), ('34c', 11885), ('rohs', 11886), ('w620', 11887), ('17005', 11888), ('196', 11889), ('swinging', 11890), ('unfortunatley', 11891), ('g510s', 11892), ('hydroquinine', 11893), ('linksys', 11894), ('e2000', 11895), ('cieling', 11896), ('sonicview', 11897), ('8000hd', 11898), ('mature', 11899), ('watrs', 11900), ('plausible', 11901), ('camero', 11902), ('12inches', 11903), ('annode', 11904), ('mapmyfitness', 11905), ('munch', 11906), ('disregared', 11907), ('k450', 11908), ('sepeate', 11909), ('kg25hoxer', 11910), ('larado', 11911), ('dreses', 11912), ('22lbs', 11913), ('instrument', 11914), ('p3d', 11915), ('challanger', 11916), ('bach', 11917), ('mozart', 11918), ('deregister', 11919), ('a2500', 11920), ('781s', 11921), ('sd2', 11922), ('s3101', 11923), ('qosmio', 11924), ('x505', 11925), ('q870', 11926), ('xbr65x900b', 11927), ('hurry', 11928), ('narrower', 11929), ('200fps', 11930), ('lz40', 11931), ('smoth', 11932), ('aspirator', 11933), ('dv2000', 11934), ('orbital', 11935), ('bd2', 11936), ('8867', 11937), ('tablet3', 11938), ('isopropanol', 11939), ('tht', 11940), ('spreakers', 11941), ('dwd112', 11942), ('reversing', 11943), ('steele', 11944), ('modify', 11945), ('thinklight', 11946), ('7c', 11947), ('sdean', 11948), ('telemetry', 11949), ('nievel', 11950), ('overpass', 11951), ('sealake', 11952), ('12140', 11953), ('sect', 11954), ('7424', 11955), ('8100', 11956), ('darkened', 11957), ('acanthosis', 11958), ('nigricans', 11959), ('200watt', 11960), ('50gal', 11961), ('cichlids', 11962), ('vagabond', 11963), ('5hgz', 11964), ('quadband', 11965), ('octoprint', 11966), ('duplications', 11967), ('booth', 11968), ('xvz15000', 11969), ('transister', 11970), ('rechal', 11971), ('conects', 11972), ('clam', 11973), ('vibranium', 11974), ('jb2000', 11975), ('ts10', 11976), ('distemper', 11977), ('sthil', 11978), ('ms250', 11979), ('mid2012', 11980), ('20000', 11981), ('shild', 11982), ('vulcan', 11983), ('microwaves', 11984), ('beers', 11985), ('sonicderm', 11986), ('50ph660v', 11987), ('v270', 11988), ('tmaxx', 11989), ('association', 11990), ('grating', 11991), ('s6100', 11992), ('nr110e', 11993), ('barska', 11994), ('cyanoacrylate', 11995), ('1b4h', 11996), ('3517203600', 11997), ('km505', 11998), ('ref', 11999), ('km5055501', 12000), ('5ca', 12001), ('1cm', 12002), ('compatibilize', 12003), ('ramrod', 12004), ('cocaine', 12005), ('913', 12006), ('n7000', 12007), ('teff', 12008), ('amaranth', 12009), ('chattervox', 12010), ('stratosphere', 12011), ('16gig', 12012), ('p215', 12013), ('75r16', 12014), ('85042010', 12015), ('atrix2', 12016), ('smartphne', 12017), ('pedeatric', 12018), ('nutrabullet', 12019), ('34x14', 12020), ('milks', 12021), ('lx430', 12022), ('lansinoh', 12023), ('diam', 12024), ('22mm', 12025), ('skyartec', 12026), ('nasa', 12027), ('physically', 12028), ('140g', 12029), ('newman', 12030), ('olay', 12031), ('s5132', 12032), ('eights', 12033), ('l36a', 12034), ('transparencies', 12035), ('ugh', 12036), ('spools', 12037), ('supervision', 12038), ('spigen', 12039), ('leapster1', 12040), ('gota', 12041), ('st150f', 12042), ('recover', 12043), ('banned', 12044), ('improving', 12045), ('bt230', 12046), ('tranfers', 12047), ('s51122', 12048), ('lecture', 12049), ('recordings', 12050), ('giving', 12051), ('errors', 12052), ('26lv6106', 12053), ('6foot', 12054), ('l100', 12055), ('sulphate', 12056), ('pane', 12057), ('sst1300', 12058), ('14x11x8', 12059), ('schooler', 12060), ('msha', 12061), ('permissibility', 12062), ('m4400', 12063), ('envision', 12064), ('en7100e', 12065), ('4773', 12066), ('hardly', 12067), ('rakesh', 12068), ('conceal', 12069), ('scars', 12070), ('effectivelly', 12071), ('bid', 12072), ('ghw9150pw0', 12073), ('tiperrary', 12074), ('expectancy', 12075), ('theradless', 12076), ('continus', 12077), ('6891xl', 12078), ('hq6', 12079), ('64783', 12080), ('shaky', 12081), ('s30v', 12082), ('154cm', 12083), ('wratchet', 12084), ('foils', 12085), ('presume', 12086), ('10527sbe', 12087), ('400x400', 12088), ('sv470xvt1a', 12089), ('transporting', 12090), ('satellite14', 12091), ('a4100', 12092), ('lamented', 12093), ('buffered', 12094), ('frigdaire', 12095), ('glt2940feo', 12096), ('trippers', 12097), ('t103', 12098), ('taobao', 12099), ('145mhz', 12100), ('emwave', 12101), ('its110', 12102), ('120volts', 12103), ('nx125', 12104), ('puy', 12105), ('perpendicular', 12106), ('dcd710s2', 12107), ('vio', 12108), ('n110e', 12109), ('phosphide', 12110), ('accumulate', 12111), ('1fl', 12112), ('0d188357', 12113), ('autolock', 12114), ('fii', 12115), ('magpies', 12116), ('stealing', 12117), ('ztr', 12118), ('a44b', 12119), ('deodorizers', 12120), ('tiered', 12121), ('s8200', 12122), ('1750', 12123), ('neccesary', 12124), ('lanugage', 12125), ('roots', 12126), ('cuales', 12127), ('dimenciones', 12128), ('contoller', 12129), ('tx210', 12130), ('areyou', 12131), ('ln', 12132), ('unpaved', 12133), ('519wm', 12134), ('mfcj450', 12135), ('2001ford', 12136), ('windstar', 12137), ('idont', 12138), ('hdrpj340', 12139), ('retaining', 12140), ('humira', 12141), ('namely', 12142), ('lockup', 12143), ('emblems', 12144), ('sps', 12145), ('dns', 12146), ('a392g', 12147), ('uchia', 12148), ('8596', 12149), ('9x15', 12150), ('06a145704lx', 12151), ('mp9', 12152), ('cortina', 12153), ('5750g', 12154), ('yt4000', 12155), ('selectively', 12156), ('combatible', 12157), ('gaxaly', 12158), ('bridged', 12159), ('gmt15a', 12160), ('ec', 12161), ('slectric', 12162), ('cylindrical', 12163), ('genital', 12164), ('warts', 12165), ('papre', 12166), ('strawberries', 12167), ('zuchinni', 12168), ('orbiter', 12169), ('sm4000', 12170), ('stattion', 12171), ('20399', 12172), ('fiton', 12173), ('myswinn', 12174), ('mesa', 12175), ('36x152cm', 12176), ('cranium', 12177), ('9x1x8', 12178), ('automate', 12179), ('am1', 12180), ('1300r', 12181), ('hanf', 12182), ('mccormick', 12183), ('doez', 12184), ('glhs68ejpbo', 12185), ('9mms', 12186), ('handholds', 12187), ('wacky', 12188), ('c1000', 12189), ('eddy', 12190), ('tenpoints', 12191), ('squishie', 12192), ('cyclce', 12193), ('compatiblw', 12194), ('mf4370dn', 12195), ('mro', 12196), ('xa25', 12197), ('48hx24w', 12198), ('spreate', 12199), ('carryi', 12200), ('ng', 12201), ('pas', 12202), ('eater', 12203), ('hp22', 12204), ('m470nv', 12205), ('yfm40ftl', 12206), ('proheat', 12207), ('8910', 12208), ('pacifica', 12209), ('paler', 12210), ('cvt', 12211), ('aound', 12212), ('x450', 12213), ('lgph660z', 12214), ('gr20', 12215), ('xeon', 12216), ('e3', 12217), ('1240', 12218), ('3ghz', 12219), ('roady', 12220), ('tthe', 12221), ('9cr18mov', 12222), ('failure', 12223), ('dw717', 12224), ('sbs', 12225), ('difusser', 12226), ('faq', 12227), ('clarinet', 12228), ('9500', 12229), ('ix', 12230), ('supplier', 12231), ('himself', 12232), ('zigbee', 12233), ('bennington', 12234), ('chsrger', 12235), ('spryer', 12236), ('70dv', 12237), ('venilla', 12238), ('xr350v', 12239), ('famously', 12240), ('rf361pxkb', 12241), ('sonoma', 12242), ('kz', 12243), ('loadin', 12244), ('loosely', 12245), ('tensiometer', 12246), ('montion', 12247), ('sunblock', 12248), ('spk', 12249), ('km', 12250), ('t5034', 12251), ('shapes', 12252), ('10oz', 12253), ('5mins', 12254), ('200h', 12255), ('tb80ec', 12256), ('568b', 12257), ('wmn3000c', 12258), ('24050', 12259), ('trimmed', 12260), ('beyerdynamics', 12261), ('cardshave', 12262), ('charcol', 12263), ('230mm', 12264), ('cde', 12265), ('9881', 12266), ('inactive', 12267), ('powersmart', 12268), ('4x100', 12269), ('4x114', 12270), ('tupperware', 12271), ('reciver', 12272), ('labador', 12273), ('adolescent', 12274), ('slabs', 12275), ('umo8a73', 12276), ('umo8b74', 12277), ('dumping', 12278), ('6907', 12279), ('retionol', 12280), ('herbicide', 12281), ('bermuds', 12282), ('ornamec', 12283), ('15042968', 12284), ('glasse', 12285), ('burgandy', 12286), ('9x3x3', 12287), ('baffles', 12288), ('novsorry', 12289), ('7cm', 12290), ('150000', 12291), ('lest', 12292), ('passie', 12293), ('firers', 12294), ('v10p', 12295), ('trophys', 12296), ('aes', 12297), ('encryotion', 12298), ('foaming', 12299), ('l2352', 12300), ('gl12', 12301), ('visuallandprestige', 12302), ('38lbs', 12303), ('asparagus', 12304), ('c5', 12305), ('lekue', 12306), ('brightly', 12307), ('b008e', 12308), ('rf603i', 12309), ('hq8', 12310), ('570bts', 12311), ('debian', 12312), ('easels', 12313), ('akebono', 12314), ('eur681', 12315), ('sterio', 12316), ('potted', 12317), ('altitudes', 12318), ('verion', 12319), ('backit', 12320), ('49mm', 12321), ('planets', 12322), ('ballerina', 12323), ('x43z60', 12324), ('peppercorns', 12325), ('17lbs', 12326), ('mangano', 12327), ('huggable', 12328), ('componets', 12329), ('smartglow', 12330), ('egpt', 12331), ('lipid', 12332), ('f800gsa', 12333), ('t665ly', 12334), ('recievers', 12335), ('copius', 12336), ('bopping', 12337), ('spc', 12338), ('ylr2', 12339), ('87h3', 12340), ('minie', 12341), ('pesticide', 12342), ('elongate', 12343), ('polywire', 12344), ('18lbs', 12345), ('token', 12346), ('tiida', 12347), ('nestable', 12348), ('nex7', 12349), ('fletched', 12350), ('asymmetrical', 12351), ('brushing', 12352), ('d125', 12353), ('nite', 12354), ('pushbar', 12355), ('610i', 12356), ('activating', 12357), ('hwo', 12358), ('gaiacom', 12359), ('discription', 12360), ('mistake', 12361), ('spiggot', 12362), ('ksm50p', 12363), ('6061', 12364), ('alas', 12365), ('familypoolfun', 12366), ('lillies', 12367), ('reseed', 12368), ('9w', 12369), ('365nm', 12370), ('swabs', 12371), ('moistened', 12372), ('picutres', 12373), ('increased', 12374), ('adaperr', 12375), ('z570', 12376), ('absorb', 12377), ('3541', 12378), ('8ah', 12379), ('2797lmt', 12380), ('touareg', 12381), ('ts25', 12382), ('mr150cnm', 12383), ('760s', 12384), ('dorco', 12385), ('eyebrown', 12386), ('inaccurate', 12387), ('ravine', 12388), ('spiders', 12389), ('veloster', 12390), ('32c100u1', 12391), ('sgb8901', 12392), ('perfet', 12393), ('lighthouses', 12394), ('898', 12395), ('doer', 12396), ('pedastle', 12397), ('pembroke', 12398), ('pines', 12399), ('fresher', 12400), ('ct700', 12401), ('chamberlin', 12402), ('1260lm', 12403), ('x201', 12404), ('sidewalk', 12405), ('8220', 12406), ('3644', 12407), ('97doge', 12408), ('seatalsodriversside', 12409), ('solofill', 12410), ('e400', 12411), ('snub', 12412), ('chromado', 12413), ('100a20', 12414), ('100e20', 12415), ('lm250', 12416), ('delicous', 12417), ('450f', 12418), ('treatments', 12419), ('prophane', 12420), ('zuma', 12421), ('for98', 12422), ('v8043e', 12423), ('sheeping', 12424), ('30a', 12425), ('1450w', 12426), ('sierr', 12427), ('gn93ce', 12428), ('1015bx', 12429), ('mwhcdbtsl', 12430), ('c2094', 12431), ('moisturising', 12432), ('hydrating', 12433), ('cource', 12434), ('merry', 12435), ('discware', 12436), ('520022', 12437), ('36179r', 12438), ('snorpins', 12439), ('shampooer', 12440), ('yn568ex', 12441), ('temps', 12442), ('stik', 12443), ('1278', 12444), ('roles', 12445), ('ddn990hd', 12446), ('dcd771', 12447), ('strivectin', 12448), ('werent', 12449), ('compensator', 12450), ('imagination', 12451), ('souble', 12452), ('nylong', 12453), ('2x1gb', 12454), ('20070410', 12455), ('drumsticks', 12456), ('fried', 12457), ('modeling', 12458), ('931nb', 12459), ('7psi', 12460), ('sprocket', 12461), ('25h', 12462), ('790cc', 12463), ('faxes', 12464), ('km406', 12465), ('595', 12466), ('breastpump', 12467), ('audiobook', 12468), ('ciss', 12469), ('fjr', 12470), ('dacor', 12471), ('48c', 12472), ('viaero', 12473), ('ecosport', 12474), ('downlight', 12475), ('fart', 12476), ('peeeeeeeeeeeeeeeeeeee', 12477), ('excelvan', 12478), ('bm', 12479), ('dw9116', 12480), ('nexcare', 12481), ('earloop', 12482), ('40w600b', 12483), ('330t', 12484), ('puffiness', 12485), ('flhrci', 12486), ('boxing', 12487), ('dvd203', 12488), ('tacloc', 12489), ('terms', 12490), ('sws', 12491), ('protections', 12492), ('reloader', 12493), ('freedompop', 12494), ('syma', 12495), ('s33', 12496), ('thie', 12497), ('e5776s', 12498), ('twinkle', 12499), ('el7020', 12500), ('celfon', 12501), ('x515m', 12502), ('pg86300', 12503), ('pleasee', 12504), ('chinease', 12505), ('bezal', 12506), ('r2000', 12507), ('api', 12508), ('stress', 12509), ('zyme', 12510), ('thistle', 12511), ('860mhz', 12512), ('20lbs', 12513), ('baseboards', 12514), ('cra', 12515), ('model4741bk', 12516), ('milldot', 12517), ('gmos', 12518), ('varieties', 12519), ('cx700', 12520), ('irradiated', 12521), ('unsulfured', 12522), ('cordially', 12523), ('opencl', 12524), ('280mg', 12525), ('laureth', 12526), ('substances', 12527), ('torpedoes', 12528), ('kaw', 12529), ('prarie', 12530), ('hecho', 12531), ('k155', 12532), ('chapstick', 12533), ('at2035', 12534), ('chihuahua', 12535), ('supercharged', 12536), ('mote', 12537), ('nuivi', 12538), ('bikebrain', 12539), ('cag', 12540), ('diarreah', 12541), ('highway', 12542), ('inclunded', 12543), ('spanihs', 12544), ('cosmos', 12545), ('implus', 12546), ('garcinia', 12547), ('cambogia', 12548), ('ridged', 12549), ('ias', 12550), ('902400', 12551), ('rg58', 12552), ('wiktag', 12553), ('arcrylic', 12554), ('recon3d', 12555), ('fatal1ty', 12556), ('soundblaster', 12557), ('zx', 12558), ('ibe', 12559), ('asterisk', 12560), ('pbx', 12561), ('winderz', 12562), ('gotham', 12563), ('impostors', 12564), ('copywrite', 12565), ('diamondclean', 12566), ('ec155', 12567), ('dukes', 12568), ('hazzard', 12569), ('8kg', 12570), ('17lb', 12571), ('unsupported', 12572), ('1056', 12573), ('stirrups', 12574), ('nightlght', 12575), ('hpi', 12576), ('greatly', 12577), ('diminish', 12578), ('biss', 12579), ('reviewer', 12580), ('saud', 12581), ('g21c', 12582), ('l850', 12583), ('amsterdam', 12584), ('yugioh', 12585), ('indiana', 12586), ('23x18x5deep', 12587), ('hemi', 12588), ('53600', 12589), ('mitel', 12590), ('choc', 12591), ('headohone', 12592), ('201l', 12593), ('boise', 12594), ('humdifier', 12595), ('flaws', 12596), ('mfcj870dw', 12597), ('660s', 12598), ('xrt302', 12599), ('xvt473sv', 12600), ('communicate', 12601), ('1490mg', 12602), ('cauliflower', 12603), ('8x4x4', 12604), ('6hours', 12605), ('mr2', 12606), ('smt', 12607), ('scaffolding', 12608), ('contours', 12609), ('soltech', 12610), ('r971', 12611), ('crosstrek', 12612), ('asis', 12613), ('r503u', 12614), ('rh21', 12615), ('4leds', 12616), ('6leds', 12617), ('nub', 12618), ('s31', 12619), ('backordered', 12620), ('scandisk', 12621), ('anynet', 12622), ('cec', 12623), ('4030', 12624), ('whisteling', 12625), ('a6400z', 12626), ('cto', 12627), ('term', 12628), ('plumping', 12629), ('jakks', 12630), ('relation', 12631), ('replacemnt', 12632), ('gp60', 12633), ('whthout', 12634), ('vm9324', 12635), ('khal', 12636), ('drogo', 12637), ('3010', 12638), ('alphie', 12639), ('subsonic', 12640), ('forged', 12641), ('overhead', 12642), ('exterbnvvvvcvvvcvcc', 12643), ('knoq', 12644), ('suntone', 12645), ('114gt', 12646), ('exterra', 12647), ('netowrk', 12648), ('pannier', 12649), ('lg840g', 12650), ('3years', 12651), ('ywa', 12652), ('invoice', 12653), ('expense', 12654), ('ata', 12655), ('kleats', 12656), ('eyelid', 12657), ('g910', 12658), ('shrinkwrapped', 12659), ('ard', 12660), ('echomap', 12661), ('50s', 12662), ('illegal', 12663), ('courntry', 12664), ('27inch', 12665), ('14z', 12666), ('innova', 12667), ('phanton', 12668), ('flaltened', 12669), ('ralink', 12670), ('trubody', 12671), ('wellness', 12672), ('remenber', 12673), ('z82', 12674), ('7d2', 12675), ('55x', 12676), ('23x', 12677), ('technoology', 12678), ('160mm', 12679), ('bulge', 12680), ('vhargere', 12681), ('gogo', 12682), ('zipp', 12683), ('404', 12684), ('clinchers', 12685), ('epm', 12686), ('aprilia', 12687), ('tuono', 12688), ('1000r', 12689), ('8is', 12690), ('uppertor', 12691), ('chirping', 12692), ('a44h', 12693), ('nx404', 12694), ('v2500', 12695), ('beechwood', 12696), ('bvd', 12697), ('railings', 12698), ('sanitaire', 12699), ('2094', 12700), ('a77mii', 12701), ('chiesel', 12702), ('excluded', 12703), ('norwegian', 12704), ('bragg', 12705), ('aminos', 12706), ('conditioning', 12707), ('22inch', 12708), ('scean', 12709), ('a25', 12710), ('swich', 12711), ('fourteen', 12712), ('unpacked', 12713), ('moca', 12714), ('driller', 12715), ('indie', 12716), ('fryingnot', 12717), ('consuption', 12718), ('7961', 12719), ('stirrers', 12720), ('binoc', 12721), ('lasso', 12722), ('immobilizer', 12723), ('digitzer', 12724), ('15z', 12725), ('brewmometer', 12726), ('instuments', 12727), ('osung', 12728), ('iem', 12729), ('igor0069', 12730), ('texan', 12731), ('1959', 12732), ('1550w', 12733), ('uninterrupted', 12734), ('tripolar', 12735), ('windage', 12736), ('stackability', 12737), ('talkes', 12738), ('7102', 12739), ('wm', 12740), ('mototxt1080m', 12741), ('yucca', 12742), ('weevils', 12743), ('eighteen', 12744), ('woudl', 12745), ('tvpad', 12746), ('jba', 12747), ('t18u', 12748), ('instale', 12749), ('990fxa', 12750), ('ud7', 12751), ('cooks', 12752), ('srx', 12753), ('avengers', 12754), ('skunk', 12755), ('hdi', 12756), ('discernable', 12757), ('pips', 12758), ('hx6330', 12759), ('suncom', 12760), ('24wx18hx18d', 12761), ('vivarium', 12762), ('oroducts', 12763), ('softcover', 12764), ('4600', 12765), ('adc', 12766), ('v720w', 12767), ('11x14', 12768), ('mosturise', 12769), ('strobes', 12770), ('te15', 12771), ('shaving', 12772), ('razo', 12773), ('50000', 12774), ('agile', 12775), ('comotomo', 12776), ('8ounce', 12777), ('7382la', 12778), ('x102', 12779), ('ba', 12780), ('bh41t', 12781), ('materal', 12782), ('goblets', 12783), ('jl', 12784), ('nopey', 12785), ('749', 12786), ('caribeaner', 12787), ('compter', 12788), ('80s', 12789), ('jitterbug', 12790), ('geese', 12791), ('fn40fb', 12792), ('60ft', 12793), ('administered', 12794), ('recharg', 12795), ('bellowed', 12796), ('48952', 12797), ('herloom', 12798), ('42am', 12799), ('ptv', 12800), ('avaible', 12801), ('3900', 12802), ('21mm', 12803), ('breastshields', 12804), ('maby', 12805), ('18feet', 12806), ('cording', 12807), ('xl1', 12808), ('56lcx70', 12809), ('gents', 12810), ('xdp1v1', 12811), ('60g', 12812), ('asseccories', 12813), ('thonder', 12814), ('balt', 12815), ('kymco', 12816), ('peoples', 12817), ('lilthiam', 12818), ('sr1900nx', 12819), ('imports', 12820), ('maintained', 12821), ('trailler', 12822), ('sensen', 12823), ('1880', 12824), ('bracets', 12825), ('7208701g', 12826), ('overcloack', 12827), ('nutrisweet', 12828), ('tourmaline', 12829), ('rechrgeable', 12830), ('1600mah', 12831), ('hhs', 12832), ('mpixel', 12833), ('cabability', 12834), ('es8075', 12835), ('hondarr', 12836), ('motorbike', 12837), ('trx500fasf', 12838), ('library', 12839), ('odometer', 12840), ('therasage', 12841), ('calmer', 12842), ('fastened', 12843), ('humanly', 12844), ('throweys', 12845), ('zt', 12846), ('0550', 12847), ('photographs', 12848), ('lattiude', 12849), ('uptreanm', 12850), ('b1s1', 12851), ('usuable', 12852), ('bromine', 12853), ('sr22', 12854), ('respiration', 12855), ('carribean', 12856), ('jojoba', 12857), ('runned', 12858), ('1093', 12859), ('nibs', 12860), ('keypads', 12861), ('drumset', 12862), ('handbrake', 12863), ('rideable', 12864), ('rags', 12865), ('disel', 12866), ('strapping', 12867), ('thousandths', 12868), ('precocious', 12869), ('bluish', 12870), ('clincher', 12871), ('19x17x26', 12872), ('xtar', 12873), ('tz20', 12874), ('captions', 12875), ('compete', 12876), ('royals', 12877), ('k10', 12878), ('apricots', 12879), ('bedbug', 12880), ('propellers', 12881), ('boils', 12882), ('galaxysii', 12883), ('34x13', 12884), ('preventively', 12885), ('drummer', 12886), ('mds86410w54', 12887), ('19inch', 12888), ('sharpei', 12889), ('depicts', 12890), ('remodel', 12891), ('coverl', 12892), ('atari', 12893), ('sac', 12894), ('1117dx', 12895), ('p611', 12896), ('verysmall', 12897), ('a1367', 12898), ('afirmative', 12899), ('downgraded', 12900), ('danby', 12901), ('manila', 12902), ('comcave', 12903), ('pz19', 12904), ('rooms', 12905), ('afxza', 12906), ('bfxza', 12907), ('hydroxide', 12908), ('lye', 12909), ('hemisphere', 12910), ('madam', 12911), ('alexander', 12912), ('tle', 12913), ('rlii', 12914), ('centers', 12915), ('temprature', 12916), ('sr313', 12917), ('nr414', 12918), ('max45', 12919), ('xl1200c', 12920), ('trackmaster', 12921), ('microflash', 12922), ('180mg', 12923), ('multivitamins', 12924), ('yd', 12925), ('z7', 12926), ('batterer', 12927), ('sheridan', 12928), ('46069', 12929), ('un32eh5300f', 12930), ('yt1942t', 12931), ('firt', 12932), ('60le652e', 12933), ('mantle', 12934), ('dustless', 12935), ('1139', 12936), ('cita', 12937), ('griller', 12938), ('2828', 12939), ('608', 12940), ('witjout', 12941), ('f4240', 12942), ('psuedo', 12943), ('3005', 12944), ('jotul', 12945), ('nigth', 12946), ('tcl', 12947), ('ld', 12948), ('52d62u', 12949), ('graded', 12950), ('bonneville', 12951), ('chewabele', 12952), ('nas', 12953), ('twonky', 12954), ('s410', 12955), ('krom', 12956), ('instalation', 12957), ('lion', 12958), ('benzyl', 12959), ('thei', 12960), ('intervals', 12961), ('26x2', 12962), ('8awg', 12963), ('gto', 12964), ('msz', 12965), ('d36na', 12966), ('000f', 12967), ('velgro', 12968), ('vxl3s', 12969), ('casle', 12970), ('audeze', 12971), ('rogaine', 12972), ('22cv100u', 12973), ('2750', 12974), ('glacier', 12975), ('luster', 12976), ('lindy', 12977), ('r5', 12978), ('thansk', 12979), ('mirrorless', 12980), ('detecting', 12981), ('820', 12982), ('nuna', 12983), ('pipa', 12984), ('connecticut', 12985), ('autoclave', 12986), ('canon600d', 12987), ('catfish', 12988), ('compartmernts', 12989), ('dx5e', 12990), ('transformers', 12991), ('as20', 12992), ('dougsfurniturebarn', 12993), ('podz', 12994), ('nx007hd8g', 12995), ('recalculate', 12996), ('wanna', 12997), ('pilsating', 12998), ('nwze374', 12999), ('cybergun', 13000), ('squeeze', 13001), ('8x16', 13002), ('8x1', 13003), ('dents', 13004), ('scotty', 13005), ('ub12150', 13006), ('racoon', 13007), ('androied', 13008), ('bdxl', 13009), ('velvet', 13010), ('brikpak', 13011), ('curbs', 13012), ('shears', 13013), ('billion', 13014), ('s409', 13015), ('individuali', 13016), ('opereting', 13017), ('sorri', 13018), ('engles', 13019), ('pralines', 13020), ('mazdaspeed', 13021), ('fobus', 13022), ('roto', 13023), ('certify', 13024), ('tso', 13025), ('1a32nr', 13026), ('avid', 13027), ('crutches', 13028), ('ca260bc', 13029), ('stiletto', 13030), ('750w', 13031), ('ps3slim', 13032), ('sero', 13033), ('cutoffs', 13034), ('shopelvis', 13035), ('g6800', 13036), ('optimized', 13037), ('khans', 13038), ('handcuff', 13039), ('microsft', 13040), ('washcloth', 13041), ('cl', 13042), ('un32eh4003f', 13043), ('3999', 13044), ('5671', 13045), ('ag13', 13046), ('replacemen', 13047), ('ilter', 13048), ('gvmate', 13049), ('assy', 13050), ('agents', 13051), ('requred', 13052), ('collie', 13053), ('webcamb', 13054), ('iced', 13055), ('lohan', 13056), ('callus', 13057), ('pb', 13058), ('applecare', 13059), ('gt48xl', 13060), ('aj', 13061), ('220sce', 13062), ('11625513506', 13063), ('ironman', 13064), ('clarion', 13065), ('cdm6', 13066), ('sud', 13067), ('s5350', 13068), ('exselent', 13069), ('laney', 13070), ('12r', 13071), ('mu06', 13072), ('593554', 13073), ('50la6200', 13074), ('flowering', 13075), ('5x5x6', 13076), ('biscuits', 13077), ('blooming', 13078), ('ergobaby', 13079), ('aura', 13080), ('onvif', 13081), ('se535', 13082), ('moscow', 13083), ('theracane', 13084), ('400ft', 13085), ('sql', 13086), ('harddrives', 13087), ('drago', 13088), ('h61m', 13089), ('vg3', 13090), ('syphon', 13091), ('switcher', 13092), ('indution', 13093), ('b006jss21q', 13094), ('volteg', 13095), ('venezuelan', 13096), ('capsulle', 13097), ('150mm', 13098), ('oriented', 13099), ('923', 13100), ('venti', 13101), ('24h', 13102), ('faxlines', 13103), ('hypotears', 13104), ('drugstores', 13105), ('discontiued', 13106), ('play1', 13107), ('axil', 13108), ('8x2', 13109), ('25solid', 13110), ('climibng', 13111), ('rappelling', 13112), ('stretched', 13113), ('prepare', 13114), ('ello', 13115), ('tefal', 13116), ('kg5', 13117), ('eno24q4a2', 13118), ('hyper212', 13119), ('arestless', 13120), ('syndrome', 13121), ('daewood', 13122), ('7l4es', 13123), ('p55st30', 13124), ('sprinklers', 13125), ('femail', 13126), ('mivec', 13127), ('370250200mm', 13128), ('xp1600', 13129), ('insight', 13130), ('a37k', 13131), ('b16a', 13132), ('concert', 13133), ('parmisan', 13134), ('intensidad', 13135), ('yessssssssssssssssssssss', 13136), ('20amps', 13137), ('a2300', 13138), ('hollister', 13139), ('rc12yc', 13140), ('rc14yc4', 13141), ('carats', 13142), ('29lbs', 13143), ('dekup', 13144), ('vill', 13145), ('fishelite', 13146), ('2075', 13147), ('bq50', 13148), ('bt50', 13149), ('blatter', 13150), ('18amps', 13151), ('runescape', 13152), ('jis', 13153), ('caring', 13154), ('refund', 13155), ('hp61', 13156), ('740s', 13157), ('4150cdn', 13158), ('span', 13159), ('frig', 13160), ('florence', 13161), ('dv5000', 13162), ('70w', 13163), ('imac27', 13164), ('iloome', 13165), ('majestic', 13166), ('caffaeine', 13167), ('s55t', 13168), ('touchdcreen', 13169), ('repellent', 13170), ('250lb', 13171), ('22awg', 13172), ('cygolite', 13173), ('diferrent', 13174), ('diametre', 13175), ('tubelss', 13176), ('b00doifjjm', 13177), ('tailpipe', 13178), ('sheltie', 13179), ('iqual', 13180), ('refreigeration', 13181), ('knockout', 13182), ('516', 13183), ('gapped', 13184), ('prolume', 13185), ('fw510f', 13186), ('weetabix', 13187), ('blenk', 13188), ('fulao', 13189), ('zucchinis', 13190), ('beatbox', 13191), ('2min', 13192), ('musescore', 13193), ('diag', 13194), ('effin', 13195), ('ay', 13196), ('adaptar', 13197), ('skill', 13198), ('2400c10d', 13199), ('8gtx', 13200), ('4gbx2', 13201), ('dumbells', 13202), ('cardsim', 13203), ('pipette', 13204), ('ce0168', 13205), ('memopad', 13206), ('k013', 13207), ('killed', 13208), ('illusion', 13209), ('atvi', 13210), ('1680', 13211), ('reload', 13212), ('ms310d', 13213), ('organics', 13214), ('cotains', 13215), ('circumsized', 13216), ('foreskin', 13217), ('intact', 13218), ('circumcised', 13219), ('national', 13220), ('mahjongg', 13221), ('ukraine', 13222), ('expert', 13223), ('d16a9', 13224), ('d16y7', 13225), ('9700', 13226), ('leapers', 13227), ('thermo', 13228), ('ic50', 13229), ('ic100', 13230), ('4430', 13231), ('capabilitiy', 13232), ('tousch', 13233), ('ryders', 13234), ('cbc', 13235), ('spreadsheets', 13236), ('kdl48w600b', 13237), ('4x6inx18', 13238), ('virus', 13239), ('rollar', 13240), ('ps45', 13241), ('s4320', 13242), ('cannabis', 13243), ('faithfully', 13244), ('thundershirt', 13245), ('sublimed', 13246), ('doublestuf', 13247), ('oreos', 13248), ('emjoi', 13249), ('entertainment', 13250), ('delavan', 13251), ('h90', 13252), ('masine', 13253), ('emitters', 13254), ('village', 13255), ('grenada', 13256), ('indies', 13257), ('teach', 13258), ('ventilated', 13259), ('32lbs', 13260), ('polatab', 13261), ('sylibin', 13262), ('vet', 13263), ('homelink', 13264), ('roundabout', 13265), ('300x300', 13266), ('resists', 13267), ('equals', 13268), ('mls', 13269), ('6475b', 13270), ('hids', 13271), ('cm500', 13272), ('vaccum', 13273), ('minivan', 13274), ('eg', 13275), ('toster', 13276), ('boron', 13277), ('optionally', 13278), ('alleviate', 13279), ('dandruff', 13280), ('schwynn', 13281), ('m380', 13282), ('70mm', 13283), ('20a', 13284), ('pc2', 13285), ('5300u', 13286), ('555', 13287), ('zz', 13288), ('towlettes', 13289), ('erasable', 13290), ('pulgadas', 13291), ('dv5t', 13292), ('m8x1', 13293), ('acord', 13294), ('cigertette', 13295), ('76023', 13296), ('randavo', 13297), ('renata', 13298), ('sunbrella', 13299), ('wxdxh', 13300), ('30x16x29', 13301), ('firepit', 13302), ('mma', 13303), ('2as', 13304), ('ott', 13305), ('318y62', 13306), ('m5a99fx', 13307), ('1400652', 13308), ('cth1202', 13309), ('fre', 13310), ('expland', 13311), ('menory', 13312), ('research', 13313), ('mpc', 13314), ('eliminator', 13315), ('pleeeeease', 13316), ('697', 13317), ('n53sv', 13318), ('mpxls', 13319), ('ocme', 13320), ('fighterz', 13321), ('divide', 13322), ('gummed', 13323), ('nxd505a', 13324), ('valkyrie', 13325), ('gl1500cf', 13326), ('mapmywalk', 13327), ('hotshoe', 13328), ('rivit', 13329), ('nmt1010g9t', 13330), ('gazebo', 13331), ('x205ta', 13332), ('sped', 13333), ('payanywhere', 13334), ('e700i', 13335), ('beltloops', 13336), ('kilt', 13337), ('studnet', 13338), ('gelantine', 13339), ('119447c', 13340), ('88inx88in', 13341), ('xpa', 13342), ('duplicated', 13343), ('sp2022', 13344), ('propain', 13345), ('14x14x6', 13346), ('hve', 13347), ('tt660', 13348), ('cinnnamon', 13349), ('lst220', 13350), ('carabiner', 13351), ('applicable', 13352), ('tungsten', 13353), ('feer', 13354), ('remopte', 13355), ('dumptruck', 13356), ('feat', 13357), ('binds', 13358), ('underrighter', 13359), ('laborities', 13360), ('carmea', 13361), ('mk6475gsx', 13362), ('mk6476gsx', 13363), ('4f', 13364), ('griddler', 13365), ('h17', 13366), ('firmer', 13367), ('ibg', 13368), ('coq10', 13369), ('boozled', 13370), ('seanna', 13371), ('1440x900', 13372), ('appoximately', 13373), ('p9110', 13374), ('t399', 13375), ('truc', 13376), ('sonama', 13377), ('handmade', 13378), ('imped', 13379), ('lightens', 13380), ('glance', 13381), ('diary', 13382), ('unpopped', 13383), ('cdn', 13384), ('893lm', 13385), ('megoblocks', 13386), ('pks', 13387), ('engraveable', 13388), ('ultrasound', 13389), ('bleached', 13390), ('650lb', 13391), ('hippo', 13392), ('biger', 13393), ('hormone', 13394), ('rbht', 13395), ('le55u516', 13396), ('hardrive', 13397), ('ropes', 13398), ('eyebow', 13399), ('vith', 13400), ('de4820', 13401), ('storksbills', 13402), ('1000ma', 13403), ('gorellapod', 13404), ('daul', 13405), ('boxee', 13406), ('blacklight', 13407), ('mx310', 13408), ('myopia', 13409), ('065', 13410), ('454', 13411), ('1tsp', 13412), ('1tbsp', 13413), ('e85', 13414), ('methylchloroisothiazolinone', 13415), ('methyliso', 13416), ('120c', 13417), ('mx300', 13418), ('implicitly', 13419), ('chisel', 13420), ('19in', 13421), ('22in', 13422), ('herm', 13423), ('sprenger', 13424), ('batters', 13425), ('392f', 13426), ('chase', 13427), ('quicker', 13428), ('ensure', 13429), ('fot', 13430), ('hiow', 13431), ('styrafoam', 13432), ('janeiro', 13433), ('singel', 13434), ('j870dw', 13435), ('cielings', 13436), ('nics', 13437), ('sacks', 13438), ('venice', 13439), ('smlc', 13440), ('manuf', 13441), ('incense', 13442), ('notifier', 13443), ('cran', 13444), ('gogroove', 13445), ('decently', 13446), ('650i', 13447), ('tuarus', 13448), ('500lbs', 13449), ('verify', 13450), ('736on', 13451), ('45lbs', 13452), ('standardized', 13453), ('ginger', 13454), ('exstended', 13455), ('2495lt', 13456), ('essie', 13457), ('aquila', 13458), ('oon', 13459), ('duallies', 13460), ('solder', 13461), ('foreseter', 13462), ('orig', 13463), ('netfixon', 13464), ('alexandre', 13465), ('m74dp', 13466), ('subscriptions', 13467), ('70x72', 13468), ('27x21x19', 13469), ('creases', 13470), ('comeing', 13471), ('l305', 13472), ('l305d', 13473), ('homelite', 13474), ('ut80993', 13475), ('2700', 13476), ('hpa', 13477), ('visibility', 13478), ('258u', 13479), ('15long', 13480), ('sue', 13481), ('temple', 13482), ('s95', 13483), ('inigtion', 13484), ('oscillator', 13485), ('m27', 13486), ('unstrong', 13487), ('l5200', 13488), ('bbtac', 13489), ('022', 13490), ('33wx12dx38h', 13491), ('geico', 13492), ('uhaul', 13493), ('neocolor', 13494), ('pastels', 13495), ('worlwide', 13496), ('chve', 13497), ('siberia', 13498), ('letterhead', 13499), ('3vwbm31y75m366753', 13500), ('15718', 13501), ('15719', 13502), ('nvr', 13503), ('1lb3oz', 13504), ('michaelangelo', 13505), ('elvatrbb', 13506), ('727', 13507), ('sensored', 13508), ('grabbers', 13509), ('suppost', 13510), ('howmany', 13511), ('reagents', 13512), ('keeping', 13513), ('770m', 13514), ('p2000', 13515), ('variablespeed', 13516), ('c250w', 13517), ('rubi', 13518), ('newly', 13519), ('seeded', 13520), ('waterprooof', 13521), ('lucky', 13522), ('sx520', 13523), ('loaders', 13524), ('023', 13525), ('es8077', 13526), ('920xl', 13527), ('6500a', 13528), ('rount', 13529), ('siamese', 13530), ('fairy', 13531), ('tripoley', 13532), ('croix', 13533), ('bords', 13534), ('shakehand', 13535), ('penhold', 13536), ('s110', 13537), ('s120', 13538), ('monopoly', 13539), ('gells', 13540), ('er', 13541), ('basics', 13542), ('leafs', 13543), ('pt140', 13544), ('cu920', 13545), ('macarons', 13546), ('rebelxt', 13547), ('hdro', 13548), ('722g', 13549), ('nodel', 13550), ('mds808200bar', 13551), ('luxe', 13552), ('assure', 13553), ('propiconazole', 13554), ('rs160', 13555), ('spoke', 13556), ('task', 13557), ('mazda3', 13558), ('ex65', 13559), ('transfers', 13560), ('denomination', 13561), ('12by6', 13562), ('syncmaster', 13563), ('p2770', 13564), ('unclear', 13565), ('anybiody', 13566), ('xl883r', 13567), ('skateboards', 13568), ('254nm', 13569), ('wavelength', 13570), ('lwh', 13571), ('11x10x11in', 13572), ('riddell', 13573), ('acccesories', 13574), ('smsung', 13575), ('galaxys4mini', 13576), ('gokaiger', 13577), ('akared', 13578), ('b004m73cx4', 13579), ('fabriglass', 13580), ('stucco', 13581), ('mk7', 13582), ('15x18', 13583), ('coopere', 13584), ('t7316e', 13585), ('hiehest', 13586), ('hieght', 13587), ('lifeproofcase', 13588), ('softwares', 13589), ('personalized', 13590), ('bday', 13591), ('lcd19', 13592), ('fuction', 13593), ('wan', 13594), ('latitud', 13595), ('e6410', 13596), ('36v', 13597), ('raven', 13598), ('vanguard2', 13599), ('feliway', 13600), ('escali', 13601), ('3yr', 13602), ('renew', 13603), ('tubular', 13604), ('unibrow', 13605), ('fisker', 13606), ('karma', 13607), ('ithave', 13608), ('outo', 13609), ('digitec', 13610), ('buildup', 13611), ('sever', 13612), ('madiera', 13613), ('batali', 13614), ('warren', 13615), ('yesc', 13616), ('a1998', 13617), ('yfm200', 13618), ('moto4', 13619), ('poal', 13620), ('botton', 13621), ('dol', 13622), ('auxiliar', 13623), ('7and', 13624), ('3x4', 13625), ('ocusoft', 13626), ('2577lt', 13627), ('mototcraft', 13628), ('versi', 13629), ('oacute', 13630), ('violets', 13631), ('evaluate', 13632), ('enclose', 13633), ('displey', 13634), ('17t', 13635), ('me173x', 13636), ('vpceb3afm', 13637), ('concealers', 13638), ('7300', 13639), ('backset', 13640), ('quin', 13641), ('7x9x2', 13642), ('10x13x9', 13643), ('recycler', 13644), ('20370', 13645), ('cowboy', 13646), ('youshoot', 13647), ('propostionnal', 13648), ('404975', 13649), ('flamed', 13650), ('turcom', 13651), ('6610', 13652), ('lane', 13653), ('credenza', 13654), ('r52s', 13655), ('r56', 13656), ('10216n100377', 13657), ('newark', 13658), ('oilcloth', 13659), ('hd200', 13660), ('beatz', 13661), ('plantfusion', 13662), ('infestation', 13663), ('vaporub', 13664), ('nelson', 13665), ('dbpower', 13666), ('va035k', 13667), ('jammin', 13668), ('incluide', 13669), ('715t', 13670), ('we2s', 13671), ('kl7200', 13672), ('installs', 13673), ('kuwait', 13674), ('nota', 13675), ('k650', 13676), ('hydrogenated', 13677), ('r7', 13678), ('260x', 13679), ('48mm', 13680), ('amny', 13681), ('toyko', 13682), ('catching', 13683), ('schools', 13684), ('bunker', 13685), ('dosing', 13686), ('cages', 13687), ('tubed', 13688), ('nu', 13689), ('8663lm', 13690), ('andja2c395n', 13691), ('weedless', 13692), ('lund', 13693), ('tonneau', 13694), ('hamster', 13695), ('a1977', 13696), ('302', 13697), ('antioquia', 13698), ('gentex', 13699), ('gummis', 13700), ('moultrie', 13701), ('m990i', 13702), ('fingertip', 13703), ('terrycloth', 13704), ('bedrame', 13705), ('um3', 13706), ('0710012104', 13707), ('booket', 13708), ('plascic', 13709), ('900975', 13710), ('sulfuric', 13711), ('mails', 13712), ('lacrosse', 13713), ('navigition', 13714), ('harmon', 13715), ('kardon', 13716), ('kvr', 13717), ('pc133', 13718), ('512r', 13719), ('hazardous', 13720), ('btc', 13721), ('ketoconazole', 13722), ('51609', 13723), ('psa', 13724), ('metalized', 13725), ('virtualdj', 13726), ('decaf', 13727), ('mincer', 13728), ('bisque', 13729), ('peeper', 13730), ('ponds', 13731), ('aresin', 13732), ('m341', 13733), ('1913', 13734), ('18inches', 13735), ('lennox', 13736), ('dowels', 13737), ('chromium', 13738), ('4mph', 13739), ('rocky', 13740), ('courrier', 13741), ('straus', 13742), ('pubes', 13743), ('whee', 13744), ('x500v', 13745), ('alltel', 13746), ('brisbane', 13747), ('240volts', 13748), ('k45ss', 13749), ('1965', 13750), ('944', 13751), ('601880', 13752), ('x51', 13753), ('postpaid', 13754), ('gelish', 13755), ('5891', 13756), ('jb', 13757), ('dishnetwork', 13758), ('vip722', 13759), ('gtx770m', 13760), ('rxv', 13761), ('dependable', 13762), ('phtalate', 13763), ('derby', 13764), ('spicy', 13765), ('fj041', 13766), ('a1175', 13767), ('plier', 13768), ('jaws', 13769), ('sprung', 13770), ('bagw', 13771), ('lwpk60h', 13772), ('sizw', 13773), ('796', 13774), ('40x', 13775), ('avondale', 13776), ('abruptly', 13777), ('arrestors', 13778), ('babylock', 13779), ('blr3', 13780), ('4cyc', 13781), ('alumimin', 13782), ('080', 13783), ('202', 13784), ('teabox', 13785), ('4300k', 13786), ('younger', 13787), ('bari', 13788), ('reeds', 13789), ('contradictory', 13790), ('465t', 13791), ('doesn', 13792), ('bf0109', 13793), ('cluth', 13794), ('lx300', 13795), ('synch', 13796), ('poi', 13797), ('pois', 13798), ('16wx18dx8', 13799), ('appt', 13800), ('mulching', 13801), ('2900', 13802), ('931', 13803), ('fns40', 13804), ('opiical', 13805), ('55inx55in', 13806), ('ku', 13807), ('posiblemente', 13808), ('ephedra', 13809), ('bromethalin', 13810), ('lapaop', 13811), ('flhtc', 13812), ('methylisothiazolinones', 13813), ('benzalkonium', 13814), ('basenji', 13815), ('turntables', 13816), ('k45ssbwh', 13817), ('everki', 13818), ('nasopharyngeal', 13819), ('airways', 13820), ('opa', 13821), ('minus', 13822), ('humped', 13823), ('boarder', 13824), ('backdoor', 13825), ('partitions', 13826), ('society', 13827), ('starts', 13828), ('digging', 13829), ('murca', 13830), ('monofilament', 13831), ('f800st', 13832), ('oscelate', 13833), ('35x16x6', 13834), ('apartment', 13835), ('4runer', 13836), ('w120', 13837), ('9818l', 13838), ('n4110', 13839), ('receptical', 13840), ('mc954ll', 13841), ('mxh180bl', 13842), ('rpn7153x', 13843), ('5rk', 13844), ('dr99310u', 13845), ('gigbag', 13846), ('diamonds', 13847), ('worwithk', 13848), ('steiner', 13849), ('figuring', 13850), ('dipped', 13851), ('profesional', 13852), ('500ma', 13853), ('cqe', 13854), ('01102', 13855), ('hrp', 13856), ('50417', 13857), ('future', 13858), ('evinrude', 13859), ('dispensor', 13860), ('3770t', 13861), ('crochet', 13862), ('fastest', 13863), ('farro', 13864), ('famotidine', 13865), ('vt600c', 13866), ('2240', 13867), ('23200', 13868), ('tb6', 13869), ('battery1inc', 13870), ('ambers', 13871), ('chargebel', 13872), ('generators', 13873), ('vans', 13874), ('1350lmt', 13875), ('thecadr', 13876), ('rateing', 13877), ('cutouts', 13878), ('speeaker', 13879), ('p580', 13880), ('gx470', 13881), ('gp20', 13882), ('fires', 13883), ('challenging', 13884), ('townie', 13885), ('rugergp100', 13886), ('rheostat', 13887), ('chiggen', 13888), ('nuggets', 13889), ('55lb', 13890), ('qe517', 13891), ('rotadent', 13892), ('tempurature', 13893), ('sanitary', 13894), ('gfci', 13895), ('steelhead', 13896), ('terrestrial', 13897), ('erect', 13898), ('8801', 13899), ('roboreel', 13900), ('edger', 13901), ('appliances', 13902), ('annoyingly', 13903), ('powermat', 13904), ('prstige', 13905), ('g1xn', 13906), ('adpter', 13907), ('maual', 13908), ('stupid', 13909), ('avda', 13910), ('328d', 13911), ('03m', 13912), ('00m', 13913), ('sr9', 13914), ('engineered', 13915), ('b50', 13916), ('aliens', 13917), ('cigareete', 13918), ('staggered', 13919), ('utilize', 13920), ('straightner', 13921), ('everithing', 13922), ('mousse', 13923), ('footish', 13924), ('dsfasdfasdf', 13925), ('asdsdfa', 13926), ('sls', 13927), ('dea', 13928), ('harsh', 13929), ('xkr', 13930), ('octagon', 13931), ('wusthof', 13932), ('amped', 13933), ('r2000g', 13934), ('xifinity', 13935), ('maxxair', 13936), ('doubler', 13937), ('eu2000', 13938), ('toaks', 13939), ('flashlights', 13940), ('wx970', 13941), ('kronus', 13942), ('insilated', 13943), ('lg37', 13944), ('lk450', 13945), ('q063cl', 13946), ('765sli', 13947), ('300ve', 13948), ('istruction', 13949), ('prera', 13950), ('barbless', 13951), ('ultrasonic', 13952), ('spypen', 13953), ('fastrak', 13954), ('shg', 13955), ('a157', 13956), ('perrita', 13957), ('swings', 13958), ('750m', 13959), ('6ply', 13960), ('pro4x', 13961), ('sr25', 13962), ('32l4200u', 13963), ('schultz', 13964), ('ld20', 13965), ('fxd', 13966), ('dic', 13967), ('redeem', 13968), ('tallis', 13969), ('3130c', 13970), ('s6500', 13971), ('gx3', 13972), ('r20', 13973), ('sawdust', 13974), ('slushing', 13975), ('expanded', 13976), ('handers', 13977), ('6375', 13978), ('6376', 13979), ('acessories', 13980), ('beetle2012', 13981), ('maxtens', 13982), ('battory', 13983), ('hx6972', 13984), ('zuchini', 13985), ('realplayer', 13986), ('a1475', 13987), ('flaveniods', 13988), ('s107g', 13989), ('un45eh5000f', 13990), ('comming', 13991), ('cayman', 13992), ('seperatly', 13993), ('crushed', 13994), ('1955', 13995), ('vin', 13996), ('dohc', 13997), ('ericcsson', 13998), ('delays', 13999), ('eith', 14000), ('rxceklance', 14001), ('airmed', 14002), ('airsense10', 14003), ('isports', 14004), ('flavorizer', 14005), ('78lp', 14006), ('vitex', 14007), ('motherboards', 14008), ('supersize', 14009), ('24oz', 14010), ('rav252', 14011), ('rxv657', 14012), ('rav250', 14013), ('wc55280', 14014), ('paintballs', 14015), ('diametr', 14016), ('586', 14017), ('automitically', 14018), ('1ghz', 14019), ('mica', 14020), ('rokit', 14021), ('mg230u', 14022), ('everybody', 14023), ('wants', 14024), ('5wx2', 14025), ('75l', 14026), ('invisalign', 14027), ('ninguna', 14028), ('pcso', 14029), ('524', 14030), ('capresso', 14031), ('apen', 14032), ('pointy', 14033), ('toyata', 14034), ('canry', 14035), ('transponder', 14036), ('therea', 14037), ('matchingcoverall', 14038), ('10x13in', 14039), ('souffl', 14040), ('a767', 14041), ('smalll', 14042), ('reheat', 14043), ('libya', 14044), ('terrarium', 14045), ('ipaod', 14046), ('galxy', 14047), ('n7100', 14048), ('balde', 14049), ('whynter', 14050), ('10wb', 14051), ('rockets', 14052), ('5pt', 14053), ('agate', 14054), ('shuter', 14055), ('shuffles', 14056), ('parchment', 14057), ('zenith', 14058), ('wd57733', 14059), ('fusing', 14060), ('beardie', 14061), ('sulphured', 14062), ('unsulphured', 14063), ('nt', 14064), ('copies', 14065), ('basher', 14066), ('sirck1', 14067), ('pharmacopeia', 14068), ('ownermanuals', 14069), ('bx2231', 14070), ('6650', 14071), ('wm2010cw', 14072), ('10a', 14073), ('6z', 14074), ('r578', 14075), ('regulated', 14076), ('mogal', 14077), ('speekers', 14078), ('stechkin', 14079), ('ac1400', 14080), ('monroeville', 14081), ('1450dvd', 14082), ('90045', 14083), ('inces', 14084), ('antibacterial', 14085), ('fx6', 14086), ('prestuge', 14087), ('atyt', 14088), ('7014nr', 14089), ('cc2b', 14090), ('whispbar', 14091), ('iwb', 14092), ('btt490', 14093), ('cd140sce', 14094), ('oenophilia', 14095), ('muddler', 14096), ('recalled', 14097), ('concidered', 14098), ('canam', 14099), ('2x2ft', 14100), ('weapons', 14101), ('dslrs', 14102), ('ashley', 14103), ('tweezer', 14104), ('platic', 14105), ('wimax', 14106), ('unpluck', 14107), ('usesfull', 14108), ('faceing', 14109), ('c9', 14110), ('gpi', 14111), ('160mg', 14112), ('gymnastics', 14113), ('4250', 14114), ('multitouch', 14115), ('onelink', 14116), ('1250cfm', 14117), ('pennant', 14118), ('clemson', 14119), ('oom', 14120), ('soleusair', 14121), ('115volts', 14122), ('60sec', 14123), ('pyrex', 14124), ('253', 14125), ('rotten', 14126), ('12248', 14127), ('shepard', 14128), ('aussie', 14129), ('datacard', 14130), ('552854', 14131), ('504', 14132), ('deore', 14133), ('thenis', 14134), ('19x14x2', 14135), ('lx7', 14136), ('polystinger', 14137), ('handful', 14138), ('inquisitors', 14139), ('mytouch', 14140), ('auxilary', 14141), ('sb400', 14142), ('outhouse', 14143), ('civi', 14144), ('msport', 14145), ('helo', 14146), ('scout', 14147), ('mb063ll', 14148), ('accomadate', 14149), ('muslins', 14150), ('deleted', 14151), ('couples', 14152), ('mp11dx', 14153), ('purchace', 14154), ('b93', 14155), ('frequncy', 14156), ('59x15x9', 14157), ('weston', 14158), ('ac130', 14159), ('squeezebox', 14160), ('rop', 14161), ('entail', 14162), ('checkout', 14163), ('20x9', 14164), ('128546', 14165), ('hun', 14166), ('easliy', 14167), ('phifer', 14168), ('22x28x14', 14169), ('plusnuts', 14170), ('ram1500', 14171), ('2520', 14172), ('athlon', 14173), ('860k', 14174), ('microquiet', 14175), ('inhaler', 14176), ('aquastop', 14177), ('napthanate', 14178), ('833', 14179), ('maguires', 14180), ('merchendise', 14181), ('yonguno', 14182), ('nw080', 14183), ('k54c', 14184), ('8650', 14185), ('cornstarch', 14186), ('mf193', 14187), ('llego', 14188), ('14x5x6', 14189), ('yuuuup', 14190), ('porceline', 14191), ('6200l', 14192), ('chimichangas', 14193), ('passover', 14194), ('geforce6100pm', 14195), ('bobkona', 14196), ('jaden', 14197), ('colletion', 14198), ('sterndrive', 14199), ('8916', 14200), ('havf', 14201), ('9237cx3', 14202), ('shenron', 14203), ('blackbery', 14204), ('mesenger', 14205), ('ohv130', 14206), ('206832c', 14207), ('cots', 14208), ('541s', 14209), ('magnetek', 14210), ('6345', 14211), ('landscaping', 14212), ('stretchers', 14213), ('glasss', 14214), ('robotics', 14215), ('ec50', 14216), ('absolutlely', 14217), ('tabeo', 14218), ('foldabe', 14219), ('chemically', 14220), ('triclosan', 14221), ('tcop', 14222), ('silverlight', 14223), ('sufficient', 14224), ('baggers', 14225), ('pxt16542', 14226), ('ketle', 14227), ('pollici', 14228), ('36x36x36', 14229), ('withy', 14230), ('cada', 14231), ('un46d6300sf', 14232), ('60x30', 14233), ('aprica', 14234), ('puch', 14235), ('strokes', 14236), ('googling', 14237), ('redcat', 14238), ('volcano', 14239), ('epx', 14240), ('a997', 14241), ('herringbone', 14242), ('500ii', 14243), ('vanishing', 14244), ('redi', 14245), ('565ex', 14246), ('recipient', 14247), ('vibrations', 14248), ('beverly', 14249), ('yessiree', 14250), ('overalls', 14251), ('reused', 14252), ('thang', 14253), ('comparetible', 14254), ('basss', 14255), ('350mm', 14256), ('fashioned', 14257), ('figurer', 14258), ('p945', 14259), ('p440', 14260), ('swimpure', 14261), ('platforms', 14262), ('nato', 14263), ('grinds', 14264), ('consistently', 14265), ('gemini', 14266), ('redden', 14267), ('voluminous', 14268), ('dynamo', 14269), ('fitzphone', 14270), ('miix', 14271), ('autocad', 14272), ('zs15', 14273), ('okey', 14274), ('ep550', 14275), ('invert', 14276), ('recognized', 14277), ('65r17', 14278), ('tempo', 14279), ('resistable', 14280), ('d2h', 14281), ('24x30', 14282), ('incra', 14283), ('useage', 14284), ('raiser', 14285), ('wireles', 14286), ('independent', 14287), ('barometric', 14288), ('lpg', 14289), ('raft', 14290), ('charizard', 14291), ('particulary', 14292), ('handlbars', 14293), ('smartradar', 14294), ('monday', 14295), ('tues', 14296), ('wed', 14297), ('x45', 14298), ('x26', 14299), ('amplifies', 14300), ('multimedia', 14301), ('submersed', 14302), ('hammerdrill', 14303), ('fineliner', 14304), ('broilmaster', 14305), ('bk2', 14306), ('shealth', 14307), ('atta', 14308), ('arrival', 14309), ('tumbling', 14310), ('pleased', 14311), ('6060', 14312), ('artisian', 14313), ('stinging', 14314), ('nettle', 14315), ('homedics', 14316), ('rewritable', 14317), ('underwriters', 14318), ('breakout', 14319), ('72x84', 14320), ('dryness', 14321), ('m42', 14322), ('615dx', 14323), ('l111', 14324), ('p99c', 14325), ('yhe', 14326), ('timur', 14327), ('hodor', 14328), ('ampers', 14329), ('cp400', 14330), ('cp800', 14331), ('cin', 14332), ('105dx', 14333), ('ta', 14334), ('moved', 14335), ('opposing', 14336), ('wd5000', 14337), ('2pockets', 14338), ('diy', 14339), ('technician', 14340), ('flhtcui', 14341), ('ehringer', 14342), ('1u', 14343), ('phenylalanine', 14344), ('quert', 14345), ('webex', 14346), ('np55', 14347), ('squaretrade', 14348), ('p938', 14349), ('9850', 14350), ('stats', 14351), ('extentions', 14352), ('heard', 14353), ('2liters', 14354), ('wasable', 14355), ('tremelo', 14356), ('isut', 14357), ('switchable', 14358), ('lifestyle', 14359), ('beginning', 14360), ('pepple', 14361), ('lumbar', 14362), ('pedalboard', 14363), ('prunes', 14364), ('areteyterproof', 14365), ('ltx600', 14366), ('ltx630', 14367), ('tactiile', 14368), ('egrave', 14369), ('utilizzabile', 14370), ('anche', 14371), ('warners', 14372), ('intelligent', 14373), ('alerts', 14374), ('gandoderma', 14375), ('1200mm', 14376), ('888s', 14377), ('yohimbine', 14378), ('rmk', 14379), ('itialy', 14380), ('rx373', 14381), ('forms', 14382), ('valuve', 14383), ('gizzly', 14384), ('muffins', 14385), ('bionic', 14386), ('aquaponics', 14387), ('martini', 14388), ('xf1', 14389), ('9fl', 14390), ('conectivity', 14391), ('440a', 14392), ('dustpan', 14393), ('popsicles', 14394), ('azus', 14395), ('discount', 14396), ('multple', 14397), ('ibera', 14398), ('instyler', 14399), ('2100mah', 14400), ('dogle', 14401), ('90w', 14402), ('lcp', 14403), ('cx210', 14404), ('emv', 14405), ('nv500', 14406), ('tlr1', 14407), ('operations', 14408), ('marilyn', 14409), ('brillo', 14410), ('avital', 14411), ('4103lx', 14412), ('asefulme', 14413), ('t5k726', 14414), ('caterpillar', 14415), ('jku', 14416), ('mp190', 14417), ('pansonic', 14418), ('60sq15u', 14419), ('1085nr', 14420), ('trunnion', 14421), ('f17t8', 14422), ('acriflavine', 14423), ('opti', 14424), ('wmat', 14425), ('wirelss', 14426), ('dlink', 14427), ('d255e', 14428), ('1428', 14429), ('expresse', 14430), ('crt900ca', 14431), ('g7', 14432), ('g72gx', 14433), ('myclip', 14434), ('kneeboard', 14435), ('22lb', 14436), ('borne', 14437), ('790sw', 14438), ('pb9ns6b', 14439), ('furminator', 14440), ('shuts', 14441), ('trated', 14442), ('xj', 14443), ('4270us', 14444), ('y320', 14445), ('witt', 14446), ('33hz', 14447), ('sjtw', 14448), ('ryback', 14449), ('clipd', 14450), ('odi', 14451), ('longneck', 14452), ('saving', 14453), ('cat4', 14454), ('26x26', 14455), ('9in', 14456), ('jvm1650sb004', 14457), ('twisting', 14458), ('young', 14459), ('nup', 14460), ('newmark', 14461), ('rockchucker', 14462), ('20x40', 14463), ('jvm1790bk01', 14464), ('129', 14465), ('660evl', 14466), ('49047', 14467), ('probaby', 14468), ('fivehundred', 14469), ('cigs', 14470), ('glowlight', 14471), ('36x36', 14472), ('hulled', 14473), ('33140', 14474), ('creosote', 14475), ('fireplaces', 14476), ('eah', 14477), ('rq2102', 14478), ('noooooooooooooooooooooooooo', 14479), ('comewith', 14480), ('tweet', 14481), ('solved', 14482), ('withed', 14483), ('hannspree', 14484), ('compensated', 14485), ('cr17345', 14486), ('sessions', 14487), ('1hr', 14488), ('appl', 14489), ('un46d6000sf', 14490), ('1080pi', 14491), ('024av', 14492), ('sr1911', 14493), ('13amp', 14494), ('156watt', 14495), ('tams', 14496), ('headed', 14497), ('bank', 14498), ('pearstone', 14499), ('30ish', 14500), ('electrc', 14501), ('29ers', 14502), ('myn', 14503), ('places', 14504), ('1115', 14505), ('pxe', 14506), ('booting', 14507), ('u540', 14508), ('k30', 14509), ('52204', 14510), ('moles', 14511), ('possibe', 14512), ('60lbs', 14513), ('12amps', 14514), ('daaaaa', 14515), ('coure', 14516), ('morroco', 14517), ('ferrule', 14518), ('8400', 14519), ('directx', 14520), ('bsw', 14521), ('sidewall', 14522), ('sexy', 14523), ('delayed', 14524), ('emfs', 14525), ('beachbody', 14526), ('6502', 14527), ('winbook', 14528), ('tw802', 14529), ('mdg7500aww', 14530), ('4204v', 14531), ('replaceble', 14532), ('01oz', 14533), ('caching', 14534), ('paraguay', 14535), ('cornflakes', 14536), ('bbb', 14537), ('logworks', 14538), ('u3011', 14539), ('instantanous', 14540), ('skuzzlebutt', 14541), ('keter', 14542), ('200r', 14543), ('3406', 14544), ('recommmended', 14545), ('2011bmw328i', 14546), ('gua', 14547), ('880', 14548), ('mudflaps', 14549), ('sensitivity', 14550), ('435lbs', 14551), ('19x14x4', 14552), ('raused', 14553), ('drille', 14554), ('fzs', 14555), ('60mb', 14556), ('thamk', 14557), ('nebraska', 14558), ('packageing', 14559), ('octagonal', 14560), ('hopping', 14561), ('fpga', 14562), ('iowa', 14563), ('fitmodel73820', 14564), ('campatable', 14565), ('286a', 14566), ('2010c', 14567), ('sandal', 14568), ('carpenter', 14569), ('interested', 14570), ('airturn', 14571), ('edt', 14572), ('lt5v', 14573), ('rhythmic', 14574), ('gymnastic', 14575), ('vioin', 14576), ('pj540', 14577), ('140r', 14578), ('istick', 14579), ('reactive', 14580), ('dylan', 14581), ('sheep', 14582), ('willthebluecellstylusworkongalaxytablets', 14583), ('5feet', 14584), ('14x15x30', 14585), ('innertube', 14586), ('dw756', 14587), ('panaramic', 14588), ('kickstart', 14589), ('3521', 14590), ('calais', 14591), ('negatron', 14592), ('45ns', 14593), ('1257', 14594), ('14x14x13', 14595), ('festool', 14596), ('unaided', 14597), ('rusted', 14598), ('diamater', 14599), ('batteryand', 14600), ('cx240', 14601), ('clener', 14602), ('kickers', 14603), ('qhd', 14604), ('resolutions', 14605), ('242', 14606), ('melamine', 14607), ('j4msbk', 14608), ('waight', 14609), ('xse', 14610), ('vestax', 14611), ('vci', 14612), ('c710', 14613), ('2487', 14614), ('deadlatch', 14615), ('motto', 14616), ('preview', 14617), ('ornamental', 14618), ('grasses', 14619), ('rung', 14620), ('quickbed', 14621), ('30db', 14622), ('fpbb44', 14623), ('unfourtenly', 14624), ('coolent', 14625), ('yokun', 14626), ('filtration', 14627), ('ispring', 14628), ('rcc7', 14629), ('giftv', 14630), ('censor', 14631), ('rb20det', 14632), ('crawling', 14633), ('tft700t', 14634), ('htx', 14635), ('accident', 14636), ('annodized', 14637), ('whar', 14638), ('l24', 14639), ('premier', 14640), ('jegs', 14641), ('dreadlocks', 14642), ('1980', 14643), ('draco', 14644), ('har', 14645), ('arcade', 14646), ('dare', 14647), ('downpour', 14648), ('firestarter', 14649), ('polyfil', 14650), ('dvr8', 14651), ('1500h', 14652), ('xrl', 14653), ('humidifiers', 14654), ('sinlge', 14655), ('30ft', 14656), ('with110', 14657), ('freezes', 14658), ('120cap', 14659), ('799', 14660), ('scoby', 14661), ('watering', 14662), ('mental', 14663), ('hammered', 14664), ('dalco', 14665), ('3piston', 14666), ('carburator', 14667), ('amygdala', 14668), ('hippocampus', 14669), ('named', 14670), ('reversal', 14671), ('gio', 14672), ('etisalat', 14673), ('comprende', 14674), ('tollerance', 14675), ('mincing', 14676), ('rind', 14677), ('trx250', 14678), ('colder', 14679), ('reducing', 14680), ('incg', 14681), ('prepworks', 14682), ('conversions', 14683), ('avh4000nex', 14684), ('ae2', 14685), ('marketed', 14686), ('pfizer', 14687), ('28030', 14688), ('900x3a', 14689), ('keepers', 14690), ('comparability', 14691), ('635ra', 14692), ('130pounds', 14693), ('westbar', 14694), ('3504', 14695), ('stereos', 14696), ('intrigue', 14697), ('litium', 14698), ('pomegranate', 14699), ('1300s', 14700), ('xt75trb', 14701), ('groin', 14702), ('cm13', 14703), ('frequenzy', 14704), ('esx', 14705), ('virtulization', 14706), ('girlfriends', 14707), ('charter', 14708), ('leaky', 14709), ('instelation', 14710), ('168', 14711), ('wolvol', 14712), ('batteriies', 14713), ('whaat', 14714), ('turbinado', 14715), ('40cmx40cm', 14716), ('ladel', 14717), ('pfds', 14718), ('lt29i', 14719), ('m310', 14720), ('retardents', 14721), ('5800', 14722), ('scooba', 14723), ('brookstone', 14724), ('tetra', 14725), ('26170', 14726), ('414238', 14727), ('bachmann', 14728), ('inflator', 14729), ('questan', 14730), ('11unc', 14731), ('anntena', 14732), ('259', 14733), ('a3030bl', 14734), ('intruduced', 14735), ('steriliser', 14736), ('sd40ve', 14737), ('travarse', 14738), ('klr650', 14739), ('eeuu', 14740), ('teleconverter', 14741), ('kns', 14742), ('asphault', 14743), ('straightern', 14744), ('cantain', 14745), ('beroxide', 14746), ('alligators', 14747), ('arginine', 14748), ('refrigator', 14749), ('dnr0001', 14750), ('dr3', 14751), ('aged', 14752), ('30psi', 14753), ('318mhz', 14754), ('1160us', 14755), ('p0133', 14756), ('isjustaribbedtank', 14757), ('antiviral', 14758), ('ebola', 14759), ('45acp', 14760), ('t4', 14761), ('circline', 14762), ('aacs', 14763), ('note1', 14764), ('trunked', 14765), ('st65', 14766), ('overear', 14767), ('darling', 14768), ('hulls', 14769), ('sobakawa', 14770), ('px', 14771), ('frosting', 14772), ('bifiobacterium', 14773), ('infantis', 14774), ('l110', 14775), ('qaudcopter', 14776), ('eyewear', 14777), ('fig', 14778), ('earser', 14779), ('transmisions', 14780), ('sunpower', 14781), ('230w', 14782), ('e8v3d2', 14783), ('sundown', 14784), ('sundowns', 14785), ('witch', 14786), ('1410', 14787), ('3800kv', 14788), ('ax100', 14789), ('thsi', 14790), ('coverted', 14791), ('tract', 14792), ('evaporative', 14793), ('elect', 14794), ('htis', 14795), ('407c', 14796), ('activie', 14797), ('2100k', 14798), ('silverardo', 14799), ('softener', 14800), ('46inch', 14801), ('displace', 14802), ('generous', 14803), ('mouthful', 14804), ('15x16', 14805), ('yestheydo', 14806), ('d420', 14807), ('speckers', 14808), ('sloted', 14809), ('5850', 14810), ('6c35dx', 14811), ('rf500', 14812), ('ericsson', 14813), ('mt11i', 14814), ('comei', 14815), ('califfornia', 14816), ('61lm', 14817), ('swrod', 14818), ('breastmilk', 14819), ('turbine', 14820), ('armour', 14821), ('2924g', 14822), ('s405', 14823), ('picnic', 14824), ('unid', 14825), ('kerastraight', 14826), ('intense', 14827), ('janpan', 14828), ('60cycle', 14829), ('1845c', 14830), ('skidloader', 14831), ('pice', 14832), ('recesses', 14833), ('un46eh5300', 14834), ('adivse', 14835), ('pg', 14836), ('b00b301m9o', 14837), ('78888', 14838), ('otopscope', 14839), ('pti', 14840), ('wbl', 14841), ('marbulous', 14842), ('fingertec', 14843), ('fingertech', 14844), ('tcms', 14845), ('justlikei', 14846), ('usedtogetinthestore', 14847), ('unjamming', 14848), ('carter', 14849), ('brookline', 14850), ('pinked', 14851), ('blanched', 14852), ('60in', 14853), ('recycleable', 14854), ('e3db420vx', 14855), ('optimate6', 14856), ('leighton', 14857), ('onyxez', 14858), ('dcs331b', 14859), ('xcc', 14860), ('6challenger', 14861), ('420us', 14862), ('5000sq', 14863), ('xhaft', 14864), ('petedge', 14865), ('306132', 14866), ('14500', 14867), ('battries', 14868), ('noooooooo', 14869), ('33cmx33cmx80cm', 14870), ('refused', 14871), ('adress', 14872), ('proctetor', 14873), ('bp760', 14874), ('devaces', 14875), ('572', 14876), ('kerr', 14877), ('eyepiece', 14878), ('cushon', 14879), ('t9550lck', 14880), ('emg', 14881), ('shv', 14882), ('e160k', 14883), ('dithiopyr', 14884), ('nonpareils', 14885), ('musashi', 14886), ('assempbly', 14887), ('9520', 14888), ('superlight', 14889), ('078', 14890), ('110110', 14891), ('encased', 14892), ('id3', 14893), ('4810t', 14894), ('nanny', 14895), ('yws', 14896), ('fate', 14897), ('ciggaretts', 14898), ('gigi', 14899), ('colores', 14900), ('87lb', 14901), ('lithuania', 14902), ('beatle', 14903), ('k5a', 14904), ('pima', 14905), ('l8000', 14906), ('spheres', 14907), ('forest', 14908), ('procyanidins', 14909), ('lagging', 14910), ('upgrading', 14911), ('18x24', 14912), ('tumblr', 14913), ('lites', 14914), ('yss', 14915), ('corneta', 14916), ('amplificada', 14917), ('chihuahuas', 14918), ('tiatn', 14919), ('qosimo', 14920), ('s1811model', 14921), ('117x76x27', 14922), ('cs7110', 14923), ('piggy', 14924), ('bush', 14925), ('lifeproff', 14926), ('reed', 14927), ('seasonal', 14928), ('torment', 14929), ('aasembled', 14930), ('sable', 14931), ('wierless', 14932), ('suported', 14933), ('corp', 14934), ('oforigin', 14935), ('solidly', 14936), ('6ounds', 14937), ('properties', 14938), ('maltodextrin', 14939), ('uplight', 14940), ('swappable', 14941), ('hover', 14942), ('tincture', 14943), ('t40', 14944), ('atra', 14945), ('westeck', 14946), ('nikkor', 14947), ('sad', 14948), ('stainable', 14949), ('poof', 14950), ('edid', 14951), ('tiara', 14952), ('tf201', 14953), ('doking', 14954), ('tf101', 14955), ('arcadie', 14956), ('cx380', 14957), ('garmin541s', 14958), ('tamashii', 14959), ('19x13', 14960), ('75x1', 14961), ('un40h6350', 14962), ('matzunichi', 14963), ('m97', 14964), ('pg42', 14965), ('q60', 14966), ('bronzeish', 14967), ('graduated', 14968), ('darkrai', 14969), ('giratina', 14970), ('1320', 14971), ('fragrence', 14972), ('insect', 14973), ('lv61', 14974), ('embark', 14975), ('sj4000', 14976), ('productd', 14977), ('stripped', 14978), ('traysand', 14979), ('organisms', 14980), ('workt', 14981), ('aspirin', 14982), ('65in', 14983), ('plot', 14984), ('smartstick', 14985), ('velcroe', 14986), ('uts', 14987), ('vdv22', 14988), ('vd', 14989), ('1800w', 14990), ('7590', 14991), ('satilight', 14992), ('briquttes', 14993), ('30hz', 14994), ('and220v', 14995), ('pro3', 14996), ('fil', 14997), ('volumen', 14998), ('m300', 14999), ('braiding', 15000), ('styles', 15001), ('80lb', 15002), ('mprms', 15003), ('dc24', 15004), ('bov450xl', 15005), ('as3x', 15006), ('2feet', 15007), ('comic', 15008), ('240hz', 15009), ('a780gmh', 15010), ('stok', 15011), ('sga1000', 15012), ('421s', 15013), ('inginuity', 15014), ('playard', 15015), ('27mhz', 15016), ('57x27x8', 15017), ('520m', 15018), ('15x7', 15019), ('schaller', 15020), ('14010101', 15021), ('straplocks', 15022), ('wherever', 15023), ('gs6000', 15024), ('grayy', 15025), ('tokyo', 15026), ('ducane', 15027), ('model1605', 15028), ('periods', 15029), ('iseeu', 15030), ('viewer2', 15031), ('majpr', 15032), ('1390', 15033), ('iview', 15034), ('merz', 15035), ('bg10', 15036), ('sincerely', 15037), ('floorcarecom', 15038), ('cheokee', 15039), ('4l', 15040), ('3245', 15041), ('chit', 15042), ('chattin', 15043), ('lambie', 15044), ('imprinted', 15045), ('aboiy', 15046), ('d4', 15047), ('x31', 15048), ('1300c', 15049), ('nxt', 15050), ('difuser', 15051), ('l875', 15052), ('7110', 15053), ('v10', 15054), ('excursion', 15055), ('spining', 15056), ('marrthon', 15057), ('fr48z', 15058), ('daton', 15059), ('48y', 15060), ('a1051', 15061), ('dimensios', 15062), ('formamide', 15063), ('pefectly', 15064), ('triathlon', 15065), ('bey', 15066), ('airbrush', 15067), ('payer', 15068), ('1070', 15069), ('garateen', 15070), ('gelcoat', 15071), ('airport', 15072), ('aretro', 15073), ('onclude', 15074), ('circut', 15075), ('18x16', 15076), ('distributed', 15077), ('scantrons', 15078), ('widex', 15079), ('cic', 15080), ('leapreader', 15081), ('capturing', 15082), ('stefan', 15083), ('640x480', 15084), ('p90', 15085), ('weekender', 15086), ('6k', 15087), ('ecoli', 15088), ('latte', 15089), ('el1', 15090), ('aloin', 15091), ('viola', 15092), ('8355', 15093), ('spent', 15094), ('tga740b', 15095), ('tga740c', 15096), ('stitches', 15097), ('ft701', 15098), ('65lb7100', 15099), ('ot', 15100), ('blinks', 15101), ('tru', 15102), ('pathlight', 15103), ('chirp', 15104), ('cryptic', 15105), ('sarasota', 15106), ('iped', 15107), ('mini2', 15108), ('thare', 15109), ('majority', 15110), ('2000e', 15111), ('holkd', 15112), ('midatx', 15113), ('1400watts', 15114), ('tipping', 15115), ('sonly', 15116), ('isit', 15117), ('10sf', 15118), ('2pack', 15119), ('mavea', 15120), ('convincer', 15121), ('accessary', 15122), ('maintenance', 15123), ('b800', 15124), ('2011slt', 15125), ('scoulp', 15126), ('wonderfully', 15127), ('128120', 15128), ('3542', 15129), ('hx100', 15130), ('modelo', 15131), ('writings', 15132), ('wacom', 15133), ('dinensions', 15134), ('org', 15135), ('dx2300', 15136), ('airgun', 15137), ('firearm', 15138), ('sumsung', 15139), ('plazma', 15140), ('pueen', 15141), ('preorder', 15142), ('fnh', 15143), ('66926', 15144), ('neomycin', 15145), ('polysiloxanes', 15146), ('sipping', 15147), ('rectangle', 15148), ('beyblade', 15149), ('12th', 15150), ('vsm200', 15151), ('demilav', 15152), ('hcl1104g', 15153), ('happily', 15154), ('whant', 15155), ('smdv', 15156), ('908', 15157), ('1s', 15158), ('alum', 15159), ('aniversary', 15160), ('12100', 15161), ('sparky', 15162), ('k1640', 15163), ('tl2', 15164), ('frisbee', 15165), ('20amp', 15166), ('11bgn', 15167), ('obsidian', 15168), ('250d', 15169), ('allegra', 15170), ('nobody', 15171), ('globla', 15172), ('faao87p7a', 15173), ('1652', 15174), ('altogether', 15175), ('saskatoon', 15176), ('astrotracer', 15177), ('iwll', 15178), ('trialerblazer', 15179), ('detox', 15180), ('keg', 15181), ('equipement', 15182), ('wieghts', 15183), ('50ln5700', 15184), ('braven', 15185), ('brv', 15186), ('g470', 15187), ('permanant', 15188), ('shinier', 15189), ('lockout', 15190), ('poploc', 15191), ('vt1100', 15192), ('skippers', 15193), ('mittens', 15194), ('bsp', 15195), ('crutchfield', 15196), ('33567e', 15197), ('tek600lc', 15198), ('sb6055b', 15199), ('cyberpower', 15200), ('compnay', 15201), ('austrlaia', 15202), ('rich', 15203), ('showxpress', 15204), ('prack', 15205), ('hr44', 15206), ('stockpot', 15207), ('wannty', 15208), ('samovar', 15209), ('piriformis', 15210), ('terumo', 15211), ('02000z', 15212), ('oximeter', 15213), ('oxygenation', 15214), ('convertr', 15215), ('menards', 15216), ('la63', 15217), ('wesga21k7662', 15218), ('knive', 15219), ('triggered', 15220), ('iphoto', 15221), ('k550', 15222), ('y511', 15223), ('unloock', 15224), ('p22', 15225), ('neater', 15226), ('serria', 15227), ('wiskers', 15228), ('arber', 15229), ('clarisonic', 15230), ('oin', 15231), ('owls', 15232), ('2235dx', 15233), ('hx8211', 15234), ('betta', 15235), ('diana', 15236), ('rachet', 15237), ('dl503b', 15238), ('cargador', 15239), ('audfono', 15240), ('gh4k', 15241), ('nfi', 15242), ('d553m', 15243), ('q3200', 15244), ('tramp', 15245), ('greenscreen', 15246), ('ae101', 15247), ('rtc100', 15248), ('tardis', 15249), ('haze', 15250), ('kerosun', 15251), ('rasberry', 15252), ('skincuetical', 15253), ('ethiopian', 15254), ('eritrean', 15255), ('lemons', 15256), ('donut', 15257), ('sceeen', 15258), ('lnofe', 15259), ('47ln5400', 15260), ('applicators', 15261), ('496', 15262), ('un65f7100', 15263), ('stihlfs40c', 15264), ('100ti', 15265), ('el9a', 15266), ('filed', 15267), ('319', 15268), ('swallowing', 15269), ('w44xht36', 15270), ('solgar', 15271), ('vtech', 15272), ('organized', 15273), ('systhem', 15274), ('inbuild', 15275), ('fgr8mqi', 15276), ('monaural', 15277), ('kahr', 15278), ('cw380', 15279), ('dws535t', 15280), ('dws535', 15281), ('photoelectric', 15282), ('3tb', 15283), ('minimus', 15284), ('2037', 15285), ('a2003', 15286), ('b2100', 15287), ('phoney', 15288), ('rtf', 15289), ('galaxy3', 15290), ('i577', 15291), ('protects', 15292), ('unpeeled', 15293), ('wl', 15294), ('embossing', 15295), ('gsr', 15296), ('minifigures', 15297), ('freq', 15298), ('433mhz', 15299), ('sghi717', 15300), ('brvbar', 15301), ('ingrediant', 15302), ('sesame', 15303), ('pk380', 15304), ('sweaters', 15305), ('eapa', 15306), ('fein', 15307), ('60lb', 15308), ('nummber', 15309), ('itmes', 15310), ('hangup', 15311), ('elelectronic', 15312), ('cyclone', 15313), ('diff', 15314), ('prodrive', 15315), ('soes', 15316), ('generations', 15317), ('np350v5c', 15318), ('a01us', 15319), ('thumping', 15320), ('kfp740', 15321), ('mirco', 15322), ('k52jt', 15323), ('124', 15324), ('3040', 15325), ('kl', 15326), ('skil', 15327), ('1823', 15328), ('wouldrill', 15329), ('flaking', 15330), ('pignose', 15331), ('teaspoons', 15332), ('colourit', 15333), ('spr', 15334), ('10tw', 15335), ('jel', 15336), ('uy95', 15337), ('nitendo', 15338), ('hap9243', 15339), ('stew', 15340), ('alchoholic', 15341), ('1040us', 15342), ('moove', 15343), ('sraight', 15344), ('1dx', 15345), ('blackheads', 15346), ('dl365', 15347), ('3ti', 15348), ('a700', 15349), ('plymouth', 15350), ('perfum', 15351), ('yellowtop', 15352), ('w20', 15353), ('ihpone', 15354), ('illuminating', 15355), ('elinchrom', 15356), ('46x33x1', 15357), ('cease', 15358), ('youhave', 15359), ('lazer', 15360), ('revx', 15361), ('eboost', 15362), ('400d', 15363), ('flowered', 15364), ('anthuriums', 15365), ('brickhouse', 15366), ('climber', 15367), ('tc5000', 15368), ('martins', 15369), ('permenthrin', 15370), ('distillates', 15371), ('balms', 15372), ('integral', 15373), ('pc1500', 15374), ('baldheaded', 15375), ('scootering', 15376), ('bluedio', 15377), ('df33t', 15378), ('ddr', 15379), ('contorller', 15380), ('a210', 15381), ('bebop', 15382), ('matcha', 15383), ('c650', 15384), ('ez1522d', 15385), ('likes', 15386), ('mantis', 15387), ('7222m', 15388), ('fastening', 15389), ('x220i', 15390), ('electrocuted', 15391), ('pronounced', 15392), ('hypercom', 15393), ('t7plus', 15394), ('lactic', 15395), ('victorinox', 15396), ('rev4', 15397), ('shany', 15398), ('gl220', 15399), ('gl212', 15400), ('pce605k', 15401), ('charleston', 15402), ('missions', 15403), ('receipts', 15404), ('separator', 15405), ('sits', 15406), ('gelcap', 15407), ('welds', 15408), ('bco33ot', 15409), ('maroon', 15410), ('b75m', 15411), ('samsong', 15412), ('m41', 15413), ('montblanc', 15414), ('sami90532', 15415), ('pellit', 15416), ('rifel', 15417), ('volunteer', 15418), ('firefighter', 15419), ('p5ws0', 15420), ('transfomer', 15421), ('lovebirds', 15422), ('thailan', 15423), ('manatea', 15424), ('aceulfame', 15425), ('mrs', 15426), ('anderson', 15427), ('harolds', 15428), ('harold', 15429), ('tstronics', 15430), ('dualshock', 15431), ('x29', 15432), ('pagoda', 15433), ('undertone', 15434), ('undetones', 15435), ('18db', 15436), ('23gauge', 15437), ('70k', 15438), ('pub', 15439), ('repairable', 15440), ('3volt', 15441), ('190lbs', 15442), ('w220', 15443), ('perctect', 15444), ('glitter', 15445), ('38grams', 15446), ('ksm75', 15447), ('mollie', 15448), ('maltitol', 15449), ('alcohols', 15450), ('measurer', 15451), ('footsie', 15452), ('weill', 15453), ('2003jeep', 15454), ('lardeo', 15455), ('vegemite', 15456), ('eco', 15457), ('lmp', 15458), ('h200', 15459), ('pentaband', 15460), ('yepyep', 15461), ('wd73833', 15462), ('23inch', 15463), ('ct30', 15464), ('lr44', 15465), ('littler', 15466), ('nibbles', 15467), ('8gbm', 15468), ('woody', 15469), ('14k', 15470), ('sensos', 15471), ('seinna', 15472), ('6kg', 15473), ('sprouting', 15474), ('mediterranean', 15475), ('6510', 15476), ('greay', 15477), ('e988', 15478), ('allergy', 15479), ('sinus', 15480), ('antiqued', 15481), ('sgiii', 15482), ('at875', 15483), ('bonding', 15484), ('elmer', 15485), ('g3258', 15486), ('1102', 15487), ('txs', 15488), ('veins', 15489), ('522', 15490), ('awebsite', 15491), ('tjs', 15492), ('waterparks', 15493), ('screwable', 15494), ('18in', 15495), ('infra', 15496), ('ottomans', 15497), ('worms', 15498), ('pro10', 15499), ('rct6103w46', 15500), ('4sq', 15501), ('uppa', 15502), ('pl2', 15503), ('terracota', 15504), ('gt1080', 15505), ('quesadillas', 15506), ('lr626', 15507), ('honds', 15508), ('cbr500', 15509), ('festival', 15510), ('pendent', 15511), ('yuuuuuup', 15512), ('122', 15513), ('21ft', 15514), ('theyr', 15515), ('duplacits', 15516), ('phenylenediame', 15517), ('ith', 15518), ('availible', 15519), ('hrr', 15520), ('216', 15521), ('sda', 15522), ('atmosphere', 15523), ('peltier', 15524), ('anoles', 15525), ('mark3', 15526), ('flatbed', 15527), ('phc', 15528), ('ntfs', 15529), ('ant3038xr', 15530), ('ds2', 15531), ('rapunzel', 15532), ('sh', 15533), ('65000', 15534), ('boos', 15535), ('bakelite', 15536), ('contail', 15537), ('eventide', 15538), ('timefactor', 15539), ('perspiration', 15540), ('ts1350', 15541), ('2455lt', 15542), ('auti', 15543), ('impedence', 15544), ('87317n2', 15545), ('patty', 15546), ('pem31sfss', 15547), ('spudger', 15548), ('1hp', 15549), ('1725', 15550), ('2500k', 15551), ('layer3', 15552), ('fg70404', 15553), ('comfotor', 15554), ('towed', 15555), ('monica', 15556), ('epc', 15557), ('involved', 15558), ('connet', 15559), ('wattz', 15560), ('a1466', 15561), ('fished', 15562), ('inzip', 15563), ('67834', 15564), ('btus', 15565), ('is1920', 15566), ('iss', 15567), ('skinnys', 15568), ('delivering', 15569), ('andover', 15570), ('ks', 15571), ('ejo11', 15572), ('lytera', 15573), ('828', 15574), ('stic', 15575), ('plugins', 15576), ('insructions', 15577), ('unassemble', 15578), ('java', 15579), ('142', 15580), ('versus', 15581), ('thump', 15582), ('sog', 15583), ('247a', 15584), ('undies', 15585), ('haptic', 15586), ('abt', 15587), ('virual', 15588), ('9310', 15589), ('meh', 15590), ('picures', 15591), ('airplain', 15592), ('piaggio', 15593), ('mxl990', 15594), ('wheelbase', 15595), ('acidentally', 15596), ('sangean', 15597), ('spiralizer', 15598), ('openvpn', 15599), ('650g', 15600), ('tgis', 15601), ('iwireless', 15602), ('4cyl', 15603), ('adustable', 15604), ('copco', 15605), ('autoreturn', 15606), ('soybeans', 15607), ('1140tu', 15608), ('30lbs', 15609), ('paris', 15610), ('xp410', 15611), ('crf150f', 15612), ('desulfate', 15613), ('desulfator', 15614), ('745', 15615), ('z6', 15616), ('newtonian', 15617), ('areca', 15618), ('majesty', 15619), ('vdo', 15620), ('volaget', 15621), ('flinching', 15622), ('f800gs', 15623), ('straighytalk', 15624), ('citadel', 15625), ('sbh', 15626), ('mh230r', 15627), ('seirra', 15628), ('ts4d', 15629), ('emeralds', 15630), ('bocce', 15631), ('glory', 15632), ('h868c', 15633), ('cartrideges', 15634), ('3510', 15635), ('quadpod', 15636), ('path', 15637), ('dr600gw', 15638), ('7800', 15639), ('laguiole', 15640), ('textures', 15641), ('subscriber', 15642), ('karl', 15643), ('zeiss', 15644), ('l720', 15645), ('pedestrian', 15646), ('wd10ezex', 15647), ('ghana', 15648), ('cupholders', 15649), ('l501x', 15650), ('ipaid', 15651), ('73011', 15652), ('youngnuo', 15653), ('dechatable', 15654), ('turbo4400', 15655), ('vidios', 15656), ('134472202', 15657), ('buggies', 15658), ('d4260', 15659), ('lattes', 15660), ('monted', 15661), ('fermax', 15662), ('nutrient', 15663), ('videogames', 15664), ('daz', 15665), ('7190', 15666), ('excelentt', 15667), ('transducers', 15668), ('6tb', 15669), ('sie2', 15670), ('k4632aa', 15671), ('textbook', 15672), ('xrs9745', 15673), ('2mb', 15674), ('70lbs', 15675), ('kilogram', 15676), ('uploading', 15677), ('lxt600vps', 15678), ('tricolor', 15679), ('realism', 15680), ('japinease', 15681), ('derma', 15682), ('e250', 15683), ('6m', 15684), ('whipped', 15685), ('53x31x8', 15686), ('var', 15687), ('a3u', 15688), ('androids', 15689), ('robertson', 15690), ('repell', 15691), ('remaining', 15692), ('fs100', 15693), ('mobilephone', 15694), ('shim', 15695), ('yagi', 15696), ('req', 15697), ('012', 15698), ('yall', 15699), ('pn51f8500', 15700), ('greasy', 15701), ('outtake', 15702), ('everythng', 15703), ('noup', 15704), ('papain', 15705), ('bluetec', 15706), ('0k', 15707), ('benecol', 15708), ('utendils', 15709), ('wraped', 15710), ('tallest', 15711), ('un46f6350af', 15712), ('k100', 15713), ('triste', 15714), ('robins', 15715), ('vg248qe', 15716), ('m68c', 15717), ('nabucco', 15718), ('bc070', 15719), ('rotatory', 15720), ('hue', 15721), ('blackened', 15722), ('honolulu', 15723), ('prepar3d', 15724), ('individule', 15725), ('901', 15726), ('speakets', 15727), ('condor', 15728), ('msr', 15729), ('allergen', 15730), ('warnings', 15731), ('passanger', 15732), ('aquage', 15733), ('thinning', 15734), ('farmhouse', 15735), ('7600', 15736), ('iwant', 15737), ('trig', 15738), ('s7275', 15739), ('vibe', 15740), ('24w', 15741), ('261x2', 15742), ('inscriptions', 15743), ('fondue', 15744), ('blackhawk', 15745), ('serpa', 15746), ('p75', 15747), ('a7200', 15748), ('220x145x85mm', 15749), ('ers', 15750), ('joovy', 15751), ('120g', 15752), ('think800', 15753), ('fth25n', 15754), ('cm16', 15755), ('pontoon', 15756), ('t17', 15757), ('sterring', 15758), ('he260a', 15759), ('boresighter', 15760), ('e50', 15761), ('fiio', 15762), ('e11', 15763), ('curlformers', 15764), ('blond', 15765), ('caucasian', 15766), ('provied', 15767), ('nkon', 15768), ('nopes', 15769), ('simmer', 15770), ('meteor', 15771), ('24x24x24', 15772), ('np900x3e', 15773), ('k01us', 15774), ('1794', 15775), ('0a', 15776), ('16tb', 15777), ('fries', 15778), ('lugnuts', 15779), ('wa3152', 15780), ('teether', 15781), ('pthalate', 15782), ('pcv', 15783), ('sr5', 15784), ('powermatic', 15785), ('pm1500', 15786), ('2300', 15787), ('gc200', 15788), ('weightlifting', 15789), ('spreaders', 15790), ('as100v', 15791), ('assemably', 15792), ('30fps', 15793), ('sillicone', 15794), ('replaement', 15795), ('ferret', 15796), ('c885d', 15797), ('s5351', 15798), ('dorman', 15799), ('747', 15800), ('cararo', 15801), ('houses', 15802), ('spagetti', 15803), ('rcx3', 15804), ('theeft', 15805), ('dogera', 15806), ('year2002', 15807), ('englander', 15808), ('agave', 15809), ('smoothing', 15810), ('mg2520', 15811), ('piercing', 15812), ('seperatley', 15813), ('verizen', 15814), ('plum', 15815), ('sweater', 15816), ('aquariums', 15817), ('acess', 15818), ('32in', 15819), ('ecu', 15820), ('relean', 15821), ('5x20x24', 15822), ('633', 15823), ('livescribe', 15824), ('permethrin', 15825), ('1180x', 15826), ('sensotouch', 15827), ('separators', 15828), ('t430s', 15829), ('laptopill', 15830), ('1x4', 15831), ('counterweight', 15832), ('barefoot', 15833), ('poteto', 15834), ('mustard', 15835), ('tascam', 15836), ('gt2', 15837), ('tighter', 15838), ('fieri', 15839), ('t31', 15840), ('dowes', 15841), ('ecuadorian', 15842), ('rainforest', 15843), ('wout', 15844), ('pillbox', 15845), ('pmx500ic', 15846), ('presumably', 15847), ('daewoo', 15848), ('leganza', 15849), ('cheesy', 15850), ('un65h7150', 15851), ('quadpacer', 15852), ('displaya', 15853), ('x201e', 15854), ('franke', 15855), ('bn2', 15856), ('bn3', 15857), ('77x38x10', 15858), ('electical', 15859), ('infared', 15860), ('thins', 15861), ('expiraton', 15862), ('safty', 15863), ('nokero', 15864), ('lumiquest', 15865), ('psl', 15866), ('meany', 15867), ('warrantyonthis', 15868), ('homegear', 15869), ('x130', 15870), ('coup', 15871), ('sanitise', 15872), ('regularly', 15873), ('200rpm', 15874), ('tg4021', 15875), ('espn', 15876), ('bummer', 15877), ('d3s', 15878), ('surely', 15879), ('shooter', 15880), ('stripless', 15881), ('russell', 15882), ('terrier', 15883), ('lying', 15884), ('inclluded', 15885), ('120x2', 15886), ('efficeiently', 15887), ('10k', 15888), ('pbone', 15889), ('wrt', 15890), ('nanos', 15891), ('sunsetter', 15892), ('amer', 15893), ('screaming', 15894), ('243', 15895), ('tecnology', 15896), ('teabag', 15897), ('breastfeed', 15898), ('smallish', 15899), ('porridge', 15900), ('rapala', 15901), ('hplj', 15902), ('1098s', 15903), ('ethyl', 15904), ('ipa23', 15905), ('communtiy', 15906), ('darkroom', 15907), ('hc52', 15908), ('hom', 15909), ('30cm', 15910), ('animale', 15911), ('x5320', 15912), ('n17', 15913), ('mcm1310sb', 15914), ('redline', 15915), ('polarid', 15916), ('socialmatic', 15917), ('22r', 15918), ('horizontallly', 15919), ('leesburg', 15920), ('hml', 15921), ('36volt', 15922), ('predadtor', 15923), ('hawkeye', 15924), ('apollo', 15925), ('underwriter', 15926), ('laboratory', 15927), ('juego', 15928), ('colocar', 15929), ('lettuce', 15930), ('t540', 15931), ('schnauser', 15932), ('sanyo', 15933), ('dp32640', 15934), ('googleplay', 15935), ('67722', 15936), ('nat', 15937), ('d562bt', 15938), ('12x9', 15939), ('3000psi', 15940), ('oracle', 15941), ('cbl', 15942), ('icx', 15943), ('7hd', 15944), ('virigin', 15945), ('radon', 15946), ('10x14', 15947), ('26x', 15948), ('6month', 15949), ('transplanting', 15950), ('passed', 15951), ('failed', 15952), ('st504', 15953), ('5hp', 15954), ('relax', 15955), ('witth', 15956), ('rides', 15957), ('i537', 15958), ('i9295', 15959), ('prefader', 15960), ('bt184342', 15961), ('phyto', 15962), ('phytolium', 15963), ('duplicator', 15964), ('memorex', 15965), ('yupper', 15966), ('s2009w', 15967), ('toshiiba', 15968), ('browse', 15969), ('supervising', 15970), ('agency', 15971), ('corgi', 15972), ('x53e', 15973), ('whould', 15974), ('cl82301', 15975), ('adenosyl', 15976), ('cyano', 15977), ('md528ll', 15978), ('28cc', 15979), ('616', 15980), ('1110', 15981), ('7249', 15982), ('405', 15983), ('73169310', 15984), ('prc', 15985), ('tretinoin', 15986), ('creamjhgfgyjuigyjfghjkl', 15987), ('bhhhpptttt', 15988), ('flemish', 15989), ('mtia', 15990), ('microcard', 15991), ('gummy', 15992), ('trifold', 15993), ('beaver', 15994), ('calico', 15995), ('mars', 15996), ('producs', 15997), ('featherlite', 15998), ('sst25ce', 15999), ('weadeater', 16000), ('perper', 16001), ('a100', 16002), ('azone', 16003), ('pistals', 16004), ('972', 16005), ('compyuter', 16006), ('tabitha', 16007), ('moovies', 16008), ('140250013', 16009), ('smasumg', 16010), ('1378938844911', 16011), ('slingfire', 16012), ('aleppo', 16013), ('sx40', 16014), ('completed', 16015), ('sua3000', 16016), ('12mp', 16017), ('powersupply', 16018), ('schutz', 16019), ('rf960r', 16020), ('900mhz', 16021), ('dentures', 16022), ('disturb', 16023), ('arizer', 16024), ('vaporizer', 16025), ('17inch', 16026), ('sway', 16027), ('raspberries', 16028), ('ulai', 16029), ('preform', 16030), ('7770', 16031), ('assem', 16032), ('portfolio', 16033), ('kingpad', 16034), ('pj810', 16035), ('comparatable', 16036), ('batterey', 16037), ('55c', 16038), ('rimless', 16039), ('itmake', 16040), ('neigning', 16041), ('galloping', 16042), ('breakaway', 16043), ('pathway', 16044), ('monolight', 16045), ('eyeshadows', 16046), ('foodsaver', 16047), ('v4880', 16048), ('plumbers', 16049), ('osmosis', 16050), ('121mm', 16051), ('ppx', 16052), ('croatia', 16053), ('ep728', 16054), ('32k', 16055), ('31652', 16056), ('tpx', 16057), ('raydar', 16058), ('500watt', 16059), ('8171434k', 16060), ('digitial', 16061), ('cancellation', 16062), ('a4000', 16063), ('refrigerant', 16064), ('cocoppa', 16065), ('fairfield', 16066), ('gantt', 16067), ('flouer', 16068), ('tortila', 16069), ('bellingham', 16070), ('advocate', 16071), ('1r', 16072), ('notknow', 16073), ('cruecab', 16074), ('barnetts', 16075), ('610a', 16076), ('r600gbs', 16077), ('dell153fp', 16078), ('k45sswh', 16079), ('15x13x5', 16080), ('adhisive', 16081), ('typhoon', 16082), ('waterprof', 16083), ('wurk', 16084), ('40ex400', 16085), ('schmidt', 16086), ('ariel', 16087), ('300a', 16088), ('purshase', 16089), ('focused', 16090), ('drk', 16091), ('s230u', 16092), ('moist', 16093), ('u2000r', 16094), ('128513', 16095), ('nissian', 16096), ('packit', 16097), ('pzt', 16098), ('tz35', 16099), ('ketone', 16100), ('56mm', 16101), ('lauryl', 16102), ('griffin', 16103), ('vmax', 16104), ('medication', 16105), ('vetoquinol', 16106), ('150ml', 16107), ('rtfm', 16108), ('05401', 16109), ('breeze', 16110), ('tolerate', 16111), ('fixative', 16112), ('un32eh5300', 16113), ('quinny', 16114), ('yezz', 16115), ('ois', 16116), ('immersion', 16117), ('laid', 16118), ('db691', 16119), ('canons', 16120), ('camers', 16121), ('hallway', 16122), ('19x19', 16123), ('squrilles', 16124), ('1280', 16125), ('340mg', 16126), ('t01675w', 16127), ('ppr', 16128), ('mpr', 16129), ('weatherpack', 16130), ('capablitiies', 16131), ('24x', 16132), ('flashbar', 16133), ('borage', 16134), ('50cfm', 16135), ('sweetners', 16136), ('sparkling', 16137), ('x202e', 16138), ('75816', 16139), ('gums', 16140), ('numb', 16141), ('sometimes', 16142), ('22x34', 16143), ('64oz', 16144), ('pancrezyme', 16145), ('equip', 16146), ('motoactv', 16147), ('thedroidrazrmaxx', 16148), ('compost', 16149), ('dewberrys', 16150), ('didi', 16151), ('suppresser', 16152), ('cholestoerol', 16153), ('cholesterol', 16154), ('koolertron', 16155), ('initiate', 16156), ('3cyl', 16157), ('cupfuls', 16158), ('dr550gw', 16159), ('12pk', 16160), ('24pk', 16161), ('9470m', 16162), ('surbuban', 16163), ('x230', 16164), ('15mph', 16165), ('7090g', 16166), ('54in', 16167), ('symantec', 16168), ('veralite', 16169), ('drier', 16170), ('thh', 16171), ('motocross', 16172), ('draggin', 16173), ('footless', 16174), ('trifle', 16175), ('jamo', 16176), ('hcs', 16177), ('8663', 16178), ('ginkgo', 16179), ('biloba', 16180), ('daves', 16181), ('cf100a1009', 16182), ('05mm', 16183), ('12101480', 16184), ('sunday', 16185), ('newspapers', 16186), ('warp', 16187), ('destroy', 16188), ('bbi', 16189), ('60x80x14', 16190), ('2aa', 16191), ('45tm', 16192), ('sweatbands', 16193), ('harmoy', 16194), ('rochester', 16195), ('17059286', 16196), ('1567', 16197), ('4728', 16198), ('huckjam', 16199), ('tuneable', 16200), ('cl29k5', 16201), ('resist', 16202), ('luge', 16203), ('g13', 16204), ('rogers', 16205), ('dozens', 16206), ('288', 16207), ('verezano', 16208), ('950', 16209), ('16s', 16210), ('buis', 16211), ('xerox', 16212), ('s5730y', 16213), ('mini14', 16214), ('400g', 16215), ('orginial', 16216), ('souce', 16217), ('destop', 16218), ('preferable', 16219), ('26hx18wx8d', 16220), ('sont', 16221), ('nwze463', 16222), ('550d', 16223), ('bundled', 16224), ('bedwetting', 16225), ('dsf', 16226), ('fasdfasd', 16227), ('m16s', 16228), ('commandone', 16229), ('hz700', 16230), ('1mar2016', 16231), ('thich', 16232), ('thte', 16233), ('odd', 16234), ('155128e', 16235), ('lte5243dq2', 16236), ('perching', 16237), ('schecter', 16238), ('p510', 16239), ('xlarge', 16240), ('42x28x30', 16241), ('toro', 16242), ('20016', 16243), ('comanche', 16244), ('d140', 16245), ('kd100', 16246), ('049', 16247), ('hobbyzone', 16248), ('champ', 16249), ('airplan', 16250), ('77338531600', 16251), ('bloating', 16252), ('assemblied', 16253), ('dps', 16254), ('1bottle', 16255), ('detatcable', 16256), ('fromthe', 16257), ('squeaking', 16258), ('5mil', 16259), ('3mil', 16260), ('9550', 16261), ('archery', 16262), ('laminates', 16263), ('soother', 16264), ('1974', 16265), ('30days', 16266), ('st600', 16267), ('belgian', 16268), ('ale', 16269), ('2432', 16270), ('vase', 16271), ('jose', 16272), ('alex', 16273), ('16x12', 16274), ('5734z', 16275), ('p760', 16276), ('p07', 16277), ('hornet', 16278), ('slimline', 16279), ('s5750z', 16280), ('lenghth', 16281), ('ct200h', 16282), ('kim', 16283), ('smelled', 16284), ('drilld', 16285), ('mc373ll', 16286), ('s22c300h', 16287), ('700cc', 16288), ('misceo', 16289), ('epl', 16290), ('arduino', 16291), ('qv830', 16292), ('fillings', 16293), ('whiter', 16294), ('t420i', 16295), ('passengers', 16296), ('suppressor', 16297), ('cms', 16298), ('python', 16299), ('479v', 16300), ('7610', 16301), ('dcx170', 16302), ('appfinity', 16303), ('appfishing', 16304), ('cabe', 16305), ('derivatives', 16306), ('mcgs', 16307), ('rizer', 16308), ('vidpro', 16309), ('t2', 16310), ('valu', 16311), ('trin', 16312), ('headshell', 16313), ('438', 16314), ('602', 16315), ('topo', 16316), ('removalable', 16317), ('30g', 16318), ('wps2', 16319), ('y40', 16320), ('temperatur', 16321), ('hp1102w', 16322), ('0522', 16323), ('5515', 16324), ('xboxes', 16325), ('jasmin', 16326), ('s34c', 16327), ('r4', 16328), ('razrt', 16329), ('nrc', 16330), ('tomato', 16331), ('thisthis', 16332), ('bitty', 16333), ('032', 16334), ('metabo', 16335), ('sxe400', 16336), ('basinet', 16337), ('mpp3', 16338), ('aldehydes', 16339), ('dm4', 16340), ('2070us', 16341), ('mile', 16342), ('refrigerators', 16343), ('aisle', 16344), ('aj40tlc', 16345), ('mpg', 16346), ('unfortuately', 16347), ('diodes', 16348), ('deoderant', 16349), ('yez', 16350), ('tinker', 16351), ('nornal', 16352), ('pulsating', 16353), ('edjing', 16354), ('85psi', 16355), ('styilus', 16356), ('t679', 16357), ('pp125', 16358), ('17x14x9', 16359), ('defense', 16360), ('16ounce', 16361), ('saltpeter', 16362), ('cheapness', 16363), ('lc80le844u', 16364), ('eectricity', 16365), ('scarfaceint11', 16366), ('juniperus', 16367), ('communis', 16368), ('fighter', 16369), ('konus', 16370), ('8x24v50', 16371), ('56lbs', 16372), ('995', 16373), ('community', 16374), ('civilized', 16375), ('bison', 16376), ('mulch', 16377), ('thenkio', 16378), ('harder', 16379), ('2front', 16380), ('4trak', 16381), ('cheater', 16382), ('dc9098', 16383), ('otra', 16384), ('shippment', 16385), ('defrosting', 16386), ('couldnthis', 16387), ('stimulation', 16388), ('347', 16389), ('a1416', 16390), ('hozon', 16391), ('hispanic', 16392), ('anaconda', 16393), ('mutiple', 16394), ('maltipoo', 16395), ('145mm', 16396), ('zt3', 16397), ('novabackup', 16398), ('snoozing', 16399), ('100000000', 16400), ('screeen', 16401), ('caregivers', 16402), ('15x12', 16403), ('bradford', 16404), ('mitw50l6ln10', 16405), ('saddles', 16406), ('tk', 16407), ('u46e', 16408), ('1awx', 16409), ('ofcorse', 16410), ('honeymooners', 16411), ('theory', 16412), ('h5900', 16413), ('38mg', 16414), ('deli', 16415), ('hoppes', 16416), ('holla', 16417), ('piccanny', 16418), ('8524', 16419), ('10000', 16420), ('1476', 16421), ('15mg', 16422), ('zoomer', 16423), ('0t', 16424), ('passing', 16425), ('tremors', 16426), ('b2300', 16427), ('garrett', 16428), ('frothe', 16429), ('calltel', 16430), ('bemisair', 16431), ('dp3', 16432), ('threelac', 16433), ('facility', 16434), ('produces', 16435), ('marvel', 16436), ('procesor', 16437), ('thjs', 16438), ('gravity', 16439), ('mdel', 16440), ('wihtout', 16441), ('sd5300ku', 16442), ('procomp', 16443), ('mx6', 16444), ('woltage', 16445), ('wehre', 16446), ('procedure', 16447), ('caligraphy', 16448), ('titles', 16449), ('pkts', 16450), ('whkf', 16451), ('ncaa', 16452), ('shimmery', 16453), ('replaceablle', 16454), ('gocontrol', 16455), ('inventcase', 16456), ('skincare', 16457), ('implements', 16458), ('153', 16459), ('trabaja', 16460), ('cartrudge', 16461), ('simcards', 16462), ('silerner', 16463), ('36in', 16464), ('dhk', 16465), ('arris', 16466), ('tg862g', 16467), ('vl', 16468), ('compr', 16469), ('degreaser', 16470), ('eaves', 16471), ('sawing', 16472), ('coy', 16473), ('strengthener', 16474), ('mtbf', 16475), ('3716', 16476), ('fare', 16477), ('wilco', 16478), ('pricey', 16479), ('repeller', 16480), ('stevensons', 16481), ('symphony', 16482), ('s0', 16483), ('m5g', 16484), ('jz200', 16485), ('zoyzia', 16486), ('jz', 16487), ('packof', 16488), ('strada', 16489), ('rd400dw', 16490), ('lg3d', 16491), ('28x13', 16492), ('packer', 16493), ('fiskars', 16494), ('7857', 16495), ('travelling', 16496), ('aruba', 16497), ('devil', 16498), ('bestled', 16499), ('exit', 16500), ('facts', 16501), ('a1996', 16502), ('hd720p', 16503), ('59ml', 16504), ('freon', 16505), ('flaslight', 16506), ('stackabe', 16507), ('whts', 16508), ('ultra2', 16509), ('dlx105w', 16510), ('monotor', 16511), ('monterey', 16512), ('hoe', 16513), ('surflan', 16514), ('v18pfr', 16515), ('veranda', 16516), ('flea', 16517), ('poaching', 16518), ('karakoram', 16519), ('watermelons', 16520), ('stors', 16521), ('migs', 16522), ('tw14', 16523), ('cameracompatible', 16524), ('chargable', 16525), ('51bl29', 16526), ('rooibos', 16527), ('7800mah', 16528), ('32ex301', 16529), ('outline', 16530), ('damper', 16531), ('jul', 16532), ('poor', 16533), ('keychain', 16534), ('xl2100rhs', 16535), ('byproduct', 16536), ('minidv', 16537), ('nob', 16538), ('rodio', 16539), ('13nov2014', 16540), ('4c', 16541), ('brining', 16542), ('sattelite', 16543), ('lawmower', 16544), ('4hrs', 16545), ('2488', 16546), ('portastudio', 16547), ('386ci', 16548), ('jammer', 16549), ('s2240m', 16550), ('dwst17808', 16551), ('tstak', 16552), ('refrigated', 16553), ('distribute', 16554), ('e2500', 16555), ('os10', 16556), ('sport2014', 16557), ('transmisson', 16558), ('pretzel', 16559), ('l1154', 16560), ('yurathane', 16561), ('aeternum', 16562), ('preworkout', 16563), ('5008', 16564), ('ozone', 16565), ('recalibrate', 16566), ('pt24', 16567), ('retune', 16568), ('siow', 16569), ('vogue', 16570), ('4watts', 16571), ('wiereless', 16572), ('mitt', 16573), ('freestyle', 16574), ('glucose', 16575), ('jamocha', 16576), ('abdominals', 16577), ('ciera', 16578), ('konad', 16579), ('ranges', 16580), ('leupold', 16581), ('180deg', 16582), ('afford', 16583), ('doodle', 16584), ('esfenvalerate', 16585), ('midium', 16586), ('prefolded', 16587), ('indivudual', 16588), ('z255', 16589), ('magnavox', 16590), ('dv225mg9', 16591), ('sneaker', 16592), ('524050', 16593), ('1p1', 16594), ('bestway', 16595), ('26inches', 16596), ('independant', 16597), ('peddling', 16598), ('771s', 16599), ('28680', 16600), ('formate', 16601), ('vidio', 16602), ('379100', 16603), ('geo', 16604), ('prizm', 16605), ('loafs', 16606), ('bumb', 16607), ('l505', 16608), ('5993', 16609), ('punches', 16610), ('uh70240', 16611), ('bookstand', 16612), ('attractive', 16613), ('2tr', 16614), ('pum', 16615), ('decorating', 16616), ('ibu', 16617), ('razar', 16618), ('innocent', 16619), ('swiffer', 16620), ('orign', 16621), ('140hd', 16622), ('genuinely', 16623), ('13sept14', 16624), ('regrow', 16625), ('intitle', 16626), ('intext', 16627), ('fml', 16628), ('27ex', 16629), ('9024b', 16630), ('27w', 16631), ('marianna', 16632), ('teething', 16633), ('shampoos', 16634), ('i07', 16635), ('lst300', 16636), ('lg38c', 16637), ('addl', 16638), ('80eq', 16639), ('berlin', 16640), ('adapted', 16641), ('dicing', 16642), ('hd3', 16643), ('125lbs', 16644), ('manor', 16645), ('ceilng', 16646), ('soldered', 16647), ('992', 16648), ('25mm', 16649), ('beleave', 16650), ('18g', 16651), ('nad', 16652), ('scored', 16653), ('prim', 16654), ('significantly', 16655), ('chroma', 16656), ('12hz', 16657), ('000hz', 16658), ('65cm', 16659), ('810g', 16660), ('allworx', 16661), ('9212', 16662), ('dows', 16663), ('sugars', 16664), ('150watts', 16665), ('gx390', 16666), ('crayons', 16667), ('languaje', 16668), ('radiological', 16669), ('49983', 16670), ('flexbrew', 16671), ('verison', 16672), ('amway', 16673), ('od312ce', 16674), ('550w', 16675), ('unifying', 16676), ('heirloom', 16677), ('sporter', 16678), ('phillipines', 16679), ('merida', 16680), ('fuxx', 16681), ('dumbarse', 16682), ('l402', 16683), ('purpose', 16684), ('redo', 16685), ('startup', 16686), ('wizard', 16687), ('140mm', 16688), ('strion', 16689), ('e713fp', 16690), ('9inch', 16691), ('k7', 16692), ('prebiotic', 16693), ('aply', 16694), ('sk', 16695), ('tf300t', 16696), ('doesthis', 16697), ('e3s14ua', 16698), ('tilte', 16699), ('10w40', 16700), ('tumeric', 16701), ('eyepieces', 16702), ('chineese', 16703), ('norenco', 16704), ('carbine', 16705), ('godzilla', 16706), ('convenient', 16707), ('knockdown', 16708), ('scrubbers', 16709), ('tailsweep', 16710), ('mim', 16711), ('exaust', 16712), ('shopvac', 16713), ('q2', 16714), ('tipod', 16715), ('lakewood', 16716), ('zx1000', 16717), ('pnone', 16718), ('kreepy', 16719), ('yearly', 16720), ('98oz', 16721), ('phont', 16722), ('26oz', 16723), ('51bl26', 16724), ('yl', 16725), ('539', 16726), ('300w', 16727), ('greenish', 16728), ('mgm', 16729), ('claims', 16730), ('poplar', 16731), ('5735', 16732), ('thwy', 16733), ('replacementbottom', 16734), ('6859', 16735), ('coupons', 16736), ('thumbscrew', 16737), ('snowboard', 16738), ('29x23x11', 16739), ('rockford', 16740), ('tup', 16741), ('schedule', 16742), ('556u', 16743), ('es330', 16744), ('hogs', 16745), ('7drk', 16746), ('slob', 16747), ('em6500sx', 16748), ('pse', 16749), ('nove', 16750), ('t3400', 16751), ('torso', 16752), ('neutrals', 16753), ('revealed', 16754), ('skyrocket', 16755), ('tiis', 16756), ('cuttings', 16757), ('e80', 16758), ('nitrates', 16759), ('mediumweight', 16760), ('botom', 16761), ('cyberlinkyoucam', 16762), ('swann', 16763), ('stern', 16764), ('adjusst', 16765), ('minidin', 16766), ('es8043', 16767), ('announces', 16768), ('tif', 16769), ('slives', 16770), ('tablas', 16771), ('lumpy', 16772), ('coverlet', 16773), ('ryoai', 16774), ('espanol', 16775), ('cubacel', 16776), ('abri', 16777), ('gl551jm', 16778), ('esbit', 16779), ('trimmers', 16780), ('tx100v', 16781), ('10miu', 16782), ('25miu', 16783), ('plaaaaaastoc', 16784), ('smoky', 16785), ('6600k', 16786), ('apu', 16787), ('bartering', 16788), ('16x19', 16789), ('pitched', 16790), ('t20', 16791), ('tunner', 16792), ('thereis', 16793), ('appreciably', 16794), ('supple', 16795), ('1564', 16796), ('socate', 16797), ('utra', 16798), ('lifecycle', 16799), ('9500hr', 16800), ('kgb', 16801), ('741', 16802), ('gutters', 16803), ('lua', 16804), ('poliester', 16805), ('madela', 16806), ('5os', 16807), ('anet', 16808), ('xli', 16809), ('aplico', 16810), ('t400', 16811), ('2x100', 16812), ('windham', 16813), ('weaponry', 16814), ('883xl', 16815), ('lsportster', 16816), ('crayon', 16817), ('joining', 16818), ('5inx5in', 16819), ('yz250f', 16820), ('glwiz', 16821), ('e600i', 16822), ('artist', 16823), ('cosina', 16824), ('bx3', 16825), ('corning', 16826), ('orem', 16827), ('utah', 16828), ('projects', 16829), ('bouncer', 16830), ('200ft', 16831), ('piezo', 16832), ('adaquite', 16833), ('primarily', 16834), ('wells', 16835), ('43x30x', 16836), ('40mg', 16837), ('xt8', 16838), ('dobson', 16839), ('mth', 16840), ('unstabilised', 16841), ('blutooh', 16842), ('isperon', 16843), ('ej011', 16844), ('surrounds', 16845), ('scepter', 16846), ('ghillie', 16847), ('woodland', 16848), ('yemen', 16849), ('sd200', 16850), ('contourr', 16851), ('downloadable', 16852), ('warehouse', 16853), ('deals', 16854), ('801n', 16855), ('597', 16856), ('elenco', 16857), ('political', 16858), ('a355', 16859), ('lables', 16860), ('comperible', 16861), ('ezee', 16862), ('mastertex', 16863), ('2oo7', 16864), ('55la20v', 16865), ('mickey', 16866), ('culligan', 16867), ('ergo', 16868), ('s7222', 16869), ('rainbird', 16870), ('wheeled', 16871), ('suncast', 16872), ('flowwall', 16873), ('kinectic', 16874), ('cann', 16875), ('iscsi', 16876), ('ou812', 16877), ('me031ll', 16878), ('a1992', 16879), ('mercedez', 16880), ('e300', 16881), ('n900', 16882), ('rafter', 16883), ('28w', 16884), ('12d', 16885), ('ripstick', 16886), ('om', 16887), ('bgrc', 16888), ('addaptor', 16889), ('dearcrystal', 16890), ('e260', 16891), ('cannisters', 16892), ('vacuums', 16893), ('dancer', 16894), ('6x17x1', 16895), ('s5105', 16896), ('steriods', 16897), ('enforcer', 16898), ('batterry', 16899), ('peas', 16900), ('canners', 16901), ('transcluent', 16902), ('persons', 16903), ('taxi', 16904), ('coordinate', 16905), ('3days', 16906), ('1747', 16907), ('10mb', 16908), ('instructioin', 16909), ('hert', 16910), ('lavendar', 16911), ('genteel', 16912), ('throwing', 16913), ('thorn', 16914), ('bullkdobulldog', 16915), ('848', 16916), ('167', 16917), ('compatibe', 16918), ('saint', 16919), ('bernard', 16920), ('took', 16921), ('mincraft', 16922), ('dissasemble', 16923), ('dimms', 16924), ('warrty', 16925), ('quattron', 16926), ('libyan', 16927), ('l8sk3', 16928), ('rx1', 16929), ('itsnot', 16930), ('lubricate', 16931), ('seentra', 16932), ('tulip', 16933), ('diver', 16934), ('netfilx', 16935), ('choppy', 16936), ('860', 16937), ('clams', 16938), ('ipswich', 16939), ('408670', 16940), ('piranhamax', 16941), ('176i', 16942), ('analogue', 16943), ('gigbit', 16944), ('charce', 16945), ('dh950p', 16946), ('z5', 16947), ('24x52', 16948), ('treo', 16949), ('rphje120d', 16950), ('cb550', 16951), ('translated', 16952), ('gardens', 16953), ('repot', 16954), ('truderma', 16955), ('mangodrin', 16956), ('idn', 16957), ('s8500', 16958), ('sateen', 16959), ('sproster', 16960), ('footlong', 16961), ('hotdogs', 16962), ('thns128gg4bnaa', 16963), ('nhave', 16964), ('4a', 16965), ('mlais', 16966), ('m52', 16967), ('43254', 16968), ('impression', 16969), ('z1275', 16970), ('mess', 16971), ('sshd', 16972), ('thee', 16973), ('e420', 16974), ('110x43x23', 16975), ('ml250', 16976), ('360fps', 16977), ('eazlift', 16978), ('30x15', 16979), ('titanfall', 16980), ('gtc', 16981), ('boombox', 16982), ('traxxass', 16983), ('s460', 16984), ('piaa', 16985), ('factoryoutlet', 16986), ('widened', 16987), ('nonprescription', 16988), ('creator', 16989), ('dentip', 16990), ('celery', 16991), ('docks', 16992), ('arena', 16993), ('sleepy', 16994), ('fuelband', 16995), ('usedd', 16996), ('absorber', 16997), ('milimeter', 16998), ('t27', 16999), ('anchoring', 17000), ('p2022', 17001), ('47ln5750', 17002), ('hoow', 17003), ('52w', 17004), ('p769', 17005), ('dogde', 17006), ('y510p', 17007), ('gpr378', 17008), ('hail', 17009), ('outs', 17010), ('millinium', 17011), ('lasercomb', 17012), ('phose', 17013), ('65l5400u', 17014), ('75711', 17015), ('transit', 17016), ('1005pe', 17017), ('willitfita2004town', 17018), ('c230', 17019), ('oc', 17020), ('ascends', 17021), ('y330', 17022), ('dispone', 17023), ('zooming', 17024), ('dsplay', 17025), ('shampooing', 17026), ('nashville', 17027), ('jeff', 17028), ('bezos', 17029), ('ffxiv', 17030), ('dc730', 17031), ('verio', 17032), ('bounc', 17033), ('w500', 17034), ('st27a', 17035), ('chrager', 17036), ('hdvr', 17037), ('ali', 17038), ('larter', 17039), ('nazis', 17040), ('colman', 17041), ('j40elcud', 17042), ('5160', 17043), ('7t', 17044), ('225lb', 17045), ('fatigue', 17046), ('fibro', 17047), ('8260', 17048), ('dado', 17049), ('tyype', 17050), ('chippers', 17051), ('4feet', 17052), ('allloy', 17053), ('detected', 17054), ('euros', 17055), ('history', 17056), ('resistances', 17057), ('tp211', 17058), ('pftl59121', 17059), ('connectivety', 17060), ('ingriedence', 17061), ('dori', 17062), ('compaitble', 17063), ('garner', 17064), ('botex', 17065), ('inducion', 17066), ('climbed', 17067), ('15x13', 17068), ('7153x', 17069), ('homegear1500', 17070), ('diaminator', 17071), ('c3100', 17072), ('snell', 17073), ('mppt', 17074), ('toning', 17075), ('3281', 17076), ('p255', 17077), ('xbr55x850b', 17078), ('pedaltrain', 17079), ('quadra', 17080), ('9c', 17081), ('arnica', 17082), ('bellis', 17083), ('perennis', 17084), ('silybum', 17085), ('marianum', 17086), ('nairing', 17087), ('privates', 17088), ('w8', 17089), ('1105dx', 17090), ('nuby', 17091), ('sipper', 17092), ('funtab', 17093), ('ftabcb', 17094), ('19993', 17095), ('e551i', 17096), ('peria', 17097), ('celluar', 17098), ('exclusive', 17099), ('e480i', 17100), ('tipton', 17101), ('pet710', 17102), ('breadmachine', 17103), ('scarves', 17104), ('soaps', 17105), ('weird', 17106), ('horseshoe', 17107), ('coral', 17108), ('24x15x5', 17109), ('howmny', 17110), ('aries', 17111), ('tack', 17112), ('supra', 17113), ('disappointment', 17114), ('apperature', 17115), ('pimento', 17116), ('racemosa', 17117), ('holdster', 17118), ('tf600t', 17119), ('juke', 17120), ('ferrett', 17121), ('attachable', 17122), ('reformat', 17123), ('1or2', 17124), ('p363s', 17125), ('il40s', 17126), ('rj19lmc', 17127), ('solve', 17128), ('jumble', 17129), ('lounges', 17130), ('technocel', 17131), ('t360b', 17132), ('620mg', 17133), ('5ah', 17134), ('3ah', 17135), ('overinflated', 17136), ('nisan', 17137), ('pushin', 17138), ('300ex', 17139), ('lorex', 17140), ('lh320', 17141), ('courier', 17142), ('lubed', 17143), ('35ci', 17144), ('blueridge', 17145), ('143', 17146), ('183', 17147), ('tn711', 17148), ('aami', 17149), ('15inch', 17150), ('hangout', 17151), ('panning', 17152), ('26704', 17153), ('s500', 17154), ('verismo', 17155), ('568', 17156), ('d270', 17157), ('1375', 17158), ('snakes', 17159), ('comer', 17160), ('buttom', 17161), ('studies', 17162), ('science', 17163), ('isolate', 17164), ('vedio', 17165), ('p5100', 17166), ('carrera', 17167), ('retrieve', 17168), ('carryall', 17169), ('comsumer', 17170), ('sb910', 17171), ('linconl', 17172), ('kis', 17173), ('blueiris', 17174), ('reclining', 17175), ('sytrus', 17176), ('mutch', 17177), ('thses', 17178), ('sr40c', 17179), ('flhtci', 17180), ('695xl', 17181), ('tg9472b', 17182), ('swiveled', 17183), ('floragro', 17184), ('aerogarden', 17185), ('buck', 17186), ('x67', 17187), ('kodi', 17188), ('subtract', 17189), ('cr1620', 17190), ('yas23', 17191), ('alto', 17192), ('2155dx', 17193), ('100gm', 17194), ('54inch', 17195), ('warrwnty', 17196), ('rooster', 17197), ('comupter', 17198), ('12months', 17199), ('interactive', 17200), ('gund', 17201), ('creature', 17202), ('3948', 17203), ('aw', 17204), ('713948', 17205), ('b272', 17206), ('theatre', 17207), ('tlc', 17208), ('nand', 17209), ('thimble', 17210), ('gt70', 17211), ('0nc', 17212), ('494us', 17213), ('670mx', 17214), ('37010', 17215), ('lectures', 17216), ('camina', 17217), ('audiophile', 17218), ('900x', 17219), ('cfast', 17220), ('scansnap', 17221), ('youkan', 17222), ('demali', 17223), ('f010wn', 17224), ('splint', 17225), ('motem', 17226), ('induciton', 17227), ('rampage', 17228), ('94215', 17229), ('cummings', 17230), ('katia', 17231), ('tal', 17232), ('babfv1', 17233), ('nor', 17234), ('9x12', 17235), ('9x11', 17236), ('reformer', 17237), ('razzar', 17238), ('titans', 17239), ('bryant', 17240), ('14oz', 17241), ('shiney', 17242), ('facials', 17243), ('inert', 17244), ('adiotional', 17245), ('swa', 17246), ('coupon', 17247), ('tilts', 17248), ('94519', 17249), ('sequin', 17250), ('700ws', 17251), ('2504', 17252), ('buckets', 17253), ('lures', 17254), ('s2121w', 17255), ('utilizar', 17256), ('ammonium', 17257), ('ms120au', 17258), ('e975', 17259), ('blueant', 17260), ('7582l', 17261), ('otherboard', 17262), ('11x24', 17263), ('bombilla', 17264), ('gourd', 17265), ('press1press', 17266), ('press95', 17267), ('pufa', 17268), ('unsaturated', 17269), ('proride', 17270), ('veloce', 17271), ('intuit', 17272), ('61fn97', 17273), ('mfc7340', 17274), ('1187', 17275), ('lat', 17276), ('cruzer', 17277), ('cb750four', 17278), ('hw50es', 17279), ('pc625', 17280), ('geezer', 17281), ('recycling', 17282), ('scubapro', 17283), ('dessasembled', 17284), ('covertible', 17285), ('stability', 17286), ('1lbs', 17287), ('ksb56008', 17288), ('accutriger', 17289), ('4ounces', 17290), ('drress', 17291), ('landmark', 17292), ('sv422xvt', 17293), ('18h', 17294), ('converts', 17295), ('zang', 17296), ('bloody', 17297), ('gluetin', 17298), ('ux', 17299), ('j60', 17300), ('takedown', 17301), ('160g', 17302), ('rusk', 17303), ('str8', 17304), ('ctc', 17305), ('suppot', 17306), ('stomper', 17307), ('jazzy', 17308), ('lt1', 17309), ('yoshis', 17310), ('17mm', 17311), ('p3314', 17312), ('kebord', 17313), ('giro', 17314), ('scaffold', 17315), ('fg118', 17316), ('stimulator', 17317), ('04kg', 17318), ('avs', 17319), ('tothe', 17320), ('cyclonic', 17321), ('sh20030', 17322), ('10in', 17323), ('lw1012er', 17324), ('unsented', 17325), ('7365dn', 17326), ('800mah', 17327), ('wancom', 17328), ('anygun', 17329), ('seatcovers', 17330), ('chandeliers', 17331), ('speacker', 17332), ('everting', 17333), ('monopods', 17334), ('bioforce', 17335), ('replacementparts', 17336), ('capitals', 17337), ('kukri', 17338), ('buster', 17339), ('109272', 17340), ('mervia', 17341), ('lentils', 17342), ('cconnection', 17343), ('bueno', 17344), ('optra', 17345), ('multilenguaje', 17346), ('juega', 17347), ('creat', 17348), ('magnifico', 17349), ('22x16', 17350), ('119446', 17351), ('binocular', 17352), ('nto', 17353), ('2to3seconds', 17354), ('645d', 17355), ('ds642', 17356), ('crusher', 17357), ('defuiser', 17358), ('austin', 17359), ('em1000r', 17360), ('talkabout', 17361), ('photoblocker', 17362), ('havy', 17363), ('thitoile', 17364), ('bodies', 17365), ('fv4477', 17366), ('manner', 17367), ('priority', 17368), ('ghibli', 17369), ('l3', 17370), ('moonshine', 17371), ('charley', 17372), ('pommel', 17373), ('chona', 17374), ('heavey', 17375), ('grider', 17376), ('270x', 17377), ('straightened', 17378), ('milliliter', 17379), ('flhrse6', 17380), ('dumpling', 17381), ('instructios', 17382), ('springfiels', 17383), ('xds9', 17384), ('gf529', 17385), ('22kw', 17386), ('veneers', 17387), ('s816', 17388), ('q3hd', 17389), ('cloak', 17390), ('2840', 17391), ('ampersand', 17392), ('vcs', 17393), ('a1457', 17394), ('numeral', 17395), ('frother', 17396), ('av40m', 17397), ('moentrol', 17398), ('rackets', 17399), ('specification', 17400), ('598', 17401), ('117ac', 17402), ('extras', 17403), ('underside', 17404), ('kicker', 17405), ('cvr', 17406), ('15s', 17407), ('vaves', 17408), ('incluides', 17409), ('unwrapped', 17410), ('blinds', 17411), ('tacom', 17412), ('pixs', 17413), ('5320', 17414), ('carcinogens', 17415), ('binki', 17416), ('whitelist', 17417), ('reomvoe', 17418), ('pharmeuticals', 17419), ('6160', 17420), ('ademco', 17421), ('6137', 17422), ('gourmetwave', 17423), ('mwm925bsd', 17424), ('uke', 17425), ('beeswax', 17426), ('segments', 17427), ('kz45', 17428), ('0175004', 17429), ('17qt', 17430), ('decode', 17431), ('50gb', 17432), ('4pin', 17433), ('720m', 17434), ('sunflower', 17435), ('slime', 17436), ('barels', 17437), ('eyesight', 17438), ('f22b', 17439), ('tx6', 17440), ('14x11', 17441), ('11x8', 17442), ('headbord', 17443), ('fluctuate', 17444), ('duo50', 17445), ('571', 17446), ('futaba', 17447), ('1x3', 17448), ('v5000', 17449), ('wod', 17450), ('candleobera', 17451), ('mp5', 17452), ('sd6', 17453), ('f320s', 17454), ('inflatables', 17455), ('66x66', 17456), ('78lmt', 17457), ('artoria', 17458), ('expantion', 17459), ('imovie', 17460), ('gd20ns', 17461), ('greenhouse', 17462), ('cherrywood', 17463), ('swizzle', 17464), ('basquet', 17465), ('sproker', 17466), ('shutdown', 17467), ('thinking', 17468), ('cx4', 17469), ('thoughts', 17470), ('headlites', 17471), ('863', 17472), ('thought', 17473), ('251i', 17474), ('e1505', 17475), ('sin', 17476), ('buckmark', 17477), ('gy6', 17478), ('farms', 17479), ('targus', 17480), ('tgt', 17481), ('58tr', 17482), ('chacha', 17483), ('42le5400', 17484), ('650r', 17485), ('sensing', 17486), ('tango', 17487), ('mobius', 17488), ('anttena', 17489), ('852g', 17490), ('wealth', 17491), ('edmonton', 17492), ('t2ieos', 17493), ('evenings', 17494), ('califlower', 17495), ('funtime', 17496), ('tracgtor', 17497), ('fecal', 17498), ('dmf', 17499), ('mend', 17500), ('c6', 17501), ('z51', 17502), ('circumfirence', 17503), ('optimal', 17504), ('mining', 17505), ('dogecoins', 17506), ('30v', 17507), ('uou', 17508), ('htz', 17509), ('bd32', 17510), ('drys', 17511), ('plantains', 17512), ('leades', 17513), ('ums', 17514), ('grafics', 17515), ('2d70nr', 17516), ('acquire', 17517), ('saker', 17518), ('drips', 17519), ('mx432', 17520), ('chose', 17521), ('copter', 17522), ('wolrldwide', 17523), ('wakesetter', 17524), ('picattiny', 17525), ('windwood', 17526), ('frigde', 17527), ('signed', 17528), ('amazonas', 17529), ('breasts', 17530), ('tig', 17531), ('incude', 17532), ('condensers', 17533), ('15kg', 17534), ('i997', 17535), ('f2p37ut', 17536), ('1515', 17537), ('662', 17538), ('3728', 17539), ('hydr', 17540), ('563', 17541), ('wmh', 17542), ('cocoon', 17543), ('wieerless', 17544), ('74mm', 17545), ('ml320', 17546), ('duramax', 17547), ('haif', 17548), ('fallin', 17549), ('ripping', 17550), ('brackit', 17551), ('comparison', 17552), ('92fs', 17553), ('hvl', 17554), ('hl1', 17555), ('hkc', 17556), ('p776a', 17557), ('12l', 17558), ('12t', 17559), ('posture', 17560), ('272', 17561), ('ht1085st', 17562), ('alivon', 17563), ('flaperon', 17564), ('tx2', 17565), ('1275dx', 17566), ('288260', 17567), ('unfolding', 17568), ('dc1414', 17569), ('dcx3220e', 17570), ('s5670', 17571), ('centennial', 17572), ('peb7226sfss', 17573), ('umbrellas', 17574), ('dapper', 17575), ('swivi', 17576), ('vortec', 17577), ('smamsung', 17578), ('glaxey', 17579), ('113watts', 17580), ('napthyl', 17581), ('acetic', 17582), ('30x20', 17583), ('growl', 17584), ('ago', 17585), ('nicaragua', 17586), ('levemir', 17587), ('corrected', 17588), ('sensation', 17589), ('igt', 17590), ('50g', 17591), ('ook', 17592), ('50614', 17593), ('polycrystalline', 17594), ('volage', 17595), ('idol', 17596), ('i257', 17597), ('diverter', 17598), ('pygeum', 17599), ('galexy', 17600), ('supersolano', 17601), ('3700', 17602), ('moda', 17603), ('tho', 17604), ('az55h15dadm1', 17605), ('1015', 17606), ('cookwear', 17607), ('iac', 17608), ('ka', 17609), ('returns', 17610), ('dethatch', 17611), ('g955', 17612), ('garrity', 17613), ('voltge', 17614), ('snowking', 17615), ('627804x89a', 17616), ('28in', 17617), ('mg2420', 17618), ('slot1', 17619), ('neogeo', 17620), ('ventura', 17621), ('2700mah', 17622), ('multicultural', 17623), ('corrosion', 17624), ('56x10x29', 17625), ('explosion', 17626), ('boraam', 17627), ('36136', 17628), ('295', 17629), ('m91p', 17630), ('yw2', 17631), ('leacsipad', 17632), ('540i', 17633), ('mattify', 17634), ('5amps', 17635), ('42mm', 17636), ('streetglide', 17637), ('prefilled', 17638), ('staplers', 17639), ('np510r5e', 17640), ('a01ub', 17641), ('combinations', 17642), ('f4480', 17643), ('rc71', 17644), ('chisels', 17645), ('38hz', 17646), ('essembly', 17647), ('ja2c118h', 17648), ('intellimouse', 17649), ('wp70', 17650), ('systam', 17651), ('oile', 17652), ('overal', 17653), ('despicable', 17654), ('chux', 17655), ('7000tm', 17656), ('reliably', 17657), ('underpants', 17658), ('associate', 17659), ('inquire', 17660), ('yrds', 17661), ('1981', 17662), ('1091', 17663), ('forklift', 17664), ('inquiry', 17665), ('161s', 17666), ('thnx', 17667), ('smelling', 17668), ('minty', 17669), ('wthasapp', 17670), ('60pz550', 17671), ('petals', 17672), ('presser', 17673), ('thinkpa', 17674), ('vega', 17675), ('enviro', 17676), ('nightvision', 17677), ('mannequin', 17678), ('2yrs', 17679), ('verbally', 17680), ('systolic', 17681), ('diastolic', 17682), ('sampera', 17683), ('anakin', 17684), ('sith', 17685), ('bobafett', 17686), ('unless', 17687), ('mcm990st', 17688), ('z5200', 17689), ('sproutable', 17690), ('jumping', 17691), ('osgar', 17692), ('allwinner', 17693), ('nooooo', 17694), ('kens', 17695), ('popo', 17696), ('da061', 17697), ('078l', 17698), ('samsaug', 17699), ('thiamine', 17700), ('poulon', 17701), ('pjd', 17702), ('5234', 17703), ('xga', 17704), ('buena', 17705), ('tabla', 17706), ('seatpost', 17707), ('absorbency', 17708), ('tweezerman', 17709), ('heading', 17710), ('doees', 17711), ('insecticide', 17712), ('dinotefuron', 17713), ('79080322310', 17714), ('jnclude', 17715), ('charer', 17716), ('denture', 17717), ('e420vo', 17718), ('bangs', 17719), ('styled', 17720), ('karen', 17721), ('srtaight', 17722), ('rendering', 17723), ('sattilite', 17724), ('ve', 17725), ('f970', 17726), ('dh71', 17727), ('whasapth', 17728), ('chgarger', 17729), ('goblet', 17730), ('defuss', 17731), ('melaleuca', 17732), ('vaccuum', 17733), ('5904v', 17734), ('800x480', 17735), ('quadcore', 17736), ('jellybean', 17737), ('50psi', 17738), ('uhh', 17739), ('glam', 17740), ('5kg', 17741), ('gbs', 17742), ('warne', 17743), ('2tm', 17744), ('dims', 17745), ('621', 17746), ('walkways', 17747), ('smartmedia', 17748), ('plsatic', 17749), ('1pound', 17750), ('fujitsu', 17751), ('halcyon', 17752), ('asu12rl2', 17753), ('borg', 17754), ('a55m', 17755), ('silky', 17756), ('bp9cc', 17757), ('generac', 17758), ('xg7000e', 17759), ('supine', 17760), ('gasseri', 17761), ('px350m', 17762), ('68hp', 17763), ('kobo', 17764), ('unfolded', 17765), ('pouns', 17766), ('army', 17767), ('eventually', 17768), ('wiremold', 17769), ('c210', 17770), ('phillipnes', 17771), ('pressfit', 17772), ('ginsenosides', 17773), ('muffs', 17774), ('artculation', 17775), ('6281', 17776), ('walkers', 17777), ('expanding', 17778), ('virtualbox', 17779), ('24x26', 17780), ('toyotomi', 17781), ('portableair', 17782), ('sylvane', 17783), ('cartidge', 17784), ('wdt710paye3', 17785), ('46597', 17786), ('arbutin', 17787), ('hdtv20a', 17788), ('brewing', 17789), ('qx', 17790), ('390nm', 17791), ('macncheese', 17792), ('scotchguarded', 17793), ('multiregion', 17794), ('hpa200', 17795), ('bulletin', 17796), ('18m9w', 17797), ('585', 17798), ('retainers', 17799), ('s15', 17800), ('mildly', 17801), ('svd13213cxw', 17802), ('droids', 17803), ('48inches', 17804), ('s7224', 17805), ('alfa', 17806), ('22inches', 17807), ('x21inches', 17808), ('n56vz', 17809), ('oreo', 17810), ('specula', 17811), ('12ct', 17812), ('sma', 17813), ('1200s', 17814), ('lektro', 17815), ('612', 17816), ('envoy', 17817), ('s5300', 17818), ('627', 17819), ('guidelines', 17820), ('lav', 17821), ('shhure', 17822), ('therapeutic', 17823), ('pto', 17824), ('miniplug', 17825), ('pelonis', 17826), ('phoe', 17827), ('sourdough', 17828), ('insambled', 17829), ('bromadiolone', 17830), ('anticoagulant', 17831), ('envelops', 17832), ('warrantly', 17833), ('conductive', 17834), ('i435', 17835), ('5900', 17836), ('paneling', 17837), ('harcore', 17838), ('hardcore', 17839), ('hakko', 17840), ('insertable', 17841), ('arent', 17842), ('advertisement', 17843), ('65st60', 17844), ('spf4', 17845), ('18350', 17846), ('reached', 17847), ('4x30', 17848), ('d531', 17849), ('volkwagen', 17850), ('crosfox', 17851), ('sloping', 17852), ('drooping', 17853), ('collarbone', 17854), ('4way', 17855), ('traction', 17856), ('flared', 17857), ('flit', 17858), ('marathone', 17859), ('mcm770b1', 17860), ('n55', 17861), ('woo', 17862), ('pico', 17863), ('taco', 17864), ('575w', 17865), ('unstaple', 17866), ('tearing', 17867), ('calligraphy', 17868), ('antennaes', 17869), ('339', 17870), ('chiness', 17871), ('100cc', 17872), ('cbr600rr', 17873), ('copycat', 17874), ('n150', 17875), ('d100', 17876), ('67044', 17877), ('67044t2', 17878), ('wyfi', 17879), ('musics', 17880), ('paba', 17881), ('gary', 17882), ('sur', 17883), ('vandal', 17884), ('hou', 17885), ('18x7x18', 17886), ('stagepas', 17887), ('2600mah', 17888), ('aw110', 17889), ('grilles', 17890), ('paintbrushes', 17891), ('streamers', 17892), ('wagensen', 17893), ('vivofit', 17894), ('0100', 17895), ('sorce', 17896), ('versionl', 17897), ('dominicana', 17898), ('conersaciones', 17899), ('fragrances', 17900), ('12290', 17901), ('1998lexus', 17902), ('ls400', 17903), ('desired', 17904), ('temperataure', 17905), ('moccamaster', 17906), ('rejuvination', 17907), ('tn111rm40', 17908), ('5gallons', 17909), ('softgells', 17910), ('warraty', 17911), ('expriation', 17912), ('stoller', 17913), ('outcast', 17914), ('chiwawas', 17915), ('bassman', 17916), ('400h', 17917), ('50x20x20in', 17918), ('ls11', 17919), ('bt05', 17920), ('arden', 17921), ('wireharness', 17922), ('98dodge', 17923), ('92330', 17924), ('10153n300335', 17925), ('crossover', 17926), ('mkii', 17927), ('16mp', 17928), ('24mp', 17929), ('ahipping', 17930), ('p500', 17931), ('complact', 17932), ('mitshubishi', 17933), ('injectors', 17934), ('unsharpened', 17935), ('oxyde', 17936), ('cleanse', 17937), ('discovery', 17938), ('a110', 17939), ('tracer', 17940), ('bhd', 17941), ('executive', 17942), ('sterno', 17943), ('16x1', 17944), ('ancient', 17945), ('equiso', 17946), ('65lbs', 17947), ('55357', 17948), ('lxi', 17949), ('roms', 17950), ('dwe575sb', 17951), ('f02', 17952), ('polk', 17953), ('herman', 17954), ('miller', 17955), ('aeron', 17956), ('4d', 17957), ('fleetwood', 17958), ('tioga', 17959), ('leopold', 17960), ('rifleman', 17961), ('tomahawk', 17962), ('41a5021', 17963), ('1f', 17964), ('jigs', 17965), ('696n', 17966), ('dotting', 17967), ('fxt', 17968), ('kay', 17969), ('sx40is', 17970), ('pronounce', 17971), ('s88bt', 17972), ('17s', 17973), ('photograph', 17974), ('lifter', 17975), ('ember', 17976), ('janice', 17977), ('marshall', 17978), ('rackmountable', 17979), ('n68s', 17980), ('ucc', 17981), ('inhalers', 17982), ('w12', 17983), ('h9', 17984), ('latches', 17985), ('garrys', 17986), ('elgato', 17987), ('accessed', 17988), ('tingle', 17989), ('buzzer', 17990), ('60mph', 17991), ('w180', 17992), ('2457', 17993), ('gochujang', 17994), ('128516', 17995), ('cm8600ic', 17996), ('lil', 17997), ('33inch', 17998), ('cares', 17999), ('potentially', 18000), ('cent', 18001), ('cider', 18002), ('integera', 18003), ('zerk', 18004), ('3490', 18005), ('biscoff', 18006), ('hooder', 18007), ('sv3', 18008), ('dialer', 18009), ('etoolscity', 18010), ('xfusion', 18011), ('pesos', 18012), ('glencairn', 18013), ('tans', 18014), ('jetspeed', 18015), ('hd558', 18016), ('axium', 18017), ('inserter', 18018), ('21v', 18019), ('imr', 18020), ('vamo', 18021), ('isx', 18022), ('domino', 18023), ('the655t', 18024), ('16200', 18025), ('mr16', 18026), ('shellholders', 18027), ('wm3987hw', 18028), ('wl660800aj', 18029), ('recirculating', 18030), ('lapdock', 18031), ('scheduler', 18032), ('taylorsville', 18033), ('9845', 18034), ('8845', 18035), ('soundtouch', 18036), ('24x5', 18037), ('abn', 18038), ('20x24', 18039), ('openbox', 18040), ('iptv', 18041), ('dx3e', 18042), ('unfortuatly', 18043), ('yyyyyyup', 18044), ('coordinated', 18045), ('cribs', 18046), ('alcetal', 18047), ('evolve', 18048), ('bp6x', 18049), ('blutetooth', 18050), ('canyou', 18051), ('tomorrow', 18052), ('t889', 18053), ('1000rms', 18054), ('wellgo', 18055), ('lu', 18056), ('895', 18057), ('sealant', 18058), ('fp', 18059), ('14bkwb', 18060), ('comatible', 18061), ('lcm60', 18062), ('operationing', 18063), ('edushape', 18064), ('cuda', 18065), ('stw', 18066), ('tenths', 18067), ('carging', 18068), ('spdif', 18069), ('slug', 18070), ('pb304ct', 18071), ('pb304ctrx', 18072), ('econominder', 18073), ('8x30', 18074), ('cowon', 18075), ('ac1', 18076), ('100wh', 18077), ('18x18x30', 18078), ('kitchemaid', 18079), ('nivida', 18080), ('diaminer', 18081), ('buget', 18082), ('ores', 18083), ('bith', 18084), ('compund', 18085), ('nv53a57u', 18086), ('portege', 18087), ('z935', 18088), ('cappachino', 18089), ('5watts', 18090), ('un65hu8700', 18091), ('fuze', 18092), ('lucario', 18093), ('consecutively', 18094), ('rechargeing', 18095), ('054803', 18096), ('rosette', 18097), ('recemend', 18098), ('resolve', 18099), ('diplomacy', 18100), ('crisis', 18101), ('mos', 18102), ('worldoftanks', 18103), ('e6', 18104), ('lotrimin', 18105), ('miconazole', 18106), ('trivia', 18107), ('3530', 18108), ('koalaty', 18109), ('shle', 18110), ('safflower', 18111), ('cosco', 18112), ('ubakastan', 18113), ('jobi', 18114), ('divided', 18115), ('alunimum', 18116), ('nic', 18117), ('emitted', 18118), ('telf', 18119), ('levanta', 18120), ('gifts', 18121), ('42x20', 18122), ('batteriesmdoes', 18123), ('superwinch', 18124), ('rj12', 18125), ('possuperstore', 18126), ('subgroup', 18127), ('lowered', 18128), ('amini', 18129), ('p102', 18130), ('ebl1d71ba', 18131), ('dt', 18132), ('18x14x6and1', 18133), ('swirling', 18134), ('elasticized', 18135), ('tga931t', 18136), ('belize', 18137), ('embroirdered', 18138), ('reipe', 18139), ('famoua', 18140), ('chedar', 18141), ('biscuit', 18142), ('wicked', 18143), ('crossbows', 18144), ('t440s', 18145), ('ubiquinone', 18146), ('konjac', 18147), ('accelerate', 18148), ('childbirth', 18149), ('radiation', 18150), ('tinfoil', 18151), ('ateco', 18152), ('iphon', 18153), ('metel', 18154), ('ponytail', 18155), ('mk4', 18156), ('w170', 18157), ('breathometer', 18158), ('sternum', 18159), ('bittorrent', 18160), ('xl883n', 18161), ('omn', 18162), ('ub', 18163), ('dmp', 18164), ('bdt100', 18165), ('vzw', 18166), ('dremil', 18167), ('pedicures', 18168), ('c17fc228df8x', 18169), ('disconnected', 18170), ('m5', 18171), ('582pt', 18172), ('s5106', 18173), ('4ins', 18174), ('kitty', 18175), ('hf20', 18176), ('differnt', 18177), ('abosolutely', 18178), ('batwings', 18179), ('alvarez', 18180), ('ad60', 18181), ('gsxr750', 18182), ('sv420xvt1a', 18183), ('benchseat', 18184), ('1623', 18185), ('hardwear', 18186), ('50cents', 18187), ('grn', 18188), ('dhl', 18189), ('lovastatin', 18190), ('andriod', 18191), ('outlander', 18192), ('unlit', 18193), ('nuvi885', 18194), ('ixaw404', 18195), ('gn', 18196), ('101u', 18197), ('gs3', 18198), ('silverplated', 18199), ('peugeot', 18200), ('307', 18201), ('garlic', 18202), ('d400', 18203), ('neocaridina', 18204), ('heteropoda', 18205), ('vp142', 18206), ('mined', 18207), ('tstack', 18208), ('s100', 18209), ('simmons', 18210), ('madisson', 18211), ('2lt', 18212), ('un65es6550', 18213), ('autocorrects', 18214), ('a105', 18215), ('s4284', 18216), ('tarts', 18217), ('nexu5', 18218), ('moldable', 18219), ('crucial', 18220), ('28inches', 18221), ('tad', 18222), ('13x9x3', 18223), ('m4010', 18224), ('b8550', 18225), ('razrmaxx', 18226), ('tx926', 18227), ('nv352', 18228), ('shuffel', 18229), ('185lbs', 18230), ('p4m900', 18231), ('platen', 18232), ('cv', 18233), ('topography', 18234), ('12x8x12', 18235), ('waren', 18236), ('a2000', 18237), ('invented', 18238), ('clever', 18239), ('gadget', 18240), ('issac', 18241), ('newton', 18242), ('whiteheads', 18243), ('mdr950', 18244), ('k60', 18245), ('modell', 18246), ('ps10', 18247), ('82141', 18248), ('ilock', 18249), ('caraway', 18250), ('42inch', 18251), ('lb5700', 18252), ('a380', 18253), ('shedding', 18254), ('terralux', 18255), ('tlh', 18256), ('ag3', 18257), ('peoperly', 18258), ('sl510', 18259), ('ringing', 18260), ('m160', 18261), ('audioengine', 18262), ('frypan', 18263), ('rcord', 18264), ('selitac', 18265), ('auqa', 18266), ('a7r', 18267), ('50mph', 18268), ('singing', 18269), ('cf9085lp', 18270), ('rg', 18271), ('negativo', 18272), ('1138nr', 18273), ('netlix', 18274), ('planting', 18275), ('783', 18276), ('tpr', 18277), ('lampshade', 18278), ('crisp', 18279), ('dextromethorophan', 18280), ('roland', 18281), ('td', 18282), ('divides', 18283), ('haechsher', 18284), ('epilator', 18285), ('is350', 18286), ('carryon', 18287), ('heyes', 18288), ('slovak', 18289), ('12a', 18290), ('libertyware', 18291), ('bntv250', 18292), ('sparkplug', 18293), ('regualar', 18294), ('bdc', 18295), ('saucers', 18296), ('whatnak', 18297), ('fitnthis', 18298), ('feets', 18299), ('lexsus', 18300), ('ssg', 18301), ('un55f8000', 18302), ('vn', 18303), ('1978', 18304), ('csfm', 18305), ('neede', 18306), ('operatet', 18307), ('gleq2152ee0', 18308), ('reclines', 18309), ('progarm', 18310), ('usd', 18311), ('diluted', 18312), ('replacment', 18313), ('somone', 18314), ('nx300', 18315), ('bulb150w', 18316), ('movil', 18317), ('glk350', 18318), ('fabberware', 18319), ('mojoemo', 18320), ('neem', 18321), ('bushmaster', 18322), ('earbudi', 18323), ('pownds', 18324), ('carlights4less', 18325), ('trying', 18326), ('pretmanns', 18327), ('4x3', 18328), ('kink', 18329), ('sm58s', 18330), ('sedu', 18331), ('de2420', 18332), ('se401gs', 18333), ('builted', 18334), ('connectioon', 18335), ('sylvania', 18336), ('8739', 18337), ('iwd', 18338), ('mgh', 18339), ('mghz', 18340), ('m40x', 18341), ('twists', 18342), ('truxedo', 18343), ('tonneautrax', 18344), ('ikon', 18345), ('cuticle', 18346), ('imusa', 18347), ('rivo', 18348), ('p207', 18349), ('prilosec', 18350), ('kt2651xer', 18351), ('epicurean', 18352), ('spacific', 18353), ('80gb', 18354), ('battey', 18355), ('375a', 18356), ('505c', 18357), ('chuggigton', 18358), ('merceeds', 18359), ('reccommended', 18360), ('57734', 18361), ('eucalyptus', 18362), ('u430', 18363), ('ethanol', 18364), ('swarovski', 18365), ('aquatop', 18366), ('d1ht', 18367), ('plugedin', 18368), ('aveage', 18369), ('5712454', 18370), ('68w', 18371), ('74l', 18372), ('50h6400ay', 18373), ('28820', 18374), ('surfactant', 18375), ('recliners', 18376), ('yoou', 18377), ('relatively', 18378), ('crabs', 18379), ('matted', 18380), ('w530', 18381), ('finderscope', 18382), ('501b', 18383), ('wx24', 18384), ('bible', 18385), ('jks', 18386), ('barney', 18387), ('34cm', 18388), ('wount', 18389), ('mocking', 18390), ('backglass', 18391), ('vag', 18392), ('pcg', 18393), ('7113l', 18394), ('silex', 18395), ('detentions', 18396), ('utensil', 18397), ('agio', 18398), ('7ch', 18399), ('tx5', 18400), ('repairing', 18401), ('c3030', 18402), ('rcv1t', 18403), ('steadicam', 18404), ('9375', 18405), ('meaures', 18406), ('e10bu', 18407), ('cherokees', 18408), ('finale', 18409), ('2000blazer', 18410), ('potholders', 18411), ('zee', 18412), ('calgary', 18413), ('2095', 18414), ('shurflo', 18415), ('shackles', 18416), ('lithiun', 18417), ('pmp4000', 18418), ('1500rpm', 18419), ('rl', 18420), ('f8t067', 18421), ('acp', 18422), ('saris', 18423), ('freedom', 18424), ('tehina', 18425), ('demo', 18426), ('for220', 18427), ('sme', 18428), ('remifemin', 18429), ('sc2', 18430), ('b001rdonum', 18431), ('yoda', 18432), ('hydrolized', 18433), ('emolsion', 18434), ('converson', 18435), ('6620', 18436), ('lg306', 18437), ('collectable', 18438), ('kv', 18439), ('3900kv', 18440), ('harddirve', 18441), ('de6020', 18442), ('moe', 18443), ('tivoli', 18444), ('1737', 18445), ('ap205', 18446), ('el42308', 18447), ('spreadsheet', 18448), ('3xt', 18449), ('angelfish', 18450), ('tro', 18451), ('4151nr', 18452), ('dw745', 18453), ('cmpact', 18454), ('hak', 18455), ('bymy', 18456), ('60x34', 18457), ('hplaser', 18458), ('m1530', 18459), ('7510', 18460), ('litehawk', 18461), ('50l3400u', 18462), ('humider', 18463), ('trailhawke', 18464), ('lexux', 18465), ('ridiculous', 18466), ('pong', 18467), ('guardrail', 18468), ('clockspeed', 18469), ('biostar', 18470), ('a780l3c', 18471), ('sd350', 18472), ('hyunday', 18473), ('phil', 18474), ('teds', 18475), ('steer', 18476), ('30ma', 18477), ('s510p', 18478), ('contixo', 18479), ('q102', 18480), ('individaully', 18481), ('54x162x120', 18482), ('cleveland', 18483), ('confirming', 18484), ('vuzix', 18485), ('1200dx', 18486), ('9x', 18487), ('n900t', 18488), ('80x36', 18489), ('5000lbs', 18490), ('442941', 18491), ('brm', 18492), ('obagi', 18493), ('odorless', 18494), ('thids', 18495), ('5410765', 18496), ('791', 18497), ('starlet', 18498), ('d2', 18499), ('helloo', 18500), ('aseus', 18501), ('k009', 18502), ('keycap', 18503), ('retinal', 18504), ('stripes', 18505), ('dispisable', 18506), ('33cl', 18507), ('gulf', 18508), ('waters', 18509), ('12x10', 18510), ('gerbils', 18511), ('saucemaster', 18512), ('angry', 18513), ('quited', 18514), ('nokia9', 18515), ('awful', 18516), ('385', 18517), ('daws', 18518), ('rv511', 18519), ('tommee', 18520), ('tippee', 18521), ('antigua', 18522), ('vegicaps', 18523), ('562', 18524), ('26lv61k', 18525), ('un55h6350af', 18526), ('117', 18527), ('confirmed', 18528), ('gals', 18529), ('p35b', 18530), ('babybliss6685n', 18531), ('driod', 18532), ('7312577519', 18533), ('voic', 18534), ('spitting', 18535), ('ids', 18536), ('wheelbarrow', 18537), ('nn', 18538), ('sd986s', 18539), ('6a26140218', 18540), ('metals', 18541), ('9volts', 18542), ('yrd', 18543), ('kdlinks', 18544), ('workable', 18545), ('boarding', 18546), ('reapers', 18547), ('unflated', 18548), ('willthe', 18549), ('15189', 18550), ('sensar', 18551), ('s3m597', 18552), ('blackout', 18553), ('311', 18554), ('1037nr', 18555), ('variabile', 18556), ('magnatiles', 18557), ('vpceb11fx', 18558), ('keyoard', 18559), ('2watts', 18560), ('1010nr', 18561), ('glitch', 18562), ('dealt', 18563), ('8x6', 18564), ('divce', 18565), ('divces', 18566), ('panther', 18567), ('005g1a', 18568), ('pirce', 18569), ('314ce', 18570), ('combatiable', 18571), ('itt', 18572), ('b57', 18573), ('95506000', 18574), ('amo', 18575), ('wts', 18576), ('10h', 18577), ('148381', 18578), ('osterizer', 18579), ('retraction', 18580), ('mx882', 18581), ('112v', 18582), ('wirez', 18583), ('freestyler', 18584), ('qlc', 18585), ('mixtrax', 18586), ('checkers', 18587), ('cmi', 18588), ('8500a', 18589), ('a3000', 18590), ('ftp', 18591), ('nav50', 18592), ('wetbulb', 18593), ('ummmm', 18594), ('edelbrock', 18595), ('tase', 18596), ('contracts', 18597), ('furnitures', 18598), ('bandai', 18599), ('rent', 18600), ('agreement', 18601), ('22x16x11', 18602), ('corduroy', 18603), ('g6k', 18604), ('softened', 18605), ('24920', 18606), ('multipro', 18607), ('395', 18608), ('upconverter', 18609), ('m84', 18610), ('76a', 18611), ('stan', 18612), ('cuatro', 18613), ('nsrnc18fz', 18614), ('12volts', 18615), ('arts', 18616), ('fat32', 18617), ('e7450', 18618), ('various', 18619), ('conti', 18620), ('120psi', 18621), ('tents', 18622), ('44985', 18623), ('ripoff', 18624), ('60ma', 18625), ('stl', 18626), ('pleather', 18627), ('translator', 18628), ('subtotal', 18629), ('5520', 18630), ('comfortablely', 18631), ('3107541', 18632), ('009', 18633), ('1xxx', 18634), ('960s', 18635), ('l120', 18636), ('tomos', 18637), ('velo', 18638), ('powerland', 18639), ('dubai', 18640), ('opperated', 18641), ('eastpoint', 18642), ('156w', 18643), ('39hz', 18644), ('opera', 18645), ('trumotion', 18646), ('yonex', 18647), ('counterfeits', 18648), ('hg51', 18649), ('prptectors', 18650), ('bus', 18651), ('blueish', 18652), ('magum', 18653), ('correcto', 18654), ('mattrass', 18655), ('yeap', 18656), ('tolietpaper', 18657), ('giola', 18658), ('128512', 18659), ('flint', 18660), ('iginition', 18661), ('caracas', 18662), ('el19', 18663), ('aquatic', 18664), ('arkansas', 18665), ('110ac', 18666), ('woooooooooooooot', 18667), ('imak', 18668), ('tesla', 18669), ('r740bt', 18670), ('6148', 18671), ('m90', 18672), ('buld', 18673), ('par38', 18674), ('n13', 18675), ('standover', 18676), ('mooresville', 18677), ('declawed', 18678), ('39x75inches', 18679), ('sweatproof', 18680), ('ftc', 18681), ('report', 18682), ('mauser', 18683), ('l96', 18684), ('plat', 18685), ('110vlts', 18686), ('strata', 18687), ('l5100', 18688), ('atratch', 18689), ('vacume', 18690), ('tattoo', 18691), ('gl450', 18692), ('insulating', 18693), ('unblock', 18694), ('gimbal', 18695), ('incluied', 18696), ('possilble', 18697), ('58a', 18698), ('hortilux', 18699), ('265gr', 18700), ('silenced', 18701), ('beneath', 18702), ('52x37', 18703), ('1or', 18704), ('mach1', 18705), ('hayrdryer', 18706), ('ry24021', 18707), ('hypodermic', 18708), ('guest', 18709), ('870m', 18710), ('352', 18711), ('lacoferrin', 18712), ('is240v', 18713), ('t90', 18714), ('ptv3000', 18715), ('accessto', 18716), ('amazonprime', 18717), ('revitol', 18718), ('dermology', 18719), ('1067', 18720), ('standy', 18721), ('alluminum', 18722), ('fgmv174kfb', 18723), ('manuale', 18724), ('gadwall', 18725), ('decoy', 18726), ('w850', 18727), ('kinnect', 18728), ('necklass', 18729), ('kickboxing', 18730), ('germant', 18731), ('85w', 18732), ('ipho', 18733), ('zim', 18734), ('nswer', 18735), ('wasent', 18736), ('grayish', 18737), ('scrubber', 18738), ('schi515zsv', 18739), ('reccommendation', 18740), ('thistable', 18741), ('2913', 18742), ('insted', 18743), ('t6124d', 18744), ('spelled', 18745), ('hineycup', 18746), ('honeycup', 18747), ('95300', 18748), ('239', 18749), ('bolivia', 18750), ('stratsphere', 18751), ('bores', 18752), ('squishies', 18753), ('camelback', 18754), ('elefw', 18755), ('pinky', 18756), ('warrantied', 18757), ('hikvison', 18758), ('sr600ex', 18759), ('ac1200', 18760), ('s12', 18761), ('cth', 18762), ('flixster', 18763), ('f20t12', 18764), ('unheated', 18765), ('nos', 18766), ('t7570', 18767), ('idkn', 18768), ('fences', 18769), ('firestorm', 18770), ('fs3000ros', 18771), ('axela', 18772), ('1200n', 18773), ('aliminyum', 18774), ('colsed', 18775), ('facemedplus', 18776), ('anzo', 18777), ('111069', 18778), ('thermastat', 18779), ('speaherphone', 18780), ('cartrige', 18781), ('a5100', 18782), ('carriying', 18783), ('2699', 18784), ('webpage', 18785), ('8800a', 18786), ('callerid', 18787), ('893', 18788), ('45rms', 18789), ('ovens', 18790), ('lifevest', 18791), ('boompole', 18792), ('refridgerate', 18793), ('athm50', 18794), ('disfussers', 18795), ('liam', 18796), ('mot', 18797), ('digitlizer', 18798), ('kazakhstan', 18799), ('sporting', 18800), ('maf', 18801), ('1ftx2ft', 18802), ('mite', 18803), ('3650', 18804), ('cina', 18805), ('drumheads', 18806), ('secutech', 18807), ('cmd', 18808), ('r215', 18809), ('unfilled', 18810), ('raises', 18811), ('1balloon', 18812), ('x550', 18813), ('x600', 18814), ('differ', 18815), ('stemless', 18816), ('f800gt', 18817), ('2500hundred', 18818), ('windshields', 18819), ('flown', 18820), ('definitley', 18821), ('swith', 18822), ('gor', 18823), ('androide', 18824), ('picitinny', 18825), ('10mph', 18826), ('crossovers', 18827), ('stvg569', 18828), ('kyros', 18829), ('mid9740', 18830), ('afghanisitan', 18831), ('baskin', 18832), ('robbins', 18833), ('envirosteamer', 18834), ('dics', 18835), ('8pins', 18836), ('atrawbery', 18837), ('42w', 18838), ('55g2', 18839), ('ug', 18840), ('barbells', 18841), ('edibles', 18842), ('denix', 18843), ('limonene', 18844), ('replacemet', 18845), ('reltus', 18846), ('tinnitus', 18847), ('bv9986bi', 18848), ('a89', 18849), ('inculdes', 18850), ('seaweed', 18851), ('6to9', 18852), ('charhe', 18853), ('somehow', 18854), ('dumbbells', 18855), ('lok', 18856), ('2001nissan', 18857), ('lfht1817lw', 18858), ('33lbs', 18859), ('convertable', 18860), ('adds', 18861), ('7ml', 18862), ('fumerate', 18863), ('5600mah', 18864), ('sandwiches', 18865), ('handcrafted', 18866), ('1t', 18867), ('b60', 18868), ('700ma', 18869), ('teens', 18870), ('k600', 18871), ('oulet', 18872), ('flourecent', 18873), ('langage', 18874), ('bettle', 18875), ('cr2023', 18876), ('pa130', 18877), ('icebreakers', 18878), ('offering', 18879), ('emboss', 18880), ('imagines', 18881), ('hte', 18882), ('hdcd', 18883), ('decoding', 18884), ('krystal', 18885), ('2xcr2032', 18886), ('160gb', 18887), ('freatboar', 18888), ('rp2301fc', 18889), ('thad1019cs', 18890), ('lc32d47ut', 18891), ('s2121', 18892), ('soul', 18893), ('19x10x10', 18894), ('321', 18895), ('a727', 18896), ('cbr300', 18897), ('equator', 18898), ('operational', 18899), ('n550jk', 18900), ('db74t', 18901), ('3132', 18902), ('whatgaugeisit', 18903), ('7227cl', 18904), ('explodes', 18905), ('however', 18906), ('macros', 18907), ('999', 18908), ('synthesizer', 18909), ('forsure', 18910), ('snoring', 18911), ('blak', 18912), ('le48w806', 18913), ('osx10', 18914), ('proudly', 18915), ('interiors', 18916), ('983', 18917), ('dx3c', 18918), ('advisable', 18919), ('bondable', 18920), ('bathe', 18921), ('2021', 18922), ('bodygroom', 18923), ('lengths', 18924), ('cbr', 18925), ('600rr', 18926), ('pt50lc14', 18927), ('presentations', 18928), ('latop', 18929), ('eztrack', 18930), ('rasta', 18931), ('mcx', 18932), ('921', 18933), ('3047', 18934), ('3157', 18935), ('2005f150', 18936), ('overheat', 18937), ('mrx', 18938), ('m110', 18939), ('breakouts', 18940), ('pr1000', 18941), ('2001drz400e', 18942), ('ringlight', 18943), ('benadril', 18944), ('corolle', 18945), ('davison', 18946), ('10foot', 18947), ('niether', 18948), ('paralell', 18949), ('pomegranates', 18950), ('htc6500l', 18951), ('gi9500', 18952), ('practicing', 18953), ('32855', 18954), ('vitagoods', 18955), ('intertnet', 18956), ('capibility', 18957), ('msm', 18958), ('vt25', 18959), ('cp7827', 18960), ('60735', 18961), ('6000s', 18962), ('breakers', 18963), ('10amp', 18964), ('rosin', 18965), ('77mm', 18966), ('32c120u', 18967), ('recevier', 18968), ('3130', 18969), ('richard', 18970), ('fingerboard', 18971), ('burger', 18972), ('nooks', 18973), ('popsicle', 18974), ('labtops', 18975), ('knex', 18976), ('360e', 18977), ('scare', 18978), ('vdj', 18979), ('530s', 18980), ('telyhd', 18981), ('2x2gb', 18982), ('wrists', 18983), ('toppers', 18984), ('masters', 18985), ('exercises', 18986), ('18c', 18987), ('rnc', 18988), ('eljer', 18989), ('separtely', 18990), ('wring', 18991), ('glucocil', 18992), ('excercise', 18993), ('wrks', 18994), ('pectoral', 18995), ('relaxer', 18996), ('bd630', 18997), ('rabbits', 18998), ('freshen', 18999), ('54200r', 19000), ('38x72', 19001), ('stethescope', 19002), ('30amp', 19003), ('13x5x3', 19004), ('quantities', 19005), ('airsight', 19006), ('bph', 19007), ('fsb24v', 19008), ('1587', 19009), ('i1010', 19010), ('58x38', 19011), ('fanstastic', 19012), ('336', 19013), ('rifles', 19014), ('f402', 19015), ('orb', 19016), ('verifed', 19017), ('s738c', 19018), ('oolong', 19019), ('sox', 19020), ('vpro', 19021), ('720uz', 19022), ('penssylvania', 19023), ('rempote', 19024), ('micrometer', 19025), ('4300ub', 19026), ('stero', 19027), ('500mce', 19028), ('c70', 19029), ('tne', 19030), ('matzos', 19031), ('708777k', 19032), ('jwss', 19033), ('10spf', 19034), ('supersaw', 19035), ('laying', 19036), ('ono', 19037), ('cameo', 19038), ('appart', 19039), ('matchs', 19040), ('sangiacomo', 19041), ('dx58og', 19042), ('hct', 19043), ('kylin', 19044), ('whyyyy', 19045), ('foretrex', 19046), ('madder', 19047), ('fist', 19048), ('244dx', 19049), ('toledo', 19050), ('wellington', 19051), ('yhou', 19052), ('ac5000', 19053), ('elonex', 19054), ('exentia', 19055), ('supoort', 19056), ('npf970', 19057), ('p12', 19058), ('swivle', 19059), ('ndoes', 19060), ('sgs90701b', 19061), ('blutech', 19062), ('constructed', 19063), ('571p', 19064), ('6642', 19065), ('tye', 19066), ('hilt', 19067), ('algone', 19068), ('warlock', 19069), ('flasks', 19070), ('acu', 19071), ('keyboad', 19072), ('sandilng', 19073), ('rockwell', 19074), ('rk3441k', 19075), ('tippy', 19076), ('as09a31', 19077), ('yakima', 19078), ('lg47lw5700', 19079), ('chunks', 19080), ('crf250l', 19081), ('86x86', 19082), ('belle', 19083), ('demesions', 19084), ('w80', 19085), ('14g', 19086), ('hemoglobin', 19087), ('anemia', 19088), ('22v', 19089), ('rights', 19090), ('352x240', 19091), ('esxi', 19092), ('r52', 19093), ('055xdb', 19094), ('t500', 19095), ('42t4671', 19096), ('cof', 19097), ('manufacured', 19098), ('lboxx', 19099), ('hassle', 19100), ('calculate', 19101), ('scores', 19102), ('winner', 19103), ('microsued', 19104), ('cordory', 19105), ('microsuede', 19106), ('sr2901lr', 19107), ('ye7', 19108), ('thry', 19109), ('h31', 19110), ('starset', 19111), ('saliva', 19112), ('2270dw', 19113), ('150uf', 19114), ('450v', 19115), ('75175', 19116), ('500dg', 19117), ('dbb06', 19118), ('quartet', 19119), ('noblesse', 19120), ('hytera', 19121), ('pd502', 19122), ('5ths', 19123), ('60hv', 19124), ('ponies', 19125), ('2gs', 19126), ('hyaloric', 19127), ('tura', 19128), ('316', 19129), ('8hz', 19130), ('20khz', 19131), ('estereo', 19132), ('m952', 19133), ('millennium', 19134), ('40x17x5', 19135), ('amt', 19136), ('389mg', 19137), ('tarus', 19138), ('lubricant', 19139), ('cg', 19140), ('youse', 19141), ('gloos', 19142), ('1300g', 19143), ('boyfriend', 19144), ('celica', 19145), ('wmn450m', 19146), ('un55h7150', 19147), ('merlins', 19148), ('236', 19149), ('aculon', 19150), ('t11', 19151), ('m5210c', 19152), ('cellphon', 19153), ('thishave', 19154), ('randomly', 19155), ('acetylene', 19156), ('glossed', 19157), ('crepe', 19158), ('oiler', 19159), ('caseing', 19160), ('thabnks', 19161), ('tracking', 19162), ('cymbals', 19163), ('luna', 19164), ('galasy', 19165), ('i337m', 19166), ('projecting', 19167), ('asdfsdfasdfasdf', 19168), ('asdfasdfasdfsadfsdfasdfasdfasdfsdfsss', 19169), ('qwe', 19170), ('nevada', 19171), ('355', 19172), ('hd7854', 19173), ('1782', 19174), ('turboblend', 19175), ('illustrate', 19176), ('yardmachine', 19177), ('31ae640f088', 19178), ('0432', 19179), ('2800k', 19180), ('1440', 19181), ('workers', 19182), ('isq5', 19183), ('sqr100', 19184), ('gt7510', 19185), ('farming', 19186), ('f200ca', 19187), ('judy', 19188), ('removiable', 19189), ('5cmx59', 19190), ('acorns', 19191), ('enkei', 19192), ('20x', 19193), ('staine', 19194), ('operable', 19195), ('sweaty', 19196), ('jusy', 19197), ('saluti', 19198), ('14x8x8', 19199), ('diagnos', 19200), ('2x8w', 19201), ('chlorohydrate', 19202), ('gpd', 19203), ('phonemic', 19204), ('transcription', 19205), ('dosse', 19206), ('z24', 19207), ('seated', 19208), ('ment', 19209), ('xp400', 19210), ('pt111', 19211), ('artwork', 19212), ('youget', 19213), ('cotinine', 19214), ('restaurant', 19215), ('collasped', 19216), ('hx6992', 19217), ('dril', 19218), ('ive', 19219), ('ralliart', 19220), ('limewood', 19221), ('griptape', 19222), ('packings', 19223), ('gummi', 19224), ('jolly', 19225), ('ranchers', 19226), ('yessum', 19227), ('dynavin', 19228), ('toggles', 19229), ('garant', 19230), ('barstools', 19231), ('autocutter', 19232), ('tick', 19233), ('figue', 19234), ('goodness', 19235), ('tbt', 19236), ('hypothetically', 19237), ('hankook', 19238), ('eft', 19239), ('36x36x19', 19240), ('northstar', 19241), ('2000b', 19242), ('sm200', 19243), ('50650', 19244), ('bye', 19245), ('refurburished', 19246), ('r39', 19247), ('x42', 19248), ('cleaver', 19249), ('connectibility', 19250), ('onsite', 19251), ('globetrotter', 19252), ('roadtrip', 19253), ('normalmente', 19254), ('skylight', 19255), ('parakeet', 19256), ('riverside', 19257), ('hx9170', 19258), ('9140', 19259), ('pg58130', 19260), ('brun', 19261), ('macintosh', 19262), ('liife', 19263), ('10hrs', 19264), ('parkview', 19265), ('starlings', 19266), ('straddling', 19267), ('exalt', 19268), ('3020', 19269), ('retun', 19270), ('hm1900', 19271), ('rivited', 19272), ('dw9104', 19273), ('7211nr', 19274), ('inckude', 19275), ('onz', 19276), ('zise', 19277), ('fidget', 19278), ('meduim', 19279), ('grettings', 19280), ('53535852603', 19281), ('1shade', 19282), ('allready', 19283), ('200w', 19284), ('p5', 19285), ('nitecore', 19286), ('purge', 19287), ('petrochemicals', 19288), ('dinosaur', 19289), ('p11', 19290), ('isthere', 19291), ('peep', 19292), ('gravel', 19293), ('buffiness', 19294), ('naturale', 19295), ('63cm', 19296), ('glassic', 19297), ('gophers', 19298), ('sm58', 19299), ('arx', 19300), ('laminator', 19301), ('perscription', 19302), ('portland', 19303), ('aa59', 19304), ('00580a', 19305), ('vetara', 19306), ('geep', 19307), ('3337', 19308), ('fugimini', 19309), ('ihone', 19310), ('toyora', 19311), ('warrant', 19312), ('430ex', 19313), ('hah', 19314), ('sreen', 19315), ('pup', 19316), ('wsrranty', 19317), ('selkirk', 19318), ('88vs', 19319), ('jlab', 19320), ('contrast', 19321), ('sportwagon', 19322), ('x304', 19323), ('showers', 19324), ('1430', 19325), ('230mg', 19326), ('blubs', 19327), ('thounsand', 19328), ('4cycle', 19329), ('2cycle', 19330), ('deodorizer', 19331), ('8832na', 19332), ('xylophone', 19333), ('kyoto', 19334), ('stowaway', 19335), ('huion', 19336), ('mt4155ps2', 19337), ('tarnishing', 19338), ('sistema', 19339), ('tebuconazole', 19340), ('375ft', 19341), ('1525', 19342), ('2mt', 19343), ('ppi', 19344), ('la110', 19345), ('13oz', 19346), ('trak', 19347), ('780is', 19348), ('fx980', 19349), ('penetrate', 19350), ('deeply', 19351), ('cucinapro', 19352), ('sd1100is', 19353), ('cp01', 19354), ('mystique', 19355), ('nap', 19356), ('mead', 19357), ('dws782', 19358), ('battrew', 19359), ('boseh', 19360), ('hyperx', 19361), ('wrranty', 19362), ('36w', 19363), ('glowsticks', 19364), ('c4870', 19365), ('windward', 19366), ('elder', 19367), ('micocloth', 19368), ('thc', 19369), ('50ng', 19370), ('elegance', 19371), ('89891', 19372), ('osmo', 19373), ('handy', 19374), ('mx892', 19375), ('priner', 19376), ('wrt54g', 19377), ('federal', 19378), ('tranformer', 19379), ('shafs', 19380), ('85g', 19381), ('rocketfuel', 19382), ('comaptible', 19383), ('t540p', 19384), ('blowgun', 19385), ('tunes', 19386), ('pedaled', 19387), ('hydrawise', 19388), ('mastiff', 19389), ('nx70u', 19390), ('nx70', 19391), ('275watts', 19392), ('bottled', 19393), ('incase', 19394), ('warentey', 19395), ('trx700xx', 19396), ('pj46100', 19397), ('dmaa', 19398), ('yds', 19399), ('100dvd', 19400), ('kpf', 19401), ('2250', 19402), ('quien', 19403), ('sabe', 19404), ('pasted', 19405), ('articles', 19406), ('leanguages', 19407), ('mst', 19408), ('squirrils', 19409), ('appletv', 19410), ('chamomile', 19411), ('msgs', 19412), ('vino', 19413), ('malasya', 19414), ('128cd', 19415), ('dw073', 19416), ('coch', 19417), ('tko', 19418), ('deodorizes', 19419), ('9x9x9', 19420), ('accushot', 19421), ('competition', 19422), ('wiith', 19423), ('stablizer', 19424), ('fs700s', 19425), ('cartirdges', 19426), ('inglesina', 19427), ('tupelo', 19428), ('mississippi', 19429), ('33x13x13', 19430), ('kite', 19431), ('quarker', 19432), ('clep', 19433), ('600d', 19434), ('sparingly', 19435), ('i30t', 19436), ('hfk', 19437), ('screenshot', 19438), ('58x37x4', 19439), ('weighed', 19440), ('47lbs', 19441), ('zuico', 19442), ('prostate', 19443), ('shenzhen', 19444), ('17r', 19445), ('i17rm', 19446), ('5129slv', 19447), ('30x15x10', 19448), ('s55oca', 19449), ('chelating', 19450), ('edta', 19451), ('eddha', 19452), ('hedta', 19453), ('13t', 19454), ('m581', 19455), ('nl9206ad', 19456), ('winxp', 19457), ('sp3', 19458), ('gotten', 19459), ('tricalcium', 19460), ('phosphate', 19461), ('forearms', 19462), ('nervous', 19463), ('nd', 19464), ('8040x', 19465), ('hs85', 19466), ('notwisted', 19467), ('08400', 19468), ('centric', 19469), ('necesary', 19470), ('overs', 19471), ('gnat', 19472), ('gnu', 19473), ('additves', 19474), ('d3h', 19475), ('ac1300', 19476), ('hotplate', 19477), ('whaqt', 19478), ('spraying', 19479), ('kelvins', 19480), ('kindly', 19481), ('xe700t1c', 19482), ('watchfire', 19483), ('sperry', 19484), ('dm6400', 19485), ('pinned', 19486), ('plank', 19487), ('4116539120', 19488), ('26mps', 19489), ('36x20', 19490), ('7kg', 19491), ('500mcg', 19492), ('chiroflow', 19493), ('spade', 19494), ('shunde', 19495), ('backflow', 19496), ('rbc24', 19497), ('dune', 19498), ('racers', 19499), ('winbot', 19500), ('perfumed', 19501), ('3by4in', 19502), ('slowly', 19503), ('10w30', 19504), ('antena', 19505), ('hibachi', 19506), ('ywmh76718ab', 19507), ('producet', 19508), ('bb870', 19509), ('skye', 19510), ('precore', 19511), ('eliptical', 19512), ('efx546', 19513), ('cashmere', 19514), ('232', 19515), ('bc16', 19516), ('wirless', 19517), ('m155', 19518), ('hs5', 19519), ('weekdays', 19520), ('duravit', 19521), ('22230900922', 19522), ('hemmed', 19523), ('demension', 19524), ('hd500x', 19525), ('es5l', 19526), ('bs', 19527), ('paragon', 19528), ('mg7120', 19529), ('g72', 19530), ('a5295', 19531), ('gaplessly', 19532), ('285', 19533), ('4ht', 19534), ('ecig', 19535), ('bimotoprost', 19536), ('latisse', 19537), ('iheart', 19538), ('countersink', 19539), ('plains', 19540), ('detoxproduct', 19541), ('oill', 19542), ('8hx18wx15', 19543), ('8d', 19544), ('fromtoy', 19545), ('35v4', 19546), ('overclocked', 19547), ('subburban', 19548), ('56lcz70', 19549), ('connetor', 19550), ('gearbox', 19551), ('yeup', 19552), ('btl', 19553), ('061z', 19554), ('063z', 19555), ('speakes', 19556), ('timing', 19557), ('nlo', 19558), ('mts', 19559), ('stanless', 19560), ('standart', 19561), ('opc', 19562), ('pasties', 19563), ('p90x2', 19564), ('sculpt', 19565), ('melon', 19566), ('4800', 19567), ('emiters', 19568), ('67x36x35', 19569), ('aqaus', 19570), ('lc60eq10u', 19571), ('ultraboook', 19572), ('lush', 19573), ('cs70n', 19574), ('wiffi', 19575), ('1952', 19576), ('desoto', 19577), ('ast', 19578), ('e550', 19579), ('unperforated', 19580), ('insets', 19581), ('teryx', 19582), ('crf80f', 19583), ('toxin', 19584), ('thein', 19585), ('blowouts', 19586), ('mophies', 19587), ('200ma', 19588), ('220voltage', 19589), ('joists', 19590), ('recommendation', 19591), ('wfii', 19592), ('dc59', 19593), ('meelectronic', 19594), ('mackbook', 19595), ('unibody', 19596), ('isticky', 19597), ('cia', 19598), ('broward', 19599), ('pts', 19600), ('tranmitter', 19601), ('surfboards', 19602), ('estes', 19603), ('proto', 19604), ('misprint', 19605), ('32inch', 19606), ('configurar', 19607), ('lunch', 19608), ('friction', 19609), ('structure', 19610), ('400fps', 19611), ('flourescent', 19612), ('2630', 19613), ('jbod', 19614), ('robin', 19615), ('beywarriors', 19616), ('beyblades', 19617), ('encapsulated', 19618), ('timemachine', 19619), ('dx3000', 19620), ('jasper', 19621), ('sldr', 19622), ('9100', 19623), ('2542', 19624), ('f460b', 19625), ('medel', 19626), ('6490', 19627), ('grevillea', 19628), ('f5', 19629), ('e153u', 19630), ('quadcopter', 19631), ('degees', 19632), ('hangs', 19633), ('mesuments', 19634), ('12ins', 19635), ('hops', 19636), ('5yr', 19637), ('ax660', 19638), ('cowboys', 19639), ('dirve', 19640), ('specifcations', 19641), ('75458', 19642), ('iffy', 19643), ('fi8906w', 19644), ('coampatible', 19645), ('jvm1190', 19646), ('s9400', 19647), ('pray', 19648), ('scuff', 19649), ('conical', 19650), ('273240', 19651), ('174358', 19652), ('46le810un', 19653), ('superyard', 19654), ('p195', 19655), ('65r15', 19656), ('89s', 19657), ('charg', 19658), ('beards', 19659), ('poison', 19660), ('vines', 19661), ('x16x16', 19662), ('20008', 19663), ('jitter', 19664), ('dx11', 19665), ('950w', 19666), ('estee', 19667), ('lauder', 19668), ('1ra', 19669), ('shiping', 19670), ('albania', 19671), ('dao', 19672), ('p99', 19673), ('kwh', 19674), ('author', 19675), ('quote', 19676), ('rafael', 19677), ('ortiz', 19678), ('microban', 19679), ('speedair', 19680), ('26gal', 19681), ('hb2', 19682), ('ft4', 19683), ('galloons', 19684), ('flashpoint', 19685), ('shio', 19686), ('helpful', 19687), ('signing', 19688), ('1378964571811', 19689), ('ahesdsf', 19690), ('asdfasd', 19691), ('biofreeze', 19692), ('ilex', 19693), ('s55315', 19694), ('methoprene', 19695), ('2540', 19696), ('geode', 19697), ('although', 19698), ('cs50', 19699), ('simplyvibe', 19700), ('sherpa', 19701), ('n411z', 19702), ('mtv', 19703), ('lebanon', 19704), ('mbc', 19705), ('3520m', 19706), ('s8590', 19707), ('alize', 19708), ('bernzomatic', 19709), ('ts8000', 19710), ('mppb', 19711), ('6050ee', 19712), ('16gauge', 19713), ('nunchucks', 19714), ('ipad4', 19715), ('dowel', 19716), ('10x10x10', 19717), ('97011790', 19718), ('i917', 19719), ('batteriews', 19720), ('35inches', 19721), ('havanese', 19722), ('waterline', 19723), ('1875x18', 19724), ('compatiblewith', 19725), ('s300', 19726), ('hydroton', 19727), ('ut1', 19728), ('rk3188t', 19729), ('4070', 19730), ('pose', 19731), ('uptions', 19732), ('rare', 19733), ('exacly', 19734), ('adsl2', 19735), ('bays', 19736), ('nepenthes', 19737), ('alata', 19738), ('dated', 19739), ('sharpner', 19740), ('mailboxes', 19741), ('56388', 19742), ('aio', 19743), ('slq', 19744), ('bmpcc', 19745), ('moon', 19746), ('2160', 19747), ('dus', 19748), ('1285d2', 19749), ('footboards', 19750), ('chums', 19751), ('unscramble', 19752), ('igthr', 19753), ('marantz', 19754), ('tt42', 19755), ('822', 19756), ('programable', 19757), ('4085', 19758), ('kirkey', 19759), ('dat', 19760), ('22340', 19761), ('retrievers', 19762), ('1463a', 19763), ('enc', 19764), ('wmc', 19765), ('lilitium', 19766), ('trails', 19767), ('tg931t', 19768), ('23s', 19769), ('0n', 19770), ('m5a97', 19771), ('c280', 19772), ('verygood', 19773), ('wirelees', 19774), ('500e', 19775), ('vxr', 19776), ('lnow', 19777), ('workmon', 19778), ('hz850', 19779), ('whisper', 19780), ('suckers', 19781), ('un46c5000qf', 19782), ('ghostrider', 19783), ('omega3', 19784), ('egcg', 19785), ('putty', 19786), ('wh30', 19787), ('leapfrog2explorer', 19788), ('celluluar', 19789), ('forthcoming', 19790), ('traverse', 19791), ('legit', 19792), ('viore', 19793), ('rc3008v', 19794), ('pinochle', 19795), ('depicted', 19796), ('as100vr', 19797), ('ls1111hh', 19798), ('pigmentation', 19799), ('substituted', 19800), ('atwood', 19801), ('clx', 19802), ('ethically', 19803), ('southeast', 19804), ('69750165', 19805), ('6975165', 19806), ('choke', 19807), ('inoculated', 19808), ('sublingual', 19809), ('c03u', 19810), ('294', 19811), ('zelda', 19812), ('fnx', 19813), ('1900min', 19814), ('2000max', 19815), ('3770k', 19816), ('h3x', 19817), ('loppers', 19818), ('mb20', 19819), ('aileron', 19820), ('sting', 19821), ('sandbox', 19822), ('dubbing', 19823), ('stringy', 19824), ('30cc', 19825), ('v560', 19826), ('squre', 19827), ('sqf', 19828), ('lxwxd', 19829), ('movinlet', 19830), ('chare', 19831), ('sd1200is', 19832), ('39l1350u', 19833), ('catnapper', 19834), ('cir', 19835), ('jansport', 19836), ('665', 19837), ('68600891', 19838), ('alliance', 19839), ('rewards', 19840), ('compatble', 19841), ('15w', 19842), ('trophy', 19843), ('microdermabrasion', 19844), ('doxie', 19845), ('dw991', 19846), ('luminescent', 19847), ('hcl', 19848), ('lucidum', 19849), ('detchable', 19850), ('irritate', 19851), ('armpits', 19852), ('hygiene', 19853), ('unfortunely', 19854), ('buyer', 19855), ('distributors', 19856), ('locally', 19857), ('hefty', 19858), ('jaw', 19859), ('tfdvd3297', 19860), ('102mm', 19861), ('f800', 19862), ('t06', 19863), ('c75d', 19864), ('a7102', 19865), ('449', 19866), ('280x', 19867), ('freaking', 19868), ('kt611d50', 19869), ('rudder', 19870), ('dur', 19871), ('handelbar', 19872), ('dsxh43ef0ww', 19873), ('miracasting', 19874), ('huluplus', 19875), ('hansgrohe', 19876), ('talis', 19877), ('infinitely', 19878), ('408ls', 19879), ('theraputic', 19880), ('5foot', 19881), ('usnap', 19882), ('mp490', 19883), ('retaliate', 19884), ('thousand', 19885), ('215b', 19886), ('170sq', 19887), ('americolor', 19888), ('amethyst', 19889), ('comal', 19890), ('1100s', 19891), ('trombone', 19892), ('tenor', 19893), ('5x4x3', 19894), ('ipadmin', 19895), ('michael', 19896), ('kors', 19897), ('tthink', 19898), ('lowe', 19899), ('3gen', 19900), ('mobiel', 19901), ('digcel', 19902), ('inclination', 19903), ('basshound', 19904), ('darkening', 19905), ('k550l', 19906), ('shoretel', 19907), ('softphone', 19908), ('adjuster', 19909), ('indexing', 19910), ('sirbb1', 19911), ('hi8', 19912), ('dong', 19913), ('hei', 19914), ('dist', 19915), ('synchros', 19916), ('beys', 19917), ('hl2240', 19918), ('hl2240d', 19919), ('wmr', 19920), ('c5550', 19921), ('demenssions', 19922), ('photive', 19923), ('36x32', 19924), ('powerfoce', 19925), ('locate', 19926), ('yy', 19927), ('dormant', 19928), ('jing', 19929), ('awnings', 19930), ('469fps', 19931), ('20014', 19932), ('17x32', 19933), ('messurement', 19934), ('sciccors', 19935), ('114ce', 19936), ('deathadder', 19937), ('irritating', 19938), ('evaporated', 19939), ('1920x1200', 19940), ('greater', 19941), ('mbg', 19942), ('mantel', 19943), ('2173cl', 19944), ('73lbs', 19945), ('cubed', 19946), ('luminarc', 19947), ('uppercase', 19948), ('curretly', 19949), ('lr41', 19950), ('flamingos', 19951), ('xhose', 19952), ('wd2002fyps', 19953), ('02w3b0', 19954), ('461ts', 19955), ('homeless', 19956), ('cantidad', 19957), ('viene', 19958), ('proviedd', 19959), ('lc70le655u', 19960), ('tomatoes', 19961), ('amazingly', 19962), ('1101428', 19963), ('perchase', 19964), ('nongmo', 19965), ('900f', 19966), ('awake', 19967), ('pore', 19968), ('recruit', 19969), ('bumber', 19970), ('adv', 19971), ('ghosts', 19972), ('10x15', 19973), ('1417', 19974), ('limeted', 19975), ('un65f6400af', 19976), ('deflecto', 19977), ('strectch', 19978), ('0ne', 19979), ('mansfield', 19980), ('400lbs', 19981), ('dolica', 19982), ('pone', 19983), ('349', 19984), ('3055', 19985), ('dure', 19986), ('dotes', 19987), ('ti2', 19988), ('makesagreatportraitlense', 19989), ('trp', 19990), ('docs', 19991), ('yese', 19992), ('millermatic', 19993), ('autoset', 19994), ('pct2', 19995), ('c153t2', 19996), ('adopter', 19997), ('28659', 19998), ('1084', 19999), ('kuchenprofi', 20000), ('berardi', 20001), ('030400', 20002), ('11n', 20003), ('coffin', 20004), ('vpeceg13el', 20005), ('waive', 20006), ('delight', 20007), ('lnches', 20008), ('gx7', 20009), ('hookless', 20010), ('pulsate', 20011), ('pulsates', 20012), ('gave', 20013), ('indictor', 20014), ('mildot', 20015), ('exempt', 20016), ('4590', 20017), ('31114', 20018), ('widht', 20019), ('2595lmt', 20020), ('matterss', 20021), ('mm575', 20022), ('worthless', 20023), ('pd9000', 20024), ('sore', 20025), ('backerboard', 20026), ('dcb200', 20027), ('mc240ll', 20028), ('fights', 20029), ('15wx18lx10', 20030), ('5h', 20031), ('10008', 20032), ('predator', 20033), ('lubewax', 20034), ('seis', 20035), ('pies', 20036), ('aproximadamente', 20037), ('abelton', 20038), ('6i6', 20039), ('4g18', 20040), ('surrport', 20041), ('zoned', 20042), ('rinsed', 20043), ('1775', 20044), ('5552', 20045), ('5498', 20046), ('lied', 20047), ('hermetic', 20048), ('lentnth', 20049), ('longboard', 20050), ('industries', 20051), ('documentation', 20052), ('dsch', 20053), ('minimove', 20054), ('1982', 20055), ('200lbs', 20056), ('vol', 20057), ('tage', 20058), ('8mb', 20059), ('as100', 20060), ('32ex520', 20061), ('x79', 20062), ('12x9x3', 20063), ('bioperine', 20064), ('18190', 20065), ('saut', 20066), ('fx35', 20067), ('willing', 20068), ('puertorico', 20069), ('zebra', 20070), ('icy', 20071), ('thnk', 20072), ('handler', 20073), ('imches', 20074), ('yeahhh', 20075), ('tannoy', 20076), ('reveal', 20077), ('402', 20078), ('butto', 20079), ('2d19wm', 20080), ('componant', 20081), ('1875w', 20082), ('e809a', 20083), ('ft1039a', 20084), ('audyssey', 20085), ('farenhight', 20086), ('1600mhz', 20087), ('exectly', 20088), ('16340', 20089), ('thoisphone', 20090), ('mailing', 20091), ('deliverd', 20092), ('sxl', 20093), ('diffusion', 20094), ('sportswagen', 20095), ('with1', 20096), ('recever', 20097), ('dropage', 20098), ('ahx5910', 20099), ('f90', 20100), ('clickable', 20101), ('babys', 20102), ('lawns', 20103), ('is550', 20104), ('awrcc1', 20105), ('situations', 20106), ('grenade', 20107), ('700u', 20108), ('bicycles', 20109), ('decoders', 20110), ('tha', 20111), ('chinois', 20112), ('woul', 20113), ('hm1300', 20114), ('luckies', 20115), ('miniatures', 20116), ('r710', 20117), ('29282', 20118), ('sublimation', 20119), ('c3m', 20120), ('m400', 20121), ('fde', 20122), ('seedless', 20123), ('standoffs', 20124), ('quadcopters', 20125), ('7wx13lx15l', 20126), ('filing', 20127), ('fennel', 20128), ('eglish', 20129), ('allows', 20130), ('spongeless', 20131), ('folate', 20132), ('b6', 20133), ('wes1450dn1bb', 20134), ('10100', 20135), ('153s', 20136), ('agen', 20137), ('portraits', 20138), ('a3', 20139), ('cloning', 20140), ('acronis', 20141), ('waterway', 20142), ('ph2100', 20143), ('11255vrs', 20144), ('maneuver', 20145), ('walks', 20146), ('organis', 20147), ('contol', 20148), ('staining', 20149), ('panties', 20150), ('18000', 20151), ('playtime', 20152), ('sixe', 20153), ('crockpot', 20154), ('charbroil', 20155), ('glaze', 20156), ('vss', 20157), ('b1160w', 20158), ('hydluic', 20159), ('kylintv', 20160), ('sennosides', 20161), ('6mg', 20162), ('docusate', 20163), ('s765c', 20164), ('erasers', 20165), ('jamup', 20166), ('holester', 20167), ('hipoint', 20168), ('emi', 20169), ('m470vse', 20170), ('realfeel', 20171), ('s5active', 20172), ('vitria', 20173), ('writable', 20174), ('x32', 20175), ('nwze464', 20176), ('liver', 20177), ('enzymes', 20178), ('lubercant', 20179), ('citracal', 20180), ('ezip', 20181), ('dapter', 20182), ('conpartment', 20183), ('ipoad', 20184), ('ethnic', 20185), ('dlc5', 20186), ('skyfi2', 20187), ('sola', 20188), ('mt27i', 20189), ('emery', 20190), ('13x17', 20191), ('kn256ww', 20192), ('foglights', 20193), ('cockatoo', 20194), ('or12', 20195), ('duratrax', 20196), ('evader', 20197), ('twins', 20198), ('classes', 20199), ('cardiocore', 20200), ('pluging', 20201), ('ratcheting', 20202), ('dictionary', 20203), ('nicley', 20204), ('rougly', 20205), ('12x10ft', 20206), ('televisions', 20207), ('biodegradeable', 20208), ('bion', 20209), ('2359', 20210), ('4lu', 20211), ('l655d', 20212), ('5164slv', 20213), ('k027cl', 20214), ('rpj', 20215), ('hairfinty', 20216), ('kilometer', 20217), ('t450s', 20218), ('totupperware', 20219), ('ziplock', 20220), ('240voltage', 20221), ('e150', 20222), ('fret', 20223), ('sloppy', 20224), ('expended', 20225), ('regrowth', 20226), ('proclaim', 20227), ('toll', 20228), ('32nds', 20229), ('conservative', 20230), ('cheerson', 20231), ('44t', 20232), ('handpiece', 20233), ('l7', 20234), ('705', 20235), ('2cvcle', 20236), ('steadyshot', 20237), ('w200', 20238), ('collectables', 20239), ('franklin', 20240), ('536', 20241), ('885202', 20242), ('p4018', 20243), ('noidea', 20244), ('motheboard', 20245), ('sportdog', 20246), ('outgrow', 20247), ('smartseries', 20248), ('115200', 20249), ('baud', 20250), ('dinnerware', 20251), ('cleanout', 20252), ('whisk', 20253), ('galxay', 20254), ('tablecloth', 20255), ('retardancy', 20256), ('oatmeal', 20257), ('wagner', 20258), ('ht1000', 20259), ('spork', 20260), ('nc1100b', 20261), ('thousandth', 20262), ('doese', 20263), ('savety', 20264), ('copyable', 20265), ('tackle', 20266), ('wqork', 20267), ('swath', 20268), ('2473swh', 20269), ('gareentee', 20270), ('aluratek', 20271), ('64mb', 20272), ('fmt', 20273), ('butcher', 20274), ('937', 20275), ('branding', 20276), ('rc3500d', 20277), ('incluye', 20278), ('isuzu', 20279), ('easly', 20280), ('prequel', 20281), ('keybored', 20282), ('bloat', 20283), ('takamine', 20284), ('samung', 20285), ('galaxys3', 20286), ('ingnition', 20287), ('blockers', 20288), ('muro', 20289), ('mustang1', 20290), ('displays', 20291), ('naphtha', 20292), ('556r', 20293), ('8x4', 20294), ('ascensia', 20295), ('1c57dx', 20296), ('currie', 20297), ('ihave', 20298), ('charnroiil', 20299), ('hd20', 20300), ('telezapper', 20301), ('g9x', 20302), ('mont', 20303), ('blanc', 20304), ('demonstrate', 20305), ('lordosis', 20306), ('piwis', 20307), ('idrive', 20308), ('tricyphyr', 20309), ('taser', 20310), ('sthis', 20311), ('automated', 20312), ('littermaid', 20313), ('atheros', 20314), ('ar9271', 20315), ('zoysiagrass', 20316), ('thestandard', 20317), ('attchment', 20318), ('chewed', 20319), ('swingline', 20320), ('floods', 20321), ('haves', 20322), ('60r16', 20323), ('bradfield', 20324), ('horticultural', 20325), ('tm1s', 20326), ('18350s', 20327), ('nuv', 20328), ('2565', 20329), ('finders', 20330), ('ophthalmoscope', 20331), ('manafacture', 20332), ('callaway', 20333), ('lenox', 20334), ('rapidstrike', 20335), ('siriusxm', 20336), ('worx', 20337), ('502', 20338), ('spyderco', 20339), ('27x8x20', 20340), ('c410w', 20341), ('protocol', 20342), ('udp', 20343), ('multipack', 20344), ('3kg', 20345), ('limite', 20346), ('551', 20347), ('8469', 20348), ('blonds', 20349), ('gb7', 20350), ('vs4', 20351), ('liberado', 20352), ('cualquier', 20353), ('linea', 20354), ('dpn01159', 20355), ('2x3w', 20356), ('6w', 20357), ('jim', 20358), ('cel', 20359), ('headlamps', 20360), ('providers', 20361), ('despite', 20362), ('wiqiqi', 20363), ('vm9213', 20364), ('isw', 20365), ('ctx700n', 20366), ('feul', 20367), ('d620r', 20368), ('banks', 20369), ('risiquad', 20370), ('equilvalent', 20371), ('82x40x29', 20372), ('cellery', 20373), ('actron', 20374), ('diagnostic', 20375), ('preasent', 20376), ('2205', 20377), ('tourch', 20378), ('starting', 20379), ('hafx5b', 20380), ('109927', 20381), ('pourous', 20382), ('paladin', 20383), ('batteriesand', 20384), ('17x17x17', 20385), ('m125', 20386), ('somanpure', 20387), ('valerian', 20388), ('dc8', 20389), ('cnd', 20390), ('vinylux', 20391), ('negligee', 20392), ('virtualization', 20393), ('detectors', 20394), ('a4200', 20395), ('roadking', 20396), ('gk420d', 20397), ('magnetron', 20398), ('diode', 20399), ('forard', 20400), ('squared', 20401), ('thinest', 20402), ('recursive', 20403), ('vdsl', 20404), ('nunchuk', 20405), ('differance', 20406), ('assessories', 20407), ('cac', 20408), ('strum', 20409), ('slipper', 20410), ('speedmaster', 20411), ('thisa', 20412), ('73404579', 20413), ('vsm250', 20414), ('mg5220', 20415), ('s3700', 20416), ('m1217nfw', 20417), ('ksm153psgc', 20418), ('diarrhea', 20419), ('5530', 20420), ('selecting', 20421), ('yoshi', 20422), ('micosoft', 20423), ('av16', 20424), ('have35', 20425), ('0801', 20426), ('0051', 20427), ('rapids', 20428), ('courage', 20429), ('sv715', 20430), ('0002', 20431), ('mmk', 20432), ('ilustrator', 20433), ('corel', 20434), ('surplus', 20435), ('enmatic', 20436), ('acting', 20437), ('bookmark', 20438), ('dd5060', 20439), ('25inches', 20440), ('chipper', 20441), ('11grams', 20442), ('srw', 20443), ('kubota', 20444), ('rtv', 20445), ('818', 20446), ('adpater', 20447), ('niacin', 20448), ('niacinamide', 20449), ('42v4100', 20450), ('3632', 20451), ('3632qm', 20452), ('pb195h42lt', 20453), ('nighttime', 20454), ('caliper', 20455), ('crosley', 20456), ('cr6002a', 20457), ('sureee', 20458), ('murderer', 20459), ('mahjong', 20460), ('scoring', 20461), ('amangoparty', 20462), ('bdp2900', 20463), ('sos', 20464), ('bdc800', 20465), ('107g', 20466), ('stae128', 20467), ('compack', 20468), ('combos', 20469), ('reuseble', 20470), ('38x75x10', 20471), ('bingo', 20472), ('transferable', 20473), ('selfless', 20474), ('cobb', 20475), ('bided', 20476), ('80r', 20477), ('mx620', 20478), ('23oz', 20479), ('u260', 20480), ('dafuk', 20481), ('k70', 20482), ('waxing', 20483), ('fraud', 20484), ('sys', 20485), ('p4000dvd', 20486), ('headunit', 20487), ('lamborghini', 20488), ('galardo', 20489), ('doubtfull', 20490), ('endless', 20491), ('draining', 20492), ('spaghetti', 20493), ('concept', 20494), ('autometer', 20495), ('5737', 20496), ('quarto', 20497), ('dean', 20498), ('4to7oz', 20499), ('100line', 20500), ('gardenwinds', 20501), ('dd50', 20502), ('icc', 20503), ('electrolux', 20504), ('sprouted', 20505), ('4e', 20506), ('300nx', 20507), ('5mpto', 20508), ('tr805', 20509), ('xtetrra', 20510), ('hmmmmm', 20511), ('replayed', 20512), ('gopher', 20513), ('65181', 20514), ('20r', 20515), ('m12000', 20516), ('ps200', 20517), ('warmed', 20518), ('h2000c', 20519), ('g75vw', 20520), ('calibratable', 20521), ('itstoosmall', 20522), ('stopping', 20523), ('48x48x50', 20524), ('strudy', 20525), ('recordable', 20526), ('kn', 20527), ('4kn', 20528), ('ehiem', 20529), ('framet', 20530), ('wherbe', 20531), ('artic', 20532), ('grooves', 20533), ('xpo', 20534), ('dow', 20535), ('accelerometers', 20536), ('178', 20537), ('ccg', 20538), ('ds3', 20539), ('3aio', 20540), ('carousal', 20541), ('lci', 20542), ('granit', 20543), ('maney', 20544), ('cleans', 20545), ('lefties', 20546), ('m511r', 20547), ('atc', 20548), ('neonate', 20549), ('liverppool', 20550), ('liverpool', 20551), ('9040thx', 20552), ('dl100', 20553), ('8psk', 20554), ('dishwashers', 20555), ('softboxes', 20556), ('580exii', 20557), ('32x11', 20558), ('50x15', 20559), ('v1073', 20560), ('multilingual', 20561), ('corse', 20562), ('viewnx', 20563), ('followers', 20564), ('pressuirized', 20565), ('surfing', 20566), ('4670', 20567), ('mention', 20568), ('taylormade', 20569), ('math', 20570), ('xdi', 20571), ('foricrotech', 20572), ('bcd', 20573), ('shevy', 20574), ('itbpa', 20575), ('gaterunlimitedllc', 20576), ('leovo', 20577), ('ul20a', 20578), ('proliant', 20579), ('ml115', 20580), ('6x9', 20581), ('2160lm', 20582), ('m57', 20583), ('lumped', 20584), ('baggie', 20585), ('8700', 20586), ('highth', 20587), ('tmj', 20588), ('doral', 20589), ('seville', 20590), ('770s', 20591), ('leftovers', 20592), ('windoss', 20593), ('disappointed', 20594), ('24g', 20595), ('16wx10hx101', 20596), ('1800mah', 20597), ('parents', 20598), ('r6208sb', 20599), ('bodied', 20600), ('alexandrine', 20601), ('redding', 20602), ('flamable', 20603), ('8501', 20604), ('fibre', 20605), ('bonnet', 20606), ('chainrings', 20607), ('petsafe', 20608), ('560lt', 20609), ('polysorbate', 20610), ('12hours', 20611), ('stippling', 20612), ('bestops', 20613), ('dsp', 20614), ('fields', 20615), ('voiced', 20616), ('helicon', 20617), ('voicelive', 20618), ('coeds', 20619), ('steve', 20620), ('egyppt', 20621), ('squeezable', 20622), ('i530', 20623), ('polarizing', 20624), ('5x18x2', 20625), ('motox', 20626), ('galileo', 20627), ('x431idiag', 20628), ('ft60', 20629), ('5a', 20630), ('touchpads', 20631), ('ls5005', 20632), ('6410', 20633), ('thecertificate', 20634), ('recall', 20635), ('wg509', 20636), ('onetouch', 20637), ('fierce', 20638), ('brightspot', 20639), ('tripode', 20640), ('ctx', 20641), ('hyosung', 20642), ('gv250', 20643), ('aguila', 20644), ('e38', 20645), ('nextfit', 20646), ('corrode', 20647), ('pruner', 20648), ('forskolin', 20649), ('chained', 20650), ('kia2012', 20651), ('10s', 20652), ('grew', 20653), ('a8600', 20654), ('controltalk', 20655), ('mea', 20656), ('khm', 20657), ('microky', 20658), ('hydor', 20659), ('koralia', 20660), ('425gph', 20661), ('mvh150e', 20662), ('hbo', 20663), ('dpo', 20664), ('ovulation', 20665), ('internally', 20666), ('baffled', 20667), ('ym100', 20668), ('cuisine', 20669), ('tayima', 20670), ('fem', 20671), ('starkey', 20672), ('1255x', 20673), ('warrrantee', 20674), ('xxxs', 20675), ('skydock', 20676), ('computerized', 20677), ('nude', 20678), ('narutos', 20679), ('vibrated', 20680), ('newt', 20681), ('fld', 20682), ('hardbags', 20683), ('milliradians', 20684), ('gobo', 20685), ('ult', 20686), ('landlines', 20687), ('harmonicas', 20688), ('186', 20689), ('vinil', 20690), ('cani', 20691), ('skeg', 20692), ('suspensions', 20693), ('itb', 20694), ('onc', 20695), ('lexol', 20696), ('peltor', 20697), ('comtac', 20698), ('handled', 20699), ('7942', 20700), ('webkin', 20701), ('danish', 20702), ('dextrose', 20703), ('ribbed', 20704), ('ebag', 20705), ('hardwiring', 20706), ('hardwire', 20707), ('132r', 20708), ('outlit', 20709), ('frixion', 20710), ('compativle', 20711), ('3227cl', 20712), ('mg5520', 20713), ('massaging', 20714), ('snack', 20715), ('wallswitch', 20716), ('transmit', 20717), ('murs', 20718), ('8513', 20719), ('375mg', 20720), ('soid', 20721), ('pg445', 20722), ('weathershield', 20723), ('optimizer', 20724), ('kt600', 20725), ('50x70', 20726), ('sg3', 20727), ('bleck', 20728), ('purole', 20729), ('glock34', 20730), ('tarnslucent', 20731), ('wedding', 20732), ('cassia', 20733), ('pressurized', 20734), ('s5100', 20735), ('dc5800', 20736), ('suncanna', 20737), ('h701a', 20738), ('eyepets', 20739), ('plumber', 20740), ('cavilier', 20741), ('pwma230', 20742), ('1headphone', 20743), ('s730', 20744), ('viened', 20745), ('reborn', 20746), ('addisional', 20747), ('looked', 20748), ('x30', 20749), ('acoord', 20750), ('tecnicc', 20751), ('bd1', 20752), ('nade', 20753), ('blanco', 20754), ('cx150', 20755), ('cit', 20756), ('21514', 20757), ('29319', 20758), ('parking', 20759), ('barre', 20760), ('pier', 20761), ('roadster', 20762), ('airplaine', 20763), ('flus', 20764), ('hhard', 20765), ('microdot', 20766), ('ely', 20767), ('drugs', 20768), ('quitar', 20769), ('undermounted', 20770), ('fdp', 20771), ('ctx700', 20772), ('cp780', 20773), ('sonicos', 20774), ('letoff', 20775), ('336w', 20776), ('size30', 20777), ('32pants', 20778), ('heloo', 20779), ('cq5320f', 20780), ('thew', 20781), ('xt532', 20782), ('went', 20783), ('0862', 20784), ('5740', 20785), ('6378', 20786), ('si70', 20787), ('ml430', 20788), ('waterfall', 20789), ('fountains', 20790), ('apprx', 20791), ('52100', 20792), ('cartrdges', 20793), ('2757', 20794), ('fous', 20795), ('scew', 20796), ('arfx', 20797), ('hw', 20798), ('f450', 20799), ('vitro', 20800), ('nooo', 20801), ('sqft', 20802), ('suggested', 20803), ('gc2', 20804), ('t105', 20805), ('aloha', 20806), ('7100dn', 20807), ('result', 20808), ('5150', 20809), ('shanghai', 20810), ('tauris', 20811), ('pt709', 20812), ('g37', 20813), ('handcam', 20814), ('dvd610', 20815), ('c300', 20816), ('komperdell', 20817), ('wdf', 20818), ('4840a', 20819), ('wdf4840', 20820), ('hiniscus', 20821), ('jupiter', 20822), ('ripsaw', 20823), ('zdo', 20824), ('model100', 20825), ('plasticky', 20826), ('solvent', 20827), ('storie', 20828), ('s2ikdz', 20829), ('003', 20830), ('tifton', 20831), ('bermuda', 20832), ('cheyenne', 20833), ('gallaxy', 20834), ('20ga', 20835), ('smps', 20836), ('h250ad', 20837), ('h13', 20838), ('vanadium', 20839), ('sippy', 20840), ('snapshots', 20841), ('w3500', 20842), ('extent', 20843), ('germinate', 20844), ('shelter', 20845), ('nv', 20846), ('tiliapia', 20847), ('koi', 20848), ('flix', 20849), ('r310', 20850), ('h265', 20851), ('hevc', 20852), ('stylu', 20853), ('father', 20854), ('5star', 20855), ('8547', 20856), ('helion', 20857), ('dominus', 20858), ('10scv2', 20859), ('shorkie', 20860), ('glgq2152es3', 20861), ('sunglasse', 20862), ('copyright', 20863), ('felling', 20864), ('5x51', 20865), ('threw', 20866), ('everyting', 20867), ('strains', 20868), ('acidophilus', 20869), ('unpolished', 20870), ('w290', 20871), ('doesl', 20872), ('airsof', 20873), ('10cm5cm', 20874), ('481320', 20875), ('liquirizia', 20876), ('9320', 20877), ('110psi', 20878), ('tonalin', 20879), ('cla', 20880), ('scocket', 20881), ('trijicon', 20882), ('11ov', 20883), ('hyundi', 20884), ('useed', 20885), ('latrax', 20886), ('sst', 20887), ('sz3', 20888), ('martensitic', 20889), ('lifespan', 20890), ('ert1250vn', 20891), ('wieght', 20892), ('emergent', 20893), ('lossless', 20894), ('powernail', 20895), ('trasmission', 20896), ('1225dx', 20897), ('canteen', 20898), ('dect6', 20899), ('centurea', 20900), ('cartiges', 20901), ('id45', 20902), ('fuzhou', 20903), ('fujan', 20904), ('hitatchi', 20905), ('ber', 20906), ('5x16x9', 20907), ('freakin', 20908), ('mazing', 20909), ('42ls3400', 20910), ('340us', 20911), ('haircut', 20912), ('hannah', 20913), ('grandmas', 20914), ('acme', 20915), ('6001', 20916), ('h1r1', 20917), ('md481ll', 20918), ('tipe', 20919), ('terminater', 20920), ('x140e', 20921), ('towable', 20922), ('flatiron', 20923), ('as5750z', 20924), ('4877', 20925), ('foes', 20926), ('p590ib', 20927), ('wrg', 20928), ('conforter', 20929), ('nawwww', 20930), ('nawwwww', 20931), ('rebiana', 20932), ('greenway', 20933), ('watear', 20934), ('rams', 20935), ('htb3570', 20936), ('x6673', 20937), ('vermont', 20938), ('cx100', 20939), ('larryoc', 20940), ('200iu', 20941), ('signer', 20942), ('screews', 20943), ('320i', 20944), ('silvarado', 20945), ('noooopppe', 20946), ('eother', 20947), ('villaware', 20948), ('dosages', 20949), ('microbial', 20950), ('setscrew', 20951), ('sgk', 20952), ('47ln5700', 20953), ('dmz', 20954), ('makerbots', 20955), ('auxillary', 20956), ('esla63', 20957), ('f180k', 20958), ('11066832500', 20959), ('nailhead', 20960), ('cqb', 20961), ('navitas', 20962), ('cacao', 20963), ('5469', 20964), ('corresponds', 20965), ('abount', 20966), ('powders', 20967), ('a1x', 20968), ('tahiti', 20969), ('oranges', 20970), ('1d80nr', 20971), ('cng', 20972), ('meteorites', 20973), ('expression2', 20974), ('perixx', 20975), ('landcruiser', 20976), ('110w', 20977), ('rivoted', 20978), ('fibromyalgia', 20979), ('soniccare', 20980), ('e1705', 20981), ('pamela', 20982), ('hdim', 20983), ('24x60', 20984), ('vt750', 20985), ('temporary', 20986), ('telecaster', 20987), ('85db', 20988), ('hewitt', 20989), ('packard', 20990), ('lt26ii', 20991), ('fixxcar0016', 20992), ('m70', 20993), ('2cups', 20994), ('microsdhc', 20995), ('919177560', 20996), ('righthanders', 20997), ('feux', 20998), ('300ss', 20999), ('100ss', 21000), ('mh943s', 21001), ('75856', 21002), ('blueberry', 21003), ('nr727', 21004), ('32sb24u', 21005), ('x21', 21006), ('30x10', 21007), ('50r15', 21008), ('st205', 21009), ('75d15', 21010), ('weathertech', 21011), ('2per', 21012), ('uvb', 21013), ('rosseta', 21014), ('4ply', 21015), ('wdbfjk0040hbk', 21016), ('28x52', 21017), ('rangers', 21018), ('legacy', 21019), ('dagger', 21020), ('35h00153', 21021), ('01m', 21022), ('bridges', 21023), ('hacked', 21024), ('preventative', 21025), ('36x12x10', 21026), ('1ch', 21027), ('diffuse', 21028), ('ht1075', 21029), ('lubrication', 21030), ('walgreens', 21031), ('trutack', 21032), ('compactible', 21033), ('kds', 21034), ('50a', 21035), ('k20hr', 21036), ('u11', 21037), ('denso', 21038), ('addtional', 21039), ('adjustible', 21040), ('eyelash', 21041), ('mesurments', 21042), ('snackeez', 21043), ('wiried', 21044), ('f1492', 21045), ('lexmar', 21046), ('p901', 21047), ('scorpions', 21048), ('humidify', 21049), ('esacpe', 21050), ('bundt', 21051), ('s5049', 21052), ('r60', 21053), ('lightahead', 21054), ('40x40feet', 21055), ('capsul', 21056), ('railing', 21057), ('camra', 21058), ('hc65', 21059), ('dehydration', 21060), ('t59bnr', 21061), ('relationship', 21062), ('nay', 21063), ('4wheel', 21064), ('duratuff', 21065), ('stretches', 21066), ('pt300', 21067), ('import', 21068), ('panorexes', 21069), ('dexis', 21070), ('paradise', 21071), ('gl22764bk', 21072), ('r134a', 21073), ('ti83', 21074), ('streaks', 21075), ('knobby', 21076), ('banging', 21077), ('formulation', 21078), ('bathrooms', 21079), ('kukicha', 21080), ('244210', 21081), ('zink', 21082), ('daleks', 21083), ('sl785', 21084), ('2000g', 21085), ('2kg', 21086), ('11h', 21087), ('santafe', 21088), ('2660', 21089), ('powerfit', 21090), ('kendamas', 21091), ('hero960', 21092), ('h70', 21093), ('claus', 21094), ('bridle', 21095), ('mixamp', 21096), ('civics', 21097), ('rafters', 21098), ('yeh', 21099), ('265w', 21100), ('sol', 21101), ('terraria', 21102), ('showtime', 21103), ('mk6', 21104), ('impressa', 21105), ('arthritis', 21106), ('repond', 21107), ('spoonful', 21108), ('font', 21109), ('axialracing', 21110), ('whitetail', 21111), ('sr10', 21112), ('formats', 21113), ('overdub', 21114), ('itis', 21115), ('chlorhexidine', 21116), ('gluconate', 21117), ('reissue', 21118), ('suzanne', 21119), ('summers', 21120), ('automaticlocks', 21121), ('contral', 21122), ('pinpoint', 21123), ('actucal', 21124), ('100x92', 21125), ('786', 21126), ('8x5', 21127), ('dv150', 21128), ('cbt', 21129), ('zippable', 21130), ('frod', 21131), ('hanwei', 21132), ('pressing', 21133), ('24e', 21134), ('chewy', 21135), ('bronco', 21136), ('zenbook', 21137), ('dp500a2d', 21138), ('a02ub', 21139), ('capacitiance', 21140), ('4nf', 21141), ('200uf', 21142), ('gro', 21143), ('smarty', 21144), ('fleshlight', 21145), ('horns', 21146), ('720cm', 21147), ('iphoneor', 21148), ('1n', 21149), ('excelsteel', 21150), ('wingmaster', 21151), ('competable', 21152), ('beet', 21153), ('b6p', 21154), ('stickerless', 21155), ('quantray', 21156), ('qsx', 21157), ('gtx770ti', 21158), ('7876400', 21159), ('volumetric', 21160), ('spinner', 21161), ('16x13x10', 21162), ('1515m', 21163), ('afterglow', 21164), ('14x20', 21165), ('745mg', 21166), ('l755', 21167), ('m1913', 21168), ('techcraft', 21169), ('swh4024', 21170), ('graphs', 21171), ('ksm500opser', 21172), ('pro500', 21173), ('oddysey', 21174), ('dashboard', 21175), ('mould', 21176), ('278', 21177), ('promo', 21178), ('jumped', 21179), ('60le832u', 21180), ('kenwoodkdc', 21181), ('mp728', 21182), ('dispersed', 21183), ('803', 21184), ('b351a', 21185), ('cartriage', 21186), ('sacd', 21187), ('mfcj650dw', 21188), ('32le451u', 21189), ('bottleneck', 21190), ('shuttle', 21191), ('700mb', 21192), ('satisfy', 21193), ('requiring', 21194), ('futons', 21195), ('zs19', 21196), ('4x5', 21197), ('vh126', 21198), ('rotator', 21199), ('ibooks', 21200), ('plse', 21201), ('f305p', 21202), ('outputting', 21203), ('tq', 21204), ('orhotics', 21205), ('battered', 21206), ('foods', 21207), ('jameco', 21208), ('allied', 21209), ('mouser', 21210), ('9181', 21211), ('undo', 21212), ('clubwagon', 21213), ('wangler', 21214), ('mophie', 21215), ('doubles', 21216), ('burns', 21217), ('reckon', 21218), ('windsheild', 21219), ('stips', 21220), ('gilette', 21221), ('intended', 21222), ('partition', 21223), ('b18c1', 21224), ('pj83100', 21225), ('fs46', 21226), ('excelerator', 21227), ('thar', 21228), ('ziper', 21229), ('cinchona', 21230), ('asprine', 21231), ('guiter', 21232), ('cs6', 21233), ('t88111', 21234), ('spaetzle', 21235), ('nisssn', 21236), ('springtails', 21237), ('funcionar', 21238), ('zips', 21239), ('01545', 21240), ('r900', 21241), ('rcl124', 21242), ('000220', 21243), ('155209j', 21244), ('simplicity', 21245), ('strange', 21246), ('864', 21247), ('unbrella', 21248), ('corbels', 21249), ('demolisher', 21250), ('relocation', 21251), ('nst1024', 21252), ('soao', 21253), ('fell', 21254), ('un55f6300af', 21255), ('jhg', 21256), ('thomy', 21257), ('mayonaises', 21258), ('s3mini', 21259), ('3t', 21260), ('rev03', 21261), ('gst', 21262), ('advertise', 21263), ('genration', 21264), ('i1900g', 21265), ('eletrecity', 21266), ('posible', 21267), ('registar', 21268), ('bibs', 21269), ('asmb016', 21270), ('ibm', 21271), ('wheelwriter', 21272), ('fruityloops', 21273), ('oleander', 21274), ('caterpillars', 21275), ('to10', 21276), ('singleshot', 21277), ('800watts', 21278), ('forenza', 21279), ('darkness', 21280), ('4x4x48', 21281), ('engaged', 21282), ('reapplied', 21283), ('kabob', 21284), ('s545', 21285), ('ipd', 21286), ('treacherous', 21287), ('stsndard', 21288), ('rs300x', 21289), ('gullwing', 21290), ('seatcover', 21291), ('carnivora', 21292), ('scentless', 21293), ('techniflex', 21294), ('gxp', 21295), ('14x39', 21296), ('flossugar', 21297), ('tablespoons', 21298), ('6db', 21299), ('gmrs', 21300), ('bullseye', 21301), ('craftsmen', 21302), ('creader', 21303), ('viii', 21304), ('peruvian', 21305), ('da', 21306), ('vinci', 21307), ('2555lm', 21308), ('charred', 21309), ('284630', 21310), ('a33', 21311), ('uacute', 21312), ('hd300', 21313), ('pgx1', 21314), ('rollover', 21315), ('md760ll', 21316), ('v8043f1036', 21317), ('jagger', 21318), ('ned', 21319), ('newby', 21320), ('touckscreen', 21321), ('hypervenom', 21322), ('magizine', 21323), ('longis', 21324), ('barb', 21325), ('shear', 21326), ('antutu', 21327), ('benchmark', 21328), ('17366', 21329), ('feree', 21330), ('24bit', 21331), ('785332', 21332), ('3115114832', 21333), ('and315115510', 21334), ('legends', 21335), ('chimney', 21336), ('oakley', 21337), ('hp2000', 21338), ('2c29wm', 21339), ('sew', 21340), ('faceted', 21341), ('woods', 21342), ('mountains', 21343), ('suger', 21344), ('artifacial', 21345), ('removible', 21346), ('supermarket', 21347), ('24x1', 21348), ('s7582', 21349), ('812', 21350), ('daw', 21351), ('t210r', 21352), ('2000cw', 21353), ('fq', 21354), ('gretsch', 21355), ('g9500', 21356), ('ms310', 21357), ('ulead', 21358), ('d830', 21359), ('equilateral', 21360), ('4704', 21361), ('145bt', 21362), ('un55es7003', 21363), ('1480', 21364), ('trading', 21365), ('slid', 21366), ('dc39', 21367), ('salon', 21368), ('madein', 21369), ('procedures', 21370), ('retreiving', 21371), ('captured', 21372), ('grater', 21373), ('nespreso', 21374), ('q701', 21375), ('k702', 21376), ('lakemasters', 21377), ('de2420l', 21378), ('crc', 21379), ('webcamera', 21380), ('pitching', 21381), ('deuce', 21382), ('unpainted', 21383), ('redbox', 21384), ('streamed', 21385), ('5450dn', 21386), ('aret', 21387), ('poise', 21388), ('gbps', 21389), ('40l2200u', 21390), ('meditation', 21391), ('mulberries', 21392), ('iran', 21393), ('6x16', 21394), ('wav', 21395), ('muscat', 21396), ('brushpoint', 21397), ('sheaf', 21398), ('32lx8hx7w', 21399), ('vice', 21400), ('x40', 21401), ('ida', 21402), ('cayenne', 21403), ('wife', 21404), ('bombardier', 21405), ('deeper', 21406), ('polypro', 21407), ('nixtamalized', 21408), ('rat', 21409), ('rbc4', 21410), ('seriel', 21411), ('bv', 21412), ('beefer', 21413), ('2400mhz', 21414), ('crackling', 21415), ('expresss', 21416), ('unmounted', 21417), ('18x11', 21418), ('5x1', 21419), ('j4610dw', 21420), ('tippet', 21421), ('backllight', 21422), ('dones', 21423), ('intuos5', 21424), ('x3430', 21425), ('cuebase', 21426), ('5door', 21427), ('cnc', 21428), ('hx5641', 21429), ('kaos', 21430), ('lss', 21431), ('2hd', 21432), ('4ss', 21433), ('khs', 21434), ('sb2', 21435), ('1137la', 21436), ('sg1062', 21437), ('m365', 21438), ('5sv', 21439), ('v14', 21440), ('e5', 21441), ('59qa', 21442), ('alchol', 21443), ('printrrs', 21444), ('productivity', 21445), ('sb800', 21446), ('osram', 21447), ('236c', 21448), ('nesral', 21449), ('dustproof', 21450), ('cleanser', 21451), ('rabbitry', 21452), ('rozinsanitary', 21453), ('iraq', 21454), ('9l', 21455), ('e175', 21456), ('3590', 21457), ('14r', 21458), ('oppobdp', 21459), ('goood', 21460), ('sawstop', 21461), ('zx400', 21462), ('x54', 21463), ('jlw7', 21464), ('halos', 21465), ('bothersome', 21466), ('pastry', 21467), ('dublin', 21468), ('emience', 21469), ('timber', 21470), ('thak', 21471), ('sustainable', 21472), ('walmarts', 21473), ('msword', 21474), ('excell', 21475), ('avoid', 21476), ('s6200', 21477), ('innoculated', 21478), ('qc2', 21479), ('2708', 21480), ('footrests', 21481), ('temperpedic', 21482), ('manhattan', 21483), ('s990', 21484), ('w850b', 21485), ('balancing', 21486), ('ibs', 21487), ('apromx', 21488), ('jiggers', 21489), ('fractioned', 21490), ('lerado', 21491), ('pourers', 21492), ('exacto', 21493), ('lowepro', 21494), ('enameled', 21495), ('rustic', 21496), ('engravings', 21497), ('keeper', 21498), ('faith', 21499), ('diopter', 21500), ('othger', 21501), ('p7', 21502), ('cockroaches', 21503), ('skis', 21504), ('a1185', 21505), ('pozidriv', 21506), ('specialized', 21507), ('separable', 21508), ('37mm', 21509), ('hrr2169vka', 21510), ('thisrs8', 21511), ('protractor', 21512), ('dedicatied', 21513), ('androit', 21514), ('e438f', 21515), ('montly', 21516), ('monogram', 21517), ('dxh', 21518), ('irobot', 21519), ('790', 21520), ('itdoes', 21521), ('itch', 21522), ('bubba', 21523), ('lily', 21524), ('5mp', 21525), ('70v', 21526), ('riviera', 21527), ('bail', 21528), ('reattached', 21529), ('sqwincher', 21530), ('hoodlifts', 21531), ('arrowroot', 21532), ('feeling', 21533), ('buivk', 21534), ('avenue', 21535), ('d9001', 21536), ('appearance', 21537), ('quito', 21538), ('vorizon', 21539), ('nspire', 21540), ('blended', 21541), ('architecture', 21542), ('earset', 21543), ('xml', 21544), ('currencies', 21545), ('ps180', 21546), ('dan', 21547), ('nvidea', 21548), ('gt745m', 21549), ('bb1100', 21550), ('uncented', 21551), ('multicode', 21552), ('308911', 21553), ('possibility', 21554), ('chrme', 21555), ('mcmaster', 21556), ('carr', 21557), ('sb39001', 21558), ('sb39400', 21559), ('caffeinated', 21560), ('tac', 21561), ('spped', 21562), ('unrespomnsive', 21563), ('817664', 21564), ('maufactured', 21565), ('luger', 21566), ('boyyom', 21567), ('46mm', 21568), ('4636', 21569), ('fitt', 21570), ('behide', 21571), ('zephiran', 21572), ('md530ll', 21573), ('gtx780ti', 21574), ('xe500c12', 21575), ('iuse', 21576), ('asm1051', 21577), ('41x41x50', 21578), ('helicoils', 21579), ('75024', 21580), ('aim', 21581), ('cp4005dn', 21582), ('stableizers', 21583), ('pinless', 21584), ('e4asy', 21585), ('flexbale', 21586), ('suitabla', 21587), ('lavatories', 21588), ('waveform', 21589), ('singnal', 21590), ('receiption', 21591), ('empiselect', 21592), ('wp450', 21593), ('doas', 21594), ('multiquick', 21595), ('flips', 21596), ('dusting', 21597), ('ketones', 21598), ('16foot', 21599), ('matresse', 21600), ('cottncay', 21601), ('10cm', 21602), ('2165', 21603), ('transceiver', 21604), ('cr6001a', 21605), ('venezuelans', 21606), ('polishes', 21607), ('05jan2016', 21608), ('jumper', 21609), ('nooe', 21610), ('8955a', 21611), ('mater', 21612), ('macine', 21613), ('convertion', 21614), ('conductivity', 21615), ('wiffle', 21616), ('tagliatelle', 21617), ('r390', 21618), ('mw8121sl', 21619), ('kershaw', 21620), ('survey', 21621), ('maana', 21622), ('1962', 21623), ('641', 21624), ('battieries', 21625), ('unarmed', 21626), ('am2', 21627), ('mt1', 21628), ('flosses', 21629), ('warenty', 21630), ('gazing', 21631), ('44x18x2', 21632), ('matts', 21633), ('c250', 21634), ('sgh1497', 21635), ('tm3010cx1', 21636), ('fight', 21637), ('pumples', 21638), ('scissor', 21639), ('nicker', 21640), ('embroided', 21641), ('thet', 21642), ('ztrac', 21643), ('m653', 21644), ('touchscreem', 21645), ('psre343', 21646), ('carat', 21647), ('ps120', 21648), ('ranch', 21649), ('orangy', 21650), ('cooket', 21651), ('ww', 21652), ('originating', 21653), ('824', 21654), ('vstar', 21655), ('traitor', 21656), ('filament', 21657), ('aprilaire', 21658), ('58034', 21659), ('windos', 21660), ('harrison', 21661), ('5x15', 21662), ('blendmount', 21663), ('bp762', 21664), ('pleasant', 21665), ('compartibility', 21666), ('lits', 21667), ('3120', 21668), ('spear', 21669), ('whitewall', 21670), ('greek', 21671), ('jiayu', 21672), ('filiming', 21673), ('statistics', 21674), ('sifters', 21675), ('chlorinator', 21676), ('reder', 21677), ('1407', 21678), ('eldebrock', 21679), ('paperwork', 21680), ('toners', 21681), ('16x9', 21682), ('ms290', 21683), ('keybord', 21684), ('dnp916', 21685), ('450pk', 21686), ('insinkerator', 21687), ('disposals', 21688), ('potent', 21689), ('jukebox', 21690), ('videoing', 21691), ('984', 21692), ('nasc', 21693), ('p6200', 21694), ('41730', 21695), ('emissions', 21696), ('featherlight', 21697), ('exii', 21698), ('cinavia', 21699), ('cdxgt575up', 21700), ('rmx211', 21701), ('rebuildable', 21702), ('fg00501', 21703), ('unfolds', 21704), ('harsher', 21705), ('coir', 21706), ('nosel', 21707), ('pinwheels', 21708), ('session', 21709), ('fractions', 21710), ('restart', 21711), ('greatest', 21712), ('hits', 21713), ('20x21x2', 21714), ('antec', 21715), ('isk600', 21716), ('15165', 21717), ('glx', 21718), ('walkway', 21719), ('7wattbu', 21720), ('waxed', 21721), ('lx83', 21722), ('detaches', 21723), ('tw', 21724), ('ui', 21725), ('8cr14mov', 21726), ('residental', 21727), ('5430', 21728), ('gnats', 21729), ('commode', 21730), ('arbour', 21731), ('likey', 21732), ('dota2', 21733), ('brotherhood', 21734), ('strive', 21735), ('saucer', 21736), ('fme', 21737), ('14q', 21738), ('earpads', 21739), ('incrediable', 21740), ('cp185', 21741), ('avh270bt', 21742), ('viet', 21743), ('nam', 21744), ('divicecompatible', 21745), ('3011', 21746), ('decibel', 21747), ('31db', 21748), ('nx700qc16g', 21749), ('spx2710z1m', 21750), ('5d3', 21751), ('swivile', 21752), ('activiated', 21753), ('grg120bdx', 21754), ('hemlock', 21755), ('traced', 21756), ('wherewas', 21757), ('lake', 21758), ('kcm534er', 21759), ('650mc', 21760), ('shuffler', 21761), ('continious', 21762), ('riffle', 21763), ('kestrel', 21764), ('vr6', 21765), ('mode1', 21766), ('mode2', 21767), ('a1349', 21768), ('shuffling', 21769), ('scabert', 21770), ('i9040e', 21771), ('smoorh', 21772), ('purina', 21773), ('fullfillment', 21774), ('origianl', 21775), ('myharly', 21776), ('sporster', 21777), ('9515', 21778), ('doesint', 21779), ('5x15x15', 21780), ('sku', 21781), ('2252300', 21782), ('dishwash', 21783), ('dc9091', 21784), ('dw9091', 21785), ('toggled', 21786), ('controllable', 21787), ('17watts', 21788), ('blc12', 21789), ('ecoboost', 21790), ('funnels', 21791), ('md314xx', 21792), ('0616', 21793), ('stampped', 21794), ('nhb', 21795), ('fungus', 21796), ('goop', 21797), ('eb', 21798), ('lack', 21799), ('flavorwave', 21800), ('abox', 21801), ('613149', 21802), ('tactial', 21803), ('reviewed', 21804), ('8240xl', 21805), ('rhythm', 21806), ('exists', 21807), ('mx890', 21808), ('konichiwa', 21809), ('arigato', 21810), ('svideo', 21811), ('un40fh6030fxza', 21812), ('tonearm', 21813), ('lenova', 21814), ('noticeably', 21815), ('capeability', 21816), ('manulaly', 21817), ('oralso', 21818), ('healing', 21819), ('targets', 21820), ('gravelt', 21821), ('johns', 21822), ('wart', 21823), ('striiv', 21824), ('6x6x4', 21825), ('altered', 21826), ('x24', 21827), ('mazdaspeed3', 21828), ('heleum', 21829), ('behold', 21830), ('agw', 21831), ('curtian', 21832), ('pannel', 21833), ('garand', 21834), ('moter', 21835), ('108watts', 21836), ('momentary', 21837), ('transporte', 21838), ('essick', 21839), ('1040', 21840), ('46720', 21841), ('slee', 21842), ('ping', 21843), ('microfibre', 21844), ('a75ma', 21845), ('6c23cl', 21846), ('loco', 21847), ('160317', 21848), ('235ab', 21849), ('upscaling', 21850), ('v675', 21851), ('reclaimed', 21852), ('spf12', 21853), ('simm', 21854), ('2inchs', 21855), ('axal', 21856), ('180mm', 21857), ('dripping', 21858), ('travellers', 21859), ('dgb', 21860), ('preheated', 21861), ('feit', 21862), ('corridos', 21863), ('genre', 21864), ('ghs', 21865), ('oarlocks', 21866), ('resperation', 21867), ('perculator', 21868), ('discretely', 21869), ('camp', 21870), ('efficiently', 21871), ('jobmax', 21872), ('5500k', 21873), ('cantonese', 21874), ('medals', 21875), ('gemany', 21876), ('f039wm', 21877), ('trs21', 21878), ('speker', 21879), ('incomingcall', 21880), ('anounce', 21881), ('deatchible', 21882), ('wm2487hwm', 21883), ('johnny', 21884), ('fury', 21885), ('6x14x3', 21886), ('lifeline', 21887), ('00801', 21888), ('0712', 21889), ('7x64', 21890), ('rbr5', 21891), ('relays', 21892), ('shunt', 21893), ('greenpans', 21894), ('55m', 21895), ('correll', 21896), ('erection', 21897), ('to11', 21898), ('halfway', 21899), ('diagonal', 21900), ('dragonball', 21901), ('vfhpodv5co41018620', 21902), ('mbb518', 21903), ('wpb05', 21904), ('12lb', 21905), ('syrah', 21906), ('velleman', 21907), ('vtss5', 21908), ('645', 21909), ('str', 21910), ('dg810', 21911), ('247', 21912), ('288852', 21913), ('classify', 21914), ('orville', 21915), ('redenbacker', 21916), ('d28', 21917), ('dang', 21918), ('emaxx', 21919), ('heaphones', 21920), ('d14', 21921), ('wdbzfp0010btt', 21922), ('850mhz', 21923), ('3912', 21924), ('ahead', 21925), ('dx800a', 21926), ('1720', 21927), ('motherbpad', 21928), ('h105', 21929), ('20kn0a', 21930), ('solitare', 21931), ('w1080st', 21932), ('compressore', 21933), ('devilbiss', 21934), ('pafb', 21935), ('5025', 21936), ('31lx15wx16h', 21937), ('x43e', 21938), ('a230', 21939), ('losi', 21940), ('baja', 21941), ('aceptable', 21942), ('suficiente', 21943), ('cz83', 21944), ('119636c', 21945), ('1300mah', 21946), ('25ft', 21947), ('07f150', 21948), ('rares', 21949), ('electroliminescent', 21950), ('22nf', 21951), ('axel', 21952), ('inclue', 21953), ('x17', 21954), ('l745', 21955), ('divices', 21956), ('125mg', 21957), ('glucosamine100mg', 21958), ('chondroitin', 21959), ('ls6425', 21960), ('12gageto', 21961), ('16gage', 21962), ('battry', 21963), ('yesh', 21964), ('bb9930', 21965), ('251dw', 21966), ('sweetwise', 21967), ('paceman', 21968), ('notches', 21969), ('pressurecooker', 21970), ('lc9', 21971), ('jabra', 21972), ('easygo', 21973), ('dishwater', 21974), ('247881721', 21975), ('snowthrower', 21976), ('zx4', 21977), ('flyes', 21978), ('incesh', 21979), ('costly', 21980), ('optouma', 21981), ('h180x', 21982), ('yeeeesh', 21983), ('egss', 21984), ('16x5', 21985), ('spins', 21986), ('2045dx', 21987), ('gen3', 21988), ('kraken', 21989), ('ar15s', 21990), ('8650g', 21991), ('6gd', 21992), ('menona', 21993), ('lunchbot', 21994), ('alc', 21995), ('sh133', 21996), ('helium', 21997), ('smw757', 21998), ('tred', 21999), ('disassembling', 22000), ('027', 22001), ('bustmaxx', 22002), ('butterball', 22003), ('exceed', 22004), ('bdu', 22005), ('caramelized', 22006), ('ast420x', 22007), ('laredo', 22008), ('x900mk', 22009), ('secam', 22010), ('431g', 22011), ('chinchilla', 22012), ('cauterizing', 22013), ('wounds', 22014), ('fi9821w', 22015), ('tc55w', 22016), ('cri82', 22017), ('g10q', 22018), ('slamming', 22019), ('threshold', 22020), ('transforms', 22021), ('hills', 22022), ('mesaurement', 22023), ('1220', 22024), ('boxster', 22025), ('md246ll', 22026), ('m129h', 22027), ('calma', 22028), ('50watt', 22029), ('12avd39q701', 22030), ('kwik', 22031), ('1029', 22032), ('dbs6000hd', 22033), ('bb9860', 22034), ('vantagge', 22035), ('iseries', 22036), ('applause', 22037), ('vantage', 22038), ('crimping', 22039), ('waht', 22040), ('hz770', 22041), ('tmblie', 22042), ('fulfilled', 22043), ('inventory', 22044), ('draive', 22045), ('rac', 22046), ('racqwter', 22047), ('draiving', 22048), ('7100d', 22049), ('6mts', 22050), ('bigmac', 22051), ('f550', 22052), ('bitterant', 22053), ('2022', 22054), ('hd2500', 22055), ('dvx100', 22056), ('3ccd', 22057), ('picitiny', 22058), ('beems', 22059), ('portafilter', 22060), ('98g', 22061), ('pepsi', 22062), ('minions', 22063), ('navigating', 22064), ('tns', 22065), ('array', 22066), ('90p0100', 22067), ('seatbelts', 22068), ('essiac', 22069), ('vulgares', 22070), ('compaatable', 22071), ('lw2000', 22072), ('relieve', 22073), ('ramen', 22074), ('vanquishing', 22075), ('enemies', 22076), ('mz604', 22077), ('wuth', 22078), ('fingernails', 22079), ('wasr', 22080), ('n5010', 22081), ('germay', 22082), ('hoodman', 22083), ('dioptric', 22084), ('38x24x14', 22085), ('ag5', 22086), ('cr1632', 22087), ('g15', 22088), ('holidays', 22089), ('smog', 22090), ('cysteine', 22091), ('a867', 22092), ('30a31', 22093), ('deviled', 22094), ('540lbs', 22095), ('65psi', 22096), ('ranura', 22097), ('knocks', 22098), ('depleted', 22099), ('inser', 22100), ('4325', 22101), ('spoiler', 22102), ('f3bkx', 22103), ('6212', 22104), ('bedsak', 22105), ('alen', 22106), ('ingenico', 22107), ('a206', 22108), ('lanamati', 22109), ('hooking', 22110), ('hktv', 22111), ('drama', 22112), ('philco', 22113), ('reef', 22114), ('assumption', 22115), ('hc5342', 22116), ('truth', 22117), ('cruisers', 22118), ('pitsburg', 22119), ('uganda', 22120), ('r1c1', 22121), ('flas', 22122), ('hyandai', 22123), ('ts6', 22124), ('triband', 22125), ('ballons', 22126), ('550ex', 22127), ('j172np', 22128), ('sch1545', 22129), ('buen', 22130), ('ix6820', 22131), ('20in', 22132), ('turkish', 22133), ('inlets', 22134), ('welcome', 22135), ('2270', 22136), ('trhis', 22137), ('containcaffein', 22138), ('handrail', 22139), ('a1181', 22140), ('tradition', 22141), ('pulleys', 22142), ('coaxl', 22143), ('bravura', 22144), ('gunmetal', 22145), ('hrt216tda', 22146), ('pregnant', 22147), ('axn500', 22148), ('unloading', 22149), ('students', 22150), ('duplo', 22151), ('cicada', 22152), ('ellwangen', 22153), ('witht', 22154), ('adidas', 22155), ('demintions', 22156), ('m59', 22157), ('adizero', 22158), ('cantrall', 22159), ('currents', 22160), ('oceans', 22161), ('s6000', 22162), ('hazmat', 22163), ('alumanum', 22164), ('radiators', 22165), ('surfaced', 22166), ('nitride', 22167), ('30inches', 22168), ('kicklite', 22169), ('nex5t', 22170), ('amorphous', 22171), ('c55d', 22172), ('a5201', 22173), ('ja', 22174), ('cmm1000', 22175), ('xpro', 22176), ('yesb', 22177), ('oops', 22178), ('miracle', 22179), ('thaw', 22180), ('fusefire', 22181), ('34x8', 22182), ('vcs4007p', 22183), ('milliwatts', 22184), ('5mw', 22185), ('sewer', 22186), ('glenfield', 22187), ('37x24', 22188), ('cc1600', 22189), ('mpd', 22190), ('f23a1', 22191), ('yomvi', 22192), ('canal', 22193), ('2014s', 22194), ('2015s', 22195), ('tab10', 22196), ('canik', 22197), ('tristar', 22198), ('t120', 22199), ('4300', 22200), ('abilities', 22201), ('50pn6500', 22202), ('rg6', 22203), ('coxiail', 22204), ('chicory', 22205), ('77ounces', 22206), ('tsuba', 22207), ('kennesaw', 22208), ('tyres', 22209), ('x240', 22210), ('doo', 22211), ('liberia', 22212), ('xbt1106', 22213), ('sv1106', 22214), ('xbt1106n', 22215), ('speedloader', 22216), ('c240', 22217), ('noteeth', 22218), ('23in', 22219), ('mixdeck', 22220), ('60c6400u', 22221), ('451', 22222), ('cupboard', 22223), ('annoying', 22224), ('broadway', 22225), ('bhl', 22226), ('22x20', 22227), ('investment', 22228), ('selenium', 22229), ('ksm8990', 22230), ('l830', 22231), ('regulate', 22232), ('antacids', 22233), ('camelbak', 22234), ('ampkit', 22235), ('decription', 22236), ('court', 22237), ('tach', 22238), ('sunprofz88r', 22239), ('blueflame', 22240), ('arca', 22241), ('877768k01', 22242), ('700x23mm', 22243), ('plantation', 22244), ('thinners', 22245), ('srd0sd0', 22246), ('magnegtic', 22247), ('upcoming', 22248), ('storms', 22249), ('whitfield', 22250), ('150mg', 22251), ('awrcc2', 22252), ('sector', 22253), ('gs08', 22254), ('discovered', 22255), ('replicable', 22256), ('rmx60m', 22257), ('depend', 22258), ('30x17', 22259), ('excellant', 22260), ('solts', 22261), ('steaming', 22262), ('pac', 22263), ('scf314', 22264), ('ctk', 22265), ('sustaining', 22266), ('petal', 22267), ('pn2e', 22268), ('ably', 22269), ('rhe', 22270), ('48wh', 22271), ('49wh', 22272), ('disposer', 22273), ('renewed', 22274), ('ogilvie', 22275), ('kg25hox', 22276), ('kma', 22277), ('buttered', 22278), ('9099kc', 22279), ('featherweight', 22280), ('73808', 22281), ('msd', 22282), ('128i', 22283), ('spellcheck', 22284), ('bdp2100', 22285), ('ac90', 22286), ('false', 22287), ('haul', 22288), ('tubele', 22289), ('wafers', 22290), ('20110612', 22291), ('starters', 22292), ('farme', 22293), ('gunnar', 22294), ('intercept', 22295), ('gen2', 22296), ('denominations', 22297), ('tries', 22298), ('takeoff', 22299), ('i4', 22300), ('machinery', 22301), ('lozenge', 22302), ('attatch', 22303), ('bumbo', 22304), ('rasp', 22305), ('sx40hs', 22306), ('csx', 22307), ('154', 22308), ('inbuilt', 22309), ('dw840', 22310), ('insterment', 22311), ('detailed', 22312), ('s8', 22313), ('separotor', 22314), ('75505n', 22315), ('632257', 22316), ('hummus', 22317), ('strides', 22318), ('reticles', 22319), ('lousy', 22320), ('nx130', 22321), ('interrogation', 22322), ('125gr', 22323), ('3032', 22324), ('wording', 22325), ('boodog', 22326), ('mchsi', 22327), ('savanna', 22328), ('55sl417u', 22329), ('garry', 22330), ('hikvision', 22331), ('2621xm', 22332), ('retevis', 22333), ('persil', 22334), ('linning', 22335), ('i9200', 22336), ('perspective', 22337), ('carboy', 22338), ('hd7570m', 22339), ('descript', 22340), ('eminate', 22341), ('fom', 22342), ('sr501', 22343), ('15x6', 22344), ('modded', 22345), ('be550g', 22346), ('anydata', 22347), ('adu', 22348), ('310c', 22349), ('rubs', 22350), ('detent', 22351), ('hog', 22352), ('ballist', 22353), ('unprotected', 22354), ('md200tpr', 22355), ('trrs', 22356), ('trs', 22357), ('spredder', 22358), ('toenails', 22359), ('1060', 22360), ('t879', 22361), ('faxing', 22362), ('excite', 22363), ('at300', 22364), ('tenners', 22365), ('wqtch', 22366), ('s37', 22367), ('ddx', 22368), ('771', 22369), ('autostop', 22370), ('775', 22371), ('ssf', 22372), ('warless', 22373), ('pile', 22374), ('8045f', 22375), ('storga', 22376), ('28787', 22377), ('21lb', 22378), ('finch', 22379), ('differential', 22380), ('h2', 22381), ('reflects', 22382), ('sptings', 22383), ('airpscst014782', 22384), ('33453', 22385), ('seatback', 22386), ('sonya390', 22387), ('lc9s', 22388), ('joules', 22389), ('45k', 22390), ('deductable', 22391), ('fd130', 22392), ('tastes', 22393), ('chocolat', 22394), ('einstein', 22395), ('640', 22396), ('buff', 22397), ('eyebrow', 22398), ('threading', 22399), ('un46b8500', 22400), ('keratinsystem', 22401), ('formaldehyd', 22402), ('nhs', 22403), ('isolation', 22404), ('919165130', 22405), ('workin', 22406), ('jugs', 22407), ('appreciate', 22408), ('replies', 22409), ('lfx25991st', 22410), ('sbx', 22411), ('wx75', 22412), ('vivint', 22413), ('chiclet', 22414), ('lubricated', 22415), ('serts', 22416), ('unions', 22417), ('warnenty', 22418), ('typad', 22419), ('assembed', 22420), ('250c', 22421), ('rha8n29', 22422), ('whispbars', 22423), ('hundai', 22424), ('acent', 22425), ('pc18blex', 22426), ('comptible', 22427), ('cbtl', 22428), ('teast', 22429), ('molecularly', 22430), ('hb1', 22431), ('bunks', 22432), ('broiling', 22433), ('661w', 22434), ('3106', 22435), ('ms3', 22436), ('dealtime', 22437), ('doubling', 22438), ('cashews', 22439), ('boundaries', 22440), ('550ma', 22441), ('xmr', 22442), ('22x7', 22443), ('rouge', 22444), ('modelrf310pxpn0', 22445), ('f44701577', 22446), ('cp760', 22447), ('400ho', 22448), ('i727r', 22449), ('ourselves', 22450), ('melitta', 22451), ('px333', 22452), ('nailing', 22453), ('597ci', 22454), ('tlr', 22455), ('picth', 22456), ('4x32', 22457), ('starte', 22458), ('gentle', 22459), ('rdquo', 22460), ('electrification', 22461), ('lt133', 22462), ('5x8x6', 22463), ('outliners', 22464), ('certifies', 22465), ('ccof', 22466), ('kaleidio', 22467), ('dimensional', 22468), ('r36', 22469), ('posh', 22470), ('hawai', 22471), ('motorcycles', 22472), ('gillete', 22473), ('85lbs', 22474), ('marshmellow', 22475), ('i9305', 22476), ('sifting', 22477), ('scene', 22478), ('arab', 22479), ('emarites', 22480), ('60r18', 22481), ('maga', 22482), ('acutally', 22483), ('tessenjutsu', 22484), ('crimestopper', 22485), ('rs7', 22486), ('crack', 22487), ('wondows', 22488), ('295gph', 22489), ('introduced', 22490), ('2pk', 22491), ('curry', 22492), ('3x7', 22493), ('freeagent', 22494), ('208', 22495), ('omaha', 22496), ('ne', 22497), ('68144', 22498), ('shatterblasr', 22499), ('hfsa', 22500), ('acai', 22501), ('220votage', 22502), ('sysyem', 22503), ('z357', 22504), ('ztorm', 22505), ('campi', 22506), ('pcm', 22507), ('1024x600', 22508), ('nepal', 22509), ('wher', 22510), ('herbalife', 22511), ('rpg', 22512), ('govt', 22513), ('vercion', 22514), ('2589', 22515), ('6625', 22516), ('jackson', 22517), ('adrian', 22518), ('papaya', 22519), ('pollen', 22520), ('flames', 22521), ('lengthwise', 22522), ('kgm', 22523), ('sachets', 22524), ('programed', 22525), ('computor', 22526), ('leans', 22527), ('tornado', 22528), ('locknut', 22529), ('dpad', 22530), ('ivybridge', 22531), ('government', 22532), ('phonw', 22533), ('hammocks', 22534), ('kcm222cso', 22535), ('lunchbox', 22536), ('mxl', 22537), ('kabuki', 22538), ('shute', 22539), ('1775w', 22540), ('spx930', 22541), ('raincoat', 22542), ('522c', 22543), ('selfies', 22544), ('mircosoft', 22545), ('mystery', 22546), ('starscream', 22547), ('chima', 22548), ('deliveries', 22549), ('mg6250', 22550), ('44ibs', 22551), ('5ms', 22552), ('f48p23a50', 22553), ('becomes', 22554), ('moded', 22555), ('gingerbread', 22556), ('timings', 22557), ('widest', 22558), ('notin', 22559), ('feef', 22560), ('approxiimately', 22561), ('42m', 22562), ('loudness', 22563), ('battat', 22564), ('ps429725', 22565), ('airplanes', 22566), ('facade', 22567), ('sus', 22568), ('understood', 22569), ('muffled', 22570), ('earpieces', 22571), ('nx1100', 22572), ('digittal', 22573), ('cinemate', 22574), ('breastflow', 22575), ('mpx', 22576), ('md540ll', 22577), ('obatin', 22578), ('27x10', 22579), ('colllar', 22580), ('xl7', 22581), ('451dw', 22582), ('champions', 22583), ('easton', 22584), ('gamegetter', 22585), ('gl1500', 22586), ('elses', 22587), ('messed', 22588), ('route', 22589), ('seonal', 22590), ('zylitol', 22591), ('eyeliner', 22592), ('kathy', 22593), ('calculo', 22594), ('jennifer', 22595), ('flavin', 22596), ('stallone', 22597), ('polyeste', 22598), ('1129wm', 22599), ('24x15', 22600), ('sevens', 22601), ('mah8700aww', 22602), ('ser', 22603), ('10589078gj', 22604), ('venue8', 22605), ('anntenna', 22606), ('s3i900', 22607), ('stuffies', 22608), ('dimenson', 22609), ('applications', 22610), ('swaybar', 22611), ('arri', 22612), ('tiller', 22613), ('sculpey', 22614), ('h2j', 22615), ('2j9', 22616), ('5gpm', 22617), ('cq56', 22618), ('resolved', 22619), ('25000', 22620), ('reloding', 22621), ('frankincense', 22622), ('fabulous', 22623), ('erratic', 22624), ('r410a', 22625), ('lapel', 22626), ('dietary', 22627), ('146', 22628), ('miters', 22629), ('60fps', 22630), ('sr45', 22631), ('mash', 22632), ('potatos', 22633), ('restriction', 22634), ('gts', 22635), ('rabit', 22636), ('barbeque', 22637), ('propeled', 22638), ('rm', 22639), ('aau029', 22640), ('sorter', 22641), ('shor', 22642), ('sx150is', 22643), ('320gb', 22644), ('bruch', 22645), ('ballpoint', 22646), ('gt505', 22647), ('17ft', 22648), ('90hp', 22649), ('extracted', 22650), ('spuare', 22651), ('graph', 22652), ('heartbeats', 22653), ('percolate', 22654), ('trapped', 22655), ('fi9826p', 22656), ('fs92', 22657), ('sgp312', 22658), ('leggs', 22659), ('dissolver', 22660), ('ep6010', 22661), ('dsx', 22662), ('s210x', 22663), ('timecutter', 22664), ('z420', 22665), ('prodct', 22666), ('1x8gb', 22667), ('inscribed', 22668), ('healthy', 22669), ('fishy', 22670), ('aftertaste', 22671), ('grades', 22672), ('gelling', 22673), ('jewlery', 22674), ('2x10x9', 22675), ('retailer', 22676), ('sebulex', 22677), ('ranbaxy', 22678), ('audm', 22679), ('mps', 22680), ('ingrediances', 22681), ('gluide', 22682), ('tp500la', 22683), ('senco', 22684), ('mar', 22685), ('restored', 22686), ('reseller', 22687), ('vibrator', 22688), ('5x16x3', 22689), ('sarge', 22690), ('urs', 22691), ('hq', 22692), ('6695', 22693), ('afternon', 22694), ('storagebag', 22695), ('4200s', 22696), ('r14', 22697), ('hd141x', 22698), ('reverbs', 22699), ('daimond', 22700), ('48x18x10', 22701), ('12345', 22702), ('420ex', 22703), ('thefilm', 22704), ('1021', 22705), ('14hx20lx9w', 22706), ('nnt888s', 22707), ('12x13', 22708), ('skullcandy', 22709), ('hesh', 22710), ('9305', 22711), ('36aa', 22712), ('tuckable', 22713), ('170w', 22714), ('manualgx330singletraydvdrecorder', 22715), ('z4', 22716), ('watsapp', 22717), ('myl', 22718), ('aqueon', 22719), ('smartv', 22720), ('feminine', 22721), ('charing', 22722), ('edit', 22723), ('needing', 22724), ('sonya', 22725), ('4202', 22726), ('vlogging', 22727), ('u220b', 22728), ('3537', 22729), ('taht', 22730), ('sunguard', 22731), ('mccoy', 22732), ('48oz', 22733), ('throat', 22734), ('dwe7480', 22735), ('engrving', 22736), ('fractal', 22737), ('rinse', 22738), ('quinoa', 22739), ('zj', 22740), ('lvd', 22741), ('evx', 22742), ('headaches', 22743), ('690', 22744), ('dimissons', 22745), ('6x2', 22746), ('gutair', 22747), ('5inches', 22748), ('fiberfill', 22749), ('63oz', 22750), ('muchweigth', 22751), ('wrestlers', 22752), ('seorita', 22753), ('westcott', 22754), ('td5', 22755), ('torino', 22756), ('flapper', 22757), ('weith', 22758), ('weiss', 22759), ('apr', 22760), ('lasers', 22761), ('puck', 22762), ('aveo5', 22763), ('screwdrivers', 22764), ('ne56r31u', 22765), ('medjool', 22766), ('12x20', 22767), ('completly', 22768), ('completey', 22769), ('rcf', 22770), ('potlifter', 22771), ('hx50v', 22772), ('carbureted', 22773), ('ae92', 22774), ('withh', 22775), ('papyrus', 22776), ('nascar4', 22777), ('n7110', 22778), ('jxi', 22779), ('experiencing', 22780), ('hooves', 22781), ('membranes', 22782), ('kalashnikov', 22783), ('galavy', 22784), ('380520', 22785), ('moblie', 22786), ('flite', 22787), ('mcx2', 22788), ('flakes', 22789), ('ct312', 22790), ('850ma', 22791), ('c6833', 22792), ('c6602', 22793), ('thinness', 22794), ('sixteen', 22795), ('roses', 22796), ('greenbrier', 22797), ('smilax', 22798), ('kudzu', 22799), ('5120', 22800), ('dc9096', 22801), ('xrp', 22802), ('dw9096', 22803), ('comferter', 22804), ('snown', 22805), ('surrounding', 22806), ('bluettoth', 22807), ('wiiu', 22808), ('builder', 22809), ('roaming', 22810), ('duets', 22811), ('bergamot', 22812), ('speeker', 22813), ('1280x800', 22814), ('2800', 22815), ('250hours', 22816), ('gait', 22817), ('trailers', 22818), ('chagre', 22819), ('c920', 22820), ('n8', 22821), ('diameters', 22822), ('icemaker', 22823), ('frt18idrhwo', 22824), ('ttx', 22825), ('capacitors', 22826), ('36gg', 22827), ('offwhite', 22828), ('byob', 22829), ('slay', 22830), ('separaters', 22831), ('backplate', 22832), ('electrodes', 22833), ('cabs', 22834), ('recepticale', 22835), ('watermelon', 22836), ('reiko', 22837), ('d650i', 22838), ('philipines', 22839), ('441s', 22840), ('721', 22841), ('800397000', 22842), ('55a', 22843), ('teethers', 22844), ('lae', 22845), ('widleing', 22846), ('dc18rc', 22847), ('acuvibe', 22848), ('6002a', 22849), ('ew', 22850), ('dj10', 22851), ('irrigator', 22852), ('laramie', 22853), ('longhorn', 22854), ('ac19v19', 22855), ('stringed', 22856), ('035', 22857), ('filt', 22858), ('steros', 22859), ('245db', 22860), ('360s', 22861), ('fraps', 22862), ('300mg', 22863), ('boosters', 22864), ('muti', 22865), ('pennsylvaina', 22866), ('vhsc', 22867), ('at95e', 22868), ('9x12x2', 22869), ('pn', 22870), ('datasheets', 22871), ('transceivers', 22872), ('rectifier', 22873), ('bv9995b', 22874), ('peoblem', 22875), ('a32', 22876), ('a52', 22877), ('17541', 22878), ('cheaply', 22879), ('fastpitch', 22880), ('revell', 22881), ('sw12de', 22882), ('solidex', 22883), ('v90', 22884), ('7060', 22885), ('q100', 22886), ('mikroc', 22887), ('pic16f887x', 22888), ('unknowen', 22889), ('pendants', 22890), ('metering', 22891), ('couboy', 22892), ('93r17', 22893), ('1617evspk', 22894), ('2544', 22895), ('glassy', 22896), ('l34c', 22897), ('swift', 22898), ('airlpane', 22899), ('raf', 22900), ('tucoma', 22901), ('wardrobe', 22902), ('boba', 22903), ('bagged', 22904), ('pmag', 22905), ('finial', 22906), ('im200', 22907), ('s16', 22908), ('x66', 22909), ('backbeat', 22910), ('flexor', 22911), ('tendinitis', 22912), ('verizion', 22913), ('100mb', 22914), ('10month', 22915), ('powermax', 22916), ('pthlalate', 22917), ('matting', 22918), ('s323i', 22919), ('e200bu', 22920), ('a6002', 22921), ('unidad', 22922), ('optica', 22923), ('incorporada', 22924), ('ukuleles', 22925), ('oudoor', 22926), ('tritton', 22927), ('kuni', 22928), ('concentrated', 22929), ('sx500is', 22930), ('rockstar', 22931), ('fx7', 22932), ('matrial', 22933), ('impurities', 22934), ('pandara', 22935), ('nuketown', 22936), ('18665331184', 22937), ('19732875164', 22938), ('ebulb', 22939), ('swimimg', 22940), ('snorkeling', 22941), ('pesa', 22942), ('exactamente', 22943), ('eaten', 22944), ('143lbs', 22945), ('induce', 22946), ('lactation', 22947), ('calibre', 22948), ('volumizing', 22949), ('tihis', 22950), ('hone', 22951), ('yerp', 22952), ('asingle', 22953), ('10x12', 22954), ('l4', 22955), ('iphone4s', 22956), ('3and4', 22957), ('doble', 22958), ('gs5', 22959), ('90x90', 22960), ('accomdate', 22961), ('ra2', 22962), ('stockholm', 22963), ('2bs', 22964), ('rem', 22965), ('270win', 22966), ('60r', 22967), ('epub', 22968), ('pyrithione', 22969), ('melted', 22970), ('rum', 22971), ('30x48', 22972), ('s4200', 22973), ('s4250', 22974), ('l500', 22975), ('1wm', 22976), ('lghtscribe', 22977), ('omc', 22978), ('outdrive', 22979), ('impregnated', 22980), ('trx450er', 22981), ('ccr2', 22982), ('phonak', 22983), ('352lbs', 22984), ('30x30x21', 22985), ('sturdyy', 22986), ('coversion', 22987), ('stages', 22988), ('waterchef', 22989), ('5180ip', 22990), ('270ex', 22991), ('r6300', 22992), ('43rd', 22993), ('dots', 22994), ('pickleballs', 22995), ('babseballs', 22996), ('detacheable', 22997), ('yaktrax', 22998), ('datasheet', 22999), ('wavy', 23000), ('electronically', 23001), ('glucerna', 23002), ('18k', 23003), ('citiq', 23004), ('12wx', 23005), ('14x', 23006), ('bootlegs', 23007), ('53x29x7', 23008), ('balsa', 23009), ('fbcx', 23010), ('passthough', 23011), ('marathon', 23012), ('korian', 23013), ('koreian', 23014), ('88909', 23015), ('username', 23016), ('admin', 23017), ('mkx', 23018), ('windowa8', 23019), ('7500mah', 23020), ('clicked', 23021), ('backboard', 23022), ('23x16', 23023), ('stk1160', 23024), ('boar', 23025), ('forming', 23026), ('blossom', 23027), ('t440p', 23028), ('p9c', 23029), ('100kg', 23030), ('absoluty', 23031), ('725r', 23032), ('31cc', 23033), ('mocrosoft', 23034), ('balast', 23035), ('1301', 23036), ('mha', 23037), ('jiggawats', 23038), ('pops', 23039), ('350f', 23040), ('prolific', 23041), ('merchandise', 23042), ('sp1580x15fp', 23043), ('015', 23044), ('genisis', 23045), ('keyboraded', 23046), ('113', 23047), ('27521', 23048), ('bulbsi', 23049), ('dsxh43ga1ww', 23050), ('shaves', 23051), ('hatachi', 23052), ('ultravision', 23053), ('carbarundum', 23054), ('antimicrobial', 23055), ('lf1', 23056), ('bellied', 23057), ('woodpeckers', 23058), ('suet', 23059), ('gt245', 23060), ('a1328', 23061), ('cp4', 23062), ('cp1', 23063), ('323i', 23064), ('qwert', 23065), ('uc', 23066), ('willys', 23067), ('lo5', 23068), ('violet', 23069), ('kefir', 23070), ('720kb', 23071), ('hardward', 23072), ('bentley', 23073), ('chasis', 23074), ('12kg', 23075), ('632', 23076), ('lumins', 23077), ('6097b002', 23078), ('wolframalpha', 23079), ('4x4x9', 23080), ('stryker', 23081), ('hp56', 23082), ('hp57', 23083), ('db25', 23084), ('cubase', 23085), ('qd6531z', 23086), ('afx', 23087), ('csc2232nt', 23088), ('wallpapered', 23089), ('bacteroides', 23090), ('fragilis', 23091), ('electricyt', 23092), ('5x3', 23093), ('l300', 23094), ('22l', 23095), ('butter14', 23096), ('cyberlink', 23097), ('hidef', 23098), ('fore', 23099), ('b00h5iedqw', 23100), ('ddr3l', 23101), ('inhalants', 23102), ('nxt2', 23103), ('producing', 23104), ('ctr', 23105), ('x67c', 23106), ('t5400', 23107), ('dented', 23108), ('malen', 23109), ('firewood', 23110), ('92a1', 23111), ('slicksteel', 23112), ('shielding', 23113), ('25nj', 23114), ('shallow', 23115), ('sega', 23116), ('flexio', 23117), ('sussex', 23118), ('hsf', 23119), ('thse', 23120), ('bic', 23121), ('gitr', 23122), ('gcv', 23123), ('sdhd', 23124), ('cutscenes', 23125), ('amateur', 23126), ('amateurs', 23127), ('275w', 23128), ('d1708', 23129), ('bk9', 23130), ('airpot', 23131), ('birding', 23132), ('doyou', 23133), ('tacky', 23134), ('seprate', 23135), ('6606', 23136), ('pt1911', 23137), ('girrrrrrl', 23138), ('4x8', 23139), ('angolan', 23140), ('dv9500', 23141), ('1096', 23142), ('155mm', 23143), ('ferm', 23144), ('2130', 23145), ('reconstituted', 23146), ('buttermilk', 23147), ('mf3010', 23148), ('swissmar', 23149), ('powerblocks', 23150), ('sr9c', 23151), ('bc4', 23152), ('aws', 23153), ('renote', 23154), ('turnsignals', 23155), ('pxw', 23156), ('x70', 23157), ('thge', 23158), ('aphids', 23159), ('goergia', 23160), ('18inchx13inchx1inch', 23161), ('2cables', 23162), ('scfm', 23163), ('40psi', 23164), ('alcokol', 23165), ('castnet', 23166), ('gaucho', 23167), ('dsixl', 23168), ('firestones', 23169), ('mearsure', 23170), ('comemail', 23171), ('stogdill', 23172), ('cog', 23173), ('optronics', 23174), ('a089sw01', 23175), ('scratchy', 23176), ('adjutable', 23177), ('174', 23178), ('ballhead', 23179), ('induro', 23180), ('at214', 23181), ('8m', 23182), ('pietra', 23183), ('serta', 23184), ('15a', 23185), ('cucina', 23186), ('turnoff', 23187), ('f6023', 23188), ('anymore', 23189), ('ina', 23190), ('128529', 23191), ('s9200', 23192), ('slopes', 23193), ('safari', 23194), ('teacup', 23195), ('yorkies', 23196), ('n140bge', 23197), ('l42', 23198), ('farmvlle', 23199), ('400ex', 23200), ('lavazza', 23201), ('ep850', 23202), ('decantars', 23203), ('4820k', 23204), ('everage', 23205), ('g560', 23206), ('demonstated', 23207), ('h0w', 23208), ('arsenal', 23209), ('kingtuk', 23210), ('avic', 23211), ('8000nex', 23212), ('2340', 23213), ('vard', 23214), ('1fz', 23215), ('bottel', 23216), ('unstretched', 23217), ('ajeep', 23218), ('zr2', 23219), ('bolster', 23220), ('922', 23221), ('c751', 23222), ('c771', 23223), ('10dayds', 23224), ('brolier', 23225), ('reticulated', 23226), ('p7700', 23227), ('ipv6', 23228), ('10x5x13', 23229), ('nt7100', 23230), ('gf6', 23231), ('meassuring', 23232), ('un60f7100', 23233), ('cr250r', 23234), ('analgesic', 23235), ('81lm', 23236), ('23a', 23237), ('firehawk', 23238), ('w5', 23239), ('ellipses', 23240), ('wirh', 23241), ('windtunnel', 23242), ('u5432', 23243), ('14519', 23244), ('145lbs', 23245), ('loopos', 23246), ('proportions', 23247), ('mg3222', 23248), ('scotland', 23249), ('wales', 23250), ('hale', 23251), ('legged', 23252), ('riger', 23253), ('ole', 23254), ('didq', 23255), ('molasses', 23256), ('mc4', 23257), ('aint', 23258), ('powde', 23259), ('2010nr', 23260), ('decimel', 23261), ('bwaahahaha', 23262), ('decaffinated', 23263), ('surveyor', 23264), ('depending', 23265), ('unhook', 23266), ('brassy', 23267), ('chw', 23268), ('51592', 23269), ('ingredientes', 23270), ('lancing', 23271), ('porcelian', 23272), ('rearview', 23273), ('moni', 23274), ('25ma', 23275), ('12x12x18', 23276), ('brrak', 23277), ('wwan', 23278), ('1in', 23279), ('262', 23280), ('amope', 23281), ('stratus7', 23282), ('celullar', 23283), ('snes', 23284), ('borosillicate', 23285), ('rs220', 23286), ('recceiver', 23287), ('exhilarate', 23288), ('nematodes', 23289), ('heterophabditis', 23290), ('bacteriophora', 23291), ('carpocapsae', 23292), ('zxt', 23293), ('lb50', 23294), ('356', 23295), ('1968', 23296), ('11inch', 23297), ('9829', 23298), ('slates', 23299), ('dlc2009', 23300), ('chb', 23301), ('prep', 23302), ('workbowl', 23303), ('m82', 23304), ('scratching', 23305), ('503', 23306), ('flushmate', 23307), ('wrls', 23308), ('hawkins', 23309), ('anus', 23310), ('bn96', 23311), ('07075a', 23312), ('fs200', 23313), ('dac', 23314), ('interact', 23315), ('20051311', 23316), ('21x21x43', 23317), ('sagittarius', 23318), ('constellation', 23319), ('zmd', 23320), ('sbn8', 23321), ('accents', 23322), ('i30', 23323), ('abrasive', 23324), ('rise', 23325), ('41222', 23326), ('p768', 23327), ('ur', 23328), ('tihs', 23329), ('rq12', 23330), ('1060xcc', 23331), ('solarex', 23332), ('knices', 23333), ('s9500', 23334), ('bookworm', 23335), ('th15', 23336), ('daisies', 23337), ('mose', 23338), ('polyphony', 23339), ('aus8', 23340), ('11503', 23341), ('e320fi', 23342), ('d00806', 23343), ('gop', 23344), ('vbios', 23345), ('cellophane', 23346), ('lipos', 23347), ('200gb', 23348), ('inchrs', 23349), ('t42900', 23350), ('furman', 23351), ('e475', 23352), ('m3n78', 23353), ('vm', 23354), ('wego2', 23355), ('bilbo', 23356), ('baggins', 23357), ('frankinsence', 23358), ('auvio', 23359), ('1709795', 23360), ('5100ma', 23361), ('formular', 23362), ('velour', 23363), ('earpad', 23364), ('hush', 23365), ('dora', 23366), ('duy', 23367), ('blowers', 23368), ('ep', 23369), ('500rpm', 23370), ('flushing', 23371), ('comicon', 23372), ('jell', 23373), ('scrathing', 23374), ('95cm', 23375), ('ge60', 23376), ('2pc', 23377), ('apache', 23378), ('12x26', 23379), ('watches', 23380), ('lx100', 23381), ('flexi', 23382), ('crevice', 23383), ('capatible', 23384), ('dc65', 23385), ('prontotec', 23386), ('450g', 23387), ('rb450g', 23388), ('tvdvd', 23389), ('8yr', 23390), ('ntv300sl', 23391), ('baroque', 23392), ('fingering', 23393), ('stardard', 23394), ('500m', 23395), ('sheikhghazanfar46', 23396), ('ristretto', 23397), ('vx520', 23398), ('ladybird', 23399), ('juno', 23400), ('3qt', 23401), ('sentence', 23402), ('videochat', 23403), ('xit', 23404), ('s7270l', 23405), ('ft3000vce', 23406), ('60lb7100', 23407), ('coutry', 23408), ('l105', 23409), ('receipt', 23410), ('bunching', 23411), ('et', 23412), ('tw5200', 23413), ('fasteners', 23414), ('mattres', 23415), ('7027nr', 23416), ('sx44', 23417), ('d3098', 23418), ('stuffie', 23419), ('prancine', 23420), ('unicorn', 23421), ('dentist', 23422), ('07218', 23423), ('honca', 23424), ('lunmen', 23425), ('ansolutely', 23426), ('resoluation', 23427), ('48th', 23428), ('happens', 23429), ('ruins', 23430), ('suburan', 23431), ('t104p3', 23432), ('warcraft', 23433), ('pedistal', 23434), ('recloseable', 23435), ('eyewash', 23436), ('doi', 23437), ('dealar', 23438), ('conv8', 23439), ('a10804c', 23440), ('ussr', 23441), ('e3d420vx', 23442), ('46sb54u', 23443), ('viking', 23444), ('jawbon', 23445), ('frisby', 23446), ('b4000', 23447), ('scrapbooking', 23448), ('evernote', 23449), ('million', 23450), ('dymo', 23451), ('pneumatic', 23452), ('mpero', 23453), ('proprietary', 23454), ('over33lbs', 23455), ('6162', 23456), ('kekpads', 23457), ('13761', 23458), ('16ft', 23459), ('pollinated', 23460), ('pollenated', 23461), ('recyclable', 23462), ('stylish', 23463), ('r029wm', 23464), ('765', 23465), ('kalemat', 23466), ('adjusts', 23467), ('unger', 23468), ('fns', 23469), ('zddp', 23470), ('cx12', 23471), ('ahow', 23472), ('alldaymall', 23473), ('a88x', 23474), ('975', 23475), ('biovibe', 23476), ('49755', 23477), ('bescor', 23478), ('mp101', 23479), ('mrx35', 23480), ('eb504465la', 23481), ('wouldoorway', 23482), ('laps', 23483), ('absoluteky', 23484), ('regualator', 23485), ('s5150', 23486), ('sliders', 23487), ('negligable', 23488), ('6889', 23489), ('duoderm', 23490), ('ppc', 23491), ('toyoya', 23492), ('monocular', 23493), ('paso', 23494), ('wm1201', 23495), ('charget', 23496), ('pollock', 23497), ('490mm', 23498), ('1100cc', 23499), ('amplifiers', 23500), ('rubbed', 23501), ('buffed', 23502), ('fitter', 23503), ('un65h6400', 23504), ('stokke', 23505), ('xplory', 23506), ('aust', 23507), ('300ce', 23508), ('2volts', 23509), ('offgass', 23510), ('medallion', 23511), ('40cm', 23512), ('250e', 23513), ('renault', 23514), ('chemistry', 23515), ('backless', 23516), ('unite', 23517), ('84ec', 23518), ('m7x1', 23519), ('impotence', 23520), ('survalence', 23521), ('g450', 23522), ('antonia', 23523), ('hasbro', 23524), ('fm3', 23525), ('tornados', 23526), ('107', 23527), ('peva', 23528), ('polyvinyl', 23529), ('ca1240', 23530), ('wb350f', 23531), ('feline', 23532), ('308hw', 23533), ('bugout', 23534), ('longterm', 23535), ('surly', 23536), ('datong', 23537), ('compatbile', 23538), ('volkswagens', 23539), ('flippers', 23540), ('65x15cm', 23541), ('inusa', 23542), ('montha', 23543), ('upc', 23544), ('5029736035006', 23545), ('nva1b2000y', 23546), ('hoops', 23547), ('dx6', 23548), ('diamiter', 23549), ('dominos', 23550), ('blacklit', 23551), ('smudger', 23552), ('discharged', 23553), ('stun', 23554), ('kitchenadi', 23555), ('s850', 23556), ('powerline', 23557), ('953', 23558), ('lt30565r17', 23559), ('dick', 23560), ('cepek', 23561), ('l4082', 23562), ('loving', 23563), ('mansion', 23564), ('minded', 23565), ('lariet', 23566), ('supercrew', 23567), ('readyboost', 23568), ('schi435zkv', 23569), ('glaxay', 23570), ('s4mini', 23571), ('r2d2', 23572), ('slimming', 23573), ('ql', 23574), ('cracks', 23575), ('u5445', 23576), ('z5426', 23577), ('headsetcompatible', 23578), ('lgdlitecell', 23579), ('gd570', 23580), ('thinner', 23581), ('verizons', 23582), ('285a', 23583), ('hbc220', 23584), ('hbc100', 23585), ('16x24', 23586), ('814', 23587), ('mf4700', 23588), ('148', 23589), ('ist', 23590), ('200meters', 23591), ('wheelset', 23592), ('wolverine', 23593), ('giraffe', 23594), ('deorderant', 23595), ('burton', 23596), ('heckler', 23597), ('msit', 23598), ('brsuhed', 23599), ('told', 23600), ('looses', 23601), ('peddle', 23602), ('118db', 23603), ('placard', 23604), ('holler', 23605), ('dawnguard', 23606), ('dragonborn', 23607), ('ksm5psww', 23608), ('brien', 23609), ('foldeable', 23610), ('mmc', 23611), ('k5iis', 23612), ('b154761', 23613), ('richmond', 23614), ('i15', 23615), ('447', 23616), ('wk', 23617), ('6600', 23618), ('15114374', 23619), ('82129410926', 23620), ('doubting', 23621), ('pims', 23622), ('antminers', 23623), ('digitiser', 23624), ('nickled', 23625), ('shanty', 23626), ('alva', 23627), ('t5j041', 23628), ('thelid', 23629), ('grafted', 23630), ('sec', 23631), ('10fps', 23632), ('ae2w', 23633), ('yn560', 23634), ('quisera', 23635), ('mov', 23636), ('quicktime', 23637), ('w7', 23638), ('8hp', 23639), ('6gallon', 23640), ('scx3405', 23641), ('pittsburg', 23642), ('s5282', 23643), ('el4300', 23644), ('61054', 23645), ('synthetics', 23646), ('tissue', 23647), ('origanal', 23648), ('bettery', 23649), ('p6597c', 23650), ('3788', 23651), ('mexica', 23652), ('36x25x27', 23653), ('barstool', 23654), ('hyaundai', 23655), ('woof', 23656), ('vrod', 23657), ('harchback', 23658), ('kg1', 23659), ('thermaltake', 23660), ('teak', 23661), ('eide', 23662), ('rectractable', 23663), ('to3', 23664), ('cm4000s', 23665), ('52254', 23666), ('mz505', 23667), ('balun', 23668), ('glittery', 23669), ('iso7', 23670), ('fullbox', 23671), ('lima', 23672), ('inlclude', 23673), ('semiautomatic', 23674), ('d15', 23675), ('cleansers', 23676), ('skinntoo', 23677), ('13x9', 23678), ('110or', 23679), ('200v', 23680), ('m18', 23681), ('v377', 23682), ('hx6731', 23683), ('02charger', 23684), ('tommy', 23685), ('bahama', 23686), ('6360', 23687), ('sleeved', 23688), ('weslo', 23689), ('87030', 23690), ('224', 23691), ('72367', 23692), ('bugera', 23693), ('bc15', 23694), ('mamiya', 23695), ('rz', 23696), ('enjoyable', 23697), ('heeled', 23698), ('ferndale', 23699), ('bibimbap', 23700), ('ugg', 23701), ('v550', 23702), ('amva', 23703), ('touhch', 23704), ('americano', 23705), ('terrian', 23706), ('dwa130', 23707), ('horseflys', 23708), ('18ft', 23709), ('foyer', 23710), ('archgon', 23711), ('nmh', 23712), ('skylink', 23713), ('1027', 23714), ('contan', 23715), ('t2100', 23716), ('columba', 23717), ('gs350', 23718), ('cfi', 23719), ('nowhere', 23720), ('drawbacks', 23721), ('batteres', 23722), ('1d', 23723), ('peeling', 23724), ('rp0900', 23725), ('38x32', 23726), ('rhapsody', 23727), ('49dlls', 23728), ('micogram', 23729), ('popover', 23730), ('1411599578057', 23731), ('anotehr', 23732), ('anasdf', 23733), ('asd', 23734), ('chaires', 23735), ('nex3n', 23736), ('vr8200h1004', 23737), ('fd4100wmgusbx', 23738), ('deactivate', 23739), ('reverb', 23740), ('5miles', 23741), ('magical', 23742), ('varnish', 23743), ('measurment', 23744), ('37x17', 23745), ('tuscon', 23746), ('shaking', 23747), ('rq', 23748), ('magbolt', 23749), ('doddge', 23750), ('jato', 23751), ('0615', 23752), ('cinder', 23753), ('thewarrenty', 23754), ('buuble', 23755), ('mailers', 23756), ('multiplier', 23757), ('definitly', 23758), ('unstackable', 23759), ('palyede', 23760), ('sp8', 23761), ('uverse', 23762), ('detecto', 23763), ('chamber', 23764), ('sunshield', 23765), ('usmc', 23766), ('enema', 23767), ('kframe', 23768), ('619', 23769), ('v977', 23770), ('repaired', 23771), ('6hrs', 23772), ('stillthe', 23773), ('combanation', 23774), ('skiin', 23775), ('hibernation', 23776), ('9590', 23777), ('5349', 23778), ('2899', 23779), ('emitter', 23780), ('geocaching', 23781), ('tornando', 23782), ('codless', 23783), ('nec', 23784), ('upd720201', 23785), ('46970', 23786), ('deductible', 23787), ('nutramax', 23788), ('cosequin', 23789), ('m4a1', 23790), ('06t', 23791), ('s5710f', 23792), ('s5103', 23793), ('shippingcost', 23794), ('chromebook2', 23795), ('delievery', 23796), ('fastfire', 23797), ('matrix3', 23798), ('attatchment', 23799), ('menny', 23800), ('23amp', 23801), ('superbly', 23802), ('139lbs', 23803), ('s5000', 23804), ('hd7', 23805), ('endicia', 23806), ('hak448', 23807), ('gy20162', 23808), ('chute', 23809), ('694g', 23810), ('e8213', 23811), ('49ub8300', 23812), ('2k15', 23813), ('predominant', 23814), ('wep460', 23815), ('palmer', 23816), ('distressed', 23817), ('tp305', 23818), ('28x8x8', 23819), ('carbamide', 23820), ('basement', 23821), ('instance', 23822), ('wfi', 23823), ('microhdmi', 23824), ('vette', 23825), ('fulie', 23826), ('s05', 23827), ('stadard', 23828), ('cabble', 23829), ('ambidextrous', 23830), ('weighting', 23831), ('250ibs', 23832), ('c1', 23833), ('homestead', 23834), ('20lx10wx12h', 23835), ('prenatal', 23836), ('92s', 23837), ('drumax', 23838), ('i9100g', 23839), ('jail', 23840), ('256bit', 23841), ('384bit', 23842), ('384', 23843), ('cymbal', 23844), ('highs', 23845), ('ve228h', 23846), ('guages', 23847), ('minitower', 23848), ('2tl', 23849), ('cq50', 23850), ('107nr', 23851), ('amidexteris', 23852), ('x1dcst', 23853), ('mx870', 23854), ('caddlic', 23855), ('cts', 23856), ('theirs', 23857), ('n810', 23858), ('42in', 23859), ('u35107', 23860), ('4hp', 23861), ('8800gt', 23862), ('1piece', 23863), ('openend', 23864), ('tahoo', 23865), ('bobble', 23866), ('tear', 23867), ('identify', 23868), ('bling', 23869), ('dental', 23870), ('groove', 23871), ('crackers', 23872), ('seath', 23873), ('cbr101', 23874), ('at880', 23875), ('el12', 23876), ('p38f', 23877), ('augustine', 23878), ('fira', 23879), ('colar', 23880)])"
            ]
          },
          "metadata": {},
          "execution_count": 42
        }
      ],
      "source": [
        "dicti.items()"
      ]
    },
    {
      "cell_type": "code",
      "execution_count": 43,
      "metadata": {
        "id": "8s_aMpVGTlFQ",
        "scrolled": true
      },
      "outputs": [],
      "source": [
        "# pad documents to a max length of 10 words\n",
        "max_ques_length = data[\"Number of words in Question\"].max()\n",
        "encoder_input_train = pad_sequences(encoder_input_train, maxlen=max_ques_length, padding='post')\n",
        "encoder_input_test = pad_sequences(encoder_input_test, maxlen=max_ques_length, padding='post')"
      ]
    },
    {
      "cell_type": "code",
      "execution_count": 44,
      "metadata": {
        "colab": {
          "base_uri": "https://localhost:8080/"
        },
        "id": "kK1FyVO9N0jz",
        "outputId": "c89a75d8-f695-41ab-d655-c958c0044f1c"
      },
      "outputs": [
        {
          "output_type": "stream",
          "name": "stdout",
          "text": [
            "[[    8     4  5475 ...     0     0     0]\n",
            " [ 2579     5   168 ...     0     0     0]\n",
            " [   14    20     5 ...     0     0     0]\n",
            " ...\n",
            " [    8     4   142 ...     0     0     0]\n",
            " [23880     7     6 ...     0     0     0]\n",
            " [    6     4     9 ...     0     0     0]]\n",
            "[[  12   28   15 ... 9806    0    0]\n",
            " [   8    7   15 ...    0    0    0]\n",
            " [   6    4    9 ... 1989    0    0]\n",
            " ...\n",
            " [   6    7 1120 ...    0    0    0]\n",
            " [   6    4   87 ...    0    0    0]\n",
            " [   6    4   55 ...    0    0    0]]\n"
          ]
        }
      ],
      "source": [
        "print(encoder_input_train)\n",
        "print(encoder_input_test)"
      ]
    },
    {
      "cell_type": "code",
      "execution_count": 45,
      "metadata": {
        "colab": {
          "base_uri": "https://localhost:8080/"
        },
        "id": "qC8mh-FJKs-9",
        "outputId": "3685afab-bc97-4433-ab1e-f4bcfd3a2090"
      },
      "outputs": [
        {
          "output_type": "stream",
          "name": "stdout",
          "text": [
            "Shape of encoder input for train data :  (71932, 10)\n",
            "Shape of encoder input for test data :  (17983, 10)\n"
          ]
        }
      ],
      "source": [
        "print(\"Shape of encoder input for train data : \", encoder_input_train.shape)\n",
        "print(\"Shape of encoder input for test data : \" ,encoder_input_test.shape)"
      ]
    },
    {
      "cell_type": "code",
      "execution_count": 46,
      "metadata": {
        "id": "XJCPNARyTlGe"
      },
      "outputs": [],
      "source": [
        "# integer encode the documents\n",
        "decoder_input_train = t.texts_to_sequences(decoder_input_train)\n",
        "decoder_input_test = t.texts_to_sequences(decoder_input_test)"
      ]
    },
    {
      "cell_type": "code",
      "execution_count": 47,
      "metadata": {
        "id": "SUZMILhZTlG9",
        "scrolled": true
      },
      "outputs": [],
      "source": [
        "# pad documents to a max length of 5 words\n",
        "max_ans_length = int(data[\"Number of words in Answer\"].max()+2)\n",
        "decoder_input_train = pad_sequences(decoder_input_train, maxlen=max_ans_length, padding='post')\n",
        "decoder_input_test = pad_sequences(decoder_input_test, maxlen=max_ans_length, padding='post')"
      ]
    },
    {
      "cell_type": "code",
      "execution_count": 48,
      "metadata": {
        "colab": {
          "base_uri": "https://localhost:8080/"
        },
        "id": "m2wOkczFOZrE",
        "outputId": "5ef860c9-2d90-44dc-9917-d812fd281711"
      },
      "outputs": [
        {
          "output_type": "stream",
          "name": "stdout",
          "text": [
            "[[   1   10    2    0    0]\n",
            " [   1   10    2    0    0]\n",
            " [   1 1008  180 2580    2]\n",
            " ...\n",
            " [   1    3    7    8    2]\n",
            " [   1   68   68   68    2]\n",
            " [   1    3    6   74    2]]\n",
            "[[   1    3    2    0    0]\n",
            " [   1    3    7    8    2]\n",
            " [   1 5208 1167    2    0]\n",
            " ...\n",
            " [   1   10    2    0    0]\n",
            " [   1   10    2    0    0]\n",
            " [   1 7683    2    0    0]]\n"
          ]
        }
      ],
      "source": [
        "print(decoder_input_train)\n",
        "print(decoder_input_test)"
      ]
    },
    {
      "cell_type": "code",
      "execution_count": 49,
      "metadata": {
        "colab": {
          "base_uri": "https://localhost:8080/"
        },
        "id": "ZiXUB-AyMnGe",
        "outputId": "58d41465-cba9-40b8-aea9-34b79a960789"
      },
      "outputs": [
        {
          "output_type": "stream",
          "name": "stdout",
          "text": [
            "Shape of decoder input for train data :  (71932, 5)\n",
            "Shape of decoder input for test :  (17983, 5)\n"
          ]
        }
      ],
      "source": [
        "print(\"Shape of decoder input for train data : \", decoder_input_train.shape)\n",
        "print(\"Shape of decoder input for test : \", decoder_input_test.shape)"
      ]
    },
    {
      "cell_type": "code",
      "execution_count": 50,
      "metadata": {
        "id": "qSfzMxILTlHl"
      },
      "outputs": [],
      "source": [
        "# load the whole embedding into memory\n",
        "embeddings_index = dict()\n",
        "pickling = open(\"/content/drive/MyDrive/Assignments/Case_study2/glove_vectors\",\"rb\")\n",
        "glove_words = pickle.load(pickling)"
      ]
    },
    {
      "cell_type": "code",
      "execution_count": 51,
      "metadata": {
        "id": "hxQbEIXtTlH-"
      },
      "outputs": [],
      "source": [
        "# create a weight matrix for words in training docs\n",
        "embedding_matrix = np.zeros((vocab_size, 300))\n",
        "for word, i in t.word_index.items():\n",
        "    embedding_vector = glove_words.get(word)\n",
        "    if embedding_vector is not None:\n",
        "        embedding_matrix[i] = embedding_vector"
      ]
    },
    {
      "cell_type": "code",
      "execution_count": 52,
      "metadata": {
        "colab": {
          "base_uri": "https://localhost:8080/"
        },
        "id": "cmxkB_yGTlIH",
        "outputId": "a4b37fe2-0a54-4243-f15f-9290041ed342"
      },
      "outputs": [
        {
          "output_type": "stream",
          "name": "stdout",
          "text": [
            "(23881, 300)\n"
          ]
        }
      ],
      "source": [
        "print(embedding_matrix.shape)"
      ]
    },
    {
      "cell_type": "code",
      "execution_count": 53,
      "metadata": {
        "colab": {
          "base_uri": "https://localhost:8080/"
        },
        "id": "9KUSexDHTlIf",
        "outputId": "ff48ebef-8280-4af9-8fab-b4b16ec2f94f"
      },
      "outputs": [
        {
          "output_type": "execute_result",
          "data": {
            "text/plain": [
              "array([[ 0.       ,  0.       ,  0.       , ...,  0.       ,  0.       ,\n",
              "         0.       ],\n",
              "       [ 0.       ,  0.       ,  0.       , ...,  0.       ,  0.       ,\n",
              "         0.       ],\n",
              "       [ 0.       ,  0.       ,  0.       , ...,  0.       ,  0.       ,\n",
              "         0.       ],\n",
              "       ...,\n",
              "       [ 0.079576 , -0.33587  ,  0.99122  , ...,  0.19146  , -0.0010444,\n",
              "         0.41162  ],\n",
              "       [ 0.       ,  0.       ,  0.       , ...,  0.       ,  0.       ,\n",
              "         0.       ],\n",
              "       [ 0.       ,  0.       ,  0.       , ...,  0.       ,  0.       ,\n",
              "         0.       ]])"
            ]
          },
          "metadata": {},
          "execution_count": 53
        }
      ],
      "source": [
        "embedding_matrix"
      ]
    },
    {
      "cell_type": "code",
      "execution_count": 54,
      "metadata": {
        "id": "c0qozMmVncel"
      },
      "outputs": [],
      "source": [
        "#saving the embedding matrix into a pickle file\n",
        "with open('embedding_matrix.pickle', 'wb') as l:\n",
        "    pickle.dump(embedding_matrix, l, protocol=pickle.HIGHEST_PROTOCOL)"
      ]
    },
    {
      "cell_type": "markdown",
      "metadata": {
        "id": "mBJvAgx0Qwzh"
      },
      "source": [
        "Model"
      ]
    },
    {
      "cell_type": "code",
      "execution_count": 55,
      "metadata": {
        "id": "ASmyi8uVnxWm"
      },
      "outputs": [],
      "source": [
        "BUFFER_SIZE = len(encoder_input_train)\n",
        "BATCH_SIZE = 64\n",
        "N_BATCH = BUFFER_SIZE//BATCH_SIZE\n",
        "embedding_dim = 300\n",
        "units = 1024\n",
        "\n",
        "dataset = tf.data.Dataset.from_tensor_slices((encoder_input_train, decoder_input_train)).shuffle(BUFFER_SIZE)\n",
        "dataset = dataset.batch(BATCH_SIZE, drop_remainder=True)"
      ]
    },
    {
      "cell_type": "code",
      "execution_count": 57,
      "metadata": {
        "id": "1Dswk_beg0dA"
      },
      "outputs": [],
      "source": [
        "BUFFER_SIZE_val = len(encoder_input_test)\n",
        "BATCH_SIZE_val = 64\n",
        "N_BATCH_val = BUFFER_SIZE_val//BATCH_SIZE_val\n",
        "\n",
        "dataset_val = tf.data.Dataset.from_tensor_slices((encoder_input_test, decoder_input_test)).shuffle(BUFFER_SIZE_val)\n",
        "dataset_val = dataset_val.batch(BATCH_SIZE_val, drop_remainder=True)"
      ]
    },
    {
      "cell_type": "code",
      "execution_count": 58,
      "metadata": {
        "id": "mrHRVih6KPg3"
      },
      "outputs": [],
      "source": [
        "def gru(units):\n",
        "    return tf.keras.layers.GRU(units, return_sequences=True,return_state=True, recurrent_activation='sigmoid',recurrent_initializer='glorot_uniform')\n",
        "\n",
        "class Encoder(tf.keras.Model):\n",
        "    def __init__(self, vocab_size, embedding_dim, enc_units, batch_sz):\n",
        "        super(Encoder, self).__init__()\n",
        "        self.batch_sz = batch_sz\n",
        "        self.enc_units = enc_units\n",
        "        self.embedding = tf.keras.layers.Embedding(vocab_size, embedding_dim, input_length=max_ques_length, \n",
        "                                                   weights=[embedding_matrix], trainable=False)\n",
        "        self.gru = gru(self.enc_units)\n",
        "    def call(self, x, hidden):\n",
        "        x = self.embedding(x)\n",
        "        output, state = self.gru(x, initial_state = hidden)        \n",
        "        return output, state\n",
        "    def initialize_hidden_state(self):\n",
        "        return tf.zeros((self.batch_sz, self.enc_units))\n",
        "\n",
        "class Decoder(tf.keras.Model):\n",
        "    def __init__(self, vocab_size, embedding_dim, dec_units, batch_sz):\n",
        "        super(Decoder, self).__init__()\n",
        "        self.batch_sz = batch_sz\n",
        "        self.dec_units = dec_units\n",
        "        self.embedding = tf.keras.layers.Embedding(vocab_size, embedding_dim, input_length=max_ans_length, \n",
        "                                                   weights=[embedding_matrix], trainable=False)\n",
        "        self.gru = gru(self.dec_units)\n",
        "        self.fc = tf.keras.layers.Dense(vocab_size)\n",
        "        # used for attention\n",
        "        self.W1 = tf.keras.layers.Dense(self.dec_units)\n",
        "        self.W2 = tf.keras.layers.Dense(self.dec_units)\n",
        "        self.V = tf.keras.layers.Dense(1)\n",
        "    def call(self, x, hidden, enc_output):\n",
        "        # we are doing this to perform addition to calculate the score\n",
        "        hidden_with_time_axis = tf.expand_dims(hidden, 1)\n",
        "        # this is to compute scores s1, s2, ...\n",
        "        score = self.V(tf.nn.tanh(self.W1(enc_output) + self.W2(hidden_with_time_axis)))\n",
        "        # this is the step to compute attention weights e1, e2, ...\n",
        "        attention_weights = tf.nn.softmax(score, axis=1)\n",
        "        # this is to compute the context_vector = e1*h1 + e2*h2 + ...\n",
        "        context_vector = attention_weights * enc_output\n",
        "        context_vector = tf.reduce_sum(context_vector, axis=1)\n",
        "        x = self.embedding(x)\n",
        "        # this is the step to concatenate the context vector with the output of the previous time step\n",
        "        x = tf.concat([tf.expand_dims(context_vector, 1), x], axis=-1)\n",
        "        # passing the concatenated vector to the GRU\n",
        "        output, state = self.gru(x)\n",
        "        # output shape == (batch_size * 1, hidden_size)\n",
        "        output = tf.reshape(output, (-1, output.shape[2]))\n",
        "        # output shape == (batch_size * 1, vocab)\n",
        "        # this is the step to compute the next output word in the sequence\n",
        "        x = self.fc(output)\n",
        "        # return current output, current state and the attention weights\n",
        "        return x, state, attention_weights\n",
        "    def initialize_hidden_state(self):\n",
        "        return tf.zeros((self.batch_sz, self.dec_units))\n",
        "      \n",
        "# Create objects of Class Encoder and Class Decoder\n",
        "encoder = Encoder(vocab_size, embedding_dim, units, BATCH_SIZE)\n",
        "decoder = Decoder(vocab_size, embedding_dim, units, BATCH_SIZE)"
      ]
    },
    {
      "cell_type": "code",
      "execution_count": 59,
      "metadata": {
        "id": "gcRPFM_8hSzR"
      },
      "outputs": [],
      "source": [
        "optimizer = tf.optimizers.SGD()\n",
        "import keras.backend as K\n",
        "def loss_function(real, pred):\n",
        "    mask = 1 - np.equal(real, 0)\n",
        "    loss_ = tf.nn.sparse_softmax_cross_entropy_with_logits(labels=real, logits=pred) * mask\n",
        "    return tf.reduce_mean(loss_)\n",
        "\n",
        "\n",
        "def accuracy_fn(y_true, y_pred):\n",
        "    # y_pred shape is batch_size, seq length, vocab size\n",
        "    # y_true shape is batch_size, seq length\n",
        "    pred_values = K.cast(K.argmax(y_pred, axis=-1), dtype='int32')\n",
        "    correct = K.cast(K.equal(y_true, pred_values), dtype='float32')\n",
        "\n",
        "    # 0 is padding, don't include those\n",
        "    mask = K.cast(K.greater(y_true, 0), dtype='float32')\n",
        "    n_correct = K.sum(mask * correct)\n",
        "    n_total = K.sum(mask)\n",
        "  \n",
        "    return n_correct / n_total\n",
        "    \n",
        "checkpoint_dir = '/content/drive/My Drive/Multiple Response/training_checkpoints'\n",
        "checkpoint_prefix = os.path.join(checkpoint_dir, \"ckpt\")\n",
        "checkpoint = tf.train.Checkpoint(optimizer=optimizer,encoder=encoder,decoder=decoder)"
      ]
    },
    {
      "cell_type": "code",
      "execution_count": 60,
      "metadata": {
        "id": "J0EO6ncggAh5"
      },
      "outputs": [],
      "source": [
        "# https://www.tensorflow.org/tensorboard/get_started\n",
        "current_time = datetime.datetime.now().strftime(\"%Y%m%d-%H%M%S\")\n",
        "train_log_dir = 'logs/gradient_tape/' + current_time + '/train'\n",
        "test_log_dir = 'logs/gradient_tape/' + current_time + '/test'\n",
        "train_summary_writer = tf.summary.create_file_writer(train_log_dir)\n",
        "test_summary_writer = tf.summary.create_file_writer(test_log_dir)"
      ]
    },
    {
      "cell_type": "code",
      "source": [
        "from sklearn.metrics import roc_auc_score"
      ],
      "metadata": {
        "id": "q6HUKpOVb5nE"
      },
      "execution_count": 61,
      "outputs": []
    },
    {
      "cell_type": "code",
      "execution_count": 63,
      "metadata": {
        "colab": {
          "base_uri": "https://localhost:8080/"
        },
        "id": "KD561g2iptEA",
        "scrolled": false,
        "outputId": "8de557ab-7345-4441-c77a-fbe5747c6298"
      },
      "outputs": [
        {
          "metadata": {
            "tags": null
          },
          "name": "stderr",
          "output_type": "stream",
          "text": [
            "WARNING:tensorflow:5 out of the last 5 calls to <function _BaseOptimizer._update_step_xla at 0x7f7ced90bc10> triggered tf.function retracing. Tracing is expensive and the excessive number of tracings could be due to (1) creating @tf.function repeatedly in a loop, (2) passing tensors with different shapes, (3) passing Python objects instead of tensors. For (1), please define your @tf.function outside of the loop. For (2), @tf.function has reduce_retracing=True option that can avoid unnecessary retracing. For (3), please refer to https://www.tensorflow.org/guide/function#controlling_retracing and https://www.tensorflow.org/api_docs/python/tf/function for  more details.\n",
            "WARNING:tensorflow:6 out of the last 6 calls to <function _BaseOptimizer._update_step_xla at 0x7f7ced90bc10> triggered tf.function retracing. Tracing is expensive and the excessive number of tracings could be due to (1) creating @tf.function repeatedly in a loop, (2) passing tensors with different shapes, (3) passing Python objects instead of tensors. For (1), please define your @tf.function outside of the loop. For (2), @tf.function has reduce_retracing=True option that can avoid unnecessary retracing. For (3), please refer to https://www.tensorflow.org/guide/function#controlling_retracing and https://www.tensorflow.org/api_docs/python/tf/function for  more details.\n"
          ]
        },
        {
          "output_type": "stream",
          "name": "stdout",
          "text": [
            "Epoch 1 Batch 0 Loss 5.4179 Acc 0.0000\n",
            "Epoch 1 Batch 100 Loss 2.8800 Acc 0.4240\n",
            "Epoch 1 Batch 200 Loss 2.4942 Acc 0.4656\n",
            "Epoch 1 Batch 300 Loss 2.3518 Acc 0.4355\n",
            "Epoch 1 Batch 400 Loss 1.5479 Acc 0.4935\n",
            "Epoch 1 Batch 500 Loss 1.7146 Acc 0.4896\n",
            "Epoch 1 Batch 600 Loss 2.0557 Acc 0.4073\n",
            "Epoch 1 Batch 700 Loss 2.2436 Acc 0.4163\n",
            "Epoch 1 Batch 800 Loss 1.7828 Acc 0.4837\n",
            "Epoch 1 Batch 900 Loss 1.8428 Acc 0.4500\n",
            "Epoch 1 Batch 1000 Loss 1.9046 Acc 0.4577\n",
            "Epoch 1 Batch 1100 Loss 2.2553 Acc 0.4215\n",
            "Epoch 1 Loss 2.1318 Acc0.4533\n",
            "Epoch 1 Loss_val 1.6614 Acc_val 0.2364\n",
            "Time taken for 1 epoch 223.5434877872467 sec\n",
            "\n",
            "Epoch 2 Batch 0 Loss 1.3997 Acc 0.4946\n",
            "Epoch 2 Batch 100 Loss 2.3117 Acc 0.4210\n",
            "Epoch 2 Batch 200 Loss 1.3677 Acc 0.5362\n",
            "Epoch 2 Batch 300 Loss 2.0035 Acc 0.5003\n",
            "Epoch 2 Batch 400 Loss 1.6413 Acc 0.4828\n",
            "Epoch 2 Batch 500 Loss 1.5563 Acc 0.4638\n",
            "Epoch 2 Batch 600 Loss 1.8401 Acc 0.4826\n",
            "Epoch 2 Batch 700 Loss 1.3805 Acc 0.5100\n",
            "Epoch 2 Batch 800 Loss 1.6804 Acc 0.4890\n",
            "Epoch 2 Batch 900 Loss 1.7283 Acc 0.5125\n",
            "Epoch 2 Batch 1000 Loss 1.4708 Acc 0.4830\n",
            "Epoch 2 Batch 1100 Loss 1.7178 Acc 0.4896\n",
            "Epoch 2 Loss 1.6679 Acc0.4905\n",
            "Epoch 2 Loss_val 1.5276 Acc_val 0.3816\n",
            "Time taken for 1 epoch 199.00679111480713 sec\n",
            "\n",
            "Epoch 3 Batch 0 Loss 1.5673 Acc 0.4472\n",
            "Epoch 3 Batch 100 Loss 1.4704 Acc 0.4812\n",
            "Epoch 3 Batch 200 Loss 1.8285 Acc 0.4573\n",
            "Epoch 3 Batch 300 Loss 1.3934 Acc 0.5125\n",
            "Epoch 3 Batch 400 Loss 1.3270 Acc 0.5260\n",
            "Epoch 3 Batch 500 Loss 1.4869 Acc 0.5238\n",
            "Epoch 3 Batch 600 Loss 2.1922 Acc 0.4519\n",
            "Epoch 3 Batch 700 Loss 1.2361 Acc 0.5040\n",
            "Epoch 3 Batch 800 Loss 1.4797 Acc 0.5294\n",
            "Epoch 3 Batch 900 Loss 1.4231 Acc 0.4932\n",
            "Epoch 3 Batch 1000 Loss 1.1838 Acc 0.5470\n",
            "Epoch 3 Batch 1100 Loss 1.4145 Acc 0.4716\n",
            "Epoch 3 Loss 1.5666 Acc0.4940\n",
            "Epoch 3 Loss_val 1.4659 Acc_val 0.3831\n",
            "Time taken for 1 epoch 196.17038750648499 sec\n",
            "\n",
            "Epoch 4 Batch 0 Loss 1.4199 Acc 0.5094\n",
            "Epoch 4 Batch 100 Loss 1.6976 Acc 0.4688\n",
            "Epoch 4 Batch 200 Loss 1.5531 Acc 0.5073\n",
            "Epoch 4 Batch 300 Loss 1.3300 Acc 0.5365\n",
            "Epoch 4 Batch 400 Loss 1.2845 Acc 0.4675\n",
            "Epoch 4 Batch 500 Loss 1.7711 Acc 0.4762\n",
            "Epoch 4 Batch 600 Loss 1.5206 Acc 0.4902\n",
            "Epoch 4 Batch 700 Loss 1.7583 Acc 0.4567\n",
            "Epoch 4 Batch 800 Loss 1.7786 Acc 0.4784\n",
            "Epoch 4 Batch 900 Loss 1.3234 Acc 0.4723\n",
            "Epoch 4 Batch 1000 Loss 1.2176 Acc 0.5102\n",
            "Epoch 4 Batch 1100 Loss 1.6477 Acc 0.4960\n",
            "Epoch 4 Loss 1.5069 Acc0.4952\n",
            "Epoch 4 Loss_val 1.4080 Acc_val 0.3609\n",
            "Time taken for 1 epoch 201.45866298675537 sec\n",
            "\n",
            "Epoch 5 Batch 0 Loss 1.1678 Acc 0.5130\n",
            "Epoch 5 Batch 100 Loss 1.4778 Acc 0.5077\n",
            "Epoch 5 Batch 200 Loss 1.3563 Acc 0.5276\n",
            "Epoch 5 Batch 300 Loss 1.4042 Acc 0.4892\n",
            "Epoch 5 Batch 400 Loss 1.4412 Acc 0.5276\n",
            "Epoch 5 Batch 500 Loss 1.4938 Acc 0.5097\n",
            "Epoch 5 Batch 600 Loss 1.3520 Acc 0.5330\n",
            "Epoch 5 Batch 700 Loss 1.6294 Acc 0.4680\n",
            "Epoch 5 Batch 800 Loss 1.2433 Acc 0.5580\n",
            "Epoch 5 Batch 900 Loss 1.6085 Acc 0.4740\n",
            "Epoch 5 Batch 1000 Loss 1.6637 Acc 0.4992\n",
            "Epoch 5 Batch 1100 Loss 1.5325 Acc 0.4307\n",
            "Epoch 5 Loss 1.4684 Acc0.4982\n",
            "Epoch 5 Loss_val 1.3798 Acc_val 0.3759\n",
            "Time taken for 1 epoch 202.0984137058258 sec\n",
            "\n",
            "Epoch 6 Batch 0 Loss 1.5420 Acc 0.4812\n",
            "Epoch 6 Batch 100 Loss 1.4700 Acc 0.5071\n",
            "Epoch 6 Batch 200 Loss 1.3157 Acc 0.4823\n",
            "Epoch 6 Batch 300 Loss 1.4273 Acc 0.4765\n",
            "Epoch 6 Batch 400 Loss 1.5265 Acc 0.4865\n",
            "Epoch 6 Batch 500 Loss 1.9456 Acc 0.4358\n",
            "Epoch 6 Batch 600 Loss 1.2469 Acc 0.5037\n",
            "Epoch 6 Batch 700 Loss 1.7006 Acc 0.4707\n",
            "Epoch 6 Batch 800 Loss 1.7520 Acc 0.4483\n",
            "Epoch 6 Batch 900 Loss 1.5459 Acc 0.4829\n",
            "Epoch 6 Batch 1000 Loss 1.4110 Acc 0.5274\n",
            "Epoch 6 Batch 1100 Loss 1.5404 Acc 0.4846\n",
            "Epoch 6 Loss 1.4410 Acc0.5030\n",
            "Epoch 6 Loss_val 1.3742 Acc_val 0.4549\n",
            "Time taken for 1 epoch 229.54004955291748 sec\n",
            "\n",
            "Epoch 7 Batch 0 Loss 1.3944 Acc 0.5234\n",
            "Epoch 7 Batch 100 Loss 1.4108 Acc 0.5048\n",
            "Epoch 7 Batch 200 Loss 1.2603 Acc 0.5342\n",
            "Epoch 7 Batch 300 Loss 1.1804 Acc 0.5035\n",
            "Epoch 7 Batch 400 Loss 1.3379 Acc 0.5292\n",
            "Epoch 7 Batch 500 Loss 1.3275 Acc 0.5018\n",
            "Epoch 7 Batch 600 Loss 1.5378 Acc 0.4880\n",
            "Epoch 7 Batch 700 Loss 1.3182 Acc 0.5057\n",
            "Epoch 7 Batch 800 Loss 1.2333 Acc 0.5229\n",
            "Epoch 7 Batch 900 Loss 1.3226 Acc 0.5151\n",
            "Epoch 7 Batch 1000 Loss 1.4538 Acc 0.4962\n",
            "Epoch 7 Batch 1100 Loss 1.5100 Acc 0.5018\n",
            "Epoch 7 Loss 1.4143 Acc0.5117\n",
            "Epoch 7 Loss_val 1.3438 Acc_val 0.3833\n",
            "Time taken for 1 epoch 196.52045726776123 sec\n",
            "\n",
            "Epoch 8 Batch 0 Loss 1.5263 Acc 0.4613\n",
            "Epoch 8 Batch 100 Loss 1.1243 Acc 0.5714\n",
            "Epoch 8 Batch 200 Loss 1.3734 Acc 0.5359\n",
            "Epoch 8 Batch 300 Loss 1.4374 Acc 0.5264\n",
            "Epoch 8 Batch 400 Loss 1.3820 Acc 0.4896\n",
            "Epoch 8 Batch 500 Loss 1.5916 Acc 0.5291\n",
            "Epoch 8 Batch 600 Loss 1.4123 Acc 0.5112\n",
            "Epoch 8 Batch 700 Loss 1.5135 Acc 0.5106\n",
            "Epoch 8 Batch 800 Loss 1.2602 Acc 0.5299\n",
            "Epoch 8 Batch 900 Loss 1.2302 Acc 0.5606\n",
            "Epoch 8 Batch 1000 Loss 1.3929 Acc 0.4944\n",
            "Epoch 8 Batch 1100 Loss 1.4207 Acc 0.5468\n",
            "Epoch 8 Loss 1.3917 Acc0.5158\n",
            "Epoch 8 Loss_val 1.3123 Acc_val 0.3878\n",
            "Time taken for 1 epoch 194.00454831123352 sec\n",
            "\n",
            "Epoch 9 Batch 0 Loss 1.2360 Acc 0.5095\n",
            "Epoch 9 Batch 100 Loss 1.3065 Acc 0.5073\n",
            "Epoch 9 Batch 200 Loss 1.6296 Acc 0.4747\n",
            "Epoch 9 Batch 300 Loss 1.4702 Acc 0.5146\n",
            "Epoch 9 Batch 400 Loss 1.6594 Acc 0.4969\n",
            "Epoch 9 Batch 500 Loss 1.0892 Acc 0.5353\n",
            "Epoch 9 Batch 600 Loss 1.5269 Acc 0.4736\n",
            "Epoch 9 Batch 700 Loss 1.3189 Acc 0.5027\n",
            "Epoch 9 Batch 800 Loss 1.3874 Acc 0.5262\n",
            "Epoch 9 Batch 900 Loss 1.2623 Acc 0.5293\n",
            "Epoch 9 Batch 1000 Loss 1.3376 Acc 0.5512\n",
            "Epoch 9 Batch 1100 Loss 1.2470 Acc 0.5281\n",
            "Epoch 9 Loss 1.3729 Acc0.5172\n",
            "Epoch 9 Loss_val 1.2939 Acc_val 0.4201\n",
            "Time taken for 1 epoch 195.6246521472931 sec\n",
            "\n",
            "Epoch 10 Batch 0 Loss 1.3256 Acc 0.5412\n",
            "Epoch 10 Batch 100 Loss 1.3151 Acc 0.5518\n",
            "Epoch 10 Batch 200 Loss 1.0016 Acc 0.5874\n",
            "Epoch 10 Batch 300 Loss 1.5881 Acc 0.4479\n",
            "Epoch 10 Batch 400 Loss 1.1684 Acc 0.5007\n",
            "Epoch 10 Batch 500 Loss 1.4319 Acc 0.5260\n",
            "Epoch 10 Batch 600 Loss 1.2872 Acc 0.5048\n",
            "Epoch 10 Batch 700 Loss 1.3636 Acc 0.5365\n",
            "Epoch 10 Batch 800 Loss 1.4198 Acc 0.5057\n",
            "Epoch 10 Batch 900 Loss 1.2259 Acc 0.5265\n",
            "Epoch 10 Batch 1000 Loss 1.1445 Acc 0.5557\n",
            "Epoch 10 Batch 1100 Loss 1.5558 Acc 0.4680\n",
            "Epoch 10 Loss 1.3555 Acc0.5188\n",
            "Epoch 10 Loss_val 1.2810 Acc_val 0.3915\n",
            "Time taken for 1 epoch 210.84910821914673 sec\n",
            "\n",
            "Epoch 11 Batch 0 Loss 1.3785 Acc 0.4906\n",
            "Epoch 11 Batch 100 Loss 1.6840 Acc 0.5012\n",
            "Epoch 11 Batch 200 Loss 1.2072 Acc 0.5325\n",
            "Epoch 11 Batch 300 Loss 1.5340 Acc 0.5019\n",
            "Epoch 11 Batch 400 Loss 1.4703 Acc 0.5029\n",
            "Epoch 11 Batch 500 Loss 1.4671 Acc 0.5046\n",
            "Epoch 11 Batch 600 Loss 1.4764 Acc 0.4850\n",
            "Epoch 11 Batch 700 Loss 1.0276 Acc 0.5496\n",
            "Epoch 11 Batch 800 Loss 1.5437 Acc 0.5339\n",
            "Epoch 11 Batch 900 Loss 1.0721 Acc 0.5455\n",
            "Epoch 11 Batch 1000 Loss 1.1673 Acc 0.5386\n",
            "Epoch 11 Batch 1100 Loss 1.2078 Acc 0.5412\n",
            "Epoch 11 Loss 1.3385 Acc0.5205\n",
            "Epoch 11 Loss_val 1.2766 Acc_val 0.4222\n",
            "Time taken for 1 epoch 193.15909671783447 sec\n",
            "\n",
            "Epoch 12 Batch 0 Loss 1.3254 Acc 0.5231\n",
            "Epoch 12 Batch 100 Loss 1.2499 Acc 0.5260\n",
            "Epoch 12 Batch 200 Loss 1.4717 Acc 0.5370\n",
            "Epoch 12 Batch 300 Loss 1.0951 Acc 0.5548\n",
            "Epoch 12 Batch 400 Loss 0.9073 Acc 0.5979\n",
            "Epoch 12 Batch 500 Loss 1.1275 Acc 0.5575\n",
            "Epoch 12 Batch 600 Loss 1.3603 Acc 0.5202\n",
            "Epoch 12 Batch 700 Loss 1.1919 Acc 0.5276\n",
            "Epoch 12 Batch 800 Loss 1.4138 Acc 0.5221\n",
            "Epoch 12 Batch 900 Loss 1.2960 Acc 0.5281\n",
            "Epoch 12 Batch 1000 Loss 1.6924 Acc 0.4862\n",
            "Epoch 12 Batch 1100 Loss 1.1303 Acc 0.5244\n",
            "Epoch 12 Loss 1.3247 Acc0.5227\n",
            "Epoch 12 Loss_val 1.2598 Acc_val 0.4270\n",
            "Time taken for 1 epoch 228.64751482009888 sec\n",
            "\n",
            "Epoch 13 Batch 0 Loss 0.7200 Acc 0.5813\n",
            "Epoch 13 Batch 100 Loss 1.3136 Acc 0.5185\n",
            "Epoch 13 Batch 200 Loss 1.2106 Acc 0.4864\n",
            "Epoch 13 Batch 300 Loss 1.4579 Acc 0.5121\n",
            "Epoch 13 Batch 400 Loss 1.4414 Acc 0.4915\n",
            "Epoch 13 Batch 500 Loss 1.5856 Acc 0.4978\n",
            "Epoch 13 Batch 600 Loss 1.5419 Acc 0.4923\n",
            "Epoch 13 Batch 700 Loss 1.0484 Acc 0.5707\n",
            "Epoch 13 Batch 800 Loss 1.2528 Acc 0.5457\n",
            "Epoch 13 Batch 900 Loss 1.5261 Acc 0.4940\n",
            "Epoch 13 Batch 1000 Loss 1.3608 Acc 0.5490\n",
            "Epoch 13 Batch 1100 Loss 1.3914 Acc 0.5108\n",
            "Epoch 13 Loss 1.3094 Acc0.5252\n",
            "Epoch 13 Loss_val 1.2631 Acc_val 0.3693\n",
            "Time taken for 1 epoch 188.56392621994019 sec\n",
            "\n",
            "Epoch 14 Batch 0 Loss 1.3838 Acc 0.5054\n",
            "Epoch 14 Batch 100 Loss 1.0387 Acc 0.5906\n",
            "Epoch 14 Batch 200 Loss 1.1373 Acc 0.5596\n",
            "Epoch 14 Batch 300 Loss 1.4818 Acc 0.4989\n",
            "Epoch 14 Batch 400 Loss 1.2559 Acc 0.5407\n",
            "Epoch 14 Batch 500 Loss 1.2285 Acc 0.5544\n",
            "Epoch 14 Batch 600 Loss 1.5733 Acc 0.5046\n",
            "Epoch 14 Batch 700 Loss 1.2422 Acc 0.5424\n",
            "Epoch 14 Batch 800 Loss 1.4420 Acc 0.4971\n",
            "Epoch 14 Batch 900 Loss 1.2251 Acc 0.5340\n",
            "Epoch 14 Batch 1000 Loss 1.3243 Acc 0.5043\n",
            "Epoch 14 Batch 1100 Loss 1.1259 Acc 0.5401\n",
            "Epoch 14 Loss 1.2976 Acc0.5260\n",
            "Epoch 14 Loss_val 1.2511 Acc_val 0.4398\n",
            "Time taken for 1 epoch 190.7164330482483 sec\n",
            "\n",
            "Epoch 15 Batch 0 Loss 1.3176 Acc 0.5123\n",
            "Epoch 15 Batch 100 Loss 1.2195 Acc 0.5135\n",
            "Epoch 15 Batch 200 Loss 0.9200 Acc 0.5910\n",
            "Epoch 15 Batch 300 Loss 1.6652 Acc 0.4950\n",
            "Epoch 15 Batch 400 Loss 1.0356 Acc 0.5472\n",
            "Epoch 15 Batch 500 Loss 1.2217 Acc 0.5490\n",
            "Epoch 15 Batch 600 Loss 1.6165 Acc 0.4772\n",
            "Epoch 15 Batch 700 Loss 1.3024 Acc 0.5250\n",
            "Epoch 15 Batch 800 Loss 1.5244 Acc 0.5111\n",
            "Epoch 15 Batch 900 Loss 1.4334 Acc 0.5097\n",
            "Epoch 15 Batch 1000 Loss 1.0910 Acc 0.5572\n",
            "Epoch 15 Batch 1100 Loss 0.8721 Acc 0.5691\n",
            "Epoch 15 Loss 1.2847 Acc0.5272\n",
            "Epoch 15 Loss_val 1.2290 Acc_val 0.4052\n",
            "Time taken for 1 epoch 189.50502514839172 sec\n",
            "\n",
            "Epoch 16 Batch 0 Loss 1.2589 Acc 0.5281\n",
            "Epoch 16 Batch 100 Loss 1.3862 Acc 0.4920\n",
            "Epoch 16 Batch 200 Loss 1.5000 Acc 0.5080\n",
            "Epoch 16 Batch 300 Loss 0.9676 Acc 0.5714\n",
            "Epoch 16 Batch 400 Loss 1.1946 Acc 0.5500\n",
            "Epoch 16 Batch 500 Loss 1.3168 Acc 0.5464\n",
            "Epoch 16 Batch 600 Loss 1.3314 Acc 0.5291\n",
            "Epoch 16 Batch 700 Loss 1.4343 Acc 0.5388\n",
            "Epoch 16 Batch 800 Loss 1.3944 Acc 0.5148\n",
            "Epoch 16 Batch 900 Loss 1.6588 Acc 0.5165\n",
            "Epoch 16 Batch 1000 Loss 1.4680 Acc 0.4963\n",
            "Epoch 16 Batch 1100 Loss 1.3478 Acc 0.5130\n",
            "Epoch 16 Loss 1.2756 Acc0.5284\n",
            "Epoch 16 Loss_val 1.2373 Acc_val 0.3343\n",
            "Time taken for 1 epoch 205.2888960838318 sec\n",
            "\n",
            "Epoch 17 Batch 0 Loss 1.3568 Acc 0.5042\n",
            "Epoch 17 Batch 100 Loss 1.2301 Acc 0.5234\n",
            "Epoch 17 Batch 200 Loss 1.6456 Acc 0.4965\n",
            "Epoch 17 Batch 300 Loss 1.3418 Acc 0.5393\n",
            "Epoch 17 Batch 400 Loss 1.0557 Acc 0.5880\n",
            "Epoch 17 Batch 500 Loss 1.1946 Acc 0.5476\n",
            "Epoch 17 Batch 600 Loss 1.3073 Acc 0.5446\n",
            "Epoch 17 Batch 700 Loss 1.3497 Acc 0.4986\n",
            "Epoch 17 Batch 800 Loss 1.4354 Acc 0.5157\n",
            "Epoch 17 Batch 900 Loss 1.6161 Acc 0.4947\n",
            "Epoch 17 Batch 1000 Loss 0.9786 Acc 0.5763\n",
            "Epoch 17 Batch 1100 Loss 1.4110 Acc 0.5342\n",
            "Epoch 17 Loss 1.2648 Acc0.5301\n",
            "Epoch 17 Loss_val 1.2045 Acc_val 0.3823\n",
            "Time taken for 1 epoch 188.76403832435608 sec\n",
            "\n",
            "Epoch 18 Batch 0 Loss 1.1817 Acc 0.5458\n",
            "Epoch 18 Batch 100 Loss 1.2447 Acc 0.5411\n",
            "Epoch 18 Batch 200 Loss 1.3682 Acc 0.4946\n",
            "Epoch 18 Batch 300 Loss 1.1792 Acc 0.5481\n",
            "Epoch 18 Batch 400 Loss 1.1383 Acc 0.5581\n",
            "Epoch 18 Batch 500 Loss 1.2014 Acc 0.5349\n",
            "Epoch 18 Batch 600 Loss 1.3577 Acc 0.5035\n",
            "Epoch 18 Batch 700 Loss 1.5600 Acc 0.4827\n",
            "Epoch 18 Batch 800 Loss 1.1326 Acc 0.5517\n",
            "Epoch 18 Batch 900 Loss 1.3522 Acc 0.5278\n",
            "Epoch 18 Batch 1000 Loss 1.1479 Acc 0.5534\n",
            "Epoch 18 Batch 1100 Loss 1.0661 Acc 0.5672\n",
            "Epoch 18 Loss 1.2538 Acc0.5309\n",
            "Epoch 18 Loss_val 1.2068 Acc_val 0.3741\n",
            "Time taken for 1 epoch 186.9791178703308 sec\n",
            "\n",
            "Epoch 19 Batch 0 Loss 1.4876 Acc 0.5066\n",
            "Epoch 19 Batch 100 Loss 1.4956 Acc 0.4880\n",
            "Epoch 19 Batch 200 Loss 1.0939 Acc 0.5637\n",
            "Epoch 19 Batch 300 Loss 0.9258 Acc 0.5215\n",
            "Epoch 19 Batch 400 Loss 1.1585 Acc 0.5558\n",
            "Epoch 19 Batch 500 Loss 1.1288 Acc 0.5391\n",
            "Epoch 19 Batch 600 Loss 1.1244 Acc 0.5625\n",
            "Epoch 19 Batch 700 Loss 1.2485 Acc 0.5290\n",
            "Epoch 19 Batch 800 Loss 1.2745 Acc 0.5289\n",
            "Epoch 19 Batch 900 Loss 1.4868 Acc 0.5186\n",
            "Epoch 19 Batch 1000 Loss 1.2011 Acc 0.5330\n",
            "Epoch 19 Batch 1100 Loss 1.2358 Acc 0.5307\n",
            "Epoch 19 Loss 1.2468 Acc0.5320\n",
            "Epoch 19 Loss_val 1.2030 Acc_val 0.3676\n",
            "Time taken for 1 epoch 187.2536175251007 sec\n",
            "\n",
            "Epoch 20 Batch 0 Loss 1.4867 Acc 0.4866\n",
            "Epoch 20 Batch 100 Loss 1.4597 Acc 0.5294\n",
            "Epoch 20 Batch 200 Loss 1.3111 Acc 0.5579\n",
            "Epoch 20 Batch 300 Loss 1.2829 Acc 0.5060\n",
            "Epoch 20 Batch 400 Loss 1.4402 Acc 0.4866\n",
            "Epoch 20 Batch 500 Loss 1.3879 Acc 0.4992\n",
            "Epoch 20 Batch 600 Loss 0.9514 Acc 0.5990\n",
            "Epoch 20 Batch 700 Loss 1.1901 Acc 0.5696\n",
            "Epoch 20 Batch 800 Loss 1.5243 Acc 0.4925\n",
            "Epoch 20 Batch 900 Loss 1.3034 Acc 0.5252\n",
            "Epoch 20 Batch 1000 Loss 1.1778 Acc 0.5494\n",
            "Epoch 20 Batch 1100 Loss 1.0483 Acc 0.5500\n",
            "Epoch 20 Loss 1.2375 Acc0.5326\n",
            "Epoch 20 Loss_val 1.1844 Acc_val 0.3880\n",
            "Time taken for 1 epoch 186.75176191329956 sec\n",
            "\n",
            "CPU times: user 1h 3min 27s, sys: 51.2 s, total: 1h 4min 19s\n",
            "Wall time: 1h 6min 34s\n"
          ]
        }
      ],
      "source": [
        "#https://betterprogramming.pub/a-guide-on-the-encoder-decoder-model-and-the-attention-mechanism-401c836e2cdb\n",
        "%%time\n",
        "EPOCHS = 20\n",
        "loss_list=[]\n",
        "acc_list = []\n",
        "loss_list_val=[]\n",
        "acc_list_val = []\n",
        "for epoch in range(EPOCHS):\n",
        "    start = time.time()\n",
        "    hidden = encoder.initialize_hidden_state()\n",
        "    total_loss = 0\n",
        "    total_acc = 0\n",
        "    for (batch, (inp, targ)) in enumerate(dataset):\n",
        "        loss = 0\n",
        "        acc = 0\n",
        "        with tf.GradientTape() as tape:\n",
        "            enc_output, enc_hidden = encoder(inp, hidden)\n",
        "            dec_hidden = enc_hidden\n",
        "            dec_input = tf.expand_dims([word2id['<sos>']] * BATCH_SIZE, 1)   \n",
        "            # Teacher forcing - feeding the target as the next input\n",
        "            for t in range(1, targ.shape[1]):\n",
        "                # passing enc_output to the decoder\n",
        "                predictions, dec_hidden, _ = decoder(dec_input, dec_hidden, enc_output)\n",
        "                loss += loss_function(targ[:, t], predictions)\n",
        "                acc+= accuracy_fn(targ[:, t], predictions)\n",
        "                # using teacher forcing\n",
        "                dec_input = tf.expand_dims(targ[:, t], 1)\n",
        "        batch_loss = (loss / int(targ.shape[1]))\n",
        "        total_loss += batch_loss\n",
        "        batch_acc = (acc / int(targ.shape[1]))\n",
        "        total_acc += batch_acc\n",
        "        variables = encoder.variables + decoder.variables\n",
        "        gradients = tape.gradient(loss, variables)\n",
        "        optimizer.apply_gradients(zip(gradients, variables))\n",
        "        if batch % 100 == 0:\n",
        "            print('Epoch {} Batch {} Loss {:.4f} Acc {:.4f}'.format(epoch + 1,batch,batch_loss.numpy(), batch_acc.numpy()))\n",
        "    # saving (checkpoint) the model every epoch\n",
        "    checkpoint.save(file_prefix = checkpoint_prefix)\n",
        "    with train_summary_writer.as_default():\n",
        "         tf.summary.scalar('loss', total_loss, step=EPOCHS)\n",
        "    print('Epoch {} Loss {:.4f} Acc{:.4f}'.format(epoch + 1,total_loss / N_BATCH, total_acc/N_BATCH ))\n",
        "    loss_list.append(total_loss / N_BATCH)\n",
        "    acc_list.append(total_acc / N_BATCH)\n",
        "\n",
        "\n",
        "\n",
        "    hidden_val = encoder.initialize_hidden_state()\n",
        "    total_loss_val = 0\n",
        "    total_acc_val = 0\n",
        "    for (batch_val, (inp_val, targ_val)) in enumerate(dataset_val):\n",
        "        loss_val = 0\n",
        "        acc_val = 0\n",
        "        enc_output_val, enc_hidden_val = encoder(inp_val, hidden_val)\n",
        "        dec_hidden_val = enc_hidden_val\n",
        "        dec_input_val = tf.expand_dims([word2id['<sos>']] * BATCH_SIZE_val, 1)       \n",
        "        for t in range(1, targ_val.shape[1]):\n",
        "            predictions_val, dec_hidden_val, _ = decoder(dec_input_val, dec_hidden_val, enc_output_val)\n",
        "            loss_val += loss_function(targ_val[:, t], predictions_val)\n",
        "            acc_val+= accuracy_fn(targ[:, t], predictions)\n",
        "            dec_input_val = tf.expand_dims(targ_val[:, t], 1)\n",
        "        batch_loss_val = (loss_val / int(targ_val.shape[1]))\n",
        "        total_loss_val += batch_loss_val\n",
        "        batch_acc_val = (acc_val / int(targ_val.shape[1]))\n",
        "        total_acc_val += batch_acc_val\n",
        "        \n",
        "        if batch % 100 == 0:\n",
        "            print('Epoch {} Batch {} Loss_val {:.4f}  Acc_val {:.4f}'.format(epoch + 1,batch_val,batch_loss_val.numpy(), batch_acc_val.numpy()))\n",
        "    print('Epoch {} Loss_val {:.4f} Acc_val {:.4f}' .format(epoch + 1,total_loss_val / N_BATCH_val, total_acc_val/N_BATCH_val))\n",
        "    loss_list_val.append(total_loss_val / N_BATCH_val)\n",
        "    acc_list_val.append(total_acc_val/N_BATCH_val)\n",
        "    print('Time taken for 1 epoch {} sec\\n'.format(time.time() - start))\n",
        "    with test_summary_writer.as_default():\n",
        "         tf.summary.scalar('loss', total_loss_val, step=EPOCHS)\n",
        "\n",
        "   "
      ]
    },
    {
      "cell_type": "code",
      "execution_count": 64,
      "metadata": {
        "colab": {
          "base_uri": "https://localhost:8080/",
          "height": 279
        },
        "id": "9tl_YlrFQoBP",
        "outputId": "8d1c65dc-4642-46df-80cc-dd9fe43c1fa4"
      },
      "outputs": [
        {
          "output_type": "display_data",
          "data": {
            "text/plain": [
              "<Figure size 432x288 with 1 Axes>"
            ],
            "image/png": "[encoded data removed]"
          },
          "metadata": {
            "needs_background": "light"
          }
        }
      ],
      "source": [
        "def plt_dynamic(x, vy, ty, ax, colors=['b']):\n",
        "    ax.plot(x, vy, 'b', label=\"Validation Loss\")\n",
        "    ax.plot(x, ty, 'r', label=\"Train Loss\")\n",
        "    plt.legend()\n",
        "    plt.grid()\n",
        "    fig.canvas.draw()\n",
        "    \n",
        "fig,ax = plt.subplots(1,1)\n",
        "ax.set_xlabel('Epoch') ; ax.set_ylabel('Sparse Categorical Crossentropy Loss')\n",
        "epochs=list(range(EPOCHS))\n",
        "plt_dynamic(epochs, loss_list_val, loss_list, ax)"
      ]
    },
    {
      "cell_type": "code",
      "source": [
        "def plt_dynamic(x, vy, ty, ax, colors=['b']):\n",
        "    ax.plot(x, vy, 'b', label=\"Validation accuracy\")\n",
        "    ax.plot(x, ty, 'r', label=\"Train accuracy\")\n",
        "    plt.legend()\n",
        "    plt.grid()\n",
        "    fig.canvas.draw()\n",
        "    \n",
        "fig,ax = plt.subplots(1,1)\n",
        "ax.set_xlabel('Epoch') ; ax.set_ylabel('Sparse Categorical Crossentropy accuracy')\n",
        "epochs=list(range(EPOCHS))\n",
        "plt_dynamic(epochs, acc_list_val, acc_list, ax)"
      ],
      "metadata": {
        "colab": {
          "base_uri": "https://localhost:8080/",
          "height": 279
        },
        "id": "cedOhvfTa_Q9",
        "outputId": "2da64f7a-95c0-41b4-c2ab-362f55d2f16e"
      },
      "execution_count": 65,
      "outputs": [
        {
          "output_type": "display_data",
          "data": {
            "text/plain": [
              "<Figure size 432x288 with 1 Axes>"
            ],
            "image/png": "[encoded data removed]"
          },
          "metadata": {
            "needs_background": "light"
          }
        }
      ]
    },
    {
      "cell_type": "markdown",
      "source": [
        "We could see here that loss has gradually decreased and accuracy got improved from initial state however for validation accuracy we could see more fluctuations which can be eliminated by feature engineering or adding more data points."
      ],
      "metadata": {
        "id": "zDXi44L9bb31"
      }
    },
    {
      "cell_type": "markdown",
      "metadata": {
        "id": "DnQqZpodRQax"
      },
      "source": [
        "INFERENCE  SET-UP"
      ]
    },
    {
      "cell_type": "code",
      "execution_count": 66,
      "metadata": {
        "id": "JXDBQAA-DNvd"
      },
      "outputs": [],
      "source": [
        "def evaluate(inputs, encoder, decoder, max_length_inp, max_length_targ):\n",
        "    attention_plot = np.zeros((max_ans_length,max_ques_length ))\n",
        "    sentence = ''\n",
        "    for i in inputs[0]:\n",
        "        if i == 0:\n",
        "            break\n",
        "        sentence = sentence + id2word[i] + ' '\n",
        "    inputs = tf.convert_to_tensor(inputs)\n",
        "    result = ''\n",
        "    hidden = [tf.zeros((1, units))]\n",
        "    enc_out, enc_hidden = encoder(inputs, hidden)\n",
        "    dec_hidden = enc_hidden\n",
        "    dec_input = tf.expand_dims([word2id['<sos>']], 0)\n",
        "    for t in range(max_length_targ): # limit the length of the decoded sequence\n",
        "        predictions, dec_hidden, attention_weights = decoder(dec_input, dec_hidden, enc_out)\n",
        "        attention_weights = tf.reshape(attention_weights, (-1, ))\n",
        "        attention_plot[t] = attention_weights.numpy()\n",
        "        predicted_id = tf.argmax(predictions[0]).numpy()\n",
        "        result += id2word[predicted_id] + ' '\n",
        "        if id2word[predicted_id] == '<eos>':\n",
        "            return result, sentence, attention_plot\n",
        "        dec_input = tf.expand_dims([predicted_id], 0)\n",
        "    return result, sentence, attention_plot"
      ]
    },
    {
      "cell_type": "code",
      "execution_count": 79,
      "metadata": {
        "colab": {
          "base_uri": "https://localhost:8080/"
        },
        "id": "tGP0tfx2Dce8",
        "outputId": "0a742b39-8ff7-4be7-b614-844f315f7ef7"
      },
      "outputs": [
        {
          "output_type": "stream",
          "name": "stdout",
          "text": [
            "Question: is the container free \n",
            "Predicted answer: yes <eos> \n",
            "Actual answer: <sos> yes <eos> \n"
          ]
        }
      ],
      "source": [
        "def predict_random_quesans():\n",
        "    actual_sent = ''\n",
        "    k = np.random.randint(len(encoder_input_test))\n",
        "    random_input = encoder_input_test[k]\n",
        "    random_output = decoder_input_test[k]\n",
        "    random_input = np.expand_dims(random_input,0)\n",
        "    result, sentence, attention_plot = evaluate(random_input, encoder, decoder, max_ques_length, max_ans_length)\n",
        "    print('Question: {}'.format(sentence))\n",
        "    print('Predicted answer: {}'.format(result))\n",
        "    for i in random_output:\n",
        "        if i == 0:\n",
        "            break\n",
        "        actual_sent = actual_sent + id2word[i] + ' '\n",
        "    actual_sent = actual_sent\n",
        "    print('Actual answer: {}'.format(actual_sent))\n",
        "    attention_plot = attention_plot[:len(result.split(' '))-2, 1:len(sentence.split(' '))-1]\n",
        "    sentence, result = sentence.split(' '), result.split(' ')\n",
        "    sentence = sentence[1:-1]\n",
        "    result = result[:-2]\n",
        "    # trace = go.Heatmap(z = attention_plot, x = sentence, y = result, colorscale='Reds')\n",
        "    # data=[trace]\n",
        "    # iplot(data)\n",
        "predict_random_quesans()"
      ]
    },
    {
      "cell_type": "code",
      "execution_count": 73,
      "metadata": {
        "colab": {
          "base_uri": "https://localhost:8080/"
        },
        "id": "3y0xxVgVEFXi",
        "outputId": "8cbbc8d4-928c-48f6-b897-be871a0fc717"
      },
      "outputs": [
        {
          "output_type": "stream",
          "name": "stdout",
          "text": [
            "Question: will this fit a 2008 a frontier 6 bed \n",
            "Predicted answer: yes <eos> \n",
            "Actual answer: <sos> yes <eos> \n"
          ]
        }
      ],
      "source": [
        "predict_random_quesans()"
      ]
    },
    {
      "cell_type": "code",
      "execution_count": 71,
      "metadata": {
        "colab": {
          "base_uri": "https://localhost:8080/"
        },
        "id": "oSdC7clCEUFI",
        "outputId": "b1c38353-0a8e-47da-c86d-b7bbf8e0b046"
      },
      "outputs": [
        {
          "output_type": "stream",
          "name": "stdout",
          "text": [
            "Question: does this order come with a mattress \n",
            "Predicted answer: yes <eos> \n",
            "Actual answer: <sos> nope <eos> \n"
          ]
        }
      ],
      "source": [
        "predict_random_quesans()"
      ]
    },
    {
      "cell_type": "code",
      "execution_count": 80,
      "metadata": {
        "colab": {
          "base_uri": "https://localhost:8080/"
        },
        "id": "UD7Sei50EWS0",
        "outputId": "deadd41e-8fc1-451b-a25b-429438ff2880"
      },
      "outputs": [
        {
          "output_type": "stream",
          "name": "stdout",
          "text": [
            "Question: does have a 3 ply steamer \n",
            "Predicted answer: yes <eos> \n",
            "Actual answer: <sos> yes <eos> \n"
          ]
        }
      ],
      "source": [
        "predict_random_quesans()"
      ]
    },
    {
      "cell_type": "code",
      "source": [
        "predict_random_quesans()"
      ],
      "metadata": {
        "colab": {
          "base_uri": "https://localhost:8080/"
        },
        "id": "Gze9RT50cW_F",
        "outputId": "0e7c81b2-9313-4fe1-fac3-bdeb1e562da2"
      },
      "execution_count": 81,
      "outputs": [
        {
          "output_type": "stream",
          "name": "stdout",
          "text": [
            "Question: what is the diameter of this table \n",
            "Predicted answer: about 4 inches <eos> \n",
            "Actual answer: <sos> 38 inches <eos> \n"
          ]
        }
      ]
    },
    {
      "cell_type": "code",
      "source": [
        "predict_random_quesans()"
      ],
      "metadata": {
        "colab": {
          "base_uri": "https://localhost:8080/"
        },
        "id": "H5xnvkOecZ-L",
        "outputId": "e5b9b81a-7d12-4823-f78c-506f20ae07c5"
      },
      "execution_count": 84,
      "outputs": [
        {
          "output_type": "stream",
          "name": "stdout",
          "text": [
            "Question: how many btus does the unit give off \n",
            "Predicted answer: 2 <eos> \n",
            "Actual answer: <sos> 34 000 btu <eos> \n"
          ]
        }
      ]
    },
    {
      "cell_type": "code",
      "source": [
        "predict_random_quesans()"
      ],
      "metadata": {
        "colab": {
          "base_uri": "https://localhost:8080/"
        },
        "id": "IMGrz9uncfYx",
        "outputId": "078bd6a5-b76e-4dcb-c8d7-ca7d57d01004"
      },
      "execution_count": 85,
      "outputs": [
        {
          "output_type": "stream",
          "name": "stdout",
          "text": [
            "Question: is it ok for d300s \n",
            "Predicted answer: yes <eos> \n",
            "Actual answer: <sos> yes <eos> \n"
          ]
        }
      ]
    },
    {
      "cell_type": "markdown",
      "metadata": {
        "id": "kEsrDO7jnVK_"
      },
      "source": [
        "Performance measurement:"
      ]
    },
    {
      "cell_type": "code",
      "execution_count": 86,
      "metadata": {
        "id": "14MVcbFiHqjC"
      },
      "outputs": [],
      "source": [
        "def predict_corpus(dataset_input,dataset_output):\n",
        "    actual_sent = ''\n",
        "    k = len(dataset_input)\n",
        "    predicted_answer_list=[]\n",
        "    actual_answer_list=[]\n",
        "    for j in tqdm(range(k)):\n",
        "        random_input = dataset_input[j]\n",
        "        random_output = dataset_output[j]\n",
        "        random_input = np.expand_dims(random_input,0)\n",
        "        result, sentence, attention_plot = evaluate(random_input, encoder, decoder, max_ques_length, max_ans_length)\n",
        "        for i in random_output:\n",
        "            if i == 0:\n",
        "               break\n",
        "            actual_sent = actual_sent + id2word[i] + ' '\n",
        "        actual_sent = actual_sent\n",
        "        sentence, result = sentence.split(' '), result.split(' ')\n",
        "        sentence = sentence\n",
        "        result = result\n",
        "        predicted_answer_list.append(result)\n",
        "        actual_answer_list.append(actual_sent)\n",
        "    return predicted_answer_list,actual_answer_list"
      ]
    },
    {
      "cell_type": "code",
      "execution_count": 87,
      "metadata": {
        "colab": {
          "base_uri": "https://localhost:8080/"
        },
        "id": "Yone3Ow7eGm4",
        "outputId": "af1bc908-9538-4b65-a4b8-f2d8a70f50eb"
      },
      "outputs": [
        {
          "output_type": "stream",
          "name": "stderr",
          "text": [
            "100%|██████████| 17983/17983 [11:39<00:00, 25.70it/s]"
          ]
        },
        {
          "output_type": "stream",
          "name": "stdout",
          "text": [
            "CPU times: user 11min 24s, sys: 9.76 s, total: 11min 34s\n",
            "Wall time: 11min 39s\n"
          ]
        },
        {
          "output_type": "stream",
          "name": "stderr",
          "text": [
            "\n"
          ]
        }
      ],
      "source": [
        "%%time\n",
        "predicted_answer_list,actual_answer_list = predict_corpus(encoder_input_test,decoder_input_test)"
      ]
    },
    {
      "cell_type": "code",
      "source": [
        "bleu_score_test = corpus_bleu(predicted_answer_list, actual_answer_list)\n",
        "print(\"Bleu score on test dataset:\",bleu_score_test)"
      ],
      "metadata": {
        "colab": {
          "base_uri": "https://localhost:8080/"
        },
        "id": "PGj3pgdskHKj",
        "outputId": "82ceebe2-2899-411d-c988-4c10fa1c6973"
      },
      "execution_count": 91,
      "outputs": [
        {
          "output_type": "stream",
          "name": "stdout",
          "text": [
            "Bleu score on test dataset: 0.2120112485190492\n"
          ]
        }
      ]
    }
  ],
  "metadata": {
    "colab": {
      "machine_shape": "hm",
      "provenance": []
    },
    "gpuClass": "standard",
    "kernelspec": {
      "display_name": "Python 3",
      "language": "python",
      "name": "python3"
    },
    "language_info": {
      "codemirror_mode": {
        "name": "ipython",
        "version": 3
      },
      "file_extension": ".py",
      "mimetype": "text/x-python",
      "name": "python",
      "nbconvert_exporter": "python",
      "pygments_lexer": "ipython3",
      "version": "3.7.1"
    },
    "accelerator": "GPU"
  },
  "nbformat": 4,
  "nbformat_minor": 0
}