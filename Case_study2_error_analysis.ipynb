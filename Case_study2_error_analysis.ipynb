{
  "metadata": {
    "kernelspec": {
      "language": "python",
      "display_name": "Python 3",
      "name": "python3"
    },
    "language_info": {
      "pygments_lexer": "ipython3",
      "nbconvert_exporter": "python",
      "version": "3.6.4",
      "file_extension": ".py",
      "codemirror_mode": {
        "name": "ipython",
        "version": 3
      },
      "name": "python",
      "mimetype": "text/x-python"
    },
    "colab": {
      "provenance": []
    },
    "gpuClass": "standard",
    "accelerator": "GPU"
  },
  "nbformat_minor": 0,
  "nbformat": 4,
  "cells": [
    {
      "cell_type": "code",
      "source": [
        "from google.colab import drive\n",
        "drive.mount('/content/drive')"
      ],
      "metadata": {
        "id": "DaQ6fJupzHKm",
        "outputId": "01765dde-717b-41c3-bd9b-1e91bacf378b",
        "colab": {
          "base_uri": "https://localhost:8080/"
        }
      },
      "execution_count": null,
      "outputs": [
        {
          "output_type": "stream",
          "name": "stdout",
          "text": [
            "Mounted at /content/drive\n"
          ]
        }
      ]
    },
    {
      "cell_type": "code",
      "source": [
        "!wget https://www.dropbox.com/s/ddkmtqz01jc024u/glove.6B.100d.txt"
      ],
      "metadata": {
        "colab": {
          "base_uri": "https://localhost:8080/"
        },
        "id": "JtHhLrKpyvvP",
        "outputId": "54cbea03-3c8d-493b-89bf-91d0e13b3373"
      },
      "execution_count": null,
      "outputs": [
        {
          "output_type": "stream",
          "name": "stdout",
          "text": [
            "--2023-03-22 05:50:22--  https://www.dropbox.com/s/ddkmtqz01jc024u/glove.6B.100d.txt\n",
            "Resolving www.dropbox.com (www.dropbox.com)... 162.125.1.18, 2620:100:6016:18::a27d:112\n",
            "Connecting to www.dropbox.com (www.dropbox.com)|162.125.1.18|:443... connected.\n",
            "HTTP request sent, awaiting response... 302 Found\n",
            "Location: /s/raw/ddkmtqz01jc024u/glove.6B.100d.txt [following]\n",
            "--2023-03-22 05:50:23--  https://www.dropbox.com/s/raw/ddkmtqz01jc024u/glove.6B.100d.txt\n",
            "Reusing existing connection to www.dropbox.com:443.\n",
            "HTTP request sent, awaiting response... 302 Found\n",
            "Location: https://uc85606899ade1dd9b0e5f512172.dl.dropboxusercontent.com/cd/0/inline/B4vZa-6A3X0gxrDVWCumRv7cEmKlZHKdW4GUGuEB_yg2v1m-tlqcB1_RrM2nOkHhHE-PQplxPj4KrfhYAAiZpVdLtRfgrmnqpQxdqL90RrxTuyTm5D9OZ0PS_0R7KqMu7seuUoWLS1KyRTV5D1gXQZojmYU1FIM7_O_fyDd0q7vGFQ/file# [following]\n",
            "--2023-03-22 05:50:23--  https://uc85606899ade1dd9b0e5f512172.dl.dropboxusercontent.com/cd/0/inline/B4vZa-6A3X0gxrDVWCumRv7cEmKlZHKdW4GUGuEB_yg2v1m-tlqcB1_RrM2nOkHhHE-PQplxPj4KrfhYAAiZpVdLtRfgrmnqpQxdqL90RrxTuyTm5D9OZ0PS_0R7KqMu7seuUoWLS1KyRTV5D1gXQZojmYU1FIM7_O_fyDd0q7vGFQ/file\n",
            "Resolving uc85606899ade1dd9b0e5f512172.dl.dropboxusercontent.com (uc85606899ade1dd9b0e5f512172.dl.dropboxusercontent.com)... 162.125.1.15, 2620:100:6016:15::a27d:10f\n",
            "Connecting to uc85606899ade1dd9b0e5f512172.dl.dropboxusercontent.com (uc85606899ade1dd9b0e5f512172.dl.dropboxusercontent.com)|162.125.1.15|:443... connected.\n",
            "HTTP request sent, awaiting response... 200 OK\n",
            "Length: 347116733 (331M) [text/plain]\n",
            "Saving to: ‘glove.6B.100d.txt.1’\n",
            "\n",
            "glove.6B.100d.txt.1 100%[===================>] 331.04M  38.7MB/s    in 8.9s    \n",
            "\n",
            "2023-03-22 05:50:33 (37.3 MB/s) - ‘glove.6B.100d.txt.1’ saved [347116733/347116733]\n",
            "\n"
          ]
        }
      ]
    },
    {
      "cell_type": "markdown",
      "source": [
        "<font color='blue'>**Load the data**</font>"
      ],
      "metadata": {
        "id": "3k_AlAuKJqVA"
      }
    },
    {
      "cell_type": "code",
      "source": [
        "import matplotlib.pyplot as plt\n",
        "import matplotlib.ticker as ticker\n",
        "%matplotlib inline\n",
        "# import seaborn as sns\n",
        "import pandas as pd\n",
        "import re\n",
        "from tqdm.auto import tqdm\n",
        "import tensorflow as tf\n",
        "from tensorflow.keras.layers import Embedding, LSTM, Dense\n",
        "from tensorflow.keras.models import Model\n",
        "from tensorflow.keras.preprocessing.text import Tokenizer\n",
        "from tensorflow.keras.preprocessing.sequence import pad_sequences\n",
        "from tensorflow.keras.callbacks import TensorBoard\n",
        "import numpy as np\n",
        "import joblib\n",
        "import warnings\n",
        "warnings.filterwarnings('ignore')"
      ],
      "metadata": {
        "id": "fU80Ao-AGaob"
      },
      "execution_count": null,
      "outputs": []
    },
    {
      "cell_type": "code",
      "source": [
        "import os\n",
        "import pandas as pd\n",
        "import numpy as np\n",
        "import nltk\n",
        "import string\n",
        "import time\n",
        "import re\n",
        "import gzip\n",
        "import matplotlib.pyplot as plt\n",
        "import seaborn as sns\n",
        "from tqdm import tqdm\n",
        "import datetime\n",
        "import pickle\n",
        "from scipy.stats import randint as sp_randint\n",
        "from scipy.stats import uniform\n",
        "import plotly.graph_objs as go\n",
        "from plotly.offline import init_notebook_mode, iplot\n",
        "import json\n",
        "import warnings\n",
        "warnings.filterwarnings('ignore')\n",
        "import tensorflow as tf\n",
        "tf.keras.backend.clear_session()\n",
        "from sklearn.model_selection import train_test_split\n",
        "from tensorflow.keras.layers import Dense,concatenate,Activation,Dropout,Input\n",
        "from tensorflow.keras.models import Model\n",
        "import keras\n",
        "import keras.utils\n",
        "from tensorflow.keras import utils as np_utils\n",
        "from tensorflow.keras import models\n",
        "from tensorflow.keras.models import load_model\n",
        "from tensorflow.keras.preprocessing.text import Tokenizer, one_hot\n",
        "from tensorflow.keras.preprocessing.sequence import pad_sequences\n",
        "from tensorflow.keras.layers import Input, Embedding, LSTM, Dropout, BatchNormalization, Dense, concatenate\n",
        "from tensorflow.keras import regularizers\n",
        "from tensorflow.keras.callbacks import ModelCheckpoint, EarlyStopping, TensorBoard, ReduceLROnPlateau\n",
        "from keras.utils import plot_model\n",
        "from IPython.display import Image\n",
        "from nltk.translate.bleu_score import corpus_bleu\n",
        "from nltk.translate.bleu_score import sentence_bleu\n",
        "from prettytable import PrettyTable"
      ],
      "metadata": {
        "id": "vAx-_l4YFxNd"
      },
      "execution_count": null,
      "outputs": []
    },
    {
      "cell_type": "code",
      "source": [
        "# with open('ita.txt', 'r', encoding=\"utf8\") as f:\n",
        "#     eng=[]\n",
        "#     ita=[]\n",
        "#     for i in f.readlines():\n",
        "#         eng.append(i.split(\"\\t\")[0])\n",
        "#         ita.append(i.split(\"\\t\")[1])\n",
        "# data = pd.DataFrame(data=list(zip(eng, ita)), columns=['english','italian'])\n",
        "# print(data.shape)\n",
        "# data.head()"
      ],
      "metadata": {
        "id": "yhYLW7Pnz7_V"
      },
      "execution_count": null,
      "outputs": []
    },
    {
      "cell_type": "code",
      "source": [
        "#http://jmcauley.ucsd.edu/data/amazon/qa/\n",
        "\n",
        "def parse(path):\n",
        "     g = gzip.open(path, 'rb')\n",
        "     for l in g:\n",
        "         yield eval(l)\n",
        "\n",
        "def getDF(path):\n",
        "     i = 0\n",
        "     df = {}\n",
        "     for d in parse(path):\n",
        "         df[i] = d\n",
        "         i += 1\n",
        "     return pd.DataFrame.from_dict(df, orient='index')"
      ],
      "metadata": {
        "id": "bcXvnBL8GlCB"
      },
      "execution_count": null,
      "outputs": []
    },
    {
      "cell_type": "code",
      "source": [
        "%%time\n",
        "DF1 = getDF('/content/sample_data/qa_Automotive.json.gz')\n",
        "DF2 = getDF('/content/sample_data/qa_Baby.json.gz')\n",
        "DF3 = getDF('/content/sample_data/qa_Beauty.json.gz')\n",
        "DF4 = getDF('/content/sample_data/qa_Cell_Phones_and_Accessories.json.gz')\n",
        "DF5 = getDF('/content/sample_data/qa_Clothing_Shoes_and_Jewelry.json.gz')\n",
        "DF6 = getDF('/content/sample_data/qa_Electronics.json.gz')\n",
        "DF7 = getDF('/content/sample_data/qa_Grocery_and_Gourmet_Food.json.gz')\n",
        "DF8 = getDF('/content/sample_data/qa_Health_and_Personal_Care.json.gz')\n",
        "DF9 = getDF('/content/sample_data/qa_Home_and_Kitchen.json.gz')\n",
        "DF10 = getDF('/content/sample_data/qa_Musical_Instruments.json.gz')\n",
        "DF11 = getDF('/content/sample_data/qa_Office_Products.json.gz')\n",
        "DF12 = getDF('/content/sample_data/qa_Patio_Lawn_and_Garden.json.gz')\n",
        "DF13 = getDF('/content/sample_data/qa_Pet_Supplies.json.gz')\n",
        "DF14 = getDF('/content/sample_data/qa_Sports_and_Outdoors.json.gz')\n",
        "DF15 = getDF('/content/sample_data/qa_Tools_and_Home_Improvement.json.gz')\n",
        "DF16 = getDF('/content/sample_data/qa_Video_Games.json.gz')\n",
        "DF17 = getDF('/content/sample_data/qa_Toys_and_Games.json.gz')\n",
        "\n",
        "DF = pd.concat([DF1,DF2,DF3,DF4,DF5,DF6,DF7,DF8,DF9,DF10,DF11,DF12,DF13,DF14,DF15,DF16,DF17],\n",
        "               sort=False,axis=0)\n",
        "DF"
      ],
      "metadata": {
        "id": "Pgh4z4p1Fjhi"
      },
      "execution_count": null,
      "outputs": []
    },
    {
      "cell_type": "code",
      "source": [
        "DF.rename(columns = {'question':'questionText'}, inplace = True)\n",
        "DF.rename(columns = {'answer':'answerText'}, inplace = True)"
      ],
      "metadata": {
        "id": "QRILC_2oFpXn"
      },
      "execution_count": null,
      "outputs": []
    },
    {
      "cell_type": "code",
      "source": [
        "data = DF[['questionText','answerText']]"
      ],
      "metadata": {
        "id": "kmMPjNP6FpzX"
      },
      "execution_count": null,
      "outputs": []
    },
    {
      "cell_type": "code",
      "source": [
        "data.shape"
      ],
      "metadata": {
        "colab": {
          "base_uri": "https://localhost:8080/"
        },
        "id": "wre5fTyeFs6-",
        "outputId": "17883c7f-429e-463c-b259-e0e898b964a1"
      },
      "execution_count": null,
      "outputs": [
        {
          "output_type": "execute_result",
          "data": {
            "text/plain": [
              "(1343851, 2)"
            ]
          },
          "metadata": {},
          "execution_count": 12
        }
      ]
    },
    {
      "cell_type": "code",
      "source": [
        "data = pd.concat([data]*2)\n",
        "print(data.shape)"
      ],
      "metadata": {
        "colab": {
          "base_uri": "https://localhost:8080/"
        },
        "id": "oHkKiaNk7l5F",
        "outputId": "2c93e9c7-d7b4-43c9-9111-9b908715fa84"
      },
      "execution_count": null,
      "outputs": [
        {
          "output_type": "stream",
          "name": "stdout",
          "text": [
            "(2687702, 2)\n"
          ]
        }
      ]
    },
    {
      "cell_type": "markdown",
      "source": [
        "## <font color='blue'>**Preprocess data**</font>"
      ],
      "metadata": {
        "id": "vmGWTdRmKRph"
      }
    },
    {
      "cell_type": "code",
      "source": [
        "def decontractions(phrase):\n",
        "     #Reference: https://stackoverflow.com/questions/19790188/expanding-english-language-contractions-in-python/47091490#47091490\"\"\"\n",
        "    # specific\n",
        "    phrase = re.sub(r\"won\\'t\", \"will not\", phrase)\n",
        "    phrase = re.sub(r\"can\\'t\", \"can not\", phrase)\n",
        "    phrase = re.sub(r\"won\\’t\", \"will not\", phrase)\n",
        "    phrase = re.sub(r\"can\\’t\", \"can not\", phrase)\n",
        "\n",
        "    # general\n",
        "    phrase = re.sub(r\"n\\'t\", \" not\", phrase)\n",
        "    phrase = re.sub(r\"\\'re\", \" are\", phrase)\n",
        "    phrase = re.sub(r\"\\'s\", \" is\", phrase)\n",
        "    phrase = re.sub(r\"\\'d\", \" would\", phrase)\n",
        "    phrase = re.sub(r\"\\'ll\", \" will\", phrase)\n",
        "    phrase = re.sub(r\"\\'t\", \" not\", phrase)\n",
        "    phrase = re.sub(r\"\\'ve\", \" have\", phrase)\n",
        "    phrase = re.sub(r\"\\'m\", \" am\", phrase)\n",
        "\n",
        "    phrase = re.sub(r\"n\\’t\", \" not\", phrase)\n",
        "    phrase = re.sub(r\"\\’re\", \" are\", phrase)\n",
        "    phrase = re.sub(r\"\\’s\", \" is\", phrase)\n",
        "    phrase = re.sub(r\"\\’d\", \" would\", phrase)\n",
        "    phrase = re.sub(r\"\\’ll\", \" will\", phrase)\n",
        "    phrase = re.sub(r\"\\’t\", \" not\", phrase)\n",
        "    phrase = re.sub(r\"\\’ve\", \" have\", phrase)\n",
        "    phrase = re.sub(r\"\\’m\", \" am\", phrase)\n",
        "    return phrase\n",
        "\n",
        "def preprocess(text):\n",
        "    # https://gist.github.com/anandborad/d410a49a493b56dace4f814ab5325bbd\n",
        "    text = text.lower()\n",
        "    text = decontractions(text)\n",
        "    text = re.sub('[^A-Za-z0-9 ]+', '', text)\n",
        "    return text\n",
        "\n",
        "def preprocess_ita(text):\n",
        "    text = text.lower()\n",
        "    text = decontractions(text)\n",
        "    text = re.sub('[$)\\?\"’.°!;\\'€%:,(/]', '', text)\n",
        "    text = re.sub('\\u200b', ' ', text)\n",
        "    text = re.sub('\\xa0', ' ', text)\n",
        "    text = re.sub('-', ' ', text)\n",
        "    return text\n",
        "\n",
        "\n",
        "data['questionText'] = data['questionText'].apply(preprocess)\n",
        "data['answerText'] = data['answerText'].apply(preprocess_ita)\n",
        "data.head()"
      ],
      "metadata": {
        "id": "9QqElB_nKZos",
        "colab": {
          "base_uri": "https://localhost:8080/",
          "height": 206
        },
        "outputId": "139961a1-edc2-471b-8fd0-52d427c69812"
      },
      "execution_count": null,
      "outputs": [
        {
          "output_type": "execute_result",
          "data": {
            "text/plain": [
              "                                        questionText  \\\n",
              "0              what is the most useful length to get   \n",
              "1        are these cables made of copper or aluminum   \n",
              "2  i bought the red extra heavy duty is that too ...   \n",
              "3             hi being 20ft 4gauge how heavy is this   \n",
              "4                    do these cables come with a bag   \n",
              "\n",
              "                                          answerText  \n",
              "0  at least 20 feetheres whysay you have to pull ...  \n",
              "1  coleman is website does indeed say copper equi...  \n",
              "2  for jumper cables you can never have too much ...  \n",
              "3  not nearly heavy enough i keep them under my b...  \n",
              "4                                                 no  "
            ],
            "text/html": [
              "\n",
              "  <div id=\"df-98b056e2-678c-4afe-bc5e-7841aef36062\">\n",
              "    <div class=\"colab-df-container\">\n",
              "      <div>\n",
              "<style scoped>\n",
              "    .dataframe tbody tr th:only-of-type {\n",
              "        vertical-align: middle;\n",
              "    }\n",
              "\n",
              "    .dataframe tbody tr th {\n",
              "        vertical-align: top;\n",
              "    }\n",
              "\n",
              "    .dataframe thead th {\n",
              "        text-align: right;\n",
              "    }\n",
              "</style>\n",
              "<table border=\"1\" class=\"dataframe\">\n",
              "  <thead>\n",
              "    <tr style=\"text-align: right;\">\n",
              "      <th></th>\n",
              "      <th>questionText</th>\n",
              "      <th>answerText</th>\n",
              "    </tr>\n",
              "  </thead>\n",
              "  <tbody>\n",
              "    <tr>\n",
              "      <th>0</th>\n",
              "      <td>what is the most useful length to get</td>\n",
              "      <td>at least 20 feetheres whysay you have to pull ...</td>\n",
              "    </tr>\n",
              "    <tr>\n",
              "      <th>1</th>\n",
              "      <td>are these cables made of copper or aluminum</td>\n",
              "      <td>coleman is website does indeed say copper equi...</td>\n",
              "    </tr>\n",
              "    <tr>\n",
              "      <th>2</th>\n",
              "      <td>i bought the red extra heavy duty is that too ...</td>\n",
              "      <td>for jumper cables you can never have too much ...</td>\n",
              "    </tr>\n",
              "    <tr>\n",
              "      <th>3</th>\n",
              "      <td>hi being 20ft 4gauge how heavy is this</td>\n",
              "      <td>not nearly heavy enough i keep them under my b...</td>\n",
              "    </tr>\n",
              "    <tr>\n",
              "      <th>4</th>\n",
              "      <td>do these cables come with a bag</td>\n",
              "      <td>no</td>\n",
              "    </tr>\n",
              "  </tbody>\n",
              "</table>\n",
              "</div>\n",
              "      <button class=\"colab-df-convert\" onclick=\"convertToInteractive('df-98b056e2-678c-4afe-bc5e-7841aef36062')\"\n",
              "              title=\"Convert this dataframe to an interactive table.\"\n",
              "              style=\"display:none;\">\n",
              "        \n",
              "  <svg xmlns=\"http://www.w3.org/2000/svg\" height=\"24px\"viewBox=\"0 0 24 24\"\n",
              "       width=\"24px\">\n",
              "    <path d=\"M0 0h24v24H0V0z\" fill=\"none\"/>\n",
              "    <path d=\"M18.56 5.44l.94 2.06.94-2.06 2.06-.94-2.06-.94-.94-2.06-.94 2.06-2.06.94zm-11 1L8.5 8.5l.94-2.06 2.06-.94-2.06-.94L8.5 2.5l-.94 2.06-2.06.94zm10 10l.94 2.06.94-2.06 2.06-.94-2.06-.94-.94-2.06-.94 2.06-2.06.94z\"/><path d=\"M17.41 7.96l-1.37-1.37c-.4-.4-.92-.59-1.43-.59-.52 0-1.04.2-1.43.59L10.3 9.45l-7.72 7.72c-.78.78-.78 2.05 0 2.83L4 21.41c.39.39.9.59 1.41.59.51 0 1.02-.2 1.41-.59l7.78-7.78 2.81-2.81c.8-.78.8-2.07 0-2.86zM5.41 20L4 18.59l7.72-7.72 1.47 1.35L5.41 20z\"/>\n",
              "  </svg>\n",
              "      </button>\n",
              "      \n",
              "  <style>\n",
              "    .colab-df-container {\n",
              "      display:flex;\n",
              "      flex-wrap:wrap;\n",
              "      gap: 12px;\n",
              "    }\n",
              "\n",
              "    .colab-df-convert {\n",
              "      background-color: #E8F0FE;\n",
              "      border: none;\n",
              "      border-radius: 50%;\n",
              "      cursor: pointer;\n",
              "      display: none;\n",
              "      fill: #1967D2;\n",
              "      height: 32px;\n",
              "      padding: 0 0 0 0;\n",
              "      width: 32px;\n",
              "    }\n",
              "\n",
              "    .colab-df-convert:hover {\n",
              "      background-color: #E2EBFA;\n",
              "      box-shadow: 0px 1px 2px rgba(60, 64, 67, 0.3), 0px 1px 3px 1px rgba(60, 64, 67, 0.15);\n",
              "      fill: #174EA6;\n",
              "    }\n",
              "\n",
              "    [theme=dark] .colab-df-convert {\n",
              "      background-color: #3B4455;\n",
              "      fill: #D2E3FC;\n",
              "    }\n",
              "\n",
              "    [theme=dark] .colab-df-convert:hover {\n",
              "      background-color: #434B5C;\n",
              "      box-shadow: 0px 1px 3px 1px rgba(0, 0, 0, 0.15);\n",
              "      filter: drop-shadow(0px 1px 2px rgba(0, 0, 0, 0.3));\n",
              "      fill: #FFFFFF;\n",
              "    }\n",
              "  </style>\n",
              "\n",
              "      <script>\n",
              "        const buttonEl =\n",
              "          document.querySelector('#df-98b056e2-678c-4afe-bc5e-7841aef36062 button.colab-df-convert');\n",
              "        buttonEl.style.display =\n",
              "          google.colab.kernel.accessAllowed ? 'block' : 'none';\n",
              "\n",
              "        async function convertToInteractive(key) {\n",
              "          const element = document.querySelector('#df-98b056e2-678c-4afe-bc5e-7841aef36062');\n",
              "          const dataTable =\n",
              "            await google.colab.kernel.invokeFunction('convertToInteractive',\n",
              "                                                     [key], {});\n",
              "          if (!dataTable) return;\n",
              "\n",
              "          const docLinkHtml = 'Like what you see? Visit the ' +\n",
              "            '<a target=\"_blank\" href=https://colab.research.google.com/notebooks/data_table.ipynb>data table notebook</a>'\n",
              "            + ' to learn more about interactive tables.';\n",
              "          element.innerHTML = '';\n",
              "          dataTable['output_type'] = 'display_data';\n",
              "          await google.colab.output.renderOutput(dataTable, element);\n",
              "          const docLink = document.createElement('div');\n",
              "          docLink.innerHTML = docLinkHtml;\n",
              "          element.appendChild(docLink);\n",
              "        }\n",
              "      </script>\n",
              "    </div>\n",
              "  </div>\n",
              "  "
            ]
          },
          "metadata": {},
          "execution_count": 14
        }
      ]
    },
    {
      "cell_type": "code",
      "source": [
        "que_lengths = data['questionText'].str.split().apply(len)\n",
        "ans_lengths = data['answerText'].str.split().apply(len)"
      ],
      "metadata": {
        "id": "dJ5KIHU8GhWq"
      },
      "execution_count": null,
      "outputs": []
    },
    {
      "cell_type": "markdown",
      "source": [
        "If you observe the values, 99.9% of the data points are having length < 22 for Italian sentences and length < 25 for English sentences , so select the sentences that have words < 22 and < 25 respectively.\n",
        "\n",
        "Inorder to do the teacher forcing while training of seq-seq models, lets create two new columns, one with token at begining of the sentence and other column with token at the end of the sequence"
      ],
      "metadata": {
        "id": "cYlzMbfGzCNv"
      }
    },
    {
      "cell_type": "code",
      "source": [
        "data['que_len'] = data['questionText'].str.split().apply(len)\n",
        "data = data[data['que_len'] <= 11]\n",
        "\n",
        "data['ans_len'] = data['answerText'].str.split().apply(len)\n",
        "data = data[data['ans_len'] <= 3]\n",
        "\n",
        "data['ans_inp'] = '<start> ' + data['answerText'].astype(str)\n",
        "data['ans_out'] = data['answerText'].astype(str) + ' <end>'\n",
        "\n",
        "data = data.drop(['answerText','que_len','ans_len'], axis=1)\n",
        "# only for the first sentance add a toke <end> so that we will have <end> in tokenizer\n",
        "data.head()"
      ],
      "metadata": {
        "id": "fqmID6qAzIdD"
      },
      "execution_count": null,
      "outputs": []
    },
    {
      "cell_type": "markdown",
      "source": [
        "Inorder to do the teacher forcing while training of seq-seq models, lets create two new columns, one with <start> token at begining of the sentence and other column with <end> token at the end of the sequence"
      ],
      "metadata": {
        "id": "xfVs-IUI-W1G"
      }
    },
    {
      "cell_type": "markdown",
      "source": [
        "## Train-Test Split"
      ],
      "metadata": {
        "id": "6hAAMQSYLyIr"
      }
    },
    {
      "cell_type": "code",
      "source": [
        "from sklearn.model_selection import train_test_split\n",
        "train, validation = train_test_split(data, test_size=0.2,random_state=9)"
      ],
      "metadata": {
        "id": "Vz_y-_3VLxe2"
      },
      "execution_count": null,
      "outputs": []
    },
    {
      "cell_type": "code",
      "source": [
        "print(train.shape,validation.shape)"
      ],
      "metadata": {
        "id": "VhVCLyEVOdVs",
        "outputId": "322e9f15-273b-4c64-95a7-a353d07946df",
        "colab": {
          "base_uri": "https://localhost:8080/"
        }
      },
      "execution_count": null,
      "outputs": [
        {
          "output_type": "stream",
          "name": "stdout",
          "text": [
            "(159316, 3) (39830, 3)\n"
          ]
        }
      ]
    },
    {
      "cell_type": "code",
      "source": [
        "train.iloc[0]"
      ],
      "metadata": {
        "id": "x1ThRXQFPHJx",
        "outputId": "19d771a5-11f9-46a0-c5ca-64f8e8c4b31f",
        "colab": {
          "base_uri": "https://localhost:8080/"
        }
      },
      "execution_count": null,
      "outputs": [
        {
          "output_type": "execute_result",
          "data": {
            "text/plain": [
              "questionText    can you use a remote to change channels\n",
              "ans_inp                                      <start> no\n",
              "ans_out                                        no <end>\n",
              "Name: 134164, dtype: object"
            ]
          },
          "metadata": {},
          "execution_count": 22
        }
      ]
    },
    {
      "cell_type": "code",
      "source": [
        "import joblib\n",
        "joblib.dump((train,validation),'/content/sample_data/train_test.pkl')"
      ],
      "metadata": {
        "id": "XrxcRUsF0Utd",
        "colab": {
          "base_uri": "https://localhost:8080/"
        },
        "outputId": "b76e8a19-6603-4371-c8ff-e65d4861213c"
      },
      "execution_count": null,
      "outputs": [
        {
          "output_type": "execute_result",
          "data": {
            "text/plain": [
              "['/content/sample_data/train_test.pkl']"
            ]
          },
          "metadata": {},
          "execution_count": 23
        }
      ]
    },
    {
      "cell_type": "code",
      "source": [
        "train,validation = joblib.load('/content/sample_data/train_test.pkl')"
      ],
      "metadata": {
        "id": "vkHpGo5p5c3g"
      },
      "execution_count": null,
      "outputs": []
    },
    {
      "cell_type": "code",
      "source": [
        "print(train.shape, validation.shape)\n",
        "# for one sentence we will be adding <end> token so that the tokanizer learns the word <end>\n",
        "# with this we can use only one tokenizer for both encoder output and decoder output\n",
        "train.iloc[0]['ans_inp']= str(train.iloc[0]['ans_inp'])+' <end>'\n",
        "train.iloc[0]['ans_out']= str(train.iloc[0]['ans_out'])+' <end>'"
      ],
      "metadata": {
        "id": "Sd2dZNb1OEQm",
        "colab": {
          "base_uri": "https://localhost:8080/"
        },
        "outputId": "191209b7-187f-4842-b015-4345ebcbff6c"
      },
      "execution_count": null,
      "outputs": [
        {
          "output_type": "stream",
          "name": "stdout",
          "text": [
            "(159316, 3) (39830, 3)\n"
          ]
        }
      ]
    },
    {
      "cell_type": "code",
      "source": [
        "validation.head(2)"
      ],
      "metadata": {
        "id": "ZMVIH-HNjAxi",
        "outputId": "afbc95ea-c430-498f-885c-f211958d5eb3",
        "colab": {
          "base_uri": "https://localhost:8080/",
          "height": 112
        }
      },
      "execution_count": null,
      "outputs": [
        {
          "output_type": "execute_result",
          "data": {
            "text/plain": [
              "                                      questionText             ans_inp  \\\n",
              "81295   does this case include a snap on belt clip  <start> yes it did   \n",
              "123274    does this computer work well with gaming         <start> yes   \n",
              "\n",
              "                 ans_out  \n",
              "81295   yes it did <end>  \n",
              "123274         yes <end>  "
            ],
            "text/html": [
              "\n",
              "  <div id=\"df-ce93b44c-1579-48ac-96f3-59d1da434ba6\">\n",
              "    <div class=\"colab-df-container\">\n",
              "      <div>\n",
              "<style scoped>\n",
              "    .dataframe tbody tr th:only-of-type {\n",
              "        vertical-align: middle;\n",
              "    }\n",
              "\n",
              "    .dataframe tbody tr th {\n",
              "        vertical-align: top;\n",
              "    }\n",
              "\n",
              "    .dataframe thead th {\n",
              "        text-align: right;\n",
              "    }\n",
              "</style>\n",
              "<table border=\"1\" class=\"dataframe\">\n",
              "  <thead>\n",
              "    <tr style=\"text-align: right;\">\n",
              "      <th></th>\n",
              "      <th>questionText</th>\n",
              "      <th>ans_inp</th>\n",
              "      <th>ans_out</th>\n",
              "    </tr>\n",
              "  </thead>\n",
              "  <tbody>\n",
              "    <tr>\n",
              "      <th>81295</th>\n",
              "      <td>does this case include a snap on belt clip</td>\n",
              "      <td>&lt;start&gt; yes it did</td>\n",
              "      <td>yes it did &lt;end&gt;</td>\n",
              "    </tr>\n",
              "    <tr>\n",
              "      <th>123274</th>\n",
              "      <td>does this computer work well with gaming</td>\n",
              "      <td>&lt;start&gt; yes</td>\n",
              "      <td>yes &lt;end&gt;</td>\n",
              "    </tr>\n",
              "  </tbody>\n",
              "</table>\n",
              "</div>\n",
              "      <button class=\"colab-df-convert\" onclick=\"convertToInteractive('df-ce93b44c-1579-48ac-96f3-59d1da434ba6')\"\n",
              "              title=\"Convert this dataframe to an interactive table.\"\n",
              "              style=\"display:none;\">\n",
              "        \n",
              "  <svg xmlns=\"http://www.w3.org/2000/svg\" height=\"24px\"viewBox=\"0 0 24 24\"\n",
              "       width=\"24px\">\n",
              "    <path d=\"M0 0h24v24H0V0z\" fill=\"none\"/>\n",
              "    <path d=\"M18.56 5.44l.94 2.06.94-2.06 2.06-.94-2.06-.94-.94-2.06-.94 2.06-2.06.94zm-11 1L8.5 8.5l.94-2.06 2.06-.94-2.06-.94L8.5 2.5l-.94 2.06-2.06.94zm10 10l.94 2.06.94-2.06 2.06-.94-2.06-.94-.94-2.06-.94 2.06-2.06.94z\"/><path d=\"M17.41 7.96l-1.37-1.37c-.4-.4-.92-.59-1.43-.59-.52 0-1.04.2-1.43.59L10.3 9.45l-7.72 7.72c-.78.78-.78 2.05 0 2.83L4 21.41c.39.39.9.59 1.41.59.51 0 1.02-.2 1.41-.59l7.78-7.78 2.81-2.81c.8-.78.8-2.07 0-2.86zM5.41 20L4 18.59l7.72-7.72 1.47 1.35L5.41 20z\"/>\n",
              "  </svg>\n",
              "      </button>\n",
              "      \n",
              "  <style>\n",
              "    .colab-df-container {\n",
              "      display:flex;\n",
              "      flex-wrap:wrap;\n",
              "      gap: 12px;\n",
              "    }\n",
              "\n",
              "    .colab-df-convert {\n",
              "      background-color: #E8F0FE;\n",
              "      border: none;\n",
              "      border-radius: 50%;\n",
              "      cursor: pointer;\n",
              "      display: none;\n",
              "      fill: #1967D2;\n",
              "      height: 32px;\n",
              "      padding: 0 0 0 0;\n",
              "      width: 32px;\n",
              "    }\n",
              "\n",
              "    .colab-df-convert:hover {\n",
              "      background-color: #E2EBFA;\n",
              "      box-shadow: 0px 1px 2px rgba(60, 64, 67, 0.3), 0px 1px 3px 1px rgba(60, 64, 67, 0.15);\n",
              "      fill: #174EA6;\n",
              "    }\n",
              "\n",
              "    [theme=dark] .colab-df-convert {\n",
              "      background-color: #3B4455;\n",
              "      fill: #D2E3FC;\n",
              "    }\n",
              "\n",
              "    [theme=dark] .colab-df-convert:hover {\n",
              "      background-color: #434B5C;\n",
              "      box-shadow: 0px 1px 3px 1px rgba(0, 0, 0, 0.15);\n",
              "      filter: drop-shadow(0px 1px 2px rgba(0, 0, 0, 0.3));\n",
              "      fill: #FFFFFF;\n",
              "    }\n",
              "  </style>\n",
              "\n",
              "      <script>\n",
              "        const buttonEl =\n",
              "          document.querySelector('#df-ce93b44c-1579-48ac-96f3-59d1da434ba6 button.colab-df-convert');\n",
              "        buttonEl.style.display =\n",
              "          google.colab.kernel.accessAllowed ? 'block' : 'none';\n",
              "\n",
              "        async function convertToInteractive(key) {\n",
              "          const element = document.querySelector('#df-ce93b44c-1579-48ac-96f3-59d1da434ba6');\n",
              "          const dataTable =\n",
              "            await google.colab.kernel.invokeFunction('convertToInteractive',\n",
              "                                                     [key], {});\n",
              "          if (!dataTable) return;\n",
              "\n",
              "          const docLinkHtml = 'Like what you see? Visit the ' +\n",
              "            '<a target=\"_blank\" href=https://colab.research.google.com/notebooks/data_table.ipynb>data table notebook</a>'\n",
              "            + ' to learn more about interactive tables.';\n",
              "          element.innerHTML = '';\n",
              "          dataTable['output_type'] = 'display_data';\n",
              "          await google.colab.output.renderOutput(dataTable, element);\n",
              "          const docLink = document.createElement('div');\n",
              "          docLink.innerHTML = docLinkHtml;\n",
              "          element.appendChild(docLink);\n",
              "        }\n",
              "      </script>\n",
              "    </div>\n",
              "  </div>\n",
              "  "
            ]
          },
          "metadata": {},
          "execution_count": 27
        }
      ]
    },
    {
      "cell_type": "markdown",
      "source": [
        "## Creating Tokenizer on the train data and learning vocabulary\n",
        "Note that we are fitting the tokenizer only on train data and check the filters for english, we need to remove symbols except < and >"
      ],
      "metadata": {
        "id": "eyt7GH4ALcnq"
      }
    },
    {
      "cell_type": "code",
      "source": [
        "tknizer_ita = Tokenizer()\n",
        "tknizer_ita.fit_on_texts(train['questionText'].values)\n",
        "tknizer_eng = Tokenizer(filters='!\"#$%&()*+,-./:;=?@[\\\\]^_`{|}~\\t\\n')\n",
        "tknizer_eng.fit_on_texts(train['ans_inp'].values)"
      ],
      "metadata": {
        "id": "_X3AbZsbLXlj"
      },
      "execution_count": null,
      "outputs": []
    },
    {
      "cell_type": "code",
      "source": [
        "joblib.dump((tknizer_ita,tknizer_eng),'/content/sample_data/tokenizer.pkl')"
      ],
      "metadata": {
        "id": "CV1Y2Tw-6LdV",
        "colab": {
          "base_uri": "https://localhost:8080/"
        },
        "outputId": "9b61dde5-5e53-413e-eae7-5ee656833c83"
      },
      "execution_count": null,
      "outputs": [
        {
          "output_type": "execute_result",
          "data": {
            "text/plain": [
              "['/content/sample_data/tokenizer.pkl']"
            ]
          },
          "metadata": {},
          "execution_count": 30
        }
      ]
    },
    {
      "cell_type": "code",
      "source": [
        "tknizer_ita,tknizer_eng = joblib.load('/content/sample_data/tokenizer.pkl')"
      ],
      "metadata": {
        "id": "gvHVl_isEEII"
      },
      "execution_count": null,
      "outputs": []
    },
    {
      "cell_type": "code",
      "source": [
        "vocab_size_ans=len(tknizer_eng.word_index.keys())\n",
        "print(vocab_size_ans)\n",
        "vocab_size_que=len(tknizer_ita.word_index.keys())\n",
        "print(vocab_size_que)"
      ],
      "metadata": {
        "colab": {
          "base_uri": "https://localhost:8080/"
        },
        "id": "8eVIx3MLziL-",
        "outputId": "2a71695f-d537-4194-c3d3-4c8026d3136a"
      },
      "execution_count": null,
      "outputs": [
        {
          "output_type": "stream",
          "name": "stdout",
          "text": [
            "10308\n",
            "29031\n"
          ]
        }
      ]
    },
    {
      "cell_type": "code",
      "source": [
        "tknizer_eng.word_index['<start>'], tknizer_eng.word_index['<end>']"
      ],
      "metadata": {
        "colab": {
          "base_uri": "https://localhost:8080/"
        },
        "id": "HqHex99Lzjw5",
        "outputId": "2c825d74-649a-4dec-ea6c-5ff7e2fbeee9"
      },
      "execution_count": null,
      "outputs": [
        {
          "output_type": "execute_result",
          "data": {
            "text/plain": [
              "(1, 8163)"
            ]
          },
          "metadata": {},
          "execution_count": 33
        }
      ]
    },
    {
      "cell_type": "code",
      "source": [
        "eng_dict = {}\n",
        "for key, value in tknizer_eng.word_index.items():\n",
        "  eng_dict[value] = key"
      ],
      "metadata": {
        "id": "OJTDOFfazlaB"
      },
      "execution_count": null,
      "outputs": []
    },
    {
      "cell_type": "code",
      "source": [
        "tknizer_eng.word_index['<start>'], tknizer_eng.word_index['<end>']"
      ],
      "metadata": {
        "id": "_yKCLJXqNHbi",
        "outputId": "7490683b-0342-4827-e1bc-b19b1e505da9",
        "colab": {
          "base_uri": "https://localhost:8080/"
        }
      },
      "execution_count": null,
      "outputs": [
        {
          "output_type": "execute_result",
          "data": {
            "text/plain": [
              "(1, 8163)"
            ]
          },
          "metadata": {},
          "execution_count": 34
        }
      ]
    },
    {
      "cell_type": "code",
      "source": [
        "embeddings_index = dict()\n",
        "f = open('glove.6B.100d.txt')\n",
        "for line in f:\n",
        "    values = line.split()\n",
        "    word = values[0]\n",
        "    coefs = np.asarray(values[1:], dtype='float32')\n",
        "    embeddings_index[word] = coefs\n",
        "f.close()\n",
        "\n",
        "embedding_matrix = np.zeros((vocab_size_ans+1, 100))\n",
        "for word, i in tknizer_eng.word_index.items():\n",
        "    embedding_vector = embeddings_index.get(word)\n",
        "    if embedding_vector is not None:\n",
        "        embedding_matrix[i] = embedding_vector"
      ],
      "metadata": {
        "id": "vI5eU9qhzq0H"
      },
      "execution_count": null,
      "outputs": []
    },
    {
      "cell_type": "markdown",
      "source": [
        "## <font color='blue'>**Implement custom encoder decoder**</font>"
      ],
      "metadata": {
        "id": "S8RDrP4xKabR"
      }
    },
    {
      "cell_type": "markdown",
      "source": [
        "<font color='blue'>**Encoder**</font>"
      ],
      "metadata": {
        "id": "A45uc0JILMlV"
      }
    },
    {
      "cell_type": "code",
      "source": [
        "class Encoder(tf.keras.Model):\n",
        "\n",
        "    def __init__(self,inp_vocab_size,embedding_size,enc_units,input_length):\n",
        "\n",
        "        super(Encoder,self).__init__()\n",
        "        self.inp_vocab_size = inp_vocab_size\n",
        "        self.enc_units = enc_units\n",
        "        #Initialize Embedding layer\n",
        "        self.embedding = Embedding(input_dim = inp_vocab_size, output_dim = embedding_size, input_length = input_length, name=\"embedding_layer_encoder\")\n",
        "        \n",
        "        #Intialize Encoder LSTM layer\n",
        "        self.lstm = LSTM(enc_units,return_state=True,return_sequences=True,name=\"Encoder_LSTM\")\n",
        "\n",
        "\n",
        "    def call(self,input_sequence,states):\n",
        "\n",
        "        input_embed = self.embedding(input_sequence)\n",
        "        self.lstm_output, self.lstm_state_h,self.lstm_state_c = self.lstm(\n",
        "            input_embed,initial_state = [states[0], states[1]])\n",
        "                \n",
        "        return self.lstm_output, self.lstm_state_h,self.lstm_state_c\n",
        "\n",
        "\n",
        "    def initialize_states(self,batch_size):\n",
        "      self.state_h = tf.zeros((batch_size, self.enc_units))\n",
        "      self.state_c = tf.zeros((batch_size, self.enc_units))\n",
        "\n",
        "      return self.state_h ,self.state_c\n",
        "      \n"
      ],
      "metadata": {
        "id": "9cex2XfCLOew"
      },
      "execution_count": null,
      "outputs": []
    },
    {
      "cell_type": "code",
      "source": [
        "class Decoder(tf.keras.Model):\n",
        "    def __init__(self,out_vocab_size,embedding_size,dec_units,input_length):\n",
        "        super(Decoder, self).__init__()\n",
        "        self.out_vocab_size = out_vocab_size\n",
        "     \n",
        "        #Initialize Embedding layer\n",
        "        self.embedding = Embedding(input_dim = out_vocab_size, output_dim = embedding_size, input_length = input_length, name=\"embedding_layer_decoder\")\n",
        "\n",
        "        #Intialize Decoder LSTM layer\n",
        "        self.lstm = LSTM(dec_units, return_sequences=True, return_state=True, name=\"Decoder_LSTM\")\n",
        "        \n",
        "\n",
        "\n",
        "    def call(self,target_sentances,initial_states):\n",
        "   \n",
        "        target_embedd = self.embedding(target_sentances)\n",
        "        self.decoder_output,self.decoder_hidden_state,self.decoder_cell_state = self.lstm(\n",
        "            target_embedd, initial_state = [initial_states[0], initial_states[1]])\n",
        "        \n",
        "        return self.decoder_output, self.decoder_hidden_state, self.decoder_cell_state\n",
        "\n",
        "      \n"
      ],
      "metadata": {
        "id": "x1ES1-sJLOe4"
      },
      "execution_count": null,
      "outputs": []
    },
    {
      "cell_type": "code",
      "source": [
        "class Encoder_decoder(tf.keras.Model):\n",
        "    \n",
        "    def __init__(self,encoder_inputs_length,decoder_inputs_length,encoder_vocab_size,decoder_vocab_size,encoder_embed_size,decoder_embed_size,output_vocab_size,):\n",
        "        super().__init__()\n",
        "        \n",
        "        #Create encoder object\n",
        "        self.encoder = Encoder(inp_vocab_size = encoder_vocab_size, embedding_size = encoder_embed_size, input_length = encoder_inputs_length, enc_units=256)\n",
        "        #Create decoder object\n",
        "        self.decoder = Decoder(out_vocab_size = decoder_vocab_size,embedding_size= decoder_embed_size,input_length = decoder_inputs_length,dec_units=256)\n",
        "        #Intialize Dense layer(out_vocab_size) with activation='softmax'\n",
        "        self.dense = Dense(output_vocab_size, activation='softmax')\n",
        "        \n",
        "    \n",
        "    def call(self,data):\n",
        "    \n",
        "        encoder_input,decoder_input = data[0], data[1]\n",
        "        #Intializing encoder initial states\n",
        "        initial_state = self.encoder.initialize_states(1024)\n",
        "        encoder_output, encoder_h, encoder_c = self.encoder(encoder_input,initial_state)\n",
        "        decoder_output,_,_ = self.decoder(decoder_input, [encoder_h, encoder_c])\n",
        "        output = self.dense(decoder_output)\n",
        "        return output\n",
        "        \n",
        "        "
      ],
      "metadata": {
        "id": "BXrIj4scLOe_"
      },
      "execution_count": null,
      "outputs": []
    },
    {
      "cell_type": "code",
      "source": [
        "#calculate FP, FN, TP, TN wrt text data"
      ],
      "metadata": {
        "id": "yKVbh0MK1Nh0"
      },
      "execution_count": null,
      "outputs": []
    },
    {
      "cell_type": "markdown",
      "source": [
        "## Creating data pipeline"
      ],
      "metadata": {
        "id": "sKsHOD3vUgPp"
      }
    },
    {
      "cell_type": "code",
      "source": [
        "class Dataset:\n",
        "    def __init__(self, data, tknizer_ita, tknizer_eng, max_len):\n",
        "        self.encoder_inps = data['questionText'].values\n",
        "        self.decoder_inps = data['ans_inp'].values\n",
        "        self.decoder_outs = data['ans_out'].values\n",
        "        self.tknizer_eng = tknizer_eng\n",
        "        self.tknizer_ita = tknizer_ita\n",
        "        self.max_len = max_len\n",
        "\n",
        "    def __getitem__(self, i):\n",
        "        self.encoder_seq = self.tknizer_ita.texts_to_sequences([self.encoder_inps[i]]) # need to pass list of values\n",
        "        self.decoder_inp_seq = self.tknizer_eng.texts_to_sequences([self.decoder_inps[i]])\n",
        "        self.decoder_out_seq = self.tknizer_eng.texts_to_sequences([self.decoder_outs[i]])\n",
        "\n",
        "        self.encoder_seq = pad_sequences(self.encoder_seq, maxlen=self.max_len, dtype='int32', padding='post')\n",
        "        self.decoder_inp_seq = pad_sequences(self.decoder_inp_seq, maxlen=self.max_len, dtype='int32', padding='post')\n",
        "        self.decoder_out_seq = pad_sequences(self.decoder_out_seq, maxlen=self.max_len, dtype='int32', padding='post')\n",
        "        return self.encoder_seq, self.decoder_inp_seq, self.decoder_out_seq\n",
        "\n",
        "    def __len__(self): # your model.fit_gen requires this function\n",
        "        return len(self.encoder_inps)\n",
        "\n",
        "    \n",
        "class Dataloder(tf.keras.utils.Sequence):    \n",
        "    def __init__(self, dataset, batch_size=1):\n",
        "        self.dataset = dataset\n",
        "        self.batch_size = batch_size\n",
        "        self.indexes = np.arange(len(self.dataset.encoder_inps))\n",
        "\n",
        "\n",
        "    def __getitem__(self, i):\n",
        "        start = i * self.batch_size\n",
        "        stop = (i + 1) * self.batch_size\n",
        "        data = []\n",
        "        for j in range(start, stop):\n",
        "            data.append(self.dataset[j])\n",
        "\n",
        "        batch = [np.squeeze(np.stack(samples, axis=1), axis=0) for samples in zip(*data)]\n",
        "        # we are creating data like ([italian, english_inp], english_out) these are already converted into seq\n",
        "        return tuple([[batch[0],batch[1]],batch[2]])\n",
        "\n",
        "    def __len__(self):  # your model.fit_gen requires this function\n",
        "        return len(self.indexes) // self.batch_size\n",
        "\n",
        "    def on_epoch_end(self):\n",
        "        self.indexes = np.random.permutation(self.indexes)"
      ],
      "metadata": {
        "id": "NhXydgCQUeva"
      },
      "execution_count": null,
      "outputs": []
    },
    {
      "cell_type": "code",
      "source": [
        "train_dataset = Dataset(train, tknizer_ita, tknizer_eng, 25)\n",
        "test_dataset  = Dataset(validation, tknizer_ita, tknizer_eng, 25)\n",
        "\n",
        "train_dataloader = Dataloder(train_dataset, batch_size=1024)\n",
        "test_dataloader = Dataloder(test_dataset, batch_size=1024)\n",
        "\n",
        "\n",
        "print(train_dataloader[0][0][0].shape, train_dataloader[0][0][1].shape, train_dataloader[0][1].shape)"
      ],
      "metadata": {
        "id": "Yfa9NtJTU3e_",
        "outputId": "50e4ae7a-653f-4ef6-9a00-7148d9161375",
        "colab": {
          "base_uri": "https://localhost:8080/"
        }
      },
      "execution_count": null,
      "outputs": [
        {
          "output_type": "stream",
          "name": "stdout",
          "text": [
            "(1024, 25) (1024, 25) (1024, 25)\n"
          ]
        }
      ]
    },
    {
      "cell_type": "code",
      "source": [
        "test_dataloader[0][0][0]"
      ],
      "metadata": {
        "id": "wUNiljSmUL6t",
        "outputId": "143dabb9-bd7d-4b0a-ce76-cd46c2373d81",
        "colab": {
          "base_uri": "https://localhost:8080/"
        }
      },
      "execution_count": null,
      "outputs": [
        {
          "output_type": "execute_result",
          "data": {
            "text/plain": [
              "array([[   4,    1,   39, ...,    0,    0,    0],\n",
              "       [   4,    1,  213, ...,    0,    0,    0],\n",
              "       [  10,   24,  398, ...,    0,    0,    0],\n",
              "       ...,\n",
              "       [  10,   26,   30, ...,    0,    0,    0],\n",
              "       [   9,    4, 4319, ...,    0,    0,    0],\n",
              "       [   3,    2, 4171, ...,    0,    0,    0]], dtype=int32)"
            ]
          },
          "metadata": {},
          "execution_count": 90
        }
      ]
    },
    {
      "cell_type": "code",
      "source": [
        "# this is the same model we have given in the other reference notebook\n",
        "class MyModel(Model):\n",
        "    def __init__(self, encoder_inputs_length,decoder_inputs_length, output_vocab_size):\n",
        "        super().__init__() # https://stackoverflow.com/a/27134600/4084039\n",
        "        self.encoder = Encoder(vocab_size=vocab_size_que+1, embedding_dim=50, input_length=encoder_inputs_length, enc_units=256)\n",
        "        self.decoder = Decoder(vocab_size=vocab_size_ans+1, embedding_dim=100, input_length=decoder_inputs_length, dec_units=256)\n",
        "        self.dense   = Dense(output_vocab_size, activation='softmax')  \n",
        "    def call(self, data):\n",
        "        input,output = data[0], data[1]\n",
        "        encoder_output, encoder_h, encoder_c = self.encoder(input)\n",
        "        decoder_output                       = self.decoder(output, encoder_h, encoder_c)\n",
        "        output                               = self.dense(decoder_output)\n",
        "        return output"
      ],
      "metadata": {
        "id": "YnB-QwbA0B2p"
      },
      "execution_count": null,
      "outputs": []
    },
    {
      "cell_type": "code",
      "source": [
        "model = Encoder_decoder(encoder_inputs_length=22,decoder_inputs_length=25,encoder_vocab_size = vocab_size_que + 1,\n",
        "                         decoder_vocab_size = vocab_size_ans + 1,encoder_embed_size = 100,decoder_embed_size = 100,output_vocab_size = vocab_size_ans)\n",
        "optimizer = tf.keras.optimizers.Adam()\n",
        "model.compile(optimizer=optimizer,loss='sparse_categorical_crossentropy', metrics = ['accuracy'])\n",
        "train_steps=train.shape[0]//1024\n",
        "valid_steps=validation.shape[0]//1024\n",
        "#tensorboard = TensorBoard(log_dir='/content/sample_data/logs', histogram_freq=1,write_graph=True)\n",
        "# tensorboard callback\n",
        "log_dir = '/content/sample_data/logs'\n",
        "tensorboard_cb = TensorBoard(log_dir=log_dir)\n",
        "model.fit(train_dataloader, steps_per_epoch=train_steps, epochs=10, validation_data=train_dataloader, validation_steps=valid_steps,callbacks = tensorboard_cb)\n",
        "model.summary()"
      ],
      "metadata": {
        "id": "kcL61dJXLOfB"
      },
      "execution_count": null,
      "outputs": []
    },
    {
      "cell_type": "code",
      "source": [
        "model = Encoder_decoder(encoder_inputs_length=22,decoder_inputs_length=25,encoder_vocab_size = vocab_size_que + 1,\n",
        "                         decoder_vocab_size = vocab_size_ans + 1,encoder_embed_size = 100,decoder_embed_size = 100,output_vocab_size = vocab_size_ans)\n",
        "optimizer = tf.keras.optimizers.Adam()\n",
        "model.compile(optimizer=optimizer,loss='sparse_categorical_crossentropy', metrics = ['accuracy'])\n",
        "train_steps=train.shape[0]//1024\n",
        "valid_steps=validation.shape[0]//1024\n",
        "#tensorboard = TensorBoard(log_dir='/content/sample_data/logs', histogram_freq=1,write_graph=True)\n",
        "# tensorboard callback\n",
        "log_dir = '/content/sample_data/logs'\n",
        "tensorboard_cb = TensorBoard(log_dir=log_dir)\n",
        "model.fit(train_dataloader, steps_per_epoch=train_steps, epochs=10, validation_data=test_dataloader, validation_steps=valid_steps,callbacks = tensorboard_cb)\n",
        "model.summary()"
      ],
      "metadata": {
        "id": "zXlcavBI1Y11"
      },
      "execution_count": null,
      "outputs": []
    },
    {
      "cell_type": "code",
      "source": [
        "# make lookup table\n",
        "eng_index_word={}\n",
        "eng_word_index={}\n",
        "for key,value in tknizer_eng.word_index.items():\n",
        "  eng_index_word[value]=key\n",
        "  eng_word_index[key]=value"
      ],
      "metadata": {
        "id": "7K3GrqqQ18Iu"
      },
      "execution_count": null,
      "outputs": []
    },
    {
      "cell_type": "code",
      "source": [
        "eng_dict = {}\n",
        "for key, value in tknizer_eng.word_index.items():\n",
        "  eng_dict[value] = key"
      ],
      "metadata": {
        "id": "5uAD5QShu4Ja"
      },
      "execution_count": null,
      "outputs": []
    },
    {
      "cell_type": "code",
      "source": [
        "def predict(input_sentence):\n",
        "\n",
        "\n",
        "  sent_token = tknizer_ita.texts_to_sequences([input_sentence])\n",
        "  sent_token = pad_sequences(sent_token,maxlen=20,padding='post')\n",
        "\n",
        "  \n",
        "  initial_states = model.layers[0].initialize_states(1)\n",
        "  encoder_out, h_state , c_state = model.layers[0](sent_token,initial_states)\n",
        "\n",
        "  states = [h_state , c_state]\n",
        "\n",
        "  sent = ''\n",
        "\n",
        "  target_word = np.array([[1]])\n",
        "  for t in range(25):\n",
        "    predicted_out,state_h,state_c=model.layers[1](target_word,states)\n",
        "    predicted_out = model.layers[2](predicted_out)\n",
        "\n",
        "    states = [state_h,state_c]\n",
        "    target_word = np.reshape(np.argmax(predicted_out), (1, 1))\n",
        "\n",
        "    #sent = ''+ eng_dict[int(target_word)]\n",
        "    sent += eng_dict[int(target_word)]\n",
        "    if int(target_word) == tknizer_eng.word_index['<end>']:\n",
        "      break\n",
        "\n",
        "  return sent\n"
      ],
      "metadata": {
        "id": "SkARSlZgLOfE"
      },
      "execution_count": null,
      "outputs": []
    },
    {
      "cell_type": "code",
      "source": [
        "from keras.preprocessing.text import text_to_word_sequence\n",
        "text_to_word_sequence('will this fit a 2008 a frontier 6 bed')"
      ],
      "metadata": {
        "colab": {
          "base_uri": "https://localhost:8080/"
        },
        "id": "PRC7SQkdJN2N",
        "outputId": "720b4822-0bae-4d9a-9178-78d54d806f20"
      },
      "execution_count": null,
      "outputs": [
        {
          "output_type": "execute_result",
          "data": {
            "text/plain": [
              "['will', 'this', 'fit', 'a', '2008', 'a', 'frontier', '6', 'bed']"
            ]
          },
          "metadata": {},
          "execution_count": 101
        }
      ]
    },
    {
      "cell_type": "code",
      "source": [
        "train"
      ],
      "metadata": {
        "id": "xHLzEHr9Z7wO"
      },
      "execution_count": null,
      "outputs": []
    },
    {
      "cell_type": "markdown",
      "source": [
        "**Post training analysis:**"
      ],
      "metadata": {
        "id": "Pg-4T_AQj74o"
      }
    },
    {
      "cell_type": "code",
      "source": [
        "orig_sent = []\n",
        "question = []\n",
        "for i in range(2000):\n",
        "  train_ans = train['ans_out'].iloc[i]\n",
        "  orig_sent.append(train_ans.replace(\" <end>\",\"\"))\n",
        "  question.append(train['questionText'].iloc[i])"
      ],
      "metadata": {
        "id": "U1NBQItANc-J"
      },
      "execution_count": 155,
      "outputs": []
    },
    {
      "cell_type": "code",
      "source": [
        "pred_sent = []\n",
        "for i in range(2000):\n",
        "  prediction = predict(train['questionText'].iloc[i]).split()\n",
        "  for j in prediction:\n",
        "    prediction += j\n",
        "    pred_sent.extend(j.replace('<end>',''))"
      ],
      "metadata": {
        "id": "Xc46ilmjA-22"
      },
      "execution_count": null,
      "outputs": []
    },
    {
      "cell_type": "code",
      "source": [
        "import collections\n",
        "def f1_score(true,pred):\n",
        "  true_tokens = text_to_word_sequence(true)\n",
        "  pred_tokens = text_to_word_sequence(pred)\n",
        "  common = collections.Counter(true_tokens) & collections.Counter(pred_tokens)\n",
        "  num_same = sum(common.values())\n",
        "  if len(true_tokens) ==0 or len(pred_tokens) == 0:\n",
        "    return int(true_tokens == pred_tokens)\n",
        "\n",
        "  if num_same == 0:\n",
        "    return 0\n",
        "\n",
        "  precision = 1.0 * num_same/ len(pred_tokens)\n",
        "  recall = 1.0 * num_same/len(true_tokens)\n",
        "  f1_score = (2*precision*recall) /(precision + recall)\n",
        "  return f1_score"
      ],
      "metadata": {
        "id": "WVVY9ReYDAIv"
      },
      "execution_count": 146,
      "outputs": []
    },
    {
      "cell_type": "code",
      "source": [
        "df = pd.DataFrame(list(zip(question, orig_sent,pred_sent)), columns = ['question','original', 'predicted'])"
      ],
      "metadata": {
        "id": "FYPMha5mWuKP"
      },
      "execution_count": 156,
      "outputs": []
    },
    {
      "cell_type": "code",
      "source": [
        "f1_scores = []\n",
        "for index, row in df.iterrows():\n",
        "      f1 = f1_score(row['original'], row['predicted'])\n",
        "      f1_scores.append(f1)"
      ],
      "metadata": {
        "id": "2r1USNAKXEYH"
      },
      "execution_count": 161,
      "outputs": []
    },
    {
      "cell_type": "code",
      "source": [
        "df['f1_scores'] = f1_scores"
      ],
      "metadata": {
        "id": "30-ke5tDcM9f"
      },
      "execution_count": 163,
      "outputs": []
    },
    {
      "cell_type": "code",
      "source": [
        "rating = []\n",
        "for row in df['f1_scores']:\n",
        "  if row >= 0 and row <= 0.3 :    rating.append('bad')\n",
        "  elif row > 0.3 and row <=0.7 :   rating.append('good')\n",
        "  elif row > 0.7:  rating.append('best')\n",
        "\n",
        "  else:           \n",
        "    rating.append('Not_Rated')"
      ],
      "metadata": {
        "id": "dk5_J09Gc6p9"
      },
      "execution_count": 165,
      "outputs": []
    },
    {
      "cell_type": "code",
      "source": [
        "df['rating'] = rating"
      ],
      "metadata": {
        "id": "deZFsstFjO6q"
      },
      "execution_count": 167,
      "outputs": []
    },
    {
      "cell_type": "code",
      "source": [
        "df.head(50)"
      ],
      "metadata": {
        "colab": {
          "base_uri": "https://localhost:8080/",
          "height": 1000
        },
        "id": "A_ZnG1y5jR4t",
        "outputId": "9dca9455-f80b-40ca-8ce9-abdb2d931783"
      },
      "execution_count": 172,
      "outputs": [
        {
          "output_type": "execute_result",
          "data": {
            "text/plain": [
              "                                               question            original  \\\n",
              "616     does it come with a base as in the image online         yes it does   \n",
              "1872     will it fit a eos rebel t2i with a 1855mm lens                 yes   \n",
              "1002                            is this a 2014 calendar                 yes   \n",
              "1369                     does it come with a microphone                 yes   \n",
              "1248          is this lamp electronic or magnetic model             electrc   \n",
              "1731            does this work with android phones also  yes and blackberry   \n",
              "1414                      is this pretempered chocolate                 yes   \n",
              "663    what hose do you use for thr tail of the polaris           tail hose   \n",
              "1340             will these tapes fit into a car stereo                 yes   \n",
              "222                                        wattage draw             62 amps   \n",
              "1046        will this pad fit a strap that is 1 12 wide                 yes   \n",
              "132      can you tell me how high the counter is thanks           21 inches   \n",
              "1929                             is the filter washable                 yes   \n",
              "661                          what is the center hole id               12 in   \n",
              "703              could you use it for a pool basketball                  no   \n",
              "378                           can i download kodi on it         yes you can   \n",
              "979               does it fit on a 97 gmc 2500 long box                 yes   \n",
              "1928  17x32 where is this messurement is this the ho...          glass size   \n",
              "123               will this drive work on a asus laptop                 yes   \n",
              "740                                             plumbed                 yes   \n",
              "1723                        when is the expiration date             6 16 29   \n",
              "1986                  does it protect well against wind                 yes   \n",
              "1040  does this headset come with the case shown in ...                 yes   \n",
              "1404    it is 58 inches longhow tall never mindfound it         2312 inches   \n",
              "1206        can you take pictures with it in the wallet                yes    \n",
              "1642                               is it a nice product     yes works great   \n",
              "271                            do they have any pockets       no no pockets   \n",
              "1972                                  does it have wifi       no it doesnt    \n",
              "1247  i wanted to know in which language this game  ...             english   \n",
              "54                  can you use this tuner on a ukulele                 yes   \n",
              "455   can you connect more than one transmitter to t...                  no   \n",
              "544                   does it require a dormancy period                  no   \n",
              "1708  my shoe size is womens seven what size should ...               small   \n",
              "212                                    is this bpa free                  no   \n",
              "1174       does this cable support both audio and video                 yes   \n",
              "1324              does it fit the hoover model u5445900                  no   \n",
              "668   will the battery last at least 4 hours of cont...                 yes   \n",
              "1316  where is this set manufactured indonesia or ch...           indonesia   \n",
              "681                is it compatible with playstation tv                 yes   \n",
              "1495                            do these come staggered                  no   \n",
              "631                                how long is the cord        about 6 feet   \n",
              "217   is this compatable with the insteon mini remot...                 yes   \n",
              "503   are these headphones comfortable for eyeglass ...        yes they are   \n",
              "955     does it make a click noise when depressing keys                 yes   \n",
              "96                           connect to which post  or        negative side   \n",
              "401                          will it display date taken    unfortunately no   \n",
              "1416                          is this for the year 2014                 yes   \n",
              "1646  could this possibly work with the virtualdj so...                 yes   \n",
              "1640    what material is the rooster lazy susan made of                wood   \n",
              "1385                          is this kaneka ubiquinol                  yes   \n",
              "\n",
              "             predicted  f1_scores rating  \n",
              "616        yes it does        1.0   best  \n",
              "1872               yes        1.0   best  \n",
              "1002               yes        1.0   best  \n",
              "1369               yes        1.0   best  \n",
              "1248           electrc        1.0   best  \n",
              "1731               yes        0.5   good  \n",
              "1414               yes        1.0   best  \n",
              "663          tail hose        1.0   best  \n",
              "1340               yes        1.0   best  \n",
              "222            62 amps        1.0   best  \n",
              "1046               yes        1.0   best  \n",
              "132          21 inches        1.0   best  \n",
              "1929               yes        1.0   best  \n",
              "661              12 in        1.0   best  \n",
              "703                 no        1.0   best  \n",
              "378        yes you can        1.0   best  \n",
              "979                yes        1.0   best  \n",
              "1928               yes        0.0    bad  \n",
              "123                yes        1.0   best  \n",
              "740                yes        1.0   best  \n",
              "1723               yes        0.0    bad  \n",
              "1986               yes        1.0   best  \n",
              "1040               yes        1.0   best  \n",
              "1404       2312 inches        1.0   best  \n",
              "1206              yes         1.0   best  \n",
              "1642               yes        0.5   good  \n",
              "271      no no pockets        1.0   best  \n",
              "1972               yes        0.0    bad  \n",
              "1247           english        1.0   best  \n",
              "54                 yes        1.0   best  \n",
              "455                 no        1.0   best  \n",
              "544                 no        1.0   best  \n",
              "1708               yes        0.0    bad  \n",
              "212                 no        1.0   best  \n",
              "1174               yes        1.0   best  \n",
              "1324                no        1.0   best  \n",
              "668                yes        1.0   best  \n",
              "1316         indonesia        1.0   best  \n",
              "681                yes        1.0   best  \n",
              "1495                no        1.0   best  \n",
              "631       about 6 feet        1.0   best  \n",
              "217                yes        1.0   best  \n",
              "503       yes they are        1.0   best  \n",
              "955                yes        1.0   best  \n",
              "96       negative side        1.0   best  \n",
              "401   unfortunately no        1.0   best  \n",
              "1416               yes        1.0   best  \n",
              "1646               yes        1.0   best  \n",
              "1640               yes        0.0    bad  \n",
              "1385               yes        1.0   best  "
            ],
            "text/html": [
              "\n",
              "  <div id=\"df-ce36fa8c-f93e-49be-abb3-d06ea9f040f1\">\n",
              "    <div class=\"colab-df-container\">\n",
              "      <div>\n",
              "<style scoped>\n",
              "    .dataframe tbody tr th:only-of-type {\n",
              "        vertical-align: middle;\n",
              "    }\n",
              "\n",
              "    .dataframe tbody tr th {\n",
              "        vertical-align: top;\n",
              "    }\n",
              "\n",
              "    .dataframe thead th {\n",
              "        text-align: right;\n",
              "    }\n",
              "</style>\n",
              "<table border=\"1\" class=\"dataframe\">\n",
              "  <thead>\n",
              "    <tr style=\"text-align: right;\">\n",
              "      <th></th>\n",
              "      <th>question</th>\n",
              "      <th>original</th>\n",
              "      <th>predicted</th>\n",
              "      <th>f1_scores</th>\n",
              "      <th>rating</th>\n",
              "    </tr>\n",
              "  </thead>\n",
              "  <tbody>\n",
              "    <tr>\n",
              "      <th>616</th>\n",
              "      <td>does it come with a base as in the image online</td>\n",
              "      <td>yes it does</td>\n",
              "      <td>yes it does</td>\n",
              "      <td>1.0</td>\n",
              "      <td>best</td>\n",
              "    </tr>\n",
              "    <tr>\n",
              "      <th>1872</th>\n",
              "      <td>will it fit a eos rebel t2i with a 1855mm lens</td>\n",
              "      <td>yes</td>\n",
              "      <td>yes</td>\n",
              "      <td>1.0</td>\n",
              "      <td>best</td>\n",
              "    </tr>\n",
              "    <tr>\n",
              "      <th>1002</th>\n",
              "      <td>is this a 2014 calendar</td>\n",
              "      <td>yes</td>\n",
              "      <td>yes</td>\n",
              "      <td>1.0</td>\n",
              "      <td>best</td>\n",
              "    </tr>\n",
              "    <tr>\n",
              "      <th>1369</th>\n",
              "      <td>does it come with a microphone</td>\n",
              "      <td>yes</td>\n",
              "      <td>yes</td>\n",
              "      <td>1.0</td>\n",
              "      <td>best</td>\n",
              "    </tr>\n",
              "    <tr>\n",
              "      <th>1248</th>\n",
              "      <td>is this lamp electronic or magnetic model</td>\n",
              "      <td>electrc</td>\n",
              "      <td>electrc</td>\n",
              "      <td>1.0</td>\n",
              "      <td>best</td>\n",
              "    </tr>\n",
              "    <tr>\n",
              "      <th>1731</th>\n",
              "      <td>does this work with android phones also</td>\n",
              "      <td>yes and blackberry</td>\n",
              "      <td>yes</td>\n",
              "      <td>0.5</td>\n",
              "      <td>good</td>\n",
              "    </tr>\n",
              "    <tr>\n",
              "      <th>1414</th>\n",
              "      <td>is this pretempered chocolate</td>\n",
              "      <td>yes</td>\n",
              "      <td>yes</td>\n",
              "      <td>1.0</td>\n",
              "      <td>best</td>\n",
              "    </tr>\n",
              "    <tr>\n",
              "      <th>663</th>\n",
              "      <td>what hose do you use for thr tail of the polaris</td>\n",
              "      <td>tail hose</td>\n",
              "      <td>tail hose</td>\n",
              "      <td>1.0</td>\n",
              "      <td>best</td>\n",
              "    </tr>\n",
              "    <tr>\n",
              "      <th>1340</th>\n",
              "      <td>will these tapes fit into a car stereo</td>\n",
              "      <td>yes</td>\n",
              "      <td>yes</td>\n",
              "      <td>1.0</td>\n",
              "      <td>best</td>\n",
              "    </tr>\n",
              "    <tr>\n",
              "      <th>222</th>\n",
              "      <td>wattage draw</td>\n",
              "      <td>62 amps</td>\n",
              "      <td>62 amps</td>\n",
              "      <td>1.0</td>\n",
              "      <td>best</td>\n",
              "    </tr>\n",
              "    <tr>\n",
              "      <th>1046</th>\n",
              "      <td>will this pad fit a strap that is 1 12 wide</td>\n",
              "      <td>yes</td>\n",
              "      <td>yes</td>\n",
              "      <td>1.0</td>\n",
              "      <td>best</td>\n",
              "    </tr>\n",
              "    <tr>\n",
              "      <th>132</th>\n",
              "      <td>can you tell me how high the counter is thanks</td>\n",
              "      <td>21 inches</td>\n",
              "      <td>21 inches</td>\n",
              "      <td>1.0</td>\n",
              "      <td>best</td>\n",
              "    </tr>\n",
              "    <tr>\n",
              "      <th>1929</th>\n",
              "      <td>is the filter washable</td>\n",
              "      <td>yes</td>\n",
              "      <td>yes</td>\n",
              "      <td>1.0</td>\n",
              "      <td>best</td>\n",
              "    </tr>\n",
              "    <tr>\n",
              "      <th>661</th>\n",
              "      <td>what is the center hole id</td>\n",
              "      <td>12 in</td>\n",
              "      <td>12 in</td>\n",
              "      <td>1.0</td>\n",
              "      <td>best</td>\n",
              "    </tr>\n",
              "    <tr>\n",
              "      <th>703</th>\n",
              "      <td>could you use it for a pool basketball</td>\n",
              "      <td>no</td>\n",
              "      <td>no</td>\n",
              "      <td>1.0</td>\n",
              "      <td>best</td>\n",
              "    </tr>\n",
              "    <tr>\n",
              "      <th>378</th>\n",
              "      <td>can i download kodi on it</td>\n",
              "      <td>yes you can</td>\n",
              "      <td>yes you can</td>\n",
              "      <td>1.0</td>\n",
              "      <td>best</td>\n",
              "    </tr>\n",
              "    <tr>\n",
              "      <th>979</th>\n",
              "      <td>does it fit on a 97 gmc 2500 long box</td>\n",
              "      <td>yes</td>\n",
              "      <td>yes</td>\n",
              "      <td>1.0</td>\n",
              "      <td>best</td>\n",
              "    </tr>\n",
              "    <tr>\n",
              "      <th>1928</th>\n",
              "      <td>17x32 where is this messurement is this the ho...</td>\n",
              "      <td>glass size</td>\n",
              "      <td>yes</td>\n",
              "      <td>0.0</td>\n",
              "      <td>bad</td>\n",
              "    </tr>\n",
              "    <tr>\n",
              "      <th>123</th>\n",
              "      <td>will this drive work on a asus laptop</td>\n",
              "      <td>yes</td>\n",
              "      <td>yes</td>\n",
              "      <td>1.0</td>\n",
              "      <td>best</td>\n",
              "    </tr>\n",
              "    <tr>\n",
              "      <th>740</th>\n",
              "      <td>plumbed</td>\n",
              "      <td>yes</td>\n",
              "      <td>yes</td>\n",
              "      <td>1.0</td>\n",
              "      <td>best</td>\n",
              "    </tr>\n",
              "    <tr>\n",
              "      <th>1723</th>\n",
              "      <td>when is the expiration date</td>\n",
              "      <td>6 16 29</td>\n",
              "      <td>yes</td>\n",
              "      <td>0.0</td>\n",
              "      <td>bad</td>\n",
              "    </tr>\n",
              "    <tr>\n",
              "      <th>1986</th>\n",
              "      <td>does it protect well against wind</td>\n",
              "      <td>yes</td>\n",
              "      <td>yes</td>\n",
              "      <td>1.0</td>\n",
              "      <td>best</td>\n",
              "    </tr>\n",
              "    <tr>\n",
              "      <th>1040</th>\n",
              "      <td>does this headset come with the case shown in ...</td>\n",
              "      <td>yes</td>\n",
              "      <td>yes</td>\n",
              "      <td>1.0</td>\n",
              "      <td>best</td>\n",
              "    </tr>\n",
              "    <tr>\n",
              "      <th>1404</th>\n",
              "      <td>it is 58 inches longhow tall never mindfound it</td>\n",
              "      <td>2312 inches</td>\n",
              "      <td>2312 inches</td>\n",
              "      <td>1.0</td>\n",
              "      <td>best</td>\n",
              "    </tr>\n",
              "    <tr>\n",
              "      <th>1206</th>\n",
              "      <td>can you take pictures with it in the wallet</td>\n",
              "      <td>yes</td>\n",
              "      <td>yes</td>\n",
              "      <td>1.0</td>\n",
              "      <td>best</td>\n",
              "    </tr>\n",
              "    <tr>\n",
              "      <th>1642</th>\n",
              "      <td>is it a nice product</td>\n",
              "      <td>yes works great</td>\n",
              "      <td>yes</td>\n",
              "      <td>0.5</td>\n",
              "      <td>good</td>\n",
              "    </tr>\n",
              "    <tr>\n",
              "      <th>271</th>\n",
              "      <td>do they have any pockets</td>\n",
              "      <td>no no pockets</td>\n",
              "      <td>no no pockets</td>\n",
              "      <td>1.0</td>\n",
              "      <td>best</td>\n",
              "    </tr>\n",
              "    <tr>\n",
              "      <th>1972</th>\n",
              "      <td>does it have wifi</td>\n",
              "      <td>no it doesnt</td>\n",
              "      <td>yes</td>\n",
              "      <td>0.0</td>\n",
              "      <td>bad</td>\n",
              "    </tr>\n",
              "    <tr>\n",
              "      <th>1247</th>\n",
              "      <td>i wanted to know in which language this game  ...</td>\n",
              "      <td>english</td>\n",
              "      <td>english</td>\n",
              "      <td>1.0</td>\n",
              "      <td>best</td>\n",
              "    </tr>\n",
              "    <tr>\n",
              "      <th>54</th>\n",
              "      <td>can you use this tuner on a ukulele</td>\n",
              "      <td>yes</td>\n",
              "      <td>yes</td>\n",
              "      <td>1.0</td>\n",
              "      <td>best</td>\n",
              "    </tr>\n",
              "    <tr>\n",
              "      <th>455</th>\n",
              "      <td>can you connect more than one transmitter to t...</td>\n",
              "      <td>no</td>\n",
              "      <td>no</td>\n",
              "      <td>1.0</td>\n",
              "      <td>best</td>\n",
              "    </tr>\n",
              "    <tr>\n",
              "      <th>544</th>\n",
              "      <td>does it require a dormancy period</td>\n",
              "      <td>no</td>\n",
              "      <td>no</td>\n",
              "      <td>1.0</td>\n",
              "      <td>best</td>\n",
              "    </tr>\n",
              "    <tr>\n",
              "      <th>1708</th>\n",
              "      <td>my shoe size is womens seven what size should ...</td>\n",
              "      <td>small</td>\n",
              "      <td>yes</td>\n",
              "      <td>0.0</td>\n",
              "      <td>bad</td>\n",
              "    </tr>\n",
              "    <tr>\n",
              "      <th>212</th>\n",
              "      <td>is this bpa free</td>\n",
              "      <td>no</td>\n",
              "      <td>no</td>\n",
              "      <td>1.0</td>\n",
              "      <td>best</td>\n",
              "    </tr>\n",
              "    <tr>\n",
              "      <th>1174</th>\n",
              "      <td>does this cable support both audio and video</td>\n",
              "      <td>yes</td>\n",
              "      <td>yes</td>\n",
              "      <td>1.0</td>\n",
              "      <td>best</td>\n",
              "    </tr>\n",
              "    <tr>\n",
              "      <th>1324</th>\n",
              "      <td>does it fit the hoover model u5445900</td>\n",
              "      <td>no</td>\n",
              "      <td>no</td>\n",
              "      <td>1.0</td>\n",
              "      <td>best</td>\n",
              "    </tr>\n",
              "    <tr>\n",
              "      <th>668</th>\n",
              "      <td>will the battery last at least 4 hours of cont...</td>\n",
              "      <td>yes</td>\n",
              "      <td>yes</td>\n",
              "      <td>1.0</td>\n",
              "      <td>best</td>\n",
              "    </tr>\n",
              "    <tr>\n",
              "      <th>1316</th>\n",
              "      <td>where is this set manufactured indonesia or ch...</td>\n",
              "      <td>indonesia</td>\n",
              "      <td>indonesia</td>\n",
              "      <td>1.0</td>\n",
              "      <td>best</td>\n",
              "    </tr>\n",
              "    <tr>\n",
              "      <th>681</th>\n",
              "      <td>is it compatible with playstation tv</td>\n",
              "      <td>yes</td>\n",
              "      <td>yes</td>\n",
              "      <td>1.0</td>\n",
              "      <td>best</td>\n",
              "    </tr>\n",
              "    <tr>\n",
              "      <th>1495</th>\n",
              "      <td>do these come staggered</td>\n",
              "      <td>no</td>\n",
              "      <td>no</td>\n",
              "      <td>1.0</td>\n",
              "      <td>best</td>\n",
              "    </tr>\n",
              "    <tr>\n",
              "      <th>631</th>\n",
              "      <td>how long is the cord</td>\n",
              "      <td>about 6 feet</td>\n",
              "      <td>about 6 feet</td>\n",
              "      <td>1.0</td>\n",
              "      <td>best</td>\n",
              "    </tr>\n",
              "    <tr>\n",
              "      <th>217</th>\n",
              "      <td>is this compatable with the insteon mini remot...</td>\n",
              "      <td>yes</td>\n",
              "      <td>yes</td>\n",
              "      <td>1.0</td>\n",
              "      <td>best</td>\n",
              "    </tr>\n",
              "    <tr>\n",
              "      <th>503</th>\n",
              "      <td>are these headphones comfortable for eyeglass ...</td>\n",
              "      <td>yes they are</td>\n",
              "      <td>yes they are</td>\n",
              "      <td>1.0</td>\n",
              "      <td>best</td>\n",
              "    </tr>\n",
              "    <tr>\n",
              "      <th>955</th>\n",
              "      <td>does it make a click noise when depressing keys</td>\n",
              "      <td>yes</td>\n",
              "      <td>yes</td>\n",
              "      <td>1.0</td>\n",
              "      <td>best</td>\n",
              "    </tr>\n",
              "    <tr>\n",
              "      <th>96</th>\n",
              "      <td>connect to which post  or</td>\n",
              "      <td>negative side</td>\n",
              "      <td>negative side</td>\n",
              "      <td>1.0</td>\n",
              "      <td>best</td>\n",
              "    </tr>\n",
              "    <tr>\n",
              "      <th>401</th>\n",
              "      <td>will it display date taken</td>\n",
              "      <td>unfortunately no</td>\n",
              "      <td>unfortunately no</td>\n",
              "      <td>1.0</td>\n",
              "      <td>best</td>\n",
              "    </tr>\n",
              "    <tr>\n",
              "      <th>1416</th>\n",
              "      <td>is this for the year 2014</td>\n",
              "      <td>yes</td>\n",
              "      <td>yes</td>\n",
              "      <td>1.0</td>\n",
              "      <td>best</td>\n",
              "    </tr>\n",
              "    <tr>\n",
              "      <th>1646</th>\n",
              "      <td>could this possibly work with the virtualdj so...</td>\n",
              "      <td>yes</td>\n",
              "      <td>yes</td>\n",
              "      <td>1.0</td>\n",
              "      <td>best</td>\n",
              "    </tr>\n",
              "    <tr>\n",
              "      <th>1640</th>\n",
              "      <td>what material is the rooster lazy susan made of</td>\n",
              "      <td>wood</td>\n",
              "      <td>yes</td>\n",
              "      <td>0.0</td>\n",
              "      <td>bad</td>\n",
              "    </tr>\n",
              "    <tr>\n",
              "      <th>1385</th>\n",
              "      <td>is this kaneka ubiquinol</td>\n",
              "      <td>yes</td>\n",
              "      <td>yes</td>\n",
              "      <td>1.0</td>\n",
              "      <td>best</td>\n",
              "    </tr>\n",
              "  </tbody>\n",
              "</table>\n",
              "</div>\n",
              "      <button class=\"colab-df-convert\" onclick=\"convertToInteractive('df-ce36fa8c-f93e-49be-abb3-d06ea9f040f1')\"\n",
              "              title=\"Convert this dataframe to an interactive table.\"\n",
              "              style=\"display:none;\">\n",
              "        \n",
              "  <svg xmlns=\"http://www.w3.org/2000/svg\" height=\"24px\"viewBox=\"0 0 24 24\"\n",
              "       width=\"24px\">\n",
              "    <path d=\"M0 0h24v24H0V0z\" fill=\"none\"/>\n",
              "    <path d=\"M18.56 5.44l.94 2.06.94-2.06 2.06-.94-2.06-.94-.94-2.06-.94 2.06-2.06.94zm-11 1L8.5 8.5l.94-2.06 2.06-.94-2.06-.94L8.5 2.5l-.94 2.06-2.06.94zm10 10l.94 2.06.94-2.06 2.06-.94-2.06-.94-.94-2.06-.94 2.06-2.06.94z\"/><path d=\"M17.41 7.96l-1.37-1.37c-.4-.4-.92-.59-1.43-.59-.52 0-1.04.2-1.43.59L10.3 9.45l-7.72 7.72c-.78.78-.78 2.05 0 2.83L4 21.41c.39.39.9.59 1.41.59.51 0 1.02-.2 1.41-.59l7.78-7.78 2.81-2.81c.8-.78.8-2.07 0-2.86zM5.41 20L4 18.59l7.72-7.72 1.47 1.35L5.41 20z\"/>\n",
              "  </svg>\n",
              "      </button>\n",
              "      \n",
              "  <style>\n",
              "    .colab-df-container {\n",
              "      display:flex;\n",
              "      flex-wrap:wrap;\n",
              "      gap: 12px;\n",
              "    }\n",
              "\n",
              "    .colab-df-convert {\n",
              "      background-color: #E8F0FE;\n",
              "      border: none;\n",
              "      border-radius: 50%;\n",
              "      cursor: pointer;\n",
              "      display: none;\n",
              "      fill: #1967D2;\n",
              "      height: 32px;\n",
              "      padding: 0 0 0 0;\n",
              "      width: 32px;\n",
              "    }\n",
              "\n",
              "    .colab-df-convert:hover {\n",
              "      background-color: #E2EBFA;\n",
              "      box-shadow: 0px 1px 2px rgba(60, 64, 67, 0.3), 0px 1px 3px 1px rgba(60, 64, 67, 0.15);\n",
              "      fill: #174EA6;\n",
              "    }\n",
              "\n",
              "    [theme=dark] .colab-df-convert {\n",
              "      background-color: #3B4455;\n",
              "      fill: #D2E3FC;\n",
              "    }\n",
              "\n",
              "    [theme=dark] .colab-df-convert:hover {\n",
              "      background-color: #434B5C;\n",
              "      box-shadow: 0px 1px 3px 1px rgba(0, 0, 0, 0.15);\n",
              "      filter: drop-shadow(0px 1px 2px rgba(0, 0, 0, 0.3));\n",
              "      fill: #FFFFFF;\n",
              "    }\n",
              "  </style>\n",
              "\n",
              "      <script>\n",
              "        const buttonEl =\n",
              "          document.querySelector('#df-ce36fa8c-f93e-49be-abb3-d06ea9f040f1 button.colab-df-convert');\n",
              "        buttonEl.style.display =\n",
              "          google.colab.kernel.accessAllowed ? 'block' : 'none';\n",
              "\n",
              "        async function convertToInteractive(key) {\n",
              "          const element = document.querySelector('#df-ce36fa8c-f93e-49be-abb3-d06ea9f040f1');\n",
              "          const dataTable =\n",
              "            await google.colab.kernel.invokeFunction('convertToInteractive',\n",
              "                                                     [key], {});\n",
              "          if (!dataTable) return;\n",
              "\n",
              "          const docLinkHtml = 'Like what you see? Visit the ' +\n",
              "            '<a target=\"_blank\" href=https://colab.research.google.com/notebooks/data_table.ipynb>data table notebook</a>'\n",
              "            + ' to learn more about interactive tables.';\n",
              "          element.innerHTML = '';\n",
              "          dataTable['output_type'] = 'display_data';\n",
              "          await google.colab.output.renderOutput(dataTable, element);\n",
              "          const docLink = document.createElement('div');\n",
              "          docLink.innerHTML = docLinkHtml;\n",
              "          element.appendChild(docLink);\n",
              "        }\n",
              "      </script>\n",
              "    </div>\n",
              "  </div>\n",
              "  "
            ]
          },
          "metadata": {},
          "execution_count": 172
        }
      ]
    },
    {
      "cell_type": "markdown",
      "source": [
        "We could see that we have taken a sample of 2000 datapoints from the big dataset, where we have calculated the f1_scores and gave the ratings based on it.\n",
        "\n",
        "\n",
        "If the score value lied between 0 and 0.3 we rated as bad, if 0.3 to 0.7 good and if it was more than 0.7 we gave it as best. Also we could infer from the above values is that the model performed well where we had yes/no choice of answers, when it came to predicting any number of value other than y/n it could not perform that much good for e.g., 'when is the expiration date', it was supposed to give date value but we instead got yes as output."
      ],
      "metadata": {
        "id": "9WbVRedpjv5C"
      }
    }
  ]
}